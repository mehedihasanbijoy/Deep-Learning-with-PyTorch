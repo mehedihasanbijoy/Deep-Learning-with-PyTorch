{
  "nbformat": 4,
  "nbformat_minor": 0,
  "metadata": {
    "colab": {
      "provenance": []
    },
    "kernelspec": {
      "name": "python3",
      "display_name": "Python 3"
    },
    "language_info": {
      "name": "python"
    }
  },
  "cells": [
    {
      "cell_type": "code",
      "source": [
        "!git clone https://github.com/mehedihasanbijoy/PyTorch-BanglaNLP-Tutorial.git"
      ],
      "metadata": {
        "id": "BDdMx3QyZWqQ"
      },
      "execution_count": null,
      "outputs": []
    },
    {
      "cell_type": "code",
      "source": [
        "# install bnlp toolkit\n",
        "!pip install -U bnlp_toolkit"
      ],
      "metadata": {
        "id": "LhCEMH6WQKDu"
      },
      "execution_count": null,
      "outputs": []
    },
    {
      "cell_type": "code",
      "source": [
        "# install PySpark and Spark NLP\n",
        "!pip install -q pyspark==3.1.2 spark-nlp"
      ],
      "metadata": {
        "colab": {
          "base_uri": "https://localhost:8080/"
        },
        "id": "qZalOMloQKn9",
        "outputId": "b4065f00-bad8-469e-bac8-e066bec2ae9f"
      },
      "execution_count": 3,
      "outputs": [
        {
          "output_type": "stream",
          "name": "stdout",
          "text": [
            "\u001b[K     |████████████████████████████████| 212.4 MB 51 kB/s \n",
            "\u001b[K     |████████████████████████████████| 648 kB 47.4 MB/s \n",
            "\u001b[K     |████████████████████████████████| 198 kB 61.6 MB/s \n",
            "\u001b[?25h  Building wheel for pyspark (setup.py) ... \u001b[?25l\u001b[?25hdone\n"
          ]
        }
      ]
    },
    {
      "cell_type": "code",
      "execution_count": 4,
      "metadata": {
        "id": "1dPCBVyOBhdy",
        "colab": {
          "base_uri": "https://localhost:8080/"
        },
        "outputId": "9646d4b5-8fc4-4cfe-acd6-a533a76b7236"
      },
      "outputs": [
        {
          "output_type": "stream",
          "name": "stdout",
          "text": [
            "punkt not found. downloading...\n"
          ]
        },
        {
          "output_type": "stream",
          "name": "stderr",
          "text": [
            "[nltk_data] Downloading package punkt to /root/nltk_data...\n",
            "[nltk_data]   Unzipping tokenizers/punkt.zip.\n",
            "/usr/local/lib/python3.7/dist-packages/gensim/similarities/__init__.py:15: UserWarning: The gensim.similarities.levenshtein submodule is disabled, because the optional Levenshtein package <https://pypi.org/project/python-Levenshtein/> is unavailable. Install Levenhstein (e.g. `pip install python-Levenshtein`) to suppress this warning.\n",
            "  warnings.warn(msg)\n"
          ]
        }
      ],
      "source": [
        "import pandas as pd\n",
        "import re\n",
        "from bnlp import NLTKTokenizer"
      ]
    },
    {
      "cell_type": "code",
      "source": [
        "df = pd.read_csv('/content/PyTorch-BanglaNLP-Tutorial/0A. Corpus/BanglaEmotion/BanglaEmotion.csv')"
      ],
      "metadata": {
        "id": "BCg11BVmGw4S"
      },
      "execution_count": 5,
      "outputs": []
    },
    {
      "cell_type": "markdown",
      "source": [
        "## Remove Non-Bangla Characters and Irrelevant Punctuation"
      ],
      "metadata": {
        "id": "AQ2xEFvPaUBv"
      }
    },
    {
      "cell_type": "code",
      "source": [
        "# https://en.wikipedia.org/wiki/Bengali_(Unicode_block)\n",
        "\n",
        "def clean_text(text):\n",
        "    regex = re.compile('[^ঀ-ৠ ৳,?।]')\n",
        "    return regex.sub('', text)"
      ],
      "metadata": {
        "id": "oj_rKt7-KhcC"
      },
      "execution_count": 6,
      "outputs": []
    },
    {
      "cell_type": "markdown",
      "source": [
        "## Remove Dublicate Punctuations"
      ],
      "metadata": {
        "id": "nl7jhVhTau4H"
      }
    },
    {
      "cell_type": "code",
      "source": [
        "punctuations = [',', '?', '।']\n",
        "\n",
        "def remove_duplicate_punctuations(text):\n",
        "    _text = [_ for _ in text]\n",
        "\n",
        "    for i in range(len(text)-1):\n",
        "        if text[i] in punctuations and text[i+1] in punctuations:\n",
        "            _text[i] = ''\n",
        "        elif i < len(text)-2 and text[i] in punctuations and text[i+1] == ' ' and text[i+2] in punctuations:\n",
        "            _text[i] = ''\n",
        "    \n",
        "    return ''.join(_text)"
      ],
      "metadata": {
        "id": "m8z1QiMNLs1p"
      },
      "execution_count": 7,
      "outputs": []
    },
    {
      "cell_type": "markdown",
      "source": [
        "## Bangla Tokenizer"
      ],
      "metadata": {
        "id": "Z3XbR9Pxa1CH"
      }
    },
    {
      "cell_type": "code",
      "source": [
        "bnltk = NLTKTokenizer()\n",
        "\n",
        "def tokenizer_bnltk(text):\n",
        "    return bnltk.word_tokenize(text)"
      ],
      "metadata": {
        "id": "W-h4qWBVQeOH"
      },
      "execution_count": 8,
      "outputs": []
    },
    {
      "cell_type": "markdown",
      "source": [
        "## Bangla Lemmatizer"
      ],
      "metadata": {
        "id": "IU5gQQb1a7wJ"
      }
    },
    {
      "cell_type": "code",
      "source": [
        "from pyspark.ml import Pipeline\n",
        "from sparknlp.annotator import *\n",
        "from sparknlp.base import *\n",
        "import sparknlp\n",
        "from sparknlp.pretrained import PretrainedPipeline\n",
        "\n",
        "spark = sparknlp.start()\n",
        "\n",
        "document_assembler = DocumentAssembler().setInputCol(\"text\").setOutputCol(\"document\")\n",
        "tokenizer = Tokenizer().setInputCols([\"document\"]).setOutputCol(\"token\")\n",
        "lemmatizer = LemmatizerModel.pretrained(\"lemma\", \"bn\").setInputCols([\"token\"]).setOutputCol(\"lemma\")\n",
        "nlp_pipeline = Pipeline(stages=[document_assembler, tokenizer, lemmatizer])\n",
        "\n",
        "light_pipeline = LightPipeline(nlp_pipeline.fit(spark.createDataFrame([[\"\"]]).toDF(\"text\")))\n",
        "\n",
        "def find_lemma(word):\n",
        "    lemma = str(light_pipeline.fullAnnotate(word)[0]['lemma'][0]).split('{')[0].split(',')[-2].strip()\n",
        "    return word, lemma\n",
        "\n",
        "def lemmatizer(text):\n",
        "    _text = []\n",
        "    tokens = tokenizer_bnltk(text) \n",
        "    for token in tokens:\n",
        "        if token in punctuations:\n",
        "            _text.append(token)\n",
        "        else:\n",
        "            token, lemma = find_lemma(token)\n",
        "            _text.append(lemma)\n",
        "\n",
        "    return ' '.join(_text)\n",
        "\n",
        "# lemmatizer(\"আমাদের মেধা শূন্য এবং বুদ্ধি জীবী শূন্য করা তাদের লক্ষ্য।\")"
      ],
      "metadata": {
        "colab": {
          "base_uri": "https://localhost:8080/"
        },
        "id": "g2NvnvMzRGHc",
        "outputId": "dae78c6b-5e3d-4017-eb11-81752b6b5724"
      },
      "execution_count": 9,
      "outputs": [
        {
          "output_type": "stream",
          "name": "stdout",
          "text": [
            "lemma download started this may take some time.\n",
            "Approximate size to download 90.6 KB\n",
            "[OK!]\n"
          ]
        }
      ]
    },
    {
      "cell_type": "markdown",
      "source": [
        "## Convert Sentiment to Label"
      ],
      "metadata": {
        "id": "4FNrdJtZbDGf"
      }
    },
    {
      "cell_type": "code",
      "source": [
        "def sentiment2label(sentiment):\n",
        "    if sentiment == 'angry':\n",
        "        return 0\n",
        "    elif sentiment == 'disgust':\n",
        "        return 1\n",
        "    elif sentiment == 'fear':\n",
        "        return 2\n",
        "    elif sentiment == 'happy':\n",
        "        return 3\n",
        "    elif sentiment == 'sad':\n",
        "        return 4\n",
        "    else:\n",
        "        return 5"
      ],
      "metadata": {
        "id": "YvjVlqzsW6wJ"
      },
      "execution_count": 10,
      "outputs": []
    },
    {
      "cell_type": "code",
      "source": [
        "df['cleaned_text'] = df['text'].apply(clean_text)\n",
        "df['cleaned_text'] = df['cleaned_text'].apply(remove_duplicate_punctuations)\n",
        "# df['cleaned_text'] = df['cleaned_text'].apply(lemmatizer)\n",
        "df['label'] = df['sentiment'].apply(sentiment2label)"
      ],
      "metadata": {
        "id": "zvzoKBZ3Gw65"
      },
      "execution_count": 11,
      "outputs": []
    },
    {
      "cell_type": "code",
      "source": [
        "df"
      ],
      "metadata": {
        "colab": {
          "base_uri": "https://localhost:8080/",
          "height": 424
        },
        "id": "28aYpvcHGw9k",
        "outputId": "64914407-9e91-443a-fbf4-e8b454f76ee7"
      },
      "execution_count": 12,
      "outputs": [
        {
          "output_type": "execute_result",
          "data": {
            "text/plain": [
              "                                                   text sentiment    set  \\\n",
              "0     বরাবর, মাননীয় প্রধানমন্ত্রী গণপ্রজাতন্ত্রী বা...       sad  train   \n",
              "1     তদন্ত করে লাভ কী ? কোন দিন কোন তদন্তের পর কিছু...       sad  train   \n",
              "2     দেশকি মধ্যম আয়ের দেশে রুপান্তর হচ্ছে নাকি মগের...     angry  train   \n",
              "3     আমি গর্বিত আমি মুসলিম। আমি সংগ্রামী। আমি যোদ্ধ...     happy  train   \n",
              "4                           রাতের বেলা আবার কিসের সকাল।     angry  train   \n",
              "...                                                 ...       ...    ...   \n",
              "5635  ধন্যবাদ ইমারান ভাই আপনার জন্যই এইটা জানতে পারল...     happy   test   \n",
              "5636  বাংলাদেশের সব পুলিশ যুদি এমন হত তাহলে বাংলাদশ ...     happy   test   \n",
              "5637        পলিশ যে জনগনের বন্ধু ,এটা দেখে বুঝা যাচ্ছে।     happy   test   \n",
              "5638                ভাল কর্মের জন্য অশেষ ধন্যবাদ সবাইকে     happy   test   \n",
              "5639                            অামি ওএকমত ইমরান সরকার।     happy   test   \n",
              "\n",
              "                                           cleaned_text  label  \n",
              "0     বরাবর, মাননীয় প্রধানমন্ত্রী গণপ্রজাতন্ত্রী বা...      4  \n",
              "1     তদন্ত করে লাভ কী ? কোন দিন কোন তদন্তের পর কিছু...      4  \n",
              "2     দেশকি মধ্যম আয়ের দেশে রুপান্তর হচ্ছে নাকি মগের...      0  \n",
              "3     আমি গর্বিত আমি মুসলিম। আমি সংগ্রামী। আমি যোদ্ধ...      3  \n",
              "4                           রাতের বেলা আবার কিসের সকাল।      0  \n",
              "...                                                 ...    ...  \n",
              "5635  ধন্যবাদ ইমারান ভাই আপনার জন্যই এইটা জানতে পারল...      3  \n",
              "5636  বাংলাদেশের সব পুলিশ যুদি এমন হত তাহলে বাংলাদশ ...      3  \n",
              "5637        পলিশ যে জনগনের বন্ধু ,এটা দেখে বুঝা যাচ্ছে।      3  \n",
              "5638                ভাল কর্মের জন্য অশেষ ধন্যবাদ সবাইকে      3  \n",
              "5639                            অামি ওএকমত ইমরান সরকার।      3  \n",
              "\n",
              "[5640 rows x 5 columns]"
            ],
            "text/html": [
              "\n",
              "  <div id=\"df-eff68535-826c-4a1a-91b1-011d2109ea3f\">\n",
              "    <div class=\"colab-df-container\">\n",
              "      <div>\n",
              "<style scoped>\n",
              "    .dataframe tbody tr th:only-of-type {\n",
              "        vertical-align: middle;\n",
              "    }\n",
              "\n",
              "    .dataframe tbody tr th {\n",
              "        vertical-align: top;\n",
              "    }\n",
              "\n",
              "    .dataframe thead th {\n",
              "        text-align: right;\n",
              "    }\n",
              "</style>\n",
              "<table border=\"1\" class=\"dataframe\">\n",
              "  <thead>\n",
              "    <tr style=\"text-align: right;\">\n",
              "      <th></th>\n",
              "      <th>text</th>\n",
              "      <th>sentiment</th>\n",
              "      <th>set</th>\n",
              "      <th>cleaned_text</th>\n",
              "      <th>label</th>\n",
              "    </tr>\n",
              "  </thead>\n",
              "  <tbody>\n",
              "    <tr>\n",
              "      <th>0</th>\n",
              "      <td>বরাবর, মাননীয় প্রধানমন্ত্রী গণপ্রজাতন্ত্রী বা...</td>\n",
              "      <td>sad</td>\n",
              "      <td>train</td>\n",
              "      <td>বরাবর, মাননীয় প্রধানমন্ত্রী গণপ্রজাতন্ত্রী বা...</td>\n",
              "      <td>4</td>\n",
              "    </tr>\n",
              "    <tr>\n",
              "      <th>1</th>\n",
              "      <td>তদন্ত করে লাভ কী ? কোন দিন কোন তদন্তের পর কিছু...</td>\n",
              "      <td>sad</td>\n",
              "      <td>train</td>\n",
              "      <td>তদন্ত করে লাভ কী ? কোন দিন কোন তদন্তের পর কিছু...</td>\n",
              "      <td>4</td>\n",
              "    </tr>\n",
              "    <tr>\n",
              "      <th>2</th>\n",
              "      <td>দেশকি মধ্যম আয়ের দেশে রুপান্তর হচ্ছে নাকি মগের...</td>\n",
              "      <td>angry</td>\n",
              "      <td>train</td>\n",
              "      <td>দেশকি মধ্যম আয়ের দেশে রুপান্তর হচ্ছে নাকি মগের...</td>\n",
              "      <td>0</td>\n",
              "    </tr>\n",
              "    <tr>\n",
              "      <th>3</th>\n",
              "      <td>আমি গর্বিত আমি মুসলিম। আমি সংগ্রামী। আমি যোদ্ধ...</td>\n",
              "      <td>happy</td>\n",
              "      <td>train</td>\n",
              "      <td>আমি গর্বিত আমি মুসলিম। আমি সংগ্রামী। আমি যোদ্ধ...</td>\n",
              "      <td>3</td>\n",
              "    </tr>\n",
              "    <tr>\n",
              "      <th>4</th>\n",
              "      <td>রাতের বেলা আবার কিসের সকাল।</td>\n",
              "      <td>angry</td>\n",
              "      <td>train</td>\n",
              "      <td>রাতের বেলা আবার কিসের সকাল।</td>\n",
              "      <td>0</td>\n",
              "    </tr>\n",
              "    <tr>\n",
              "      <th>...</th>\n",
              "      <td>...</td>\n",
              "      <td>...</td>\n",
              "      <td>...</td>\n",
              "      <td>...</td>\n",
              "      <td>...</td>\n",
              "    </tr>\n",
              "    <tr>\n",
              "      <th>5635</th>\n",
              "      <td>ধন্যবাদ ইমারান ভাই আপনার জন্যই এইটা জানতে পারল...</td>\n",
              "      <td>happy</td>\n",
              "      <td>test</td>\n",
              "      <td>ধন্যবাদ ইমারান ভাই আপনার জন্যই এইটা জানতে পারল...</td>\n",
              "      <td>3</td>\n",
              "    </tr>\n",
              "    <tr>\n",
              "      <th>5636</th>\n",
              "      <td>বাংলাদেশের সব পুলিশ যুদি এমন হত তাহলে বাংলাদশ ...</td>\n",
              "      <td>happy</td>\n",
              "      <td>test</td>\n",
              "      <td>বাংলাদেশের সব পুলিশ যুদি এমন হত তাহলে বাংলাদশ ...</td>\n",
              "      <td>3</td>\n",
              "    </tr>\n",
              "    <tr>\n",
              "      <th>5637</th>\n",
              "      <td>পলিশ যে জনগনের বন্ধু ,এটা দেখে বুঝা যাচ্ছে।</td>\n",
              "      <td>happy</td>\n",
              "      <td>test</td>\n",
              "      <td>পলিশ যে জনগনের বন্ধু ,এটা দেখে বুঝা যাচ্ছে।</td>\n",
              "      <td>3</td>\n",
              "    </tr>\n",
              "    <tr>\n",
              "      <th>5638</th>\n",
              "      <td>ভাল কর্মের জন্য অশেষ ধন্যবাদ সবাইকে</td>\n",
              "      <td>happy</td>\n",
              "      <td>test</td>\n",
              "      <td>ভাল কর্মের জন্য অশেষ ধন্যবাদ সবাইকে</td>\n",
              "      <td>3</td>\n",
              "    </tr>\n",
              "    <tr>\n",
              "      <th>5639</th>\n",
              "      <td>অামি ওএকমত ইমরান সরকার।</td>\n",
              "      <td>happy</td>\n",
              "      <td>test</td>\n",
              "      <td>অামি ওএকমত ইমরান সরকার।</td>\n",
              "      <td>3</td>\n",
              "    </tr>\n",
              "  </tbody>\n",
              "</table>\n",
              "<p>5640 rows × 5 columns</p>\n",
              "</div>\n",
              "      <button class=\"colab-df-convert\" onclick=\"convertToInteractive('df-eff68535-826c-4a1a-91b1-011d2109ea3f')\"\n",
              "              title=\"Convert this dataframe to an interactive table.\"\n",
              "              style=\"display:none;\">\n",
              "        \n",
              "  <svg xmlns=\"http://www.w3.org/2000/svg\" height=\"24px\"viewBox=\"0 0 24 24\"\n",
              "       width=\"24px\">\n",
              "    <path d=\"M0 0h24v24H0V0z\" fill=\"none\"/>\n",
              "    <path d=\"M18.56 5.44l.94 2.06.94-2.06 2.06-.94-2.06-.94-.94-2.06-.94 2.06-2.06.94zm-11 1L8.5 8.5l.94-2.06 2.06-.94-2.06-.94L8.5 2.5l-.94 2.06-2.06.94zm10 10l.94 2.06.94-2.06 2.06-.94-2.06-.94-.94-2.06-.94 2.06-2.06.94z\"/><path d=\"M17.41 7.96l-1.37-1.37c-.4-.4-.92-.59-1.43-.59-.52 0-1.04.2-1.43.59L10.3 9.45l-7.72 7.72c-.78.78-.78 2.05 0 2.83L4 21.41c.39.39.9.59 1.41.59.51 0 1.02-.2 1.41-.59l7.78-7.78 2.81-2.81c.8-.78.8-2.07 0-2.86zM5.41 20L4 18.59l7.72-7.72 1.47 1.35L5.41 20z\"/>\n",
              "  </svg>\n",
              "      </button>\n",
              "      \n",
              "  <style>\n",
              "    .colab-df-container {\n",
              "      display:flex;\n",
              "      flex-wrap:wrap;\n",
              "      gap: 12px;\n",
              "    }\n",
              "\n",
              "    .colab-df-convert {\n",
              "      background-color: #E8F0FE;\n",
              "      border: none;\n",
              "      border-radius: 50%;\n",
              "      cursor: pointer;\n",
              "      display: none;\n",
              "      fill: #1967D2;\n",
              "      height: 32px;\n",
              "      padding: 0 0 0 0;\n",
              "      width: 32px;\n",
              "    }\n",
              "\n",
              "    .colab-df-convert:hover {\n",
              "      background-color: #E2EBFA;\n",
              "      box-shadow: 0px 1px 2px rgba(60, 64, 67, 0.3), 0px 1px 3px 1px rgba(60, 64, 67, 0.15);\n",
              "      fill: #174EA6;\n",
              "    }\n",
              "\n",
              "    [theme=dark] .colab-df-convert {\n",
              "      background-color: #3B4455;\n",
              "      fill: #D2E3FC;\n",
              "    }\n",
              "\n",
              "    [theme=dark] .colab-df-convert:hover {\n",
              "      background-color: #434B5C;\n",
              "      box-shadow: 0px 1px 3px 1px rgba(0, 0, 0, 0.15);\n",
              "      filter: drop-shadow(0px 1px 2px rgba(0, 0, 0, 0.3));\n",
              "      fill: #FFFFFF;\n",
              "    }\n",
              "  </style>\n",
              "\n",
              "      <script>\n",
              "        const buttonEl =\n",
              "          document.querySelector('#df-eff68535-826c-4a1a-91b1-011d2109ea3f button.colab-df-convert');\n",
              "        buttonEl.style.display =\n",
              "          google.colab.kernel.accessAllowed ? 'block' : 'none';\n",
              "\n",
              "        async function convertToInteractive(key) {\n",
              "          const element = document.querySelector('#df-eff68535-826c-4a1a-91b1-011d2109ea3f');\n",
              "          const dataTable =\n",
              "            await google.colab.kernel.invokeFunction('convertToInteractive',\n",
              "                                                     [key], {});\n",
              "          if (!dataTable) return;\n",
              "\n",
              "          const docLinkHtml = 'Like what you see? Visit the ' +\n",
              "            '<a target=\"_blank\" href=https://colab.research.google.com/notebooks/data_table.ipynb>data table notebook</a>'\n",
              "            + ' to learn more about interactive tables.';\n",
              "          element.innerHTML = '';\n",
              "          dataTable['output_type'] = 'display_data';\n",
              "          await google.colab.output.renderOutput(dataTable, element);\n",
              "          const docLink = document.createElement('div');\n",
              "          docLink.innerHTML = docLinkHtml;\n",
              "          element.appendChild(docLink);\n",
              "        }\n",
              "      </script>\n",
              "    </div>\n",
              "  </div>\n",
              "  "
            ]
          },
          "metadata": {},
          "execution_count": 12
        }
      ]
    },
    {
      "cell_type": "code",
      "source": [
        "df.to_csv('/content/BanglaEmotion.csv', index=False)"
      ],
      "metadata": {
        "id": "ip0gVhSoWtv6"
      },
      "execution_count": 13,
      "outputs": []
    },
    {
      "cell_type": "code",
      "source": [],
      "metadata": {
        "id": "VIF_twlvbsS3"
      },
      "execution_count": null,
      "outputs": []
    }
  ]
}
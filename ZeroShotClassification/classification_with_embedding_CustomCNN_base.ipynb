{
  "nbformat": 4,
  "nbformat_minor": 0,
  "metadata": {
    "colab": {
      "provenance": [],
      "collapsed_sections": [
        "lwIjuTIXoaRU",
        "Cl9uIlSOohy5",
        "RWyBJAWUo87L",
        "L8e_ZCcXpbET",
        "Wlc0GubipmaE",
        "FaxYxJp3pmaG",
        "ifs31sfIp_3N",
        "ZffLlJE5p_3W",
        "wDDtP54Cp_3X"
      ],
      "gpuType": "T4"
    },
    "kernelspec": {
      "name": "python3",
      "display_name": "Python 3"
    },
    "language_info": {
      "name": "python"
    },
    "accelerator": "GPU",
    "gpuClass": "standard"
  },
  "cells": [
    {
      "cell_type": "markdown",
      "source": [
        "# Remaining"
      ],
      "metadata": {
        "id": "wG_ofaBBiLIa"
      }
    },
    {
      "cell_type": "code",
      "source": [
        "from google.colab import drive\n",
        "drive.mount('/content/drive')"
      ],
      "metadata": {
        "id": "Kvvl80C459cZ",
        "colab": {
          "base_uri": "https://localhost:8080/"
        },
        "outputId": "e4e135a5-8dfe-40d4-fbef-06a9f3d3e0a3"
      },
      "execution_count": null,
      "outputs": [
        {
          "output_type": "stream",
          "name": "stdout",
          "text": [
            "Mounted at /content/drive\n"
          ]
        }
      ]
    },
    {
      "cell_type": "code",
      "metadata": {
        "id": "09BNigUsW9ZK"
      },
      "source": [
        "import torch\n",
        "import torch.nn as nn\n",
        "import torch.nn.functional as F\n",
        "from torch.nn import functional as Flatten\n",
        "import torchvision\n",
        "from torch.utils.data import DataLoader\n",
        "from torchvision.datasets import ImageFolder\n",
        "from torchsummary import summary\n",
        "\n",
        "import os, glob\n",
        "import cv2\n",
        "import numpy as np\n",
        "import matplotlib.pyplot as plt\n",
        "import pandas as pd\n",
        "from tqdm import tqdm\n",
        "\n",
        "import matplotlib.pyplot as plt\n",
        "import numpy as np\n",
        "import random\n",
        "\n",
        "import warnings as wrn\n",
        "wrn.filterwarnings('ignore')"
      ],
      "execution_count": null,
      "outputs": []
    },
    {
      "cell_type": "code",
      "metadata": {
        "id": "1ivFl2e3W9UK",
        "colab": {
          "base_uri": "https://localhost:8080/"
        },
        "outputId": "f9edcda3-0c0c-48f2-c124-861b1275ed71"
      },
      "source": [
        "!unzip '/content/drive/MyDrive/ZSClassification/ZeroShotHandwrittenCharacterRecognition/Bangla/BanglaCharacterDataset.zip'"
      ],
      "execution_count": null,
      "outputs": [
        {
          "output_type": "stream",
          "name": "stdout",
          "text": [
            "\u001b[1;30;43mStreaming output truncated to the last 5000 lines.\u001b[0m\n",
            "  inflating: Dataset/Train/201/bcc000060.bmp  \n",
            "  inflating: Dataset/Train/201/bcc000061.bmp  \n",
            "  inflating: Dataset/Train/201/bcc000062.bmp  \n",
            "  inflating: Dataset/Train/201/bcc000063.bmp  \n",
            "  inflating: Dataset/Train/201/bcc000064.bmp  \n",
            "  inflating: Dataset/Train/201/bcc000065.bmp  \n",
            "  inflating: Dataset/Train/201/bcc000066.bmp  \n",
            "  inflating: Dataset/Train/201/bcc000067.bmp  \n",
            "  inflating: Dataset/Train/201/bcc000068.bmp  \n",
            "  inflating: Dataset/Train/201/bcc000069.bmp  \n",
            "  inflating: Dataset/Train/201/bcc000070.bmp  \n",
            "  inflating: Dataset/Train/201/bcc000071.bmp  \n",
            "  inflating: Dataset/Train/201/bcc000072.bmp  \n",
            "  inflating: Dataset/Train/201/bcc000073.bmp  \n",
            "  inflating: Dataset/Train/201/bcc000074.bmp  \n",
            "  inflating: Dataset/Train/201/bcc000075.bmp  \n",
            "  inflating: Dataset/Train/201/bcc000076.bmp  \n",
            "  inflating: Dataset/Train/201/bcc000077.bmp  \n",
            "  inflating: Dataset/Train/201/bcc000078.bmp  \n",
            "  inflating: Dataset/Train/201/bcc000079.bmp  \n",
            "  inflating: Dataset/Train/201/bcc000080.bmp  \n",
            "  inflating: Dataset/Train/201/bcc000081.bmp  \n",
            "  inflating: Dataset/Train/201/bcc000082.bmp  \n",
            "  inflating: Dataset/Train/201/bcc000083.bmp  \n",
            "  inflating: Dataset/Train/201/bcc000084.bmp  \n",
            "  inflating: Dataset/Train/201/bcc000085.bmp  \n",
            "  inflating: Dataset/Train/201/bcc000086.bmp  \n",
            "  inflating: Dataset/Train/201/bcc000087.bmp  \n",
            "  inflating: Dataset/Train/201/bcc000088.bmp  \n",
            "  inflating: Dataset/Train/201/bcc000089.bmp  \n",
            "  inflating: Dataset/Train/201/bcc000090.bmp  \n",
            "  inflating: Dataset/Train/201/bcc000091.bmp  \n",
            "  inflating: Dataset/Train/201/bcc000092.bmp  \n",
            "  inflating: Dataset/Train/201/bcc000093.bmp  \n",
            "  inflating: Dataset/Train/201/bcc000094.bmp  \n",
            "  inflating: Dataset/Train/201/bcc000095.bmp  \n",
            "  inflating: Dataset/Train/201/bcc000096.bmp  \n",
            "  inflating: Dataset/Train/201/bcc000097.bmp  \n",
            "  inflating: Dataset/Train/201/bcc000098.bmp  \n",
            "  inflating: Dataset/Train/201/bcc000099.bmp  \n",
            "  inflating: Dataset/Train/201/bcc000100.bmp  \n",
            "  inflating: Dataset/Train/201/bcc000101.bmp  \n",
            "  inflating: Dataset/Train/201/bcc000102.bmp  \n",
            "  inflating: Dataset/Train/201/bcc000103.bmp  \n",
            "  inflating: Dataset/Train/201/bcc000104.bmp  \n",
            "  inflating: Dataset/Train/201/bcc000105.bmp  \n",
            "  inflating: Dataset/Train/201/bcc000106.bmp  \n",
            "  inflating: Dataset/Train/201/bcc000107.bmp  \n",
            "  inflating: Dataset/Train/201/bcc000108.bmp  \n",
            "  inflating: Dataset/Train/201/bcc000109.bmp  \n",
            "  inflating: Dataset/Train/201/bcc000110.bmp  \n",
            "  inflating: Dataset/Train/201/bcc000111.bmp  \n",
            "  inflating: Dataset/Train/201/bcc000112.bmp  \n",
            "  inflating: Dataset/Train/201/bcc000113.bmp  \n",
            "  inflating: Dataset/Train/201/bcc000114.bmp  \n",
            "  inflating: Dataset/Train/201/bcc000115.bmp  \n",
            "  inflating: Dataset/Train/201/bcc000116.bmp  \n",
            "  inflating: Dataset/Train/201/bcc000117.bmp  \n",
            "  inflating: Dataset/Train/201/bcc000118.bmp  \n",
            "  inflating: Dataset/Train/201/bcc000119.bmp  \n",
            "  inflating: Dataset/Train/201/bcc000120.bmp  \n",
            "  inflating: Dataset/Train/201/bcc000121.bmp  \n",
            "  inflating: Dataset/Train/201/bcc000122.bmp  \n",
            "  inflating: Dataset/Train/201/bcc000123.bmp  \n",
            "  inflating: Dataset/Train/201/bcc000124.bmp  \n",
            "  inflating: Dataset/Train/201/bcc000125.bmp  \n",
            "  inflating: Dataset/Train/201/bcc000126.bmp  \n",
            "  inflating: Dataset/Train/201/bcc000127.bmp  \n",
            "  inflating: Dataset/Train/201/bcc000128.bmp  \n",
            "  inflating: Dataset/Train/201/bcc000129.bmp  \n",
            "  inflating: Dataset/Train/201/bcc000130.bmp  \n",
            "  inflating: Dataset/Train/201/bcc000131.bmp  \n",
            "  inflating: Dataset/Train/201/bcc000132.bmp  \n",
            "  inflating: Dataset/Train/201/bcc000133.bmp  \n",
            "  inflating: Dataset/Train/201/bcc000134.bmp  \n",
            "  inflating: Dataset/Train/201/bcc000135.bmp  \n",
            "  inflating: Dataset/Train/201/bcc000136.bmp  \n",
            "  inflating: Dataset/Train/201/bcc000137.bmp  \n",
            "  inflating: Dataset/Train/201/bcc000138.bmp  \n",
            "  inflating: Dataset/Train/201/bcc000139.bmp  \n",
            "  inflating: Dataset/Train/201/bcc000140.bmp  \n",
            "  inflating: Dataset/Train/201/bcc000141.bmp  \n",
            "  inflating: Dataset/Train/201/bcc000142.bmp  \n",
            "  inflating: Dataset/Train/201/bcc000143.bmp  \n",
            "  inflating: Dataset/Train/201/bcc000144.bmp  \n",
            "  inflating: Dataset/Train/201/bcc000145.bmp  \n",
            "  inflating: Dataset/Train/201/bcc000146.bmp  \n",
            "  inflating: Dataset/Train/201/bcc000147.bmp  \n",
            "  inflating: Dataset/Train/201/bcc000148.bmp  \n",
            "  inflating: Dataset/Train/201/bcc000149.bmp  \n",
            "  inflating: Dataset/Train/201/bcc000150.bmp  \n",
            "  inflating: Dataset/Train/201/bcc000151.bmp  \n",
            "  inflating: Dataset/Train/201/bcc000152.bmp  \n",
            "  inflating: Dataset/Train/201/bcc000153.bmp  \n",
            "  inflating: Dataset/Train/201/bcc000154.bmp  \n",
            "  inflating: Dataset/Train/201/bcc000155.bmp  \n",
            "  inflating: Dataset/Train/201/bcc000156.bmp  \n",
            "  inflating: Dataset/Train/201/bcc000157.bmp  \n",
            "  inflating: Dataset/Train/201/bcc000158.bmp  \n",
            "  inflating: Dataset/Train/201/bcc000159.bmp  \n",
            "  inflating: Dataset/Train/201/bcc000160.bmp  \n",
            "  inflating: Dataset/Train/201/bcc000161.bmp  \n",
            "  inflating: Dataset/Train/201/bcc000162.bmp  \n",
            "  inflating: Dataset/Train/201/bcc000163.bmp  \n",
            "  inflating: Dataset/Train/201/bcc000164.bmp  \n",
            "  inflating: Dataset/Train/201/bcc000165.bmp  \n",
            "  inflating: Dataset/Train/201/bcc000166.bmp  \n",
            "  inflating: Dataset/Train/201/bcc000167.bmp  \n",
            "  inflating: Dataset/Train/201/bcc000168.bmp  \n",
            "  inflating: Dataset/Train/201/bcc000169.bmp  \n",
            "  inflating: Dataset/Train/201/bcc000170.bmp  \n",
            "  inflating: Dataset/Train/201/bcc000171.bmp  \n",
            "  inflating: Dataset/Train/201/bcc000172.bmp  \n",
            "  inflating: Dataset/Train/201/bcc000173.bmp  \n",
            "  inflating: Dataset/Train/201/bcc000174.bmp  \n",
            "  inflating: Dataset/Train/201/bcc000175.bmp  \n",
            "  inflating: Dataset/Train/201/bcc000176.bmp  \n",
            "  inflating: Dataset/Train/201/bcc000177.bmp  \n",
            "  inflating: Dataset/Train/201/bcc000178.bmp  \n",
            "  inflating: Dataset/Train/201/bcc000179.bmp  \n",
            "  inflating: Dataset/Train/201/bcc000180.bmp  \n",
            "  inflating: Dataset/Train/201/bcc000181.bmp  \n",
            "  inflating: Dataset/Train/201/bcc000182.bmp  \n",
            "  inflating: Dataset/Train/201/bcc000183.bmp  \n",
            "  inflating: Dataset/Train/201/bcc000184.bmp  \n",
            "  inflating: Dataset/Train/201/bcc000185.bmp  \n",
            "  inflating: Dataset/Train/201/bcc000186.bmp  \n",
            "  inflating: Dataset/Train/201/bcc000187.bmp  \n",
            "  inflating: Dataset/Train/201/bcc000188.bmp  \n",
            "  inflating: Dataset/Train/201/bcc000189.bmp  \n",
            "  inflating: Dataset/Train/201/bcc000190.bmp  \n",
            "  inflating: Dataset/Train/201/bcc000191.bmp  \n",
            "  inflating: Dataset/Train/201/bcc000192.bmp  \n",
            "  inflating: Dataset/Train/201/bcc000193.bmp  \n",
            "  inflating: Dataset/Train/201/bcc000194.bmp  \n",
            "  inflating: Dataset/Train/201/bcc000195.bmp  \n",
            "  inflating: Dataset/Train/201/bcc000196.bmp  \n",
            "  inflating: Dataset/Train/201/bcc000197.bmp  \n",
            "  inflating: Dataset/Train/201/bcc000198.bmp  \n",
            "  inflating: Dataset/Train/201/bcc000199.bmp  \n",
            "  inflating: Dataset/Train/201/bcc000200.bmp  \n",
            "  inflating: Dataset/Train/201/bcc000201.bmp  \n",
            "  inflating: Dataset/Train/201/bcc000202.bmp  \n",
            "  inflating: Dataset/Train/201/bcc000203.bmp  \n",
            "  inflating: Dataset/Train/201/bcc000204.bmp  \n",
            "  inflating: Dataset/Train/201/bcc000205.bmp  \n",
            "  inflating: Dataset/Train/201/bcc000206.bmp  \n",
            "  inflating: Dataset/Train/201/bcc000207.bmp  \n",
            "  inflating: Dataset/Train/201/bcc000208.bmp  \n",
            "  inflating: Dataset/Train/201/bcc000209.bmp  \n",
            "  inflating: Dataset/Train/201/bcc000210.bmp  \n",
            "  inflating: Dataset/Train/201/bcc000211.bmp  \n",
            "  inflating: Dataset/Train/201/bcc000212.bmp  \n",
            "  inflating: Dataset/Train/201/bcc000213.bmp  \n",
            "  inflating: Dataset/Train/201/bcc000214.bmp  \n",
            "  inflating: Dataset/Train/201/bcc000215.bmp  \n",
            "  inflating: Dataset/Train/201/bcc000216.bmp  \n",
            "  inflating: Dataset/Train/201/bcc000217.bmp  \n",
            "  inflating: Dataset/Train/201/bcc000218.bmp  \n",
            "  inflating: Dataset/Train/201/bcc000219.bmp  \n",
            "  inflating: Dataset/Train/201/bcc000220.bmp  \n",
            "  inflating: Dataset/Train/201/bcc000221.bmp  \n",
            "  inflating: Dataset/Train/201/bcc000222.bmp  \n",
            "  inflating: Dataset/Train/201/bcc000223.bmp  \n",
            "  inflating: Dataset/Train/201/bcc000224.bmp  \n",
            "  inflating: Dataset/Train/201/bcc000225.bmp  \n",
            "  inflating: Dataset/Train/201/bcc000226.bmp  \n",
            "  inflating: Dataset/Train/201/bcc000227.bmp  \n",
            "  inflating: Dataset/Train/201/bcc000228.bmp  \n",
            "  inflating: Dataset/Train/201/bcc000229.bmp  \n",
            "  inflating: Dataset/Train/201/bcc000230.bmp  \n",
            "  inflating: Dataset/Train/201/bcc000231.bmp  \n",
            "  inflating: Dataset/Train/201/bcc000232.bmp  \n",
            "  inflating: Dataset/Train/201/bcc000233.bmp  \n",
            "  inflating: Dataset/Train/201/bcc000234.bmp  \n",
            "  inflating: Dataset/Train/201/bcc000235.bmp  \n",
            "  inflating: Dataset/Train/201/bcc000236.bmp  \n",
            "  inflating: Dataset/Train/201/bcc000237.bmp  \n",
            "  inflating: Dataset/Train/201/bcc000238.bmp  \n",
            "  inflating: Dataset/Train/201/bcc000239.bmp  \n",
            "   creating: Dataset/Train/202/\n",
            "  inflating: Dataset/Train/202/bcc000000.bmp  \n",
            "  inflating: Dataset/Train/202/bcc000001.bmp  \n",
            "  inflating: Dataset/Train/202/bcc000002.bmp  \n",
            "  inflating: Dataset/Train/202/bcc000003.bmp  \n",
            "  inflating: Dataset/Train/202/bcc000004.bmp  \n",
            "  inflating: Dataset/Train/202/bcc000005.bmp  \n",
            "  inflating: Dataset/Train/202/bcc000006.bmp  \n",
            "  inflating: Dataset/Train/202/bcc000007.bmp  \n",
            "  inflating: Dataset/Train/202/bcc000008.bmp  \n",
            "  inflating: Dataset/Train/202/bcc000009.bmp  \n",
            "  inflating: Dataset/Train/202/bcc000010.bmp  \n",
            "  inflating: Dataset/Train/202/bcc000011.bmp  \n",
            "  inflating: Dataset/Train/202/bcc000012.bmp  \n",
            "  inflating: Dataset/Train/202/bcc000013.bmp  \n",
            "  inflating: Dataset/Train/202/bcc000014.bmp  \n",
            "  inflating: Dataset/Train/202/bcc000015.bmp  \n",
            "  inflating: Dataset/Train/202/bcc000016.bmp  \n",
            "  inflating: Dataset/Train/202/bcc000017.bmp  \n",
            "  inflating: Dataset/Train/202/bcc000018.bmp  \n",
            "  inflating: Dataset/Train/202/bcc000019.bmp  \n",
            "  inflating: Dataset/Train/202/bcc000020.bmp  \n",
            "  inflating: Dataset/Train/202/bcc000021.bmp  \n",
            "  inflating: Dataset/Train/202/bcc000022.bmp  \n",
            "  inflating: Dataset/Train/202/bcc000023.bmp  \n",
            "  inflating: Dataset/Train/202/bcc000024.bmp  \n",
            "  inflating: Dataset/Train/202/bcc000025.bmp  \n",
            "  inflating: Dataset/Train/202/bcc000026.bmp  \n",
            "  inflating: Dataset/Train/202/bcc000027.bmp  \n",
            "  inflating: Dataset/Train/202/bcc000028.bmp  \n",
            "  inflating: Dataset/Train/202/bcc000029.bmp  \n",
            "  inflating: Dataset/Train/202/bcc000030.bmp  \n",
            "  inflating: Dataset/Train/202/bcc000031.bmp  \n",
            "  inflating: Dataset/Train/202/bcc000032.bmp  \n",
            "  inflating: Dataset/Train/202/bcc000033.bmp  \n",
            "  inflating: Dataset/Train/202/bcc000034.bmp  \n",
            "  inflating: Dataset/Train/202/bcc000035.bmp  \n",
            "  inflating: Dataset/Train/202/bcc000036.bmp  \n",
            "  inflating: Dataset/Train/202/bcc000037.bmp  \n",
            "  inflating: Dataset/Train/202/bcc000038.bmp  \n",
            "  inflating: Dataset/Train/202/bcc000039.bmp  \n",
            "  inflating: Dataset/Train/202/bcc000040.bmp  \n",
            "  inflating: Dataset/Train/202/bcc000041.bmp  \n",
            "  inflating: Dataset/Train/202/bcc000042.bmp  \n",
            "  inflating: Dataset/Train/202/bcc000043.bmp  \n",
            "  inflating: Dataset/Train/202/bcc000044.bmp  \n",
            "  inflating: Dataset/Train/202/bcc000045.bmp  \n",
            "  inflating: Dataset/Train/202/bcc000046.bmp  \n",
            "  inflating: Dataset/Train/202/bcc000047.bmp  \n",
            "  inflating: Dataset/Train/202/bcc000048.bmp  \n",
            "  inflating: Dataset/Train/202/bcc000049.bmp  \n",
            "  inflating: Dataset/Train/202/bcc000050.bmp  \n",
            "  inflating: Dataset/Train/202/bcc000051.bmp  \n",
            "  inflating: Dataset/Train/202/bcc000052.bmp  \n",
            "  inflating: Dataset/Train/202/bcc000053.bmp  \n",
            "  inflating: Dataset/Train/202/bcc000054.bmp  \n",
            "  inflating: Dataset/Train/202/bcc000055.bmp  \n",
            "  inflating: Dataset/Train/202/bcc000056.bmp  \n",
            "  inflating: Dataset/Train/202/bcc000057.bmp  \n",
            "  inflating: Dataset/Train/202/bcc000058.bmp  \n",
            "  inflating: Dataset/Train/202/bcc000059.bmp  \n",
            "  inflating: Dataset/Train/202/bcc000060.bmp  \n",
            "  inflating: Dataset/Train/202/bcc000061.bmp  \n",
            "  inflating: Dataset/Train/202/bcc000062.bmp  \n",
            "  inflating: Dataset/Train/202/bcc000063.bmp  \n",
            "  inflating: Dataset/Train/202/bcc000064.bmp  \n",
            "  inflating: Dataset/Train/202/bcc000065.bmp  \n",
            "  inflating: Dataset/Train/202/bcc000066.bmp  \n",
            "  inflating: Dataset/Train/202/bcc000067.bmp  \n",
            "  inflating: Dataset/Train/202/bcc000068.bmp  \n",
            "  inflating: Dataset/Train/202/bcc000069.bmp  \n",
            "  inflating: Dataset/Train/202/bcc000070.bmp  \n",
            "  inflating: Dataset/Train/202/bcc000071.bmp  \n",
            "  inflating: Dataset/Train/202/bcc000072.bmp  \n",
            "  inflating: Dataset/Train/202/bcc000073.bmp  \n",
            "  inflating: Dataset/Train/202/bcc000074.bmp  \n",
            "  inflating: Dataset/Train/202/bcc000075.bmp  \n",
            "  inflating: Dataset/Train/202/bcc000076.bmp  \n",
            "  inflating: Dataset/Train/202/bcc000077.bmp  \n",
            "  inflating: Dataset/Train/202/bcc000078.bmp  \n",
            "  inflating: Dataset/Train/202/bcc000079.bmp  \n",
            "  inflating: Dataset/Train/202/bcc000080.bmp  \n",
            "  inflating: Dataset/Train/202/bcc000081.bmp  \n",
            "  inflating: Dataset/Train/202/bcc000082.bmp  \n",
            "  inflating: Dataset/Train/202/bcc000083.bmp  \n",
            "  inflating: Dataset/Train/202/bcc000084.bmp  \n",
            "  inflating: Dataset/Train/202/bcc000085.bmp  \n",
            "  inflating: Dataset/Train/202/bcc000086.bmp  \n",
            "  inflating: Dataset/Train/202/bcc000087.bmp  \n",
            "  inflating: Dataset/Train/202/bcc000088.bmp  \n",
            "  inflating: Dataset/Train/202/bcc000089.bmp  \n",
            "  inflating: Dataset/Train/202/bcc000090.bmp  \n",
            "  inflating: Dataset/Train/202/bcc000091.bmp  \n",
            "  inflating: Dataset/Train/202/bcc000092.bmp  \n",
            "  inflating: Dataset/Train/202/bcc000093.bmp  \n",
            "  inflating: Dataset/Train/202/bcc000094.bmp  \n",
            "  inflating: Dataset/Train/202/bcc000095.bmp  \n",
            "  inflating: Dataset/Train/202/bcc000096.bmp  \n",
            "  inflating: Dataset/Train/202/bcc000097.bmp  \n",
            "  inflating: Dataset/Train/202/bcc000098.bmp  \n",
            "  inflating: Dataset/Train/202/bcc000099.bmp  \n",
            "  inflating: Dataset/Train/202/bcc000100.bmp  \n",
            "  inflating: Dataset/Train/202/bcc000101.bmp  \n",
            "  inflating: Dataset/Train/202/bcc000102.bmp  \n",
            "  inflating: Dataset/Train/202/bcc000103.bmp  \n",
            "  inflating: Dataset/Train/202/bcc000104.bmp  \n",
            "  inflating: Dataset/Train/202/bcc000105.bmp  \n",
            "  inflating: Dataset/Train/202/bcc000106.bmp  \n",
            "  inflating: Dataset/Train/202/bcc000107.bmp  \n",
            "  inflating: Dataset/Train/202/bcc000108.bmp  \n",
            "  inflating: Dataset/Train/202/bcc000109.bmp  \n",
            "  inflating: Dataset/Train/202/bcc000110.bmp  \n",
            "  inflating: Dataset/Train/202/bcc000111.bmp  \n",
            "  inflating: Dataset/Train/202/bcc000112.bmp  \n",
            "  inflating: Dataset/Train/202/bcc000113.bmp  \n",
            "  inflating: Dataset/Train/202/bcc000114.bmp  \n",
            "  inflating: Dataset/Train/202/bcc000115.bmp  \n",
            "  inflating: Dataset/Train/202/bcc000116.bmp  \n",
            "  inflating: Dataset/Train/202/bcc000117.bmp  \n",
            "  inflating: Dataset/Train/202/bcc000118.bmp  \n",
            "  inflating: Dataset/Train/202/bcc000119.bmp  \n",
            "  inflating: Dataset/Train/202/bcc000120.bmp  \n",
            "  inflating: Dataset/Train/202/bcc000121.bmp  \n",
            "  inflating: Dataset/Train/202/bcc000122.bmp  \n",
            "  inflating: Dataset/Train/202/bcc000123.bmp  \n",
            "  inflating: Dataset/Train/202/bcc000124.bmp  \n",
            "  inflating: Dataset/Train/202/bcc000125.bmp  \n",
            "  inflating: Dataset/Train/202/bcc000126.bmp  \n",
            "  inflating: Dataset/Train/202/bcc000127.bmp  \n",
            "  inflating: Dataset/Train/202/bcc000128.bmp  \n",
            "  inflating: Dataset/Train/202/bcc000129.bmp  \n",
            "  inflating: Dataset/Train/202/bcc000130.bmp  \n",
            "  inflating: Dataset/Train/202/bcc000131.bmp  \n",
            "  inflating: Dataset/Train/202/bcc000132.bmp  \n",
            "  inflating: Dataset/Train/202/bcc000133.bmp  \n",
            "  inflating: Dataset/Train/202/bcc000134.bmp  \n",
            "  inflating: Dataset/Train/202/bcc000135.bmp  \n",
            "  inflating: Dataset/Train/202/bcc000136.bmp  \n",
            "  inflating: Dataset/Train/202/bcc000137.bmp  \n",
            "  inflating: Dataset/Train/202/bcc000138.bmp  \n",
            "  inflating: Dataset/Train/202/bcc000139.bmp  \n",
            "  inflating: Dataset/Train/202/bcc000140.bmp  \n",
            "  inflating: Dataset/Train/202/bcc000141.bmp  \n",
            "  inflating: Dataset/Train/202/bcc000142.bmp  \n",
            "  inflating: Dataset/Train/202/bcc000143.bmp  \n",
            "  inflating: Dataset/Train/202/bcc000144.bmp  \n",
            "  inflating: Dataset/Train/202/bcc000145.bmp  \n",
            "  inflating: Dataset/Train/202/bcc000146.bmp  \n",
            "  inflating: Dataset/Train/202/bcc000147.bmp  \n",
            "  inflating: Dataset/Train/202/bcc000148.bmp  \n",
            "  inflating: Dataset/Train/202/bcc000149.bmp  \n",
            "  inflating: Dataset/Train/202/bcc000150.bmp  \n",
            "  inflating: Dataset/Train/202/bcc000151.bmp  \n",
            "  inflating: Dataset/Train/202/bcc000152.bmp  \n",
            "  inflating: Dataset/Train/202/bcc000153.bmp  \n",
            "  inflating: Dataset/Train/202/bcc000154.bmp  \n",
            "  inflating: Dataset/Train/202/bcc000155.bmp  \n",
            "  inflating: Dataset/Train/202/bcc000156.bmp  \n",
            "  inflating: Dataset/Train/202/bcc000157.bmp  \n",
            "  inflating: Dataset/Train/202/bcc000158.bmp  \n",
            "  inflating: Dataset/Train/202/bcc000159.bmp  \n",
            "  inflating: Dataset/Train/202/bcc000160.bmp  \n",
            "  inflating: Dataset/Train/202/bcc000161.bmp  \n",
            "  inflating: Dataset/Train/202/bcc000162.bmp  \n",
            "  inflating: Dataset/Train/202/bcc000163.bmp  \n",
            "  inflating: Dataset/Train/202/bcc000164.bmp  \n",
            "  inflating: Dataset/Train/202/bcc000165.bmp  \n",
            "  inflating: Dataset/Train/202/bcc000166.bmp  \n",
            "  inflating: Dataset/Train/202/bcc000167.bmp  \n",
            "  inflating: Dataset/Train/202/bcc000168.bmp  \n",
            "  inflating: Dataset/Train/202/bcc000169.bmp  \n",
            "  inflating: Dataset/Train/202/bcc000170.bmp  \n",
            "  inflating: Dataset/Train/202/bcc000171.bmp  \n",
            "  inflating: Dataset/Train/202/bcc000172.bmp  \n",
            "  inflating: Dataset/Train/202/bcc000173.bmp  \n",
            "  inflating: Dataset/Train/202/bcc000174.bmp  \n",
            "  inflating: Dataset/Train/202/bcc000175.bmp  \n",
            "  inflating: Dataset/Train/202/bcc000176.bmp  \n",
            "  inflating: Dataset/Train/202/bcc000177.bmp  \n",
            "  inflating: Dataset/Train/202/bcc000178.bmp  \n",
            "  inflating: Dataset/Train/202/bcc000179.bmp  \n",
            "  inflating: Dataset/Train/202/bcc000180.bmp  \n",
            "  inflating: Dataset/Train/202/bcc000181.bmp  \n",
            "  inflating: Dataset/Train/202/bcc000182.bmp  \n",
            "  inflating: Dataset/Train/202/bcc000183.bmp  \n",
            "  inflating: Dataset/Train/202/bcc000184.bmp  \n",
            "  inflating: Dataset/Train/202/bcc000185.bmp  \n",
            "  inflating: Dataset/Train/202/bcc000186.bmp  \n",
            "  inflating: Dataset/Train/202/bcc000187.bmp  \n",
            "  inflating: Dataset/Train/202/bcc000188.bmp  \n",
            "  inflating: Dataset/Train/202/bcc000189.bmp  \n",
            "  inflating: Dataset/Train/202/bcc000190.bmp  \n",
            "  inflating: Dataset/Train/202/bcc000191.bmp  \n",
            "  inflating: Dataset/Train/202/bcc000192.bmp  \n",
            "  inflating: Dataset/Train/202/bcc000193.bmp  \n",
            "  inflating: Dataset/Train/202/bcc000194.bmp  \n",
            "  inflating: Dataset/Train/202/bcc000195.bmp  \n",
            "  inflating: Dataset/Train/202/bcc000196.bmp  \n",
            "  inflating: Dataset/Train/202/bcc000197.bmp  \n",
            "  inflating: Dataset/Train/202/bcc000198.bmp  \n",
            "  inflating: Dataset/Train/202/bcc000199.bmp  \n",
            "  inflating: Dataset/Train/202/bcc000200.bmp  \n",
            "  inflating: Dataset/Train/202/bcc000201.bmp  \n",
            "  inflating: Dataset/Train/202/bcc000202.bmp  \n",
            "  inflating: Dataset/Train/202/bcc000203.bmp  \n",
            "  inflating: Dataset/Train/202/bcc000204.bmp  \n",
            "  inflating: Dataset/Train/202/bcc000205.bmp  \n",
            "  inflating: Dataset/Train/202/bcc000206.bmp  \n",
            "  inflating: Dataset/Train/202/bcc000207.bmp  \n",
            "  inflating: Dataset/Train/202/bcc000208.bmp  \n",
            "  inflating: Dataset/Train/202/bcc000209.bmp  \n",
            "  inflating: Dataset/Train/202/bcc000210.bmp  \n",
            "  inflating: Dataset/Train/202/bcc000211.bmp  \n",
            "  inflating: Dataset/Train/202/bcc000212.bmp  \n",
            "  inflating: Dataset/Train/202/bcc000213.bmp  \n",
            "  inflating: Dataset/Train/202/bcc000214.bmp  \n",
            "  inflating: Dataset/Train/202/bcc000215.bmp  \n",
            "  inflating: Dataset/Train/202/bcc000216.bmp  \n",
            "  inflating: Dataset/Train/202/bcc000217.bmp  \n",
            "  inflating: Dataset/Train/202/bcc000218.bmp  \n",
            "  inflating: Dataset/Train/202/bcc000219.bmp  \n",
            "  inflating: Dataset/Train/202/bcc000220.bmp  \n",
            "  inflating: Dataset/Train/202/bcc000221.bmp  \n",
            "  inflating: Dataset/Train/202/bcc000222.bmp  \n",
            "  inflating: Dataset/Train/202/bcc000223.bmp  \n",
            "  inflating: Dataset/Train/202/bcc000224.bmp  \n",
            "  inflating: Dataset/Train/202/bcc000225.bmp  \n",
            "  inflating: Dataset/Train/202/bcc000226.bmp  \n",
            "  inflating: Dataset/Train/202/bcc000227.bmp  \n",
            "  inflating: Dataset/Train/202/bcc000228.bmp  \n",
            "  inflating: Dataset/Train/202/bcc000229.bmp  \n",
            "  inflating: Dataset/Train/202/bcc000230.bmp  \n",
            "  inflating: Dataset/Train/202/bcc000231.bmp  \n",
            "  inflating: Dataset/Train/202/bcc000232.bmp  \n",
            "  inflating: Dataset/Train/202/bcc000233.bmp  \n",
            "  inflating: Dataset/Train/202/bcc000234.bmp  \n",
            "  inflating: Dataset/Train/202/bcc000235.bmp  \n",
            "  inflating: Dataset/Train/202/bcc000236.bmp  \n",
            "  inflating: Dataset/Train/202/bcc000237.bmp  \n",
            "  inflating: Dataset/Train/202/bcc000238.bmp  \n",
            "  inflating: Dataset/Train/202/bcc000239.bmp  \n",
            "   creating: Dataset/Train/203/\n",
            "  inflating: Dataset/Train/203/bcc000000.bmp  \n",
            "  inflating: Dataset/Train/203/bcc000001.bmp  \n",
            "  inflating: Dataset/Train/203/bcc000002.bmp  \n",
            "  inflating: Dataset/Train/203/bcc000003.bmp  \n",
            "  inflating: Dataset/Train/203/bcc000004.bmp  \n",
            "  inflating: Dataset/Train/203/bcc000005.bmp  \n",
            "  inflating: Dataset/Train/203/bcc000006.bmp  \n",
            "  inflating: Dataset/Train/203/bcc000007.bmp  \n",
            "  inflating: Dataset/Train/203/bcc000008.bmp  \n",
            "  inflating: Dataset/Train/203/bcc000009.bmp  \n",
            "  inflating: Dataset/Train/203/bcc000010.bmp  \n",
            "  inflating: Dataset/Train/203/bcc000011.bmp  \n",
            "  inflating: Dataset/Train/203/bcc000012.bmp  \n",
            "  inflating: Dataset/Train/203/bcc000013.bmp  \n",
            "  inflating: Dataset/Train/203/bcc000014.bmp  \n",
            "  inflating: Dataset/Train/203/bcc000015.bmp  \n",
            "  inflating: Dataset/Train/203/bcc000016.bmp  \n",
            "  inflating: Dataset/Train/203/bcc000017.bmp  \n",
            "  inflating: Dataset/Train/203/bcc000018.bmp  \n",
            "  inflating: Dataset/Train/203/bcc000019.bmp  \n",
            "  inflating: Dataset/Train/203/bcc000020.bmp  \n",
            "  inflating: Dataset/Train/203/bcc000021.bmp  \n",
            "  inflating: Dataset/Train/203/bcc000022.bmp  \n",
            "  inflating: Dataset/Train/203/bcc000023.bmp  \n",
            "  inflating: Dataset/Train/203/bcc000024.bmp  \n",
            "  inflating: Dataset/Train/203/bcc000025.bmp  \n",
            "  inflating: Dataset/Train/203/bcc000026.bmp  \n",
            "  inflating: Dataset/Train/203/bcc000027.bmp  \n",
            "  inflating: Dataset/Train/203/bcc000028.bmp  \n",
            "  inflating: Dataset/Train/203/bcc000029.bmp  \n",
            "  inflating: Dataset/Train/203/bcc000030.bmp  \n",
            "  inflating: Dataset/Train/203/bcc000031.bmp  \n",
            "  inflating: Dataset/Train/203/bcc000032.bmp  \n",
            "  inflating: Dataset/Train/203/bcc000033.bmp  \n",
            "  inflating: Dataset/Train/203/bcc000034.bmp  \n",
            "  inflating: Dataset/Train/203/bcc000035.bmp  \n",
            "  inflating: Dataset/Train/203/bcc000036.bmp  \n",
            "  inflating: Dataset/Train/203/bcc000037.bmp  \n",
            "  inflating: Dataset/Train/203/bcc000038.bmp  \n",
            "  inflating: Dataset/Train/203/bcc000039.bmp  \n",
            "  inflating: Dataset/Train/203/bcc000040.bmp  \n",
            "  inflating: Dataset/Train/203/bcc000041.bmp  \n",
            "  inflating: Dataset/Train/203/bcc000042.bmp  \n",
            "  inflating: Dataset/Train/203/bcc000043.bmp  \n",
            "  inflating: Dataset/Train/203/bcc000044.bmp  \n",
            "  inflating: Dataset/Train/203/bcc000045.bmp  \n",
            "  inflating: Dataset/Train/203/bcc000046.bmp  \n",
            "  inflating: Dataset/Train/203/bcc000047.bmp  \n",
            "  inflating: Dataset/Train/203/bcc000048.bmp  \n",
            "  inflating: Dataset/Train/203/bcc000049.bmp  \n",
            "  inflating: Dataset/Train/203/bcc000050.bmp  \n",
            "  inflating: Dataset/Train/203/bcc000051.bmp  \n",
            "  inflating: Dataset/Train/203/bcc000052.bmp  \n",
            "  inflating: Dataset/Train/203/bcc000053.bmp  \n",
            "  inflating: Dataset/Train/203/bcc000054.bmp  \n",
            "  inflating: Dataset/Train/203/bcc000055.bmp  \n",
            "  inflating: Dataset/Train/203/bcc000056.bmp  \n",
            "  inflating: Dataset/Train/203/bcc000057.bmp  \n",
            "  inflating: Dataset/Train/203/bcc000058.bmp  \n",
            "  inflating: Dataset/Train/203/bcc000059.bmp  \n",
            "  inflating: Dataset/Train/203/bcc000060.bmp  \n",
            "  inflating: Dataset/Train/203/bcc000061.bmp  \n",
            "  inflating: Dataset/Train/203/bcc000062.bmp  \n",
            "  inflating: Dataset/Train/203/bcc000063.bmp  \n",
            "  inflating: Dataset/Train/203/bcc000064.bmp  \n",
            "  inflating: Dataset/Train/203/bcc000065.bmp  \n",
            "  inflating: Dataset/Train/203/bcc000066.bmp  \n",
            "  inflating: Dataset/Train/203/bcc000067.bmp  \n",
            "  inflating: Dataset/Train/203/bcc000068.bmp  \n",
            "  inflating: Dataset/Train/203/bcc000069.bmp  \n",
            "  inflating: Dataset/Train/203/bcc000070.bmp  \n",
            "  inflating: Dataset/Train/203/bcc000071.bmp  \n",
            "  inflating: Dataset/Train/203/bcc000072.bmp  \n",
            "  inflating: Dataset/Train/203/bcc000073.bmp  \n",
            "  inflating: Dataset/Train/203/bcc000074.bmp  \n",
            "  inflating: Dataset/Train/203/bcc000075.bmp  \n",
            "  inflating: Dataset/Train/203/bcc000076.bmp  \n",
            "  inflating: Dataset/Train/203/bcc000077.bmp  \n",
            "  inflating: Dataset/Train/203/bcc000078.bmp  \n",
            "  inflating: Dataset/Train/203/bcc000079.bmp  \n",
            "  inflating: Dataset/Train/203/bcc000080.bmp  \n",
            "  inflating: Dataset/Train/203/bcc000081.bmp  \n",
            "  inflating: Dataset/Train/203/bcc000082.bmp  \n",
            "  inflating: Dataset/Train/203/bcc000083.bmp  \n",
            "  inflating: Dataset/Train/203/bcc000084.bmp  \n",
            "  inflating: Dataset/Train/203/bcc000085.bmp  \n",
            "  inflating: Dataset/Train/203/bcc000086.bmp  \n",
            "  inflating: Dataset/Train/203/bcc000087.bmp  \n",
            "  inflating: Dataset/Train/203/bcc000088.bmp  \n",
            "  inflating: Dataset/Train/203/bcc000089.bmp  \n",
            "  inflating: Dataset/Train/203/bcc000090.bmp  \n",
            "  inflating: Dataset/Train/203/bcc000091.bmp  \n",
            "  inflating: Dataset/Train/203/bcc000092.bmp  \n",
            "  inflating: Dataset/Train/203/bcc000093.bmp  \n",
            "  inflating: Dataset/Train/203/bcc000094.bmp  \n",
            "  inflating: Dataset/Train/203/bcc000095.bmp  \n",
            "  inflating: Dataset/Train/203/bcc000096.bmp  \n",
            "  inflating: Dataset/Train/203/bcc000097.bmp  \n",
            "  inflating: Dataset/Train/203/bcc000098.bmp  \n",
            "  inflating: Dataset/Train/203/bcc000099.bmp  \n",
            "  inflating: Dataset/Train/203/bcc000100.bmp  \n",
            "  inflating: Dataset/Train/203/bcc000101.bmp  \n",
            "  inflating: Dataset/Train/203/bcc000102.bmp  \n",
            "  inflating: Dataset/Train/203/bcc000103.bmp  \n",
            "  inflating: Dataset/Train/203/bcc000104.bmp  \n",
            "  inflating: Dataset/Train/203/bcc000105.bmp  \n",
            "  inflating: Dataset/Train/203/bcc000106.bmp  \n",
            "  inflating: Dataset/Train/203/bcc000107.bmp  \n",
            "  inflating: Dataset/Train/203/bcc000108.bmp  \n",
            "  inflating: Dataset/Train/203/bcc000109.bmp  \n",
            "  inflating: Dataset/Train/203/bcc000110.bmp  \n",
            "  inflating: Dataset/Train/203/bcc000111.bmp  \n",
            "  inflating: Dataset/Train/203/bcc000112.bmp  \n",
            "  inflating: Dataset/Train/203/bcc000113.bmp  \n",
            "  inflating: Dataset/Train/203/bcc000114.bmp  \n",
            "  inflating: Dataset/Train/203/bcc000115.bmp  \n",
            "  inflating: Dataset/Train/203/bcc000116.bmp  \n",
            "  inflating: Dataset/Train/203/bcc000117.bmp  \n",
            "  inflating: Dataset/Train/203/bcc000118.bmp  \n",
            "  inflating: Dataset/Train/203/bcc000119.bmp  \n",
            "  inflating: Dataset/Train/203/bcc000120.bmp  \n",
            "  inflating: Dataset/Train/203/bcc000121.bmp  \n",
            "  inflating: Dataset/Train/203/bcc000122.bmp  \n",
            "  inflating: Dataset/Train/203/bcc000123.bmp  \n",
            "  inflating: Dataset/Train/203/bcc000124.bmp  \n",
            "  inflating: Dataset/Train/203/bcc000125.bmp  \n",
            "  inflating: Dataset/Train/203/bcc000126.bmp  \n",
            "  inflating: Dataset/Train/203/bcc000127.bmp  \n",
            "  inflating: Dataset/Train/203/bcc000128.bmp  \n",
            "  inflating: Dataset/Train/203/bcc000129.bmp  \n",
            "  inflating: Dataset/Train/203/bcc000130.bmp  \n",
            "  inflating: Dataset/Train/203/bcc000131.bmp  \n",
            "  inflating: Dataset/Train/203/bcc000132.bmp  \n",
            "  inflating: Dataset/Train/203/bcc000133.bmp  \n",
            "  inflating: Dataset/Train/203/bcc000134.bmp  \n",
            "  inflating: Dataset/Train/203/bcc000135.bmp  \n",
            "  inflating: Dataset/Train/203/bcc000136.bmp  \n",
            "  inflating: Dataset/Train/203/bcc000137.bmp  \n",
            "  inflating: Dataset/Train/203/bcc000138.bmp  \n",
            "  inflating: Dataset/Train/203/bcc000139.bmp  \n",
            "  inflating: Dataset/Train/203/bcc000140.bmp  \n",
            "  inflating: Dataset/Train/203/bcc000141.bmp  \n",
            "  inflating: Dataset/Train/203/bcc000142.bmp  \n",
            "  inflating: Dataset/Train/203/bcc000143.bmp  \n",
            "  inflating: Dataset/Train/203/bcc000144.bmp  \n",
            "  inflating: Dataset/Train/203/bcc000145.bmp  \n",
            "  inflating: Dataset/Train/203/bcc000146.bmp  \n",
            "  inflating: Dataset/Train/203/bcc000147.bmp  \n",
            "  inflating: Dataset/Train/203/bcc000148.bmp  \n",
            "  inflating: Dataset/Train/203/bcc000149.bmp  \n",
            "  inflating: Dataset/Train/203/bcc000150.bmp  \n",
            "  inflating: Dataset/Train/203/bcc000151.bmp  \n",
            "  inflating: Dataset/Train/203/bcc000152.bmp  \n",
            "  inflating: Dataset/Train/203/bcc000153.bmp  \n",
            "  inflating: Dataset/Train/203/bcc000154.bmp  \n",
            "  inflating: Dataset/Train/203/bcc000155.bmp  \n",
            "  inflating: Dataset/Train/203/bcc000156.bmp  \n",
            "  inflating: Dataset/Train/203/bcc000157.bmp  \n",
            "  inflating: Dataset/Train/203/bcc000158.bmp  \n",
            "  inflating: Dataset/Train/203/bcc000159.bmp  \n",
            "  inflating: Dataset/Train/203/bcc000160.bmp  \n",
            "  inflating: Dataset/Train/203/bcc000161.bmp  \n",
            "  inflating: Dataset/Train/203/bcc000162.bmp  \n",
            "  inflating: Dataset/Train/203/bcc000163.bmp  \n",
            "  inflating: Dataset/Train/203/bcc000164.bmp  \n",
            "  inflating: Dataset/Train/203/bcc000165.bmp  \n",
            "  inflating: Dataset/Train/203/bcc000166.bmp  \n",
            "  inflating: Dataset/Train/203/bcc000167.bmp  \n",
            "  inflating: Dataset/Train/203/bcc000168.bmp  \n",
            "  inflating: Dataset/Train/203/bcc000169.bmp  \n",
            "  inflating: Dataset/Train/203/bcc000170.bmp  \n",
            "  inflating: Dataset/Train/203/bcc000171.bmp  \n",
            "  inflating: Dataset/Train/203/bcc000172.bmp  \n",
            "  inflating: Dataset/Train/203/bcc000173.bmp  \n",
            "  inflating: Dataset/Train/203/bcc000174.bmp  \n",
            "  inflating: Dataset/Train/203/bcc000175.bmp  \n",
            "  inflating: Dataset/Train/203/bcc000176.bmp  \n",
            "  inflating: Dataset/Train/203/bcc000177.bmp  \n",
            "  inflating: Dataset/Train/203/bcc000178.bmp  \n",
            "  inflating: Dataset/Train/203/bcc000179.bmp  \n",
            "  inflating: Dataset/Train/203/bcc000180.bmp  \n",
            "  inflating: Dataset/Train/203/bcc000181.bmp  \n",
            "  inflating: Dataset/Train/203/bcc000182.bmp  \n",
            "  inflating: Dataset/Train/203/bcc000183.bmp  \n",
            "  inflating: Dataset/Train/203/bcc000184.bmp  \n",
            "  inflating: Dataset/Train/203/bcc000185.bmp  \n",
            "  inflating: Dataset/Train/203/bcc000186.bmp  \n",
            "  inflating: Dataset/Train/203/bcc000187.bmp  \n",
            "  inflating: Dataset/Train/203/bcc000188.bmp  \n",
            "  inflating: Dataset/Train/203/bcc000189.bmp  \n",
            "  inflating: Dataset/Train/203/bcc000190.bmp  \n",
            "  inflating: Dataset/Train/203/bcc000191.bmp  \n",
            "  inflating: Dataset/Train/203/bcc000192.bmp  \n",
            "  inflating: Dataset/Train/203/bcc000193.bmp  \n",
            "  inflating: Dataset/Train/203/bcc000194.bmp  \n",
            "  inflating: Dataset/Train/203/bcc000195.bmp  \n",
            "  inflating: Dataset/Train/203/bcc000196.bmp  \n",
            "  inflating: Dataset/Train/203/bcc000197.bmp  \n",
            "  inflating: Dataset/Train/203/bcc000198.bmp  \n",
            "  inflating: Dataset/Train/203/bcc000199.bmp  \n",
            "  inflating: Dataset/Train/203/bcc000200.bmp  \n",
            "  inflating: Dataset/Train/203/bcc000201.bmp  \n",
            "  inflating: Dataset/Train/203/bcc000202.bmp  \n",
            "  inflating: Dataset/Train/203/bcc000203.bmp  \n",
            "  inflating: Dataset/Train/203/bcc000204.bmp  \n",
            "  inflating: Dataset/Train/203/bcc000205.bmp  \n",
            "  inflating: Dataset/Train/203/bcc000206.bmp  \n",
            "  inflating: Dataset/Train/203/bcc000207.bmp  \n",
            "  inflating: Dataset/Train/203/bcc000208.bmp  \n",
            "  inflating: Dataset/Train/203/bcc000209.bmp  \n",
            "  inflating: Dataset/Train/203/bcc000210.bmp  \n",
            "  inflating: Dataset/Train/203/bcc000211.bmp  \n",
            "  inflating: Dataset/Train/203/bcc000212.bmp  \n",
            "  inflating: Dataset/Train/203/bcc000213.bmp  \n",
            "  inflating: Dataset/Train/203/bcc000214.bmp  \n",
            "  inflating: Dataset/Train/203/bcc000215.bmp  \n",
            "  inflating: Dataset/Train/203/bcc000216.bmp  \n",
            "  inflating: Dataset/Train/203/bcc000217.bmp  \n",
            "  inflating: Dataset/Train/203/bcc000218.bmp  \n",
            "  inflating: Dataset/Train/203/bcc000219.bmp  \n",
            "  inflating: Dataset/Train/203/bcc000220.bmp  \n",
            "  inflating: Dataset/Train/203/bcc000221.bmp  \n",
            "  inflating: Dataset/Train/203/bcc000222.bmp  \n",
            "  inflating: Dataset/Train/203/bcc000223.bmp  \n",
            "  inflating: Dataset/Train/203/bcc000224.bmp  \n",
            "  inflating: Dataset/Train/203/bcc000225.bmp  \n",
            "  inflating: Dataset/Train/203/bcc000226.bmp  \n",
            "  inflating: Dataset/Train/203/bcc000227.bmp  \n",
            "  inflating: Dataset/Train/203/bcc000228.bmp  \n",
            "  inflating: Dataset/Train/203/bcc000229.bmp  \n",
            "  inflating: Dataset/Train/203/bcc000230.bmp  \n",
            "  inflating: Dataset/Train/203/bcc000231.bmp  \n",
            "  inflating: Dataset/Train/203/bcc000232.bmp  \n",
            "  inflating: Dataset/Train/203/bcc000233.bmp  \n",
            "  inflating: Dataset/Train/203/bcc000234.bmp  \n",
            "  inflating: Dataset/Train/203/bcc000235.bmp  \n",
            "  inflating: Dataset/Train/203/bcc000236.bmp  \n",
            "  inflating: Dataset/Train/203/bcc000237.bmp  \n",
            "  inflating: Dataset/Train/203/bcc000238.bmp  \n",
            "  inflating: Dataset/Train/203/bcc000239.bmp  \n",
            "   creating: Dataset/Train/204/\n",
            "  inflating: Dataset/Train/204/bcc000000.bmp  \n",
            "  inflating: Dataset/Train/204/bcc000001.bmp  \n",
            "  inflating: Dataset/Train/204/bcc000002.bmp  \n",
            "  inflating: Dataset/Train/204/bcc000003.bmp  \n",
            "  inflating: Dataset/Train/204/bcc000004.bmp  \n",
            "  inflating: Dataset/Train/204/bcc000005.bmp  \n",
            "  inflating: Dataset/Train/204/bcc000006.bmp  \n",
            "  inflating: Dataset/Train/204/bcc000007.bmp  \n",
            "  inflating: Dataset/Train/204/bcc000008.bmp  \n",
            "  inflating: Dataset/Train/204/bcc000009.bmp  \n",
            "  inflating: Dataset/Train/204/bcc000010.bmp  \n",
            "  inflating: Dataset/Train/204/bcc000011.bmp  \n",
            "  inflating: Dataset/Train/204/bcc000012.bmp  \n",
            "  inflating: Dataset/Train/204/bcc000013.bmp  \n",
            "  inflating: Dataset/Train/204/bcc000014.bmp  \n",
            "  inflating: Dataset/Train/204/bcc000015.bmp  \n",
            "  inflating: Dataset/Train/204/bcc000016.bmp  \n",
            "  inflating: Dataset/Train/204/bcc000017.bmp  \n",
            "  inflating: Dataset/Train/204/bcc000018.bmp  \n",
            "  inflating: Dataset/Train/204/bcc000019.bmp  \n",
            "  inflating: Dataset/Train/204/bcc000020.bmp  \n",
            "  inflating: Dataset/Train/204/bcc000021.bmp  \n",
            "  inflating: Dataset/Train/204/bcc000022.bmp  \n",
            "  inflating: Dataset/Train/204/bcc000023.bmp  \n",
            "  inflating: Dataset/Train/204/bcc000024.bmp  \n",
            "  inflating: Dataset/Train/204/bcc000025.bmp  \n",
            "  inflating: Dataset/Train/204/bcc000026.bmp  \n",
            "  inflating: Dataset/Train/204/bcc000027.bmp  \n",
            "  inflating: Dataset/Train/204/bcc000028.bmp  \n",
            "  inflating: Dataset/Train/204/bcc000029.bmp  \n",
            "  inflating: Dataset/Train/204/bcc000030.bmp  \n",
            "  inflating: Dataset/Train/204/bcc000031.bmp  \n",
            "  inflating: Dataset/Train/204/bcc000032.bmp  \n",
            "  inflating: Dataset/Train/204/bcc000033.bmp  \n",
            "  inflating: Dataset/Train/204/bcc000034.bmp  \n",
            "  inflating: Dataset/Train/204/bcc000035.bmp  \n",
            "  inflating: Dataset/Train/204/bcc000036.bmp  \n",
            "  inflating: Dataset/Train/204/bcc000037.bmp  \n",
            "  inflating: Dataset/Train/204/bcc000038.bmp  \n",
            "  inflating: Dataset/Train/204/bcc000039.bmp  \n",
            "  inflating: Dataset/Train/204/bcc000040.bmp  \n",
            "  inflating: Dataset/Train/204/bcc000041.bmp  \n",
            "  inflating: Dataset/Train/204/bcc000042.bmp  \n",
            "  inflating: Dataset/Train/204/bcc000043.bmp  \n",
            "  inflating: Dataset/Train/204/bcc000044.bmp  \n",
            "  inflating: Dataset/Train/204/bcc000045.bmp  \n",
            "  inflating: Dataset/Train/204/bcc000046.bmp  \n",
            "  inflating: Dataset/Train/204/bcc000047.bmp  \n",
            "  inflating: Dataset/Train/204/bcc000048.bmp  \n",
            "  inflating: Dataset/Train/204/bcc000049.bmp  \n",
            "  inflating: Dataset/Train/204/bcc000050.bmp  \n",
            "  inflating: Dataset/Train/204/bcc000051.bmp  \n",
            "  inflating: Dataset/Train/204/bcc000052.bmp  \n",
            "  inflating: Dataset/Train/204/bcc000053.bmp  \n",
            "  inflating: Dataset/Train/204/bcc000054.bmp  \n",
            "  inflating: Dataset/Train/204/bcc000055.bmp  \n",
            "  inflating: Dataset/Train/204/bcc000056.bmp  \n",
            "  inflating: Dataset/Train/204/bcc000057.bmp  \n",
            "  inflating: Dataset/Train/204/bcc000058.bmp  \n",
            "  inflating: Dataset/Train/204/bcc000059.bmp  \n",
            "  inflating: Dataset/Train/204/bcc000060.bmp  \n",
            "  inflating: Dataset/Train/204/bcc000061.bmp  \n",
            "  inflating: Dataset/Train/204/bcc000062.bmp  \n",
            "  inflating: Dataset/Train/204/bcc000063.bmp  \n",
            "  inflating: Dataset/Train/204/bcc000064.bmp  \n",
            "  inflating: Dataset/Train/204/bcc000065.bmp  \n",
            "  inflating: Dataset/Train/204/bcc000066.bmp  \n",
            "  inflating: Dataset/Train/204/bcc000067.bmp  \n",
            "  inflating: Dataset/Train/204/bcc000068.bmp  \n",
            "  inflating: Dataset/Train/204/bcc000069.bmp  \n",
            "  inflating: Dataset/Train/204/bcc000070.bmp  \n",
            "  inflating: Dataset/Train/204/bcc000071.bmp  \n",
            "  inflating: Dataset/Train/204/bcc000072.bmp  \n",
            "  inflating: Dataset/Train/204/bcc000073.bmp  \n",
            "  inflating: Dataset/Train/204/bcc000074.bmp  \n",
            "  inflating: Dataset/Train/204/bcc000075.bmp  \n",
            "  inflating: Dataset/Train/204/bcc000076.bmp  \n",
            "  inflating: Dataset/Train/204/bcc000077.bmp  \n",
            "  inflating: Dataset/Train/204/bcc000078.bmp  \n",
            "  inflating: Dataset/Train/204/bcc000079.bmp  \n",
            "  inflating: Dataset/Train/204/bcc000080.bmp  \n",
            "  inflating: Dataset/Train/204/bcc000081.bmp  \n",
            "  inflating: Dataset/Train/204/bcc000082.bmp  \n",
            "  inflating: Dataset/Train/204/bcc000083.bmp  \n",
            "  inflating: Dataset/Train/204/bcc000084.bmp  \n",
            "  inflating: Dataset/Train/204/bcc000085.bmp  \n",
            "  inflating: Dataset/Train/204/bcc000086.bmp  \n",
            "  inflating: Dataset/Train/204/bcc000087.bmp  \n",
            "  inflating: Dataset/Train/204/bcc000088.bmp  \n",
            "  inflating: Dataset/Train/204/bcc000089.bmp  \n",
            "  inflating: Dataset/Train/204/bcc000090.bmp  \n",
            "  inflating: Dataset/Train/204/bcc000091.bmp  \n",
            "  inflating: Dataset/Train/204/bcc000092.bmp  \n",
            "  inflating: Dataset/Train/204/bcc000093.bmp  \n",
            "  inflating: Dataset/Train/204/bcc000094.bmp  \n",
            "  inflating: Dataset/Train/204/bcc000095.bmp  \n",
            "  inflating: Dataset/Train/204/bcc000096.bmp  \n",
            "  inflating: Dataset/Train/204/bcc000097.bmp  \n",
            "  inflating: Dataset/Train/204/bcc000098.bmp  \n",
            "  inflating: Dataset/Train/204/bcc000099.bmp  \n",
            "  inflating: Dataset/Train/204/bcc000100.bmp  \n",
            "  inflating: Dataset/Train/204/bcc000101.bmp  \n",
            "  inflating: Dataset/Train/204/bcc000102.bmp  \n",
            "  inflating: Dataset/Train/204/bcc000103.bmp  \n",
            "  inflating: Dataset/Train/204/bcc000104.bmp  \n",
            "  inflating: Dataset/Train/204/bcc000105.bmp  \n",
            "  inflating: Dataset/Train/204/bcc000106.bmp  \n",
            "  inflating: Dataset/Train/204/bcc000107.bmp  \n",
            "  inflating: Dataset/Train/204/bcc000108.bmp  \n",
            "  inflating: Dataset/Train/204/bcc000109.bmp  \n",
            "  inflating: Dataset/Train/204/bcc000110.bmp  \n",
            "  inflating: Dataset/Train/204/bcc000111.bmp  \n",
            "  inflating: Dataset/Train/204/bcc000112.bmp  \n",
            "  inflating: Dataset/Train/204/bcc000113.bmp  \n",
            "  inflating: Dataset/Train/204/bcc000114.bmp  \n",
            "  inflating: Dataset/Train/204/bcc000115.bmp  \n",
            "  inflating: Dataset/Train/204/bcc000116.bmp  \n",
            "  inflating: Dataset/Train/204/bcc000117.bmp  \n",
            "  inflating: Dataset/Train/204/bcc000118.bmp  \n",
            "  inflating: Dataset/Train/204/bcc000119.bmp  \n",
            "  inflating: Dataset/Train/204/bcc000120.bmp  \n",
            "  inflating: Dataset/Train/204/bcc000121.bmp  \n",
            "  inflating: Dataset/Train/204/bcc000122.bmp  \n",
            "  inflating: Dataset/Train/204/bcc000123.bmp  \n",
            "  inflating: Dataset/Train/204/bcc000124.bmp  \n",
            "  inflating: Dataset/Train/204/bcc000125.bmp  \n",
            "  inflating: Dataset/Train/204/bcc000126.bmp  \n",
            "  inflating: Dataset/Train/204/bcc000127.bmp  \n",
            "  inflating: Dataset/Train/204/bcc000128.bmp  \n",
            "  inflating: Dataset/Train/204/bcc000129.bmp  \n",
            "  inflating: Dataset/Train/204/bcc000130.bmp  \n",
            "  inflating: Dataset/Train/204/bcc000131.bmp  \n",
            "  inflating: Dataset/Train/204/bcc000132.bmp  \n",
            "  inflating: Dataset/Train/204/bcc000133.bmp  \n",
            "  inflating: Dataset/Train/204/bcc000134.bmp  \n",
            "  inflating: Dataset/Train/204/bcc000135.bmp  \n",
            "  inflating: Dataset/Train/204/bcc000136.bmp  \n",
            "  inflating: Dataset/Train/204/bcc000137.bmp  \n",
            "  inflating: Dataset/Train/204/bcc000138.bmp  \n",
            "  inflating: Dataset/Train/204/bcc000139.bmp  \n",
            "  inflating: Dataset/Train/204/bcc000140.bmp  \n",
            "  inflating: Dataset/Train/204/bcc000141.bmp  \n",
            "  inflating: Dataset/Train/204/bcc000142.bmp  \n",
            "  inflating: Dataset/Train/204/bcc000143.bmp  \n",
            "  inflating: Dataset/Train/204/bcc000144.bmp  \n",
            "  inflating: Dataset/Train/204/bcc000145.bmp  \n",
            "  inflating: Dataset/Train/204/bcc000146.bmp  \n",
            "  inflating: Dataset/Train/204/bcc000147.bmp  \n",
            "  inflating: Dataset/Train/204/bcc000148.bmp  \n",
            "  inflating: Dataset/Train/204/bcc000149.bmp  \n",
            "  inflating: Dataset/Train/204/bcc000150.bmp  \n",
            "  inflating: Dataset/Train/204/bcc000151.bmp  \n",
            "  inflating: Dataset/Train/204/bcc000152.bmp  \n",
            "  inflating: Dataset/Train/204/bcc000153.bmp  \n",
            "  inflating: Dataset/Train/204/bcc000154.bmp  \n",
            "  inflating: Dataset/Train/204/bcc000155.bmp  \n",
            "  inflating: Dataset/Train/204/bcc000156.bmp  \n",
            "  inflating: Dataset/Train/204/bcc000157.bmp  \n",
            "  inflating: Dataset/Train/204/bcc000158.bmp  \n",
            "  inflating: Dataset/Train/204/bcc000159.bmp  \n",
            "  inflating: Dataset/Train/204/bcc000160.bmp  \n",
            "  inflating: Dataset/Train/204/bcc000161.bmp  \n",
            "  inflating: Dataset/Train/204/bcc000162.bmp  \n",
            "  inflating: Dataset/Train/204/bcc000163.bmp  \n",
            "  inflating: Dataset/Train/204/bcc000164.bmp  \n",
            "  inflating: Dataset/Train/204/bcc000165.bmp  \n",
            "  inflating: Dataset/Train/204/bcc000166.bmp  \n",
            "  inflating: Dataset/Train/204/bcc000167.bmp  \n",
            "  inflating: Dataset/Train/204/bcc000168.bmp  \n",
            "  inflating: Dataset/Train/204/bcc000169.bmp  \n",
            "  inflating: Dataset/Train/204/bcc000170.bmp  \n",
            "  inflating: Dataset/Train/204/bcc000171.bmp  \n",
            "  inflating: Dataset/Train/204/bcc000172.bmp  \n",
            "  inflating: Dataset/Train/204/bcc000173.bmp  \n",
            "  inflating: Dataset/Train/204/bcc000174.bmp  \n",
            "  inflating: Dataset/Train/204/bcc000175.bmp  \n",
            "  inflating: Dataset/Train/204/bcc000176.bmp  \n",
            "  inflating: Dataset/Train/204/bcc000177.bmp  \n",
            "  inflating: Dataset/Train/204/bcc000178.bmp  \n",
            "  inflating: Dataset/Train/204/bcc000179.bmp  \n",
            "  inflating: Dataset/Train/204/bcc000180.bmp  \n",
            "  inflating: Dataset/Train/204/bcc000181.bmp  \n",
            "  inflating: Dataset/Train/204/bcc000182.bmp  \n",
            "  inflating: Dataset/Train/204/bcc000183.bmp  \n",
            "  inflating: Dataset/Train/204/bcc000184.bmp  \n",
            "  inflating: Dataset/Train/204/bcc000185.bmp  \n",
            "  inflating: Dataset/Train/204/bcc000186.bmp  \n",
            "  inflating: Dataset/Train/204/bcc000187.bmp  \n",
            "  inflating: Dataset/Train/204/bcc000188.bmp  \n",
            "  inflating: Dataset/Train/204/bcc000189.bmp  \n",
            "  inflating: Dataset/Train/204/bcc000190.bmp  \n",
            "  inflating: Dataset/Train/204/bcc000191.bmp  \n",
            "  inflating: Dataset/Train/204/bcc000192.bmp  \n",
            "  inflating: Dataset/Train/204/bcc000193.bmp  \n",
            "  inflating: Dataset/Train/204/bcc000194.bmp  \n",
            "  inflating: Dataset/Train/204/bcc000195.bmp  \n",
            "  inflating: Dataset/Train/204/bcc000196.bmp  \n",
            "  inflating: Dataset/Train/204/bcc000197.bmp  \n",
            "  inflating: Dataset/Train/204/bcc000198.bmp  \n",
            "  inflating: Dataset/Train/204/bcc000199.bmp  \n",
            "  inflating: Dataset/Train/204/bcc000200.bmp  \n",
            "  inflating: Dataset/Train/204/bcc000201.bmp  \n",
            "  inflating: Dataset/Train/204/bcc000202.bmp  \n",
            "  inflating: Dataset/Train/204/bcc000203.bmp  \n",
            "  inflating: Dataset/Train/204/bcc000204.bmp  \n",
            "  inflating: Dataset/Train/204/bcc000205.bmp  \n",
            "  inflating: Dataset/Train/204/bcc000206.bmp  \n",
            "  inflating: Dataset/Train/204/bcc000207.bmp  \n",
            "  inflating: Dataset/Train/204/bcc000208.bmp  \n",
            "  inflating: Dataset/Train/204/bcc000209.bmp  \n",
            "  inflating: Dataset/Train/204/bcc000210.bmp  \n",
            "  inflating: Dataset/Train/204/bcc000211.bmp  \n",
            "  inflating: Dataset/Train/204/bcc000212.bmp  \n",
            "  inflating: Dataset/Train/204/bcc000213.bmp  \n",
            "  inflating: Dataset/Train/204/bcc000214.bmp  \n",
            "  inflating: Dataset/Train/204/bcc000215.bmp  \n",
            "  inflating: Dataset/Train/204/bcc000216.bmp  \n",
            "  inflating: Dataset/Train/204/bcc000217.bmp  \n",
            "  inflating: Dataset/Train/204/bcc000218.bmp  \n",
            "  inflating: Dataset/Train/204/bcc000219.bmp  \n",
            "  inflating: Dataset/Train/204/bcc000220.bmp  \n",
            "  inflating: Dataset/Train/204/bcc000221.bmp  \n",
            "  inflating: Dataset/Train/204/bcc000222.bmp  \n",
            "  inflating: Dataset/Train/204/bcc000223.bmp  \n",
            "  inflating: Dataset/Train/204/bcc000224.bmp  \n",
            "  inflating: Dataset/Train/204/bcc000225.bmp  \n",
            "  inflating: Dataset/Train/204/bcc000226.bmp  \n",
            "  inflating: Dataset/Train/204/bcc000227.bmp  \n",
            "  inflating: Dataset/Train/204/bcc000228.bmp  \n",
            "  inflating: Dataset/Train/204/bcc000229.bmp  \n",
            "  inflating: Dataset/Train/204/bcc000230.bmp  \n",
            "  inflating: Dataset/Train/204/bcc000231.bmp  \n",
            "  inflating: Dataset/Train/204/bcc000232.bmp  \n",
            "  inflating: Dataset/Train/204/bcc000233.bmp  \n",
            "  inflating: Dataset/Train/204/bcc000234.bmp  \n",
            "  inflating: Dataset/Train/204/bcc000235.bmp  \n",
            "  inflating: Dataset/Train/204/bcc000236.bmp  \n",
            "  inflating: Dataset/Train/204/bcc000237.bmp  \n",
            "  inflating: Dataset/Train/204/bcc000238.bmp  \n",
            "  inflating: Dataset/Train/204/bcc000239.bmp  \n",
            "   creating: Dataset/Train/205/\n",
            "  inflating: Dataset/Train/205/bcc000000.bmp  \n",
            "  inflating: Dataset/Train/205/bcc000001.bmp  \n",
            "  inflating: Dataset/Train/205/bcc000002.bmp  \n",
            "  inflating: Dataset/Train/205/bcc000003.bmp  \n",
            "  inflating: Dataset/Train/205/bcc000004.bmp  \n",
            "  inflating: Dataset/Train/205/bcc000005.bmp  \n",
            "  inflating: Dataset/Train/205/bcc000006.bmp  \n",
            "  inflating: Dataset/Train/205/bcc000007.bmp  \n",
            "  inflating: Dataset/Train/205/bcc000008.bmp  \n",
            "  inflating: Dataset/Train/205/bcc000009.bmp  \n",
            "  inflating: Dataset/Train/205/bcc000010.bmp  \n",
            "  inflating: Dataset/Train/205/bcc000011.bmp  \n",
            "  inflating: Dataset/Train/205/bcc000012.bmp  \n",
            "  inflating: Dataset/Train/205/bcc000013.bmp  \n",
            "  inflating: Dataset/Train/205/bcc000014.bmp  \n",
            "  inflating: Dataset/Train/205/bcc000015.bmp  \n",
            "  inflating: Dataset/Train/205/bcc000016.bmp  \n",
            "  inflating: Dataset/Train/205/bcc000017.bmp  \n",
            "  inflating: Dataset/Train/205/bcc000018.bmp  \n",
            "  inflating: Dataset/Train/205/bcc000019.bmp  \n",
            "  inflating: Dataset/Train/205/bcc000020.bmp  \n",
            "  inflating: Dataset/Train/205/bcc000021.bmp  \n",
            "  inflating: Dataset/Train/205/bcc000022.bmp  \n",
            "  inflating: Dataset/Train/205/bcc000023.bmp  \n",
            "  inflating: Dataset/Train/205/bcc000024.bmp  \n",
            "  inflating: Dataset/Train/205/bcc000025.bmp  \n",
            "  inflating: Dataset/Train/205/bcc000026.bmp  \n",
            "  inflating: Dataset/Train/205/bcc000027.bmp  \n",
            "  inflating: Dataset/Train/205/bcc000028.bmp  \n",
            "  inflating: Dataset/Train/205/bcc000029.bmp  \n",
            "  inflating: Dataset/Train/205/bcc000030.bmp  \n",
            "  inflating: Dataset/Train/205/bcc000031.bmp  \n",
            "  inflating: Dataset/Train/205/bcc000032.bmp  \n",
            "  inflating: Dataset/Train/205/bcc000033.bmp  \n",
            "  inflating: Dataset/Train/205/bcc000034.bmp  \n",
            "  inflating: Dataset/Train/205/bcc000035.bmp  \n",
            "  inflating: Dataset/Train/205/bcc000036.bmp  \n",
            "  inflating: Dataset/Train/205/bcc000037.bmp  \n",
            "  inflating: Dataset/Train/205/bcc000038.bmp  \n",
            "  inflating: Dataset/Train/205/bcc000039.bmp  \n",
            "  inflating: Dataset/Train/205/bcc000040.bmp  \n",
            "  inflating: Dataset/Train/205/bcc000041.bmp  \n",
            "  inflating: Dataset/Train/205/bcc000042.bmp  \n",
            "  inflating: Dataset/Train/205/bcc000043.bmp  \n",
            "  inflating: Dataset/Train/205/bcc000044.bmp  \n",
            "  inflating: Dataset/Train/205/bcc000045.bmp  \n",
            "  inflating: Dataset/Train/205/bcc000046.bmp  \n",
            "  inflating: Dataset/Train/205/bcc000047.bmp  \n",
            "  inflating: Dataset/Train/205/bcc000048.bmp  \n",
            "  inflating: Dataset/Train/205/bcc000049.bmp  \n",
            "  inflating: Dataset/Train/205/bcc000050.bmp  \n",
            "  inflating: Dataset/Train/205/bcc000051.bmp  \n",
            "  inflating: Dataset/Train/205/bcc000052.bmp  \n",
            "  inflating: Dataset/Train/205/bcc000053.bmp  \n",
            "  inflating: Dataset/Train/205/bcc000054.bmp  \n",
            "  inflating: Dataset/Train/205/bcc000055.bmp  \n",
            "  inflating: Dataset/Train/205/bcc000056.bmp  \n",
            "  inflating: Dataset/Train/205/bcc000057.bmp  \n",
            "  inflating: Dataset/Train/205/bcc000058.bmp  \n",
            "  inflating: Dataset/Train/205/bcc000059.bmp  \n",
            "  inflating: Dataset/Train/205/bcc000060.bmp  \n",
            "  inflating: Dataset/Train/205/bcc000061.bmp  \n",
            "  inflating: Dataset/Train/205/bcc000062.bmp  \n",
            "  inflating: Dataset/Train/205/bcc000063.bmp  \n",
            "  inflating: Dataset/Train/205/bcc000064.bmp  \n",
            "  inflating: Dataset/Train/205/bcc000065.bmp  \n",
            "  inflating: Dataset/Train/205/bcc000066.bmp  \n",
            "  inflating: Dataset/Train/205/bcc000067.bmp  \n",
            "  inflating: Dataset/Train/205/bcc000068.bmp  \n",
            "  inflating: Dataset/Train/205/bcc000069.bmp  \n",
            "  inflating: Dataset/Train/205/bcc000070.bmp  \n",
            "  inflating: Dataset/Train/205/bcc000071.bmp  \n",
            "  inflating: Dataset/Train/205/bcc000072.bmp  \n",
            "  inflating: Dataset/Train/205/bcc000073.bmp  \n",
            "  inflating: Dataset/Train/205/bcc000074.bmp  \n",
            "  inflating: Dataset/Train/205/bcc000075.bmp  \n",
            "  inflating: Dataset/Train/205/bcc000076.bmp  \n",
            "  inflating: Dataset/Train/205/bcc000077.bmp  \n",
            "  inflating: Dataset/Train/205/bcc000078.bmp  \n",
            "  inflating: Dataset/Train/205/bcc000079.bmp  \n",
            "  inflating: Dataset/Train/205/bcc000080.bmp  \n",
            "  inflating: Dataset/Train/205/bcc000081.bmp  \n",
            "  inflating: Dataset/Train/205/bcc000082.bmp  \n",
            "  inflating: Dataset/Train/205/bcc000083.bmp  \n",
            "  inflating: Dataset/Train/205/bcc000084.bmp  \n",
            "  inflating: Dataset/Train/205/bcc000085.bmp  \n",
            "  inflating: Dataset/Train/205/bcc000086.bmp  \n",
            "  inflating: Dataset/Train/205/bcc000087.bmp  \n",
            "  inflating: Dataset/Train/205/bcc000088.bmp  \n",
            "  inflating: Dataset/Train/205/bcc000089.bmp  \n",
            "  inflating: Dataset/Train/205/bcc000090.bmp  \n",
            "  inflating: Dataset/Train/205/bcc000091.bmp  \n",
            "  inflating: Dataset/Train/205/bcc000092.bmp  \n",
            "  inflating: Dataset/Train/205/bcc000093.bmp  \n",
            "  inflating: Dataset/Train/205/bcc000094.bmp  \n",
            "  inflating: Dataset/Train/205/bcc000095.bmp  \n",
            "  inflating: Dataset/Train/205/bcc000096.bmp  \n",
            "  inflating: Dataset/Train/205/bcc000097.bmp  \n",
            "  inflating: Dataset/Train/205/bcc000098.bmp  \n",
            "  inflating: Dataset/Train/205/bcc000099.bmp  \n",
            "  inflating: Dataset/Train/205/bcc000100.bmp  \n",
            "  inflating: Dataset/Train/205/bcc000101.bmp  \n",
            "  inflating: Dataset/Train/205/bcc000102.bmp  \n",
            "  inflating: Dataset/Train/205/bcc000103.bmp  \n",
            "  inflating: Dataset/Train/205/bcc000104.bmp  \n",
            "  inflating: Dataset/Train/205/bcc000105.bmp  \n",
            "  inflating: Dataset/Train/205/bcc000106.bmp  \n",
            "  inflating: Dataset/Train/205/bcc000107.bmp  \n",
            "  inflating: Dataset/Train/205/bcc000108.bmp  \n",
            "  inflating: Dataset/Train/205/bcc000109.bmp  \n",
            "  inflating: Dataset/Train/205/bcc000110.bmp  \n",
            "  inflating: Dataset/Train/205/bcc000111.bmp  \n",
            "  inflating: Dataset/Train/205/bcc000112.bmp  \n",
            "  inflating: Dataset/Train/205/bcc000113.bmp  \n",
            "  inflating: Dataset/Train/205/bcc000114.bmp  \n",
            "  inflating: Dataset/Train/205/bcc000115.bmp  \n",
            "  inflating: Dataset/Train/205/bcc000116.bmp  \n",
            "  inflating: Dataset/Train/205/bcc000117.bmp  \n",
            "  inflating: Dataset/Train/205/bcc000118.bmp  \n",
            "  inflating: Dataset/Train/205/bcc000119.bmp  \n",
            "  inflating: Dataset/Train/205/bcc000120.bmp  \n",
            "  inflating: Dataset/Train/205/bcc000121.bmp  \n",
            "  inflating: Dataset/Train/205/bcc000122.bmp  \n",
            "  inflating: Dataset/Train/205/bcc000123.bmp  \n",
            "  inflating: Dataset/Train/205/bcc000124.bmp  \n",
            "  inflating: Dataset/Train/205/bcc000125.bmp  \n",
            "  inflating: Dataset/Train/205/bcc000126.bmp  \n",
            "  inflating: Dataset/Train/205/bcc000127.bmp  \n",
            "  inflating: Dataset/Train/205/bcc000128.bmp  \n",
            "  inflating: Dataset/Train/205/bcc000129.bmp  \n",
            "  inflating: Dataset/Train/205/bcc000130.bmp  \n",
            "  inflating: Dataset/Train/205/bcc000131.bmp  \n",
            "  inflating: Dataset/Train/205/bcc000132.bmp  \n",
            "  inflating: Dataset/Train/205/bcc000133.bmp  \n",
            "  inflating: Dataset/Train/205/bcc000134.bmp  \n",
            "  inflating: Dataset/Train/205/bcc000135.bmp  \n",
            "  inflating: Dataset/Train/205/bcc000136.bmp  \n",
            "  inflating: Dataset/Train/205/bcc000137.bmp  \n",
            "  inflating: Dataset/Train/205/bcc000138.bmp  \n",
            "  inflating: Dataset/Train/205/bcc000139.bmp  \n",
            "  inflating: Dataset/Train/205/bcc000140.bmp  \n",
            "  inflating: Dataset/Train/205/bcc000141.bmp  \n",
            "  inflating: Dataset/Train/205/bcc000142.bmp  \n",
            "  inflating: Dataset/Train/205/bcc000143.bmp  \n",
            "  inflating: Dataset/Train/205/bcc000144.bmp  \n",
            "  inflating: Dataset/Train/205/bcc000145.bmp  \n",
            "  inflating: Dataset/Train/205/bcc000146.bmp  \n",
            "  inflating: Dataset/Train/205/bcc000147.bmp  \n",
            "  inflating: Dataset/Train/205/bcc000148.bmp  \n",
            "  inflating: Dataset/Train/205/bcc000149.bmp  \n",
            "  inflating: Dataset/Train/205/bcc000150.bmp  \n",
            "  inflating: Dataset/Train/205/bcc000151.bmp  \n",
            "  inflating: Dataset/Train/205/bcc000152.bmp  \n",
            "  inflating: Dataset/Train/205/bcc000153.bmp  \n",
            "  inflating: Dataset/Train/205/bcc000154.bmp  \n",
            "  inflating: Dataset/Train/205/bcc000155.bmp  \n",
            "  inflating: Dataset/Train/205/bcc000156.bmp  \n",
            "  inflating: Dataset/Train/205/bcc000157.bmp  \n",
            "  inflating: Dataset/Train/205/bcc000158.bmp  \n",
            "  inflating: Dataset/Train/205/bcc000159.bmp  \n",
            "  inflating: Dataset/Train/205/bcc000160.bmp  \n",
            "  inflating: Dataset/Train/205/bcc000161.bmp  \n",
            "  inflating: Dataset/Train/205/bcc000162.bmp  \n",
            "  inflating: Dataset/Train/205/bcc000163.bmp  \n",
            "  inflating: Dataset/Train/205/bcc000164.bmp  \n",
            "  inflating: Dataset/Train/205/bcc000165.bmp  \n",
            "  inflating: Dataset/Train/205/bcc000166.bmp  \n",
            "  inflating: Dataset/Train/205/bcc000167.bmp  \n",
            "  inflating: Dataset/Train/205/bcc000168.bmp  \n",
            "  inflating: Dataset/Train/205/bcc000169.bmp  \n",
            "  inflating: Dataset/Train/205/bcc000170.bmp  \n",
            "  inflating: Dataset/Train/205/bcc000171.bmp  \n",
            "  inflating: Dataset/Train/205/bcc000172.bmp  \n",
            "  inflating: Dataset/Train/205/bcc000173.bmp  \n",
            "  inflating: Dataset/Train/205/bcc000174.bmp  \n",
            "  inflating: Dataset/Train/205/bcc000175.bmp  \n",
            "  inflating: Dataset/Train/205/bcc000176.bmp  \n",
            "  inflating: Dataset/Train/205/bcc000177.bmp  \n",
            "  inflating: Dataset/Train/205/bcc000178.bmp  \n",
            "  inflating: Dataset/Train/205/bcc000179.bmp  \n",
            "  inflating: Dataset/Train/205/bcc000180.bmp  \n",
            "  inflating: Dataset/Train/205/bcc000181.bmp  \n",
            "  inflating: Dataset/Train/205/bcc000182.bmp  \n",
            "  inflating: Dataset/Train/205/bcc000183.bmp  \n",
            "  inflating: Dataset/Train/205/bcc000184.bmp  \n",
            "  inflating: Dataset/Train/205/bcc000185.bmp  \n",
            "  inflating: Dataset/Train/205/bcc000186.bmp  \n",
            "  inflating: Dataset/Train/205/bcc000187.bmp  \n",
            "  inflating: Dataset/Train/205/bcc000188.bmp  \n",
            "  inflating: Dataset/Train/205/bcc000189.bmp  \n",
            "  inflating: Dataset/Train/205/bcc000190.bmp  \n",
            "  inflating: Dataset/Train/205/bcc000191.bmp  \n",
            "  inflating: Dataset/Train/205/bcc000192.bmp  \n",
            "  inflating: Dataset/Train/205/bcc000193.bmp  \n",
            "  inflating: Dataset/Train/205/bcc000194.bmp  \n",
            "  inflating: Dataset/Train/205/bcc000195.bmp  \n",
            "  inflating: Dataset/Train/205/bcc000196.bmp  \n",
            "  inflating: Dataset/Train/205/bcc000197.bmp  \n",
            "  inflating: Dataset/Train/205/bcc000198.bmp  \n",
            "  inflating: Dataset/Train/205/bcc000199.bmp  \n",
            "  inflating: Dataset/Train/205/bcc000200.bmp  \n",
            "  inflating: Dataset/Train/205/bcc000201.bmp  \n",
            "  inflating: Dataset/Train/205/bcc000202.bmp  \n",
            "  inflating: Dataset/Train/205/bcc000203.bmp  \n",
            "  inflating: Dataset/Train/205/bcc000204.bmp  \n",
            "  inflating: Dataset/Train/205/bcc000205.bmp  \n",
            "  inflating: Dataset/Train/205/bcc000206.bmp  \n",
            "  inflating: Dataset/Train/205/bcc000207.bmp  \n",
            "  inflating: Dataset/Train/205/bcc000208.bmp  \n",
            "  inflating: Dataset/Train/205/bcc000209.bmp  \n",
            "  inflating: Dataset/Train/205/bcc000210.bmp  \n",
            "  inflating: Dataset/Train/205/bcc000211.bmp  \n",
            "  inflating: Dataset/Train/205/bcc000212.bmp  \n",
            "  inflating: Dataset/Train/205/bcc000213.bmp  \n",
            "  inflating: Dataset/Train/205/bcc000214.bmp  \n",
            "  inflating: Dataset/Train/205/bcc000215.bmp  \n",
            "  inflating: Dataset/Train/205/bcc000216.bmp  \n",
            "  inflating: Dataset/Train/205/bcc000217.bmp  \n",
            "  inflating: Dataset/Train/205/bcc000218.bmp  \n",
            "  inflating: Dataset/Train/205/bcc000219.bmp  \n",
            "  inflating: Dataset/Train/205/bcc000220.bmp  \n",
            "  inflating: Dataset/Train/205/bcc000221.bmp  \n",
            "  inflating: Dataset/Train/205/bcc000222.bmp  \n",
            "  inflating: Dataset/Train/205/bcc000223.bmp  \n",
            "  inflating: Dataset/Train/205/bcc000224.bmp  \n",
            "  inflating: Dataset/Train/205/bcc000225.bmp  \n",
            "  inflating: Dataset/Train/205/bcc000226.bmp  \n",
            "  inflating: Dataset/Train/205/bcc000227.bmp  \n",
            "  inflating: Dataset/Train/205/bcc000228.bmp  \n",
            "  inflating: Dataset/Train/205/bcc000229.bmp  \n",
            "  inflating: Dataset/Train/205/bcc000230.bmp  \n",
            "  inflating: Dataset/Train/205/bcc000231.bmp  \n",
            "  inflating: Dataset/Train/205/bcc000232.bmp  \n",
            "  inflating: Dataset/Train/205/bcc000233.bmp  \n",
            "  inflating: Dataset/Train/205/bcc000234.bmp  \n",
            "  inflating: Dataset/Train/205/bcc000235.bmp  \n",
            "  inflating: Dataset/Train/205/bcc000236.bmp  \n",
            "  inflating: Dataset/Train/205/bcc000237.bmp  \n",
            "  inflating: Dataset/Train/205/bcc000238.bmp  \n",
            "  inflating: Dataset/Train/205/bcc000239.bmp  \n",
            "   creating: Dataset/Train/206/\n",
            "  inflating: Dataset/Train/206/bcc000000.bmp  \n",
            "  inflating: Dataset/Train/206/bcc000001.bmp  \n",
            "  inflating: Dataset/Train/206/bcc000002.bmp  \n",
            "  inflating: Dataset/Train/206/bcc000003.bmp  \n",
            "  inflating: Dataset/Train/206/bcc000004.bmp  \n",
            "  inflating: Dataset/Train/206/bcc000005.bmp  \n",
            "  inflating: Dataset/Train/206/bcc000006.bmp  \n",
            "  inflating: Dataset/Train/206/bcc000007.bmp  \n",
            "  inflating: Dataset/Train/206/bcc000008.bmp  \n",
            "  inflating: Dataset/Train/206/bcc000009.bmp  \n",
            "  inflating: Dataset/Train/206/bcc000010.bmp  \n",
            "  inflating: Dataset/Train/206/bcc000011.bmp  \n",
            "  inflating: Dataset/Train/206/bcc000012.bmp  \n",
            "  inflating: Dataset/Train/206/bcc000013.bmp  \n",
            "  inflating: Dataset/Train/206/bcc000014.bmp  \n",
            "  inflating: Dataset/Train/206/bcc000015.bmp  \n",
            "  inflating: Dataset/Train/206/bcc000016.bmp  \n",
            "  inflating: Dataset/Train/206/bcc000017.bmp  \n",
            "  inflating: Dataset/Train/206/bcc000018.bmp  \n",
            "  inflating: Dataset/Train/206/bcc000019.bmp  \n",
            "  inflating: Dataset/Train/206/bcc000020.bmp  \n",
            "  inflating: Dataset/Train/206/bcc000021.bmp  \n",
            "  inflating: Dataset/Train/206/bcc000022.bmp  \n",
            "  inflating: Dataset/Train/206/bcc000023.bmp  \n",
            "  inflating: Dataset/Train/206/bcc000024.bmp  \n",
            "  inflating: Dataset/Train/206/bcc000025.bmp  \n",
            "  inflating: Dataset/Train/206/bcc000026.bmp  \n",
            "  inflating: Dataset/Train/206/bcc000027.bmp  \n",
            "  inflating: Dataset/Train/206/bcc000028.bmp  \n",
            "  inflating: Dataset/Train/206/bcc000029.bmp  \n",
            "  inflating: Dataset/Train/206/bcc000030.bmp  \n",
            "  inflating: Dataset/Train/206/bcc000031.bmp  \n",
            "  inflating: Dataset/Train/206/bcc000032.bmp  \n",
            "  inflating: Dataset/Train/206/bcc000033.bmp  \n",
            "  inflating: Dataset/Train/206/bcc000034.bmp  \n",
            "  inflating: Dataset/Train/206/bcc000035.bmp  \n",
            "  inflating: Dataset/Train/206/bcc000036.bmp  \n",
            "  inflating: Dataset/Train/206/bcc000037.bmp  \n",
            "  inflating: Dataset/Train/206/bcc000038.bmp  \n",
            "  inflating: Dataset/Train/206/bcc000039.bmp  \n",
            "  inflating: Dataset/Train/206/bcc000040.bmp  \n",
            "  inflating: Dataset/Train/206/bcc000041.bmp  \n",
            "  inflating: Dataset/Train/206/bcc000042.bmp  \n",
            "  inflating: Dataset/Train/206/bcc000043.bmp  \n",
            "  inflating: Dataset/Train/206/bcc000044.bmp  \n",
            "  inflating: Dataset/Train/206/bcc000045.bmp  \n",
            "  inflating: Dataset/Train/206/bcc000046.bmp  \n",
            "  inflating: Dataset/Train/206/bcc000047.bmp  \n",
            "  inflating: Dataset/Train/206/bcc000048.bmp  \n",
            "  inflating: Dataset/Train/206/bcc000049.bmp  \n",
            "  inflating: Dataset/Train/206/bcc000050.bmp  \n",
            "  inflating: Dataset/Train/206/bcc000051.bmp  \n",
            "  inflating: Dataset/Train/206/bcc000052.bmp  \n",
            "  inflating: Dataset/Train/206/bcc000053.bmp  \n",
            "  inflating: Dataset/Train/206/bcc000054.bmp  \n",
            "  inflating: Dataset/Train/206/bcc000055.bmp  \n",
            "  inflating: Dataset/Train/206/bcc000056.bmp  \n",
            "  inflating: Dataset/Train/206/bcc000057.bmp  \n",
            "  inflating: Dataset/Train/206/bcc000058.bmp  \n",
            "  inflating: Dataset/Train/206/bcc000059.bmp  \n",
            "  inflating: Dataset/Train/206/bcc000060.bmp  \n",
            "  inflating: Dataset/Train/206/bcc000061.bmp  \n",
            "  inflating: Dataset/Train/206/bcc000062.bmp  \n",
            "  inflating: Dataset/Train/206/bcc000063.bmp  \n",
            "  inflating: Dataset/Train/206/bcc000064.bmp  \n",
            "  inflating: Dataset/Train/206/bcc000065.bmp  \n",
            "  inflating: Dataset/Train/206/bcc000066.bmp  \n",
            "  inflating: Dataset/Train/206/bcc000067.bmp  \n",
            "  inflating: Dataset/Train/206/bcc000068.bmp  \n",
            "  inflating: Dataset/Train/206/bcc000069.bmp  \n",
            "  inflating: Dataset/Train/206/bcc000070.bmp  \n",
            "  inflating: Dataset/Train/206/bcc000071.bmp  \n",
            "  inflating: Dataset/Train/206/bcc000072.bmp  \n",
            "  inflating: Dataset/Train/206/bcc000073.bmp  \n",
            "  inflating: Dataset/Train/206/bcc000074.bmp  \n",
            "  inflating: Dataset/Train/206/bcc000075.bmp  \n",
            "  inflating: Dataset/Train/206/bcc000076.bmp  \n",
            "  inflating: Dataset/Train/206/bcc000077.bmp  \n",
            "  inflating: Dataset/Train/206/bcc000078.bmp  \n",
            "  inflating: Dataset/Train/206/bcc000079.bmp  \n",
            "  inflating: Dataset/Train/206/bcc000080.bmp  \n",
            "  inflating: Dataset/Train/206/bcc000081.bmp  \n",
            "  inflating: Dataset/Train/206/bcc000082.bmp  \n",
            "  inflating: Dataset/Train/206/bcc000083.bmp  \n",
            "  inflating: Dataset/Train/206/bcc000084.bmp  \n",
            "  inflating: Dataset/Train/206/bcc000085.bmp  \n",
            "  inflating: Dataset/Train/206/bcc000086.bmp  \n",
            "  inflating: Dataset/Train/206/bcc000087.bmp  \n",
            "  inflating: Dataset/Train/206/bcc000088.bmp  \n",
            "  inflating: Dataset/Train/206/bcc000089.bmp  \n",
            "  inflating: Dataset/Train/206/bcc000090.bmp  \n",
            "  inflating: Dataset/Train/206/bcc000091.bmp  \n",
            "  inflating: Dataset/Train/206/bcc000092.bmp  \n",
            "  inflating: Dataset/Train/206/bcc000093.bmp  \n",
            "  inflating: Dataset/Train/206/bcc000094.bmp  \n",
            "  inflating: Dataset/Train/206/bcc000095.bmp  \n",
            "  inflating: Dataset/Train/206/bcc000096.bmp  \n",
            "  inflating: Dataset/Train/206/bcc000097.bmp  \n",
            "  inflating: Dataset/Train/206/bcc000098.bmp  \n",
            "  inflating: Dataset/Train/206/bcc000099.bmp  \n",
            "  inflating: Dataset/Train/206/bcc000100.bmp  \n",
            "  inflating: Dataset/Train/206/bcc000101.bmp  \n",
            "  inflating: Dataset/Train/206/bcc000102.bmp  \n",
            "  inflating: Dataset/Train/206/bcc000103.bmp  \n",
            "  inflating: Dataset/Train/206/bcc000104.bmp  \n",
            "  inflating: Dataset/Train/206/bcc000105.bmp  \n",
            "  inflating: Dataset/Train/206/bcc000106.bmp  \n",
            "  inflating: Dataset/Train/206/bcc000107.bmp  \n",
            "  inflating: Dataset/Train/206/bcc000108.bmp  \n",
            "  inflating: Dataset/Train/206/bcc000109.bmp  \n",
            "  inflating: Dataset/Train/206/bcc000110.bmp  \n",
            "  inflating: Dataset/Train/206/bcc000111.bmp  \n",
            "  inflating: Dataset/Train/206/bcc000112.bmp  \n",
            "  inflating: Dataset/Train/206/bcc000113.bmp  \n",
            "  inflating: Dataset/Train/206/bcc000114.bmp  \n",
            "  inflating: Dataset/Train/206/bcc000115.bmp  \n",
            "  inflating: Dataset/Train/206/bcc000116.bmp  \n",
            "  inflating: Dataset/Train/206/bcc000117.bmp  \n",
            "  inflating: Dataset/Train/206/bcc000118.bmp  \n",
            "  inflating: Dataset/Train/206/bcc000119.bmp  \n",
            "  inflating: Dataset/Train/206/bcc000120.bmp  \n",
            "  inflating: Dataset/Train/206/bcc000121.bmp  \n",
            "  inflating: Dataset/Train/206/bcc000122.bmp  \n",
            "  inflating: Dataset/Train/206/bcc000123.bmp  \n",
            "  inflating: Dataset/Train/206/bcc000124.bmp  \n",
            "  inflating: Dataset/Train/206/bcc000125.bmp  \n",
            "  inflating: Dataset/Train/206/bcc000126.bmp  \n",
            "  inflating: Dataset/Train/206/bcc000127.bmp  \n",
            "  inflating: Dataset/Train/206/bcc000128.bmp  \n",
            "  inflating: Dataset/Train/206/bcc000129.bmp  \n",
            "  inflating: Dataset/Train/206/bcc000130.bmp  \n",
            "  inflating: Dataset/Train/206/bcc000131.bmp  \n",
            "  inflating: Dataset/Train/206/bcc000132.bmp  \n",
            "  inflating: Dataset/Train/206/bcc000133.bmp  \n",
            "  inflating: Dataset/Train/206/bcc000134.bmp  \n",
            "  inflating: Dataset/Train/206/bcc000135.bmp  \n",
            "  inflating: Dataset/Train/206/bcc000136.bmp  \n",
            "  inflating: Dataset/Train/206/bcc000137.bmp  \n",
            "  inflating: Dataset/Train/206/bcc000138.bmp  \n",
            "  inflating: Dataset/Train/206/bcc000139.bmp  \n",
            "  inflating: Dataset/Train/206/bcc000140.bmp  \n",
            "  inflating: Dataset/Train/206/bcc000141.bmp  \n",
            "  inflating: Dataset/Train/206/bcc000142.bmp  \n",
            "  inflating: Dataset/Train/206/bcc000143.bmp  \n",
            "  inflating: Dataset/Train/206/bcc000144.bmp  \n",
            "  inflating: Dataset/Train/206/bcc000145.bmp  \n",
            "  inflating: Dataset/Train/206/bcc000146.bmp  \n",
            "  inflating: Dataset/Train/206/bcc000147.bmp  \n",
            "  inflating: Dataset/Train/206/bcc000148.bmp  \n",
            "  inflating: Dataset/Train/206/bcc000149.bmp  \n",
            "  inflating: Dataset/Train/206/bcc000150.bmp  \n",
            "  inflating: Dataset/Train/206/bcc000151.bmp  \n",
            "  inflating: Dataset/Train/206/bcc000152.bmp  \n",
            "  inflating: Dataset/Train/206/bcc000153.bmp  \n",
            "  inflating: Dataset/Train/206/bcc000154.bmp  \n",
            "  inflating: Dataset/Train/206/bcc000155.bmp  \n",
            "  inflating: Dataset/Train/206/bcc000156.bmp  \n",
            "  inflating: Dataset/Train/206/bcc000157.bmp  \n",
            "  inflating: Dataset/Train/206/bcc000158.bmp  \n",
            "  inflating: Dataset/Train/206/bcc000159.bmp  \n",
            "  inflating: Dataset/Train/206/bcc000160.bmp  \n",
            "  inflating: Dataset/Train/206/bcc000161.bmp  \n",
            "  inflating: Dataset/Train/206/bcc000162.bmp  \n",
            "  inflating: Dataset/Train/206/bcc000163.bmp  \n",
            "  inflating: Dataset/Train/206/bcc000164.bmp  \n",
            "  inflating: Dataset/Train/206/bcc000165.bmp  \n",
            "  inflating: Dataset/Train/206/bcc000166.bmp  \n",
            "  inflating: Dataset/Train/206/bcc000167.bmp  \n",
            "  inflating: Dataset/Train/206/bcc000168.bmp  \n",
            "  inflating: Dataset/Train/206/bcc000169.bmp  \n",
            "  inflating: Dataset/Train/206/bcc000170.bmp  \n",
            "  inflating: Dataset/Train/206/bcc000171.bmp  \n",
            "  inflating: Dataset/Train/206/bcc000172.bmp  \n",
            "  inflating: Dataset/Train/206/bcc000173.bmp  \n",
            "  inflating: Dataset/Train/206/bcc000174.bmp  \n",
            "  inflating: Dataset/Train/206/bcc000175.bmp  \n",
            "  inflating: Dataset/Train/206/bcc000176.bmp  \n",
            "  inflating: Dataset/Train/206/bcc000177.bmp  \n",
            "  inflating: Dataset/Train/206/bcc000178.bmp  \n",
            "  inflating: Dataset/Train/206/bcc000179.bmp  \n",
            "  inflating: Dataset/Train/206/bcc000180.bmp  \n",
            "  inflating: Dataset/Train/206/bcc000181.bmp  \n",
            "  inflating: Dataset/Train/206/bcc000182.bmp  \n",
            "  inflating: Dataset/Train/206/bcc000183.bmp  \n",
            "  inflating: Dataset/Train/206/bcc000184.bmp  \n",
            "  inflating: Dataset/Train/206/bcc000185.bmp  \n",
            "  inflating: Dataset/Train/206/bcc000186.bmp  \n",
            "  inflating: Dataset/Train/206/bcc000187.bmp  \n",
            "  inflating: Dataset/Train/206/bcc000188.bmp  \n",
            "  inflating: Dataset/Train/206/bcc000189.bmp  \n",
            "  inflating: Dataset/Train/206/bcc000190.bmp  \n",
            "  inflating: Dataset/Train/206/bcc000191.bmp  \n",
            "  inflating: Dataset/Train/206/bcc000192.bmp  \n",
            "  inflating: Dataset/Train/206/bcc000193.bmp  \n",
            "  inflating: Dataset/Train/206/bcc000194.bmp  \n",
            "  inflating: Dataset/Train/206/bcc000195.bmp  \n",
            "  inflating: Dataset/Train/206/bcc000196.bmp  \n",
            "  inflating: Dataset/Train/206/bcc000197.bmp  \n",
            "  inflating: Dataset/Train/206/bcc000198.bmp  \n",
            "  inflating: Dataset/Train/206/bcc000199.bmp  \n",
            "  inflating: Dataset/Train/206/bcc000200.bmp  \n",
            "  inflating: Dataset/Train/206/bcc000201.bmp  \n",
            "  inflating: Dataset/Train/206/bcc000202.bmp  \n",
            "  inflating: Dataset/Train/206/bcc000203.bmp  \n",
            "  inflating: Dataset/Train/206/bcc000204.bmp  \n",
            "  inflating: Dataset/Train/206/bcc000205.bmp  \n",
            "  inflating: Dataset/Train/206/bcc000206.bmp  \n",
            "  inflating: Dataset/Train/206/bcc000207.bmp  \n",
            "  inflating: Dataset/Train/206/bcc000208.bmp  \n",
            "  inflating: Dataset/Train/206/bcc000209.bmp  \n",
            "  inflating: Dataset/Train/206/bcc000210.bmp  \n",
            "  inflating: Dataset/Train/206/bcc000211.bmp  \n",
            "  inflating: Dataset/Train/206/bcc000212.bmp  \n",
            "  inflating: Dataset/Train/206/bcc000213.bmp  \n",
            "  inflating: Dataset/Train/206/bcc000214.bmp  \n",
            "  inflating: Dataset/Train/206/bcc000215.bmp  \n",
            "  inflating: Dataset/Train/206/bcc000216.bmp  \n",
            "  inflating: Dataset/Train/206/bcc000217.bmp  \n",
            "  inflating: Dataset/Train/206/bcc000218.bmp  \n",
            "  inflating: Dataset/Train/206/bcc000219.bmp  \n",
            "  inflating: Dataset/Train/206/bcc000220.bmp  \n",
            "  inflating: Dataset/Train/206/bcc000221.bmp  \n",
            "  inflating: Dataset/Train/206/bcc000222.bmp  \n",
            "  inflating: Dataset/Train/206/bcc000223.bmp  \n",
            "  inflating: Dataset/Train/206/bcc000224.bmp  \n",
            "  inflating: Dataset/Train/206/bcc000225.bmp  \n",
            "  inflating: Dataset/Train/206/bcc000226.bmp  \n",
            "  inflating: Dataset/Train/206/bcc000227.bmp  \n",
            "  inflating: Dataset/Train/206/bcc000228.bmp  \n",
            "  inflating: Dataset/Train/206/bcc000229.bmp  \n",
            "  inflating: Dataset/Train/206/bcc000230.bmp  \n",
            "  inflating: Dataset/Train/206/bcc000231.bmp  \n",
            "  inflating: Dataset/Train/206/bcc000232.bmp  \n",
            "  inflating: Dataset/Train/206/bcc000233.bmp  \n",
            "  inflating: Dataset/Train/206/bcc000234.bmp  \n",
            "  inflating: Dataset/Train/206/bcc000235.bmp  \n",
            "  inflating: Dataset/Train/206/bcc000236.bmp  \n",
            "  inflating: Dataset/Train/206/bcc000237.bmp  \n",
            "  inflating: Dataset/Train/206/bcc000238.bmp  \n",
            "  inflating: Dataset/Train/206/bcc000239.bmp  \n",
            "   creating: Dataset/Train/207/\n",
            "  inflating: Dataset/Train/207/bcc000000.bmp  \n",
            "  inflating: Dataset/Train/207/bcc000001.bmp  \n",
            "  inflating: Dataset/Train/207/bcc000002.bmp  \n",
            "  inflating: Dataset/Train/207/bcc000003.bmp  \n",
            "  inflating: Dataset/Train/207/bcc000004.bmp  \n",
            "  inflating: Dataset/Train/207/bcc000005.bmp  \n",
            "  inflating: Dataset/Train/207/bcc000006.bmp  \n",
            "  inflating: Dataset/Train/207/bcc000007.bmp  \n",
            "  inflating: Dataset/Train/207/bcc000008.bmp  \n",
            "  inflating: Dataset/Train/207/bcc000009.bmp  \n",
            "  inflating: Dataset/Train/207/bcc000010.bmp  \n",
            "  inflating: Dataset/Train/207/bcc000011.bmp  \n",
            "  inflating: Dataset/Train/207/bcc000012.bmp  \n",
            "  inflating: Dataset/Train/207/bcc000013.bmp  \n",
            "  inflating: Dataset/Train/207/bcc000014.bmp  \n",
            "  inflating: Dataset/Train/207/bcc000015.bmp  \n",
            "  inflating: Dataset/Train/207/bcc000016.bmp  \n",
            "  inflating: Dataset/Train/207/bcc000017.bmp  \n",
            "  inflating: Dataset/Train/207/bcc000018.bmp  \n",
            "  inflating: Dataset/Train/207/bcc000019.bmp  \n",
            "  inflating: Dataset/Train/207/bcc000020.bmp  \n",
            "  inflating: Dataset/Train/207/bcc000021.bmp  \n",
            "  inflating: Dataset/Train/207/bcc000022.bmp  \n",
            "  inflating: Dataset/Train/207/bcc000023.bmp  \n",
            "  inflating: Dataset/Train/207/bcc000024.bmp  \n",
            "  inflating: Dataset/Train/207/bcc000025.bmp  \n",
            "  inflating: Dataset/Train/207/bcc000026.bmp  \n",
            "  inflating: Dataset/Train/207/bcc000027.bmp  \n",
            "  inflating: Dataset/Train/207/bcc000028.bmp  \n",
            "  inflating: Dataset/Train/207/bcc000029.bmp  \n",
            "  inflating: Dataset/Train/207/bcc000030.bmp  \n",
            "  inflating: Dataset/Train/207/bcc000031.bmp  \n",
            "  inflating: Dataset/Train/207/bcc000032.bmp  \n",
            "  inflating: Dataset/Train/207/bcc000033.bmp  \n",
            "  inflating: Dataset/Train/207/bcc000034.bmp  \n",
            "  inflating: Dataset/Train/207/bcc000035.bmp  \n",
            "  inflating: Dataset/Train/207/bcc000036.bmp  \n",
            "  inflating: Dataset/Train/207/bcc000037.bmp  \n",
            "  inflating: Dataset/Train/207/bcc000038.bmp  \n",
            "  inflating: Dataset/Train/207/bcc000039.bmp  \n",
            "  inflating: Dataset/Train/207/bcc000040.bmp  \n",
            "  inflating: Dataset/Train/207/bcc000041.bmp  \n",
            "  inflating: Dataset/Train/207/bcc000042.bmp  \n",
            "  inflating: Dataset/Train/207/bcc000043.bmp  \n",
            "  inflating: Dataset/Train/207/bcc000044.bmp  \n",
            "  inflating: Dataset/Train/207/bcc000045.bmp  \n",
            "  inflating: Dataset/Train/207/bcc000046.bmp  \n",
            "  inflating: Dataset/Train/207/bcc000047.bmp  \n",
            "  inflating: Dataset/Train/207/bcc000048.bmp  \n",
            "  inflating: Dataset/Train/207/bcc000049.bmp  \n",
            "  inflating: Dataset/Train/207/bcc000050.bmp  \n",
            "  inflating: Dataset/Train/207/bcc000051.bmp  \n",
            "  inflating: Dataset/Train/207/bcc000052.bmp  \n",
            "  inflating: Dataset/Train/207/bcc000053.bmp  \n",
            "  inflating: Dataset/Train/207/bcc000054.bmp  \n",
            "  inflating: Dataset/Train/207/bcc000055.bmp  \n",
            "  inflating: Dataset/Train/207/bcc000056.bmp  \n",
            "  inflating: Dataset/Train/207/bcc000057.bmp  \n",
            "  inflating: Dataset/Train/207/bcc000058.bmp  \n",
            "  inflating: Dataset/Train/207/bcc000059.bmp  \n",
            "  inflating: Dataset/Train/207/bcc000060.bmp  \n",
            "  inflating: Dataset/Train/207/bcc000061.bmp  \n",
            "  inflating: Dataset/Train/207/bcc000062.bmp  \n",
            "  inflating: Dataset/Train/207/bcc000063.bmp  \n",
            "  inflating: Dataset/Train/207/bcc000064.bmp  \n",
            "  inflating: Dataset/Train/207/bcc000065.bmp  \n",
            "  inflating: Dataset/Train/207/bcc000066.bmp  \n",
            "  inflating: Dataset/Train/207/bcc000067.bmp  \n",
            "  inflating: Dataset/Train/207/bcc000068.bmp  \n",
            "  inflating: Dataset/Train/207/bcc000069.bmp  \n",
            "  inflating: Dataset/Train/207/bcc000070.bmp  \n",
            "  inflating: Dataset/Train/207/bcc000071.bmp  \n",
            "  inflating: Dataset/Train/207/bcc000072.bmp  \n",
            "  inflating: Dataset/Train/207/bcc000073.bmp  \n",
            "  inflating: Dataset/Train/207/bcc000074.bmp  \n",
            "  inflating: Dataset/Train/207/bcc000075.bmp  \n",
            "  inflating: Dataset/Train/207/bcc000076.bmp  \n",
            "  inflating: Dataset/Train/207/bcc000077.bmp  \n",
            "  inflating: Dataset/Train/207/bcc000078.bmp  \n",
            "  inflating: Dataset/Train/207/bcc000079.bmp  \n",
            "  inflating: Dataset/Train/207/bcc000080.bmp  \n",
            "  inflating: Dataset/Train/207/bcc000081.bmp  \n",
            "  inflating: Dataset/Train/207/bcc000082.bmp  \n",
            "  inflating: Dataset/Train/207/bcc000083.bmp  \n",
            "  inflating: Dataset/Train/207/bcc000084.bmp  \n",
            "  inflating: Dataset/Train/207/bcc000085.bmp  \n",
            "  inflating: Dataset/Train/207/bcc000086.bmp  \n",
            "  inflating: Dataset/Train/207/bcc000087.bmp  \n",
            "  inflating: Dataset/Train/207/bcc000088.bmp  \n",
            "  inflating: Dataset/Train/207/bcc000089.bmp  \n",
            "  inflating: Dataset/Train/207/bcc000090.bmp  \n",
            "  inflating: Dataset/Train/207/bcc000091.bmp  \n",
            "  inflating: Dataset/Train/207/bcc000092.bmp  \n",
            "  inflating: Dataset/Train/207/bcc000093.bmp  \n",
            "  inflating: Dataset/Train/207/bcc000094.bmp  \n",
            "  inflating: Dataset/Train/207/bcc000095.bmp  \n",
            "  inflating: Dataset/Train/207/bcc000096.bmp  \n",
            "  inflating: Dataset/Train/207/bcc000097.bmp  \n",
            "  inflating: Dataset/Train/207/bcc000098.bmp  \n",
            "  inflating: Dataset/Train/207/bcc000099.bmp  \n",
            "  inflating: Dataset/Train/207/bcc000100.bmp  \n",
            "  inflating: Dataset/Train/207/bcc000101.bmp  \n",
            "  inflating: Dataset/Train/207/bcc000102.bmp  \n",
            "  inflating: Dataset/Train/207/bcc000103.bmp  \n",
            "  inflating: Dataset/Train/207/bcc000104.bmp  \n",
            "  inflating: Dataset/Train/207/bcc000105.bmp  \n",
            "  inflating: Dataset/Train/207/bcc000106.bmp  \n",
            "  inflating: Dataset/Train/207/bcc000107.bmp  \n",
            "  inflating: Dataset/Train/207/bcc000108.bmp  \n",
            "  inflating: Dataset/Train/207/bcc000109.bmp  \n",
            "  inflating: Dataset/Train/207/bcc000110.bmp  \n",
            "  inflating: Dataset/Train/207/bcc000111.bmp  \n",
            "  inflating: Dataset/Train/207/bcc000112.bmp  \n",
            "  inflating: Dataset/Train/207/bcc000113.bmp  \n",
            "  inflating: Dataset/Train/207/bcc000114.bmp  \n",
            "  inflating: Dataset/Train/207/bcc000115.bmp  \n",
            "  inflating: Dataset/Train/207/bcc000116.bmp  \n",
            "  inflating: Dataset/Train/207/bcc000117.bmp  \n",
            "  inflating: Dataset/Train/207/bcc000118.bmp  \n",
            "  inflating: Dataset/Train/207/bcc000119.bmp  \n",
            "  inflating: Dataset/Train/207/bcc000120.bmp  \n",
            "  inflating: Dataset/Train/207/bcc000121.bmp  \n",
            "  inflating: Dataset/Train/207/bcc000122.bmp  \n",
            "  inflating: Dataset/Train/207/bcc000123.bmp  \n",
            "  inflating: Dataset/Train/207/bcc000124.bmp  \n",
            "  inflating: Dataset/Train/207/bcc000125.bmp  \n",
            "  inflating: Dataset/Train/207/bcc000126.bmp  \n",
            "  inflating: Dataset/Train/207/bcc000127.bmp  \n",
            "  inflating: Dataset/Train/207/bcc000128.bmp  \n",
            "  inflating: Dataset/Train/207/bcc000129.bmp  \n",
            "  inflating: Dataset/Train/207/bcc000130.bmp  \n",
            "  inflating: Dataset/Train/207/bcc000131.bmp  \n",
            "  inflating: Dataset/Train/207/bcc000132.bmp  \n",
            "  inflating: Dataset/Train/207/bcc000133.bmp  \n",
            "  inflating: Dataset/Train/207/bcc000134.bmp  \n",
            "  inflating: Dataset/Train/207/bcc000135.bmp  \n",
            "  inflating: Dataset/Train/207/bcc000136.bmp  \n",
            "  inflating: Dataset/Train/207/bcc000137.bmp  \n",
            "  inflating: Dataset/Train/207/bcc000138.bmp  \n",
            "  inflating: Dataset/Train/207/bcc000139.bmp  \n",
            "  inflating: Dataset/Train/207/bcc000140.bmp  \n",
            "  inflating: Dataset/Train/207/bcc000141.bmp  \n",
            "  inflating: Dataset/Train/207/bcc000142.bmp  \n",
            "  inflating: Dataset/Train/207/bcc000143.bmp  \n",
            "  inflating: Dataset/Train/207/bcc000144.bmp  \n",
            "  inflating: Dataset/Train/207/bcc000145.bmp  \n",
            "  inflating: Dataset/Train/207/bcc000146.bmp  \n",
            "  inflating: Dataset/Train/207/bcc000147.bmp  \n",
            "  inflating: Dataset/Train/207/bcc000148.bmp  \n",
            "  inflating: Dataset/Train/207/bcc000149.bmp  \n",
            "  inflating: Dataset/Train/207/bcc000150.bmp  \n",
            "  inflating: Dataset/Train/207/bcc000151.bmp  \n",
            "  inflating: Dataset/Train/207/bcc000152.bmp  \n",
            "  inflating: Dataset/Train/207/bcc000153.bmp  \n",
            "  inflating: Dataset/Train/207/bcc000154.bmp  \n",
            "  inflating: Dataset/Train/207/bcc000155.bmp  \n",
            "  inflating: Dataset/Train/207/bcc000156.bmp  \n",
            "  inflating: Dataset/Train/207/bcc000157.bmp  \n",
            "  inflating: Dataset/Train/207/bcc000158.bmp  \n",
            "  inflating: Dataset/Train/207/bcc000159.bmp  \n",
            "  inflating: Dataset/Train/207/bcc000160.bmp  \n",
            "  inflating: Dataset/Train/207/bcc000161.bmp  \n",
            "  inflating: Dataset/Train/207/bcc000162.bmp  \n",
            "  inflating: Dataset/Train/207/bcc000163.bmp  \n",
            "  inflating: Dataset/Train/207/bcc000164.bmp  \n",
            "  inflating: Dataset/Train/207/bcc000165.bmp  \n",
            "  inflating: Dataset/Train/207/bcc000166.bmp  \n",
            "  inflating: Dataset/Train/207/bcc000167.bmp  \n",
            "  inflating: Dataset/Train/207/bcc000168.bmp  \n",
            "  inflating: Dataset/Train/207/bcc000169.bmp  \n",
            "  inflating: Dataset/Train/207/bcc000170.bmp  \n",
            "  inflating: Dataset/Train/207/bcc000171.bmp  \n",
            "  inflating: Dataset/Train/207/bcc000172.bmp  \n",
            "  inflating: Dataset/Train/207/bcc000173.bmp  \n",
            "  inflating: Dataset/Train/207/bcc000174.bmp  \n",
            "  inflating: Dataset/Train/207/bcc000175.bmp  \n",
            "  inflating: Dataset/Train/207/bcc000176.bmp  \n",
            "  inflating: Dataset/Train/207/bcc000177.bmp  \n",
            "  inflating: Dataset/Train/207/bcc000178.bmp  \n",
            "  inflating: Dataset/Train/207/bcc000179.bmp  \n",
            "  inflating: Dataset/Train/207/bcc000180.bmp  \n",
            "  inflating: Dataset/Train/207/bcc000181.bmp  \n",
            "  inflating: Dataset/Train/207/bcc000182.bmp  \n",
            "  inflating: Dataset/Train/207/bcc000183.bmp  \n",
            "  inflating: Dataset/Train/207/bcc000184.bmp  \n",
            "  inflating: Dataset/Train/207/bcc000185.bmp  \n",
            "  inflating: Dataset/Train/207/bcc000186.bmp  \n",
            "  inflating: Dataset/Train/207/bcc000187.bmp  \n",
            "  inflating: Dataset/Train/207/bcc000188.bmp  \n",
            "  inflating: Dataset/Train/207/bcc000189.bmp  \n",
            "  inflating: Dataset/Train/207/bcc000190.bmp  \n",
            "  inflating: Dataset/Train/207/bcc000191.bmp  \n",
            "  inflating: Dataset/Train/207/bcc000192.bmp  \n",
            "  inflating: Dataset/Train/207/bcc000193.bmp  \n",
            "  inflating: Dataset/Train/207/bcc000194.bmp  \n",
            "  inflating: Dataset/Train/207/bcc000195.bmp  \n",
            "  inflating: Dataset/Train/207/bcc000196.bmp  \n",
            "  inflating: Dataset/Train/207/bcc000197.bmp  \n",
            "  inflating: Dataset/Train/207/bcc000198.bmp  \n",
            "  inflating: Dataset/Train/207/bcc000199.bmp  \n",
            "  inflating: Dataset/Train/207/bcc000200.bmp  \n",
            "  inflating: Dataset/Train/207/bcc000201.bmp  \n",
            "  inflating: Dataset/Train/207/bcc000202.bmp  \n",
            "  inflating: Dataset/Train/207/bcc000203.bmp  \n",
            "  inflating: Dataset/Train/207/bcc000204.bmp  \n",
            "  inflating: Dataset/Train/207/bcc000205.bmp  \n",
            "  inflating: Dataset/Train/207/bcc000206.bmp  \n",
            "  inflating: Dataset/Train/207/bcc000207.bmp  \n",
            "  inflating: Dataset/Train/207/bcc000208.bmp  \n",
            "  inflating: Dataset/Train/207/bcc000209.bmp  \n",
            "  inflating: Dataset/Train/207/bcc000210.bmp  \n",
            "  inflating: Dataset/Train/207/bcc000211.bmp  \n",
            "  inflating: Dataset/Train/207/bcc000212.bmp  \n",
            "  inflating: Dataset/Train/207/bcc000213.bmp  \n",
            "  inflating: Dataset/Train/207/bcc000214.bmp  \n",
            "  inflating: Dataset/Train/207/bcc000215.bmp  \n",
            "  inflating: Dataset/Train/207/bcc000216.bmp  \n",
            "  inflating: Dataset/Train/207/bcc000217.bmp  \n",
            "  inflating: Dataset/Train/207/bcc000218.bmp  \n",
            "  inflating: Dataset/Train/207/bcc000219.bmp  \n",
            "  inflating: Dataset/Train/207/bcc000220.bmp  \n",
            "  inflating: Dataset/Train/207/bcc000221.bmp  \n",
            "  inflating: Dataset/Train/207/bcc000222.bmp  \n",
            "  inflating: Dataset/Train/207/bcc000223.bmp  \n",
            "  inflating: Dataset/Train/207/bcc000224.bmp  \n",
            "  inflating: Dataset/Train/207/bcc000225.bmp  \n",
            "  inflating: Dataset/Train/207/bcc000226.bmp  \n",
            "  inflating: Dataset/Train/207/bcc000227.bmp  \n",
            "  inflating: Dataset/Train/207/bcc000228.bmp  \n",
            "  inflating: Dataset/Train/207/bcc000229.bmp  \n",
            "  inflating: Dataset/Train/207/bcc000230.bmp  \n",
            "  inflating: Dataset/Train/207/bcc000231.bmp  \n",
            "  inflating: Dataset/Train/207/bcc000232.bmp  \n",
            "  inflating: Dataset/Train/207/bcc000233.bmp  \n",
            "  inflating: Dataset/Train/207/bcc000234.bmp  \n",
            "  inflating: Dataset/Train/207/bcc000235.bmp  \n",
            "  inflating: Dataset/Train/207/bcc000236.bmp  \n",
            "  inflating: Dataset/Train/207/bcc000237.bmp  \n",
            "  inflating: Dataset/Train/207/bcc000238.bmp  \n",
            "  inflating: Dataset/Train/207/bcc000239.bmp  \n",
            "   creating: Dataset/Train/208/\n",
            "  inflating: Dataset/Train/208/bcc000000.bmp  \n",
            "  inflating: Dataset/Train/208/bcc000001.bmp  \n",
            "  inflating: Dataset/Train/208/bcc000002.bmp  \n",
            "  inflating: Dataset/Train/208/bcc000003.bmp  \n",
            "  inflating: Dataset/Train/208/bcc000004.bmp  \n",
            "  inflating: Dataset/Train/208/bcc000005.bmp  \n",
            "  inflating: Dataset/Train/208/bcc000006.bmp  \n",
            "  inflating: Dataset/Train/208/bcc000007.bmp  \n",
            "  inflating: Dataset/Train/208/bcc000008.bmp  \n",
            "  inflating: Dataset/Train/208/bcc000009.bmp  \n",
            "  inflating: Dataset/Train/208/bcc000010.bmp  \n",
            "  inflating: Dataset/Train/208/bcc000011.bmp  \n",
            "  inflating: Dataset/Train/208/bcc000012.bmp  \n",
            "  inflating: Dataset/Train/208/bcc000013.bmp  \n",
            "  inflating: Dataset/Train/208/bcc000014.bmp  \n",
            "  inflating: Dataset/Train/208/bcc000015.bmp  \n",
            "  inflating: Dataset/Train/208/bcc000016.bmp  \n",
            "  inflating: Dataset/Train/208/bcc000017.bmp  \n",
            "  inflating: Dataset/Train/208/bcc000018.bmp  \n",
            "  inflating: Dataset/Train/208/bcc000019.bmp  \n",
            "  inflating: Dataset/Train/208/bcc000020.bmp  \n",
            "  inflating: Dataset/Train/208/bcc000021.bmp  \n",
            "  inflating: Dataset/Train/208/bcc000022.bmp  \n",
            "  inflating: Dataset/Train/208/bcc000023.bmp  \n",
            "  inflating: Dataset/Train/208/bcc000024.bmp  \n",
            "  inflating: Dataset/Train/208/bcc000025.bmp  \n",
            "  inflating: Dataset/Train/208/bcc000026.bmp  \n",
            "  inflating: Dataset/Train/208/bcc000027.bmp  \n",
            "  inflating: Dataset/Train/208/bcc000028.bmp  \n",
            "  inflating: Dataset/Train/208/bcc000029.bmp  \n",
            "  inflating: Dataset/Train/208/bcc000030.bmp  \n",
            "  inflating: Dataset/Train/208/bcc000031.bmp  \n",
            "  inflating: Dataset/Train/208/bcc000032.bmp  \n",
            "  inflating: Dataset/Train/208/bcc000033.bmp  \n",
            "  inflating: Dataset/Train/208/bcc000034.bmp  \n",
            "  inflating: Dataset/Train/208/bcc000035.bmp  \n",
            "  inflating: Dataset/Train/208/bcc000036.bmp  \n",
            "  inflating: Dataset/Train/208/bcc000037.bmp  \n",
            "  inflating: Dataset/Train/208/bcc000038.bmp  \n",
            "  inflating: Dataset/Train/208/bcc000039.bmp  \n",
            "  inflating: Dataset/Train/208/bcc000040.bmp  \n",
            "  inflating: Dataset/Train/208/bcc000041.bmp  \n",
            "  inflating: Dataset/Train/208/bcc000042.bmp  \n",
            "  inflating: Dataset/Train/208/bcc000043.bmp  \n",
            "  inflating: Dataset/Train/208/bcc000044.bmp  \n",
            "  inflating: Dataset/Train/208/bcc000045.bmp  \n",
            "  inflating: Dataset/Train/208/bcc000046.bmp  \n",
            "  inflating: Dataset/Train/208/bcc000047.bmp  \n",
            "  inflating: Dataset/Train/208/bcc000048.bmp  \n",
            "  inflating: Dataset/Train/208/bcc000049.bmp  \n",
            "  inflating: Dataset/Train/208/bcc000050.bmp  \n",
            "  inflating: Dataset/Train/208/bcc000051.bmp  \n",
            "  inflating: Dataset/Train/208/bcc000052.bmp  \n",
            "  inflating: Dataset/Train/208/bcc000053.bmp  \n",
            "  inflating: Dataset/Train/208/bcc000054.bmp  \n",
            "  inflating: Dataset/Train/208/bcc000055.bmp  \n",
            "  inflating: Dataset/Train/208/bcc000056.bmp  \n",
            "  inflating: Dataset/Train/208/bcc000057.bmp  \n",
            "  inflating: Dataset/Train/208/bcc000058.bmp  \n",
            "  inflating: Dataset/Train/208/bcc000059.bmp  \n",
            "  inflating: Dataset/Train/208/bcc000060.bmp  \n",
            "  inflating: Dataset/Train/208/bcc000061.bmp  \n",
            "  inflating: Dataset/Train/208/bcc000062.bmp  \n",
            "  inflating: Dataset/Train/208/bcc000063.bmp  \n",
            "  inflating: Dataset/Train/208/bcc000064.bmp  \n",
            "  inflating: Dataset/Train/208/bcc000065.bmp  \n",
            "  inflating: Dataset/Train/208/bcc000066.bmp  \n",
            "  inflating: Dataset/Train/208/bcc000067.bmp  \n",
            "  inflating: Dataset/Train/208/bcc000068.bmp  \n",
            "  inflating: Dataset/Train/208/bcc000069.bmp  \n",
            "  inflating: Dataset/Train/208/bcc000070.bmp  \n",
            "  inflating: Dataset/Train/208/bcc000071.bmp  \n",
            "  inflating: Dataset/Train/208/bcc000072.bmp  \n",
            "  inflating: Dataset/Train/208/bcc000073.bmp  \n",
            "  inflating: Dataset/Train/208/bcc000074.bmp  \n",
            "  inflating: Dataset/Train/208/bcc000075.bmp  \n",
            "  inflating: Dataset/Train/208/bcc000076.bmp  \n",
            "  inflating: Dataset/Train/208/bcc000077.bmp  \n",
            "  inflating: Dataset/Train/208/bcc000078.bmp  \n",
            "  inflating: Dataset/Train/208/bcc000079.bmp  \n",
            "  inflating: Dataset/Train/208/bcc000080.bmp  \n",
            "  inflating: Dataset/Train/208/bcc000081.bmp  \n",
            "  inflating: Dataset/Train/208/bcc000082.bmp  \n",
            "  inflating: Dataset/Train/208/bcc000083.bmp  \n",
            "  inflating: Dataset/Train/208/bcc000084.bmp  \n",
            "  inflating: Dataset/Train/208/bcc000085.bmp  \n",
            "  inflating: Dataset/Train/208/bcc000086.bmp  \n",
            "  inflating: Dataset/Train/208/bcc000087.bmp  \n",
            "  inflating: Dataset/Train/208/bcc000088.bmp  \n",
            "  inflating: Dataset/Train/208/bcc000089.bmp  \n",
            "  inflating: Dataset/Train/208/bcc000090.bmp  \n",
            "  inflating: Dataset/Train/208/bcc000091.bmp  \n",
            "  inflating: Dataset/Train/208/bcc000092.bmp  \n",
            "  inflating: Dataset/Train/208/bcc000093.bmp  \n",
            "  inflating: Dataset/Train/208/bcc000094.bmp  \n",
            "  inflating: Dataset/Train/208/bcc000095.bmp  \n",
            "  inflating: Dataset/Train/208/bcc000096.bmp  \n",
            "  inflating: Dataset/Train/208/bcc000097.bmp  \n",
            "  inflating: Dataset/Train/208/bcc000098.bmp  \n",
            "  inflating: Dataset/Train/208/bcc000099.bmp  \n",
            "  inflating: Dataset/Train/208/bcc000100.bmp  \n",
            "  inflating: Dataset/Train/208/bcc000101.bmp  \n",
            "  inflating: Dataset/Train/208/bcc000102.bmp  \n",
            "  inflating: Dataset/Train/208/bcc000103.bmp  \n",
            "  inflating: Dataset/Train/208/bcc000104.bmp  \n",
            "  inflating: Dataset/Train/208/bcc000105.bmp  \n",
            "  inflating: Dataset/Train/208/bcc000106.bmp  \n",
            "  inflating: Dataset/Train/208/bcc000107.bmp  \n",
            "  inflating: Dataset/Train/208/bcc000108.bmp  \n",
            "  inflating: Dataset/Train/208/bcc000109.bmp  \n",
            "  inflating: Dataset/Train/208/bcc000110.bmp  \n",
            "  inflating: Dataset/Train/208/bcc000111.bmp  \n",
            "  inflating: Dataset/Train/208/bcc000112.bmp  \n",
            "  inflating: Dataset/Train/208/bcc000113.bmp  \n",
            "  inflating: Dataset/Train/208/bcc000114.bmp  \n",
            "  inflating: Dataset/Train/208/bcc000115.bmp  \n",
            "  inflating: Dataset/Train/208/bcc000116.bmp  \n",
            "  inflating: Dataset/Train/208/bcc000117.bmp  \n",
            "  inflating: Dataset/Train/208/bcc000118.bmp  \n",
            "  inflating: Dataset/Train/208/bcc000119.bmp  \n",
            "  inflating: Dataset/Train/208/bcc000120.bmp  \n",
            "  inflating: Dataset/Train/208/bcc000121.bmp  \n",
            "  inflating: Dataset/Train/208/bcc000122.bmp  \n",
            "  inflating: Dataset/Train/208/bcc000123.bmp  \n",
            "  inflating: Dataset/Train/208/bcc000124.bmp  \n",
            "  inflating: Dataset/Train/208/bcc000125.bmp  \n",
            "  inflating: Dataset/Train/208/bcc000126.bmp  \n",
            "  inflating: Dataset/Train/208/bcc000127.bmp  \n",
            "  inflating: Dataset/Train/208/bcc000128.bmp  \n",
            "  inflating: Dataset/Train/208/bcc000129.bmp  \n",
            "  inflating: Dataset/Train/208/bcc000130.bmp  \n",
            "  inflating: Dataset/Train/208/bcc000131.bmp  \n",
            "  inflating: Dataset/Train/208/bcc000132.bmp  \n",
            "  inflating: Dataset/Train/208/bcc000133.bmp  \n",
            "  inflating: Dataset/Train/208/bcc000134.bmp  \n",
            "  inflating: Dataset/Train/208/bcc000135.bmp  \n",
            "  inflating: Dataset/Train/208/bcc000136.bmp  \n",
            "  inflating: Dataset/Train/208/bcc000137.bmp  \n",
            "  inflating: Dataset/Train/208/bcc000138.bmp  \n",
            "  inflating: Dataset/Train/208/bcc000139.bmp  \n",
            "  inflating: Dataset/Train/208/bcc000140.bmp  \n",
            "  inflating: Dataset/Train/208/bcc000141.bmp  \n",
            "  inflating: Dataset/Train/208/bcc000142.bmp  \n",
            "  inflating: Dataset/Train/208/bcc000143.bmp  \n",
            "  inflating: Dataset/Train/208/bcc000144.bmp  \n",
            "  inflating: Dataset/Train/208/bcc000145.bmp  \n",
            "  inflating: Dataset/Train/208/bcc000146.bmp  \n",
            "  inflating: Dataset/Train/208/bcc000147.bmp  \n",
            "  inflating: Dataset/Train/208/bcc000148.bmp  \n",
            "  inflating: Dataset/Train/208/bcc000149.bmp  \n",
            "  inflating: Dataset/Train/208/bcc000150.bmp  \n",
            "  inflating: Dataset/Train/208/bcc000151.bmp  \n",
            "  inflating: Dataset/Train/208/bcc000152.bmp  \n",
            "  inflating: Dataset/Train/208/bcc000153.bmp  \n",
            "  inflating: Dataset/Train/208/bcc000154.bmp  \n",
            "  inflating: Dataset/Train/208/bcc000155.bmp  \n",
            "  inflating: Dataset/Train/208/bcc000156.bmp  \n",
            "  inflating: Dataset/Train/208/bcc000157.bmp  \n",
            "  inflating: Dataset/Train/208/bcc000158.bmp  \n",
            "  inflating: Dataset/Train/208/bcc000159.bmp  \n",
            "  inflating: Dataset/Train/208/bcc000160.bmp  \n",
            "  inflating: Dataset/Train/208/bcc000161.bmp  \n",
            "  inflating: Dataset/Train/208/bcc000162.bmp  \n",
            "  inflating: Dataset/Train/208/bcc000163.bmp  \n",
            "  inflating: Dataset/Train/208/bcc000164.bmp  \n",
            "  inflating: Dataset/Train/208/bcc000165.bmp  \n",
            "  inflating: Dataset/Train/208/bcc000166.bmp  \n",
            "  inflating: Dataset/Train/208/bcc000167.bmp  \n",
            "  inflating: Dataset/Train/208/bcc000168.bmp  \n",
            "  inflating: Dataset/Train/208/bcc000169.bmp  \n",
            "  inflating: Dataset/Train/208/bcc000170.bmp  \n",
            "  inflating: Dataset/Train/208/bcc000171.bmp  \n",
            "  inflating: Dataset/Train/208/bcc000172.bmp  \n",
            "  inflating: Dataset/Train/208/bcc000173.bmp  \n",
            "  inflating: Dataset/Train/208/bcc000174.bmp  \n",
            "  inflating: Dataset/Train/208/bcc000175.bmp  \n",
            "  inflating: Dataset/Train/208/bcc000176.bmp  \n",
            "  inflating: Dataset/Train/208/bcc000177.bmp  \n",
            "  inflating: Dataset/Train/208/bcc000178.bmp  \n",
            "  inflating: Dataset/Train/208/bcc000179.bmp  \n",
            "  inflating: Dataset/Train/208/bcc000180.bmp  \n",
            "  inflating: Dataset/Train/208/bcc000181.bmp  \n",
            "  inflating: Dataset/Train/208/bcc000182.bmp  \n",
            "  inflating: Dataset/Train/208/bcc000183.bmp  \n",
            "  inflating: Dataset/Train/208/bcc000184.bmp  \n",
            "  inflating: Dataset/Train/208/bcc000185.bmp  \n",
            "  inflating: Dataset/Train/208/bcc000186.bmp  \n",
            "  inflating: Dataset/Train/208/bcc000187.bmp  \n",
            "  inflating: Dataset/Train/208/bcc000188.bmp  \n",
            "  inflating: Dataset/Train/208/bcc000189.bmp  \n",
            "  inflating: Dataset/Train/208/bcc000190.bmp  \n",
            "  inflating: Dataset/Train/208/bcc000191.bmp  \n",
            "  inflating: Dataset/Train/208/bcc000192.bmp  \n",
            "  inflating: Dataset/Train/208/bcc000193.bmp  \n",
            "  inflating: Dataset/Train/208/bcc000194.bmp  \n",
            "  inflating: Dataset/Train/208/bcc000195.bmp  \n",
            "  inflating: Dataset/Train/208/bcc000196.bmp  \n",
            "  inflating: Dataset/Train/208/bcc000197.bmp  \n",
            "  inflating: Dataset/Train/208/bcc000198.bmp  \n",
            "  inflating: Dataset/Train/208/bcc000199.bmp  \n",
            "  inflating: Dataset/Train/208/bcc000200.bmp  \n",
            "  inflating: Dataset/Train/208/bcc000201.bmp  \n",
            "  inflating: Dataset/Train/208/bcc000202.bmp  \n",
            "  inflating: Dataset/Train/208/bcc000203.bmp  \n",
            "  inflating: Dataset/Train/208/bcc000204.bmp  \n",
            "  inflating: Dataset/Train/208/bcc000205.bmp  \n",
            "  inflating: Dataset/Train/208/bcc000206.bmp  \n",
            "  inflating: Dataset/Train/208/bcc000207.bmp  \n",
            "  inflating: Dataset/Train/208/bcc000208.bmp  \n",
            "  inflating: Dataset/Train/208/bcc000209.bmp  \n",
            "  inflating: Dataset/Train/208/bcc000210.bmp  \n",
            "  inflating: Dataset/Train/208/bcc000211.bmp  \n",
            "  inflating: Dataset/Train/208/bcc000212.bmp  \n",
            "  inflating: Dataset/Train/208/bcc000213.bmp  \n",
            "  inflating: Dataset/Train/208/bcc000214.bmp  \n",
            "  inflating: Dataset/Train/208/bcc000215.bmp  \n",
            "  inflating: Dataset/Train/208/bcc000216.bmp  \n",
            "  inflating: Dataset/Train/208/bcc000217.bmp  \n",
            "  inflating: Dataset/Train/208/bcc000218.bmp  \n",
            "  inflating: Dataset/Train/208/bcc000219.bmp  \n",
            "  inflating: Dataset/Train/208/bcc000220.bmp  \n",
            "  inflating: Dataset/Train/208/bcc000221.bmp  \n",
            "  inflating: Dataset/Train/208/bcc000222.bmp  \n",
            "  inflating: Dataset/Train/208/bcc000223.bmp  \n",
            "  inflating: Dataset/Train/208/bcc000224.bmp  \n",
            "  inflating: Dataset/Train/208/bcc000225.bmp  \n",
            "  inflating: Dataset/Train/208/bcc000226.bmp  \n",
            "  inflating: Dataset/Train/208/bcc000227.bmp  \n",
            "  inflating: Dataset/Train/208/bcc000228.bmp  \n",
            "  inflating: Dataset/Train/208/bcc000229.bmp  \n",
            "  inflating: Dataset/Train/208/bcc000230.bmp  \n",
            "  inflating: Dataset/Train/208/bcc000231.bmp  \n",
            "  inflating: Dataset/Train/208/bcc000232.bmp  \n",
            "  inflating: Dataset/Train/208/bcc000233.bmp  \n",
            "  inflating: Dataset/Train/208/bcc000234.bmp  \n",
            "  inflating: Dataset/Train/208/bcc000235.bmp  \n",
            "  inflating: Dataset/Train/208/bcc000236.bmp  \n",
            "  inflating: Dataset/Train/208/bcc000237.bmp  \n",
            "  inflating: Dataset/Train/208/bcc000238.bmp  \n",
            "  inflating: Dataset/Train/208/bcc000239.bmp  \n",
            "   creating: Dataset/Train/209/\n",
            "  inflating: Dataset/Train/209/bcc000000.bmp  \n",
            "  inflating: Dataset/Train/209/bcc000001.bmp  \n",
            "  inflating: Dataset/Train/209/bcc000002.bmp  \n",
            "  inflating: Dataset/Train/209/bcc000003.bmp  \n",
            "  inflating: Dataset/Train/209/bcc000004.bmp  \n",
            "  inflating: Dataset/Train/209/bcc000005.bmp  \n",
            "  inflating: Dataset/Train/209/bcc000006.bmp  \n",
            "  inflating: Dataset/Train/209/bcc000007.bmp  \n",
            "  inflating: Dataset/Train/209/bcc000008.bmp  \n",
            "  inflating: Dataset/Train/209/bcc000009.bmp  \n",
            "  inflating: Dataset/Train/209/bcc000010.bmp  \n",
            "  inflating: Dataset/Train/209/bcc000011.bmp  \n",
            "  inflating: Dataset/Train/209/bcc000012.bmp  \n",
            "  inflating: Dataset/Train/209/bcc000013.bmp  \n",
            "  inflating: Dataset/Train/209/bcc000014.bmp  \n",
            "  inflating: Dataset/Train/209/bcc000015.bmp  \n",
            "  inflating: Dataset/Train/209/bcc000016.bmp  \n",
            "  inflating: Dataset/Train/209/bcc000017.bmp  \n",
            "  inflating: Dataset/Train/209/bcc000018.bmp  \n",
            "  inflating: Dataset/Train/209/bcc000019.bmp  \n",
            "  inflating: Dataset/Train/209/bcc000020.bmp  \n",
            "  inflating: Dataset/Train/209/bcc000021.bmp  \n",
            "  inflating: Dataset/Train/209/bcc000022.bmp  \n",
            "  inflating: Dataset/Train/209/bcc000023.bmp  \n",
            "  inflating: Dataset/Train/209/bcc000024.bmp  \n",
            "  inflating: Dataset/Train/209/bcc000025.bmp  \n",
            "  inflating: Dataset/Train/209/bcc000026.bmp  \n",
            "  inflating: Dataset/Train/209/bcc000027.bmp  \n",
            "  inflating: Dataset/Train/209/bcc000028.bmp  \n",
            "  inflating: Dataset/Train/209/bcc000029.bmp  \n",
            "  inflating: Dataset/Train/209/bcc000030.bmp  \n",
            "  inflating: Dataset/Train/209/bcc000031.bmp  \n",
            "  inflating: Dataset/Train/209/bcc000032.bmp  \n",
            "  inflating: Dataset/Train/209/bcc000033.bmp  \n",
            "  inflating: Dataset/Train/209/bcc000034.bmp  \n",
            "  inflating: Dataset/Train/209/bcc000035.bmp  \n",
            "  inflating: Dataset/Train/209/bcc000036.bmp  \n",
            "  inflating: Dataset/Train/209/bcc000037.bmp  \n",
            "  inflating: Dataset/Train/209/bcc000038.bmp  \n",
            "  inflating: Dataset/Train/209/bcc000039.bmp  \n",
            "  inflating: Dataset/Train/209/bcc000040.bmp  \n",
            "  inflating: Dataset/Train/209/bcc000041.bmp  \n",
            "  inflating: Dataset/Train/209/bcc000042.bmp  \n",
            "  inflating: Dataset/Train/209/bcc000043.bmp  \n",
            "  inflating: Dataset/Train/209/bcc000044.bmp  \n",
            "  inflating: Dataset/Train/209/bcc000045.bmp  \n",
            "  inflating: Dataset/Train/209/bcc000046.bmp  \n",
            "  inflating: Dataset/Train/209/bcc000047.bmp  \n",
            "  inflating: Dataset/Train/209/bcc000048.bmp  \n",
            "  inflating: Dataset/Train/209/bcc000049.bmp  \n",
            "  inflating: Dataset/Train/209/bcc000050.bmp  \n",
            "  inflating: Dataset/Train/209/bcc000051.bmp  \n",
            "  inflating: Dataset/Train/209/bcc000052.bmp  \n",
            "  inflating: Dataset/Train/209/bcc000053.bmp  \n",
            "  inflating: Dataset/Train/209/bcc000054.bmp  \n",
            "  inflating: Dataset/Train/209/bcc000055.bmp  \n",
            "  inflating: Dataset/Train/209/bcc000056.bmp  \n",
            "  inflating: Dataset/Train/209/bcc000057.bmp  \n",
            "  inflating: Dataset/Train/209/bcc000058.bmp  \n",
            "  inflating: Dataset/Train/209/bcc000059.bmp  \n",
            "  inflating: Dataset/Train/209/bcc000060.bmp  \n",
            "  inflating: Dataset/Train/209/bcc000061.bmp  \n",
            "  inflating: Dataset/Train/209/bcc000062.bmp  \n",
            "  inflating: Dataset/Train/209/bcc000063.bmp  \n",
            "  inflating: Dataset/Train/209/bcc000064.bmp  \n",
            "  inflating: Dataset/Train/209/bcc000065.bmp  \n",
            "  inflating: Dataset/Train/209/bcc000066.bmp  \n",
            "  inflating: Dataset/Train/209/bcc000067.bmp  \n",
            "  inflating: Dataset/Train/209/bcc000068.bmp  \n",
            "  inflating: Dataset/Train/209/bcc000069.bmp  \n",
            "  inflating: Dataset/Train/209/bcc000070.bmp  \n",
            "  inflating: Dataset/Train/209/bcc000071.bmp  \n",
            "  inflating: Dataset/Train/209/bcc000072.bmp  \n",
            "  inflating: Dataset/Train/209/bcc000073.bmp  \n",
            "  inflating: Dataset/Train/209/bcc000074.bmp  \n",
            "  inflating: Dataset/Train/209/bcc000075.bmp  \n",
            "  inflating: Dataset/Train/209/bcc000076.bmp  \n",
            "  inflating: Dataset/Train/209/bcc000077.bmp  \n",
            "  inflating: Dataset/Train/209/bcc000078.bmp  \n",
            "  inflating: Dataset/Train/209/bcc000079.bmp  \n",
            "  inflating: Dataset/Train/209/bcc000080.bmp  \n",
            "  inflating: Dataset/Train/209/bcc000081.bmp  \n",
            "  inflating: Dataset/Train/209/bcc000082.bmp  \n",
            "  inflating: Dataset/Train/209/bcc000083.bmp  \n",
            "  inflating: Dataset/Train/209/bcc000084.bmp  \n",
            "  inflating: Dataset/Train/209/bcc000085.bmp  \n",
            "  inflating: Dataset/Train/209/bcc000086.bmp  \n",
            "  inflating: Dataset/Train/209/bcc000087.bmp  \n",
            "  inflating: Dataset/Train/209/bcc000088.bmp  \n",
            "  inflating: Dataset/Train/209/bcc000089.bmp  \n",
            "  inflating: Dataset/Train/209/bcc000090.bmp  \n",
            "  inflating: Dataset/Train/209/bcc000091.bmp  \n",
            "  inflating: Dataset/Train/209/bcc000092.bmp  \n",
            "  inflating: Dataset/Train/209/bcc000093.bmp  \n",
            "  inflating: Dataset/Train/209/bcc000094.bmp  \n",
            "  inflating: Dataset/Train/209/bcc000095.bmp  \n",
            "  inflating: Dataset/Train/209/bcc000096.bmp  \n",
            "  inflating: Dataset/Train/209/bcc000097.bmp  \n",
            "  inflating: Dataset/Train/209/bcc000098.bmp  \n",
            "  inflating: Dataset/Train/209/bcc000099.bmp  \n",
            "  inflating: Dataset/Train/209/bcc000100.bmp  \n",
            "  inflating: Dataset/Train/209/bcc000101.bmp  \n",
            "  inflating: Dataset/Train/209/bcc000102.bmp  \n",
            "  inflating: Dataset/Train/209/bcc000103.bmp  \n",
            "  inflating: Dataset/Train/209/bcc000104.bmp  \n",
            "  inflating: Dataset/Train/209/bcc000105.bmp  \n",
            "  inflating: Dataset/Train/209/bcc000106.bmp  \n",
            "  inflating: Dataset/Train/209/bcc000107.bmp  \n",
            "  inflating: Dataset/Train/209/bcc000108.bmp  \n",
            "  inflating: Dataset/Train/209/bcc000109.bmp  \n",
            "  inflating: Dataset/Train/209/bcc000110.bmp  \n",
            "  inflating: Dataset/Train/209/bcc000111.bmp  \n",
            "  inflating: Dataset/Train/209/bcc000112.bmp  \n",
            "  inflating: Dataset/Train/209/bcc000113.bmp  \n",
            "  inflating: Dataset/Train/209/bcc000114.bmp  \n",
            "  inflating: Dataset/Train/209/bcc000115.bmp  \n",
            "  inflating: Dataset/Train/209/bcc000116.bmp  \n",
            "  inflating: Dataset/Train/209/bcc000117.bmp  \n",
            "  inflating: Dataset/Train/209/bcc000118.bmp  \n",
            "  inflating: Dataset/Train/209/bcc000119.bmp  \n",
            "  inflating: Dataset/Train/209/bcc000120.bmp  \n",
            "  inflating: Dataset/Train/209/bcc000121.bmp  \n",
            "  inflating: Dataset/Train/209/bcc000122.bmp  \n",
            "  inflating: Dataset/Train/209/bcc000123.bmp  \n",
            "  inflating: Dataset/Train/209/bcc000124.bmp  \n",
            "  inflating: Dataset/Train/209/bcc000125.bmp  \n",
            "  inflating: Dataset/Train/209/bcc000126.bmp  \n",
            "  inflating: Dataset/Train/209/bcc000127.bmp  \n",
            "  inflating: Dataset/Train/209/bcc000128.bmp  \n",
            "  inflating: Dataset/Train/209/bcc000129.bmp  \n",
            "  inflating: Dataset/Train/209/bcc000130.bmp  \n",
            "  inflating: Dataset/Train/209/bcc000131.bmp  \n",
            "  inflating: Dataset/Train/209/bcc000132.bmp  \n",
            "  inflating: Dataset/Train/209/bcc000133.bmp  \n",
            "  inflating: Dataset/Train/209/bcc000134.bmp  \n",
            "  inflating: Dataset/Train/209/bcc000135.bmp  \n",
            "  inflating: Dataset/Train/209/bcc000136.bmp  \n",
            "  inflating: Dataset/Train/209/bcc000137.bmp  \n",
            "  inflating: Dataset/Train/209/bcc000138.bmp  \n",
            "  inflating: Dataset/Train/209/bcc000139.bmp  \n",
            "  inflating: Dataset/Train/209/bcc000140.bmp  \n",
            "  inflating: Dataset/Train/209/bcc000141.bmp  \n",
            "  inflating: Dataset/Train/209/bcc000142.bmp  \n",
            "  inflating: Dataset/Train/209/bcc000143.bmp  \n",
            "  inflating: Dataset/Train/209/bcc000144.bmp  \n",
            "  inflating: Dataset/Train/209/bcc000145.bmp  \n",
            "  inflating: Dataset/Train/209/bcc000146.bmp  \n",
            "  inflating: Dataset/Train/209/bcc000147.bmp  \n",
            "  inflating: Dataset/Train/209/bcc000148.bmp  \n",
            "  inflating: Dataset/Train/209/bcc000149.bmp  \n",
            "  inflating: Dataset/Train/209/bcc000150.bmp  \n",
            "  inflating: Dataset/Train/209/bcc000151.bmp  \n",
            "  inflating: Dataset/Train/209/bcc000152.bmp  \n",
            "  inflating: Dataset/Train/209/bcc000153.bmp  \n",
            "  inflating: Dataset/Train/209/bcc000154.bmp  \n",
            "  inflating: Dataset/Train/209/bcc000155.bmp  \n",
            "  inflating: Dataset/Train/209/bcc000156.bmp  \n",
            "  inflating: Dataset/Train/209/bcc000157.bmp  \n",
            "  inflating: Dataset/Train/209/bcc000158.bmp  \n",
            "  inflating: Dataset/Train/209/bcc000159.bmp  \n",
            "  inflating: Dataset/Train/209/bcc000160.bmp  \n",
            "  inflating: Dataset/Train/209/bcc000161.bmp  \n",
            "  inflating: Dataset/Train/209/bcc000162.bmp  \n",
            "  inflating: Dataset/Train/209/bcc000163.bmp  \n",
            "  inflating: Dataset/Train/209/bcc000164.bmp  \n",
            "  inflating: Dataset/Train/209/bcc000165.bmp  \n",
            "  inflating: Dataset/Train/209/bcc000166.bmp  \n",
            "  inflating: Dataset/Train/209/bcc000167.bmp  \n",
            "  inflating: Dataset/Train/209/bcc000168.bmp  \n",
            "  inflating: Dataset/Train/209/bcc000169.bmp  \n",
            "  inflating: Dataset/Train/209/bcc000170.bmp  \n",
            "  inflating: Dataset/Train/209/bcc000171.bmp  \n",
            "  inflating: Dataset/Train/209/bcc000172.bmp  \n",
            "  inflating: Dataset/Train/209/bcc000173.bmp  \n",
            "  inflating: Dataset/Train/209/bcc000174.bmp  \n",
            "  inflating: Dataset/Train/209/bcc000175.bmp  \n",
            "  inflating: Dataset/Train/209/bcc000176.bmp  \n",
            "  inflating: Dataset/Train/209/bcc000177.bmp  \n",
            "  inflating: Dataset/Train/209/bcc000178.bmp  \n",
            "  inflating: Dataset/Train/209/bcc000179.bmp  \n",
            "  inflating: Dataset/Train/209/bcc000180.bmp  \n",
            "  inflating: Dataset/Train/209/bcc000181.bmp  \n",
            "  inflating: Dataset/Train/209/bcc000182.bmp  \n",
            "  inflating: Dataset/Train/209/bcc000183.bmp  \n",
            "  inflating: Dataset/Train/209/bcc000184.bmp  \n",
            "  inflating: Dataset/Train/209/bcc000185.bmp  \n",
            "  inflating: Dataset/Train/209/bcc000186.bmp  \n",
            "  inflating: Dataset/Train/209/bcc000187.bmp  \n",
            "  inflating: Dataset/Train/209/bcc000188.bmp  \n",
            "  inflating: Dataset/Train/209/bcc000189.bmp  \n",
            "  inflating: Dataset/Train/209/bcc000190.bmp  \n",
            "  inflating: Dataset/Train/209/bcc000191.bmp  \n",
            "  inflating: Dataset/Train/209/bcc000192.bmp  \n",
            "  inflating: Dataset/Train/209/bcc000193.bmp  \n",
            "  inflating: Dataset/Train/209/bcc000194.bmp  \n",
            "  inflating: Dataset/Train/209/bcc000195.bmp  \n",
            "  inflating: Dataset/Train/209/bcc000196.bmp  \n",
            "  inflating: Dataset/Train/209/bcc000197.bmp  \n",
            "  inflating: Dataset/Train/209/bcc000198.bmp  \n",
            "  inflating: Dataset/Train/209/bcc000199.bmp  \n",
            "  inflating: Dataset/Train/209/bcc000200.bmp  \n",
            "  inflating: Dataset/Train/209/bcc000201.bmp  \n",
            "  inflating: Dataset/Train/209/bcc000202.bmp  \n",
            "  inflating: Dataset/Train/209/bcc000203.bmp  \n",
            "  inflating: Dataset/Train/209/bcc000204.bmp  \n",
            "  inflating: Dataset/Train/209/bcc000205.bmp  \n",
            "  inflating: Dataset/Train/209/bcc000206.bmp  \n",
            "  inflating: Dataset/Train/209/bcc000207.bmp  \n",
            "  inflating: Dataset/Train/209/bcc000208.bmp  \n",
            "  inflating: Dataset/Train/209/bcc000209.bmp  \n",
            "  inflating: Dataset/Train/209/bcc000210.bmp  \n",
            "  inflating: Dataset/Train/209/bcc000211.bmp  \n",
            "  inflating: Dataset/Train/209/bcc000212.bmp  \n",
            "  inflating: Dataset/Train/209/bcc000213.bmp  \n",
            "  inflating: Dataset/Train/209/bcc000214.bmp  \n",
            "  inflating: Dataset/Train/209/bcc000215.bmp  \n",
            "  inflating: Dataset/Train/209/bcc000216.bmp  \n",
            "  inflating: Dataset/Train/209/bcc000217.bmp  \n",
            "  inflating: Dataset/Train/209/bcc000218.bmp  \n",
            "  inflating: Dataset/Train/209/bcc000219.bmp  \n",
            "  inflating: Dataset/Train/209/bcc000220.bmp  \n",
            "  inflating: Dataset/Train/209/bcc000221.bmp  \n",
            "  inflating: Dataset/Train/209/bcc000222.bmp  \n",
            "  inflating: Dataset/Train/209/bcc000223.bmp  \n",
            "  inflating: Dataset/Train/209/bcc000224.bmp  \n",
            "  inflating: Dataset/Train/209/bcc000225.bmp  \n",
            "  inflating: Dataset/Train/209/bcc000226.bmp  \n",
            "  inflating: Dataset/Train/209/bcc000227.bmp  \n",
            "  inflating: Dataset/Train/209/bcc000228.bmp  \n",
            "  inflating: Dataset/Train/209/bcc000229.bmp  \n",
            "  inflating: Dataset/Train/209/bcc000230.bmp  \n",
            "  inflating: Dataset/Train/209/bcc000231.bmp  \n",
            "  inflating: Dataset/Train/209/bcc000232.bmp  \n",
            "  inflating: Dataset/Train/209/bcc000233.bmp  \n",
            "  inflating: Dataset/Train/209/bcc000234.bmp  \n",
            "  inflating: Dataset/Train/209/bcc000235.bmp  \n",
            "  inflating: Dataset/Train/209/bcc000236.bmp  \n",
            "  inflating: Dataset/Train/209/bcc000237.bmp  \n",
            "  inflating: Dataset/Train/209/bcc000238.bmp  \n",
            "  inflating: Dataset/Train/209/bcc000239.bmp  \n",
            "   creating: Dataset/Train/210/\n",
            "  inflating: Dataset/Train/210/bcc000000.bmp  \n",
            "  inflating: Dataset/Train/210/bcc000001.bmp  \n",
            "  inflating: Dataset/Train/210/bcc000002.bmp  \n",
            "  inflating: Dataset/Train/210/bcc000003.bmp  \n",
            "  inflating: Dataset/Train/210/bcc000004.bmp  \n",
            "  inflating: Dataset/Train/210/bcc000005.bmp  \n",
            "  inflating: Dataset/Train/210/bcc000006.bmp  \n",
            "  inflating: Dataset/Train/210/bcc000007.bmp  \n",
            "  inflating: Dataset/Train/210/bcc000008.bmp  \n",
            "  inflating: Dataset/Train/210/bcc000009.bmp  \n",
            "  inflating: Dataset/Train/210/bcc000010.bmp  \n",
            "  inflating: Dataset/Train/210/bcc000011.bmp  \n",
            "  inflating: Dataset/Train/210/bcc000012.bmp  \n",
            "  inflating: Dataset/Train/210/bcc000013.bmp  \n",
            "  inflating: Dataset/Train/210/bcc000014.bmp  \n",
            "  inflating: Dataset/Train/210/bcc000015.bmp  \n",
            "  inflating: Dataset/Train/210/bcc000016.bmp  \n",
            "  inflating: Dataset/Train/210/bcc000017.bmp  \n",
            "  inflating: Dataset/Train/210/bcc000018.bmp  \n",
            "  inflating: Dataset/Train/210/bcc000019.bmp  \n",
            "  inflating: Dataset/Train/210/bcc000020.bmp  \n",
            "  inflating: Dataset/Train/210/bcc000021.bmp  \n",
            "  inflating: Dataset/Train/210/bcc000022.bmp  \n",
            "  inflating: Dataset/Train/210/bcc000023.bmp  \n",
            "  inflating: Dataset/Train/210/bcc000024.bmp  \n",
            "  inflating: Dataset/Train/210/bcc000025.bmp  \n",
            "  inflating: Dataset/Train/210/bcc000026.bmp  \n",
            "  inflating: Dataset/Train/210/bcc000027.bmp  \n",
            "  inflating: Dataset/Train/210/bcc000028.bmp  \n",
            "  inflating: Dataset/Train/210/bcc000029.bmp  \n",
            "  inflating: Dataset/Train/210/bcc000030.bmp  \n",
            "  inflating: Dataset/Train/210/bcc000031.bmp  \n",
            "  inflating: Dataset/Train/210/bcc000032.bmp  \n",
            "  inflating: Dataset/Train/210/bcc000033.bmp  \n",
            "  inflating: Dataset/Train/210/bcc000034.bmp  \n",
            "  inflating: Dataset/Train/210/bcc000035.bmp  \n",
            "  inflating: Dataset/Train/210/bcc000036.bmp  \n",
            "  inflating: Dataset/Train/210/bcc000037.bmp  \n",
            "  inflating: Dataset/Train/210/bcc000038.bmp  \n",
            "  inflating: Dataset/Train/210/bcc000039.bmp  \n",
            "  inflating: Dataset/Train/210/bcc000040.bmp  \n",
            "  inflating: Dataset/Train/210/bcc000041.bmp  \n",
            "  inflating: Dataset/Train/210/bcc000042.bmp  \n",
            "  inflating: Dataset/Train/210/bcc000043.bmp  \n",
            "  inflating: Dataset/Train/210/bcc000044.bmp  \n",
            "  inflating: Dataset/Train/210/bcc000045.bmp  \n",
            "  inflating: Dataset/Train/210/bcc000046.bmp  \n",
            "  inflating: Dataset/Train/210/bcc000047.bmp  \n",
            "  inflating: Dataset/Train/210/bcc000048.bmp  \n",
            "  inflating: Dataset/Train/210/bcc000049.bmp  \n",
            "  inflating: Dataset/Train/210/bcc000050.bmp  \n",
            "  inflating: Dataset/Train/210/bcc000051.bmp  \n",
            "  inflating: Dataset/Train/210/bcc000052.bmp  \n",
            "  inflating: Dataset/Train/210/bcc000053.bmp  \n",
            "  inflating: Dataset/Train/210/bcc000054.bmp  \n",
            "  inflating: Dataset/Train/210/bcc000055.bmp  \n",
            "  inflating: Dataset/Train/210/bcc000056.bmp  \n",
            "  inflating: Dataset/Train/210/bcc000057.bmp  \n",
            "  inflating: Dataset/Train/210/bcc000058.bmp  \n",
            "  inflating: Dataset/Train/210/bcc000059.bmp  \n",
            "  inflating: Dataset/Train/210/bcc000060.bmp  \n",
            "  inflating: Dataset/Train/210/bcc000061.bmp  \n",
            "  inflating: Dataset/Train/210/bcc000062.bmp  \n",
            "  inflating: Dataset/Train/210/bcc000063.bmp  \n",
            "  inflating: Dataset/Train/210/bcc000064.bmp  \n",
            "  inflating: Dataset/Train/210/bcc000065.bmp  \n",
            "  inflating: Dataset/Train/210/bcc000066.bmp  \n",
            "  inflating: Dataset/Train/210/bcc000067.bmp  \n",
            "  inflating: Dataset/Train/210/bcc000068.bmp  \n",
            "  inflating: Dataset/Train/210/bcc000069.bmp  \n",
            "  inflating: Dataset/Train/210/bcc000070.bmp  \n",
            "  inflating: Dataset/Train/210/bcc000071.bmp  \n",
            "  inflating: Dataset/Train/210/bcc000072.bmp  \n",
            "  inflating: Dataset/Train/210/bcc000073.bmp  \n",
            "  inflating: Dataset/Train/210/bcc000074.bmp  \n",
            "  inflating: Dataset/Train/210/bcc000075.bmp  \n",
            "  inflating: Dataset/Train/210/bcc000076.bmp  \n",
            "  inflating: Dataset/Train/210/bcc000077.bmp  \n",
            "  inflating: Dataset/Train/210/bcc000078.bmp  \n",
            "  inflating: Dataset/Train/210/bcc000079.bmp  \n",
            "  inflating: Dataset/Train/210/bcc000080.bmp  \n",
            "  inflating: Dataset/Train/210/bcc000081.bmp  \n",
            "  inflating: Dataset/Train/210/bcc000082.bmp  \n",
            "  inflating: Dataset/Train/210/bcc000083.bmp  \n",
            "  inflating: Dataset/Train/210/bcc000084.bmp  \n",
            "  inflating: Dataset/Train/210/bcc000085.bmp  \n",
            "  inflating: Dataset/Train/210/bcc000086.bmp  \n",
            "  inflating: Dataset/Train/210/bcc000087.bmp  \n",
            "  inflating: Dataset/Train/210/bcc000088.bmp  \n",
            "  inflating: Dataset/Train/210/bcc000089.bmp  \n",
            "  inflating: Dataset/Train/210/bcc000090.bmp  \n",
            "  inflating: Dataset/Train/210/bcc000091.bmp  \n",
            "  inflating: Dataset/Train/210/bcc000092.bmp  \n",
            "  inflating: Dataset/Train/210/bcc000093.bmp  \n",
            "  inflating: Dataset/Train/210/bcc000094.bmp  \n",
            "  inflating: Dataset/Train/210/bcc000095.bmp  \n",
            "  inflating: Dataset/Train/210/bcc000096.bmp  \n",
            "  inflating: Dataset/Train/210/bcc000097.bmp  \n",
            "  inflating: Dataset/Train/210/bcc000098.bmp  \n",
            "  inflating: Dataset/Train/210/bcc000099.bmp  \n",
            "  inflating: Dataset/Train/210/bcc000100.bmp  \n",
            "  inflating: Dataset/Train/210/bcc000101.bmp  \n",
            "  inflating: Dataset/Train/210/bcc000102.bmp  \n",
            "  inflating: Dataset/Train/210/bcc000103.bmp  \n",
            "  inflating: Dataset/Train/210/bcc000104.bmp  \n",
            "  inflating: Dataset/Train/210/bcc000105.bmp  \n",
            "  inflating: Dataset/Train/210/bcc000106.bmp  \n",
            "  inflating: Dataset/Train/210/bcc000107.bmp  \n",
            "  inflating: Dataset/Train/210/bcc000108.bmp  \n",
            "  inflating: Dataset/Train/210/bcc000109.bmp  \n",
            "  inflating: Dataset/Train/210/bcc000110.bmp  \n",
            "  inflating: Dataset/Train/210/bcc000111.bmp  \n",
            "  inflating: Dataset/Train/210/bcc000112.bmp  \n",
            "  inflating: Dataset/Train/210/bcc000113.bmp  \n",
            "  inflating: Dataset/Train/210/bcc000114.bmp  \n",
            "  inflating: Dataset/Train/210/bcc000115.bmp  \n",
            "  inflating: Dataset/Train/210/bcc000116.bmp  \n",
            "  inflating: Dataset/Train/210/bcc000117.bmp  \n",
            "  inflating: Dataset/Train/210/bcc000118.bmp  \n",
            "  inflating: Dataset/Train/210/bcc000119.bmp  \n",
            "  inflating: Dataset/Train/210/bcc000120.bmp  \n",
            "  inflating: Dataset/Train/210/bcc000121.bmp  \n",
            "  inflating: Dataset/Train/210/bcc000122.bmp  \n",
            "  inflating: Dataset/Train/210/bcc000123.bmp  \n",
            "  inflating: Dataset/Train/210/bcc000124.bmp  \n",
            "  inflating: Dataset/Train/210/bcc000125.bmp  \n",
            "  inflating: Dataset/Train/210/bcc000126.bmp  \n",
            "  inflating: Dataset/Train/210/bcc000127.bmp  \n",
            "  inflating: Dataset/Train/210/bcc000128.bmp  \n",
            "  inflating: Dataset/Train/210/bcc000129.bmp  \n",
            "  inflating: Dataset/Train/210/bcc000130.bmp  \n",
            "  inflating: Dataset/Train/210/bcc000131.bmp  \n",
            "  inflating: Dataset/Train/210/bcc000132.bmp  \n",
            "  inflating: Dataset/Train/210/bcc000133.bmp  \n",
            "  inflating: Dataset/Train/210/bcc000134.bmp  \n",
            "  inflating: Dataset/Train/210/bcc000135.bmp  \n",
            "  inflating: Dataset/Train/210/bcc000136.bmp  \n",
            "  inflating: Dataset/Train/210/bcc000137.bmp  \n",
            "  inflating: Dataset/Train/210/bcc000138.bmp  \n",
            "  inflating: Dataset/Train/210/bcc000139.bmp  \n",
            "  inflating: Dataset/Train/210/bcc000140.bmp  \n",
            "  inflating: Dataset/Train/210/bcc000141.bmp  \n",
            "  inflating: Dataset/Train/210/bcc000142.bmp  \n",
            "  inflating: Dataset/Train/210/bcc000143.bmp  \n",
            "  inflating: Dataset/Train/210/bcc000144.bmp  \n",
            "  inflating: Dataset/Train/210/bcc000145.bmp  \n",
            "  inflating: Dataset/Train/210/bcc000146.bmp  \n",
            "  inflating: Dataset/Train/210/bcc000147.bmp  \n",
            "  inflating: Dataset/Train/210/bcc000148.bmp  \n",
            "  inflating: Dataset/Train/210/bcc000149.bmp  \n",
            "  inflating: Dataset/Train/210/bcc000150.bmp  \n",
            "  inflating: Dataset/Train/210/bcc000151.bmp  \n",
            "  inflating: Dataset/Train/210/bcc000152.bmp  \n",
            "  inflating: Dataset/Train/210/bcc000153.bmp  \n",
            "  inflating: Dataset/Train/210/bcc000154.bmp  \n",
            "  inflating: Dataset/Train/210/bcc000155.bmp  \n",
            "  inflating: Dataset/Train/210/bcc000156.bmp  \n",
            "  inflating: Dataset/Train/210/bcc000157.bmp  \n",
            "  inflating: Dataset/Train/210/bcc000158.bmp  \n",
            "  inflating: Dataset/Train/210/bcc000159.bmp  \n",
            "  inflating: Dataset/Train/210/bcc000160.bmp  \n",
            "  inflating: Dataset/Train/210/bcc000161.bmp  \n",
            "  inflating: Dataset/Train/210/bcc000162.bmp  \n",
            "  inflating: Dataset/Train/210/bcc000163.bmp  \n",
            "  inflating: Dataset/Train/210/bcc000164.bmp  \n",
            "  inflating: Dataset/Train/210/bcc000165.bmp  \n",
            "  inflating: Dataset/Train/210/bcc000166.bmp  \n",
            "  inflating: Dataset/Train/210/bcc000167.bmp  \n",
            "  inflating: Dataset/Train/210/bcc000168.bmp  \n",
            "  inflating: Dataset/Train/210/bcc000169.bmp  \n",
            "  inflating: Dataset/Train/210/bcc000170.bmp  \n",
            "  inflating: Dataset/Train/210/bcc000171.bmp  \n",
            "  inflating: Dataset/Train/210/bcc000172.bmp  \n",
            "  inflating: Dataset/Train/210/bcc000173.bmp  \n",
            "  inflating: Dataset/Train/210/bcc000174.bmp  \n",
            "  inflating: Dataset/Train/210/bcc000175.bmp  \n",
            "  inflating: Dataset/Train/210/bcc000176.bmp  \n",
            "  inflating: Dataset/Train/210/bcc000177.bmp  \n",
            "  inflating: Dataset/Train/210/bcc000178.bmp  \n",
            "  inflating: Dataset/Train/210/bcc000179.bmp  \n",
            "  inflating: Dataset/Train/210/bcc000180.bmp  \n",
            "  inflating: Dataset/Train/210/bcc000181.bmp  \n",
            "  inflating: Dataset/Train/210/bcc000182.bmp  \n",
            "  inflating: Dataset/Train/210/bcc000183.bmp  \n",
            "  inflating: Dataset/Train/210/bcc000184.bmp  \n",
            "  inflating: Dataset/Train/210/bcc000185.bmp  \n",
            "  inflating: Dataset/Train/210/bcc000186.bmp  \n",
            "  inflating: Dataset/Train/210/bcc000187.bmp  \n",
            "  inflating: Dataset/Train/210/bcc000188.bmp  \n",
            "  inflating: Dataset/Train/210/bcc000189.bmp  \n",
            "  inflating: Dataset/Train/210/bcc000190.bmp  \n",
            "  inflating: Dataset/Train/210/bcc000191.bmp  \n",
            "  inflating: Dataset/Train/210/bcc000192.bmp  \n",
            "  inflating: Dataset/Train/210/bcc000193.bmp  \n",
            "  inflating: Dataset/Train/210/bcc000194.bmp  \n",
            "  inflating: Dataset/Train/210/bcc000195.bmp  \n",
            "  inflating: Dataset/Train/210/bcc000196.bmp  \n",
            "  inflating: Dataset/Train/210/bcc000197.bmp  \n",
            "  inflating: Dataset/Train/210/bcc000198.bmp  \n",
            "  inflating: Dataset/Train/210/bcc000199.bmp  \n",
            "  inflating: Dataset/Train/210/bcc000200.bmp  \n",
            "  inflating: Dataset/Train/210/bcc000201.bmp  \n",
            "  inflating: Dataset/Train/210/bcc000202.bmp  \n",
            "  inflating: Dataset/Train/210/bcc000203.bmp  \n",
            "  inflating: Dataset/Train/210/bcc000204.bmp  \n",
            "  inflating: Dataset/Train/210/bcc000205.bmp  \n",
            "  inflating: Dataset/Train/210/bcc000206.bmp  \n",
            "  inflating: Dataset/Train/210/bcc000207.bmp  \n",
            "  inflating: Dataset/Train/210/bcc000208.bmp  \n",
            "  inflating: Dataset/Train/210/bcc000209.bmp  \n",
            "  inflating: Dataset/Train/210/bcc000210.bmp  \n",
            "  inflating: Dataset/Train/210/bcc000211.bmp  \n",
            "  inflating: Dataset/Train/210/bcc000212.bmp  \n",
            "  inflating: Dataset/Train/210/bcc000213.bmp  \n",
            "  inflating: Dataset/Train/210/bcc000214.bmp  \n",
            "  inflating: Dataset/Train/210/bcc000215.bmp  \n",
            "  inflating: Dataset/Train/210/bcc000216.bmp  \n",
            "  inflating: Dataset/Train/210/bcc000217.bmp  \n",
            "  inflating: Dataset/Train/210/bcc000218.bmp  \n",
            "  inflating: Dataset/Train/210/bcc000219.bmp  \n",
            "  inflating: Dataset/Train/210/bcc000220.bmp  \n",
            "  inflating: Dataset/Train/210/bcc000221.bmp  \n",
            "  inflating: Dataset/Train/210/bcc000222.bmp  \n",
            "  inflating: Dataset/Train/210/bcc000223.bmp  \n",
            "  inflating: Dataset/Train/210/bcc000224.bmp  \n",
            "  inflating: Dataset/Train/210/bcc000225.bmp  \n",
            "  inflating: Dataset/Train/210/bcc000226.bmp  \n",
            "  inflating: Dataset/Train/210/bcc000227.bmp  \n",
            "  inflating: Dataset/Train/210/bcc000228.bmp  \n",
            "  inflating: Dataset/Train/210/bcc000229.bmp  \n",
            "  inflating: Dataset/Train/210/bcc000230.bmp  \n",
            "  inflating: Dataset/Train/210/bcc000231.bmp  \n",
            "  inflating: Dataset/Train/210/bcc000232.bmp  \n",
            "  inflating: Dataset/Train/210/bcc000233.bmp  \n",
            "  inflating: Dataset/Train/210/bcc000234.bmp  \n",
            "  inflating: Dataset/Train/210/bcc000235.bmp  \n",
            "  inflating: Dataset/Train/210/bcc000236.bmp  \n",
            "  inflating: Dataset/Train/210/bcc000237.bmp  \n",
            "  inflating: Dataset/Train/210/bcc000238.bmp  \n",
            "  inflating: Dataset/Train/210/bcc000239.bmp  \n",
            "   creating: Dataset/Train/211/\n",
            "  inflating: Dataset/Train/211/bcc000000.bmp  \n",
            "  inflating: Dataset/Train/211/bcc000001.bmp  \n",
            "  inflating: Dataset/Train/211/bcc000002.bmp  \n",
            "  inflating: Dataset/Train/211/bcc000003.bmp  \n",
            "  inflating: Dataset/Train/211/bcc000004.bmp  \n",
            "  inflating: Dataset/Train/211/bcc000005.bmp  \n",
            "  inflating: Dataset/Train/211/bcc000006.bmp  \n",
            "  inflating: Dataset/Train/211/bcc000007.bmp  \n",
            "  inflating: Dataset/Train/211/bcc000008.bmp  \n",
            "  inflating: Dataset/Train/211/bcc000009.bmp  \n",
            "  inflating: Dataset/Train/211/bcc000010.bmp  \n",
            "  inflating: Dataset/Train/211/bcc000011.bmp  \n",
            "  inflating: Dataset/Train/211/bcc000012.bmp  \n",
            "  inflating: Dataset/Train/211/bcc000013.bmp  \n",
            "  inflating: Dataset/Train/211/bcc000014.bmp  \n",
            "  inflating: Dataset/Train/211/bcc000015.bmp  \n",
            "  inflating: Dataset/Train/211/bcc000016.bmp  \n",
            "  inflating: Dataset/Train/211/bcc000017.bmp  \n",
            "  inflating: Dataset/Train/211/bcc000018.bmp  \n",
            "  inflating: Dataset/Train/211/bcc000019.bmp  \n",
            "  inflating: Dataset/Train/211/bcc000020.bmp  \n",
            "  inflating: Dataset/Train/211/bcc000021.bmp  \n",
            "  inflating: Dataset/Train/211/bcc000022.bmp  \n",
            "  inflating: Dataset/Train/211/bcc000023.bmp  \n",
            "  inflating: Dataset/Train/211/bcc000024.bmp  \n",
            "  inflating: Dataset/Train/211/bcc000025.bmp  \n",
            "  inflating: Dataset/Train/211/bcc000026.bmp  \n",
            "  inflating: Dataset/Train/211/bcc000027.bmp  \n",
            "  inflating: Dataset/Train/211/bcc000028.bmp  \n",
            "  inflating: Dataset/Train/211/bcc000029.bmp  \n",
            "  inflating: Dataset/Train/211/bcc000030.bmp  \n",
            "  inflating: Dataset/Train/211/bcc000031.bmp  \n",
            "  inflating: Dataset/Train/211/bcc000032.bmp  \n",
            "  inflating: Dataset/Train/211/bcc000033.bmp  \n",
            "  inflating: Dataset/Train/211/bcc000034.bmp  \n",
            "  inflating: Dataset/Train/211/bcc000035.bmp  \n",
            "  inflating: Dataset/Train/211/bcc000036.bmp  \n",
            "  inflating: Dataset/Train/211/bcc000037.bmp  \n",
            "  inflating: Dataset/Train/211/bcc000038.bmp  \n",
            "  inflating: Dataset/Train/211/bcc000039.bmp  \n",
            "  inflating: Dataset/Train/211/bcc000040.bmp  \n",
            "  inflating: Dataset/Train/211/bcc000041.bmp  \n",
            "  inflating: Dataset/Train/211/bcc000042.bmp  \n",
            "  inflating: Dataset/Train/211/bcc000043.bmp  \n",
            "  inflating: Dataset/Train/211/bcc000044.bmp  \n",
            "  inflating: Dataset/Train/211/bcc000045.bmp  \n",
            "  inflating: Dataset/Train/211/bcc000046.bmp  \n",
            "  inflating: Dataset/Train/211/bcc000047.bmp  \n",
            "  inflating: Dataset/Train/211/bcc000048.bmp  \n",
            "  inflating: Dataset/Train/211/bcc000049.bmp  \n",
            "  inflating: Dataset/Train/211/bcc000050.bmp  \n",
            "  inflating: Dataset/Train/211/bcc000051.bmp  \n",
            "  inflating: Dataset/Train/211/bcc000052.bmp  \n",
            "  inflating: Dataset/Train/211/bcc000053.bmp  \n",
            "  inflating: Dataset/Train/211/bcc000054.bmp  \n",
            "  inflating: Dataset/Train/211/bcc000055.bmp  \n",
            "  inflating: Dataset/Train/211/bcc000056.bmp  \n",
            "  inflating: Dataset/Train/211/bcc000057.bmp  \n",
            "  inflating: Dataset/Train/211/bcc000058.bmp  \n",
            "  inflating: Dataset/Train/211/bcc000059.bmp  \n",
            "  inflating: Dataset/Train/211/bcc000060.bmp  \n",
            "  inflating: Dataset/Train/211/bcc000061.bmp  \n",
            "  inflating: Dataset/Train/211/bcc000062.bmp  \n",
            "  inflating: Dataset/Train/211/bcc000063.bmp  \n",
            "  inflating: Dataset/Train/211/bcc000064.bmp  \n",
            "  inflating: Dataset/Train/211/bcc000065.bmp  \n",
            "  inflating: Dataset/Train/211/bcc000066.bmp  \n",
            "  inflating: Dataset/Train/211/bcc000067.bmp  \n",
            "  inflating: Dataset/Train/211/bcc000068.bmp  \n",
            "  inflating: Dataset/Train/211/bcc000069.bmp  \n",
            "  inflating: Dataset/Train/211/bcc000070.bmp  \n",
            "  inflating: Dataset/Train/211/bcc000071.bmp  \n",
            "  inflating: Dataset/Train/211/bcc000072.bmp  \n",
            "  inflating: Dataset/Train/211/bcc000073.bmp  \n",
            "  inflating: Dataset/Train/211/bcc000074.bmp  \n",
            "  inflating: Dataset/Train/211/bcc000075.bmp  \n",
            "  inflating: Dataset/Train/211/bcc000076.bmp  \n",
            "  inflating: Dataset/Train/211/bcc000077.bmp  \n",
            "  inflating: Dataset/Train/211/bcc000078.bmp  \n",
            "  inflating: Dataset/Train/211/bcc000079.bmp  \n",
            "  inflating: Dataset/Train/211/bcc000080.bmp  \n",
            "  inflating: Dataset/Train/211/bcc000081.bmp  \n",
            "  inflating: Dataset/Train/211/bcc000082.bmp  \n",
            "  inflating: Dataset/Train/211/bcc000083.bmp  \n",
            "  inflating: Dataset/Train/211/bcc000084.bmp  \n",
            "  inflating: Dataset/Train/211/bcc000085.bmp  \n",
            "  inflating: Dataset/Train/211/bcc000086.bmp  \n",
            "  inflating: Dataset/Train/211/bcc000087.bmp  \n",
            "  inflating: Dataset/Train/211/bcc000088.bmp  \n",
            "  inflating: Dataset/Train/211/bcc000089.bmp  \n",
            "  inflating: Dataset/Train/211/bcc000090.bmp  \n",
            "  inflating: Dataset/Train/211/bcc000091.bmp  \n",
            "  inflating: Dataset/Train/211/bcc000092.bmp  \n",
            "  inflating: Dataset/Train/211/bcc000093.bmp  \n",
            "  inflating: Dataset/Train/211/bcc000094.bmp  \n",
            "  inflating: Dataset/Train/211/bcc000095.bmp  \n",
            "  inflating: Dataset/Train/211/bcc000096.bmp  \n",
            "  inflating: Dataset/Train/211/bcc000097.bmp  \n",
            "  inflating: Dataset/Train/211/bcc000098.bmp  \n",
            "  inflating: Dataset/Train/211/bcc000099.bmp  \n",
            "  inflating: Dataset/Train/211/bcc000100.bmp  \n",
            "  inflating: Dataset/Train/211/bcc000101.bmp  \n",
            "  inflating: Dataset/Train/211/bcc000102.bmp  \n",
            "  inflating: Dataset/Train/211/bcc000103.bmp  \n",
            "  inflating: Dataset/Train/211/bcc000104.bmp  \n",
            "  inflating: Dataset/Train/211/bcc000105.bmp  \n",
            "  inflating: Dataset/Train/211/bcc000106.bmp  \n",
            "  inflating: Dataset/Train/211/bcc000107.bmp  \n",
            "  inflating: Dataset/Train/211/bcc000108.bmp  \n",
            "  inflating: Dataset/Train/211/bcc000109.bmp  \n",
            "  inflating: Dataset/Train/211/bcc000110.bmp  \n",
            "  inflating: Dataset/Train/211/bcc000111.bmp  \n",
            "  inflating: Dataset/Train/211/bcc000112.bmp  \n",
            "  inflating: Dataset/Train/211/bcc000113.bmp  \n",
            "  inflating: Dataset/Train/211/bcc000114.bmp  \n",
            "  inflating: Dataset/Train/211/bcc000115.bmp  \n",
            "  inflating: Dataset/Train/211/bcc000116.bmp  \n",
            "  inflating: Dataset/Train/211/bcc000117.bmp  \n",
            "  inflating: Dataset/Train/211/bcc000118.bmp  \n",
            "  inflating: Dataset/Train/211/bcc000119.bmp  \n",
            "  inflating: Dataset/Train/211/bcc000120.bmp  \n",
            "  inflating: Dataset/Train/211/bcc000121.bmp  \n",
            "  inflating: Dataset/Train/211/bcc000122.bmp  \n",
            "  inflating: Dataset/Train/211/bcc000123.bmp  \n",
            "  inflating: Dataset/Train/211/bcc000124.bmp  \n",
            "  inflating: Dataset/Train/211/bcc000125.bmp  \n",
            "  inflating: Dataset/Train/211/bcc000126.bmp  \n",
            "  inflating: Dataset/Train/211/bcc000127.bmp  \n",
            "  inflating: Dataset/Train/211/bcc000128.bmp  \n",
            "  inflating: Dataset/Train/211/bcc000129.bmp  \n",
            "  inflating: Dataset/Train/211/bcc000130.bmp  \n",
            "  inflating: Dataset/Train/211/bcc000131.bmp  \n",
            "  inflating: Dataset/Train/211/bcc000132.bmp  \n",
            "  inflating: Dataset/Train/211/bcc000133.bmp  \n",
            "  inflating: Dataset/Train/211/bcc000134.bmp  \n",
            "  inflating: Dataset/Train/211/bcc000135.bmp  \n",
            "  inflating: Dataset/Train/211/bcc000136.bmp  \n",
            "  inflating: Dataset/Train/211/bcc000137.bmp  \n",
            "  inflating: Dataset/Train/211/bcc000138.bmp  \n",
            "  inflating: Dataset/Train/211/bcc000139.bmp  \n",
            "  inflating: Dataset/Train/211/bcc000140.bmp  \n",
            "  inflating: Dataset/Train/211/bcc000141.bmp  \n",
            "  inflating: Dataset/Train/211/bcc000142.bmp  \n",
            "  inflating: Dataset/Train/211/bcc000143.bmp  \n",
            "  inflating: Dataset/Train/211/bcc000144.bmp  \n",
            "  inflating: Dataset/Train/211/bcc000145.bmp  \n",
            "  inflating: Dataset/Train/211/bcc000146.bmp  \n",
            "  inflating: Dataset/Train/211/bcc000147.bmp  \n",
            "  inflating: Dataset/Train/211/bcc000148.bmp  \n",
            "  inflating: Dataset/Train/211/bcc000149.bmp  \n",
            "  inflating: Dataset/Train/211/bcc000150.bmp  \n",
            "  inflating: Dataset/Train/211/bcc000151.bmp  \n",
            "  inflating: Dataset/Train/211/bcc000152.bmp  \n",
            "  inflating: Dataset/Train/211/bcc000153.bmp  \n",
            "  inflating: Dataset/Train/211/bcc000154.bmp  \n",
            "  inflating: Dataset/Train/211/bcc000155.bmp  \n",
            "  inflating: Dataset/Train/211/bcc000156.bmp  \n",
            "  inflating: Dataset/Train/211/bcc000157.bmp  \n",
            "  inflating: Dataset/Train/211/bcc000158.bmp  \n",
            "  inflating: Dataset/Train/211/bcc000159.bmp  \n",
            "  inflating: Dataset/Train/211/bcc000160.bmp  \n",
            "  inflating: Dataset/Train/211/bcc000161.bmp  \n",
            "  inflating: Dataset/Train/211/bcc000162.bmp  \n",
            "  inflating: Dataset/Train/211/bcc000163.bmp  \n",
            "  inflating: Dataset/Train/211/bcc000164.bmp  \n",
            "  inflating: Dataset/Train/211/bcc000165.bmp  \n",
            "  inflating: Dataset/Train/211/bcc000166.bmp  \n",
            "  inflating: Dataset/Train/211/bcc000167.bmp  \n",
            "  inflating: Dataset/Train/211/bcc000168.bmp  \n",
            "  inflating: Dataset/Train/211/bcc000169.bmp  \n",
            "  inflating: Dataset/Train/211/bcc000170.bmp  \n",
            "  inflating: Dataset/Train/211/bcc000171.bmp  \n",
            "  inflating: Dataset/Train/211/bcc000172.bmp  \n",
            "  inflating: Dataset/Train/211/bcc000173.bmp  \n",
            "  inflating: Dataset/Train/211/bcc000174.bmp  \n",
            "  inflating: Dataset/Train/211/bcc000175.bmp  \n",
            "  inflating: Dataset/Train/211/bcc000176.bmp  \n",
            "  inflating: Dataset/Train/211/bcc000177.bmp  \n",
            "  inflating: Dataset/Train/211/bcc000178.bmp  \n",
            "  inflating: Dataset/Train/211/bcc000179.bmp  \n",
            "  inflating: Dataset/Train/211/bcc000180.bmp  \n",
            "  inflating: Dataset/Train/211/bcc000181.bmp  \n",
            "  inflating: Dataset/Train/211/bcc000182.bmp  \n",
            "  inflating: Dataset/Train/211/bcc000183.bmp  \n",
            "  inflating: Dataset/Train/211/bcc000184.bmp  \n",
            "  inflating: Dataset/Train/211/bcc000185.bmp  \n",
            "  inflating: Dataset/Train/211/bcc000186.bmp  \n",
            "  inflating: Dataset/Train/211/bcc000187.bmp  \n",
            "  inflating: Dataset/Train/211/bcc000188.bmp  \n",
            "  inflating: Dataset/Train/211/bcc000189.bmp  \n",
            "  inflating: Dataset/Train/211/bcc000190.bmp  \n",
            "  inflating: Dataset/Train/211/bcc000191.bmp  \n",
            "  inflating: Dataset/Train/211/bcc000192.bmp  \n",
            "  inflating: Dataset/Train/211/bcc000193.bmp  \n",
            "  inflating: Dataset/Train/211/bcc000194.bmp  \n",
            "  inflating: Dataset/Train/211/bcc000195.bmp  \n",
            "  inflating: Dataset/Train/211/bcc000196.bmp  \n",
            "  inflating: Dataset/Train/211/bcc000197.bmp  \n",
            "  inflating: Dataset/Train/211/bcc000198.bmp  \n",
            "  inflating: Dataset/Train/211/bcc000199.bmp  \n",
            "  inflating: Dataset/Train/211/bcc000200.bmp  \n",
            "  inflating: Dataset/Train/211/bcc000201.bmp  \n",
            "  inflating: Dataset/Train/211/bcc000202.bmp  \n",
            "  inflating: Dataset/Train/211/bcc000203.bmp  \n",
            "  inflating: Dataset/Train/211/bcc000204.bmp  \n",
            "  inflating: Dataset/Train/211/bcc000205.bmp  \n",
            "  inflating: Dataset/Train/211/bcc000206.bmp  \n",
            "  inflating: Dataset/Train/211/bcc000207.bmp  \n",
            "  inflating: Dataset/Train/211/bcc000208.bmp  \n",
            "  inflating: Dataset/Train/211/bcc000209.bmp  \n",
            "  inflating: Dataset/Train/211/bcc000210.bmp  \n",
            "  inflating: Dataset/Train/211/bcc000211.bmp  \n",
            "  inflating: Dataset/Train/211/bcc000212.bmp  \n",
            "  inflating: Dataset/Train/211/bcc000213.bmp  \n",
            "  inflating: Dataset/Train/211/bcc000214.bmp  \n",
            "  inflating: Dataset/Train/211/bcc000215.bmp  \n",
            "  inflating: Dataset/Train/211/bcc000216.bmp  \n",
            "  inflating: Dataset/Train/211/bcc000217.bmp  \n",
            "  inflating: Dataset/Train/211/bcc000218.bmp  \n",
            "  inflating: Dataset/Train/211/bcc000219.bmp  \n",
            "  inflating: Dataset/Train/211/bcc000220.bmp  \n",
            "  inflating: Dataset/Train/211/bcc000221.bmp  \n",
            "  inflating: Dataset/Train/211/bcc000222.bmp  \n",
            "  inflating: Dataset/Train/211/bcc000223.bmp  \n",
            "  inflating: Dataset/Train/211/bcc000224.bmp  \n",
            "  inflating: Dataset/Train/211/bcc000225.bmp  \n",
            "  inflating: Dataset/Train/211/bcc000226.bmp  \n",
            "  inflating: Dataset/Train/211/bcc000227.bmp  \n",
            "  inflating: Dataset/Train/211/bcc000228.bmp  \n",
            "  inflating: Dataset/Train/211/bcc000229.bmp  \n",
            "  inflating: Dataset/Train/211/bcc000230.bmp  \n",
            "  inflating: Dataset/Train/211/bcc000231.bmp  \n",
            "  inflating: Dataset/Train/211/bcc000232.bmp  \n",
            "  inflating: Dataset/Train/211/bcc000233.bmp  \n",
            "  inflating: Dataset/Train/211/bcc000234.bmp  \n",
            "  inflating: Dataset/Train/211/bcc000235.bmp  \n",
            "  inflating: Dataset/Train/211/bcc000236.bmp  \n",
            "  inflating: Dataset/Train/211/bcc000237.bmp  \n",
            "  inflating: Dataset/Train/211/bcc000238.bmp  \n",
            "  inflating: Dataset/Train/211/bcc000239.bmp  \n",
            "   creating: Dataset/Train/212/\n",
            "  inflating: Dataset/Train/212/bcc000000.bmp  \n",
            "  inflating: Dataset/Train/212/bcc000001.bmp  \n",
            "  inflating: Dataset/Train/212/bcc000002.bmp  \n",
            "  inflating: Dataset/Train/212/bcc000003.bmp  \n",
            "  inflating: Dataset/Train/212/bcc000004.bmp  \n",
            "  inflating: Dataset/Train/212/bcc000005.bmp  \n",
            "  inflating: Dataset/Train/212/bcc000006.bmp  \n",
            "  inflating: Dataset/Train/212/bcc000007.bmp  \n",
            "  inflating: Dataset/Train/212/bcc000008.bmp  \n",
            "  inflating: Dataset/Train/212/bcc000009.bmp  \n",
            "  inflating: Dataset/Train/212/bcc000010.bmp  \n",
            "  inflating: Dataset/Train/212/bcc000011.bmp  \n",
            "  inflating: Dataset/Train/212/bcc000012.bmp  \n",
            "  inflating: Dataset/Train/212/bcc000013.bmp  \n",
            "  inflating: Dataset/Train/212/bcc000014.bmp  \n",
            "  inflating: Dataset/Train/212/bcc000015.bmp  \n",
            "  inflating: Dataset/Train/212/bcc000016.bmp  \n",
            "  inflating: Dataset/Train/212/bcc000017.bmp  \n",
            "  inflating: Dataset/Train/212/bcc000018.bmp  \n",
            "  inflating: Dataset/Train/212/bcc000019.bmp  \n",
            "  inflating: Dataset/Train/212/bcc000020.bmp  \n",
            "  inflating: Dataset/Train/212/bcc000021.bmp  \n",
            "  inflating: Dataset/Train/212/bcc000022.bmp  \n",
            "  inflating: Dataset/Train/212/bcc000023.bmp  \n",
            "  inflating: Dataset/Train/212/bcc000024.bmp  \n",
            "  inflating: Dataset/Train/212/bcc000025.bmp  \n",
            "  inflating: Dataset/Train/212/bcc000026.bmp  \n",
            "  inflating: Dataset/Train/212/bcc000027.bmp  \n",
            "  inflating: Dataset/Train/212/bcc000028.bmp  \n",
            "  inflating: Dataset/Train/212/bcc000029.bmp  \n",
            "  inflating: Dataset/Train/212/bcc000030.bmp  \n",
            "  inflating: Dataset/Train/212/bcc000031.bmp  \n",
            "  inflating: Dataset/Train/212/bcc000032.bmp  \n",
            "  inflating: Dataset/Train/212/bcc000033.bmp  \n",
            "  inflating: Dataset/Train/212/bcc000034.bmp  \n",
            "  inflating: Dataset/Train/212/bcc000035.bmp  \n",
            "  inflating: Dataset/Train/212/bcc000036.bmp  \n",
            "  inflating: Dataset/Train/212/bcc000037.bmp  \n",
            "  inflating: Dataset/Train/212/bcc000038.bmp  \n",
            "  inflating: Dataset/Train/212/bcc000039.bmp  \n",
            "  inflating: Dataset/Train/212/bcc000040.bmp  \n",
            "  inflating: Dataset/Train/212/bcc000041.bmp  \n",
            "  inflating: Dataset/Train/212/bcc000042.bmp  \n",
            "  inflating: Dataset/Train/212/bcc000043.bmp  \n",
            "  inflating: Dataset/Train/212/bcc000044.bmp  \n",
            "  inflating: Dataset/Train/212/bcc000045.bmp  \n",
            "  inflating: Dataset/Train/212/bcc000046.bmp  \n",
            "  inflating: Dataset/Train/212/bcc000047.bmp  \n",
            "  inflating: Dataset/Train/212/bcc000048.bmp  \n",
            "  inflating: Dataset/Train/212/bcc000049.bmp  \n",
            "  inflating: Dataset/Train/212/bcc000050.bmp  \n",
            "  inflating: Dataset/Train/212/bcc000051.bmp  \n",
            "  inflating: Dataset/Train/212/bcc000052.bmp  \n",
            "  inflating: Dataset/Train/212/bcc000053.bmp  \n",
            "  inflating: Dataset/Train/212/bcc000054.bmp  \n",
            "  inflating: Dataset/Train/212/bcc000055.bmp  \n",
            "  inflating: Dataset/Train/212/bcc000056.bmp  \n",
            "  inflating: Dataset/Train/212/bcc000057.bmp  \n",
            "  inflating: Dataset/Train/212/bcc000058.bmp  \n",
            "  inflating: Dataset/Train/212/bcc000059.bmp  \n",
            "  inflating: Dataset/Train/212/bcc000060.bmp  \n",
            "  inflating: Dataset/Train/212/bcc000061.bmp  \n",
            "  inflating: Dataset/Train/212/bcc000062.bmp  \n",
            "  inflating: Dataset/Train/212/bcc000063.bmp  \n",
            "  inflating: Dataset/Train/212/bcc000064.bmp  \n",
            "  inflating: Dataset/Train/212/bcc000065.bmp  \n",
            "  inflating: Dataset/Train/212/bcc000066.bmp  \n",
            "  inflating: Dataset/Train/212/bcc000067.bmp  \n",
            "  inflating: Dataset/Train/212/bcc000068.bmp  \n",
            "  inflating: Dataset/Train/212/bcc000069.bmp  \n",
            "  inflating: Dataset/Train/212/bcc000070.bmp  \n",
            "  inflating: Dataset/Train/212/bcc000071.bmp  \n",
            "  inflating: Dataset/Train/212/bcc000072.bmp  \n",
            "  inflating: Dataset/Train/212/bcc000073.bmp  \n",
            "  inflating: Dataset/Train/212/bcc000074.bmp  \n",
            "  inflating: Dataset/Train/212/bcc000075.bmp  \n",
            "  inflating: Dataset/Train/212/bcc000076.bmp  \n",
            "  inflating: Dataset/Train/212/bcc000077.bmp  \n",
            "  inflating: Dataset/Train/212/bcc000078.bmp  \n",
            "  inflating: Dataset/Train/212/bcc000079.bmp  \n",
            "  inflating: Dataset/Train/212/bcc000080.bmp  \n",
            "  inflating: Dataset/Train/212/bcc000081.bmp  \n",
            "  inflating: Dataset/Train/212/bcc000082.bmp  \n",
            "  inflating: Dataset/Train/212/bcc000083.bmp  \n",
            "  inflating: Dataset/Train/212/bcc000084.bmp  \n",
            "  inflating: Dataset/Train/212/bcc000085.bmp  \n",
            "  inflating: Dataset/Train/212/bcc000086.bmp  \n",
            "  inflating: Dataset/Train/212/bcc000087.bmp  \n",
            "  inflating: Dataset/Train/212/bcc000088.bmp  \n",
            "  inflating: Dataset/Train/212/bcc000089.bmp  \n",
            "  inflating: Dataset/Train/212/bcc000090.bmp  \n",
            "  inflating: Dataset/Train/212/bcc000091.bmp  \n",
            "  inflating: Dataset/Train/212/bcc000092.bmp  \n",
            "  inflating: Dataset/Train/212/bcc000093.bmp  \n",
            "  inflating: Dataset/Train/212/bcc000094.bmp  \n",
            "  inflating: Dataset/Train/212/bcc000095.bmp  \n",
            "  inflating: Dataset/Train/212/bcc000096.bmp  \n",
            "  inflating: Dataset/Train/212/bcc000097.bmp  \n",
            "  inflating: Dataset/Train/212/bcc000098.bmp  \n",
            "  inflating: Dataset/Train/212/bcc000099.bmp  \n",
            "  inflating: Dataset/Train/212/bcc000100.bmp  \n",
            "  inflating: Dataset/Train/212/bcc000101.bmp  \n",
            "  inflating: Dataset/Train/212/bcc000102.bmp  \n",
            "  inflating: Dataset/Train/212/bcc000103.bmp  \n",
            "  inflating: Dataset/Train/212/bcc000104.bmp  \n",
            "  inflating: Dataset/Train/212/bcc000105.bmp  \n",
            "  inflating: Dataset/Train/212/bcc000106.bmp  \n",
            "  inflating: Dataset/Train/212/bcc000107.bmp  \n",
            "  inflating: Dataset/Train/212/bcc000108.bmp  \n",
            "  inflating: Dataset/Train/212/bcc000109.bmp  \n",
            "  inflating: Dataset/Train/212/bcc000110.bmp  \n",
            "  inflating: Dataset/Train/212/bcc000111.bmp  \n",
            "  inflating: Dataset/Train/212/bcc000112.bmp  \n",
            "  inflating: Dataset/Train/212/bcc000113.bmp  \n",
            "  inflating: Dataset/Train/212/bcc000114.bmp  \n",
            "  inflating: Dataset/Train/212/bcc000115.bmp  \n",
            "  inflating: Dataset/Train/212/bcc000116.bmp  \n",
            "  inflating: Dataset/Train/212/bcc000117.bmp  \n",
            "  inflating: Dataset/Train/212/bcc000118.bmp  \n",
            "  inflating: Dataset/Train/212/bcc000119.bmp  \n",
            "  inflating: Dataset/Train/212/bcc000120.bmp  \n",
            "  inflating: Dataset/Train/212/bcc000121.bmp  \n",
            "  inflating: Dataset/Train/212/bcc000122.bmp  \n",
            "  inflating: Dataset/Train/212/bcc000123.bmp  \n",
            "  inflating: Dataset/Train/212/bcc000124.bmp  \n",
            "  inflating: Dataset/Train/212/bcc000125.bmp  \n",
            "  inflating: Dataset/Train/212/bcc000126.bmp  \n",
            "  inflating: Dataset/Train/212/bcc000127.bmp  \n",
            "  inflating: Dataset/Train/212/bcc000128.bmp  \n",
            "  inflating: Dataset/Train/212/bcc000129.bmp  \n",
            "  inflating: Dataset/Train/212/bcc000130.bmp  \n",
            "  inflating: Dataset/Train/212/bcc000131.bmp  \n",
            "  inflating: Dataset/Train/212/bcc000132.bmp  \n",
            "  inflating: Dataset/Train/212/bcc000133.bmp  \n",
            "  inflating: Dataset/Train/212/bcc000134.bmp  \n",
            "  inflating: Dataset/Train/212/bcc000135.bmp  \n",
            "  inflating: Dataset/Train/212/bcc000136.bmp  \n",
            "  inflating: Dataset/Train/212/bcc000137.bmp  \n",
            "  inflating: Dataset/Train/212/bcc000138.bmp  \n",
            "  inflating: Dataset/Train/212/bcc000139.bmp  \n",
            "  inflating: Dataset/Train/212/bcc000140.bmp  \n",
            "  inflating: Dataset/Train/212/bcc000141.bmp  \n",
            "  inflating: Dataset/Train/212/bcc000142.bmp  \n",
            "  inflating: Dataset/Train/212/bcc000143.bmp  \n",
            "  inflating: Dataset/Train/212/bcc000144.bmp  \n",
            "  inflating: Dataset/Train/212/bcc000145.bmp  \n",
            "  inflating: Dataset/Train/212/bcc000146.bmp  \n",
            "  inflating: Dataset/Train/212/bcc000147.bmp  \n",
            "  inflating: Dataset/Train/212/bcc000148.bmp  \n",
            "  inflating: Dataset/Train/212/bcc000149.bmp  \n",
            "  inflating: Dataset/Train/212/bcc000150.bmp  \n",
            "  inflating: Dataset/Train/212/bcc000151.bmp  \n",
            "  inflating: Dataset/Train/212/bcc000152.bmp  \n",
            "  inflating: Dataset/Train/212/bcc000153.bmp  \n",
            "  inflating: Dataset/Train/212/bcc000154.bmp  \n",
            "  inflating: Dataset/Train/212/bcc000155.bmp  \n",
            "  inflating: Dataset/Train/212/bcc000156.bmp  \n",
            "  inflating: Dataset/Train/212/bcc000157.bmp  \n",
            "  inflating: Dataset/Train/212/bcc000158.bmp  \n",
            "  inflating: Dataset/Train/212/bcc000159.bmp  \n",
            "  inflating: Dataset/Train/212/bcc000160.bmp  \n",
            "  inflating: Dataset/Train/212/bcc000161.bmp  \n",
            "  inflating: Dataset/Train/212/bcc000162.bmp  \n",
            "  inflating: Dataset/Train/212/bcc000163.bmp  \n",
            "  inflating: Dataset/Train/212/bcc000164.bmp  \n",
            "  inflating: Dataset/Train/212/bcc000165.bmp  \n",
            "  inflating: Dataset/Train/212/bcc000166.bmp  \n",
            "  inflating: Dataset/Train/212/bcc000167.bmp  \n",
            "  inflating: Dataset/Train/212/bcc000168.bmp  \n",
            "  inflating: Dataset/Train/212/bcc000169.bmp  \n",
            "  inflating: Dataset/Train/212/bcc000170.bmp  \n",
            "  inflating: Dataset/Train/212/bcc000171.bmp  \n",
            "  inflating: Dataset/Train/212/bcc000172.bmp  \n",
            "  inflating: Dataset/Train/212/bcc000173.bmp  \n",
            "  inflating: Dataset/Train/212/bcc000174.bmp  \n",
            "  inflating: Dataset/Train/212/bcc000175.bmp  \n",
            "  inflating: Dataset/Train/212/bcc000176.bmp  \n",
            "  inflating: Dataset/Train/212/bcc000177.bmp  \n",
            "  inflating: Dataset/Train/212/bcc000178.bmp  \n",
            "  inflating: Dataset/Train/212/bcc000179.bmp  \n",
            "  inflating: Dataset/Train/212/bcc000180.bmp  \n",
            "  inflating: Dataset/Train/212/bcc000181.bmp  \n",
            "  inflating: Dataset/Train/212/bcc000182.bmp  \n",
            "  inflating: Dataset/Train/212/bcc000183.bmp  \n",
            "  inflating: Dataset/Train/212/bcc000184.bmp  \n",
            "  inflating: Dataset/Train/212/bcc000185.bmp  \n",
            "  inflating: Dataset/Train/212/bcc000186.bmp  \n",
            "  inflating: Dataset/Train/212/bcc000187.bmp  \n",
            "  inflating: Dataset/Train/212/bcc000188.bmp  \n",
            "  inflating: Dataset/Train/212/bcc000189.bmp  \n",
            "  inflating: Dataset/Train/212/bcc000190.bmp  \n",
            "  inflating: Dataset/Train/212/bcc000191.bmp  \n",
            "  inflating: Dataset/Train/212/bcc000192.bmp  \n",
            "  inflating: Dataset/Train/212/bcc000193.bmp  \n",
            "  inflating: Dataset/Train/212/bcc000194.bmp  \n",
            "  inflating: Dataset/Train/212/bcc000195.bmp  \n",
            "  inflating: Dataset/Train/212/bcc000196.bmp  \n",
            "  inflating: Dataset/Train/212/bcc000197.bmp  \n",
            "  inflating: Dataset/Train/212/bcc000198.bmp  \n",
            "  inflating: Dataset/Train/212/bcc000199.bmp  \n",
            "  inflating: Dataset/Train/212/bcc000200.bmp  \n",
            "  inflating: Dataset/Train/212/bcc000201.bmp  \n",
            "  inflating: Dataset/Train/212/bcc000202.bmp  \n",
            "  inflating: Dataset/Train/212/bcc000203.bmp  \n",
            "  inflating: Dataset/Train/212/bcc000204.bmp  \n",
            "  inflating: Dataset/Train/212/bcc000205.bmp  \n",
            "  inflating: Dataset/Train/212/bcc000206.bmp  \n",
            "  inflating: Dataset/Train/212/bcc000207.bmp  \n",
            "  inflating: Dataset/Train/212/bcc000208.bmp  \n",
            "  inflating: Dataset/Train/212/bcc000209.bmp  \n",
            "  inflating: Dataset/Train/212/bcc000210.bmp  \n",
            "  inflating: Dataset/Train/212/bcc000211.bmp  \n",
            "  inflating: Dataset/Train/212/bcc000212.bmp  \n",
            "  inflating: Dataset/Train/212/bcc000213.bmp  \n",
            "  inflating: Dataset/Train/212/bcc000214.bmp  \n",
            "  inflating: Dataset/Train/212/bcc000215.bmp  \n",
            "  inflating: Dataset/Train/212/bcc000216.bmp  \n",
            "  inflating: Dataset/Train/212/bcc000217.bmp  \n",
            "  inflating: Dataset/Train/212/bcc000218.bmp  \n",
            "  inflating: Dataset/Train/212/bcc000219.bmp  \n",
            "  inflating: Dataset/Train/212/bcc000220.bmp  \n",
            "  inflating: Dataset/Train/212/bcc000221.bmp  \n",
            "  inflating: Dataset/Train/212/bcc000222.bmp  \n",
            "  inflating: Dataset/Train/212/bcc000223.bmp  \n",
            "  inflating: Dataset/Train/212/bcc000224.bmp  \n",
            "  inflating: Dataset/Train/212/bcc000225.bmp  \n",
            "  inflating: Dataset/Train/212/bcc000226.bmp  \n",
            "  inflating: Dataset/Train/212/bcc000227.bmp  \n",
            "  inflating: Dataset/Train/212/bcc000228.bmp  \n",
            "  inflating: Dataset/Train/212/bcc000229.bmp  \n",
            "  inflating: Dataset/Train/212/bcc000230.bmp  \n",
            "  inflating: Dataset/Train/212/bcc000231.bmp  \n",
            "  inflating: Dataset/Train/212/bcc000232.bmp  \n",
            "  inflating: Dataset/Train/212/bcc000233.bmp  \n",
            "  inflating: Dataset/Train/212/bcc000234.bmp  \n",
            "  inflating: Dataset/Train/212/bcc000235.bmp  \n",
            "  inflating: Dataset/Train/212/bcc000236.bmp  \n",
            "  inflating: Dataset/Train/212/bcc000237.bmp  \n",
            "  inflating: Dataset/Train/212/bcc000238.bmp  \n",
            "  inflating: Dataset/Train/212/bcc000239.bmp  \n",
            "   creating: Dataset/Train/213/\n",
            "  inflating: Dataset/Train/213/bcc000000.bmp  \n",
            "  inflating: Dataset/Train/213/bcc000001.bmp  \n",
            "  inflating: Dataset/Train/213/bcc000002.bmp  \n",
            "  inflating: Dataset/Train/213/bcc000003.bmp  \n",
            "  inflating: Dataset/Train/213/bcc000004.bmp  \n",
            "  inflating: Dataset/Train/213/bcc000005.bmp  \n",
            "  inflating: Dataset/Train/213/bcc000006.bmp  \n",
            "  inflating: Dataset/Train/213/bcc000007.bmp  \n",
            "  inflating: Dataset/Train/213/bcc000008.bmp  \n",
            "  inflating: Dataset/Train/213/bcc000009.bmp  \n",
            "  inflating: Dataset/Train/213/bcc000010.bmp  \n",
            "  inflating: Dataset/Train/213/bcc000011.bmp  \n",
            "  inflating: Dataset/Train/213/bcc000012.bmp  \n",
            "  inflating: Dataset/Train/213/bcc000013.bmp  \n",
            "  inflating: Dataset/Train/213/bcc000014.bmp  \n",
            "  inflating: Dataset/Train/213/bcc000015.bmp  \n",
            "  inflating: Dataset/Train/213/bcc000016.bmp  \n",
            "  inflating: Dataset/Train/213/bcc000017.bmp  \n",
            "  inflating: Dataset/Train/213/bcc000018.bmp  \n",
            "  inflating: Dataset/Train/213/bcc000019.bmp  \n",
            "  inflating: Dataset/Train/213/bcc000020.bmp  \n",
            "  inflating: Dataset/Train/213/bcc000021.bmp  \n",
            "  inflating: Dataset/Train/213/bcc000022.bmp  \n",
            "  inflating: Dataset/Train/213/bcc000023.bmp  \n",
            "  inflating: Dataset/Train/213/bcc000024.bmp  \n",
            "  inflating: Dataset/Train/213/bcc000025.bmp  \n",
            "  inflating: Dataset/Train/213/bcc000026.bmp  \n",
            "  inflating: Dataset/Train/213/bcc000027.bmp  \n",
            "  inflating: Dataset/Train/213/bcc000028.bmp  \n",
            "  inflating: Dataset/Train/213/bcc000029.bmp  \n",
            "  inflating: Dataset/Train/213/bcc000030.bmp  \n",
            "  inflating: Dataset/Train/213/bcc000031.bmp  \n",
            "  inflating: Dataset/Train/213/bcc000032.bmp  \n",
            "  inflating: Dataset/Train/213/bcc000033.bmp  \n",
            "  inflating: Dataset/Train/213/bcc000034.bmp  \n",
            "  inflating: Dataset/Train/213/bcc000035.bmp  \n",
            "  inflating: Dataset/Train/213/bcc000036.bmp  \n",
            "  inflating: Dataset/Train/213/bcc000037.bmp  \n",
            "  inflating: Dataset/Train/213/bcc000038.bmp  \n",
            "  inflating: Dataset/Train/213/bcc000039.bmp  \n",
            "  inflating: Dataset/Train/213/bcc000040.bmp  \n",
            "  inflating: Dataset/Train/213/bcc000041.bmp  \n",
            "  inflating: Dataset/Train/213/bcc000042.bmp  \n",
            "  inflating: Dataset/Train/213/bcc000043.bmp  \n",
            "  inflating: Dataset/Train/213/bcc000044.bmp  \n",
            "  inflating: Dataset/Train/213/bcc000045.bmp  \n",
            "  inflating: Dataset/Train/213/bcc000046.bmp  \n",
            "  inflating: Dataset/Train/213/bcc000047.bmp  \n",
            "  inflating: Dataset/Train/213/bcc000048.bmp  \n",
            "  inflating: Dataset/Train/213/bcc000049.bmp  \n",
            "  inflating: Dataset/Train/213/bcc000050.bmp  \n",
            "  inflating: Dataset/Train/213/bcc000051.bmp  \n",
            "  inflating: Dataset/Train/213/bcc000052.bmp  \n",
            "  inflating: Dataset/Train/213/bcc000053.bmp  \n",
            "  inflating: Dataset/Train/213/bcc000054.bmp  \n",
            "  inflating: Dataset/Train/213/bcc000055.bmp  \n",
            "  inflating: Dataset/Train/213/bcc000056.bmp  \n",
            "  inflating: Dataset/Train/213/bcc000057.bmp  \n",
            "  inflating: Dataset/Train/213/bcc000058.bmp  \n",
            "  inflating: Dataset/Train/213/bcc000059.bmp  \n",
            "  inflating: Dataset/Train/213/bcc000060.bmp  \n",
            "  inflating: Dataset/Train/213/bcc000061.bmp  \n",
            "  inflating: Dataset/Train/213/bcc000062.bmp  \n",
            "  inflating: Dataset/Train/213/bcc000063.bmp  \n",
            "  inflating: Dataset/Train/213/bcc000064.bmp  \n",
            "  inflating: Dataset/Train/213/bcc000065.bmp  \n",
            "  inflating: Dataset/Train/213/bcc000066.bmp  \n",
            "  inflating: Dataset/Train/213/bcc000067.bmp  \n",
            "  inflating: Dataset/Train/213/bcc000068.bmp  \n",
            "  inflating: Dataset/Train/213/bcc000069.bmp  \n",
            "  inflating: Dataset/Train/213/bcc000070.bmp  \n",
            "  inflating: Dataset/Train/213/bcc000071.bmp  \n",
            "  inflating: Dataset/Train/213/bcc000072.bmp  \n",
            "  inflating: Dataset/Train/213/bcc000073.bmp  \n",
            "  inflating: Dataset/Train/213/bcc000074.bmp  \n",
            "  inflating: Dataset/Train/213/bcc000075.bmp  \n",
            "  inflating: Dataset/Train/213/bcc000076.bmp  \n",
            "  inflating: Dataset/Train/213/bcc000077.bmp  \n",
            "  inflating: Dataset/Train/213/bcc000078.bmp  \n",
            "  inflating: Dataset/Train/213/bcc000079.bmp  \n",
            "  inflating: Dataset/Train/213/bcc000080.bmp  \n",
            "  inflating: Dataset/Train/213/bcc000081.bmp  \n",
            "  inflating: Dataset/Train/213/bcc000082.bmp  \n",
            "  inflating: Dataset/Train/213/bcc000083.bmp  \n",
            "  inflating: Dataset/Train/213/bcc000084.bmp  \n",
            "  inflating: Dataset/Train/213/bcc000085.bmp  \n",
            "  inflating: Dataset/Train/213/bcc000086.bmp  \n",
            "  inflating: Dataset/Train/213/bcc000087.bmp  \n",
            "  inflating: Dataset/Train/213/bcc000088.bmp  \n",
            "  inflating: Dataset/Train/213/bcc000089.bmp  \n",
            "  inflating: Dataset/Train/213/bcc000090.bmp  \n",
            "  inflating: Dataset/Train/213/bcc000091.bmp  \n",
            "  inflating: Dataset/Train/213/bcc000092.bmp  \n",
            "  inflating: Dataset/Train/213/bcc000093.bmp  \n",
            "  inflating: Dataset/Train/213/bcc000094.bmp  \n",
            "  inflating: Dataset/Train/213/bcc000095.bmp  \n",
            "  inflating: Dataset/Train/213/bcc000096.bmp  \n",
            "  inflating: Dataset/Train/213/bcc000097.bmp  \n",
            "  inflating: Dataset/Train/213/bcc000098.bmp  \n",
            "  inflating: Dataset/Train/213/bcc000099.bmp  \n",
            "  inflating: Dataset/Train/213/bcc000100.bmp  \n",
            "  inflating: Dataset/Train/213/bcc000101.bmp  \n",
            "  inflating: Dataset/Train/213/bcc000102.bmp  \n",
            "  inflating: Dataset/Train/213/bcc000103.bmp  \n",
            "  inflating: Dataset/Train/213/bcc000104.bmp  \n",
            "  inflating: Dataset/Train/213/bcc000105.bmp  \n",
            "  inflating: Dataset/Train/213/bcc000106.bmp  \n",
            "  inflating: Dataset/Train/213/bcc000107.bmp  \n",
            "  inflating: Dataset/Train/213/bcc000108.bmp  \n",
            "  inflating: Dataset/Train/213/bcc000109.bmp  \n",
            "  inflating: Dataset/Train/213/bcc000110.bmp  \n",
            "  inflating: Dataset/Train/213/bcc000111.bmp  \n",
            "  inflating: Dataset/Train/213/bcc000112.bmp  \n",
            "  inflating: Dataset/Train/213/bcc000113.bmp  \n",
            "  inflating: Dataset/Train/213/bcc000114.bmp  \n",
            "  inflating: Dataset/Train/213/bcc000115.bmp  \n",
            "  inflating: Dataset/Train/213/bcc000116.bmp  \n",
            "  inflating: Dataset/Train/213/bcc000117.bmp  \n",
            "  inflating: Dataset/Train/213/bcc000118.bmp  \n",
            "  inflating: Dataset/Train/213/bcc000119.bmp  \n",
            "  inflating: Dataset/Train/213/bcc000120.bmp  \n",
            "  inflating: Dataset/Train/213/bcc000121.bmp  \n",
            "  inflating: Dataset/Train/213/bcc000122.bmp  \n",
            "  inflating: Dataset/Train/213/bcc000123.bmp  \n",
            "  inflating: Dataset/Train/213/bcc000124.bmp  \n",
            "  inflating: Dataset/Train/213/bcc000125.bmp  \n",
            "  inflating: Dataset/Train/213/bcc000126.bmp  \n",
            "  inflating: Dataset/Train/213/bcc000127.bmp  \n",
            "  inflating: Dataset/Train/213/bcc000128.bmp  \n",
            "  inflating: Dataset/Train/213/bcc000129.bmp  \n",
            "  inflating: Dataset/Train/213/bcc000130.bmp  \n",
            "  inflating: Dataset/Train/213/bcc000131.bmp  \n",
            "  inflating: Dataset/Train/213/bcc000132.bmp  \n",
            "  inflating: Dataset/Train/213/bcc000133.bmp  \n",
            "  inflating: Dataset/Train/213/bcc000134.bmp  \n",
            "  inflating: Dataset/Train/213/bcc000135.bmp  \n",
            "  inflating: Dataset/Train/213/bcc000136.bmp  \n",
            "  inflating: Dataset/Train/213/bcc000137.bmp  \n",
            "  inflating: Dataset/Train/213/bcc000138.bmp  \n",
            "  inflating: Dataset/Train/213/bcc000139.bmp  \n",
            "  inflating: Dataset/Train/213/bcc000140.bmp  \n",
            "  inflating: Dataset/Train/213/bcc000141.bmp  \n",
            "  inflating: Dataset/Train/213/bcc000142.bmp  \n",
            "  inflating: Dataset/Train/213/bcc000143.bmp  \n",
            "  inflating: Dataset/Train/213/bcc000144.bmp  \n",
            "  inflating: Dataset/Train/213/bcc000145.bmp  \n",
            "  inflating: Dataset/Train/213/bcc000146.bmp  \n",
            "  inflating: Dataset/Train/213/bcc000147.bmp  \n",
            "  inflating: Dataset/Train/213/bcc000148.bmp  \n",
            "  inflating: Dataset/Train/213/bcc000149.bmp  \n",
            "  inflating: Dataset/Train/213/bcc000150.bmp  \n",
            "  inflating: Dataset/Train/213/bcc000151.bmp  \n",
            "  inflating: Dataset/Train/213/bcc000152.bmp  \n",
            "  inflating: Dataset/Train/213/bcc000153.bmp  \n",
            "  inflating: Dataset/Train/213/bcc000154.bmp  \n",
            "  inflating: Dataset/Train/213/bcc000155.bmp  \n",
            "  inflating: Dataset/Train/213/bcc000156.bmp  \n",
            "  inflating: Dataset/Train/213/bcc000157.bmp  \n",
            "  inflating: Dataset/Train/213/bcc000158.bmp  \n",
            "  inflating: Dataset/Train/213/bcc000159.bmp  \n",
            "  inflating: Dataset/Train/213/bcc000160.bmp  \n",
            "  inflating: Dataset/Train/213/bcc000161.bmp  \n",
            "  inflating: Dataset/Train/213/bcc000162.bmp  \n",
            "  inflating: Dataset/Train/213/bcc000163.bmp  \n",
            "  inflating: Dataset/Train/213/bcc000164.bmp  \n",
            "  inflating: Dataset/Train/213/bcc000165.bmp  \n",
            "  inflating: Dataset/Train/213/bcc000166.bmp  \n",
            "  inflating: Dataset/Train/213/bcc000167.bmp  \n",
            "  inflating: Dataset/Train/213/bcc000168.bmp  \n",
            "  inflating: Dataset/Train/213/bcc000169.bmp  \n",
            "  inflating: Dataset/Train/213/bcc000170.bmp  \n",
            "  inflating: Dataset/Train/213/bcc000171.bmp  \n",
            "  inflating: Dataset/Train/213/bcc000172.bmp  \n",
            "  inflating: Dataset/Train/213/bcc000173.bmp  \n",
            "  inflating: Dataset/Train/213/bcc000174.bmp  \n",
            "  inflating: Dataset/Train/213/bcc000175.bmp  \n",
            "  inflating: Dataset/Train/213/bcc000176.bmp  \n",
            "  inflating: Dataset/Train/213/bcc000177.bmp  \n",
            "  inflating: Dataset/Train/213/bcc000178.bmp  \n",
            "  inflating: Dataset/Train/213/bcc000179.bmp  \n",
            "  inflating: Dataset/Train/213/bcc000180.bmp  \n",
            "  inflating: Dataset/Train/213/bcc000181.bmp  \n",
            "  inflating: Dataset/Train/213/bcc000182.bmp  \n",
            "  inflating: Dataset/Train/213/bcc000183.bmp  \n",
            "  inflating: Dataset/Train/213/bcc000184.bmp  \n",
            "  inflating: Dataset/Train/213/bcc000185.bmp  \n",
            "  inflating: Dataset/Train/213/bcc000186.bmp  \n",
            "  inflating: Dataset/Train/213/bcc000187.bmp  \n",
            "  inflating: Dataset/Train/213/bcc000188.bmp  \n",
            "  inflating: Dataset/Train/213/bcc000189.bmp  \n",
            "  inflating: Dataset/Train/213/bcc000190.bmp  \n",
            "  inflating: Dataset/Train/213/bcc000191.bmp  \n",
            "  inflating: Dataset/Train/213/bcc000192.bmp  \n",
            "  inflating: Dataset/Train/213/bcc000193.bmp  \n",
            "  inflating: Dataset/Train/213/bcc000194.bmp  \n",
            "  inflating: Dataset/Train/213/bcc000195.bmp  \n",
            "  inflating: Dataset/Train/213/bcc000196.bmp  \n",
            "  inflating: Dataset/Train/213/bcc000197.bmp  \n",
            "  inflating: Dataset/Train/213/bcc000198.bmp  \n",
            "  inflating: Dataset/Train/213/bcc000199.bmp  \n",
            "  inflating: Dataset/Train/213/bcc000200.bmp  \n",
            "  inflating: Dataset/Train/213/bcc000201.bmp  \n",
            "  inflating: Dataset/Train/213/bcc000202.bmp  \n",
            "  inflating: Dataset/Train/213/bcc000203.bmp  \n",
            "  inflating: Dataset/Train/213/bcc000204.bmp  \n",
            "  inflating: Dataset/Train/213/bcc000205.bmp  \n",
            "  inflating: Dataset/Train/213/bcc000206.bmp  \n",
            "  inflating: Dataset/Train/213/bcc000207.bmp  \n",
            "  inflating: Dataset/Train/213/bcc000208.bmp  \n",
            "  inflating: Dataset/Train/213/bcc000209.bmp  \n",
            "  inflating: Dataset/Train/213/bcc000210.bmp  \n",
            "  inflating: Dataset/Train/213/bcc000211.bmp  \n",
            "  inflating: Dataset/Train/213/bcc000212.bmp  \n",
            "  inflating: Dataset/Train/213/bcc000213.bmp  \n",
            "  inflating: Dataset/Train/213/bcc000214.bmp  \n",
            "  inflating: Dataset/Train/213/bcc000215.bmp  \n",
            "  inflating: Dataset/Train/213/bcc000216.bmp  \n",
            "  inflating: Dataset/Train/213/bcc000217.bmp  \n",
            "  inflating: Dataset/Train/213/bcc000218.bmp  \n",
            "  inflating: Dataset/Train/213/bcc000219.bmp  \n",
            "  inflating: Dataset/Train/213/bcc000220.bmp  \n",
            "  inflating: Dataset/Train/213/bcc000221.bmp  \n",
            "  inflating: Dataset/Train/213/bcc000222.bmp  \n",
            "  inflating: Dataset/Train/213/bcc000223.bmp  \n",
            "  inflating: Dataset/Train/213/bcc000224.bmp  \n",
            "  inflating: Dataset/Train/213/bcc000225.bmp  \n",
            "  inflating: Dataset/Train/213/bcc000226.bmp  \n",
            "  inflating: Dataset/Train/213/bcc000227.bmp  \n",
            "  inflating: Dataset/Train/213/bcc000228.bmp  \n",
            "  inflating: Dataset/Train/213/bcc000229.bmp  \n",
            "  inflating: Dataset/Train/213/bcc000230.bmp  \n",
            "  inflating: Dataset/Train/213/bcc000231.bmp  \n",
            "  inflating: Dataset/Train/213/bcc000232.bmp  \n",
            "  inflating: Dataset/Train/213/bcc000233.bmp  \n",
            "  inflating: Dataset/Train/213/bcc000234.bmp  \n",
            "  inflating: Dataset/Train/213/bcc000235.bmp  \n",
            "  inflating: Dataset/Train/213/bcc000236.bmp  \n",
            "  inflating: Dataset/Train/213/bcc000237.bmp  \n",
            "  inflating: Dataset/Train/213/bcc000238.bmp  \n",
            "  inflating: Dataset/Train/213/bcc000239.bmp  \n",
            "   creating: Dataset/Train/214/\n",
            "  inflating: Dataset/Train/214/bcc000000.bmp  \n",
            "  inflating: Dataset/Train/214/bcc000001.bmp  \n",
            "  inflating: Dataset/Train/214/bcc000002.bmp  \n",
            "  inflating: Dataset/Train/214/bcc000003.bmp  \n",
            "  inflating: Dataset/Train/214/bcc000004.bmp  \n",
            "  inflating: Dataset/Train/214/bcc000005.bmp  \n",
            "  inflating: Dataset/Train/214/bcc000006.bmp  \n",
            "  inflating: Dataset/Train/214/bcc000007.bmp  \n",
            "  inflating: Dataset/Train/214/bcc000008.bmp  \n",
            "  inflating: Dataset/Train/214/bcc000009.bmp  \n",
            "  inflating: Dataset/Train/214/bcc000010.bmp  \n",
            "  inflating: Dataset/Train/214/bcc000011.bmp  \n",
            "  inflating: Dataset/Train/214/bcc000012.bmp  \n",
            "  inflating: Dataset/Train/214/bcc000013.bmp  \n",
            "  inflating: Dataset/Train/214/bcc000014.bmp  \n",
            "  inflating: Dataset/Train/214/bcc000015.bmp  \n",
            "  inflating: Dataset/Train/214/bcc000016.bmp  \n",
            "  inflating: Dataset/Train/214/bcc000017.bmp  \n",
            "  inflating: Dataset/Train/214/bcc000018.bmp  \n",
            "  inflating: Dataset/Train/214/bcc000019.bmp  \n",
            "  inflating: Dataset/Train/214/bcc000020.bmp  \n",
            "  inflating: Dataset/Train/214/bcc000021.bmp  \n",
            "  inflating: Dataset/Train/214/bcc000022.bmp  \n",
            "  inflating: Dataset/Train/214/bcc000023.bmp  \n",
            "  inflating: Dataset/Train/214/bcc000024.bmp  \n",
            "  inflating: Dataset/Train/214/bcc000025.bmp  \n",
            "  inflating: Dataset/Train/214/bcc000026.bmp  \n",
            "  inflating: Dataset/Train/214/bcc000027.bmp  \n",
            "  inflating: Dataset/Train/214/bcc000028.bmp  \n",
            "  inflating: Dataset/Train/214/bcc000029.bmp  \n",
            "  inflating: Dataset/Train/214/bcc000030.bmp  \n",
            "  inflating: Dataset/Train/214/bcc000031.bmp  \n",
            "  inflating: Dataset/Train/214/bcc000032.bmp  \n",
            "  inflating: Dataset/Train/214/bcc000033.bmp  \n",
            "  inflating: Dataset/Train/214/bcc000034.bmp  \n",
            "  inflating: Dataset/Train/214/bcc000035.bmp  \n",
            "  inflating: Dataset/Train/214/bcc000036.bmp  \n",
            "  inflating: Dataset/Train/214/bcc000037.bmp  \n",
            "  inflating: Dataset/Train/214/bcc000038.bmp  \n",
            "  inflating: Dataset/Train/214/bcc000039.bmp  \n",
            "  inflating: Dataset/Train/214/bcc000040.bmp  \n",
            "  inflating: Dataset/Train/214/bcc000041.bmp  \n",
            "  inflating: Dataset/Train/214/bcc000042.bmp  \n",
            "  inflating: Dataset/Train/214/bcc000043.bmp  \n",
            "  inflating: Dataset/Train/214/bcc000044.bmp  \n",
            "  inflating: Dataset/Train/214/bcc000045.bmp  \n",
            "  inflating: Dataset/Train/214/bcc000046.bmp  \n",
            "  inflating: Dataset/Train/214/bcc000047.bmp  \n",
            "  inflating: Dataset/Train/214/bcc000048.bmp  \n",
            "  inflating: Dataset/Train/214/bcc000049.bmp  \n",
            "  inflating: Dataset/Train/214/bcc000050.bmp  \n",
            "  inflating: Dataset/Train/214/bcc000051.bmp  \n",
            "  inflating: Dataset/Train/214/bcc000052.bmp  \n",
            "  inflating: Dataset/Train/214/bcc000053.bmp  \n",
            "  inflating: Dataset/Train/214/bcc000054.bmp  \n",
            "  inflating: Dataset/Train/214/bcc000055.bmp  \n",
            "  inflating: Dataset/Train/214/bcc000056.bmp  \n",
            "  inflating: Dataset/Train/214/bcc000057.bmp  \n",
            "  inflating: Dataset/Train/214/bcc000058.bmp  \n",
            "  inflating: Dataset/Train/214/bcc000059.bmp  \n",
            "  inflating: Dataset/Train/214/bcc000060.bmp  \n",
            "  inflating: Dataset/Train/214/bcc000061.bmp  \n",
            "  inflating: Dataset/Train/214/bcc000062.bmp  \n",
            "  inflating: Dataset/Train/214/bcc000063.bmp  \n",
            "  inflating: Dataset/Train/214/bcc000064.bmp  \n",
            "  inflating: Dataset/Train/214/bcc000065.bmp  \n",
            "  inflating: Dataset/Train/214/bcc000066.bmp  \n",
            "  inflating: Dataset/Train/214/bcc000067.bmp  \n",
            "  inflating: Dataset/Train/214/bcc000068.bmp  \n",
            "  inflating: Dataset/Train/214/bcc000069.bmp  \n",
            "  inflating: Dataset/Train/214/bcc000070.bmp  \n",
            "  inflating: Dataset/Train/214/bcc000071.bmp  \n",
            "  inflating: Dataset/Train/214/bcc000072.bmp  \n",
            "  inflating: Dataset/Train/214/bcc000073.bmp  \n",
            "  inflating: Dataset/Train/214/bcc000074.bmp  \n",
            "  inflating: Dataset/Train/214/bcc000075.bmp  \n",
            "  inflating: Dataset/Train/214/bcc000076.bmp  \n",
            "  inflating: Dataset/Train/214/bcc000077.bmp  \n",
            "  inflating: Dataset/Train/214/bcc000078.bmp  \n",
            "  inflating: Dataset/Train/214/bcc000079.bmp  \n",
            "  inflating: Dataset/Train/214/bcc000080.bmp  \n",
            "  inflating: Dataset/Train/214/bcc000081.bmp  \n",
            "  inflating: Dataset/Train/214/bcc000082.bmp  \n",
            "  inflating: Dataset/Train/214/bcc000083.bmp  \n",
            "  inflating: Dataset/Train/214/bcc000084.bmp  \n",
            "  inflating: Dataset/Train/214/bcc000085.bmp  \n",
            "  inflating: Dataset/Train/214/bcc000086.bmp  \n",
            "  inflating: Dataset/Train/214/bcc000087.bmp  \n",
            "  inflating: Dataset/Train/214/bcc000088.bmp  \n",
            "  inflating: Dataset/Train/214/bcc000089.bmp  \n",
            "  inflating: Dataset/Train/214/bcc000090.bmp  \n",
            "  inflating: Dataset/Train/214/bcc000091.bmp  \n",
            "  inflating: Dataset/Train/214/bcc000092.bmp  \n",
            "  inflating: Dataset/Train/214/bcc000093.bmp  \n",
            "  inflating: Dataset/Train/214/bcc000094.bmp  \n",
            "  inflating: Dataset/Train/214/bcc000095.bmp  \n",
            "  inflating: Dataset/Train/214/bcc000096.bmp  \n",
            "  inflating: Dataset/Train/214/bcc000097.bmp  \n",
            "  inflating: Dataset/Train/214/bcc000098.bmp  \n",
            "  inflating: Dataset/Train/214/bcc000099.bmp  \n",
            "  inflating: Dataset/Train/214/bcc000100.bmp  \n",
            "  inflating: Dataset/Train/214/bcc000101.bmp  \n",
            "  inflating: Dataset/Train/214/bcc000102.bmp  \n",
            "  inflating: Dataset/Train/214/bcc000103.bmp  \n",
            "  inflating: Dataset/Train/214/bcc000104.bmp  \n",
            "  inflating: Dataset/Train/214/bcc000105.bmp  \n",
            "  inflating: Dataset/Train/214/bcc000106.bmp  \n",
            "  inflating: Dataset/Train/214/bcc000107.bmp  \n",
            "  inflating: Dataset/Train/214/bcc000108.bmp  \n",
            "  inflating: Dataset/Train/214/bcc000109.bmp  \n",
            "  inflating: Dataset/Train/214/bcc000110.bmp  \n",
            "  inflating: Dataset/Train/214/bcc000111.bmp  \n",
            "  inflating: Dataset/Train/214/bcc000112.bmp  \n",
            "  inflating: Dataset/Train/214/bcc000113.bmp  \n",
            "  inflating: Dataset/Train/214/bcc000114.bmp  \n",
            "  inflating: Dataset/Train/214/bcc000115.bmp  \n",
            "  inflating: Dataset/Train/214/bcc000116.bmp  \n",
            "  inflating: Dataset/Train/214/bcc000117.bmp  \n",
            "  inflating: Dataset/Train/214/bcc000118.bmp  \n",
            "  inflating: Dataset/Train/214/bcc000119.bmp  \n",
            "  inflating: Dataset/Train/214/bcc000120.bmp  \n",
            "  inflating: Dataset/Train/214/bcc000121.bmp  \n",
            "  inflating: Dataset/Train/214/bcc000122.bmp  \n",
            "  inflating: Dataset/Train/214/bcc000123.bmp  \n",
            "  inflating: Dataset/Train/214/bcc000124.bmp  \n",
            "  inflating: Dataset/Train/214/bcc000125.bmp  \n",
            "  inflating: Dataset/Train/214/bcc000126.bmp  \n",
            "  inflating: Dataset/Train/214/bcc000127.bmp  \n",
            "  inflating: Dataset/Train/214/bcc000128.bmp  \n",
            "  inflating: Dataset/Train/214/bcc000129.bmp  \n",
            "  inflating: Dataset/Train/214/bcc000130.bmp  \n",
            "  inflating: Dataset/Train/214/bcc000131.bmp  \n",
            "  inflating: Dataset/Train/214/bcc000132.bmp  \n",
            "  inflating: Dataset/Train/214/bcc000133.bmp  \n",
            "  inflating: Dataset/Train/214/bcc000134.bmp  \n",
            "  inflating: Dataset/Train/214/bcc000135.bmp  \n",
            "  inflating: Dataset/Train/214/bcc000136.bmp  \n",
            "  inflating: Dataset/Train/214/bcc000137.bmp  \n",
            "  inflating: Dataset/Train/214/bcc000138.bmp  \n",
            "  inflating: Dataset/Train/214/bcc000139.bmp  \n",
            "  inflating: Dataset/Train/214/bcc000140.bmp  \n",
            "  inflating: Dataset/Train/214/bcc000141.bmp  \n",
            "  inflating: Dataset/Train/214/bcc000142.bmp  \n",
            "  inflating: Dataset/Train/214/bcc000143.bmp  \n",
            "  inflating: Dataset/Train/214/bcc000144.bmp  \n",
            "  inflating: Dataset/Train/214/bcc000145.bmp  \n",
            "  inflating: Dataset/Train/214/bcc000146.bmp  \n",
            "  inflating: Dataset/Train/214/bcc000147.bmp  \n",
            "  inflating: Dataset/Train/214/bcc000148.bmp  \n",
            "  inflating: Dataset/Train/214/bcc000149.bmp  \n",
            "  inflating: Dataset/Train/214/bcc000150.bmp  \n",
            "  inflating: Dataset/Train/214/bcc000151.bmp  \n",
            "  inflating: Dataset/Train/214/bcc000152.bmp  \n",
            "  inflating: Dataset/Train/214/bcc000153.bmp  \n",
            "  inflating: Dataset/Train/214/bcc000154.bmp  \n",
            "  inflating: Dataset/Train/214/bcc000155.bmp  \n",
            "  inflating: Dataset/Train/214/bcc000156.bmp  \n",
            "  inflating: Dataset/Train/214/bcc000157.bmp  \n",
            "  inflating: Dataset/Train/214/bcc000158.bmp  \n",
            "  inflating: Dataset/Train/214/bcc000159.bmp  \n",
            "  inflating: Dataset/Train/214/bcc000160.bmp  \n",
            "  inflating: Dataset/Train/214/bcc000161.bmp  \n",
            "  inflating: Dataset/Train/214/bcc000162.bmp  \n",
            "  inflating: Dataset/Train/214/bcc000163.bmp  \n",
            "  inflating: Dataset/Train/214/bcc000164.bmp  \n",
            "  inflating: Dataset/Train/214/bcc000165.bmp  \n",
            "  inflating: Dataset/Train/214/bcc000166.bmp  \n",
            "  inflating: Dataset/Train/214/bcc000167.bmp  \n",
            "  inflating: Dataset/Train/214/bcc000168.bmp  \n",
            "  inflating: Dataset/Train/214/bcc000169.bmp  \n",
            "  inflating: Dataset/Train/214/bcc000170.bmp  \n",
            "  inflating: Dataset/Train/214/bcc000171.bmp  \n",
            "  inflating: Dataset/Train/214/bcc000172.bmp  \n",
            "  inflating: Dataset/Train/214/bcc000173.bmp  \n",
            "  inflating: Dataset/Train/214/bcc000174.bmp  \n",
            "  inflating: Dataset/Train/214/bcc000175.bmp  \n",
            "  inflating: Dataset/Train/214/bcc000176.bmp  \n",
            "  inflating: Dataset/Train/214/bcc000177.bmp  \n",
            "  inflating: Dataset/Train/214/bcc000178.bmp  \n",
            "  inflating: Dataset/Train/214/bcc000179.bmp  \n",
            "  inflating: Dataset/Train/214/bcc000180.bmp  \n",
            "  inflating: Dataset/Train/214/bcc000181.bmp  \n",
            "  inflating: Dataset/Train/214/bcc000182.bmp  \n",
            "  inflating: Dataset/Train/214/bcc000183.bmp  \n",
            "  inflating: Dataset/Train/214/bcc000184.bmp  \n",
            "  inflating: Dataset/Train/214/bcc000185.bmp  \n",
            "  inflating: Dataset/Train/214/bcc000186.bmp  \n",
            "  inflating: Dataset/Train/214/bcc000187.bmp  \n",
            "  inflating: Dataset/Train/214/bcc000188.bmp  \n",
            "  inflating: Dataset/Train/214/bcc000189.bmp  \n",
            "  inflating: Dataset/Train/214/bcc000190.bmp  \n",
            "  inflating: Dataset/Train/214/bcc000191.bmp  \n",
            "  inflating: Dataset/Train/214/bcc000192.bmp  \n",
            "  inflating: Dataset/Train/214/bcc000193.bmp  \n",
            "  inflating: Dataset/Train/214/bcc000194.bmp  \n",
            "  inflating: Dataset/Train/214/bcc000195.bmp  \n",
            "  inflating: Dataset/Train/214/bcc000196.bmp  \n",
            "  inflating: Dataset/Train/214/bcc000197.bmp  \n",
            "  inflating: Dataset/Train/214/bcc000198.bmp  \n",
            "  inflating: Dataset/Train/214/bcc000199.bmp  \n",
            "  inflating: Dataset/Train/214/bcc000200.bmp  \n",
            "  inflating: Dataset/Train/214/bcc000201.bmp  \n",
            "  inflating: Dataset/Train/214/bcc000202.bmp  \n",
            "  inflating: Dataset/Train/214/bcc000203.bmp  \n",
            "  inflating: Dataset/Train/214/bcc000204.bmp  \n",
            "  inflating: Dataset/Train/214/bcc000205.bmp  \n",
            "  inflating: Dataset/Train/214/bcc000206.bmp  \n",
            "  inflating: Dataset/Train/214/bcc000207.bmp  \n",
            "  inflating: Dataset/Train/214/bcc000208.bmp  \n",
            "  inflating: Dataset/Train/214/bcc000209.bmp  \n",
            "  inflating: Dataset/Train/214/bcc000210.bmp  \n",
            "  inflating: Dataset/Train/214/bcc000211.bmp  \n",
            "  inflating: Dataset/Train/214/bcc000212.bmp  \n",
            "  inflating: Dataset/Train/214/bcc000213.bmp  \n",
            "  inflating: Dataset/Train/214/bcc000214.bmp  \n",
            "  inflating: Dataset/Train/214/bcc000215.bmp  \n",
            "  inflating: Dataset/Train/214/bcc000216.bmp  \n",
            "  inflating: Dataset/Train/214/bcc000217.bmp  \n",
            "  inflating: Dataset/Train/214/bcc000218.bmp  \n",
            "  inflating: Dataset/Train/214/bcc000219.bmp  \n",
            "  inflating: Dataset/Train/214/bcc000220.bmp  \n",
            "  inflating: Dataset/Train/214/bcc000221.bmp  \n",
            "  inflating: Dataset/Train/214/bcc000222.bmp  \n",
            "  inflating: Dataset/Train/214/bcc000223.bmp  \n",
            "  inflating: Dataset/Train/214/bcc000224.bmp  \n",
            "  inflating: Dataset/Train/214/bcc000225.bmp  \n",
            "  inflating: Dataset/Train/214/bcc000226.bmp  \n",
            "  inflating: Dataset/Train/214/bcc000227.bmp  \n",
            "  inflating: Dataset/Train/214/bcc000228.bmp  \n",
            "  inflating: Dataset/Train/214/bcc000229.bmp  \n",
            "  inflating: Dataset/Train/214/bcc000230.bmp  \n",
            "  inflating: Dataset/Train/214/bcc000231.bmp  \n",
            "  inflating: Dataset/Train/214/bcc000232.bmp  \n",
            "  inflating: Dataset/Train/214/bcc000233.bmp  \n",
            "  inflating: Dataset/Train/214/bcc000234.bmp  \n",
            "  inflating: Dataset/Train/214/bcc000235.bmp  \n",
            "  inflating: Dataset/Train/214/bcc000236.bmp  \n",
            "  inflating: Dataset/Train/214/bcc000237.bmp  \n",
            "  inflating: Dataset/Train/214/bcc000238.bmp  \n",
            "  inflating: Dataset/Train/214/bcc000239.bmp  \n",
            "   creating: Dataset/Train/215/\n",
            "  inflating: Dataset/Train/215/bcc000000.bmp  \n",
            "  inflating: Dataset/Train/215/bcc000001.bmp  \n",
            "  inflating: Dataset/Train/215/bcc000002.bmp  \n",
            "  inflating: Dataset/Train/215/bcc000003.bmp  \n",
            "  inflating: Dataset/Train/215/bcc000004.bmp  \n",
            "  inflating: Dataset/Train/215/bcc000005.bmp  \n",
            "  inflating: Dataset/Train/215/bcc000006.bmp  \n",
            "  inflating: Dataset/Train/215/bcc000007.bmp  \n",
            "  inflating: Dataset/Train/215/bcc000008.bmp  \n",
            "  inflating: Dataset/Train/215/bcc000009.bmp  \n",
            "  inflating: Dataset/Train/215/bcc000010.bmp  \n",
            "  inflating: Dataset/Train/215/bcc000011.bmp  \n",
            "  inflating: Dataset/Train/215/bcc000012.bmp  \n",
            "  inflating: Dataset/Train/215/bcc000013.bmp  \n",
            "  inflating: Dataset/Train/215/bcc000014.bmp  \n",
            "  inflating: Dataset/Train/215/bcc000015.bmp  \n",
            "  inflating: Dataset/Train/215/bcc000016.bmp  \n",
            "  inflating: Dataset/Train/215/bcc000017.bmp  \n",
            "  inflating: Dataset/Train/215/bcc000018.bmp  \n",
            "  inflating: Dataset/Train/215/bcc000019.bmp  \n",
            "  inflating: Dataset/Train/215/bcc000020.bmp  \n",
            "  inflating: Dataset/Train/215/bcc000021.bmp  \n",
            "  inflating: Dataset/Train/215/bcc000022.bmp  \n",
            "  inflating: Dataset/Train/215/bcc000023.bmp  \n",
            "  inflating: Dataset/Train/215/bcc000024.bmp  \n",
            "  inflating: Dataset/Train/215/bcc000025.bmp  \n",
            "  inflating: Dataset/Train/215/bcc000026.bmp  \n",
            "  inflating: Dataset/Train/215/bcc000027.bmp  \n",
            "  inflating: Dataset/Train/215/bcc000028.bmp  \n",
            "  inflating: Dataset/Train/215/bcc000029.bmp  \n",
            "  inflating: Dataset/Train/215/bcc000030.bmp  \n",
            "  inflating: Dataset/Train/215/bcc000031.bmp  \n",
            "  inflating: Dataset/Train/215/bcc000032.bmp  \n",
            "  inflating: Dataset/Train/215/bcc000033.bmp  \n",
            "  inflating: Dataset/Train/215/bcc000034.bmp  \n",
            "  inflating: Dataset/Train/215/bcc000035.bmp  \n",
            "  inflating: Dataset/Train/215/bcc000036.bmp  \n",
            "  inflating: Dataset/Train/215/bcc000037.bmp  \n",
            "  inflating: Dataset/Train/215/bcc000038.bmp  \n",
            "  inflating: Dataset/Train/215/bcc000039.bmp  \n",
            "  inflating: Dataset/Train/215/bcc000040.bmp  \n",
            "  inflating: Dataset/Train/215/bcc000041.bmp  \n",
            "  inflating: Dataset/Train/215/bcc000042.bmp  \n",
            "  inflating: Dataset/Train/215/bcc000043.bmp  \n",
            "  inflating: Dataset/Train/215/bcc000044.bmp  \n",
            "  inflating: Dataset/Train/215/bcc000045.bmp  \n",
            "  inflating: Dataset/Train/215/bcc000046.bmp  \n",
            "  inflating: Dataset/Train/215/bcc000047.bmp  \n",
            "  inflating: Dataset/Train/215/bcc000048.bmp  \n",
            "  inflating: Dataset/Train/215/bcc000049.bmp  \n",
            "  inflating: Dataset/Train/215/bcc000050.bmp  \n",
            "  inflating: Dataset/Train/215/bcc000051.bmp  \n",
            "  inflating: Dataset/Train/215/bcc000052.bmp  \n",
            "  inflating: Dataset/Train/215/bcc000053.bmp  \n",
            "  inflating: Dataset/Train/215/bcc000054.bmp  \n",
            "  inflating: Dataset/Train/215/bcc000055.bmp  \n",
            "  inflating: Dataset/Train/215/bcc000056.bmp  \n",
            "  inflating: Dataset/Train/215/bcc000057.bmp  \n",
            "  inflating: Dataset/Train/215/bcc000058.bmp  \n",
            "  inflating: Dataset/Train/215/bcc000059.bmp  \n",
            "  inflating: Dataset/Train/215/bcc000060.bmp  \n",
            "  inflating: Dataset/Train/215/bcc000061.bmp  \n",
            "  inflating: Dataset/Train/215/bcc000062.bmp  \n",
            "  inflating: Dataset/Train/215/bcc000063.bmp  \n",
            "  inflating: Dataset/Train/215/bcc000064.bmp  \n",
            "  inflating: Dataset/Train/215/bcc000065.bmp  \n",
            "  inflating: Dataset/Train/215/bcc000066.bmp  \n",
            "  inflating: Dataset/Train/215/bcc000067.bmp  \n",
            "  inflating: Dataset/Train/215/bcc000068.bmp  \n",
            "  inflating: Dataset/Train/215/bcc000069.bmp  \n",
            "  inflating: Dataset/Train/215/bcc000070.bmp  \n",
            "  inflating: Dataset/Train/215/bcc000071.bmp  \n",
            "  inflating: Dataset/Train/215/bcc000072.bmp  \n",
            "  inflating: Dataset/Train/215/bcc000073.bmp  \n",
            "  inflating: Dataset/Train/215/bcc000074.bmp  \n",
            "  inflating: Dataset/Train/215/bcc000075.bmp  \n",
            "  inflating: Dataset/Train/215/bcc000076.bmp  \n",
            "  inflating: Dataset/Train/215/bcc000077.bmp  \n",
            "  inflating: Dataset/Train/215/bcc000078.bmp  \n",
            "  inflating: Dataset/Train/215/bcc000079.bmp  \n",
            "  inflating: Dataset/Train/215/bcc000080.bmp  \n",
            "  inflating: Dataset/Train/215/bcc000081.bmp  \n",
            "  inflating: Dataset/Train/215/bcc000082.bmp  \n",
            "  inflating: Dataset/Train/215/bcc000083.bmp  \n",
            "  inflating: Dataset/Train/215/bcc000084.bmp  \n",
            "  inflating: Dataset/Train/215/bcc000085.bmp  \n",
            "  inflating: Dataset/Train/215/bcc000086.bmp  \n",
            "  inflating: Dataset/Train/215/bcc000087.bmp  \n",
            "  inflating: Dataset/Train/215/bcc000088.bmp  \n",
            "  inflating: Dataset/Train/215/bcc000089.bmp  \n",
            "  inflating: Dataset/Train/215/bcc000090.bmp  \n",
            "  inflating: Dataset/Train/215/bcc000091.bmp  \n",
            "  inflating: Dataset/Train/215/bcc000092.bmp  \n",
            "  inflating: Dataset/Train/215/bcc000093.bmp  \n",
            "  inflating: Dataset/Train/215/bcc000094.bmp  \n",
            "  inflating: Dataset/Train/215/bcc000095.bmp  \n",
            "  inflating: Dataset/Train/215/bcc000096.bmp  \n",
            "  inflating: Dataset/Train/215/bcc000097.bmp  \n",
            "  inflating: Dataset/Train/215/bcc000098.bmp  \n",
            "  inflating: Dataset/Train/215/bcc000099.bmp  \n",
            "  inflating: Dataset/Train/215/bcc000100.bmp  \n",
            "  inflating: Dataset/Train/215/bcc000101.bmp  \n",
            "  inflating: Dataset/Train/215/bcc000102.bmp  \n",
            "  inflating: Dataset/Train/215/bcc000103.bmp  \n",
            "  inflating: Dataset/Train/215/bcc000104.bmp  \n",
            "  inflating: Dataset/Train/215/bcc000105.bmp  \n",
            "  inflating: Dataset/Train/215/bcc000106.bmp  \n",
            "  inflating: Dataset/Train/215/bcc000107.bmp  \n",
            "  inflating: Dataset/Train/215/bcc000108.bmp  \n",
            "  inflating: Dataset/Train/215/bcc000109.bmp  \n",
            "  inflating: Dataset/Train/215/bcc000110.bmp  \n",
            "  inflating: Dataset/Train/215/bcc000111.bmp  \n",
            "  inflating: Dataset/Train/215/bcc000112.bmp  \n",
            "  inflating: Dataset/Train/215/bcc000113.bmp  \n",
            "  inflating: Dataset/Train/215/bcc000114.bmp  \n",
            "  inflating: Dataset/Train/215/bcc000115.bmp  \n",
            "  inflating: Dataset/Train/215/bcc000116.bmp  \n",
            "  inflating: Dataset/Train/215/bcc000117.bmp  \n",
            "  inflating: Dataset/Train/215/bcc000118.bmp  \n",
            "  inflating: Dataset/Train/215/bcc000119.bmp  \n",
            "  inflating: Dataset/Train/215/bcc000120.bmp  \n",
            "  inflating: Dataset/Train/215/bcc000121.bmp  \n",
            "  inflating: Dataset/Train/215/bcc000122.bmp  \n",
            "  inflating: Dataset/Train/215/bcc000123.bmp  \n",
            "  inflating: Dataset/Train/215/bcc000124.bmp  \n",
            "  inflating: Dataset/Train/215/bcc000125.bmp  \n",
            "  inflating: Dataset/Train/215/bcc000126.bmp  \n",
            "  inflating: Dataset/Train/215/bcc000127.bmp  \n",
            "  inflating: Dataset/Train/215/bcc000128.bmp  \n",
            "  inflating: Dataset/Train/215/bcc000129.bmp  \n",
            "  inflating: Dataset/Train/215/bcc000130.bmp  \n",
            "  inflating: Dataset/Train/215/bcc000131.bmp  \n",
            "  inflating: Dataset/Train/215/bcc000132.bmp  \n",
            "  inflating: Dataset/Train/215/bcc000133.bmp  \n",
            "  inflating: Dataset/Train/215/bcc000134.bmp  \n",
            "  inflating: Dataset/Train/215/bcc000135.bmp  \n",
            "  inflating: Dataset/Train/215/bcc000136.bmp  \n",
            "  inflating: Dataset/Train/215/bcc000137.bmp  \n",
            "  inflating: Dataset/Train/215/bcc000138.bmp  \n",
            "  inflating: Dataset/Train/215/bcc000139.bmp  \n",
            "  inflating: Dataset/Train/215/bcc000140.bmp  \n",
            "  inflating: Dataset/Train/215/bcc000141.bmp  \n",
            "  inflating: Dataset/Train/215/bcc000142.bmp  \n",
            "  inflating: Dataset/Train/215/bcc000143.bmp  \n",
            "  inflating: Dataset/Train/215/bcc000144.bmp  \n",
            "  inflating: Dataset/Train/215/bcc000145.bmp  \n",
            "  inflating: Dataset/Train/215/bcc000146.bmp  \n",
            "  inflating: Dataset/Train/215/bcc000147.bmp  \n",
            "  inflating: Dataset/Train/215/bcc000148.bmp  \n",
            "  inflating: Dataset/Train/215/bcc000149.bmp  \n",
            "  inflating: Dataset/Train/215/bcc000150.bmp  \n",
            "  inflating: Dataset/Train/215/bcc000151.bmp  \n",
            "  inflating: Dataset/Train/215/bcc000152.bmp  \n",
            "  inflating: Dataset/Train/215/bcc000153.bmp  \n",
            "  inflating: Dataset/Train/215/bcc000154.bmp  \n",
            "  inflating: Dataset/Train/215/bcc000155.bmp  \n",
            "  inflating: Dataset/Train/215/bcc000156.bmp  \n",
            "  inflating: Dataset/Train/215/bcc000157.bmp  \n",
            "  inflating: Dataset/Train/215/bcc000158.bmp  \n",
            "  inflating: Dataset/Train/215/bcc000159.bmp  \n",
            "  inflating: Dataset/Train/215/bcc000160.bmp  \n",
            "  inflating: Dataset/Train/215/bcc000161.bmp  \n",
            "  inflating: Dataset/Train/215/bcc000162.bmp  \n",
            "  inflating: Dataset/Train/215/bcc000163.bmp  \n",
            "  inflating: Dataset/Train/215/bcc000164.bmp  \n",
            "  inflating: Dataset/Train/215/bcc000165.bmp  \n",
            "  inflating: Dataset/Train/215/bcc000166.bmp  \n",
            "  inflating: Dataset/Train/215/bcc000167.bmp  \n",
            "  inflating: Dataset/Train/215/bcc000168.bmp  \n",
            "  inflating: Dataset/Train/215/bcc000169.bmp  \n",
            "  inflating: Dataset/Train/215/bcc000170.bmp  \n",
            "  inflating: Dataset/Train/215/bcc000171.bmp  \n",
            "  inflating: Dataset/Train/215/bcc000172.bmp  \n",
            "  inflating: Dataset/Train/215/bcc000173.bmp  \n",
            "  inflating: Dataset/Train/215/bcc000174.bmp  \n",
            "  inflating: Dataset/Train/215/bcc000175.bmp  \n",
            "  inflating: Dataset/Train/215/bcc000176.bmp  \n",
            "  inflating: Dataset/Train/215/bcc000177.bmp  \n",
            "  inflating: Dataset/Train/215/bcc000178.bmp  \n",
            "  inflating: Dataset/Train/215/bcc000179.bmp  \n",
            "  inflating: Dataset/Train/215/bcc000180.bmp  \n",
            "  inflating: Dataset/Train/215/bcc000181.bmp  \n",
            "  inflating: Dataset/Train/215/bcc000182.bmp  \n",
            "  inflating: Dataset/Train/215/bcc000183.bmp  \n",
            "  inflating: Dataset/Train/215/bcc000184.bmp  \n",
            "  inflating: Dataset/Train/215/bcc000185.bmp  \n",
            "  inflating: Dataset/Train/215/bcc000186.bmp  \n",
            "  inflating: Dataset/Train/215/bcc000187.bmp  \n",
            "  inflating: Dataset/Train/215/bcc000188.bmp  \n",
            "  inflating: Dataset/Train/215/bcc000189.bmp  \n",
            "  inflating: Dataset/Train/215/bcc000190.bmp  \n",
            "  inflating: Dataset/Train/215/bcc000191.bmp  \n",
            "  inflating: Dataset/Train/215/bcc000192.bmp  \n",
            "  inflating: Dataset/Train/215/bcc000193.bmp  \n",
            "  inflating: Dataset/Train/215/bcc000194.bmp  \n",
            "  inflating: Dataset/Train/215/bcc000195.bmp  \n",
            "  inflating: Dataset/Train/215/bcc000196.bmp  \n",
            "  inflating: Dataset/Train/215/bcc000197.bmp  \n",
            "  inflating: Dataset/Train/215/bcc000198.bmp  \n",
            "  inflating: Dataset/Train/215/bcc000199.bmp  \n",
            "  inflating: Dataset/Train/215/bcc000200.bmp  \n",
            "  inflating: Dataset/Train/215/bcc000201.bmp  \n",
            "  inflating: Dataset/Train/215/bcc000202.bmp  \n",
            "  inflating: Dataset/Train/215/bcc000203.bmp  \n",
            "  inflating: Dataset/Train/215/bcc000204.bmp  \n",
            "  inflating: Dataset/Train/215/bcc000205.bmp  \n",
            "  inflating: Dataset/Train/215/bcc000206.bmp  \n",
            "  inflating: Dataset/Train/215/bcc000207.bmp  \n",
            "  inflating: Dataset/Train/215/bcc000208.bmp  \n",
            "  inflating: Dataset/Train/215/bcc000209.bmp  \n",
            "  inflating: Dataset/Train/215/bcc000210.bmp  \n",
            "  inflating: Dataset/Train/215/bcc000211.bmp  \n",
            "  inflating: Dataset/Train/215/bcc000212.bmp  \n",
            "  inflating: Dataset/Train/215/bcc000213.bmp  \n",
            "  inflating: Dataset/Train/215/bcc000214.bmp  \n",
            "  inflating: Dataset/Train/215/bcc000215.bmp  \n",
            "  inflating: Dataset/Train/215/bcc000216.bmp  \n",
            "  inflating: Dataset/Train/215/bcc000217.bmp  \n",
            "  inflating: Dataset/Train/215/bcc000218.bmp  \n",
            "  inflating: Dataset/Train/215/bcc000219.bmp  \n",
            "  inflating: Dataset/Train/215/bcc000220.bmp  \n",
            "  inflating: Dataset/Train/215/bcc000221.bmp  \n",
            "  inflating: Dataset/Train/215/bcc000222.bmp  \n",
            "  inflating: Dataset/Train/215/bcc000223.bmp  \n",
            "  inflating: Dataset/Train/215/bcc000224.bmp  \n",
            "  inflating: Dataset/Train/215/bcc000225.bmp  \n",
            "  inflating: Dataset/Train/215/bcc000226.bmp  \n",
            "  inflating: Dataset/Train/215/bcc000227.bmp  \n",
            "  inflating: Dataset/Train/215/bcc000228.bmp  \n",
            "  inflating: Dataset/Train/215/bcc000229.bmp  \n",
            "  inflating: Dataset/Train/215/bcc000230.bmp  \n",
            "  inflating: Dataset/Train/215/bcc000231.bmp  \n",
            "  inflating: Dataset/Train/215/bcc000232.bmp  \n",
            "  inflating: Dataset/Train/215/bcc000233.bmp  \n",
            "  inflating: Dataset/Train/215/bcc000234.bmp  \n",
            "  inflating: Dataset/Train/215/bcc000235.bmp  \n",
            "  inflating: Dataset/Train/215/bcc000236.bmp  \n",
            "  inflating: Dataset/Train/215/bcc000237.bmp  \n",
            "  inflating: Dataset/Train/215/bcc000238.bmp  \n",
            "  inflating: Dataset/Train/215/bcc000239.bmp  \n",
            "   creating: Dataset/Train/216/\n",
            "  inflating: Dataset/Train/216/bcc000000.bmp  \n",
            "  inflating: Dataset/Train/216/bcc000001.bmp  \n",
            "  inflating: Dataset/Train/216/bcc000002.bmp  \n",
            "  inflating: Dataset/Train/216/bcc000003.bmp  \n",
            "  inflating: Dataset/Train/216/bcc000004.bmp  \n",
            "  inflating: Dataset/Train/216/bcc000005.bmp  \n",
            "  inflating: Dataset/Train/216/bcc000006.bmp  \n",
            "  inflating: Dataset/Train/216/bcc000007.bmp  \n",
            "  inflating: Dataset/Train/216/bcc000008.bmp  \n",
            "  inflating: Dataset/Train/216/bcc000009.bmp  \n",
            "  inflating: Dataset/Train/216/bcc000010.bmp  \n",
            "  inflating: Dataset/Train/216/bcc000011.bmp  \n",
            "  inflating: Dataset/Train/216/bcc000012.bmp  \n",
            "  inflating: Dataset/Train/216/bcc000013.bmp  \n",
            "  inflating: Dataset/Train/216/bcc000014.bmp  \n",
            "  inflating: Dataset/Train/216/bcc000015.bmp  \n",
            "  inflating: Dataset/Train/216/bcc000016.bmp  \n",
            "  inflating: Dataset/Train/216/bcc000017.bmp  \n",
            "  inflating: Dataset/Train/216/bcc000018.bmp  \n",
            "  inflating: Dataset/Train/216/bcc000019.bmp  \n",
            "  inflating: Dataset/Train/216/bcc000020.bmp  \n",
            "  inflating: Dataset/Train/216/bcc000021.bmp  \n",
            "  inflating: Dataset/Train/216/bcc000022.bmp  \n",
            "  inflating: Dataset/Train/216/bcc000023.bmp  \n",
            "  inflating: Dataset/Train/216/bcc000024.bmp  \n",
            "  inflating: Dataset/Train/216/bcc000025.bmp  \n",
            "  inflating: Dataset/Train/216/bcc000026.bmp  \n",
            "  inflating: Dataset/Train/216/bcc000027.bmp  \n",
            "  inflating: Dataset/Train/216/bcc000028.bmp  \n",
            "  inflating: Dataset/Train/216/bcc000029.bmp  \n",
            "  inflating: Dataset/Train/216/bcc000030.bmp  \n",
            "  inflating: Dataset/Train/216/bcc000031.bmp  \n",
            "  inflating: Dataset/Train/216/bcc000032.bmp  \n",
            "  inflating: Dataset/Train/216/bcc000033.bmp  \n",
            "  inflating: Dataset/Train/216/bcc000034.bmp  \n",
            "  inflating: Dataset/Train/216/bcc000035.bmp  \n",
            "  inflating: Dataset/Train/216/bcc000036.bmp  \n",
            "  inflating: Dataset/Train/216/bcc000037.bmp  \n",
            "  inflating: Dataset/Train/216/bcc000038.bmp  \n",
            "  inflating: Dataset/Train/216/bcc000039.bmp  \n",
            "  inflating: Dataset/Train/216/bcc000040.bmp  \n",
            "  inflating: Dataset/Train/216/bcc000041.bmp  \n",
            "  inflating: Dataset/Train/216/bcc000042.bmp  \n",
            "  inflating: Dataset/Train/216/bcc000043.bmp  \n",
            "  inflating: Dataset/Train/216/bcc000044.bmp  \n",
            "  inflating: Dataset/Train/216/bcc000045.bmp  \n",
            "  inflating: Dataset/Train/216/bcc000046.bmp  \n",
            "  inflating: Dataset/Train/216/bcc000047.bmp  \n",
            "  inflating: Dataset/Train/216/bcc000048.bmp  \n",
            "  inflating: Dataset/Train/216/bcc000049.bmp  \n",
            "  inflating: Dataset/Train/216/bcc000050.bmp  \n",
            "  inflating: Dataset/Train/216/bcc000051.bmp  \n",
            "  inflating: Dataset/Train/216/bcc000052.bmp  \n",
            "  inflating: Dataset/Train/216/bcc000053.bmp  \n",
            "  inflating: Dataset/Train/216/bcc000054.bmp  \n",
            "  inflating: Dataset/Train/216/bcc000055.bmp  \n",
            "  inflating: Dataset/Train/216/bcc000056.bmp  \n",
            "  inflating: Dataset/Train/216/bcc000057.bmp  \n",
            "  inflating: Dataset/Train/216/bcc000058.bmp  \n",
            "  inflating: Dataset/Train/216/bcc000059.bmp  \n",
            "  inflating: Dataset/Train/216/bcc000060.bmp  \n",
            "  inflating: Dataset/Train/216/bcc000061.bmp  \n",
            "  inflating: Dataset/Train/216/bcc000062.bmp  \n",
            "  inflating: Dataset/Train/216/bcc000063.bmp  \n",
            "  inflating: Dataset/Train/216/bcc000064.bmp  \n",
            "  inflating: Dataset/Train/216/bcc000065.bmp  \n",
            "  inflating: Dataset/Train/216/bcc000066.bmp  \n",
            "  inflating: Dataset/Train/216/bcc000067.bmp  \n",
            "  inflating: Dataset/Train/216/bcc000068.bmp  \n",
            "  inflating: Dataset/Train/216/bcc000069.bmp  \n",
            "  inflating: Dataset/Train/216/bcc000070.bmp  \n",
            "  inflating: Dataset/Train/216/bcc000071.bmp  \n",
            "  inflating: Dataset/Train/216/bcc000072.bmp  \n",
            "  inflating: Dataset/Train/216/bcc000073.bmp  \n",
            "  inflating: Dataset/Train/216/bcc000074.bmp  \n",
            "  inflating: Dataset/Train/216/bcc000075.bmp  \n",
            "  inflating: Dataset/Train/216/bcc000076.bmp  \n",
            "  inflating: Dataset/Train/216/bcc000077.bmp  \n",
            "  inflating: Dataset/Train/216/bcc000078.bmp  \n",
            "  inflating: Dataset/Train/216/bcc000079.bmp  \n",
            "  inflating: Dataset/Train/216/bcc000080.bmp  \n",
            "  inflating: Dataset/Train/216/bcc000081.bmp  \n",
            "  inflating: Dataset/Train/216/bcc000082.bmp  \n",
            "  inflating: Dataset/Train/216/bcc000083.bmp  \n",
            "  inflating: Dataset/Train/216/bcc000084.bmp  \n",
            "  inflating: Dataset/Train/216/bcc000085.bmp  \n",
            "  inflating: Dataset/Train/216/bcc000086.bmp  \n",
            "  inflating: Dataset/Train/216/bcc000087.bmp  \n",
            "  inflating: Dataset/Train/216/bcc000088.bmp  \n",
            "  inflating: Dataset/Train/216/bcc000089.bmp  \n",
            "  inflating: Dataset/Train/216/bcc000090.bmp  \n",
            "  inflating: Dataset/Train/216/bcc000091.bmp  \n",
            "  inflating: Dataset/Train/216/bcc000092.bmp  \n",
            "  inflating: Dataset/Train/216/bcc000093.bmp  \n",
            "  inflating: Dataset/Train/216/bcc000094.bmp  \n",
            "  inflating: Dataset/Train/216/bcc000095.bmp  \n",
            "  inflating: Dataset/Train/216/bcc000096.bmp  \n",
            "  inflating: Dataset/Train/216/bcc000097.bmp  \n",
            "  inflating: Dataset/Train/216/bcc000098.bmp  \n",
            "  inflating: Dataset/Train/216/bcc000099.bmp  \n",
            "  inflating: Dataset/Train/216/bcc000100.bmp  \n",
            "  inflating: Dataset/Train/216/bcc000101.bmp  \n",
            "  inflating: Dataset/Train/216/bcc000102.bmp  \n",
            "  inflating: Dataset/Train/216/bcc000103.bmp  \n",
            "  inflating: Dataset/Train/216/bcc000104.bmp  \n",
            "  inflating: Dataset/Train/216/bcc000105.bmp  \n",
            "  inflating: Dataset/Train/216/bcc000106.bmp  \n",
            "  inflating: Dataset/Train/216/bcc000107.bmp  \n",
            "  inflating: Dataset/Train/216/bcc000108.bmp  \n",
            "  inflating: Dataset/Train/216/bcc000109.bmp  \n",
            "  inflating: Dataset/Train/216/bcc000110.bmp  \n",
            "  inflating: Dataset/Train/216/bcc000111.bmp  \n",
            "  inflating: Dataset/Train/216/bcc000112.bmp  \n",
            "  inflating: Dataset/Train/216/bcc000113.bmp  \n",
            "  inflating: Dataset/Train/216/bcc000114.bmp  \n",
            "  inflating: Dataset/Train/216/bcc000115.bmp  \n",
            "  inflating: Dataset/Train/216/bcc000116.bmp  \n",
            "  inflating: Dataset/Train/216/bcc000117.bmp  \n",
            "  inflating: Dataset/Train/216/bcc000118.bmp  \n",
            "  inflating: Dataset/Train/216/bcc000119.bmp  \n",
            "  inflating: Dataset/Train/216/bcc000120.bmp  \n",
            "  inflating: Dataset/Train/216/bcc000121.bmp  \n",
            "  inflating: Dataset/Train/216/bcc000122.bmp  \n",
            "  inflating: Dataset/Train/216/bcc000123.bmp  \n",
            "  inflating: Dataset/Train/216/bcc000124.bmp  \n",
            "  inflating: Dataset/Train/216/bcc000125.bmp  \n",
            "  inflating: Dataset/Train/216/bcc000126.bmp  \n",
            "  inflating: Dataset/Train/216/bcc000127.bmp  \n",
            "  inflating: Dataset/Train/216/bcc000128.bmp  \n",
            "  inflating: Dataset/Train/216/bcc000129.bmp  \n",
            "  inflating: Dataset/Train/216/bcc000130.bmp  \n",
            "  inflating: Dataset/Train/216/bcc000131.bmp  \n",
            "  inflating: Dataset/Train/216/bcc000132.bmp  \n",
            "  inflating: Dataset/Train/216/bcc000133.bmp  \n",
            "  inflating: Dataset/Train/216/bcc000134.bmp  \n",
            "  inflating: Dataset/Train/216/bcc000135.bmp  \n",
            "  inflating: Dataset/Train/216/bcc000136.bmp  \n",
            "  inflating: Dataset/Train/216/bcc000137.bmp  \n",
            "  inflating: Dataset/Train/216/bcc000138.bmp  \n",
            "  inflating: Dataset/Train/216/bcc000139.bmp  \n",
            "  inflating: Dataset/Train/216/bcc000140.bmp  \n",
            "  inflating: Dataset/Train/216/bcc000141.bmp  \n",
            "  inflating: Dataset/Train/216/bcc000142.bmp  \n",
            "  inflating: Dataset/Train/216/bcc000143.bmp  \n",
            "  inflating: Dataset/Train/216/bcc000144.bmp  \n",
            "  inflating: Dataset/Train/216/bcc000145.bmp  \n",
            "  inflating: Dataset/Train/216/bcc000146.bmp  \n",
            "  inflating: Dataset/Train/216/bcc000147.bmp  \n",
            "  inflating: Dataset/Train/216/bcc000148.bmp  \n",
            "  inflating: Dataset/Train/216/bcc000149.bmp  \n",
            "  inflating: Dataset/Train/216/bcc000150.bmp  \n",
            "  inflating: Dataset/Train/216/bcc000151.bmp  \n",
            "  inflating: Dataset/Train/216/bcc000152.bmp  \n",
            "  inflating: Dataset/Train/216/bcc000153.bmp  \n",
            "  inflating: Dataset/Train/216/bcc000154.bmp  \n",
            "  inflating: Dataset/Train/216/bcc000155.bmp  \n",
            "  inflating: Dataset/Train/216/bcc000156.bmp  \n",
            "  inflating: Dataset/Train/216/bcc000157.bmp  \n",
            "  inflating: Dataset/Train/216/bcc000158.bmp  \n",
            "  inflating: Dataset/Train/216/bcc000159.bmp  \n",
            "  inflating: Dataset/Train/216/bcc000160.bmp  \n",
            "  inflating: Dataset/Train/216/bcc000161.bmp  \n",
            "  inflating: Dataset/Train/216/bcc000162.bmp  \n",
            "  inflating: Dataset/Train/216/bcc000163.bmp  \n",
            "  inflating: Dataset/Train/216/bcc000164.bmp  \n",
            "  inflating: Dataset/Train/216/bcc000165.bmp  \n",
            "  inflating: Dataset/Train/216/bcc000166.bmp  \n",
            "  inflating: Dataset/Train/216/bcc000167.bmp  \n",
            "  inflating: Dataset/Train/216/bcc000168.bmp  \n",
            "  inflating: Dataset/Train/216/bcc000169.bmp  \n",
            "  inflating: Dataset/Train/216/bcc000170.bmp  \n",
            "  inflating: Dataset/Train/216/bcc000171.bmp  \n",
            "  inflating: Dataset/Train/216/bcc000172.bmp  \n",
            "  inflating: Dataset/Train/216/bcc000173.bmp  \n",
            "  inflating: Dataset/Train/216/bcc000174.bmp  \n",
            "  inflating: Dataset/Train/216/bcc000175.bmp  \n",
            "  inflating: Dataset/Train/216/bcc000176.bmp  \n",
            "  inflating: Dataset/Train/216/bcc000177.bmp  \n",
            "  inflating: Dataset/Train/216/bcc000178.bmp  \n",
            "  inflating: Dataset/Train/216/bcc000179.bmp  \n",
            "  inflating: Dataset/Train/216/bcc000180.bmp  \n",
            "  inflating: Dataset/Train/216/bcc000181.bmp  \n",
            "  inflating: Dataset/Train/216/bcc000182.bmp  \n",
            "  inflating: Dataset/Train/216/bcc000183.bmp  \n",
            "  inflating: Dataset/Train/216/bcc000184.bmp  \n",
            "  inflating: Dataset/Train/216/bcc000185.bmp  \n",
            "  inflating: Dataset/Train/216/bcc000186.bmp  \n",
            "  inflating: Dataset/Train/216/bcc000187.bmp  \n",
            "  inflating: Dataset/Train/216/bcc000188.bmp  \n",
            "  inflating: Dataset/Train/216/bcc000189.bmp  \n",
            "  inflating: Dataset/Train/216/bcc000190.bmp  \n",
            "  inflating: Dataset/Train/216/bcc000191.bmp  \n",
            "  inflating: Dataset/Train/216/bcc000192.bmp  \n",
            "  inflating: Dataset/Train/216/bcc000193.bmp  \n",
            "  inflating: Dataset/Train/216/bcc000194.bmp  \n",
            "  inflating: Dataset/Train/216/bcc000195.bmp  \n",
            "  inflating: Dataset/Train/216/bcc000196.bmp  \n",
            "  inflating: Dataset/Train/216/bcc000197.bmp  \n",
            "  inflating: Dataset/Train/216/bcc000198.bmp  \n",
            "  inflating: Dataset/Train/216/bcc000199.bmp  \n",
            "  inflating: Dataset/Train/216/bcc000200.bmp  \n",
            "  inflating: Dataset/Train/216/bcc000201.bmp  \n",
            "  inflating: Dataset/Train/216/bcc000202.bmp  \n",
            "  inflating: Dataset/Train/216/bcc000203.bmp  \n",
            "  inflating: Dataset/Train/216/bcc000204.bmp  \n",
            "  inflating: Dataset/Train/216/bcc000205.bmp  \n",
            "  inflating: Dataset/Train/216/bcc000206.bmp  \n",
            "  inflating: Dataset/Train/216/bcc000207.bmp  \n",
            "  inflating: Dataset/Train/216/bcc000208.bmp  \n",
            "  inflating: Dataset/Train/216/bcc000209.bmp  \n",
            "  inflating: Dataset/Train/216/bcc000210.bmp  \n",
            "  inflating: Dataset/Train/216/bcc000211.bmp  \n",
            "  inflating: Dataset/Train/216/bcc000212.bmp  \n",
            "  inflating: Dataset/Train/216/bcc000213.bmp  \n",
            "  inflating: Dataset/Train/216/bcc000214.bmp  \n",
            "  inflating: Dataset/Train/216/bcc000215.bmp  \n",
            "  inflating: Dataset/Train/216/bcc000216.bmp  \n",
            "  inflating: Dataset/Train/216/bcc000217.bmp  \n",
            "  inflating: Dataset/Train/216/bcc000218.bmp  \n",
            "  inflating: Dataset/Train/216/bcc000219.bmp  \n",
            "  inflating: Dataset/Train/216/bcc000220.bmp  \n",
            "  inflating: Dataset/Train/216/bcc000221.bmp  \n",
            "  inflating: Dataset/Train/216/bcc000222.bmp  \n",
            "  inflating: Dataset/Train/216/bcc000223.bmp  \n",
            "  inflating: Dataset/Train/216/bcc000224.bmp  \n",
            "  inflating: Dataset/Train/216/bcc000225.bmp  \n",
            "  inflating: Dataset/Train/216/bcc000226.bmp  \n",
            "  inflating: Dataset/Train/216/bcc000227.bmp  \n",
            "  inflating: Dataset/Train/216/bcc000228.bmp  \n",
            "  inflating: Dataset/Train/216/bcc000229.bmp  \n",
            "  inflating: Dataset/Train/216/bcc000230.bmp  \n",
            "  inflating: Dataset/Train/216/bcc000231.bmp  \n",
            "  inflating: Dataset/Train/216/bcc000232.bmp  \n",
            "  inflating: Dataset/Train/216/bcc000233.bmp  \n",
            "  inflating: Dataset/Train/216/bcc000234.bmp  \n",
            "  inflating: Dataset/Train/216/bcc000235.bmp  \n",
            "  inflating: Dataset/Train/216/bcc000236.bmp  \n",
            "  inflating: Dataset/Train/216/bcc000237.bmp  \n",
            "  inflating: Dataset/Train/216/bcc000238.bmp  \n",
            "  inflating: Dataset/Train/216/bcc000239.bmp  \n",
            "   creating: Dataset/Train/217/\n",
            "  inflating: Dataset/Train/217/bcc000000.bmp  \n",
            "  inflating: Dataset/Train/217/bcc000001.bmp  \n",
            "  inflating: Dataset/Train/217/bcc000002.bmp  \n",
            "  inflating: Dataset/Train/217/bcc000003.bmp  \n",
            "  inflating: Dataset/Train/217/bcc000004.bmp  \n",
            "  inflating: Dataset/Train/217/bcc000005.bmp  \n",
            "  inflating: Dataset/Train/217/bcc000006.bmp  \n",
            "  inflating: Dataset/Train/217/bcc000007.bmp  \n",
            "  inflating: Dataset/Train/217/bcc000008.bmp  \n",
            "  inflating: Dataset/Train/217/bcc000009.bmp  \n",
            "  inflating: Dataset/Train/217/bcc000010.bmp  \n",
            "  inflating: Dataset/Train/217/bcc000011.bmp  \n",
            "  inflating: Dataset/Train/217/bcc000012.bmp  \n",
            "  inflating: Dataset/Train/217/bcc000013.bmp  \n",
            "  inflating: Dataset/Train/217/bcc000014.bmp  \n",
            "  inflating: Dataset/Train/217/bcc000015.bmp  \n",
            "  inflating: Dataset/Train/217/bcc000016.bmp  \n",
            "  inflating: Dataset/Train/217/bcc000017.bmp  \n",
            "  inflating: Dataset/Train/217/bcc000018.bmp  \n",
            "  inflating: Dataset/Train/217/bcc000019.bmp  \n",
            "  inflating: Dataset/Train/217/bcc000020.bmp  \n",
            "  inflating: Dataset/Train/217/bcc000021.bmp  \n",
            "  inflating: Dataset/Train/217/bcc000022.bmp  \n",
            "  inflating: Dataset/Train/217/bcc000023.bmp  \n",
            "  inflating: Dataset/Train/217/bcc000024.bmp  \n",
            "  inflating: Dataset/Train/217/bcc000025.bmp  \n",
            "  inflating: Dataset/Train/217/bcc000026.bmp  \n",
            "  inflating: Dataset/Train/217/bcc000027.bmp  \n",
            "  inflating: Dataset/Train/217/bcc000028.bmp  \n",
            "  inflating: Dataset/Train/217/bcc000029.bmp  \n",
            "  inflating: Dataset/Train/217/bcc000030.bmp  \n",
            "  inflating: Dataset/Train/217/bcc000031.bmp  \n",
            "  inflating: Dataset/Train/217/bcc000032.bmp  \n",
            "  inflating: Dataset/Train/217/bcc000033.bmp  \n",
            "  inflating: Dataset/Train/217/bcc000034.bmp  \n",
            "  inflating: Dataset/Train/217/bcc000035.bmp  \n",
            "  inflating: Dataset/Train/217/bcc000036.bmp  \n",
            "  inflating: Dataset/Train/217/bcc000037.bmp  \n",
            "  inflating: Dataset/Train/217/bcc000038.bmp  \n",
            "  inflating: Dataset/Train/217/bcc000039.bmp  \n",
            "  inflating: Dataset/Train/217/bcc000040.bmp  \n",
            "  inflating: Dataset/Train/217/bcc000041.bmp  \n",
            "  inflating: Dataset/Train/217/bcc000042.bmp  \n",
            "  inflating: Dataset/Train/217/bcc000043.bmp  \n",
            "  inflating: Dataset/Train/217/bcc000044.bmp  \n",
            "  inflating: Dataset/Train/217/bcc000045.bmp  \n",
            "  inflating: Dataset/Train/217/bcc000046.bmp  \n",
            "  inflating: Dataset/Train/217/bcc000047.bmp  \n",
            "  inflating: Dataset/Train/217/bcc000048.bmp  \n",
            "  inflating: Dataset/Train/217/bcc000049.bmp  \n",
            "  inflating: Dataset/Train/217/bcc000050.bmp  \n",
            "  inflating: Dataset/Train/217/bcc000051.bmp  \n",
            "  inflating: Dataset/Train/217/bcc000052.bmp  \n",
            "  inflating: Dataset/Train/217/bcc000053.bmp  \n",
            "  inflating: Dataset/Train/217/bcc000054.bmp  \n",
            "  inflating: Dataset/Train/217/bcc000055.bmp  \n",
            "  inflating: Dataset/Train/217/bcc000056.bmp  \n",
            "  inflating: Dataset/Train/217/bcc000057.bmp  \n",
            "  inflating: Dataset/Train/217/bcc000058.bmp  \n",
            "  inflating: Dataset/Train/217/bcc000059.bmp  \n",
            "  inflating: Dataset/Train/217/bcc000060.bmp  \n",
            "  inflating: Dataset/Train/217/bcc000061.bmp  \n",
            "  inflating: Dataset/Train/217/bcc000062.bmp  \n",
            "  inflating: Dataset/Train/217/bcc000063.bmp  \n",
            "  inflating: Dataset/Train/217/bcc000064.bmp  \n",
            "  inflating: Dataset/Train/217/bcc000065.bmp  \n",
            "  inflating: Dataset/Train/217/bcc000066.bmp  \n",
            "  inflating: Dataset/Train/217/bcc000067.bmp  \n",
            "  inflating: Dataset/Train/217/bcc000068.bmp  \n",
            "  inflating: Dataset/Train/217/bcc000069.bmp  \n",
            "  inflating: Dataset/Train/217/bcc000070.bmp  \n",
            "  inflating: Dataset/Train/217/bcc000071.bmp  \n",
            "  inflating: Dataset/Train/217/bcc000072.bmp  \n",
            "  inflating: Dataset/Train/217/bcc000073.bmp  \n",
            "  inflating: Dataset/Train/217/bcc000074.bmp  \n",
            "  inflating: Dataset/Train/217/bcc000075.bmp  \n",
            "  inflating: Dataset/Train/217/bcc000076.bmp  \n",
            "  inflating: Dataset/Train/217/bcc000077.bmp  \n",
            "  inflating: Dataset/Train/217/bcc000078.bmp  \n",
            "  inflating: Dataset/Train/217/bcc000079.bmp  \n",
            "  inflating: Dataset/Train/217/bcc000080.bmp  \n",
            "  inflating: Dataset/Train/217/bcc000081.bmp  \n",
            "  inflating: Dataset/Train/217/bcc000082.bmp  \n",
            "  inflating: Dataset/Train/217/bcc000083.bmp  \n",
            "  inflating: Dataset/Train/217/bcc000084.bmp  \n",
            "  inflating: Dataset/Train/217/bcc000085.bmp  \n",
            "  inflating: Dataset/Train/217/bcc000086.bmp  \n",
            "  inflating: Dataset/Train/217/bcc000087.bmp  \n",
            "  inflating: Dataset/Train/217/bcc000088.bmp  \n",
            "  inflating: Dataset/Train/217/bcc000089.bmp  \n",
            "  inflating: Dataset/Train/217/bcc000090.bmp  \n",
            "  inflating: Dataset/Train/217/bcc000091.bmp  \n",
            "  inflating: Dataset/Train/217/bcc000092.bmp  \n",
            "  inflating: Dataset/Train/217/bcc000093.bmp  \n",
            "  inflating: Dataset/Train/217/bcc000094.bmp  \n",
            "  inflating: Dataset/Train/217/bcc000095.bmp  \n",
            "  inflating: Dataset/Train/217/bcc000096.bmp  \n",
            "  inflating: Dataset/Train/217/bcc000097.bmp  \n",
            "  inflating: Dataset/Train/217/bcc000098.bmp  \n",
            "  inflating: Dataset/Train/217/bcc000099.bmp  \n",
            "  inflating: Dataset/Train/217/bcc000100.bmp  \n",
            "  inflating: Dataset/Train/217/bcc000101.bmp  \n",
            "  inflating: Dataset/Train/217/bcc000102.bmp  \n",
            "  inflating: Dataset/Train/217/bcc000103.bmp  \n",
            "  inflating: Dataset/Train/217/bcc000104.bmp  \n",
            "  inflating: Dataset/Train/217/bcc000105.bmp  \n",
            "  inflating: Dataset/Train/217/bcc000106.bmp  \n",
            "  inflating: Dataset/Train/217/bcc000107.bmp  \n",
            "  inflating: Dataset/Train/217/bcc000108.bmp  \n",
            "  inflating: Dataset/Train/217/bcc000109.bmp  \n",
            "  inflating: Dataset/Train/217/bcc000110.bmp  \n",
            "  inflating: Dataset/Train/217/bcc000111.bmp  \n",
            "  inflating: Dataset/Train/217/bcc000112.bmp  \n",
            "  inflating: Dataset/Train/217/bcc000113.bmp  \n",
            "  inflating: Dataset/Train/217/bcc000114.bmp  \n",
            "  inflating: Dataset/Train/217/bcc000115.bmp  \n",
            "  inflating: Dataset/Train/217/bcc000116.bmp  \n",
            "  inflating: Dataset/Train/217/bcc000117.bmp  \n",
            "  inflating: Dataset/Train/217/bcc000118.bmp  \n",
            "  inflating: Dataset/Train/217/bcc000119.bmp  \n",
            "  inflating: Dataset/Train/217/bcc000120.bmp  \n",
            "  inflating: Dataset/Train/217/bcc000121.bmp  \n",
            "  inflating: Dataset/Train/217/bcc000122.bmp  \n",
            "  inflating: Dataset/Train/217/bcc000123.bmp  \n",
            "  inflating: Dataset/Train/217/bcc000124.bmp  \n",
            "  inflating: Dataset/Train/217/bcc000125.bmp  \n",
            "  inflating: Dataset/Train/217/bcc000126.bmp  \n",
            "  inflating: Dataset/Train/217/bcc000127.bmp  \n",
            "  inflating: Dataset/Train/217/bcc000128.bmp  \n",
            "  inflating: Dataset/Train/217/bcc000129.bmp  \n",
            "  inflating: Dataset/Train/217/bcc000130.bmp  \n",
            "  inflating: Dataset/Train/217/bcc000131.bmp  \n",
            "  inflating: Dataset/Train/217/bcc000132.bmp  \n",
            "  inflating: Dataset/Train/217/bcc000133.bmp  \n",
            "  inflating: Dataset/Train/217/bcc000134.bmp  \n",
            "  inflating: Dataset/Train/217/bcc000135.bmp  \n",
            "  inflating: Dataset/Train/217/bcc000136.bmp  \n",
            "  inflating: Dataset/Train/217/bcc000137.bmp  \n",
            "  inflating: Dataset/Train/217/bcc000138.bmp  \n",
            "  inflating: Dataset/Train/217/bcc000139.bmp  \n",
            "  inflating: Dataset/Train/217/bcc000140.bmp  \n",
            "  inflating: Dataset/Train/217/bcc000141.bmp  \n",
            "  inflating: Dataset/Train/217/bcc000142.bmp  \n",
            "  inflating: Dataset/Train/217/bcc000143.bmp  \n",
            "  inflating: Dataset/Train/217/bcc000144.bmp  \n",
            "  inflating: Dataset/Train/217/bcc000145.bmp  \n",
            "  inflating: Dataset/Train/217/bcc000146.bmp  \n",
            "  inflating: Dataset/Train/217/bcc000147.bmp  \n",
            "  inflating: Dataset/Train/217/bcc000148.bmp  \n",
            "  inflating: Dataset/Train/217/bcc000149.bmp  \n",
            "  inflating: Dataset/Train/217/bcc000150.bmp  \n",
            "  inflating: Dataset/Train/217/bcc000151.bmp  \n",
            "  inflating: Dataset/Train/217/bcc000152.bmp  \n",
            "  inflating: Dataset/Train/217/bcc000153.bmp  \n",
            "  inflating: Dataset/Train/217/bcc000154.bmp  \n",
            "  inflating: Dataset/Train/217/bcc000155.bmp  \n",
            "  inflating: Dataset/Train/217/bcc000156.bmp  \n",
            "  inflating: Dataset/Train/217/bcc000157.bmp  \n",
            "  inflating: Dataset/Train/217/bcc000158.bmp  \n",
            "  inflating: Dataset/Train/217/bcc000159.bmp  \n",
            "  inflating: Dataset/Train/217/bcc000160.bmp  \n",
            "  inflating: Dataset/Train/217/bcc000161.bmp  \n",
            "  inflating: Dataset/Train/217/bcc000162.bmp  \n",
            "  inflating: Dataset/Train/217/bcc000163.bmp  \n",
            "  inflating: Dataset/Train/217/bcc000164.bmp  \n",
            "  inflating: Dataset/Train/217/bcc000165.bmp  \n",
            "  inflating: Dataset/Train/217/bcc000166.bmp  \n",
            "  inflating: Dataset/Train/217/bcc000167.bmp  \n",
            "  inflating: Dataset/Train/217/bcc000168.bmp  \n",
            "  inflating: Dataset/Train/217/bcc000169.bmp  \n",
            "  inflating: Dataset/Train/217/bcc000170.bmp  \n",
            "  inflating: Dataset/Train/217/bcc000171.bmp  \n",
            "  inflating: Dataset/Train/217/bcc000172.bmp  \n",
            "  inflating: Dataset/Train/217/bcc000173.bmp  \n",
            "  inflating: Dataset/Train/217/bcc000174.bmp  \n",
            "  inflating: Dataset/Train/217/bcc000175.bmp  \n",
            "  inflating: Dataset/Train/217/bcc000176.bmp  \n",
            "  inflating: Dataset/Train/217/bcc000177.bmp  \n",
            "  inflating: Dataset/Train/217/bcc000178.bmp  \n",
            "  inflating: Dataset/Train/217/bcc000179.bmp  \n",
            "  inflating: Dataset/Train/217/bcc000180.bmp  \n",
            "  inflating: Dataset/Train/217/bcc000181.bmp  \n",
            "  inflating: Dataset/Train/217/bcc000182.bmp  \n",
            "  inflating: Dataset/Train/217/bcc000183.bmp  \n",
            "  inflating: Dataset/Train/217/bcc000184.bmp  \n",
            "  inflating: Dataset/Train/217/bcc000185.bmp  \n",
            "  inflating: Dataset/Train/217/bcc000186.bmp  \n",
            "  inflating: Dataset/Train/217/bcc000187.bmp  \n",
            "  inflating: Dataset/Train/217/bcc000188.bmp  \n",
            "  inflating: Dataset/Train/217/bcc000189.bmp  \n",
            "  inflating: Dataset/Train/217/bcc000190.bmp  \n",
            "  inflating: Dataset/Train/217/bcc000191.bmp  \n",
            "  inflating: Dataset/Train/217/bcc000192.bmp  \n",
            "  inflating: Dataset/Train/217/bcc000193.bmp  \n",
            "  inflating: Dataset/Train/217/bcc000194.bmp  \n",
            "  inflating: Dataset/Train/217/bcc000195.bmp  \n",
            "  inflating: Dataset/Train/217/bcc000196.bmp  \n",
            "  inflating: Dataset/Train/217/bcc000197.bmp  \n",
            "  inflating: Dataset/Train/217/bcc000198.bmp  \n",
            "  inflating: Dataset/Train/217/bcc000199.bmp  \n",
            "  inflating: Dataset/Train/217/bcc000200.bmp  \n",
            "  inflating: Dataset/Train/217/bcc000201.bmp  \n",
            "  inflating: Dataset/Train/217/bcc000202.bmp  \n",
            "  inflating: Dataset/Train/217/bcc000203.bmp  \n",
            "  inflating: Dataset/Train/217/bcc000204.bmp  \n",
            "  inflating: Dataset/Train/217/bcc000205.bmp  \n",
            "  inflating: Dataset/Train/217/bcc000206.bmp  \n",
            "  inflating: Dataset/Train/217/bcc000207.bmp  \n",
            "  inflating: Dataset/Train/217/bcc000208.bmp  \n",
            "  inflating: Dataset/Train/217/bcc000209.bmp  \n",
            "  inflating: Dataset/Train/217/bcc000210.bmp  \n",
            "  inflating: Dataset/Train/217/bcc000211.bmp  \n",
            "  inflating: Dataset/Train/217/bcc000212.bmp  \n",
            "  inflating: Dataset/Train/217/bcc000213.bmp  \n",
            "  inflating: Dataset/Train/217/bcc000214.bmp  \n",
            "  inflating: Dataset/Train/217/bcc000215.bmp  \n",
            "  inflating: Dataset/Train/217/bcc000216.bmp  \n",
            "  inflating: Dataset/Train/217/bcc000217.bmp  \n",
            "  inflating: Dataset/Train/217/bcc000218.bmp  \n",
            "  inflating: Dataset/Train/217/bcc000219.bmp  \n",
            "  inflating: Dataset/Train/217/bcc000220.bmp  \n",
            "  inflating: Dataset/Train/217/bcc000221.bmp  \n",
            "  inflating: Dataset/Train/217/bcc000222.bmp  \n",
            "  inflating: Dataset/Train/217/bcc000223.bmp  \n",
            "  inflating: Dataset/Train/217/bcc000224.bmp  \n",
            "  inflating: Dataset/Train/217/bcc000225.bmp  \n",
            "  inflating: Dataset/Train/217/bcc000226.bmp  \n",
            "  inflating: Dataset/Train/217/bcc000227.bmp  \n",
            "  inflating: Dataset/Train/217/bcc000228.bmp  \n",
            "  inflating: Dataset/Train/217/bcc000229.bmp  \n",
            "  inflating: Dataset/Train/217/bcc000230.bmp  \n",
            "  inflating: Dataset/Train/217/bcc000231.bmp  \n",
            "  inflating: Dataset/Train/217/bcc000232.bmp  \n",
            "  inflating: Dataset/Train/217/bcc000233.bmp  \n",
            "  inflating: Dataset/Train/217/bcc000234.bmp  \n",
            "  inflating: Dataset/Train/217/bcc000235.bmp  \n",
            "  inflating: Dataset/Train/217/bcc000236.bmp  \n",
            "  inflating: Dataset/Train/217/bcc000237.bmp  \n",
            "  inflating: Dataset/Train/217/bcc000238.bmp  \n",
            "  inflating: Dataset/Train/217/bcc000239.bmp  \n",
            "   creating: Dataset/Train/218/\n",
            "  inflating: Dataset/Train/218/bcc000000.bmp  \n",
            "  inflating: Dataset/Train/218/bcc000001.bmp  \n",
            "  inflating: Dataset/Train/218/bcc000002.bmp  \n",
            "  inflating: Dataset/Train/218/bcc000003.bmp  \n",
            "  inflating: Dataset/Train/218/bcc000004.bmp  \n",
            "  inflating: Dataset/Train/218/bcc000005.bmp  \n",
            "  inflating: Dataset/Train/218/bcc000006.bmp  \n",
            "  inflating: Dataset/Train/218/bcc000007.bmp  \n",
            "  inflating: Dataset/Train/218/bcc000008.bmp  \n",
            "  inflating: Dataset/Train/218/bcc000009.bmp  \n",
            "  inflating: Dataset/Train/218/bcc000010.bmp  \n",
            "  inflating: Dataset/Train/218/bcc000011.bmp  \n",
            "  inflating: Dataset/Train/218/bcc000012.bmp  \n",
            "  inflating: Dataset/Train/218/bcc000013.bmp  \n",
            "  inflating: Dataset/Train/218/bcc000014.bmp  \n",
            "  inflating: Dataset/Train/218/bcc000015.bmp  \n",
            "  inflating: Dataset/Train/218/bcc000016.bmp  \n",
            "  inflating: Dataset/Train/218/bcc000017.bmp  \n",
            "  inflating: Dataset/Train/218/bcc000018.bmp  \n",
            "  inflating: Dataset/Train/218/bcc000019.bmp  \n",
            "  inflating: Dataset/Train/218/bcc000020.bmp  \n",
            "  inflating: Dataset/Train/218/bcc000021.bmp  \n",
            "  inflating: Dataset/Train/218/bcc000022.bmp  \n",
            "  inflating: Dataset/Train/218/bcc000023.bmp  \n",
            "  inflating: Dataset/Train/218/bcc000024.bmp  \n",
            "  inflating: Dataset/Train/218/bcc000025.bmp  \n",
            "  inflating: Dataset/Train/218/bcc000026.bmp  \n",
            "  inflating: Dataset/Train/218/bcc000027.bmp  \n",
            "  inflating: Dataset/Train/218/bcc000028.bmp  \n",
            "  inflating: Dataset/Train/218/bcc000029.bmp  \n",
            "  inflating: Dataset/Train/218/bcc000030.bmp  \n",
            "  inflating: Dataset/Train/218/bcc000031.bmp  \n",
            "  inflating: Dataset/Train/218/bcc000032.bmp  \n",
            "  inflating: Dataset/Train/218/bcc000033.bmp  \n",
            "  inflating: Dataset/Train/218/bcc000034.bmp  \n",
            "  inflating: Dataset/Train/218/bcc000035.bmp  \n",
            "  inflating: Dataset/Train/218/bcc000036.bmp  \n",
            "  inflating: Dataset/Train/218/bcc000037.bmp  \n",
            "  inflating: Dataset/Train/218/bcc000038.bmp  \n",
            "  inflating: Dataset/Train/218/bcc000039.bmp  \n",
            "  inflating: Dataset/Train/218/bcc000040.bmp  \n",
            "  inflating: Dataset/Train/218/bcc000041.bmp  \n",
            "  inflating: Dataset/Train/218/bcc000042.bmp  \n",
            "  inflating: Dataset/Train/218/bcc000043.bmp  \n",
            "  inflating: Dataset/Train/218/bcc000044.bmp  \n",
            "  inflating: Dataset/Train/218/bcc000045.bmp  \n",
            "  inflating: Dataset/Train/218/bcc000046.bmp  \n",
            "  inflating: Dataset/Train/218/bcc000047.bmp  \n",
            "  inflating: Dataset/Train/218/bcc000048.bmp  \n",
            "  inflating: Dataset/Train/218/bcc000049.bmp  \n",
            "  inflating: Dataset/Train/218/bcc000050.bmp  \n",
            "  inflating: Dataset/Train/218/bcc000051.bmp  \n",
            "  inflating: Dataset/Train/218/bcc000052.bmp  \n",
            "  inflating: Dataset/Train/218/bcc000053.bmp  \n",
            "  inflating: Dataset/Train/218/bcc000054.bmp  \n",
            "  inflating: Dataset/Train/218/bcc000055.bmp  \n",
            "  inflating: Dataset/Train/218/bcc000056.bmp  \n",
            "  inflating: Dataset/Train/218/bcc000057.bmp  \n",
            "  inflating: Dataset/Train/218/bcc000058.bmp  \n",
            "  inflating: Dataset/Train/218/bcc000059.bmp  \n",
            "  inflating: Dataset/Train/218/bcc000060.bmp  \n",
            "  inflating: Dataset/Train/218/bcc000061.bmp  \n",
            "  inflating: Dataset/Train/218/bcc000062.bmp  \n",
            "  inflating: Dataset/Train/218/bcc000063.bmp  \n",
            "  inflating: Dataset/Train/218/bcc000064.bmp  \n",
            "  inflating: Dataset/Train/218/bcc000065.bmp  \n",
            "  inflating: Dataset/Train/218/bcc000066.bmp  \n",
            "  inflating: Dataset/Train/218/bcc000067.bmp  \n",
            "  inflating: Dataset/Train/218/bcc000068.bmp  \n",
            "  inflating: Dataset/Train/218/bcc000069.bmp  \n",
            "  inflating: Dataset/Train/218/bcc000070.bmp  \n",
            "  inflating: Dataset/Train/218/bcc000071.bmp  \n",
            "  inflating: Dataset/Train/218/bcc000072.bmp  \n",
            "  inflating: Dataset/Train/218/bcc000073.bmp  \n",
            "  inflating: Dataset/Train/218/bcc000074.bmp  \n",
            "  inflating: Dataset/Train/218/bcc000075.bmp  \n",
            "  inflating: Dataset/Train/218/bcc000076.bmp  \n",
            "  inflating: Dataset/Train/218/bcc000077.bmp  \n",
            "  inflating: Dataset/Train/218/bcc000078.bmp  \n",
            "  inflating: Dataset/Train/218/bcc000079.bmp  \n",
            "  inflating: Dataset/Train/218/bcc000080.bmp  \n",
            "  inflating: Dataset/Train/218/bcc000081.bmp  \n",
            "  inflating: Dataset/Train/218/bcc000082.bmp  \n",
            "  inflating: Dataset/Train/218/bcc000083.bmp  \n",
            "  inflating: Dataset/Train/218/bcc000084.bmp  \n",
            "  inflating: Dataset/Train/218/bcc000085.bmp  \n",
            "  inflating: Dataset/Train/218/bcc000086.bmp  \n",
            "  inflating: Dataset/Train/218/bcc000087.bmp  \n",
            "  inflating: Dataset/Train/218/bcc000088.bmp  \n",
            "  inflating: Dataset/Train/218/bcc000089.bmp  \n",
            "  inflating: Dataset/Train/218/bcc000090.bmp  \n",
            "  inflating: Dataset/Train/218/bcc000091.bmp  \n",
            "  inflating: Dataset/Train/218/bcc000092.bmp  \n",
            "  inflating: Dataset/Train/218/bcc000093.bmp  \n",
            "  inflating: Dataset/Train/218/bcc000094.bmp  \n",
            "  inflating: Dataset/Train/218/bcc000095.bmp  \n",
            "  inflating: Dataset/Train/218/bcc000096.bmp  \n",
            "  inflating: Dataset/Train/218/bcc000097.bmp  \n",
            "  inflating: Dataset/Train/218/bcc000098.bmp  \n",
            "  inflating: Dataset/Train/218/bcc000099.bmp  \n",
            "  inflating: Dataset/Train/218/bcc000100.bmp  \n",
            "  inflating: Dataset/Train/218/bcc000101.bmp  \n",
            "  inflating: Dataset/Train/218/bcc000102.bmp  \n",
            "  inflating: Dataset/Train/218/bcc000103.bmp  \n",
            "  inflating: Dataset/Train/218/bcc000104.bmp  \n",
            "  inflating: Dataset/Train/218/bcc000105.bmp  \n",
            "  inflating: Dataset/Train/218/bcc000106.bmp  \n",
            "  inflating: Dataset/Train/218/bcc000107.bmp  \n",
            "  inflating: Dataset/Train/218/bcc000108.bmp  \n",
            "  inflating: Dataset/Train/218/bcc000109.bmp  \n",
            "  inflating: Dataset/Train/218/bcc000110.bmp  \n",
            "  inflating: Dataset/Train/218/bcc000111.bmp  \n",
            "  inflating: Dataset/Train/218/bcc000112.bmp  \n",
            "  inflating: Dataset/Train/218/bcc000113.bmp  \n",
            "  inflating: Dataset/Train/218/bcc000114.bmp  \n",
            "  inflating: Dataset/Train/218/bcc000115.bmp  \n",
            "  inflating: Dataset/Train/218/bcc000116.bmp  \n",
            "  inflating: Dataset/Train/218/bcc000117.bmp  \n",
            "  inflating: Dataset/Train/218/bcc000118.bmp  \n",
            "  inflating: Dataset/Train/218/bcc000119.bmp  \n",
            "  inflating: Dataset/Train/218/bcc000120.bmp  \n",
            "  inflating: Dataset/Train/218/bcc000121.bmp  \n",
            "  inflating: Dataset/Train/218/bcc000122.bmp  \n",
            "  inflating: Dataset/Train/218/bcc000123.bmp  \n",
            "  inflating: Dataset/Train/218/bcc000124.bmp  \n",
            "  inflating: Dataset/Train/218/bcc000125.bmp  \n",
            "  inflating: Dataset/Train/218/bcc000126.bmp  \n",
            "  inflating: Dataset/Train/218/bcc000127.bmp  \n",
            "  inflating: Dataset/Train/218/bcc000128.bmp  \n",
            "  inflating: Dataset/Train/218/bcc000129.bmp  \n",
            "  inflating: Dataset/Train/218/bcc000130.bmp  \n",
            "  inflating: Dataset/Train/218/bcc000131.bmp  \n",
            "  inflating: Dataset/Train/218/bcc000132.bmp  \n",
            "  inflating: Dataset/Train/218/bcc000133.bmp  \n",
            "  inflating: Dataset/Train/218/bcc000134.bmp  \n",
            "  inflating: Dataset/Train/218/bcc000135.bmp  \n",
            "  inflating: Dataset/Train/218/bcc000136.bmp  \n",
            "  inflating: Dataset/Train/218/bcc000137.bmp  \n",
            "  inflating: Dataset/Train/218/bcc000138.bmp  \n",
            "  inflating: Dataset/Train/218/bcc000139.bmp  \n",
            "  inflating: Dataset/Train/218/bcc000140.bmp  \n",
            "  inflating: Dataset/Train/218/bcc000141.bmp  \n",
            "  inflating: Dataset/Train/218/bcc000142.bmp  \n",
            "  inflating: Dataset/Train/218/bcc000143.bmp  \n",
            "  inflating: Dataset/Train/218/bcc000144.bmp  \n",
            "  inflating: Dataset/Train/218/bcc000145.bmp  \n",
            "  inflating: Dataset/Train/218/bcc000146.bmp  \n",
            "  inflating: Dataset/Train/218/bcc000147.bmp  \n",
            "  inflating: Dataset/Train/218/bcc000148.bmp  \n",
            "  inflating: Dataset/Train/218/bcc000149.bmp  \n",
            "  inflating: Dataset/Train/218/bcc000150.bmp  \n",
            "  inflating: Dataset/Train/218/bcc000151.bmp  \n",
            "  inflating: Dataset/Train/218/bcc000152.bmp  \n",
            "  inflating: Dataset/Train/218/bcc000153.bmp  \n",
            "  inflating: Dataset/Train/218/bcc000154.bmp  \n",
            "  inflating: Dataset/Train/218/bcc000155.bmp  \n",
            "  inflating: Dataset/Train/218/bcc000156.bmp  \n",
            "  inflating: Dataset/Train/218/bcc000157.bmp  \n",
            "  inflating: Dataset/Train/218/bcc000158.bmp  \n",
            "  inflating: Dataset/Train/218/bcc000159.bmp  \n",
            "  inflating: Dataset/Train/218/bcc000160.bmp  \n",
            "  inflating: Dataset/Train/218/bcc000161.bmp  \n",
            "  inflating: Dataset/Train/218/bcc000162.bmp  \n",
            "  inflating: Dataset/Train/218/bcc000163.bmp  \n",
            "  inflating: Dataset/Train/218/bcc000164.bmp  \n",
            "  inflating: Dataset/Train/218/bcc000165.bmp  \n",
            "  inflating: Dataset/Train/218/bcc000166.bmp  \n",
            "  inflating: Dataset/Train/218/bcc000167.bmp  \n",
            "  inflating: Dataset/Train/218/bcc000168.bmp  \n",
            "  inflating: Dataset/Train/218/bcc000169.bmp  \n",
            "  inflating: Dataset/Train/218/bcc000170.bmp  \n",
            "  inflating: Dataset/Train/218/bcc000171.bmp  \n",
            "  inflating: Dataset/Train/218/bcc000172.bmp  \n",
            "  inflating: Dataset/Train/218/bcc000173.bmp  \n",
            "  inflating: Dataset/Train/218/bcc000174.bmp  \n",
            "  inflating: Dataset/Train/218/bcc000175.bmp  \n",
            "  inflating: Dataset/Train/218/bcc000176.bmp  \n",
            "  inflating: Dataset/Train/218/bcc000177.bmp  \n",
            "  inflating: Dataset/Train/218/bcc000178.bmp  \n",
            "  inflating: Dataset/Train/218/bcc000179.bmp  \n",
            "  inflating: Dataset/Train/218/bcc000180.bmp  \n",
            "  inflating: Dataset/Train/218/bcc000181.bmp  \n",
            "  inflating: Dataset/Train/218/bcc000182.bmp  \n",
            "  inflating: Dataset/Train/218/bcc000183.bmp  \n",
            "  inflating: Dataset/Train/218/bcc000184.bmp  \n",
            "  inflating: Dataset/Train/218/bcc000185.bmp  \n",
            "  inflating: Dataset/Train/218/bcc000186.bmp  \n",
            "  inflating: Dataset/Train/218/bcc000187.bmp  \n",
            "  inflating: Dataset/Train/218/bcc000188.bmp  \n",
            "  inflating: Dataset/Train/218/bcc000189.bmp  \n",
            "  inflating: Dataset/Train/218/bcc000190.bmp  \n",
            "  inflating: Dataset/Train/218/bcc000191.bmp  \n",
            "  inflating: Dataset/Train/218/bcc000192.bmp  \n",
            "  inflating: Dataset/Train/218/bcc000193.bmp  \n",
            "  inflating: Dataset/Train/218/bcc000194.bmp  \n",
            "  inflating: Dataset/Train/218/bcc000195.bmp  \n",
            "  inflating: Dataset/Train/218/bcc000196.bmp  \n",
            "  inflating: Dataset/Train/218/bcc000197.bmp  \n",
            "  inflating: Dataset/Train/218/bcc000198.bmp  \n",
            "  inflating: Dataset/Train/218/bcc000199.bmp  \n",
            "  inflating: Dataset/Train/218/bcc000200.bmp  \n",
            "  inflating: Dataset/Train/218/bcc000201.bmp  \n",
            "  inflating: Dataset/Train/218/bcc000202.bmp  \n",
            "  inflating: Dataset/Train/218/bcc000203.bmp  \n",
            "  inflating: Dataset/Train/218/bcc000204.bmp  \n",
            "  inflating: Dataset/Train/218/bcc000205.bmp  \n",
            "  inflating: Dataset/Train/218/bcc000206.bmp  \n",
            "  inflating: Dataset/Train/218/bcc000207.bmp  \n",
            "  inflating: Dataset/Train/218/bcc000208.bmp  \n",
            "  inflating: Dataset/Train/218/bcc000209.bmp  \n",
            "  inflating: Dataset/Train/218/bcc000210.bmp  \n",
            "  inflating: Dataset/Train/218/bcc000211.bmp  \n",
            "  inflating: Dataset/Train/218/bcc000212.bmp  \n",
            "  inflating: Dataset/Train/218/bcc000213.bmp  \n",
            "  inflating: Dataset/Train/218/bcc000214.bmp  \n",
            "  inflating: Dataset/Train/218/bcc000215.bmp  \n",
            "  inflating: Dataset/Train/218/bcc000216.bmp  \n",
            "  inflating: Dataset/Train/218/bcc000217.bmp  \n",
            "  inflating: Dataset/Train/218/bcc000218.bmp  \n",
            "  inflating: Dataset/Train/218/bcc000219.bmp  \n",
            "  inflating: Dataset/Train/218/bcc000220.bmp  \n",
            "  inflating: Dataset/Train/218/bcc000221.bmp  \n",
            "  inflating: Dataset/Train/218/bcc000222.bmp  \n",
            "  inflating: Dataset/Train/218/bcc000223.bmp  \n",
            "  inflating: Dataset/Train/218/bcc000224.bmp  \n",
            "  inflating: Dataset/Train/218/bcc000225.bmp  \n",
            "  inflating: Dataset/Train/218/bcc000226.bmp  \n",
            "  inflating: Dataset/Train/218/bcc000227.bmp  \n",
            "  inflating: Dataset/Train/218/bcc000228.bmp  \n",
            "  inflating: Dataset/Train/218/bcc000229.bmp  \n",
            "  inflating: Dataset/Train/218/bcc000230.bmp  \n",
            "  inflating: Dataset/Train/218/bcc000231.bmp  \n",
            "  inflating: Dataset/Train/218/bcc000232.bmp  \n",
            "  inflating: Dataset/Train/218/bcc000233.bmp  \n",
            "  inflating: Dataset/Train/218/bcc000234.bmp  \n",
            "  inflating: Dataset/Train/218/bcc000235.bmp  \n",
            "  inflating: Dataset/Train/218/bcc000236.bmp  \n",
            "  inflating: Dataset/Train/218/bcc000237.bmp  \n",
            "  inflating: Dataset/Train/218/bcc000238.bmp  \n",
            "  inflating: Dataset/Train/218/bcc000239.bmp  \n",
            "   creating: Dataset/Train/219/\n",
            "  inflating: Dataset/Train/219/bcc000000.bmp  \n",
            "  inflating: Dataset/Train/219/bcc000001.bmp  \n",
            "  inflating: Dataset/Train/219/bcc000002.bmp  \n",
            "  inflating: Dataset/Train/219/bcc000003.bmp  \n",
            "  inflating: Dataset/Train/219/bcc000004.bmp  \n",
            "  inflating: Dataset/Train/219/bcc000005.bmp  \n",
            "  inflating: Dataset/Train/219/bcc000006.bmp  \n",
            "  inflating: Dataset/Train/219/bcc000007.bmp  \n",
            "  inflating: Dataset/Train/219/bcc000008.bmp  \n",
            "  inflating: Dataset/Train/219/bcc000009.bmp  \n",
            "  inflating: Dataset/Train/219/bcc000010.bmp  \n",
            "  inflating: Dataset/Train/219/bcc000011.bmp  \n",
            "  inflating: Dataset/Train/219/bcc000012.bmp  \n",
            "  inflating: Dataset/Train/219/bcc000013.bmp  \n",
            "  inflating: Dataset/Train/219/bcc000014.bmp  \n",
            "  inflating: Dataset/Train/219/bcc000015.bmp  \n",
            "  inflating: Dataset/Train/219/bcc000016.bmp  \n",
            "  inflating: Dataset/Train/219/bcc000017.bmp  \n",
            "  inflating: Dataset/Train/219/bcc000018.bmp  \n",
            "  inflating: Dataset/Train/219/bcc000019.bmp  \n",
            "  inflating: Dataset/Train/219/bcc000020.bmp  \n",
            "  inflating: Dataset/Train/219/bcc000021.bmp  \n",
            "  inflating: Dataset/Train/219/bcc000022.bmp  \n",
            "  inflating: Dataset/Train/219/bcc000023.bmp  \n",
            "  inflating: Dataset/Train/219/bcc000024.bmp  \n",
            "  inflating: Dataset/Train/219/bcc000025.bmp  \n",
            "  inflating: Dataset/Train/219/bcc000026.bmp  \n",
            "  inflating: Dataset/Train/219/bcc000027.bmp  \n",
            "  inflating: Dataset/Train/219/bcc000028.bmp  \n",
            "  inflating: Dataset/Train/219/bcc000029.bmp  \n",
            "  inflating: Dataset/Train/219/bcc000030.bmp  \n",
            "  inflating: Dataset/Train/219/bcc000031.bmp  \n",
            "  inflating: Dataset/Train/219/bcc000032.bmp  \n",
            "  inflating: Dataset/Train/219/bcc000033.bmp  \n",
            "  inflating: Dataset/Train/219/bcc000034.bmp  \n",
            "  inflating: Dataset/Train/219/bcc000035.bmp  \n",
            "  inflating: Dataset/Train/219/bcc000036.bmp  \n",
            "  inflating: Dataset/Train/219/bcc000037.bmp  \n",
            "  inflating: Dataset/Train/219/bcc000038.bmp  \n",
            "  inflating: Dataset/Train/219/bcc000039.bmp  \n",
            "  inflating: Dataset/Train/219/bcc000040.bmp  \n",
            "  inflating: Dataset/Train/219/bcc000041.bmp  \n",
            "  inflating: Dataset/Train/219/bcc000042.bmp  \n",
            "  inflating: Dataset/Train/219/bcc000043.bmp  \n",
            "  inflating: Dataset/Train/219/bcc000044.bmp  \n",
            "  inflating: Dataset/Train/219/bcc000045.bmp  \n",
            "  inflating: Dataset/Train/219/bcc000046.bmp  \n",
            "  inflating: Dataset/Train/219/bcc000047.bmp  \n",
            "  inflating: Dataset/Train/219/bcc000048.bmp  \n",
            "  inflating: Dataset/Train/219/bcc000049.bmp  \n",
            "  inflating: Dataset/Train/219/bcc000050.bmp  \n",
            "  inflating: Dataset/Train/219/bcc000051.bmp  \n",
            "  inflating: Dataset/Train/219/bcc000052.bmp  \n",
            "  inflating: Dataset/Train/219/bcc000053.bmp  \n",
            "  inflating: Dataset/Train/219/bcc000054.bmp  \n",
            "  inflating: Dataset/Train/219/bcc000055.bmp  \n",
            "  inflating: Dataset/Train/219/bcc000056.bmp  \n",
            "  inflating: Dataset/Train/219/bcc000057.bmp  \n",
            "  inflating: Dataset/Train/219/bcc000058.bmp  \n",
            "  inflating: Dataset/Train/219/bcc000059.bmp  \n",
            "  inflating: Dataset/Train/219/bcc000060.bmp  \n",
            "  inflating: Dataset/Train/219/bcc000061.bmp  \n",
            "  inflating: Dataset/Train/219/bcc000062.bmp  \n",
            "  inflating: Dataset/Train/219/bcc000063.bmp  \n",
            "  inflating: Dataset/Train/219/bcc000064.bmp  \n",
            "  inflating: Dataset/Train/219/bcc000065.bmp  \n",
            "  inflating: Dataset/Train/219/bcc000066.bmp  \n",
            "  inflating: Dataset/Train/219/bcc000067.bmp  \n",
            "  inflating: Dataset/Train/219/bcc000068.bmp  \n",
            "  inflating: Dataset/Train/219/bcc000069.bmp  \n",
            "  inflating: Dataset/Train/219/bcc000070.bmp  \n",
            "  inflating: Dataset/Train/219/bcc000071.bmp  \n",
            "  inflating: Dataset/Train/219/bcc000072.bmp  \n",
            "  inflating: Dataset/Train/219/bcc000073.bmp  \n",
            "  inflating: Dataset/Train/219/bcc000074.bmp  \n",
            "  inflating: Dataset/Train/219/bcc000075.bmp  \n",
            "  inflating: Dataset/Train/219/bcc000076.bmp  \n",
            "  inflating: Dataset/Train/219/bcc000077.bmp  \n",
            "  inflating: Dataset/Train/219/bcc000078.bmp  \n",
            "  inflating: Dataset/Train/219/bcc000079.bmp  \n",
            "  inflating: Dataset/Train/219/bcc000080.bmp  \n",
            "  inflating: Dataset/Train/219/bcc000081.bmp  \n",
            "  inflating: Dataset/Train/219/bcc000082.bmp  \n",
            "  inflating: Dataset/Train/219/bcc000083.bmp  \n",
            "  inflating: Dataset/Train/219/bcc000084.bmp  \n",
            "  inflating: Dataset/Train/219/bcc000085.bmp  \n",
            "  inflating: Dataset/Train/219/bcc000086.bmp  \n",
            "  inflating: Dataset/Train/219/bcc000087.bmp  \n",
            "  inflating: Dataset/Train/219/bcc000088.bmp  \n",
            "  inflating: Dataset/Train/219/bcc000089.bmp  \n",
            "  inflating: Dataset/Train/219/bcc000090.bmp  \n",
            "  inflating: Dataset/Train/219/bcc000091.bmp  \n",
            "  inflating: Dataset/Train/219/bcc000092.bmp  \n",
            "  inflating: Dataset/Train/219/bcc000093.bmp  \n",
            "  inflating: Dataset/Train/219/bcc000094.bmp  \n",
            "  inflating: Dataset/Train/219/bcc000095.bmp  \n",
            "  inflating: Dataset/Train/219/bcc000096.bmp  \n",
            "  inflating: Dataset/Train/219/bcc000097.bmp  \n",
            "  inflating: Dataset/Train/219/bcc000098.bmp  \n",
            "  inflating: Dataset/Train/219/bcc000099.bmp  \n",
            "  inflating: Dataset/Train/219/bcc000100.bmp  \n",
            "  inflating: Dataset/Train/219/bcc000101.bmp  \n",
            "  inflating: Dataset/Train/219/bcc000102.bmp  \n",
            "  inflating: Dataset/Train/219/bcc000103.bmp  \n",
            "  inflating: Dataset/Train/219/bcc000104.bmp  \n",
            "  inflating: Dataset/Train/219/bcc000105.bmp  \n",
            "  inflating: Dataset/Train/219/bcc000106.bmp  \n",
            "  inflating: Dataset/Train/219/bcc000107.bmp  \n",
            "  inflating: Dataset/Train/219/bcc000108.bmp  \n",
            "  inflating: Dataset/Train/219/bcc000109.bmp  \n",
            "  inflating: Dataset/Train/219/bcc000110.bmp  \n",
            "  inflating: Dataset/Train/219/bcc000111.bmp  \n",
            "  inflating: Dataset/Train/219/bcc000112.bmp  \n",
            "  inflating: Dataset/Train/219/bcc000113.bmp  \n",
            "  inflating: Dataset/Train/219/bcc000114.bmp  \n",
            "  inflating: Dataset/Train/219/bcc000115.bmp  \n",
            "  inflating: Dataset/Train/219/bcc000116.bmp  \n",
            "  inflating: Dataset/Train/219/bcc000117.bmp  \n",
            "  inflating: Dataset/Train/219/bcc000118.bmp  \n",
            "  inflating: Dataset/Train/219/bcc000119.bmp  \n",
            "  inflating: Dataset/Train/219/bcc000120.bmp  \n",
            "  inflating: Dataset/Train/219/bcc000121.bmp  \n",
            "  inflating: Dataset/Train/219/bcc000122.bmp  \n",
            "  inflating: Dataset/Train/219/bcc000123.bmp  \n",
            "  inflating: Dataset/Train/219/bcc000124.bmp  \n",
            "  inflating: Dataset/Train/219/bcc000125.bmp  \n",
            "  inflating: Dataset/Train/219/bcc000126.bmp  \n",
            "  inflating: Dataset/Train/219/bcc000127.bmp  \n",
            "  inflating: Dataset/Train/219/bcc000128.bmp  \n",
            "  inflating: Dataset/Train/219/bcc000129.bmp  \n",
            "  inflating: Dataset/Train/219/bcc000130.bmp  \n",
            "  inflating: Dataset/Train/219/bcc000131.bmp  \n",
            "  inflating: Dataset/Train/219/bcc000132.bmp  \n",
            "  inflating: Dataset/Train/219/bcc000133.bmp  \n",
            "  inflating: Dataset/Train/219/bcc000134.bmp  \n",
            "  inflating: Dataset/Train/219/bcc000135.bmp  \n",
            "  inflating: Dataset/Train/219/bcc000136.bmp  \n",
            "  inflating: Dataset/Train/219/bcc000137.bmp  \n",
            "  inflating: Dataset/Train/219/bcc000138.bmp  \n",
            "  inflating: Dataset/Train/219/bcc000139.bmp  \n",
            "  inflating: Dataset/Train/219/bcc000140.bmp  \n",
            "  inflating: Dataset/Train/219/bcc000141.bmp  \n",
            "  inflating: Dataset/Train/219/bcc000142.bmp  \n",
            "  inflating: Dataset/Train/219/bcc000143.bmp  \n",
            "  inflating: Dataset/Train/219/bcc000144.bmp  \n",
            "  inflating: Dataset/Train/219/bcc000145.bmp  \n",
            "  inflating: Dataset/Train/219/bcc000146.bmp  \n",
            "  inflating: Dataset/Train/219/bcc000147.bmp  \n",
            "  inflating: Dataset/Train/219/bcc000148.bmp  \n",
            "  inflating: Dataset/Train/219/bcc000149.bmp  \n",
            "  inflating: Dataset/Train/219/bcc000150.bmp  \n",
            "  inflating: Dataset/Train/219/bcc000151.bmp  \n",
            "  inflating: Dataset/Train/219/bcc000152.bmp  \n",
            "  inflating: Dataset/Train/219/bcc000153.bmp  \n",
            "  inflating: Dataset/Train/219/bcc000154.bmp  \n",
            "  inflating: Dataset/Train/219/bcc000155.bmp  \n",
            "  inflating: Dataset/Train/219/bcc000156.bmp  \n",
            "  inflating: Dataset/Train/219/bcc000157.bmp  \n",
            "  inflating: Dataset/Train/219/bcc000158.bmp  \n",
            "  inflating: Dataset/Train/219/bcc000159.bmp  \n",
            "  inflating: Dataset/Train/219/bcc000160.bmp  \n",
            "  inflating: Dataset/Train/219/bcc000161.bmp  \n",
            "  inflating: Dataset/Train/219/bcc000162.bmp  \n",
            "  inflating: Dataset/Train/219/bcc000163.bmp  \n",
            "  inflating: Dataset/Train/219/bcc000164.bmp  \n",
            "  inflating: Dataset/Train/219/bcc000165.bmp  \n",
            "  inflating: Dataset/Train/219/bcc000166.bmp  \n",
            "  inflating: Dataset/Train/219/bcc000167.bmp  \n",
            "  inflating: Dataset/Train/219/bcc000168.bmp  \n",
            "  inflating: Dataset/Train/219/bcc000169.bmp  \n",
            "  inflating: Dataset/Train/219/bcc000170.bmp  \n",
            "  inflating: Dataset/Train/219/bcc000171.bmp  \n",
            "  inflating: Dataset/Train/219/bcc000172.bmp  \n",
            "  inflating: Dataset/Train/219/bcc000173.bmp  \n",
            "  inflating: Dataset/Train/219/bcc000174.bmp  \n",
            "  inflating: Dataset/Train/219/bcc000175.bmp  \n",
            "  inflating: Dataset/Train/219/bcc000176.bmp  \n",
            "  inflating: Dataset/Train/219/bcc000177.bmp  \n",
            "  inflating: Dataset/Train/219/bcc000178.bmp  \n",
            "  inflating: Dataset/Train/219/bcc000179.bmp  \n",
            "  inflating: Dataset/Train/219/bcc000180.bmp  \n",
            "  inflating: Dataset/Train/219/bcc000181.bmp  \n",
            "  inflating: Dataset/Train/219/bcc000182.bmp  \n",
            "  inflating: Dataset/Train/219/bcc000183.bmp  \n",
            "  inflating: Dataset/Train/219/bcc000184.bmp  \n",
            "  inflating: Dataset/Train/219/bcc000185.bmp  \n",
            "  inflating: Dataset/Train/219/bcc000186.bmp  \n",
            "  inflating: Dataset/Train/219/bcc000187.bmp  \n",
            "  inflating: Dataset/Train/219/bcc000188.bmp  \n",
            "  inflating: Dataset/Train/219/bcc000189.bmp  \n",
            "  inflating: Dataset/Train/219/bcc000190.bmp  \n",
            "  inflating: Dataset/Train/219/bcc000191.bmp  \n",
            "  inflating: Dataset/Train/219/bcc000192.bmp  \n",
            "  inflating: Dataset/Train/219/bcc000193.bmp  \n",
            "  inflating: Dataset/Train/219/bcc000194.bmp  \n",
            "  inflating: Dataset/Train/219/bcc000195.bmp  \n",
            "  inflating: Dataset/Train/219/bcc000196.bmp  \n",
            "  inflating: Dataset/Train/219/bcc000197.bmp  \n",
            "  inflating: Dataset/Train/219/bcc000198.bmp  \n",
            "  inflating: Dataset/Train/219/bcc000199.bmp  \n",
            "  inflating: Dataset/Train/219/bcc000200.bmp  \n",
            "  inflating: Dataset/Train/219/bcc000201.bmp  \n",
            "  inflating: Dataset/Train/219/bcc000202.bmp  \n",
            "  inflating: Dataset/Train/219/bcc000203.bmp  \n",
            "  inflating: Dataset/Train/219/bcc000204.bmp  \n",
            "  inflating: Dataset/Train/219/bcc000205.bmp  \n",
            "  inflating: Dataset/Train/219/bcc000206.bmp  \n",
            "  inflating: Dataset/Train/219/bcc000207.bmp  \n",
            "  inflating: Dataset/Train/219/bcc000208.bmp  \n",
            "  inflating: Dataset/Train/219/bcc000209.bmp  \n",
            "  inflating: Dataset/Train/219/bcc000210.bmp  \n",
            "  inflating: Dataset/Train/219/bcc000211.bmp  \n",
            "  inflating: Dataset/Train/219/bcc000212.bmp  \n",
            "  inflating: Dataset/Train/219/bcc000213.bmp  \n",
            "  inflating: Dataset/Train/219/bcc000214.bmp  \n",
            "  inflating: Dataset/Train/219/bcc000215.bmp  \n",
            "  inflating: Dataset/Train/219/bcc000216.bmp  \n",
            "  inflating: Dataset/Train/219/bcc000217.bmp  \n",
            "  inflating: Dataset/Train/219/bcc000218.bmp  \n",
            "  inflating: Dataset/Train/219/bcc000219.bmp  \n",
            "  inflating: Dataset/Train/219/bcc000220.bmp  \n",
            "  inflating: Dataset/Train/219/bcc000221.bmp  \n",
            "  inflating: Dataset/Train/219/bcc000222.bmp  \n",
            "  inflating: Dataset/Train/219/bcc000223.bmp  \n",
            "  inflating: Dataset/Train/219/bcc000224.bmp  \n",
            "  inflating: Dataset/Train/219/bcc000225.bmp  \n",
            "  inflating: Dataset/Train/219/bcc000226.bmp  \n",
            "  inflating: Dataset/Train/219/bcc000227.bmp  \n",
            "  inflating: Dataset/Train/219/bcc000228.bmp  \n",
            "  inflating: Dataset/Train/219/bcc000229.bmp  \n",
            "  inflating: Dataset/Train/219/bcc000230.bmp  \n",
            "  inflating: Dataset/Train/219/bcc000231.bmp  \n",
            "  inflating: Dataset/Train/219/bcc000232.bmp  \n",
            "  inflating: Dataset/Train/219/bcc000233.bmp  \n",
            "  inflating: Dataset/Train/219/bcc000234.bmp  \n",
            "  inflating: Dataset/Train/219/bcc000235.bmp  \n",
            "  inflating: Dataset/Train/219/bcc000236.bmp  \n",
            "  inflating: Dataset/Train/219/bcc000237.bmp  \n",
            "  inflating: Dataset/Train/219/bcc000238.bmp  \n",
            "  inflating: Dataset/Train/219/bcc000239.bmp  \n",
            "   creating: Dataset/Train/220/\n",
            "  inflating: Dataset/Train/220/bcc000000.bmp  \n",
            "  inflating: Dataset/Train/220/bcc000001.bmp  \n",
            "  inflating: Dataset/Train/220/bcc000002.bmp  \n",
            "  inflating: Dataset/Train/220/bcc000003.bmp  \n",
            "  inflating: Dataset/Train/220/bcc000004.bmp  \n",
            "  inflating: Dataset/Train/220/bcc000005.bmp  \n",
            "  inflating: Dataset/Train/220/bcc000006.bmp  \n",
            "  inflating: Dataset/Train/220/bcc000007.bmp  \n",
            "  inflating: Dataset/Train/220/bcc000008.bmp  \n",
            "  inflating: Dataset/Train/220/bcc000009.bmp  \n",
            "  inflating: Dataset/Train/220/bcc000010.bmp  \n",
            "  inflating: Dataset/Train/220/bcc000011.bmp  \n",
            "  inflating: Dataset/Train/220/bcc000012.bmp  \n",
            "  inflating: Dataset/Train/220/bcc000013.bmp  \n",
            "  inflating: Dataset/Train/220/bcc000014.bmp  \n",
            "  inflating: Dataset/Train/220/bcc000015.bmp  \n",
            "  inflating: Dataset/Train/220/bcc000016.bmp  \n",
            "  inflating: Dataset/Train/220/bcc000017.bmp  \n",
            "  inflating: Dataset/Train/220/bcc000018.bmp  \n",
            "  inflating: Dataset/Train/220/bcc000019.bmp  \n",
            "  inflating: Dataset/Train/220/bcc000020.bmp  \n",
            "  inflating: Dataset/Train/220/bcc000021.bmp  \n",
            "  inflating: Dataset/Train/220/bcc000022.bmp  \n",
            "  inflating: Dataset/Train/220/bcc000023.bmp  \n",
            "  inflating: Dataset/Train/220/bcc000024.bmp  \n",
            "  inflating: Dataset/Train/220/bcc000025.bmp  \n",
            "  inflating: Dataset/Train/220/bcc000026.bmp  \n",
            "  inflating: Dataset/Train/220/bcc000027.bmp  \n",
            "  inflating: Dataset/Train/220/bcc000028.bmp  \n",
            "  inflating: Dataset/Train/220/bcc000029.bmp  \n",
            "  inflating: Dataset/Train/220/bcc000030.bmp  \n",
            "  inflating: Dataset/Train/220/bcc000031.bmp  \n",
            "  inflating: Dataset/Train/220/bcc000032.bmp  \n",
            "  inflating: Dataset/Train/220/bcc000033.bmp  \n",
            "  inflating: Dataset/Train/220/bcc000034.bmp  \n",
            "  inflating: Dataset/Train/220/bcc000035.bmp  \n",
            "  inflating: Dataset/Train/220/bcc000036.bmp  \n",
            "  inflating: Dataset/Train/220/bcc000037.bmp  \n",
            "  inflating: Dataset/Train/220/bcc000038.bmp  \n",
            "  inflating: Dataset/Train/220/bcc000039.bmp  \n",
            "  inflating: Dataset/Train/220/bcc000040.bmp  \n",
            "  inflating: Dataset/Train/220/bcc000041.bmp  \n",
            "  inflating: Dataset/Train/220/bcc000042.bmp  \n",
            "  inflating: Dataset/Train/220/bcc000043.bmp  \n",
            "  inflating: Dataset/Train/220/bcc000044.bmp  \n",
            "  inflating: Dataset/Train/220/bcc000045.bmp  \n",
            "  inflating: Dataset/Train/220/bcc000046.bmp  \n",
            "  inflating: Dataset/Train/220/bcc000047.bmp  \n",
            "  inflating: Dataset/Train/220/bcc000048.bmp  \n",
            "  inflating: Dataset/Train/220/bcc000049.bmp  \n",
            "  inflating: Dataset/Train/220/bcc000050.bmp  \n",
            "  inflating: Dataset/Train/220/bcc000051.bmp  \n",
            "  inflating: Dataset/Train/220/bcc000052.bmp  \n",
            "  inflating: Dataset/Train/220/bcc000053.bmp  \n",
            "  inflating: Dataset/Train/220/bcc000054.bmp  \n",
            "  inflating: Dataset/Train/220/bcc000055.bmp  \n",
            "  inflating: Dataset/Train/220/bcc000056.bmp  \n",
            "  inflating: Dataset/Train/220/bcc000057.bmp  \n",
            "  inflating: Dataset/Train/220/bcc000058.bmp  \n",
            "  inflating: Dataset/Train/220/bcc000059.bmp  \n",
            "  inflating: Dataset/Train/220/bcc000060.bmp  \n",
            "  inflating: Dataset/Train/220/bcc000061.bmp  \n",
            "  inflating: Dataset/Train/220/bcc000062.bmp  \n",
            "  inflating: Dataset/Train/220/bcc000063.bmp  \n",
            "  inflating: Dataset/Train/220/bcc000064.bmp  \n",
            "  inflating: Dataset/Train/220/bcc000065.bmp  \n",
            "  inflating: Dataset/Train/220/bcc000066.bmp  \n",
            "  inflating: Dataset/Train/220/bcc000067.bmp  \n",
            "  inflating: Dataset/Train/220/bcc000068.bmp  \n",
            "  inflating: Dataset/Train/220/bcc000069.bmp  \n",
            "  inflating: Dataset/Train/220/bcc000070.bmp  \n",
            "  inflating: Dataset/Train/220/bcc000071.bmp  \n",
            "  inflating: Dataset/Train/220/bcc000072.bmp  \n",
            "  inflating: Dataset/Train/220/bcc000073.bmp  \n",
            "  inflating: Dataset/Train/220/bcc000074.bmp  \n",
            "  inflating: Dataset/Train/220/bcc000075.bmp  \n",
            "  inflating: Dataset/Train/220/bcc000076.bmp  \n",
            "  inflating: Dataset/Train/220/bcc000077.bmp  \n",
            "  inflating: Dataset/Train/220/bcc000078.bmp  \n",
            "  inflating: Dataset/Train/220/bcc000079.bmp  \n",
            "  inflating: Dataset/Train/220/bcc000080.bmp  \n",
            "  inflating: Dataset/Train/220/bcc000081.bmp  \n",
            "  inflating: Dataset/Train/220/bcc000082.bmp  \n",
            "  inflating: Dataset/Train/220/bcc000083.bmp  \n",
            "  inflating: Dataset/Train/220/bcc000084.bmp  \n",
            "  inflating: Dataset/Train/220/bcc000085.bmp  \n",
            "  inflating: Dataset/Train/220/bcc000086.bmp  \n",
            "  inflating: Dataset/Train/220/bcc000087.bmp  \n",
            "  inflating: Dataset/Train/220/bcc000088.bmp  \n",
            "  inflating: Dataset/Train/220/bcc000089.bmp  \n",
            "  inflating: Dataset/Train/220/bcc000090.bmp  \n",
            "  inflating: Dataset/Train/220/bcc000091.bmp  \n",
            "  inflating: Dataset/Train/220/bcc000092.bmp  \n",
            "  inflating: Dataset/Train/220/bcc000093.bmp  \n",
            "  inflating: Dataset/Train/220/bcc000094.bmp  \n",
            "  inflating: Dataset/Train/220/bcc000095.bmp  \n",
            "  inflating: Dataset/Train/220/bcc000096.bmp  \n",
            "  inflating: Dataset/Train/220/bcc000097.bmp  \n",
            "  inflating: Dataset/Train/220/bcc000098.bmp  \n",
            "  inflating: Dataset/Train/220/bcc000099.bmp  \n",
            "  inflating: Dataset/Train/220/bcc000100.bmp  \n",
            "  inflating: Dataset/Train/220/bcc000101.bmp  \n",
            "  inflating: Dataset/Train/220/bcc000102.bmp  \n",
            "  inflating: Dataset/Train/220/bcc000103.bmp  \n",
            "  inflating: Dataset/Train/220/bcc000104.bmp  \n",
            "  inflating: Dataset/Train/220/bcc000105.bmp  \n",
            "  inflating: Dataset/Train/220/bcc000106.bmp  \n",
            "  inflating: Dataset/Train/220/bcc000107.bmp  \n",
            "  inflating: Dataset/Train/220/bcc000108.bmp  \n",
            "  inflating: Dataset/Train/220/bcc000109.bmp  \n",
            "  inflating: Dataset/Train/220/bcc000110.bmp  \n",
            "  inflating: Dataset/Train/220/bcc000111.bmp  \n",
            "  inflating: Dataset/Train/220/bcc000112.bmp  \n",
            "  inflating: Dataset/Train/220/bcc000113.bmp  \n",
            "  inflating: Dataset/Train/220/bcc000114.bmp  \n",
            "  inflating: Dataset/Train/220/bcc000115.bmp  \n",
            "  inflating: Dataset/Train/220/bcc000116.bmp  \n",
            "  inflating: Dataset/Train/220/bcc000117.bmp  \n",
            "  inflating: Dataset/Train/220/bcc000118.bmp  \n",
            "  inflating: Dataset/Train/220/bcc000119.bmp  \n",
            "  inflating: Dataset/Train/220/bcc000120.bmp  \n",
            "  inflating: Dataset/Train/220/bcc000121.bmp  \n",
            "  inflating: Dataset/Train/220/bcc000122.bmp  \n",
            "  inflating: Dataset/Train/220/bcc000123.bmp  \n",
            "  inflating: Dataset/Train/220/bcc000124.bmp  \n",
            "  inflating: Dataset/Train/220/bcc000125.bmp  \n",
            "  inflating: Dataset/Train/220/bcc000126.bmp  \n",
            "  inflating: Dataset/Train/220/bcc000127.bmp  \n",
            "  inflating: Dataset/Train/220/bcc000128.bmp  \n",
            "  inflating: Dataset/Train/220/bcc000129.bmp  \n",
            "  inflating: Dataset/Train/220/bcc000130.bmp  \n",
            "  inflating: Dataset/Train/220/bcc000131.bmp  \n",
            "  inflating: Dataset/Train/220/bcc000132.bmp  \n",
            "  inflating: Dataset/Train/220/bcc000133.bmp  \n",
            "  inflating: Dataset/Train/220/bcc000134.bmp  \n",
            "  inflating: Dataset/Train/220/bcc000135.bmp  \n",
            "  inflating: Dataset/Train/220/bcc000136.bmp  \n",
            "  inflating: Dataset/Train/220/bcc000137.bmp  \n",
            "  inflating: Dataset/Train/220/bcc000138.bmp  \n",
            "  inflating: Dataset/Train/220/bcc000139.bmp  \n",
            "  inflating: Dataset/Train/220/bcc000140.bmp  \n",
            "  inflating: Dataset/Train/220/bcc000141.bmp  \n",
            "  inflating: Dataset/Train/220/bcc000142.bmp  \n",
            "  inflating: Dataset/Train/220/bcc000143.bmp  \n",
            "  inflating: Dataset/Train/220/bcc000144.bmp  \n",
            "  inflating: Dataset/Train/220/bcc000145.bmp  \n",
            "  inflating: Dataset/Train/220/bcc000146.bmp  \n",
            "  inflating: Dataset/Train/220/bcc000147.bmp  \n",
            "  inflating: Dataset/Train/220/bcc000148.bmp  \n",
            "  inflating: Dataset/Train/220/bcc000149.bmp  \n",
            "  inflating: Dataset/Train/220/bcc000150.bmp  \n",
            "  inflating: Dataset/Train/220/bcc000151.bmp  \n",
            "  inflating: Dataset/Train/220/bcc000152.bmp  \n",
            "  inflating: Dataset/Train/220/bcc000153.bmp  \n",
            "  inflating: Dataset/Train/220/bcc000154.bmp  \n",
            "  inflating: Dataset/Train/220/bcc000155.bmp  \n",
            "  inflating: Dataset/Train/220/bcc000156.bmp  \n",
            "  inflating: Dataset/Train/220/bcc000157.bmp  \n",
            "  inflating: Dataset/Train/220/bcc000158.bmp  \n",
            "  inflating: Dataset/Train/220/bcc000159.bmp  \n",
            "  inflating: Dataset/Train/220/bcc000160.bmp  \n",
            "  inflating: Dataset/Train/220/bcc000161.bmp  \n",
            "  inflating: Dataset/Train/220/bcc000162.bmp  \n",
            "  inflating: Dataset/Train/220/bcc000163.bmp  \n",
            "  inflating: Dataset/Train/220/bcc000164.bmp  \n",
            "  inflating: Dataset/Train/220/bcc000165.bmp  \n",
            "  inflating: Dataset/Train/220/bcc000166.bmp  \n",
            "  inflating: Dataset/Train/220/bcc000167.bmp  \n",
            "  inflating: Dataset/Train/220/bcc000168.bmp  \n",
            "  inflating: Dataset/Train/220/bcc000169.bmp  \n",
            "  inflating: Dataset/Train/220/bcc000170.bmp  \n",
            "  inflating: Dataset/Train/220/bcc000171.bmp  \n",
            "  inflating: Dataset/Train/220/bcc000172.bmp  \n",
            "  inflating: Dataset/Train/220/bcc000173.bmp  \n",
            "  inflating: Dataset/Train/220/bcc000174.bmp  \n",
            "  inflating: Dataset/Train/220/bcc000175.bmp  \n",
            "  inflating: Dataset/Train/220/bcc000176.bmp  \n",
            "  inflating: Dataset/Train/220/bcc000177.bmp  \n",
            "  inflating: Dataset/Train/220/bcc000178.bmp  \n",
            "  inflating: Dataset/Train/220/bcc000179.bmp  \n",
            "  inflating: Dataset/Train/220/bcc000180.bmp  \n",
            "  inflating: Dataset/Train/220/bcc000181.bmp  \n",
            "  inflating: Dataset/Train/220/bcc000182.bmp  \n",
            "  inflating: Dataset/Train/220/bcc000183.bmp  \n",
            "  inflating: Dataset/Train/220/bcc000184.bmp  \n",
            "  inflating: Dataset/Train/220/bcc000185.bmp  \n",
            "  inflating: Dataset/Train/220/bcc000186.bmp  \n",
            "  inflating: Dataset/Train/220/bcc000187.bmp  \n",
            "  inflating: Dataset/Train/220/bcc000188.bmp  \n",
            "  inflating: Dataset/Train/220/bcc000189.bmp  \n",
            "  inflating: Dataset/Train/220/bcc000190.bmp  \n",
            "  inflating: Dataset/Train/220/bcc000191.bmp  \n",
            "  inflating: Dataset/Train/220/bcc000192.bmp  \n",
            "  inflating: Dataset/Train/220/bcc000193.bmp  \n",
            "  inflating: Dataset/Train/220/bcc000194.bmp  \n",
            "  inflating: Dataset/Train/220/bcc000195.bmp  \n",
            "  inflating: Dataset/Train/220/bcc000196.bmp  \n",
            "  inflating: Dataset/Train/220/bcc000197.bmp  \n",
            "  inflating: Dataset/Train/220/bcc000198.bmp  \n",
            "  inflating: Dataset/Train/220/bcc000199.bmp  \n",
            "  inflating: Dataset/Train/220/bcc000200.bmp  \n",
            "  inflating: Dataset/Train/220/bcc000201.bmp  \n",
            "  inflating: Dataset/Train/220/bcc000202.bmp  \n",
            "  inflating: Dataset/Train/220/bcc000203.bmp  \n",
            "  inflating: Dataset/Train/220/bcc000204.bmp  \n",
            "  inflating: Dataset/Train/220/bcc000205.bmp  \n",
            "  inflating: Dataset/Train/220/bcc000206.bmp  \n",
            "  inflating: Dataset/Train/220/bcc000207.bmp  \n",
            "  inflating: Dataset/Train/220/bcc000208.bmp  \n",
            "  inflating: Dataset/Train/220/bcc000209.bmp  \n",
            "  inflating: Dataset/Train/220/bcc000210.bmp  \n",
            "  inflating: Dataset/Train/220/bcc000211.bmp  \n",
            "  inflating: Dataset/Train/220/bcc000212.bmp  \n",
            "  inflating: Dataset/Train/220/bcc000213.bmp  \n",
            "  inflating: Dataset/Train/220/bcc000214.bmp  \n",
            "  inflating: Dataset/Train/220/bcc000215.bmp  \n",
            "  inflating: Dataset/Train/220/bcc000216.bmp  \n",
            "  inflating: Dataset/Train/220/bcc000217.bmp  \n",
            "  inflating: Dataset/Train/220/bcc000218.bmp  \n",
            "  inflating: Dataset/Train/220/bcc000219.bmp  \n",
            "  inflating: Dataset/Train/220/bcc000220.bmp  \n",
            "  inflating: Dataset/Train/220/bcc000221.bmp  \n",
            "  inflating: Dataset/Train/220/bcc000222.bmp  \n",
            "  inflating: Dataset/Train/220/bcc000223.bmp  \n",
            "  inflating: Dataset/Train/220/bcc000224.bmp  \n",
            "  inflating: Dataset/Train/220/bcc000225.bmp  \n",
            "  inflating: Dataset/Train/220/bcc000226.bmp  \n",
            "  inflating: Dataset/Train/220/bcc000227.bmp  \n",
            "  inflating: Dataset/Train/220/bcc000228.bmp  \n",
            "  inflating: Dataset/Train/220/bcc000229.bmp  \n",
            "  inflating: Dataset/Train/220/bcc000230.bmp  \n",
            "  inflating: Dataset/Train/220/bcc000231.bmp  \n",
            "  inflating: Dataset/Train/220/bcc000232.bmp  \n",
            "  inflating: Dataset/Train/220/bcc000233.bmp  \n",
            "  inflating: Dataset/Train/220/bcc000234.bmp  \n",
            "  inflating: Dataset/Train/220/bcc000235.bmp  \n",
            "  inflating: Dataset/Train/220/bcc000236.bmp  \n",
            "  inflating: Dataset/Train/220/bcc000237.bmp  \n",
            "  inflating: Dataset/Train/220/bcc000238.bmp  \n",
            "  inflating: Dataset/Train/220/bcc000239.bmp  \n",
            "   creating: Dataset/Train/221/\n",
            "  inflating: Dataset/Train/221/bcc000000.bmp  \n",
            "  inflating: Dataset/Train/221/bcc000001.bmp  \n",
            "  inflating: Dataset/Train/221/bcc000002.bmp  \n",
            "  inflating: Dataset/Train/221/bcc000003.bmp  \n",
            "  inflating: Dataset/Train/221/bcc000004.bmp  \n",
            "  inflating: Dataset/Train/221/bcc000005.bmp  \n",
            "  inflating: Dataset/Train/221/bcc000006.bmp  \n",
            "  inflating: Dataset/Train/221/bcc000007.bmp  \n",
            "  inflating: Dataset/Train/221/bcc000008.bmp  \n",
            "  inflating: Dataset/Train/221/bcc000009.bmp  \n",
            "  inflating: Dataset/Train/221/bcc000010.bmp  \n",
            "  inflating: Dataset/Train/221/bcc000011.bmp  \n",
            "  inflating: Dataset/Train/221/bcc000012.bmp  \n",
            "  inflating: Dataset/Train/221/bcc000013.bmp  \n",
            "  inflating: Dataset/Train/221/bcc000014.bmp  \n",
            "  inflating: Dataset/Train/221/bcc000015.bmp  \n",
            "  inflating: Dataset/Train/221/bcc000016.bmp  \n",
            "  inflating: Dataset/Train/221/bcc000017.bmp  \n",
            "  inflating: Dataset/Train/221/bcc000018.bmp  \n",
            "  inflating: Dataset/Train/221/bcc000019.bmp  \n",
            "  inflating: Dataset/Train/221/bcc000020.bmp  \n",
            "  inflating: Dataset/Train/221/bcc000021.bmp  \n",
            "  inflating: Dataset/Train/221/bcc000022.bmp  \n",
            "  inflating: Dataset/Train/221/bcc000023.bmp  \n",
            "  inflating: Dataset/Train/221/bcc000024.bmp  \n",
            "  inflating: Dataset/Train/221/bcc000025.bmp  \n",
            "  inflating: Dataset/Train/221/bcc000026.bmp  \n",
            "  inflating: Dataset/Train/221/bcc000027.bmp  \n",
            "  inflating: Dataset/Train/221/bcc000028.bmp  \n",
            "  inflating: Dataset/Train/221/bcc000029.bmp  \n",
            "  inflating: Dataset/Train/221/bcc000030.bmp  \n",
            "  inflating: Dataset/Train/221/bcc000031.bmp  \n",
            "  inflating: Dataset/Train/221/bcc000032.bmp  \n",
            "  inflating: Dataset/Train/221/bcc000033.bmp  \n",
            "  inflating: Dataset/Train/221/bcc000034.bmp  \n",
            "  inflating: Dataset/Train/221/bcc000035.bmp  \n",
            "  inflating: Dataset/Train/221/bcc000036.bmp  \n",
            "  inflating: Dataset/Train/221/bcc000037.bmp  \n",
            "  inflating: Dataset/Train/221/bcc000038.bmp  \n",
            "  inflating: Dataset/Train/221/bcc000039.bmp  \n",
            "  inflating: Dataset/Train/221/bcc000040.bmp  \n",
            "  inflating: Dataset/Train/221/bcc000041.bmp  \n",
            "  inflating: Dataset/Train/221/bcc000042.bmp  \n",
            "  inflating: Dataset/Train/221/bcc000043.bmp  \n",
            "  inflating: Dataset/Train/221/bcc000044.bmp  \n",
            "  inflating: Dataset/Train/221/bcc000045.bmp  \n",
            "  inflating: Dataset/Train/221/bcc000046.bmp  \n",
            "  inflating: Dataset/Train/221/bcc000047.bmp  \n",
            "  inflating: Dataset/Train/221/bcc000048.bmp  \n",
            "  inflating: Dataset/Train/221/bcc000049.bmp  \n",
            "  inflating: Dataset/Train/221/bcc000050.bmp  \n",
            "  inflating: Dataset/Train/221/bcc000051.bmp  \n",
            "  inflating: Dataset/Train/221/bcc000052.bmp  \n",
            "  inflating: Dataset/Train/221/bcc000053.bmp  \n",
            "  inflating: Dataset/Train/221/bcc000054.bmp  \n",
            "  inflating: Dataset/Train/221/bcc000055.bmp  \n",
            "  inflating: Dataset/Train/221/bcc000056.bmp  \n",
            "  inflating: Dataset/Train/221/bcc000057.bmp  \n",
            "  inflating: Dataset/Train/221/bcc000058.bmp  \n",
            "  inflating: Dataset/Train/221/bcc000059.bmp  \n",
            "  inflating: Dataset/Train/221/bcc000060.bmp  \n",
            "  inflating: Dataset/Train/221/bcc000061.bmp  \n",
            "  inflating: Dataset/Train/221/bcc000062.bmp  \n",
            "  inflating: Dataset/Train/221/bcc000063.bmp  \n",
            "  inflating: Dataset/Train/221/bcc000064.bmp  \n",
            "  inflating: Dataset/Train/221/bcc000065.bmp  \n",
            "  inflating: Dataset/Train/221/bcc000066.bmp  \n",
            "  inflating: Dataset/Train/221/bcc000067.bmp  \n",
            "  inflating: Dataset/Train/221/bcc000068.bmp  \n",
            "  inflating: Dataset/Train/221/bcc000069.bmp  \n",
            "  inflating: Dataset/Train/221/bcc000070.bmp  \n",
            "  inflating: Dataset/Train/221/bcc000071.bmp  \n",
            "  inflating: Dataset/Train/221/bcc000072.bmp  \n",
            "  inflating: Dataset/Train/221/bcc000073.bmp  \n",
            "  inflating: Dataset/Train/221/bcc000074.bmp  \n",
            "  inflating: Dataset/Train/221/bcc000075.bmp  \n",
            "  inflating: Dataset/Train/221/bcc000076.bmp  \n",
            "  inflating: Dataset/Train/221/bcc000077.bmp  \n",
            "  inflating: Dataset/Train/221/bcc000078.bmp  \n",
            "  inflating: Dataset/Train/221/bcc000079.bmp  \n",
            "  inflating: Dataset/Train/221/bcc000080.bmp  \n",
            "  inflating: Dataset/Train/221/bcc000081.bmp  \n",
            "  inflating: Dataset/Train/221/bcc000082.bmp  \n",
            "  inflating: Dataset/Train/221/bcc000083.bmp  \n",
            "  inflating: Dataset/Train/221/bcc000084.bmp  \n",
            "  inflating: Dataset/Train/221/bcc000085.bmp  \n",
            "  inflating: Dataset/Train/221/bcc000086.bmp  \n",
            "  inflating: Dataset/Train/221/bcc000087.bmp  \n",
            "  inflating: Dataset/Train/221/bcc000088.bmp  \n",
            "  inflating: Dataset/Train/221/bcc000089.bmp  \n",
            "  inflating: Dataset/Train/221/bcc000090.bmp  \n",
            "  inflating: Dataset/Train/221/bcc000091.bmp  \n",
            "  inflating: Dataset/Train/221/bcc000092.bmp  \n",
            "  inflating: Dataset/Train/221/bcc000093.bmp  \n",
            "  inflating: Dataset/Train/221/bcc000094.bmp  \n",
            "  inflating: Dataset/Train/221/bcc000095.bmp  \n",
            "  inflating: Dataset/Train/221/bcc000096.bmp  \n",
            "  inflating: Dataset/Train/221/bcc000097.bmp  \n",
            "  inflating: Dataset/Train/221/bcc000098.bmp  \n",
            "  inflating: Dataset/Train/221/bcc000099.bmp  \n",
            "  inflating: Dataset/Train/221/bcc000100.bmp  \n",
            "  inflating: Dataset/Train/221/bcc000101.bmp  \n",
            "  inflating: Dataset/Train/221/bcc000102.bmp  \n",
            "  inflating: Dataset/Train/221/bcc000103.bmp  \n",
            "  inflating: Dataset/Train/221/bcc000104.bmp  \n",
            "  inflating: Dataset/Train/221/bcc000105.bmp  \n",
            "  inflating: Dataset/Train/221/bcc000106.bmp  \n",
            "  inflating: Dataset/Train/221/bcc000107.bmp  \n",
            "  inflating: Dataset/Train/221/bcc000108.bmp  \n",
            "  inflating: Dataset/Train/221/bcc000109.bmp  \n",
            "  inflating: Dataset/Train/221/bcc000110.bmp  \n",
            "  inflating: Dataset/Train/221/bcc000111.bmp  \n",
            "  inflating: Dataset/Train/221/bcc000112.bmp  \n",
            "  inflating: Dataset/Train/221/bcc000113.bmp  \n",
            "  inflating: Dataset/Train/221/bcc000114.bmp  \n",
            "  inflating: Dataset/Train/221/bcc000115.bmp  \n",
            "  inflating: Dataset/Train/221/bcc000116.bmp  \n",
            "  inflating: Dataset/Train/221/bcc000117.bmp  \n",
            "  inflating: Dataset/Train/221/bcc000118.bmp  \n",
            "  inflating: Dataset/Train/221/bcc000119.bmp  \n",
            "  inflating: Dataset/Train/221/bcc000120.bmp  \n",
            "  inflating: Dataset/Train/221/bcc000121.bmp  \n",
            "  inflating: Dataset/Train/221/bcc000122.bmp  \n",
            "  inflating: Dataset/Train/221/bcc000123.bmp  \n",
            "  inflating: Dataset/Train/221/bcc000124.bmp  \n",
            "  inflating: Dataset/Train/221/bcc000125.bmp  \n",
            "  inflating: Dataset/Train/221/bcc000126.bmp  \n",
            "  inflating: Dataset/Train/221/bcc000127.bmp  \n",
            "  inflating: Dataset/Train/221/bcc000128.bmp  \n",
            "  inflating: Dataset/Train/221/bcc000129.bmp  \n",
            "  inflating: Dataset/Train/221/bcc000130.bmp  \n",
            "  inflating: Dataset/Train/221/bcc000131.bmp  \n",
            "  inflating: Dataset/Train/221/bcc000132.bmp  \n",
            "  inflating: Dataset/Train/221/bcc000133.bmp  \n",
            "  inflating: Dataset/Train/221/bcc000134.bmp  \n",
            "  inflating: Dataset/Train/221/bcc000135.bmp  \n",
            "  inflating: Dataset/Train/221/bcc000136.bmp  \n",
            "  inflating: Dataset/Train/221/bcc000137.bmp  \n",
            "  inflating: Dataset/Train/221/bcc000138.bmp  \n",
            "  inflating: Dataset/Train/221/bcc000139.bmp  \n",
            "  inflating: Dataset/Train/221/bcc000140.bmp  \n",
            "  inflating: Dataset/Train/221/bcc000141.bmp  \n",
            "  inflating: Dataset/Train/221/bcc000142.bmp  \n",
            "  inflating: Dataset/Train/221/bcc000143.bmp  \n",
            "  inflating: Dataset/Train/221/bcc000144.bmp  \n",
            "  inflating: Dataset/Train/221/bcc000145.bmp  \n",
            "  inflating: Dataset/Train/221/bcc000146.bmp  \n",
            "  inflating: Dataset/Train/221/bcc000147.bmp  \n",
            "  inflating: Dataset/Train/221/bcc000148.bmp  \n",
            "  inflating: Dataset/Train/221/bcc000149.bmp  \n",
            "  inflating: Dataset/Train/221/bcc000150.bmp  \n",
            "  inflating: Dataset/Train/221/bcc000151.bmp  \n",
            "  inflating: Dataset/Train/221/bcc000152.bmp  \n",
            "  inflating: Dataset/Train/221/bcc000153.bmp  \n",
            "  inflating: Dataset/Train/221/bcc000154.bmp  \n",
            "  inflating: Dataset/Train/221/bcc000155.bmp  \n",
            "  inflating: Dataset/Train/221/bcc000156.bmp  \n",
            "  inflating: Dataset/Train/221/bcc000157.bmp  \n",
            "  inflating: Dataset/Train/221/bcc000158.bmp  \n",
            "  inflating: Dataset/Train/221/bcc000159.bmp  \n",
            "  inflating: Dataset/Train/221/bcc000160.bmp  \n",
            "  inflating: Dataset/Train/221/bcc000161.bmp  \n",
            "  inflating: Dataset/Train/221/bcc000162.bmp  \n",
            "  inflating: Dataset/Train/221/bcc000163.bmp  \n",
            "  inflating: Dataset/Train/221/bcc000164.bmp  \n",
            "  inflating: Dataset/Train/221/bcc000165.bmp  \n",
            "  inflating: Dataset/Train/221/bcc000166.bmp  \n",
            "  inflating: Dataset/Train/221/bcc000167.bmp  \n",
            "  inflating: Dataset/Train/221/bcc000168.bmp  \n",
            "  inflating: Dataset/Train/221/bcc000169.bmp  \n",
            "  inflating: Dataset/Train/221/bcc000170.bmp  \n",
            "  inflating: Dataset/Train/221/bcc000171.bmp  \n",
            "  inflating: Dataset/Train/221/bcc000172.bmp  \n",
            "  inflating: Dataset/Train/221/bcc000173.bmp  \n",
            "  inflating: Dataset/Train/221/bcc000174.bmp  \n",
            "  inflating: Dataset/Train/221/bcc000175.bmp  \n",
            "  inflating: Dataset/Train/221/bcc000176.bmp  \n",
            "  inflating: Dataset/Train/221/bcc000177.bmp  \n",
            "  inflating: Dataset/Train/221/bcc000178.bmp  \n",
            "  inflating: Dataset/Train/221/bcc000179.bmp  \n",
            "  inflating: Dataset/Train/221/bcc000180.bmp  \n",
            "  inflating: Dataset/Train/221/bcc000181.bmp  \n",
            "  inflating: Dataset/Train/221/bcc000182.bmp  \n",
            "  inflating: Dataset/Train/221/bcc000183.bmp  \n",
            "  inflating: Dataset/Train/221/bcc000184.bmp  \n",
            "  inflating: Dataset/Train/221/bcc000185.bmp  \n",
            "  inflating: Dataset/Train/221/bcc000186.bmp  \n",
            "  inflating: Dataset/Train/221/bcc000187.bmp  \n",
            "  inflating: Dataset/Train/221/bcc000188.bmp  \n",
            "  inflating: Dataset/Train/221/bcc000189.bmp  \n",
            "  inflating: Dataset/Train/221/bcc000190.bmp  \n",
            "  inflating: Dataset/Train/221/bcc000191.bmp  \n",
            "  inflating: Dataset/Train/221/bcc000192.bmp  \n",
            "  inflating: Dataset/Train/221/bcc000193.bmp  \n",
            "  inflating: Dataset/Train/221/bcc000194.bmp  \n",
            "  inflating: Dataset/Train/221/bcc000195.bmp  \n",
            "  inflating: Dataset/Train/221/bcc000196.bmp  \n",
            "  inflating: Dataset/Train/221/bcc000197.bmp  \n",
            "  inflating: Dataset/Train/221/bcc000198.bmp  \n",
            "  inflating: Dataset/Train/221/bcc000199.bmp  \n",
            "  inflating: Dataset/Train/221/bcc000200.bmp  \n",
            "  inflating: Dataset/Train/221/bcc000201.bmp  \n",
            "  inflating: Dataset/Train/221/bcc000202.bmp  \n",
            "  inflating: Dataset/Train/221/bcc000203.bmp  \n",
            "  inflating: Dataset/Train/221/bcc000204.bmp  \n",
            "  inflating: Dataset/Train/221/bcc000205.bmp  \n",
            "  inflating: Dataset/Train/221/bcc000206.bmp  \n",
            "  inflating: Dataset/Train/221/bcc000207.bmp  \n",
            "  inflating: Dataset/Train/221/bcc000208.bmp  \n",
            "  inflating: Dataset/Train/221/bcc000209.bmp  \n",
            "  inflating: Dataset/Train/221/bcc000210.bmp  \n",
            "  inflating: Dataset/Train/221/bcc000211.bmp  \n",
            "  inflating: Dataset/Train/221/bcc000212.bmp  \n",
            "  inflating: Dataset/Train/221/bcc000213.bmp  \n",
            "  inflating: Dataset/Train/221/bcc000214.bmp  \n",
            "  inflating: Dataset/Train/221/bcc000215.bmp  \n",
            "  inflating: Dataset/Train/221/bcc000216.bmp  \n",
            "  inflating: Dataset/Train/221/bcc000217.bmp  \n",
            "  inflating: Dataset/Train/221/bcc000218.bmp  \n",
            "  inflating: Dataset/Train/221/bcc000219.bmp  \n",
            "  inflating: Dataset/Train/221/bcc000220.bmp  \n",
            "  inflating: Dataset/Train/221/bcc000221.bmp  \n",
            "  inflating: Dataset/Train/221/bcc000222.bmp  \n",
            "  inflating: Dataset/Train/221/bcc000223.bmp  \n",
            "  inflating: Dataset/Train/221/bcc000224.bmp  \n",
            "  inflating: Dataset/Train/221/bcc000225.bmp  \n",
            "  inflating: Dataset/Train/221/bcc000226.bmp  \n",
            "  inflating: Dataset/Train/221/bcc000227.bmp  \n",
            "  inflating: Dataset/Train/221/bcc000228.bmp  \n",
            "  inflating: Dataset/Train/221/bcc000229.bmp  \n",
            "  inflating: Dataset/Train/221/bcc000230.bmp  \n",
            "  inflating: Dataset/Train/221/bcc000231.bmp  \n",
            "  inflating: Dataset/Train/221/bcc000232.bmp  \n",
            "  inflating: Dataset/Train/221/bcc000233.bmp  \n",
            "  inflating: Dataset/Train/221/bcc000234.bmp  \n",
            "  inflating: Dataset/Train/221/bcc000235.bmp  \n",
            "  inflating: Dataset/Train/221/bcc000236.bmp  \n",
            "  inflating: Dataset/Train/221/bcc000237.bmp  \n",
            "  inflating: Dataset/Train/221/bcc000238.bmp  \n",
            "  inflating: Dataset/Train/221/bcc000239.bmp  \n"
          ]
        }
      ]
    },
    {
      "cell_type": "code",
      "source": [],
      "metadata": {
        "id": "Gfu580EIgAGe"
      },
      "execution_count": null,
      "outputs": []
    },
    {
      "cell_type": "markdown",
      "source": [
        "# After Extraction"
      ],
      "metadata": {
        "id": "HDzGC8KIgCg9"
      }
    },
    {
      "cell_type": "code",
      "metadata": {
        "id": "qdI0MMurW9ly"
      },
      "source": [
        "ROOT_DIR = '/content/Dataset'\n",
        "TRAIN_ROOT = os.path.join(ROOT_DIR, 'Train')\n",
        "TEST_ROOT = os.path.join(ROOT_DIR, 'Test')\n",
        "CHECKPOINT = ''\n",
        "\n",
        "DEVICE = 'cuda' if torch.cuda.is_available() else 'cpu'\n",
        "\n",
        "IMG_SIZE = (32, 32)\n",
        "BATCH_SIZE = 32\n",
        "\n",
        "N_CLASSES = len(os.listdir(TRAIN_ROOT))"
      ],
      "execution_count": null,
      "outputs": []
    },
    {
      "cell_type": "code",
      "metadata": {
        "id": "5FiN0VtCW9oa"
      },
      "source": [
        "paths = glob.glob('/content/Dataset/*/*/*.bmp')\n",
        "\n",
        "df = pd.DataFrame({'Path': paths})\n",
        "\n",
        "def extract_label(path):\n",
        "    return path.split('/')[-2]\n",
        "\n",
        "def extract_set(path):\n",
        "    return path.split('/')[-3]\n",
        "\n",
        "df['Label'] = df['Path'].apply(extract_label)\n",
        "df = pd.concat([df, pd.get_dummies(df['Label'])], axis = 1)\n",
        "\n",
        "df['Set'] = df['Path'].apply(extract_set)\n",
        "\n",
        "train_df = df.loc[df['Set'] == 'Train'].iloc[:, :-1]\n",
        "test_df = df.loc[df['Set'] == 'Test'].iloc[:, :-1]"
      ],
      "execution_count": null,
      "outputs": []
    },
    {
      "cell_type": "code",
      "metadata": {
        "id": "gDjxMevQW9rL",
        "colab": {
          "base_uri": "https://localhost:8080/",
          "height": 487
        },
        "outputId": "2292bafb-5770-4fbd-f14b-8e07deb9db22"
      },
      "source": [
        "df"
      ],
      "execution_count": null,
      "outputs": [
        {
          "output_type": "execute_result",
          "data": {
            "text/plain": [
              "                                           Path Label  172  173  174  175  \\\n",
              "0      /content/Dataset/Train/195/bcc000050.bmp   195    0    0    0    0   \n",
              "1      /content/Dataset/Train/195/bcc000153.bmp   195    0    0    0    0   \n",
              "2      /content/Dataset/Train/195/bcc000084.bmp   195    0    0    0    0   \n",
              "3      /content/Dataset/Train/195/bcc000013.bmp   195    0    0    0    0   \n",
              "4      /content/Dataset/Train/195/bcc000149.bmp   195    0    0    0    0   \n",
              "...                                         ...   ...  ...  ...  ...  ...   \n",
              "14995   /content/Dataset/Test/184/bcc000027.bmp   184    0    0    0    0   \n",
              "14996   /content/Dataset/Test/184/bcc000010.bmp   184    0    0    0    0   \n",
              "14997   /content/Dataset/Test/184/bcc000044.bmp   184    0    0    0    0   \n",
              "14998   /content/Dataset/Test/184/bcc000028.bmp   184    0    0    0    0   \n",
              "14999   /content/Dataset/Test/184/bcc000057.bmp   184    0    0    0    0   \n",
              "\n",
              "       176  177  178  179  ...  213  214  215  216  217  218  219  220  221  \\\n",
              "0        0    0    0    0  ...    0    0    0    0    0    0    0    0    0   \n",
              "1        0    0    0    0  ...    0    0    0    0    0    0    0    0    0   \n",
              "2        0    0    0    0  ...    0    0    0    0    0    0    0    0    0   \n",
              "3        0    0    0    0  ...    0    0    0    0    0    0    0    0    0   \n",
              "4        0    0    0    0  ...    0    0    0    0    0    0    0    0    0   \n",
              "...    ...  ...  ...  ...  ...  ...  ...  ...  ...  ...  ...  ...  ...  ...   \n",
              "14995    0    0    0    0  ...    0    0    0    0    0    0    0    0    0   \n",
              "14996    0    0    0    0  ...    0    0    0    0    0    0    0    0    0   \n",
              "14997    0    0    0    0  ...    0    0    0    0    0    0    0    0    0   \n",
              "14998    0    0    0    0  ...    0    0    0    0    0    0    0    0    0   \n",
              "14999    0    0    0    0  ...    0    0    0    0    0    0    0    0    0   \n",
              "\n",
              "         Set  \n",
              "0      Train  \n",
              "1      Train  \n",
              "2      Train  \n",
              "3      Train  \n",
              "4      Train  \n",
              "...      ...  \n",
              "14995   Test  \n",
              "14996   Test  \n",
              "14997   Test  \n",
              "14998   Test  \n",
              "14999   Test  \n",
              "\n",
              "[15000 rows x 53 columns]"
            ],
            "text/html": [
              "\n",
              "  <div id=\"df-141d79d3-32c2-4124-a2d2-a41765ece507\">\n",
              "    <div class=\"colab-df-container\">\n",
              "      <div>\n",
              "<style scoped>\n",
              "    .dataframe tbody tr th:only-of-type {\n",
              "        vertical-align: middle;\n",
              "    }\n",
              "\n",
              "    .dataframe tbody tr th {\n",
              "        vertical-align: top;\n",
              "    }\n",
              "\n",
              "    .dataframe thead th {\n",
              "        text-align: right;\n",
              "    }\n",
              "</style>\n",
              "<table border=\"1\" class=\"dataframe\">\n",
              "  <thead>\n",
              "    <tr style=\"text-align: right;\">\n",
              "      <th></th>\n",
              "      <th>Path</th>\n",
              "      <th>Label</th>\n",
              "      <th>172</th>\n",
              "      <th>173</th>\n",
              "      <th>174</th>\n",
              "      <th>175</th>\n",
              "      <th>176</th>\n",
              "      <th>177</th>\n",
              "      <th>178</th>\n",
              "      <th>179</th>\n",
              "      <th>...</th>\n",
              "      <th>213</th>\n",
              "      <th>214</th>\n",
              "      <th>215</th>\n",
              "      <th>216</th>\n",
              "      <th>217</th>\n",
              "      <th>218</th>\n",
              "      <th>219</th>\n",
              "      <th>220</th>\n",
              "      <th>221</th>\n",
              "      <th>Set</th>\n",
              "    </tr>\n",
              "  </thead>\n",
              "  <tbody>\n",
              "    <tr>\n",
              "      <th>0</th>\n",
              "      <td>/content/Dataset/Train/195/bcc000050.bmp</td>\n",
              "      <td>195</td>\n",
              "      <td>0</td>\n",
              "      <td>0</td>\n",
              "      <td>0</td>\n",
              "      <td>0</td>\n",
              "      <td>0</td>\n",
              "      <td>0</td>\n",
              "      <td>0</td>\n",
              "      <td>0</td>\n",
              "      <td>...</td>\n",
              "      <td>0</td>\n",
              "      <td>0</td>\n",
              "      <td>0</td>\n",
              "      <td>0</td>\n",
              "      <td>0</td>\n",
              "      <td>0</td>\n",
              "      <td>0</td>\n",
              "      <td>0</td>\n",
              "      <td>0</td>\n",
              "      <td>Train</td>\n",
              "    </tr>\n",
              "    <tr>\n",
              "      <th>1</th>\n",
              "      <td>/content/Dataset/Train/195/bcc000153.bmp</td>\n",
              "      <td>195</td>\n",
              "      <td>0</td>\n",
              "      <td>0</td>\n",
              "      <td>0</td>\n",
              "      <td>0</td>\n",
              "      <td>0</td>\n",
              "      <td>0</td>\n",
              "      <td>0</td>\n",
              "      <td>0</td>\n",
              "      <td>...</td>\n",
              "      <td>0</td>\n",
              "      <td>0</td>\n",
              "      <td>0</td>\n",
              "      <td>0</td>\n",
              "      <td>0</td>\n",
              "      <td>0</td>\n",
              "      <td>0</td>\n",
              "      <td>0</td>\n",
              "      <td>0</td>\n",
              "      <td>Train</td>\n",
              "    </tr>\n",
              "    <tr>\n",
              "      <th>2</th>\n",
              "      <td>/content/Dataset/Train/195/bcc000084.bmp</td>\n",
              "      <td>195</td>\n",
              "      <td>0</td>\n",
              "      <td>0</td>\n",
              "      <td>0</td>\n",
              "      <td>0</td>\n",
              "      <td>0</td>\n",
              "      <td>0</td>\n",
              "      <td>0</td>\n",
              "      <td>0</td>\n",
              "      <td>...</td>\n",
              "      <td>0</td>\n",
              "      <td>0</td>\n",
              "      <td>0</td>\n",
              "      <td>0</td>\n",
              "      <td>0</td>\n",
              "      <td>0</td>\n",
              "      <td>0</td>\n",
              "      <td>0</td>\n",
              "      <td>0</td>\n",
              "      <td>Train</td>\n",
              "    </tr>\n",
              "    <tr>\n",
              "      <th>3</th>\n",
              "      <td>/content/Dataset/Train/195/bcc000013.bmp</td>\n",
              "      <td>195</td>\n",
              "      <td>0</td>\n",
              "      <td>0</td>\n",
              "      <td>0</td>\n",
              "      <td>0</td>\n",
              "      <td>0</td>\n",
              "      <td>0</td>\n",
              "      <td>0</td>\n",
              "      <td>0</td>\n",
              "      <td>...</td>\n",
              "      <td>0</td>\n",
              "      <td>0</td>\n",
              "      <td>0</td>\n",
              "      <td>0</td>\n",
              "      <td>0</td>\n",
              "      <td>0</td>\n",
              "      <td>0</td>\n",
              "      <td>0</td>\n",
              "      <td>0</td>\n",
              "      <td>Train</td>\n",
              "    </tr>\n",
              "    <tr>\n",
              "      <th>4</th>\n",
              "      <td>/content/Dataset/Train/195/bcc000149.bmp</td>\n",
              "      <td>195</td>\n",
              "      <td>0</td>\n",
              "      <td>0</td>\n",
              "      <td>0</td>\n",
              "      <td>0</td>\n",
              "      <td>0</td>\n",
              "      <td>0</td>\n",
              "      <td>0</td>\n",
              "      <td>0</td>\n",
              "      <td>...</td>\n",
              "      <td>0</td>\n",
              "      <td>0</td>\n",
              "      <td>0</td>\n",
              "      <td>0</td>\n",
              "      <td>0</td>\n",
              "      <td>0</td>\n",
              "      <td>0</td>\n",
              "      <td>0</td>\n",
              "      <td>0</td>\n",
              "      <td>Train</td>\n",
              "    </tr>\n",
              "    <tr>\n",
              "      <th>...</th>\n",
              "      <td>...</td>\n",
              "      <td>...</td>\n",
              "      <td>...</td>\n",
              "      <td>...</td>\n",
              "      <td>...</td>\n",
              "      <td>...</td>\n",
              "      <td>...</td>\n",
              "      <td>...</td>\n",
              "      <td>...</td>\n",
              "      <td>...</td>\n",
              "      <td>...</td>\n",
              "      <td>...</td>\n",
              "      <td>...</td>\n",
              "      <td>...</td>\n",
              "      <td>...</td>\n",
              "      <td>...</td>\n",
              "      <td>...</td>\n",
              "      <td>...</td>\n",
              "      <td>...</td>\n",
              "      <td>...</td>\n",
              "      <td>...</td>\n",
              "    </tr>\n",
              "    <tr>\n",
              "      <th>14995</th>\n",
              "      <td>/content/Dataset/Test/184/bcc000027.bmp</td>\n",
              "      <td>184</td>\n",
              "      <td>0</td>\n",
              "      <td>0</td>\n",
              "      <td>0</td>\n",
              "      <td>0</td>\n",
              "      <td>0</td>\n",
              "      <td>0</td>\n",
              "      <td>0</td>\n",
              "      <td>0</td>\n",
              "      <td>...</td>\n",
              "      <td>0</td>\n",
              "      <td>0</td>\n",
              "      <td>0</td>\n",
              "      <td>0</td>\n",
              "      <td>0</td>\n",
              "      <td>0</td>\n",
              "      <td>0</td>\n",
              "      <td>0</td>\n",
              "      <td>0</td>\n",
              "      <td>Test</td>\n",
              "    </tr>\n",
              "    <tr>\n",
              "      <th>14996</th>\n",
              "      <td>/content/Dataset/Test/184/bcc000010.bmp</td>\n",
              "      <td>184</td>\n",
              "      <td>0</td>\n",
              "      <td>0</td>\n",
              "      <td>0</td>\n",
              "      <td>0</td>\n",
              "      <td>0</td>\n",
              "      <td>0</td>\n",
              "      <td>0</td>\n",
              "      <td>0</td>\n",
              "      <td>...</td>\n",
              "      <td>0</td>\n",
              "      <td>0</td>\n",
              "      <td>0</td>\n",
              "      <td>0</td>\n",
              "      <td>0</td>\n",
              "      <td>0</td>\n",
              "      <td>0</td>\n",
              "      <td>0</td>\n",
              "      <td>0</td>\n",
              "      <td>Test</td>\n",
              "    </tr>\n",
              "    <tr>\n",
              "      <th>14997</th>\n",
              "      <td>/content/Dataset/Test/184/bcc000044.bmp</td>\n",
              "      <td>184</td>\n",
              "      <td>0</td>\n",
              "      <td>0</td>\n",
              "      <td>0</td>\n",
              "      <td>0</td>\n",
              "      <td>0</td>\n",
              "      <td>0</td>\n",
              "      <td>0</td>\n",
              "      <td>0</td>\n",
              "      <td>...</td>\n",
              "      <td>0</td>\n",
              "      <td>0</td>\n",
              "      <td>0</td>\n",
              "      <td>0</td>\n",
              "      <td>0</td>\n",
              "      <td>0</td>\n",
              "      <td>0</td>\n",
              "      <td>0</td>\n",
              "      <td>0</td>\n",
              "      <td>Test</td>\n",
              "    </tr>\n",
              "    <tr>\n",
              "      <th>14998</th>\n",
              "      <td>/content/Dataset/Test/184/bcc000028.bmp</td>\n",
              "      <td>184</td>\n",
              "      <td>0</td>\n",
              "      <td>0</td>\n",
              "      <td>0</td>\n",
              "      <td>0</td>\n",
              "      <td>0</td>\n",
              "      <td>0</td>\n",
              "      <td>0</td>\n",
              "      <td>0</td>\n",
              "      <td>...</td>\n",
              "      <td>0</td>\n",
              "      <td>0</td>\n",
              "      <td>0</td>\n",
              "      <td>0</td>\n",
              "      <td>0</td>\n",
              "      <td>0</td>\n",
              "      <td>0</td>\n",
              "      <td>0</td>\n",
              "      <td>0</td>\n",
              "      <td>Test</td>\n",
              "    </tr>\n",
              "    <tr>\n",
              "      <th>14999</th>\n",
              "      <td>/content/Dataset/Test/184/bcc000057.bmp</td>\n",
              "      <td>184</td>\n",
              "      <td>0</td>\n",
              "      <td>0</td>\n",
              "      <td>0</td>\n",
              "      <td>0</td>\n",
              "      <td>0</td>\n",
              "      <td>0</td>\n",
              "      <td>0</td>\n",
              "      <td>0</td>\n",
              "      <td>...</td>\n",
              "      <td>0</td>\n",
              "      <td>0</td>\n",
              "      <td>0</td>\n",
              "      <td>0</td>\n",
              "      <td>0</td>\n",
              "      <td>0</td>\n",
              "      <td>0</td>\n",
              "      <td>0</td>\n",
              "      <td>0</td>\n",
              "      <td>Test</td>\n",
              "    </tr>\n",
              "  </tbody>\n",
              "</table>\n",
              "<p>15000 rows × 53 columns</p>\n",
              "</div>\n",
              "      <button class=\"colab-df-convert\" onclick=\"convertToInteractive('df-141d79d3-32c2-4124-a2d2-a41765ece507')\"\n",
              "              title=\"Convert this dataframe to an interactive table.\"\n",
              "              style=\"display:none;\">\n",
              "        \n",
              "  <svg xmlns=\"http://www.w3.org/2000/svg\" height=\"24px\"viewBox=\"0 0 24 24\"\n",
              "       width=\"24px\">\n",
              "    <path d=\"M0 0h24v24H0V0z\" fill=\"none\"/>\n",
              "    <path d=\"M18.56 5.44l.94 2.06.94-2.06 2.06-.94-2.06-.94-.94-2.06-.94 2.06-2.06.94zm-11 1L8.5 8.5l.94-2.06 2.06-.94-2.06-.94L8.5 2.5l-.94 2.06-2.06.94zm10 10l.94 2.06.94-2.06 2.06-.94-2.06-.94-.94-2.06-.94 2.06-2.06.94z\"/><path d=\"M17.41 7.96l-1.37-1.37c-.4-.4-.92-.59-1.43-.59-.52 0-1.04.2-1.43.59L10.3 9.45l-7.72 7.72c-.78.78-.78 2.05 0 2.83L4 21.41c.39.39.9.59 1.41.59.51 0 1.02-.2 1.41-.59l7.78-7.78 2.81-2.81c.8-.78.8-2.07 0-2.86zM5.41 20L4 18.59l7.72-7.72 1.47 1.35L5.41 20z\"/>\n",
              "  </svg>\n",
              "      </button>\n",
              "      \n",
              "  <style>\n",
              "    .colab-df-container {\n",
              "      display:flex;\n",
              "      flex-wrap:wrap;\n",
              "      gap: 12px;\n",
              "    }\n",
              "\n",
              "    .colab-df-convert {\n",
              "      background-color: #E8F0FE;\n",
              "      border: none;\n",
              "      border-radius: 50%;\n",
              "      cursor: pointer;\n",
              "      display: none;\n",
              "      fill: #1967D2;\n",
              "      height: 32px;\n",
              "      padding: 0 0 0 0;\n",
              "      width: 32px;\n",
              "    }\n",
              "\n",
              "    .colab-df-convert:hover {\n",
              "      background-color: #E2EBFA;\n",
              "      box-shadow: 0px 1px 2px rgba(60, 64, 67, 0.3), 0px 1px 3px 1px rgba(60, 64, 67, 0.15);\n",
              "      fill: #174EA6;\n",
              "    }\n",
              "\n",
              "    [theme=dark] .colab-df-convert {\n",
              "      background-color: #3B4455;\n",
              "      fill: #D2E3FC;\n",
              "    }\n",
              "\n",
              "    [theme=dark] .colab-df-convert:hover {\n",
              "      background-color: #434B5C;\n",
              "      box-shadow: 0px 1px 3px 1px rgba(0, 0, 0, 0.15);\n",
              "      filter: drop-shadow(0px 1px 2px rgba(0, 0, 0, 0.3));\n",
              "      fill: #FFFFFF;\n",
              "    }\n",
              "  </style>\n",
              "\n",
              "      <script>\n",
              "        const buttonEl =\n",
              "          document.querySelector('#df-141d79d3-32c2-4124-a2d2-a41765ece507 button.colab-df-convert');\n",
              "        buttonEl.style.display =\n",
              "          google.colab.kernel.accessAllowed ? 'block' : 'none';\n",
              "\n",
              "        async function convertToInteractive(key) {\n",
              "          const element = document.querySelector('#df-141d79d3-32c2-4124-a2d2-a41765ece507');\n",
              "          const dataTable =\n",
              "            await google.colab.kernel.invokeFunction('convertToInteractive',\n",
              "                                                     [key], {});\n",
              "          if (!dataTable) return;\n",
              "\n",
              "          const docLinkHtml = 'Like what you see? Visit the ' +\n",
              "            '<a target=\"_blank\" href=https://colab.research.google.com/notebooks/data_table.ipynb>data table notebook</a>'\n",
              "            + ' to learn more about interactive tables.';\n",
              "          element.innerHTML = '';\n",
              "          dataTable['output_type'] = 'display_data';\n",
              "          await google.colab.output.renderOutput(dataTable, element);\n",
              "          const docLink = document.createElement('div');\n",
              "          docLink.innerHTML = docLinkHtml;\n",
              "          element.appendChild(docLink);\n",
              "        }\n",
              "      </script>\n",
              "    </div>\n",
              "  </div>\n",
              "  "
            ]
          },
          "metadata": {},
          "execution_count": 6
        }
      ]
    },
    {
      "cell_type": "code",
      "metadata": {
        "id": "SG_Il3vkW9tt",
        "colab": {
          "base_uri": "https://localhost:8080/",
          "height": 487
        },
        "outputId": "331ac9df-8032-452f-a8cd-2ddadd157279"
      },
      "source": [
        "train_df"
      ],
      "execution_count": null,
      "outputs": [
        {
          "output_type": "execute_result",
          "data": {
            "text/plain": [
              "                                           Path Label  172  173  174  175  \\\n",
              "0      /content/Dataset/Train/195/bcc000050.bmp   195    0    0    0    0   \n",
              "1      /content/Dataset/Train/195/bcc000153.bmp   195    0    0    0    0   \n",
              "2      /content/Dataset/Train/195/bcc000084.bmp   195    0    0    0    0   \n",
              "3      /content/Dataset/Train/195/bcc000013.bmp   195    0    0    0    0   \n",
              "4      /content/Dataset/Train/195/bcc000149.bmp   195    0    0    0    0   \n",
              "...                                         ...   ...  ...  ...  ...  ...   \n",
              "11995  /content/Dataset/Train/184/bcc000152.bmp   184    0    0    0    0   \n",
              "11996  /content/Dataset/Train/184/bcc000057.bmp   184    0    0    0    0   \n",
              "11997  /content/Dataset/Train/184/bcc000083.bmp   184    0    0    0    0   \n",
              "11998  /content/Dataset/Train/184/bcc000079.bmp   184    0    0    0    0   \n",
              "11999  /content/Dataset/Train/184/bcc000239.bmp   184    0    0    0    0   \n",
              "\n",
              "       176  177  178  179  ...  212  213  214  215  216  217  218  219  220  \\\n",
              "0        0    0    0    0  ...    0    0    0    0    0    0    0    0    0   \n",
              "1        0    0    0    0  ...    0    0    0    0    0    0    0    0    0   \n",
              "2        0    0    0    0  ...    0    0    0    0    0    0    0    0    0   \n",
              "3        0    0    0    0  ...    0    0    0    0    0    0    0    0    0   \n",
              "4        0    0    0    0  ...    0    0    0    0    0    0    0    0    0   \n",
              "...    ...  ...  ...  ...  ...  ...  ...  ...  ...  ...  ...  ...  ...  ...   \n",
              "11995    0    0    0    0  ...    0    0    0    0    0    0    0    0    0   \n",
              "11996    0    0    0    0  ...    0    0    0    0    0    0    0    0    0   \n",
              "11997    0    0    0    0  ...    0    0    0    0    0    0    0    0    0   \n",
              "11998    0    0    0    0  ...    0    0    0    0    0    0    0    0    0   \n",
              "11999    0    0    0    0  ...    0    0    0    0    0    0    0    0    0   \n",
              "\n",
              "       221  \n",
              "0        0  \n",
              "1        0  \n",
              "2        0  \n",
              "3        0  \n",
              "4        0  \n",
              "...    ...  \n",
              "11995    0  \n",
              "11996    0  \n",
              "11997    0  \n",
              "11998    0  \n",
              "11999    0  \n",
              "\n",
              "[12000 rows x 52 columns]"
            ],
            "text/html": [
              "\n",
              "  <div id=\"df-05a87b83-ae2b-4455-b176-20c0ddedd26a\">\n",
              "    <div class=\"colab-df-container\">\n",
              "      <div>\n",
              "<style scoped>\n",
              "    .dataframe tbody tr th:only-of-type {\n",
              "        vertical-align: middle;\n",
              "    }\n",
              "\n",
              "    .dataframe tbody tr th {\n",
              "        vertical-align: top;\n",
              "    }\n",
              "\n",
              "    .dataframe thead th {\n",
              "        text-align: right;\n",
              "    }\n",
              "</style>\n",
              "<table border=\"1\" class=\"dataframe\">\n",
              "  <thead>\n",
              "    <tr style=\"text-align: right;\">\n",
              "      <th></th>\n",
              "      <th>Path</th>\n",
              "      <th>Label</th>\n",
              "      <th>172</th>\n",
              "      <th>173</th>\n",
              "      <th>174</th>\n",
              "      <th>175</th>\n",
              "      <th>176</th>\n",
              "      <th>177</th>\n",
              "      <th>178</th>\n",
              "      <th>179</th>\n",
              "      <th>...</th>\n",
              "      <th>212</th>\n",
              "      <th>213</th>\n",
              "      <th>214</th>\n",
              "      <th>215</th>\n",
              "      <th>216</th>\n",
              "      <th>217</th>\n",
              "      <th>218</th>\n",
              "      <th>219</th>\n",
              "      <th>220</th>\n",
              "      <th>221</th>\n",
              "    </tr>\n",
              "  </thead>\n",
              "  <tbody>\n",
              "    <tr>\n",
              "      <th>0</th>\n",
              "      <td>/content/Dataset/Train/195/bcc000050.bmp</td>\n",
              "      <td>195</td>\n",
              "      <td>0</td>\n",
              "      <td>0</td>\n",
              "      <td>0</td>\n",
              "      <td>0</td>\n",
              "      <td>0</td>\n",
              "      <td>0</td>\n",
              "      <td>0</td>\n",
              "      <td>0</td>\n",
              "      <td>...</td>\n",
              "      <td>0</td>\n",
              "      <td>0</td>\n",
              "      <td>0</td>\n",
              "      <td>0</td>\n",
              "      <td>0</td>\n",
              "      <td>0</td>\n",
              "      <td>0</td>\n",
              "      <td>0</td>\n",
              "      <td>0</td>\n",
              "      <td>0</td>\n",
              "    </tr>\n",
              "    <tr>\n",
              "      <th>1</th>\n",
              "      <td>/content/Dataset/Train/195/bcc000153.bmp</td>\n",
              "      <td>195</td>\n",
              "      <td>0</td>\n",
              "      <td>0</td>\n",
              "      <td>0</td>\n",
              "      <td>0</td>\n",
              "      <td>0</td>\n",
              "      <td>0</td>\n",
              "      <td>0</td>\n",
              "      <td>0</td>\n",
              "      <td>...</td>\n",
              "      <td>0</td>\n",
              "      <td>0</td>\n",
              "      <td>0</td>\n",
              "      <td>0</td>\n",
              "      <td>0</td>\n",
              "      <td>0</td>\n",
              "      <td>0</td>\n",
              "      <td>0</td>\n",
              "      <td>0</td>\n",
              "      <td>0</td>\n",
              "    </tr>\n",
              "    <tr>\n",
              "      <th>2</th>\n",
              "      <td>/content/Dataset/Train/195/bcc000084.bmp</td>\n",
              "      <td>195</td>\n",
              "      <td>0</td>\n",
              "      <td>0</td>\n",
              "      <td>0</td>\n",
              "      <td>0</td>\n",
              "      <td>0</td>\n",
              "      <td>0</td>\n",
              "      <td>0</td>\n",
              "      <td>0</td>\n",
              "      <td>...</td>\n",
              "      <td>0</td>\n",
              "      <td>0</td>\n",
              "      <td>0</td>\n",
              "      <td>0</td>\n",
              "      <td>0</td>\n",
              "      <td>0</td>\n",
              "      <td>0</td>\n",
              "      <td>0</td>\n",
              "      <td>0</td>\n",
              "      <td>0</td>\n",
              "    </tr>\n",
              "    <tr>\n",
              "      <th>3</th>\n",
              "      <td>/content/Dataset/Train/195/bcc000013.bmp</td>\n",
              "      <td>195</td>\n",
              "      <td>0</td>\n",
              "      <td>0</td>\n",
              "      <td>0</td>\n",
              "      <td>0</td>\n",
              "      <td>0</td>\n",
              "      <td>0</td>\n",
              "      <td>0</td>\n",
              "      <td>0</td>\n",
              "      <td>...</td>\n",
              "      <td>0</td>\n",
              "      <td>0</td>\n",
              "      <td>0</td>\n",
              "      <td>0</td>\n",
              "      <td>0</td>\n",
              "      <td>0</td>\n",
              "      <td>0</td>\n",
              "      <td>0</td>\n",
              "      <td>0</td>\n",
              "      <td>0</td>\n",
              "    </tr>\n",
              "    <tr>\n",
              "      <th>4</th>\n",
              "      <td>/content/Dataset/Train/195/bcc000149.bmp</td>\n",
              "      <td>195</td>\n",
              "      <td>0</td>\n",
              "      <td>0</td>\n",
              "      <td>0</td>\n",
              "      <td>0</td>\n",
              "      <td>0</td>\n",
              "      <td>0</td>\n",
              "      <td>0</td>\n",
              "      <td>0</td>\n",
              "      <td>...</td>\n",
              "      <td>0</td>\n",
              "      <td>0</td>\n",
              "      <td>0</td>\n",
              "      <td>0</td>\n",
              "      <td>0</td>\n",
              "      <td>0</td>\n",
              "      <td>0</td>\n",
              "      <td>0</td>\n",
              "      <td>0</td>\n",
              "      <td>0</td>\n",
              "    </tr>\n",
              "    <tr>\n",
              "      <th>...</th>\n",
              "      <td>...</td>\n",
              "      <td>...</td>\n",
              "      <td>...</td>\n",
              "      <td>...</td>\n",
              "      <td>...</td>\n",
              "      <td>...</td>\n",
              "      <td>...</td>\n",
              "      <td>...</td>\n",
              "      <td>...</td>\n",
              "      <td>...</td>\n",
              "      <td>...</td>\n",
              "      <td>...</td>\n",
              "      <td>...</td>\n",
              "      <td>...</td>\n",
              "      <td>...</td>\n",
              "      <td>...</td>\n",
              "      <td>...</td>\n",
              "      <td>...</td>\n",
              "      <td>...</td>\n",
              "      <td>...</td>\n",
              "      <td>...</td>\n",
              "    </tr>\n",
              "    <tr>\n",
              "      <th>11995</th>\n",
              "      <td>/content/Dataset/Train/184/bcc000152.bmp</td>\n",
              "      <td>184</td>\n",
              "      <td>0</td>\n",
              "      <td>0</td>\n",
              "      <td>0</td>\n",
              "      <td>0</td>\n",
              "      <td>0</td>\n",
              "      <td>0</td>\n",
              "      <td>0</td>\n",
              "      <td>0</td>\n",
              "      <td>...</td>\n",
              "      <td>0</td>\n",
              "      <td>0</td>\n",
              "      <td>0</td>\n",
              "      <td>0</td>\n",
              "      <td>0</td>\n",
              "      <td>0</td>\n",
              "      <td>0</td>\n",
              "      <td>0</td>\n",
              "      <td>0</td>\n",
              "      <td>0</td>\n",
              "    </tr>\n",
              "    <tr>\n",
              "      <th>11996</th>\n",
              "      <td>/content/Dataset/Train/184/bcc000057.bmp</td>\n",
              "      <td>184</td>\n",
              "      <td>0</td>\n",
              "      <td>0</td>\n",
              "      <td>0</td>\n",
              "      <td>0</td>\n",
              "      <td>0</td>\n",
              "      <td>0</td>\n",
              "      <td>0</td>\n",
              "      <td>0</td>\n",
              "      <td>...</td>\n",
              "      <td>0</td>\n",
              "      <td>0</td>\n",
              "      <td>0</td>\n",
              "      <td>0</td>\n",
              "      <td>0</td>\n",
              "      <td>0</td>\n",
              "      <td>0</td>\n",
              "      <td>0</td>\n",
              "      <td>0</td>\n",
              "      <td>0</td>\n",
              "    </tr>\n",
              "    <tr>\n",
              "      <th>11997</th>\n",
              "      <td>/content/Dataset/Train/184/bcc000083.bmp</td>\n",
              "      <td>184</td>\n",
              "      <td>0</td>\n",
              "      <td>0</td>\n",
              "      <td>0</td>\n",
              "      <td>0</td>\n",
              "      <td>0</td>\n",
              "      <td>0</td>\n",
              "      <td>0</td>\n",
              "      <td>0</td>\n",
              "      <td>...</td>\n",
              "      <td>0</td>\n",
              "      <td>0</td>\n",
              "      <td>0</td>\n",
              "      <td>0</td>\n",
              "      <td>0</td>\n",
              "      <td>0</td>\n",
              "      <td>0</td>\n",
              "      <td>0</td>\n",
              "      <td>0</td>\n",
              "      <td>0</td>\n",
              "    </tr>\n",
              "    <tr>\n",
              "      <th>11998</th>\n",
              "      <td>/content/Dataset/Train/184/bcc000079.bmp</td>\n",
              "      <td>184</td>\n",
              "      <td>0</td>\n",
              "      <td>0</td>\n",
              "      <td>0</td>\n",
              "      <td>0</td>\n",
              "      <td>0</td>\n",
              "      <td>0</td>\n",
              "      <td>0</td>\n",
              "      <td>0</td>\n",
              "      <td>...</td>\n",
              "      <td>0</td>\n",
              "      <td>0</td>\n",
              "      <td>0</td>\n",
              "      <td>0</td>\n",
              "      <td>0</td>\n",
              "      <td>0</td>\n",
              "      <td>0</td>\n",
              "      <td>0</td>\n",
              "      <td>0</td>\n",
              "      <td>0</td>\n",
              "    </tr>\n",
              "    <tr>\n",
              "      <th>11999</th>\n",
              "      <td>/content/Dataset/Train/184/bcc000239.bmp</td>\n",
              "      <td>184</td>\n",
              "      <td>0</td>\n",
              "      <td>0</td>\n",
              "      <td>0</td>\n",
              "      <td>0</td>\n",
              "      <td>0</td>\n",
              "      <td>0</td>\n",
              "      <td>0</td>\n",
              "      <td>0</td>\n",
              "      <td>...</td>\n",
              "      <td>0</td>\n",
              "      <td>0</td>\n",
              "      <td>0</td>\n",
              "      <td>0</td>\n",
              "      <td>0</td>\n",
              "      <td>0</td>\n",
              "      <td>0</td>\n",
              "      <td>0</td>\n",
              "      <td>0</td>\n",
              "      <td>0</td>\n",
              "    </tr>\n",
              "  </tbody>\n",
              "</table>\n",
              "<p>12000 rows × 52 columns</p>\n",
              "</div>\n",
              "      <button class=\"colab-df-convert\" onclick=\"convertToInteractive('df-05a87b83-ae2b-4455-b176-20c0ddedd26a')\"\n",
              "              title=\"Convert this dataframe to an interactive table.\"\n",
              "              style=\"display:none;\">\n",
              "        \n",
              "  <svg xmlns=\"http://www.w3.org/2000/svg\" height=\"24px\"viewBox=\"0 0 24 24\"\n",
              "       width=\"24px\">\n",
              "    <path d=\"M0 0h24v24H0V0z\" fill=\"none\"/>\n",
              "    <path d=\"M18.56 5.44l.94 2.06.94-2.06 2.06-.94-2.06-.94-.94-2.06-.94 2.06-2.06.94zm-11 1L8.5 8.5l.94-2.06 2.06-.94-2.06-.94L8.5 2.5l-.94 2.06-2.06.94zm10 10l.94 2.06.94-2.06 2.06-.94-2.06-.94-.94-2.06-.94 2.06-2.06.94z\"/><path d=\"M17.41 7.96l-1.37-1.37c-.4-.4-.92-.59-1.43-.59-.52 0-1.04.2-1.43.59L10.3 9.45l-7.72 7.72c-.78.78-.78 2.05 0 2.83L4 21.41c.39.39.9.59 1.41.59.51 0 1.02-.2 1.41-.59l7.78-7.78 2.81-2.81c.8-.78.8-2.07 0-2.86zM5.41 20L4 18.59l7.72-7.72 1.47 1.35L5.41 20z\"/>\n",
              "  </svg>\n",
              "      </button>\n",
              "      \n",
              "  <style>\n",
              "    .colab-df-container {\n",
              "      display:flex;\n",
              "      flex-wrap:wrap;\n",
              "      gap: 12px;\n",
              "    }\n",
              "\n",
              "    .colab-df-convert {\n",
              "      background-color: #E8F0FE;\n",
              "      border: none;\n",
              "      border-radius: 50%;\n",
              "      cursor: pointer;\n",
              "      display: none;\n",
              "      fill: #1967D2;\n",
              "      height: 32px;\n",
              "      padding: 0 0 0 0;\n",
              "      width: 32px;\n",
              "    }\n",
              "\n",
              "    .colab-df-convert:hover {\n",
              "      background-color: #E2EBFA;\n",
              "      box-shadow: 0px 1px 2px rgba(60, 64, 67, 0.3), 0px 1px 3px 1px rgba(60, 64, 67, 0.15);\n",
              "      fill: #174EA6;\n",
              "    }\n",
              "\n",
              "    [theme=dark] .colab-df-convert {\n",
              "      background-color: #3B4455;\n",
              "      fill: #D2E3FC;\n",
              "    }\n",
              "\n",
              "    [theme=dark] .colab-df-convert:hover {\n",
              "      background-color: #434B5C;\n",
              "      box-shadow: 0px 1px 3px 1px rgba(0, 0, 0, 0.15);\n",
              "      filter: drop-shadow(0px 1px 2px rgba(0, 0, 0, 0.3));\n",
              "      fill: #FFFFFF;\n",
              "    }\n",
              "  </style>\n",
              "\n",
              "      <script>\n",
              "        const buttonEl =\n",
              "          document.querySelector('#df-05a87b83-ae2b-4455-b176-20c0ddedd26a button.colab-df-convert');\n",
              "        buttonEl.style.display =\n",
              "          google.colab.kernel.accessAllowed ? 'block' : 'none';\n",
              "\n",
              "        async function convertToInteractive(key) {\n",
              "          const element = document.querySelector('#df-05a87b83-ae2b-4455-b176-20c0ddedd26a');\n",
              "          const dataTable =\n",
              "            await google.colab.kernel.invokeFunction('convertToInteractive',\n",
              "                                                     [key], {});\n",
              "          if (!dataTable) return;\n",
              "\n",
              "          const docLinkHtml = 'Like what you see? Visit the ' +\n",
              "            '<a target=\"_blank\" href=https://colab.research.google.com/notebooks/data_table.ipynb>data table notebook</a>'\n",
              "            + ' to learn more about interactive tables.';\n",
              "          element.innerHTML = '';\n",
              "          dataTable['output_type'] = 'display_data';\n",
              "          await google.colab.output.renderOutput(dataTable, element);\n",
              "          const docLink = document.createElement('div');\n",
              "          docLink.innerHTML = docLinkHtml;\n",
              "          element.appendChild(docLink);\n",
              "        }\n",
              "      </script>\n",
              "    </div>\n",
              "  </div>\n",
              "  "
            ]
          },
          "metadata": {},
          "execution_count": 7
        }
      ]
    },
    {
      "cell_type": "code",
      "metadata": {
        "id": "l2evsaUcwQXG",
        "colab": {
          "base_uri": "https://localhost:8080/",
          "height": 487
        },
        "outputId": "95c1ed72-8303-4d9c-b6ca-84e3b39484ab"
      },
      "source": [
        "test_df"
      ],
      "execution_count": null,
      "outputs": [
        {
          "output_type": "execute_result",
          "data": {
            "text/plain": [
              "                                          Path Label  172  173  174  175  176  \\\n",
              "12000  /content/Dataset/Test/195/bcc000050.bmp   195    0    0    0    0    0   \n",
              "12001  /content/Dataset/Test/195/bcc000013.bmp   195    0    0    0    0    0   \n",
              "12002  /content/Dataset/Test/195/bcc000021.bmp   195    0    0    0    0    0   \n",
              "12003  /content/Dataset/Test/195/bcc000051.bmp   195    0    0    0    0    0   \n",
              "12004  /content/Dataset/Test/195/bcc000035.bmp   195    0    0    0    0    0   \n",
              "...                                        ...   ...  ...  ...  ...  ...  ...   \n",
              "14995  /content/Dataset/Test/184/bcc000027.bmp   184    0    0    0    0    0   \n",
              "14996  /content/Dataset/Test/184/bcc000010.bmp   184    0    0    0    0    0   \n",
              "14997  /content/Dataset/Test/184/bcc000044.bmp   184    0    0    0    0    0   \n",
              "14998  /content/Dataset/Test/184/bcc000028.bmp   184    0    0    0    0    0   \n",
              "14999  /content/Dataset/Test/184/bcc000057.bmp   184    0    0    0    0    0   \n",
              "\n",
              "       177  178  179  ...  212  213  214  215  216  217  218  219  220  221  \n",
              "12000    0    0    0  ...    0    0    0    0    0    0    0    0    0    0  \n",
              "12001    0    0    0  ...    0    0    0    0    0    0    0    0    0    0  \n",
              "12002    0    0    0  ...    0    0    0    0    0    0    0    0    0    0  \n",
              "12003    0    0    0  ...    0    0    0    0    0    0    0    0    0    0  \n",
              "12004    0    0    0  ...    0    0    0    0    0    0    0    0    0    0  \n",
              "...    ...  ...  ...  ...  ...  ...  ...  ...  ...  ...  ...  ...  ...  ...  \n",
              "14995    0    0    0  ...    0    0    0    0    0    0    0    0    0    0  \n",
              "14996    0    0    0  ...    0    0    0    0    0    0    0    0    0    0  \n",
              "14997    0    0    0  ...    0    0    0    0    0    0    0    0    0    0  \n",
              "14998    0    0    0  ...    0    0    0    0    0    0    0    0    0    0  \n",
              "14999    0    0    0  ...    0    0    0    0    0    0    0    0    0    0  \n",
              "\n",
              "[3000 rows x 52 columns]"
            ],
            "text/html": [
              "\n",
              "  <div id=\"df-b6854fc6-c4a8-474e-8eb3-3b5e8db82cb7\">\n",
              "    <div class=\"colab-df-container\">\n",
              "      <div>\n",
              "<style scoped>\n",
              "    .dataframe tbody tr th:only-of-type {\n",
              "        vertical-align: middle;\n",
              "    }\n",
              "\n",
              "    .dataframe tbody tr th {\n",
              "        vertical-align: top;\n",
              "    }\n",
              "\n",
              "    .dataframe thead th {\n",
              "        text-align: right;\n",
              "    }\n",
              "</style>\n",
              "<table border=\"1\" class=\"dataframe\">\n",
              "  <thead>\n",
              "    <tr style=\"text-align: right;\">\n",
              "      <th></th>\n",
              "      <th>Path</th>\n",
              "      <th>Label</th>\n",
              "      <th>172</th>\n",
              "      <th>173</th>\n",
              "      <th>174</th>\n",
              "      <th>175</th>\n",
              "      <th>176</th>\n",
              "      <th>177</th>\n",
              "      <th>178</th>\n",
              "      <th>179</th>\n",
              "      <th>...</th>\n",
              "      <th>212</th>\n",
              "      <th>213</th>\n",
              "      <th>214</th>\n",
              "      <th>215</th>\n",
              "      <th>216</th>\n",
              "      <th>217</th>\n",
              "      <th>218</th>\n",
              "      <th>219</th>\n",
              "      <th>220</th>\n",
              "      <th>221</th>\n",
              "    </tr>\n",
              "  </thead>\n",
              "  <tbody>\n",
              "    <tr>\n",
              "      <th>12000</th>\n",
              "      <td>/content/Dataset/Test/195/bcc000050.bmp</td>\n",
              "      <td>195</td>\n",
              "      <td>0</td>\n",
              "      <td>0</td>\n",
              "      <td>0</td>\n",
              "      <td>0</td>\n",
              "      <td>0</td>\n",
              "      <td>0</td>\n",
              "      <td>0</td>\n",
              "      <td>0</td>\n",
              "      <td>...</td>\n",
              "      <td>0</td>\n",
              "      <td>0</td>\n",
              "      <td>0</td>\n",
              "      <td>0</td>\n",
              "      <td>0</td>\n",
              "      <td>0</td>\n",
              "      <td>0</td>\n",
              "      <td>0</td>\n",
              "      <td>0</td>\n",
              "      <td>0</td>\n",
              "    </tr>\n",
              "    <tr>\n",
              "      <th>12001</th>\n",
              "      <td>/content/Dataset/Test/195/bcc000013.bmp</td>\n",
              "      <td>195</td>\n",
              "      <td>0</td>\n",
              "      <td>0</td>\n",
              "      <td>0</td>\n",
              "      <td>0</td>\n",
              "      <td>0</td>\n",
              "      <td>0</td>\n",
              "      <td>0</td>\n",
              "      <td>0</td>\n",
              "      <td>...</td>\n",
              "      <td>0</td>\n",
              "      <td>0</td>\n",
              "      <td>0</td>\n",
              "      <td>0</td>\n",
              "      <td>0</td>\n",
              "      <td>0</td>\n",
              "      <td>0</td>\n",
              "      <td>0</td>\n",
              "      <td>0</td>\n",
              "      <td>0</td>\n",
              "    </tr>\n",
              "    <tr>\n",
              "      <th>12002</th>\n",
              "      <td>/content/Dataset/Test/195/bcc000021.bmp</td>\n",
              "      <td>195</td>\n",
              "      <td>0</td>\n",
              "      <td>0</td>\n",
              "      <td>0</td>\n",
              "      <td>0</td>\n",
              "      <td>0</td>\n",
              "      <td>0</td>\n",
              "      <td>0</td>\n",
              "      <td>0</td>\n",
              "      <td>...</td>\n",
              "      <td>0</td>\n",
              "      <td>0</td>\n",
              "      <td>0</td>\n",
              "      <td>0</td>\n",
              "      <td>0</td>\n",
              "      <td>0</td>\n",
              "      <td>0</td>\n",
              "      <td>0</td>\n",
              "      <td>0</td>\n",
              "      <td>0</td>\n",
              "    </tr>\n",
              "    <tr>\n",
              "      <th>12003</th>\n",
              "      <td>/content/Dataset/Test/195/bcc000051.bmp</td>\n",
              "      <td>195</td>\n",
              "      <td>0</td>\n",
              "      <td>0</td>\n",
              "      <td>0</td>\n",
              "      <td>0</td>\n",
              "      <td>0</td>\n",
              "      <td>0</td>\n",
              "      <td>0</td>\n",
              "      <td>0</td>\n",
              "      <td>...</td>\n",
              "      <td>0</td>\n",
              "      <td>0</td>\n",
              "      <td>0</td>\n",
              "      <td>0</td>\n",
              "      <td>0</td>\n",
              "      <td>0</td>\n",
              "      <td>0</td>\n",
              "      <td>0</td>\n",
              "      <td>0</td>\n",
              "      <td>0</td>\n",
              "    </tr>\n",
              "    <tr>\n",
              "      <th>12004</th>\n",
              "      <td>/content/Dataset/Test/195/bcc000035.bmp</td>\n",
              "      <td>195</td>\n",
              "      <td>0</td>\n",
              "      <td>0</td>\n",
              "      <td>0</td>\n",
              "      <td>0</td>\n",
              "      <td>0</td>\n",
              "      <td>0</td>\n",
              "      <td>0</td>\n",
              "      <td>0</td>\n",
              "      <td>...</td>\n",
              "      <td>0</td>\n",
              "      <td>0</td>\n",
              "      <td>0</td>\n",
              "      <td>0</td>\n",
              "      <td>0</td>\n",
              "      <td>0</td>\n",
              "      <td>0</td>\n",
              "      <td>0</td>\n",
              "      <td>0</td>\n",
              "      <td>0</td>\n",
              "    </tr>\n",
              "    <tr>\n",
              "      <th>...</th>\n",
              "      <td>...</td>\n",
              "      <td>...</td>\n",
              "      <td>...</td>\n",
              "      <td>...</td>\n",
              "      <td>...</td>\n",
              "      <td>...</td>\n",
              "      <td>...</td>\n",
              "      <td>...</td>\n",
              "      <td>...</td>\n",
              "      <td>...</td>\n",
              "      <td>...</td>\n",
              "      <td>...</td>\n",
              "      <td>...</td>\n",
              "      <td>...</td>\n",
              "      <td>...</td>\n",
              "      <td>...</td>\n",
              "      <td>...</td>\n",
              "      <td>...</td>\n",
              "      <td>...</td>\n",
              "      <td>...</td>\n",
              "      <td>...</td>\n",
              "    </tr>\n",
              "    <tr>\n",
              "      <th>14995</th>\n",
              "      <td>/content/Dataset/Test/184/bcc000027.bmp</td>\n",
              "      <td>184</td>\n",
              "      <td>0</td>\n",
              "      <td>0</td>\n",
              "      <td>0</td>\n",
              "      <td>0</td>\n",
              "      <td>0</td>\n",
              "      <td>0</td>\n",
              "      <td>0</td>\n",
              "      <td>0</td>\n",
              "      <td>...</td>\n",
              "      <td>0</td>\n",
              "      <td>0</td>\n",
              "      <td>0</td>\n",
              "      <td>0</td>\n",
              "      <td>0</td>\n",
              "      <td>0</td>\n",
              "      <td>0</td>\n",
              "      <td>0</td>\n",
              "      <td>0</td>\n",
              "      <td>0</td>\n",
              "    </tr>\n",
              "    <tr>\n",
              "      <th>14996</th>\n",
              "      <td>/content/Dataset/Test/184/bcc000010.bmp</td>\n",
              "      <td>184</td>\n",
              "      <td>0</td>\n",
              "      <td>0</td>\n",
              "      <td>0</td>\n",
              "      <td>0</td>\n",
              "      <td>0</td>\n",
              "      <td>0</td>\n",
              "      <td>0</td>\n",
              "      <td>0</td>\n",
              "      <td>...</td>\n",
              "      <td>0</td>\n",
              "      <td>0</td>\n",
              "      <td>0</td>\n",
              "      <td>0</td>\n",
              "      <td>0</td>\n",
              "      <td>0</td>\n",
              "      <td>0</td>\n",
              "      <td>0</td>\n",
              "      <td>0</td>\n",
              "      <td>0</td>\n",
              "    </tr>\n",
              "    <tr>\n",
              "      <th>14997</th>\n",
              "      <td>/content/Dataset/Test/184/bcc000044.bmp</td>\n",
              "      <td>184</td>\n",
              "      <td>0</td>\n",
              "      <td>0</td>\n",
              "      <td>0</td>\n",
              "      <td>0</td>\n",
              "      <td>0</td>\n",
              "      <td>0</td>\n",
              "      <td>0</td>\n",
              "      <td>0</td>\n",
              "      <td>...</td>\n",
              "      <td>0</td>\n",
              "      <td>0</td>\n",
              "      <td>0</td>\n",
              "      <td>0</td>\n",
              "      <td>0</td>\n",
              "      <td>0</td>\n",
              "      <td>0</td>\n",
              "      <td>0</td>\n",
              "      <td>0</td>\n",
              "      <td>0</td>\n",
              "    </tr>\n",
              "    <tr>\n",
              "      <th>14998</th>\n",
              "      <td>/content/Dataset/Test/184/bcc000028.bmp</td>\n",
              "      <td>184</td>\n",
              "      <td>0</td>\n",
              "      <td>0</td>\n",
              "      <td>0</td>\n",
              "      <td>0</td>\n",
              "      <td>0</td>\n",
              "      <td>0</td>\n",
              "      <td>0</td>\n",
              "      <td>0</td>\n",
              "      <td>...</td>\n",
              "      <td>0</td>\n",
              "      <td>0</td>\n",
              "      <td>0</td>\n",
              "      <td>0</td>\n",
              "      <td>0</td>\n",
              "      <td>0</td>\n",
              "      <td>0</td>\n",
              "      <td>0</td>\n",
              "      <td>0</td>\n",
              "      <td>0</td>\n",
              "    </tr>\n",
              "    <tr>\n",
              "      <th>14999</th>\n",
              "      <td>/content/Dataset/Test/184/bcc000057.bmp</td>\n",
              "      <td>184</td>\n",
              "      <td>0</td>\n",
              "      <td>0</td>\n",
              "      <td>0</td>\n",
              "      <td>0</td>\n",
              "      <td>0</td>\n",
              "      <td>0</td>\n",
              "      <td>0</td>\n",
              "      <td>0</td>\n",
              "      <td>...</td>\n",
              "      <td>0</td>\n",
              "      <td>0</td>\n",
              "      <td>0</td>\n",
              "      <td>0</td>\n",
              "      <td>0</td>\n",
              "      <td>0</td>\n",
              "      <td>0</td>\n",
              "      <td>0</td>\n",
              "      <td>0</td>\n",
              "      <td>0</td>\n",
              "    </tr>\n",
              "  </tbody>\n",
              "</table>\n",
              "<p>3000 rows × 52 columns</p>\n",
              "</div>\n",
              "      <button class=\"colab-df-convert\" onclick=\"convertToInteractive('df-b6854fc6-c4a8-474e-8eb3-3b5e8db82cb7')\"\n",
              "              title=\"Convert this dataframe to an interactive table.\"\n",
              "              style=\"display:none;\">\n",
              "        \n",
              "  <svg xmlns=\"http://www.w3.org/2000/svg\" height=\"24px\"viewBox=\"0 0 24 24\"\n",
              "       width=\"24px\">\n",
              "    <path d=\"M0 0h24v24H0V0z\" fill=\"none\"/>\n",
              "    <path d=\"M18.56 5.44l.94 2.06.94-2.06 2.06-.94-2.06-.94-.94-2.06-.94 2.06-2.06.94zm-11 1L8.5 8.5l.94-2.06 2.06-.94-2.06-.94L8.5 2.5l-.94 2.06-2.06.94zm10 10l.94 2.06.94-2.06 2.06-.94-2.06-.94-.94-2.06-.94 2.06-2.06.94z\"/><path d=\"M17.41 7.96l-1.37-1.37c-.4-.4-.92-.59-1.43-.59-.52 0-1.04.2-1.43.59L10.3 9.45l-7.72 7.72c-.78.78-.78 2.05 0 2.83L4 21.41c.39.39.9.59 1.41.59.51 0 1.02-.2 1.41-.59l7.78-7.78 2.81-2.81c.8-.78.8-2.07 0-2.86zM5.41 20L4 18.59l7.72-7.72 1.47 1.35L5.41 20z\"/>\n",
              "  </svg>\n",
              "      </button>\n",
              "      \n",
              "  <style>\n",
              "    .colab-df-container {\n",
              "      display:flex;\n",
              "      flex-wrap:wrap;\n",
              "      gap: 12px;\n",
              "    }\n",
              "\n",
              "    .colab-df-convert {\n",
              "      background-color: #E8F0FE;\n",
              "      border: none;\n",
              "      border-radius: 50%;\n",
              "      cursor: pointer;\n",
              "      display: none;\n",
              "      fill: #1967D2;\n",
              "      height: 32px;\n",
              "      padding: 0 0 0 0;\n",
              "      width: 32px;\n",
              "    }\n",
              "\n",
              "    .colab-df-convert:hover {\n",
              "      background-color: #E2EBFA;\n",
              "      box-shadow: 0px 1px 2px rgba(60, 64, 67, 0.3), 0px 1px 3px 1px rgba(60, 64, 67, 0.15);\n",
              "      fill: #174EA6;\n",
              "    }\n",
              "\n",
              "    [theme=dark] .colab-df-convert {\n",
              "      background-color: #3B4455;\n",
              "      fill: #D2E3FC;\n",
              "    }\n",
              "\n",
              "    [theme=dark] .colab-df-convert:hover {\n",
              "      background-color: #434B5C;\n",
              "      box-shadow: 0px 1px 3px 1px rgba(0, 0, 0, 0.15);\n",
              "      filter: drop-shadow(0px 1px 2px rgba(0, 0, 0, 0.3));\n",
              "      fill: #FFFFFF;\n",
              "    }\n",
              "  </style>\n",
              "\n",
              "      <script>\n",
              "        const buttonEl =\n",
              "          document.querySelector('#df-b6854fc6-c4a8-474e-8eb3-3b5e8db82cb7 button.colab-df-convert');\n",
              "        buttonEl.style.display =\n",
              "          google.colab.kernel.accessAllowed ? 'block' : 'none';\n",
              "\n",
              "        async function convertToInteractive(key) {\n",
              "          const element = document.querySelector('#df-b6854fc6-c4a8-474e-8eb3-3b5e8db82cb7');\n",
              "          const dataTable =\n",
              "            await google.colab.kernel.invokeFunction('convertToInteractive',\n",
              "                                                     [key], {});\n",
              "          if (!dataTable) return;\n",
              "\n",
              "          const docLinkHtml = 'Like what you see? Visit the ' +\n",
              "            '<a target=\"_blank\" href=https://colab.research.google.com/notebooks/data_table.ipynb>data table notebook</a>'\n",
              "            + ' to learn more about interactive tables.';\n",
              "          element.innerHTML = '';\n",
              "          dataTable['output_type'] = 'display_data';\n",
              "          await google.colab.output.renderOutput(dataTable, element);\n",
              "          const docLink = document.createElement('div');\n",
              "          docLink.innerHTML = docLinkHtml;\n",
              "          element.appendChild(docLink);\n",
              "        }\n",
              "      </script>\n",
              "    </div>\n",
              "  </div>\n",
              "  "
            ]
          },
          "metadata": {},
          "execution_count": 8
        }
      ]
    },
    {
      "cell_type": "code",
      "source": [
        "import matplotlib.pyplot as plt\n",
        "import random\n",
        "\n",
        "def imshow():\n",
        "    idx = random.randint(0, len(train_df))\n",
        "    img = plt.imread(train_df['Path'][idx])\n",
        "    label = train_df['Label'][idx]\n",
        "    print(img.shape)\n",
        "    plt.imshow(img)\n",
        "    plt.title(label)\n",
        "    plt.show()\n",
        "\n",
        "imshow()"
      ],
      "metadata": {
        "id": "YHqEn8_W6fQO",
        "colab": {
          "base_uri": "https://localhost:8080/",
          "height": 470
        },
        "outputId": "acd4576b-982b-4356-8d71-fa41562fdd05"
      },
      "execution_count": null,
      "outputs": [
        {
          "output_type": "stream",
          "name": "stdout",
          "text": [
            "(94, 25, 3)\n"
          ]
        },
        {
          "output_type": "display_data",
          "data": {
            "text/plain": [
              "<Figure size 640x480 with 1 Axes>"
            ],
            "image/png": "[encoded data removed]"
          },
          "metadata": {}
        }
      ]
    },
    {
      "cell_type": "code",
      "source": [],
      "metadata": {
        "id": "hw7WFNQgGr9s"
      },
      "execution_count": null,
      "outputs": []
    },
    {
      "cell_type": "code",
      "metadata": {
        "id": "6cQWECQ8ILht"
      },
      "source": [
        "class CustomDatasetLoader(torch.utils.data.Dataset):\n",
        "\n",
        "    def __init__(self, df, transform=None):\n",
        "        self.df = df\n",
        "        self.transform = transform\n",
        "\n",
        "    def __len__(self):\n",
        "        return len(self.df)\n",
        "\n",
        "    def __getitem__(self, idx):\n",
        "        path = self.df.iloc[idx, 0]\n",
        "        img = cv2.imread(path)\n",
        "\n",
        "        if self.transform:\n",
        "            img = self.transform(img)\n",
        "\n",
        "        label = torch.from_numpy(self.df.iloc[idx, 2:].values.astype(float))\n",
        "\n",
        "        return (img, label)"
      ],
      "execution_count": null,
      "outputs": []
    },
    {
      "cell_type": "code",
      "metadata": {
        "id": "v3_Pwi-5J9V8"
      },
      "source": [
        "transform = torchvision.transforms.Compose([\n",
        "    torchvision.transforms.ToPILImage(),\n",
        "    torchvision.transforms.Resize(IMG_SIZE),\n",
        "    # torchvision.transforms.Grayscale(num_output_channels=3),\n",
        "    torchvision.transforms.ToTensor(),\n",
        "])\n",
        "\n",
        "train_data = CustomDatasetLoader(df = train_df, transform = transform)\n",
        "test_data = CustomDatasetLoader(df = test_df, transform = transform)\n",
        "all_data = CustomDatasetLoader(df = df.iloc[:, :-1], transform = transform)\n",
        "\n",
        "train_loader = torch.utils.data.DataLoader(\n",
        "    dataset = train_data, batch_size = 32, shuffle = True, num_workers = 1, drop_last = True\n",
        ")\n",
        "test_loader = torch.utils.data.DataLoader(\n",
        "    dataset = test_data, batch_size = 64, shuffle = True, num_workers = 1, drop_last = False\n",
        ")\n",
        "all_data_loader = torch.utils.data.DataLoader(\n",
        "    dataset = all_data, batch_size = 64, shuffle = True, num_workers = 1, drop_last = False\n",
        ")"
      ],
      "execution_count": null,
      "outputs": []
    },
    {
      "cell_type": "code",
      "metadata": {
        "id": "WXHcMrL5ILkw",
        "colab": {
          "base_uri": "https://localhost:8080/"
        },
        "outputId": "7537b0e3-fc83-4a61-def6-e9c1d710b564"
      },
      "source": [
        "for (images, labels) in all_data_loader:\n",
        "    print(images.shape)\n",
        "    print(labels.shape)\n",
        "    break\n",
        "\n",
        "all_data.__len__()"
      ],
      "execution_count": null,
      "outputs": [
        {
          "output_type": "stream",
          "name": "stdout",
          "text": [
            "torch.Size([64, 3, 32, 32])\n",
            "torch.Size([64, 50])\n"
          ]
        },
        {
          "output_type": "execute_result",
          "data": {
            "text/plain": [
              "15000"
            ]
          },
          "metadata": {},
          "execution_count": 12
        }
      ]
    },
    {
      "cell_type": "code",
      "source": [
        "# class CustomCNN(nn.Module):\n",
        "#     def __init__(self, n_features=64, dropout=0.1):\n",
        "#         super(CustomCNN, self).__init__()\n",
        "#         self.relu = nn.ReLU()\n",
        "#         self.maxpool = nn.MaxPool2d(kernel_size=(2, 2), stride=(2, 2))\n",
        "#         self.conv_dropout = nn.Dropout2d(p=dropout)\n",
        "#         self.fc_dropout = nn.Dropout(p=dropout)\n",
        "#         self.conv1 = nn.Conv2d(in_channels=3, out_channels=32, kernel_size=(3, 3), stride=(1, 1), padding=0)\n",
        "#         self.conv2 = nn.Conv2d(in_channels=32, out_channels=64, kernel_size=(3, 3), stride=(1, 1), padding=0)\n",
        "#         self.conv3 = nn.Conv2d(in_channels=64, out_channels=96, kernel_size=(3, 3), stride=(1, 1), padding=0)\n",
        "#         self.conv4 = nn.Conv2d(in_channels=96, out_channels=128, kernel_size=(2, 2), stride=(1, 1), padding=0)\n",
        "#         self.fc1 = nn.Linear(in_features=128, out_features=128)\n",
        "#         self.fc2 = nn.Linear(in_features=128, out_features=96)\n",
        "#         self.out = nn.Linear(in_features=96, out_features=n_features)\n",
        "\n",
        "#     def forward(self, img):\n",
        "#         img = self.conv_dropout(self.maxpool(self.relu(self.conv1(img))))\n",
        "#         img = self.conv_dropout(self.maxpool(self.relu(self.conv2(img))))\n",
        "#         img = self.conv_dropout(self.maxpool(self.relu(self.conv3(img))))\n",
        "#         img = self.relu(self.conv4(img))\n",
        "#         img = img.reshape(img.shape[0], -1)\n",
        "#         img = self.fc_dropout(self.relu(self.fc1(img)))\n",
        "#         img = self.fc_dropout(self.relu(self.fc2(img)))\n",
        "#         img = self.out(img)\n",
        "#         return img"
      ],
      "metadata": {
        "id": "vwcfG6vekULj"
      },
      "execution_count": null,
      "outputs": []
    },
    {
      "cell_type": "code",
      "source": [
        "class CustomCNN(nn.Module):\n",
        "    def __init__(self, n_features=64, dropout=0.0):\n",
        "        super(CustomCNN, self).__init__()\n",
        "        self.relu = nn.ReLU()\n",
        "        self.maxpool_k2xs1 = nn.MaxPool2d(kernel_size=(2, 2), stride=(1, 1))\n",
        "        self.maxpool_k2xs2 = nn.MaxPool2d(kernel_size=(2, 2), stride=(2, 2))\n",
        "        self.conv_dropout = nn.Dropout2d(p=dropout)\n",
        "        self.fc_dropout = nn.Dropout(p=dropout)\n",
        "        self.conv1 = nn.Conv2d(in_channels=3, out_channels=16, kernel_size=(2, 2), stride=(1, 1), padding=0)\n",
        "        self.conv2 = nn.Conv2d(in_channels=16, out_channels=32, kernel_size=(3, 3), stride=(1, 1), padding=0)\n",
        "        self.conv3 = nn.Conv2d(in_channels=32, out_channels=64, kernel_size=(3, 3), stride=(1, 1), padding=0)\n",
        "        self.conv4 = nn.Conv2d(in_channels=64, out_channels=128, kernel_size=(3, 3), stride=(1, 1), padding=0)\n",
        "        self.conv5 = nn.Conv2d(in_channels=128, out_channels=256, kernel_size=(2, 2), stride=(1, 1), padding=0)\n",
        "        self.fc1 = nn.Linear(in_features=256, out_features=128)\n",
        "        self.fc2 = nn.Linear(in_features=128, out_features=64)\n",
        "        self.out = nn.Linear(in_features=64, out_features=n_features)\n",
        "        self.batch_norm1 = nn.BatchNorm2d(16)\n",
        "        self.batch_norm2 = nn.BatchNorm2d(32)\n",
        "        self.batch_norm3 = nn.BatchNorm2d(64)\n",
        "        self.batch_norm4 = nn.BatchNorm2d(128)\n",
        "        self.batch_norm5 = nn.BatchNorm2d(256)\n",
        "\n",
        "    def forward(self, img):\n",
        "        img = self.conv_dropout(self.batch_norm1(self.maxpool_k2xs1(self.relu(self.conv1(img)))))\n",
        "        img = self.conv_dropout(self.batch_norm2(self.maxpool_k2xs2(self.relu(self.conv2(img)))))\n",
        "        img = self.conv_dropout(self.batch_norm3(self.maxpool_k2xs2(self.relu(self.conv3(img)))))\n",
        "        img = self.conv_dropout(self.batch_norm4(self.maxpool_k2xs2(self.relu(self.conv4(img)))))\n",
        "        img = self.conv_dropout(self.batch_norm5(self.relu(self.conv5(img))))\n",
        "        img = img.reshape(img.shape[0], -1)\n",
        "        img = self.fc_dropout(self.relu(self.fc1(img)))\n",
        "        img = self.fc_dropout(self.relu(self.fc2(img)))\n",
        "        img = self.out(img)\n",
        "        return img"
      ],
      "metadata": {
        "id": "Bd4qKSgqPX0O"
      },
      "execution_count": null,
      "outputs": []
    },
    {
      "cell_type": "code",
      "source": [
        "model = CustomCNN(n_features=64).to(DEVICE)\n",
        "sum(p.numel() for p in model.parameters() if p.requires_grad)"
      ],
      "metadata": {
        "id": "5PieWr4ZIsMP",
        "colab": {
          "base_uri": "https://localhost:8080/"
        },
        "outputId": "27cfb6b6-141c-46a2-8126-21be7865c6f2"
      },
      "execution_count": null,
      "outputs": [
        {
          "output_type": "execute_result",
          "data": {
            "text/plain": [
              "274832"
            ]
          },
          "metadata": {},
          "execution_count": 65
        }
      ]
    },
    {
      "cell_type": "code",
      "source": [
        "# model = CustomCNN(n_features=64).to(DEVICE)\n",
        "# model"
      ],
      "metadata": {
        "id": "3m79bYK1snKX"
      },
      "execution_count": null,
      "outputs": []
    },
    {
      "cell_type": "code",
      "source": [
        "from torchsummary import summary\n",
        "\n",
        "summary(model, (3, 32, 32))"
      ],
      "metadata": {
        "colab": {
          "base_uri": "https://localhost:8080/"
        },
        "id": "n-5pPkCws153",
        "outputId": "0631c792-cc6c-494d-a939-ccfec8691db1"
      },
      "execution_count": null,
      "outputs": [
        {
          "output_type": "stream",
          "name": "stdout",
          "text": [
            "----------------------------------------------------------------\n",
            "        Layer (type)               Output Shape         Param #\n",
            "================================================================\n",
            "            Conv2d-1           [-1, 16, 31, 31]             208\n",
            "              ReLU-2           [-1, 16, 31, 31]               0\n",
            "         MaxPool2d-3           [-1, 16, 30, 30]               0\n",
            "       BatchNorm2d-4           [-1, 16, 30, 30]              32\n",
            "         Dropout2d-5           [-1, 16, 30, 30]               0\n",
            "            Conv2d-6           [-1, 32, 28, 28]           4,640\n",
            "              ReLU-7           [-1, 32, 28, 28]               0\n",
            "         MaxPool2d-8           [-1, 32, 14, 14]               0\n",
            "       BatchNorm2d-9           [-1, 32, 14, 14]              64\n",
            "        Dropout2d-10           [-1, 32, 14, 14]               0\n",
            "           Conv2d-11           [-1, 64, 12, 12]          18,496\n",
            "             ReLU-12           [-1, 64, 12, 12]               0\n",
            "        MaxPool2d-13             [-1, 64, 6, 6]               0\n",
            "      BatchNorm2d-14             [-1, 64, 6, 6]             128\n",
            "        Dropout2d-15             [-1, 64, 6, 6]               0\n",
            "           Conv2d-16            [-1, 128, 4, 4]          73,856\n",
            "             ReLU-17            [-1, 128, 4, 4]               0\n",
            "        MaxPool2d-18            [-1, 128, 2, 2]               0\n",
            "      BatchNorm2d-19            [-1, 128, 2, 2]             256\n",
            "        Dropout2d-20            [-1, 128, 2, 2]               0\n",
            "           Conv2d-21            [-1, 256, 1, 1]         131,328\n",
            "             ReLU-22            [-1, 256, 1, 1]               0\n",
            "      BatchNorm2d-23            [-1, 256, 1, 1]             512\n",
            "        Dropout2d-24            [-1, 256, 1, 1]               0\n",
            "           Linear-25                  [-1, 128]          32,896\n",
            "             ReLU-26                  [-1, 128]               0\n",
            "          Dropout-27                  [-1, 128]               0\n",
            "           Linear-28                   [-1, 64]           8,256\n",
            "             ReLU-29                   [-1, 64]               0\n",
            "          Dropout-30                   [-1, 64]               0\n",
            "           Linear-31                   [-1, 64]           4,160\n",
            "================================================================\n",
            "Total params: 274,832\n",
            "Trainable params: 274,832\n",
            "Non-trainable params: 0\n",
            "----------------------------------------------------------------\n",
            "Input size (MB): 0.01\n",
            "Forward/backward pass size (MB): 1.34\n",
            "Params size (MB): 1.05\n",
            "Estimated Total Size (MB): 2.40\n",
            "----------------------------------------------------------------\n"
          ]
        }
      ]
    },
    {
      "cell_type": "code",
      "source": [
        "# for (images, labels) in tqdm(train_loader):\n",
        "#     images, labels = images.to(DEVICE), labels.to(DEVICE)\n",
        "#     predictions = model(images)\n",
        "#     print(predictions.shape, labels.shape)\n",
        "#     # predictions = torch.matmul(predictions.to(float), embedding)\n",
        "#     # print(predictions.shape, labels.shape)\n",
        "#     break"
      ],
      "metadata": {
        "id": "VWCKr9iInQrv"
      },
      "execution_count": null,
      "outputs": []
    },
    {
      "cell_type": "code",
      "source": [],
      "metadata": {
        "id": "PxG8FGpMnQuL"
      },
      "execution_count": null,
      "outputs": []
    },
    {
      "cell_type": "code",
      "source": [
        "def train(model, dataloader, embedding, criterion, optimizer, device):\n",
        "    model.train()\n",
        "\n",
        "    train_count, correct_predictions, train_loss = 0, 0, 0\n",
        "\n",
        "    for (images, labels) in tqdm(dataloader):\n",
        "        images, labels = images.to(device), labels.to(device)\n",
        "\n",
        "        # _, labels = torch.max(labels.data, 1)\n",
        "\n",
        "        predictions = model(images)\n",
        "        predictions = torch.matmul(predictions.to(float), embedding)\n",
        "\n",
        "        optimizer.zero_grad()\n",
        "        loss = criterion(predictions, labels)\n",
        "        loss.backward()\n",
        "        optimizer.step()\n",
        "\n",
        "        _, predictions = torch.max(predictions.data, 1)\n",
        "        _, labels = torch.max(labels.data, 1)\n",
        "\n",
        "        train_count += labels.shape[0]\n",
        "        correct_predictions += (predictions == labels).sum().item()\n",
        "        train_loss += loss.item()\n",
        "\n",
        "    train_acc = correct_predictions / train_count\n",
        "    train_loss = train_loss / len(train_loader)\n",
        "\n",
        "    return train_acc, train_loss"
      ],
      "metadata": {
        "id": "5_tbxkQs7gYp"
      },
      "execution_count": null,
      "outputs": []
    },
    {
      "cell_type": "code",
      "metadata": {
        "id": "W8wyLVpRnx50"
      },
      "source": [
        "def test(model, dataloader, embedding, device):\n",
        "    model.eval()\n",
        "    test_count, correct_predictions = 0, 0\n",
        "\n",
        "    with torch.no_grad():\n",
        "        for (images, labels) in tqdm(dataloader):\n",
        "            images, labels = images.to(device), labels.to(device)\n",
        "\n",
        "            predictions = model(images)\n",
        "            predictions = torch.matmul(predictions.to(float), embedding)\n",
        "\n",
        "            _, predictions = torch.max(predictions.data, 1)\n",
        "            _, labels = torch.max(labels.data, 1)\n",
        "\n",
        "            test_count += labels.shape[0]\n",
        "            correct_predictions += (predictions == labels).sum().item()\n",
        "\n",
        "        test_acc = correct_predictions / test_count\n",
        "\n",
        "    return test_acc"
      ],
      "execution_count": null,
      "outputs": []
    },
    {
      "cell_type": "code",
      "source": [],
      "metadata": {
        "id": "vliPsBRHoZqr"
      },
      "execution_count": null,
      "outputs": []
    },
    {
      "cell_type": "code",
      "source": [],
      "metadata": {
        "id": "0Qu1hNNwoZ2R"
      },
      "execution_count": null,
      "outputs": []
    },
    {
      "cell_type": "markdown",
      "source": [
        "# embd_all_images_avg_df"
      ],
      "metadata": {
        "id": "lwIjuTIXoaRU"
      }
    },
    {
      "cell_type": "code",
      "source": [
        "model = CustomCNN(n_features=64).to(DEVICE)\n",
        "sum(p.numel() for p in model.parameters() if p.requires_grad)"
      ],
      "metadata": {
        "colab": {
          "base_uri": "https://localhost:8080/"
        },
        "id": "5TvThlbllqKL",
        "outputId": "6ba501a4-26b2-4df3-9dfc-bfff808ece41"
      },
      "execution_count": null,
      "outputs": [
        {
          "output_type": "execute_result",
          "data": {
            "text/plain": [
              "274832"
            ]
          },
          "metadata": {},
          "execution_count": 69
        }
      ]
    },
    {
      "cell_type": "code",
      "source": [
        "optimizer = torch.optim.Adam(model.parameters())\n",
        "criterion = torch.nn.CrossEntropyLoss()"
      ],
      "metadata": {
        "id": "BJEYPvwRtx3d"
      },
      "execution_count": null,
      "outputs": []
    },
    {
      "cell_type": "code",
      "source": [
        "embedding = pd.read_csv('/content/drive/MyDrive/ZSClassification/ZeroShotHandwrittenCharacterRecognition/Bangla/Embd_VAEResnet/embd_all_images_avg_df.csv')\n",
        "\n",
        "embedding = embedding.iloc[:, :].values\n",
        "# embedding = embedding.iloc[:, :].values.T\n",
        "embedding = torch.from_numpy(embedding)\n",
        "embedding = embedding.to(DEVICE)\n",
        "embedding.shape, embedding"
      ],
      "metadata": {
        "id": "GWlmmwvzGsFK",
        "colab": {
          "base_uri": "https://localhost:8080/"
        },
        "outputId": "16e78ba2-9ae7-4c00-d2d8-a044831314bb"
      },
      "execution_count": null,
      "outputs": [
        {
          "output_type": "execute_result",
          "data": {
            "text/plain": [
              "(torch.Size([64, 50]),\n",
              " tensor([[ 1.1641, -0.2061,  1.3992,  ...,  0.8768,  0.4459,  0.2451],\n",
              "         [-3.2741, -2.2443,  0.4083,  ..., -0.1000,  1.1276,  1.1679],\n",
              "         [ 0.1050, -0.4292, -0.6428,  ..., -0.7162, -0.3833, -0.4157],\n",
              "         ...,\n",
              "         [ 0.0384,  0.9029,  1.6905,  ..., -0.7060,  1.6201,  1.0158],\n",
              "         [-0.4106, -1.2564,  0.5205,  ...,  0.1386,  2.7253,  1.1343],\n",
              "         [-0.1621, -0.3537,  0.6516,  ...,  0.5294, -0.2913, -0.0707]],\n",
              "        device='cuda:0', dtype=torch.float64))"
            ]
          },
          "metadata": {},
          "execution_count": 71
        }
      ]
    },
    {
      "cell_type": "code",
      "metadata": {
        "id": "HwnMngwNWjyI",
        "colab": {
          "base_uri": "https://localhost:8080/"
        },
        "outputId": "825fc648-8bf7-47c7-d2fe-84b20f076888"
      },
      "source": [
        "best_loss, best_acc = 1e10, 0\n",
        "\n",
        "for epoch in range(50+1):\n",
        "    print(f\"Epoch: {epoch}\")\n",
        "\n",
        "    # if os.path.exists('model.pth'):\n",
        "    #     model.load_state_dict(torch.load('model.pth'))\n",
        "\n",
        "    train_acc, train_loss = train(model, train_loader, embedding, criterion, optimizer, DEVICE)\n",
        "    test_acc = test(model, test_loader, embedding, DEVICE)\n",
        "    print(f\"Training Accuracy: {train_acc*100:.3f}%, Training Loss: {train_loss:.4f}, Test Accuracy: {test_acc*100:.3f}%\\n\")\n",
        "\n",
        "    # if epoch % 5 == 0 and test_acc > best_acc and train_loss < best_loss:\n",
        "    if train_loss < best_loss:\n",
        "        best_acc = test_acc\n",
        "        best_loss = train_loss\n",
        "        torch.save(model.state_dict(), \"model.pth\")\n",
        "        print(f\"{'-'*20}\\nModel Saved\\n{'-'*20}\")"
      ],
      "execution_count": null,
      "outputs": [
        {
          "output_type": "stream",
          "name": "stdout",
          "text": [
            "Epoch: 0\n"
          ]
        },
        {
          "output_type": "stream",
          "name": "stderr",
          "text": [
            "100%|██████████| 375/375 [00:11<00:00, 31.26it/s]\n",
            "100%|██████████| 47/47 [00:02<00:00, 21.39it/s]\n"
          ]
        },
        {
          "output_type": "stream",
          "name": "stdout",
          "text": [
            "Training Accuracy: 58.867%, Training Loss: 1.3954, Test Accuracy: 75.500%\n",
            "\n",
            "--------------------\n",
            "Model Saved\n",
            "--------------------\n",
            "Epoch: 1\n"
          ]
        },
        {
          "output_type": "stream",
          "name": "stderr",
          "text": [
            "100%|██████████| 375/375 [00:13<00:00, 26.90it/s]\n",
            "100%|██████████| 47/47 [00:02<00:00, 21.01it/s]\n"
          ]
        },
        {
          "output_type": "stream",
          "name": "stdout",
          "text": [
            "Training Accuracy: 81.792%, Training Loss: 0.5947, Test Accuracy: 84.033%\n",
            "\n",
            "--------------------\n",
            "Model Saved\n",
            "--------------------\n",
            "Epoch: 2\n"
          ]
        },
        {
          "output_type": "stream",
          "name": "stderr",
          "text": [
            "100%|██████████| 375/375 [00:10<00:00, 36.32it/s]\n",
            "100%|██████████| 47/47 [00:02<00:00, 21.33it/s]\n"
          ]
        },
        {
          "output_type": "stream",
          "name": "stdout",
          "text": [
            "Training Accuracy: 87.775%, Training Loss: 0.3933, Test Accuracy: 88.733%\n",
            "\n",
            "--------------------\n",
            "Model Saved\n",
            "--------------------\n",
            "Epoch: 3\n"
          ]
        },
        {
          "output_type": "stream",
          "name": "stderr",
          "text": [
            "100%|██████████| 375/375 [00:13<00:00, 28.10it/s]\n",
            "100%|██████████| 47/47 [00:02<00:00, 18.19it/s]\n"
          ]
        },
        {
          "output_type": "stream",
          "name": "stdout",
          "text": [
            "Training Accuracy: 90.517%, Training Loss: 0.2980, Test Accuracy: 90.633%\n",
            "\n",
            "--------------------\n",
            "Model Saved\n",
            "--------------------\n",
            "Epoch: 4\n"
          ]
        },
        {
          "output_type": "stream",
          "name": "stderr",
          "text": [
            "100%|██████████| 375/375 [00:14<00:00, 25.88it/s]\n",
            "100%|██████████| 47/47 [00:03<00:00, 11.91it/s]\n"
          ]
        },
        {
          "output_type": "stream",
          "name": "stdout",
          "text": [
            "Training Accuracy: 91.842%, Training Loss: 0.2468, Test Accuracy: 89.800%\n",
            "\n",
            "--------------------\n",
            "Model Saved\n",
            "--------------------\n",
            "Epoch: 5\n"
          ]
        },
        {
          "output_type": "stream",
          "name": "stderr",
          "text": [
            "100%|██████████| 375/375 [00:09<00:00, 39.17it/s]\n",
            "100%|██████████| 47/47 [00:02<00:00, 17.42it/s]\n"
          ]
        },
        {
          "output_type": "stream",
          "name": "stdout",
          "text": [
            "Training Accuracy: 92.975%, Training Loss: 0.2190, Test Accuracy: 87.733%\n",
            "\n",
            "--------------------\n",
            "Model Saved\n",
            "--------------------\n",
            "Epoch: 6\n"
          ]
        },
        {
          "output_type": "stream",
          "name": "stderr",
          "text": [
            "100%|██████████| 375/375 [00:09<00:00, 38.86it/s]\n",
            "100%|██████████| 47/47 [00:02<00:00, 20.96it/s]\n"
          ]
        },
        {
          "output_type": "stream",
          "name": "stdout",
          "text": [
            "Training Accuracy: 93.908%, Training Loss: 0.1903, Test Accuracy: 88.333%\n",
            "\n",
            "--------------------\n",
            "Model Saved\n",
            "--------------------\n",
            "Epoch: 7\n"
          ]
        },
        {
          "output_type": "stream",
          "name": "stderr",
          "text": [
            "100%|██████████| 375/375 [00:10<00:00, 36.98it/s]\n",
            "100%|██████████| 47/47 [00:02<00:00, 21.54it/s]\n"
          ]
        },
        {
          "output_type": "stream",
          "name": "stdout",
          "text": [
            "Training Accuracy: 94.733%, Training Loss: 0.1576, Test Accuracy: 91.033%\n",
            "\n",
            "--------------------\n",
            "Model Saved\n",
            "--------------------\n",
            "Epoch: 8\n"
          ]
        },
        {
          "output_type": "stream",
          "name": "stderr",
          "text": [
            "100%|██████████| 375/375 [00:10<00:00, 36.35it/s]\n",
            "100%|██████████| 47/47 [00:02<00:00, 21.49it/s]\n"
          ]
        },
        {
          "output_type": "stream",
          "name": "stdout",
          "text": [
            "Training Accuracy: 95.025%, Training Loss: 0.1638, Test Accuracy: 91.467%\n",
            "\n",
            "Epoch: 9\n"
          ]
        },
        {
          "output_type": "stream",
          "name": "stderr",
          "text": [
            "100%|██████████| 375/375 [00:10<00:00, 36.37it/s]\n",
            "100%|██████████| 47/47 [00:02<00:00, 21.10it/s]\n"
          ]
        },
        {
          "output_type": "stream",
          "name": "stdout",
          "text": [
            "Training Accuracy: 95.783%, Training Loss: 0.1300, Test Accuracy: 91.533%\n",
            "\n",
            "--------------------\n",
            "Model Saved\n",
            "--------------------\n",
            "Epoch: 10\n"
          ]
        },
        {
          "output_type": "stream",
          "name": "stderr",
          "text": [
            "100%|██████████| 375/375 [00:10<00:00, 36.29it/s]\n",
            "100%|██████████| 47/47 [00:02<00:00, 21.07it/s]\n"
          ]
        },
        {
          "output_type": "stream",
          "name": "stdout",
          "text": [
            "Training Accuracy: 96.408%, Training Loss: 0.1150, Test Accuracy: 91.833%\n",
            "\n",
            "--------------------\n",
            "Model Saved\n",
            "--------------------\n",
            "Epoch: 11\n"
          ]
        },
        {
          "output_type": "stream",
          "name": "stderr",
          "text": [
            "100%|██████████| 375/375 [00:10<00:00, 36.25it/s]\n",
            "100%|██████████| 47/47 [00:02<00:00, 21.49it/s]\n"
          ]
        },
        {
          "output_type": "stream",
          "name": "stdout",
          "text": [
            "Training Accuracy: 96.008%, Training Loss: 0.1270, Test Accuracy: 90.600%\n",
            "\n",
            "Epoch: 12\n"
          ]
        },
        {
          "output_type": "stream",
          "name": "stderr",
          "text": [
            "100%|██████████| 375/375 [00:10<00:00, 36.38it/s]\n",
            "100%|██████████| 47/47 [00:02<00:00, 21.37it/s]\n"
          ]
        },
        {
          "output_type": "stream",
          "name": "stdout",
          "text": [
            "Training Accuracy: 95.975%, Training Loss: 0.1359, Test Accuracy: 91.000%\n",
            "\n",
            "Epoch: 13\n"
          ]
        },
        {
          "output_type": "stream",
          "name": "stderr",
          "text": [
            "100%|██████████| 375/375 [00:10<00:00, 37.30it/s]\n",
            "100%|██████████| 47/47 [00:02<00:00, 20.04it/s]\n"
          ]
        },
        {
          "output_type": "stream",
          "name": "stdout",
          "text": [
            "Training Accuracy: 96.742%, Training Loss: 0.1010, Test Accuracy: 93.100%\n",
            "\n",
            "--------------------\n",
            "Model Saved\n",
            "--------------------\n",
            "Epoch: 14\n"
          ]
        },
        {
          "output_type": "stream",
          "name": "stderr",
          "text": [
            "100%|██████████| 375/375 [00:09<00:00, 39.75it/s]\n",
            "100%|██████████| 47/47 [00:02<00:00, 16.09it/s]\n"
          ]
        },
        {
          "output_type": "stream",
          "name": "stdout",
          "text": [
            "Training Accuracy: 97.517%, Training Loss: 0.0803, Test Accuracy: 92.467%\n",
            "\n",
            "--------------------\n",
            "Model Saved\n",
            "--------------------\n",
            "Epoch: 15\n"
          ]
        },
        {
          "output_type": "stream",
          "name": "stderr",
          "text": [
            "100%|██████████| 375/375 [00:09<00:00, 41.20it/s]\n",
            "100%|██████████| 47/47 [00:02<00:00, 15.93it/s]\n"
          ]
        },
        {
          "output_type": "stream",
          "name": "stdout",
          "text": [
            "Training Accuracy: 96.508%, Training Loss: 0.1227, Test Accuracy: 92.267%\n",
            "\n",
            "Epoch: 16\n"
          ]
        },
        {
          "output_type": "stream",
          "name": "stderr",
          "text": [
            "100%|██████████| 375/375 [00:09<00:00, 39.30it/s]\n",
            "100%|██████████| 47/47 [00:02<00:00, 18.21it/s]\n"
          ]
        },
        {
          "output_type": "stream",
          "name": "stdout",
          "text": [
            "Training Accuracy: 97.150%, Training Loss: 0.0931, Test Accuracy: 93.400%\n",
            "\n",
            "Epoch: 17\n"
          ]
        },
        {
          "output_type": "stream",
          "name": "stderr",
          "text": [
            "100%|██████████| 375/375 [00:09<00:00, 38.30it/s]\n",
            "100%|██████████| 47/47 [00:02<00:00, 21.05it/s]\n"
          ]
        },
        {
          "output_type": "stream",
          "name": "stdout",
          "text": [
            "Training Accuracy: 97.550%, Training Loss: 0.0811, Test Accuracy: 93.733%\n",
            "\n",
            "Epoch: 18\n"
          ]
        },
        {
          "output_type": "stream",
          "name": "stderr",
          "text": [
            "100%|██████████| 375/375 [00:10<00:00, 35.90it/s]\n",
            "100%|██████████| 47/47 [00:02<00:00, 21.24it/s]\n"
          ]
        },
        {
          "output_type": "stream",
          "name": "stdout",
          "text": [
            "Training Accuracy: 97.617%, Training Loss: 0.0866, Test Accuracy: 91.433%\n",
            "\n",
            "Epoch: 19\n"
          ]
        },
        {
          "output_type": "stream",
          "name": "stderr",
          "text": [
            "100%|██████████| 375/375 [00:11<00:00, 32.47it/s]\n",
            "100%|██████████| 47/47 [00:02<00:00, 21.24it/s]\n"
          ]
        },
        {
          "output_type": "stream",
          "name": "stdout",
          "text": [
            "Training Accuracy: 97.133%, Training Loss: 0.0995, Test Accuracy: 93.933%\n",
            "\n",
            "Epoch: 20\n"
          ]
        },
        {
          "output_type": "stream",
          "name": "stderr",
          "text": [
            "100%|██████████| 375/375 [00:10<00:00, 36.15it/s]\n",
            "100%|██████████| 47/47 [00:02<00:00, 21.03it/s]\n"
          ]
        },
        {
          "output_type": "stream",
          "name": "stdout",
          "text": [
            "Training Accuracy: 97.908%, Training Loss: 0.0704, Test Accuracy: 93.400%\n",
            "\n",
            "--------------------\n",
            "Model Saved\n",
            "--------------------\n",
            "Epoch: 21\n"
          ]
        },
        {
          "output_type": "stream",
          "name": "stderr",
          "text": [
            "100%|██████████| 375/375 [00:10<00:00, 35.94it/s]\n",
            "100%|██████████| 47/47 [00:02<00:00, 21.12it/s]\n"
          ]
        },
        {
          "output_type": "stream",
          "name": "stdout",
          "text": [
            "Training Accuracy: 97.300%, Training Loss: 0.0896, Test Accuracy: 93.267%\n",
            "\n",
            "Epoch: 22\n"
          ]
        },
        {
          "output_type": "stream",
          "name": "stderr",
          "text": [
            "100%|██████████| 375/375 [00:10<00:00, 36.01it/s]\n",
            "100%|██████████| 47/47 [00:02<00:00, 21.20it/s]\n"
          ]
        },
        {
          "output_type": "stream",
          "name": "stdout",
          "text": [
            "Training Accuracy: 97.767%, Training Loss: 0.0819, Test Accuracy: 92.867%\n",
            "\n",
            "Epoch: 23\n"
          ]
        },
        {
          "output_type": "stream",
          "name": "stderr",
          "text": [
            "100%|██████████| 375/375 [00:10<00:00, 36.01it/s]\n",
            "100%|██████████| 47/47 [00:02<00:00, 20.97it/s]\n"
          ]
        },
        {
          "output_type": "stream",
          "name": "stdout",
          "text": [
            "Training Accuracy: 98.367%, Training Loss: 0.0539, Test Accuracy: 92.300%\n",
            "\n",
            "--------------------\n",
            "Model Saved\n",
            "--------------------\n",
            "Epoch: 24\n"
          ]
        },
        {
          "output_type": "stream",
          "name": "stderr",
          "text": [
            "100%|██████████| 375/375 [00:10<00:00, 35.58it/s]\n",
            "100%|██████████| 47/47 [00:02<00:00, 21.39it/s]\n"
          ]
        },
        {
          "output_type": "stream",
          "name": "stdout",
          "text": [
            "Training Accuracy: 97.900%, Training Loss: 0.0724, Test Accuracy: 93.800%\n",
            "\n",
            "Epoch: 25\n"
          ]
        },
        {
          "output_type": "stream",
          "name": "stderr",
          "text": [
            "100%|██████████| 375/375 [00:10<00:00, 36.56it/s]\n",
            "100%|██████████| 47/47 [00:02<00:00, 20.81it/s]\n"
          ]
        },
        {
          "output_type": "stream",
          "name": "stdout",
          "text": [
            "Training Accuracy: 98.167%, Training Loss: 0.0642, Test Accuracy: 93.200%\n",
            "\n",
            "Epoch: 26\n"
          ]
        },
        {
          "output_type": "stream",
          "name": "stderr",
          "text": [
            "100%|██████████| 375/375 [00:10<00:00, 36.41it/s]\n",
            "100%|██████████| 47/47 [00:02<00:00, 20.63it/s]\n"
          ]
        },
        {
          "output_type": "stream",
          "name": "stdout",
          "text": [
            "Training Accuracy: 98.092%, Training Loss: 0.0625, Test Accuracy: 93.467%\n",
            "\n",
            "Epoch: 27\n"
          ]
        },
        {
          "output_type": "stream",
          "name": "stderr",
          "text": [
            "100%|██████████| 375/375 [00:09<00:00, 38.30it/s]\n",
            "100%|██████████| 47/47 [00:02<00:00, 17.24it/s]\n"
          ]
        },
        {
          "output_type": "stream",
          "name": "stdout",
          "text": [
            "Training Accuracy: 98.067%, Training Loss: 0.0709, Test Accuracy: 93.000%\n",
            "\n",
            "Epoch: 28\n"
          ]
        },
        {
          "output_type": "stream",
          "name": "stderr",
          "text": [
            "100%|██████████| 375/375 [00:09<00:00, 39.64it/s]\n",
            "100%|██████████| 47/47 [00:03<00:00, 15.01it/s]\n"
          ]
        },
        {
          "output_type": "stream",
          "name": "stdout",
          "text": [
            "Training Accuracy: 98.325%, Training Loss: 0.0600, Test Accuracy: 92.333%\n",
            "\n",
            "Epoch: 29\n"
          ]
        },
        {
          "output_type": "stream",
          "name": "stderr",
          "text": [
            "100%|██████████| 375/375 [00:09<00:00, 40.49it/s]\n",
            "100%|██████████| 47/47 [00:02<00:00, 16.50it/s]\n"
          ]
        },
        {
          "output_type": "stream",
          "name": "stdout",
          "text": [
            "Training Accuracy: 98.250%, Training Loss: 0.0607, Test Accuracy: 93.200%\n",
            "\n",
            "Epoch: 30\n"
          ]
        },
        {
          "output_type": "stream",
          "name": "stderr",
          "text": [
            "100%|██████████| 375/375 [00:09<00:00, 39.30it/s]\n",
            "100%|██████████| 47/47 [00:02<00:00, 21.35it/s]\n"
          ]
        },
        {
          "output_type": "stream",
          "name": "stdout",
          "text": [
            "Training Accuracy: 98.775%, Training Loss: 0.0448, Test Accuracy: 93.633%\n",
            "\n",
            "--------------------\n",
            "Model Saved\n",
            "--------------------\n",
            "Epoch: 31\n"
          ]
        },
        {
          "output_type": "stream",
          "name": "stderr",
          "text": [
            "100%|██████████| 375/375 [00:10<00:00, 37.48it/s]\n",
            "100%|██████████| 47/47 [00:02<00:00, 23.06it/s]\n"
          ]
        },
        {
          "output_type": "stream",
          "name": "stdout",
          "text": [
            "Training Accuracy: 98.592%, Training Loss: 0.0466, Test Accuracy: 92.900%\n",
            "\n",
            "Epoch: 32\n"
          ]
        },
        {
          "output_type": "stream",
          "name": "stderr",
          "text": [
            "100%|██████████| 375/375 [00:10<00:00, 36.93it/s]\n",
            "100%|██████████| 47/47 [00:02<00:00, 22.70it/s]\n"
          ]
        },
        {
          "output_type": "stream",
          "name": "stdout",
          "text": [
            "Training Accuracy: 97.942%, Training Loss: 0.0714, Test Accuracy: 93.167%\n",
            "\n",
            "Epoch: 33\n"
          ]
        },
        {
          "output_type": "stream",
          "name": "stderr",
          "text": [
            "100%|██████████| 375/375 [00:10<00:00, 36.34it/s]\n",
            "100%|██████████| 47/47 [00:02<00:00, 23.00it/s]\n"
          ]
        },
        {
          "output_type": "stream",
          "name": "stdout",
          "text": [
            "Training Accuracy: 98.542%, Training Loss: 0.0509, Test Accuracy: 94.300%\n",
            "\n",
            "Epoch: 34\n"
          ]
        },
        {
          "output_type": "stream",
          "name": "stderr",
          "text": [
            "100%|██████████| 375/375 [00:10<00:00, 36.77it/s]\n",
            "100%|██████████| 47/47 [00:02<00:00, 23.18it/s]\n"
          ]
        },
        {
          "output_type": "stream",
          "name": "stdout",
          "text": [
            "Training Accuracy: 98.150%, Training Loss: 0.0702, Test Accuracy: 93.767%\n",
            "\n",
            "Epoch: 35\n"
          ]
        },
        {
          "output_type": "stream",
          "name": "stderr",
          "text": [
            "100%|██████████| 375/375 [00:10<00:00, 36.92it/s]\n",
            "100%|██████████| 47/47 [00:02<00:00, 22.75it/s]\n"
          ]
        },
        {
          "output_type": "stream",
          "name": "stdout",
          "text": [
            "Training Accuracy: 98.542%, Training Loss: 0.0581, Test Accuracy: 94.033%\n",
            "\n",
            "Epoch: 36\n"
          ]
        },
        {
          "output_type": "stream",
          "name": "stderr",
          "text": [
            "100%|██████████| 375/375 [00:10<00:00, 36.66it/s]\n",
            "100%|██████████| 47/47 [00:02<00:00, 22.31it/s]\n"
          ]
        },
        {
          "output_type": "stream",
          "name": "stdout",
          "text": [
            "Training Accuracy: 98.833%, Training Loss: 0.0403, Test Accuracy: 93.400%\n",
            "\n",
            "--------------------\n",
            "Model Saved\n",
            "--------------------\n",
            "Epoch: 37\n"
          ]
        },
        {
          "output_type": "stream",
          "name": "stderr",
          "text": [
            "100%|██████████| 375/375 [00:09<00:00, 39.82it/s]\n",
            "100%|██████████| 47/47 [00:02<00:00, 17.40it/s]\n"
          ]
        },
        {
          "output_type": "stream",
          "name": "stdout",
          "text": [
            "Training Accuracy: 98.475%, Training Loss: 0.0613, Test Accuracy: 93.800%\n",
            "\n",
            "Epoch: 38\n"
          ]
        },
        {
          "output_type": "stream",
          "name": "stderr",
          "text": [
            "100%|██████████| 375/375 [00:08<00:00, 41.99it/s]\n",
            "100%|██████████| 47/47 [00:02<00:00, 17.66it/s]\n"
          ]
        },
        {
          "output_type": "stream",
          "name": "stdout",
          "text": [
            "Training Accuracy: 98.950%, Training Loss: 0.0411, Test Accuracy: 93.400%\n",
            "\n",
            "Epoch: 39\n"
          ]
        },
        {
          "output_type": "stream",
          "name": "stderr",
          "text": [
            "100%|██████████| 375/375 [00:09<00:00, 40.03it/s]\n",
            "100%|██████████| 47/47 [00:02<00:00, 23.17it/s]\n"
          ]
        },
        {
          "output_type": "stream",
          "name": "stdout",
          "text": [
            "Training Accuracy: 98.792%, Training Loss: 0.0380, Test Accuracy: 94.000%\n",
            "\n",
            "--------------------\n",
            "Model Saved\n",
            "--------------------\n",
            "Epoch: 40\n"
          ]
        },
        {
          "output_type": "stream",
          "name": "stderr",
          "text": [
            "100%|██████████| 375/375 [00:10<00:00, 36.45it/s]\n",
            "100%|██████████| 47/47 [00:02<00:00, 22.31it/s]\n"
          ]
        },
        {
          "output_type": "stream",
          "name": "stdout",
          "text": [
            "Training Accuracy: 98.858%, Training Loss: 0.0419, Test Accuracy: 94.400%\n",
            "\n",
            "Epoch: 41\n"
          ]
        },
        {
          "output_type": "stream",
          "name": "stderr",
          "text": [
            "100%|██████████| 375/375 [00:10<00:00, 36.86it/s]\n",
            "100%|██████████| 47/47 [00:02<00:00, 23.08it/s]\n"
          ]
        },
        {
          "output_type": "stream",
          "name": "stdout",
          "text": [
            "Training Accuracy: 98.758%, Training Loss: 0.0445, Test Accuracy: 93.567%\n",
            "\n",
            "Epoch: 42\n"
          ]
        },
        {
          "output_type": "stream",
          "name": "stderr",
          "text": [
            "100%|██████████| 375/375 [00:10<00:00, 36.97it/s]\n",
            "100%|██████████| 47/47 [00:02<00:00, 22.85it/s]\n"
          ]
        },
        {
          "output_type": "stream",
          "name": "stdout",
          "text": [
            "Training Accuracy: 98.125%, Training Loss: 0.0709, Test Accuracy: 93.800%\n",
            "\n",
            "Epoch: 43\n"
          ]
        },
        {
          "output_type": "stream",
          "name": "stderr",
          "text": [
            "100%|██████████| 375/375 [00:10<00:00, 36.43it/s]\n",
            "100%|██████████| 47/47 [00:02<00:00, 22.86it/s]\n"
          ]
        },
        {
          "output_type": "stream",
          "name": "stdout",
          "text": [
            "Training Accuracy: 98.950%, Training Loss: 0.0371, Test Accuracy: 94.400%\n",
            "\n",
            "--------------------\n",
            "Model Saved\n",
            "--------------------\n",
            "Epoch: 44\n"
          ]
        },
        {
          "output_type": "stream",
          "name": "stderr",
          "text": [
            "100%|██████████| 375/375 [00:10<00:00, 36.61it/s]\n",
            "100%|██████████| 47/47 [00:02<00:00, 22.84it/s]\n"
          ]
        },
        {
          "output_type": "stream",
          "name": "stdout",
          "text": [
            "Training Accuracy: 98.867%, Training Loss: 0.0413, Test Accuracy: 93.467%\n",
            "\n",
            "Epoch: 45\n"
          ]
        },
        {
          "output_type": "stream",
          "name": "stderr",
          "text": [
            "100%|██████████| 375/375 [00:10<00:00, 36.81it/s]\n",
            "100%|██████████| 47/47 [00:02<00:00, 21.32it/s]\n"
          ]
        },
        {
          "output_type": "stream",
          "name": "stdout",
          "text": [
            "Training Accuracy: 98.683%, Training Loss: 0.0496, Test Accuracy: 93.967%\n",
            "\n",
            "Epoch: 46\n"
          ]
        },
        {
          "output_type": "stream",
          "name": "stderr",
          "text": [
            "100%|██████████| 375/375 [00:09<00:00, 39.24it/s]\n",
            "100%|██████████| 47/47 [00:02<00:00, 17.47it/s]\n"
          ]
        },
        {
          "output_type": "stream",
          "name": "stdout",
          "text": [
            "Training Accuracy: 98.925%, Training Loss: 0.0387, Test Accuracy: 90.833%\n",
            "\n",
            "Epoch: 47\n"
          ]
        },
        {
          "output_type": "stream",
          "name": "stderr",
          "text": [
            "100%|██████████| 375/375 [00:09<00:00, 40.83it/s]\n",
            "100%|██████████| 47/47 [00:02<00:00, 16.33it/s]\n"
          ]
        },
        {
          "output_type": "stream",
          "name": "stdout",
          "text": [
            "Training Accuracy: 98.642%, Training Loss: 0.0523, Test Accuracy: 94.233%\n",
            "\n",
            "Epoch: 48\n"
          ]
        },
        {
          "output_type": "stream",
          "name": "stderr",
          "text": [
            "100%|██████████| 375/375 [00:09<00:00, 40.02it/s]\n",
            "100%|██████████| 47/47 [00:02<00:00, 20.33it/s]\n"
          ]
        },
        {
          "output_type": "stream",
          "name": "stdout",
          "text": [
            "Training Accuracy: 98.992%, Training Loss: 0.0337, Test Accuracy: 94.600%\n",
            "\n",
            "--------------------\n",
            "Model Saved\n",
            "--------------------\n",
            "Epoch: 49\n"
          ]
        },
        {
          "output_type": "stream",
          "name": "stderr",
          "text": [
            "100%|██████████| 375/375 [00:10<00:00, 37.46it/s]\n",
            "100%|██████████| 47/47 [00:02<00:00, 23.26it/s]\n"
          ]
        },
        {
          "output_type": "stream",
          "name": "stdout",
          "text": [
            "Training Accuracy: 99.183%, Training Loss: 0.0324, Test Accuracy: 93.967%\n",
            "\n",
            "--------------------\n",
            "Model Saved\n",
            "--------------------\n",
            "Epoch: 50\n"
          ]
        },
        {
          "output_type": "stream",
          "name": "stderr",
          "text": [
            "100%|██████████| 375/375 [00:10<00:00, 37.14it/s]\n",
            "100%|██████████| 47/47 [00:02<00:00, 22.98it/s]"
          ]
        },
        {
          "output_type": "stream",
          "name": "stdout",
          "text": [
            "Training Accuracy: 99.342%, Training Loss: 0.0216, Test Accuracy: 94.433%\n",
            "\n",
            "--------------------\n",
            "Model Saved\n",
            "--------------------\n"
          ]
        },
        {
          "output_type": "stream",
          "name": "stderr",
          "text": [
            "\n"
          ]
        }
      ]
    },
    {
      "cell_type": "code",
      "source": [
        "if os.path.exists('model.pth'):\n",
        "    model.load_state_dict(torch.load('model.pth'))\n",
        "\n",
        "test_acc = test(model, test_loader, embedding, DEVICE)\n",
        "print(f\"Test Accuracy: {test_acc*100:.3f}%\\n\")"
      ],
      "metadata": {
        "id": "KuqyKbhm-v_d",
        "colab": {
          "base_uri": "https://localhost:8080/"
        },
        "outputId": "89d8317c-0272-417d-aaf4-582cd6e86570"
      },
      "execution_count": null,
      "outputs": [
        {
          "output_type": "stream",
          "name": "stderr",
          "text": [
            "100%|██████████| 47/47 [00:02<00:00, 23.22it/s]"
          ]
        },
        {
          "output_type": "stream",
          "name": "stdout",
          "text": [
            "Test Accuracy: 94.433%\n",
            "\n"
          ]
        },
        {
          "output_type": "stream",
          "name": "stderr",
          "text": [
            "\n"
          ]
        }
      ]
    },
    {
      "cell_type": "code",
      "source": [],
      "metadata": {
        "id": "UY4AxD6S-wCB"
      },
      "execution_count": null,
      "outputs": []
    },
    {
      "cell_type": "code",
      "source": [],
      "metadata": {
        "id": "iiXN-6Jb-wEY"
      },
      "execution_count": null,
      "outputs": []
    },
    {
      "cell_type": "code",
      "source": [],
      "metadata": {
        "id": "zHvZaB7N-wGn"
      },
      "execution_count": null,
      "outputs": []
    },
    {
      "cell_type": "code",
      "source": [],
      "metadata": {
        "id": "4xMhRBlyn8Ib"
      },
      "execution_count": null,
      "outputs": []
    },
    {
      "cell_type": "markdown",
      "source": [
        "# embd_all_images"
      ],
      "metadata": {
        "id": "Cl9uIlSOohy5"
      }
    },
    {
      "cell_type": "code",
      "source": [
        "model = CustomCNN(n_features=64).to(DEVICE)\n",
        "sum(p.numel() for p in model.parameters() if p.requires_grad)"
      ],
      "metadata": {
        "id": "cYaMAlqLn8LO",
        "colab": {
          "base_uri": "https://localhost:8080/"
        },
        "outputId": "b67768de-7d9f-4e3d-f141-5fd6ddbd485f"
      },
      "execution_count": null,
      "outputs": [
        {
          "output_type": "execute_result",
          "data": {
            "text/plain": [
              "274832"
            ]
          },
          "metadata": {},
          "execution_count": 74
        }
      ]
    },
    {
      "cell_type": "code",
      "source": [
        "optimizer = torch.optim.Adam(model.parameters())\n",
        "criterion = torch.nn.CrossEntropyLoss()"
      ],
      "metadata": {
        "id": "BxHsJULtt1wf"
      },
      "execution_count": null,
      "outputs": []
    },
    {
      "cell_type": "code",
      "source": [
        "embedding = pd.read_csv('/content/drive/MyDrive/ZSClassification/ZeroShotHandwrittenCharacterRecognition/Bangla/Embd_VAEResnet/embd_all_images.csv')\n",
        "\n",
        "embedding = embedding.iloc[:, :].values\n",
        "# embedding = embedding.iloc[:, :].values.T\n",
        "embedding = torch.from_numpy(embedding)\n",
        "embedding = embedding.to(DEVICE)\n",
        "embedding.shape, embedding"
      ],
      "metadata": {
        "id": "-IarRmWUnL_d",
        "colab": {
          "base_uri": "https://localhost:8080/"
        },
        "outputId": "612f3a33-0530-4003-9cb5-2435893a5c46"
      },
      "execution_count": null,
      "outputs": [
        {
          "output_type": "execute_result",
          "data": {
            "text/plain": [
              "(torch.Size([64, 50]),\n",
              " tensor([[ 349.2411,  -61.8338,  419.7692,  ...,  263.0367,  133.7644,\n",
              "            73.5246],\n",
              "         [-982.2263, -673.3030,  122.4967,  ...,  -30.0119,  338.2677,\n",
              "           350.3825],\n",
              "         [  31.5089, -128.7522, -192.8413,  ..., -214.8663, -114.9991,\n",
              "          -124.7092],\n",
              "         ...,\n",
              "         [  11.5285,  270.8819,  507.1630,  ..., -211.8138,  486.0310,\n",
              "           304.7363],\n",
              "         [-123.1875, -376.9318,  156.1647,  ...,   41.5758,  817.5924,\n",
              "           340.2778],\n",
              "         [ -48.6206, -106.1077,  195.4945,  ...,  158.8239,  -87.3832,\n",
              "           -21.2089]], device='cuda:0', dtype=torch.float64))"
            ]
          },
          "metadata": {},
          "execution_count": 76
        }
      ]
    },
    {
      "cell_type": "code",
      "metadata": {
        "id": "YlcDe4o3nL_l",
        "colab": {
          "base_uri": "https://localhost:8080/"
        },
        "outputId": "c30a1e03-b2a2-4e1a-c4bc-cca170568f20"
      },
      "source": [
        "best_loss, best_acc = 1e10, 0\n",
        "\n",
        "for epoch in range(50+1):\n",
        "    print(f\"Epoch: {epoch}\")\n",
        "\n",
        "    # if os.path.exists('model.pth'):\n",
        "    #     model.load_state_dict(torch.load('model.pth'))\n",
        "\n",
        "    train_acc, train_loss = train(model, train_loader, embedding, criterion, optimizer, DEVICE)\n",
        "    test_acc = test(model, test_loader, embedding, DEVICE)\n",
        "    print(f\"Training Accuracy: {train_acc*100:.3f}%, Training Loss: {train_loss:.4f}, Test Accuracy: {test_acc*100:.3f}%\\n\")\n",
        "\n",
        "    # if epoch % 5 == 0 and test_acc > best_acc and train_loss < best_loss:\n",
        "    if train_loss < best_loss:\n",
        "        best_acc = test_acc\n",
        "        best_loss = train_loss\n",
        "        torch.save(model.state_dict(), \"model.pth\")\n",
        "        print(f\"{'-'*20}\\nModel Saved\\n{'-'*20}\")"
      ],
      "execution_count": null,
      "outputs": [
        {
          "output_type": "stream",
          "name": "stdout",
          "text": [
            "Epoch: 0\n"
          ]
        },
        {
          "output_type": "stream",
          "name": "stderr",
          "text": [
            "100%|██████████| 375/375 [00:09<00:00, 38.22it/s]\n",
            "100%|██████████| 47/47 [00:02<00:00, 23.44it/s]\n"
          ]
        },
        {
          "output_type": "stream",
          "name": "stdout",
          "text": [
            "Training Accuracy: 23.225%, Training Loss: 37.7415, Test Accuracy: 25.000%\n",
            "\n",
            "--------------------\n",
            "Model Saved\n",
            "--------------------\n",
            "Epoch: 1\n"
          ]
        },
        {
          "output_type": "stream",
          "name": "stderr",
          "text": [
            "100%|██████████| 375/375 [00:10<00:00, 37.26it/s]\n",
            "100%|██████████| 47/47 [00:02<00:00, 21.78it/s]\n"
          ]
        },
        {
          "output_type": "stream",
          "name": "stdout",
          "text": [
            "Training Accuracy: 32.558%, Training Loss: 4.8238, Test Accuracy: 36.067%\n",
            "\n",
            "--------------------\n",
            "Model Saved\n",
            "--------------------\n",
            "Epoch: 2\n"
          ]
        },
        {
          "output_type": "stream",
          "name": "stderr",
          "text": [
            "100%|██████████| 375/375 [00:10<00:00, 37.28it/s]\n",
            "100%|██████████| 47/47 [00:02<00:00, 23.36it/s]\n"
          ]
        },
        {
          "output_type": "stream",
          "name": "stdout",
          "text": [
            "Training Accuracy: 40.108%, Training Loss: 3.5884, Test Accuracy: 44.100%\n",
            "\n",
            "--------------------\n",
            "Model Saved\n",
            "--------------------\n",
            "Epoch: 3\n"
          ]
        },
        {
          "output_type": "stream",
          "name": "stderr",
          "text": [
            "100%|██████████| 375/375 [00:09<00:00, 37.52it/s]\n",
            "100%|██████████| 47/47 [00:02<00:00, 23.46it/s]\n"
          ]
        },
        {
          "output_type": "stream",
          "name": "stdout",
          "text": [
            "Training Accuracy: 46.533%, Training Loss: 2.7706, Test Accuracy: 48.800%\n",
            "\n",
            "--------------------\n",
            "Model Saved\n",
            "--------------------\n",
            "Epoch: 4\n"
          ]
        },
        {
          "output_type": "stream",
          "name": "stderr",
          "text": [
            "100%|██████████| 375/375 [00:10<00:00, 36.85it/s]\n",
            "100%|██████████| 47/47 [00:02<00:00, 23.18it/s]\n"
          ]
        },
        {
          "output_type": "stream",
          "name": "stdout",
          "text": [
            "Training Accuracy: 52.017%, Training Loss: 2.4781, Test Accuracy: 54.500%\n",
            "\n",
            "--------------------\n",
            "Model Saved\n",
            "--------------------\n",
            "Epoch: 5\n"
          ]
        },
        {
          "output_type": "stream",
          "name": "stderr",
          "text": [
            "100%|██████████| 375/375 [00:09<00:00, 38.63it/s]\n",
            "100%|██████████| 47/47 [00:02<00:00, 20.21it/s]\n"
          ]
        },
        {
          "output_type": "stream",
          "name": "stdout",
          "text": [
            "Training Accuracy: 56.175%, Training Loss: 2.2235, Test Accuracy: 52.367%\n",
            "\n",
            "--------------------\n",
            "Model Saved\n",
            "--------------------\n",
            "Epoch: 6\n"
          ]
        },
        {
          "output_type": "stream",
          "name": "stderr",
          "text": [
            "100%|██████████| 375/375 [00:09<00:00, 41.57it/s]\n",
            "100%|██████████| 47/47 [00:02<00:00, 16.12it/s]\n"
          ]
        },
        {
          "output_type": "stream",
          "name": "stdout",
          "text": [
            "Training Accuracy: 57.917%, Training Loss: 2.2310, Test Accuracy: 53.167%\n",
            "\n",
            "Epoch: 7\n"
          ]
        },
        {
          "output_type": "stream",
          "name": "stderr",
          "text": [
            "100%|██████████| 375/375 [00:09<00:00, 41.57it/s]\n",
            "100%|██████████| 47/47 [00:02<00:00, 19.06it/s]\n"
          ]
        },
        {
          "output_type": "stream",
          "name": "stdout",
          "text": [
            "Training Accuracy: 60.183%, Training Loss: 2.0793, Test Accuracy: 58.367%\n",
            "\n",
            "--------------------\n",
            "Model Saved\n",
            "--------------------\n",
            "Epoch: 8\n"
          ]
        },
        {
          "output_type": "stream",
          "name": "stderr",
          "text": [
            "100%|██████████| 375/375 [00:09<00:00, 39.27it/s]\n",
            "100%|██████████| 47/47 [00:02<00:00, 23.35it/s]\n"
          ]
        },
        {
          "output_type": "stream",
          "name": "stdout",
          "text": [
            "Training Accuracy: 60.333%, Training Loss: 2.1576, Test Accuracy: 63.067%\n",
            "\n",
            "Epoch: 9\n"
          ]
        },
        {
          "output_type": "stream",
          "name": "stderr",
          "text": [
            "100%|██████████| 375/375 [00:10<00:00, 36.94it/s]\n",
            "100%|██████████| 47/47 [00:02<00:00, 23.06it/s]\n"
          ]
        },
        {
          "output_type": "stream",
          "name": "stdout",
          "text": [
            "Training Accuracy: 62.050%, Training Loss: 1.9322, Test Accuracy: 61.733%\n",
            "\n",
            "--------------------\n",
            "Model Saved\n",
            "--------------------\n",
            "Epoch: 10\n"
          ]
        },
        {
          "output_type": "stream",
          "name": "stderr",
          "text": [
            "100%|██████████| 375/375 [00:10<00:00, 37.30it/s]\n",
            "100%|██████████| 47/47 [00:02<00:00, 23.11it/s]\n"
          ]
        },
        {
          "output_type": "stream",
          "name": "stdout",
          "text": [
            "Training Accuracy: 64.242%, Training Loss: 1.9101, Test Accuracy: 62.100%\n",
            "\n",
            "--------------------\n",
            "Model Saved\n",
            "--------------------\n",
            "Epoch: 11\n"
          ]
        },
        {
          "output_type": "stream",
          "name": "stderr",
          "text": [
            "100%|██████████| 375/375 [00:10<00:00, 36.77it/s]\n",
            "100%|██████████| 47/47 [00:02<00:00, 22.51it/s]\n"
          ]
        },
        {
          "output_type": "stream",
          "name": "stdout",
          "text": [
            "Training Accuracy: 66.158%, Training Loss: 1.7635, Test Accuracy: 65.767%\n",
            "\n",
            "--------------------\n",
            "Model Saved\n",
            "--------------------\n",
            "Epoch: 12\n"
          ]
        },
        {
          "output_type": "stream",
          "name": "stderr",
          "text": [
            "100%|██████████| 375/375 [00:10<00:00, 37.33it/s]\n",
            "100%|██████████| 47/47 [00:02<00:00, 22.75it/s]\n"
          ]
        },
        {
          "output_type": "stream",
          "name": "stdout",
          "text": [
            "Training Accuracy: 64.000%, Training Loss: 2.0658, Test Accuracy: 62.800%\n",
            "\n",
            "Epoch: 13\n"
          ]
        },
        {
          "output_type": "stream",
          "name": "stderr",
          "text": [
            "100%|██████████| 375/375 [00:10<00:00, 36.88it/s]\n",
            "100%|██████████| 47/47 [00:02<00:00, 23.13it/s]\n"
          ]
        },
        {
          "output_type": "stream",
          "name": "stdout",
          "text": [
            "Training Accuracy: 68.825%, Training Loss: 1.6176, Test Accuracy: 67.500%\n",
            "\n",
            "--------------------\n",
            "Model Saved\n",
            "--------------------\n",
            "Epoch: 14\n"
          ]
        },
        {
          "output_type": "stream",
          "name": "stderr",
          "text": [
            "100%|██████████| 375/375 [00:09<00:00, 40.17it/s]\n",
            "100%|██████████| 47/47 [00:02<00:00, 17.19it/s]\n"
          ]
        },
        {
          "output_type": "stream",
          "name": "stdout",
          "text": [
            "Training Accuracy: 69.892%, Training Loss: 1.6987, Test Accuracy: 73.667%\n",
            "\n",
            "Epoch: 15\n"
          ]
        },
        {
          "output_type": "stream",
          "name": "stderr",
          "text": [
            "100%|██████████| 375/375 [00:08<00:00, 41.95it/s]\n",
            "100%|██████████| 47/47 [00:02<00:00, 17.75it/s]\n"
          ]
        },
        {
          "output_type": "stream",
          "name": "stdout",
          "text": [
            "Training Accuracy: 72.417%, Training Loss: 1.4204, Test Accuracy: 74.733%\n",
            "\n",
            "--------------------\n",
            "Model Saved\n",
            "--------------------\n",
            "Epoch: 16\n"
          ]
        },
        {
          "output_type": "stream",
          "name": "stderr",
          "text": [
            "100%|██████████| 375/375 [00:09<00:00, 40.46it/s]\n",
            "100%|██████████| 47/47 [00:01<00:00, 23.59it/s]\n"
          ]
        },
        {
          "output_type": "stream",
          "name": "stdout",
          "text": [
            "Training Accuracy: 73.367%, Training Loss: 1.4427, Test Accuracy: 76.367%\n",
            "\n",
            "Epoch: 17\n"
          ]
        },
        {
          "output_type": "stream",
          "name": "stderr",
          "text": [
            "100%|██████████| 375/375 [00:10<00:00, 36.78it/s]\n",
            "100%|██████████| 47/47 [00:02<00:00, 23.27it/s]\n"
          ]
        },
        {
          "output_type": "stream",
          "name": "stdout",
          "text": [
            "Training Accuracy: 71.242%, Training Loss: 1.6032, Test Accuracy: 64.133%\n",
            "\n",
            "Epoch: 18\n"
          ]
        },
        {
          "output_type": "stream",
          "name": "stderr",
          "text": [
            "100%|██████████| 375/375 [00:10<00:00, 36.89it/s]\n",
            "100%|██████████| 47/47 [00:02<00:00, 23.08it/s]\n"
          ]
        },
        {
          "output_type": "stream",
          "name": "stdout",
          "text": [
            "Training Accuracy: 72.583%, Training Loss: 1.4757, Test Accuracy: 71.067%\n",
            "\n",
            "Epoch: 19\n"
          ]
        },
        {
          "output_type": "stream",
          "name": "stderr",
          "text": [
            "100%|██████████| 375/375 [00:10<00:00, 37.27it/s]\n",
            "100%|██████████| 47/47 [00:01<00:00, 23.56it/s]\n"
          ]
        },
        {
          "output_type": "stream",
          "name": "stdout",
          "text": [
            "Training Accuracy: 75.700%, Training Loss: 1.2916, Test Accuracy: 76.267%\n",
            "\n",
            "--------------------\n",
            "Model Saved\n",
            "--------------------\n",
            "Epoch: 20\n"
          ]
        },
        {
          "output_type": "stream",
          "name": "stderr",
          "text": [
            "100%|██████████| 375/375 [00:10<00:00, 36.97it/s]\n",
            "100%|██████████| 47/47 [00:02<00:00, 23.35it/s]\n"
          ]
        },
        {
          "output_type": "stream",
          "name": "stdout",
          "text": [
            "Training Accuracy: 78.792%, Training Loss: 1.1552, Test Accuracy: 72.500%\n",
            "\n",
            "--------------------\n",
            "Model Saved\n",
            "--------------------\n",
            "Epoch: 21\n"
          ]
        },
        {
          "output_type": "stream",
          "name": "stderr",
          "text": [
            "100%|██████████| 375/375 [00:10<00:00, 37.12it/s]\n",
            "100%|██████████| 47/47 [00:02<00:00, 23.14it/s]\n"
          ]
        },
        {
          "output_type": "stream",
          "name": "stdout",
          "text": [
            "Training Accuracy: 74.542%, Training Loss: 1.5143, Test Accuracy: 70.433%\n",
            "\n",
            "Epoch: 22\n"
          ]
        },
        {
          "output_type": "stream",
          "name": "stderr",
          "text": [
            "100%|██████████| 375/375 [00:09<00:00, 38.68it/s]\n",
            "100%|██████████| 47/47 [00:02<00:00, 19.73it/s]\n"
          ]
        },
        {
          "output_type": "stream",
          "name": "stdout",
          "text": [
            "Training Accuracy: 78.083%, Training Loss: 1.3123, Test Accuracy: 77.100%\n",
            "\n",
            "Epoch: 23\n"
          ]
        },
        {
          "output_type": "stream",
          "name": "stderr",
          "text": [
            "100%|██████████| 375/375 [00:08<00:00, 41.92it/s]\n",
            "100%|██████████| 47/47 [00:02<00:00, 16.75it/s]\n"
          ]
        },
        {
          "output_type": "stream",
          "name": "stdout",
          "text": [
            "Training Accuracy: 77.183%, Training Loss: 1.3369, Test Accuracy: 78.600%\n",
            "\n",
            "Epoch: 24\n"
          ]
        },
        {
          "output_type": "stream",
          "name": "stderr",
          "text": [
            "100%|██████████| 375/375 [00:09<00:00, 40.95it/s]\n",
            "100%|██████████| 47/47 [00:02<00:00, 20.57it/s]\n"
          ]
        },
        {
          "output_type": "stream",
          "name": "stdout",
          "text": [
            "Training Accuracy: 80.683%, Training Loss: 1.0780, Test Accuracy: 78.400%\n",
            "\n",
            "--------------------\n",
            "Model Saved\n",
            "--------------------\n",
            "Epoch: 25\n"
          ]
        },
        {
          "output_type": "stream",
          "name": "stderr",
          "text": [
            "100%|██████████| 375/375 [00:09<00:00, 38.01it/s]\n",
            "100%|██████████| 47/47 [00:01<00:00, 23.56it/s]\n"
          ]
        },
        {
          "output_type": "stream",
          "name": "stdout",
          "text": [
            "Training Accuracy: 81.333%, Training Loss: 1.0628, Test Accuracy: 79.100%\n",
            "\n",
            "--------------------\n",
            "Model Saved\n",
            "--------------------\n",
            "Epoch: 26\n"
          ]
        },
        {
          "output_type": "stream",
          "name": "stderr",
          "text": [
            "100%|██████████| 375/375 [00:10<00:00, 37.24it/s]\n",
            "100%|██████████| 47/47 [00:01<00:00, 23.57it/s]\n"
          ]
        },
        {
          "output_type": "stream",
          "name": "stdout",
          "text": [
            "Training Accuracy: 79.733%, Training Loss: 1.2382, Test Accuracy: 77.500%\n",
            "\n",
            "Epoch: 27\n"
          ]
        },
        {
          "output_type": "stream",
          "name": "stderr",
          "text": [
            "100%|██████████| 375/375 [00:10<00:00, 37.00it/s]\n",
            "100%|██████████| 47/47 [00:02<00:00, 22.81it/s]\n"
          ]
        },
        {
          "output_type": "stream",
          "name": "stdout",
          "text": [
            "Training Accuracy: 81.825%, Training Loss: 1.0695, Test Accuracy: 80.167%\n",
            "\n",
            "Epoch: 28\n"
          ]
        },
        {
          "output_type": "stream",
          "name": "stderr",
          "text": [
            "100%|██████████| 375/375 [00:10<00:00, 36.89it/s]\n",
            "100%|██████████| 47/47 [00:02<00:00, 23.02it/s]\n"
          ]
        },
        {
          "output_type": "stream",
          "name": "stdout",
          "text": [
            "Training Accuracy: 80.500%, Training Loss: 1.2876, Test Accuracy: 82.000%\n",
            "\n",
            "Epoch: 29\n"
          ]
        },
        {
          "output_type": "stream",
          "name": "stderr",
          "text": [
            "100%|██████████| 375/375 [00:10<00:00, 37.07it/s]\n",
            "100%|██████████| 47/47 [00:02<00:00, 22.69it/s]\n"
          ]
        },
        {
          "output_type": "stream",
          "name": "stdout",
          "text": [
            "Training Accuracy: 82.317%, Training Loss: 1.2558, Test Accuracy: 79.567%\n",
            "\n",
            "Epoch: 30\n"
          ]
        },
        {
          "output_type": "stream",
          "name": "stderr",
          "text": [
            "100%|██████████| 375/375 [00:09<00:00, 37.63it/s]\n",
            "100%|██████████| 47/47 [00:02<00:00, 21.60it/s]\n"
          ]
        },
        {
          "output_type": "stream",
          "name": "stdout",
          "text": [
            "Training Accuracy: 83.408%, Training Loss: 1.0047, Test Accuracy: 80.033%\n",
            "\n",
            "--------------------\n",
            "Model Saved\n",
            "--------------------\n",
            "Epoch: 31\n"
          ]
        },
        {
          "output_type": "stream",
          "name": "stderr",
          "text": [
            "100%|██████████| 375/375 [00:09<00:00, 40.45it/s]\n",
            "100%|██████████| 47/47 [00:02<00:00, 16.76it/s]\n"
          ]
        },
        {
          "output_type": "stream",
          "name": "stdout",
          "text": [
            "Training Accuracy: 84.575%, Training Loss: 0.9811, Test Accuracy: 82.733%\n",
            "\n",
            "--------------------\n",
            "Model Saved\n",
            "--------------------\n",
            "Epoch: 32\n"
          ]
        },
        {
          "output_type": "stream",
          "name": "stderr",
          "text": [
            "100%|██████████| 375/375 [00:08<00:00, 41.83it/s]\n",
            "100%|██████████| 47/47 [00:02<00:00, 18.42it/s]\n"
          ]
        },
        {
          "output_type": "stream",
          "name": "stdout",
          "text": [
            "Training Accuracy: 85.267%, Training Loss: 0.9255, Test Accuracy: 81.967%\n",
            "\n",
            "--------------------\n",
            "Model Saved\n",
            "--------------------\n",
            "Epoch: 33\n"
          ]
        },
        {
          "output_type": "stream",
          "name": "stderr",
          "text": [
            "100%|██████████| 375/375 [00:09<00:00, 39.30it/s]\n",
            "100%|██████████| 47/47 [00:02<00:00, 22.94it/s]\n"
          ]
        },
        {
          "output_type": "stream",
          "name": "stdout",
          "text": [
            "Training Accuracy: 82.567%, Training Loss: 1.1854, Test Accuracy: 79.133%\n",
            "\n",
            "Epoch: 34\n"
          ]
        },
        {
          "output_type": "stream",
          "name": "stderr",
          "text": [
            "100%|██████████| 375/375 [00:10<00:00, 36.84it/s]\n",
            "100%|██████████| 47/47 [00:02<00:00, 22.46it/s]\n"
          ]
        },
        {
          "output_type": "stream",
          "name": "stdout",
          "text": [
            "Training Accuracy: 80.692%, Training Loss: 1.3591, Test Accuracy: 74.033%\n",
            "\n",
            "Epoch: 35\n"
          ]
        },
        {
          "output_type": "stream",
          "name": "stderr",
          "text": [
            "100%|██████████| 375/375 [00:10<00:00, 36.74it/s]\n",
            "100%|██████████| 47/47 [00:02<00:00, 22.80it/s]\n"
          ]
        },
        {
          "output_type": "stream",
          "name": "stdout",
          "text": [
            "Training Accuracy: 80.042%, Training Loss: 1.4769, Test Accuracy: 80.500%\n",
            "\n",
            "Epoch: 36\n"
          ]
        },
        {
          "output_type": "stream",
          "name": "stderr",
          "text": [
            "100%|██████████| 375/375 [00:10<00:00, 37.42it/s]\n",
            "100%|██████████| 47/47 [00:02<00:00, 23.45it/s]\n"
          ]
        },
        {
          "output_type": "stream",
          "name": "stdout",
          "text": [
            "Training Accuracy: 83.925%, Training Loss: 0.9851, Test Accuracy: 80.467%\n",
            "\n",
            "Epoch: 37\n"
          ]
        },
        {
          "output_type": "stream",
          "name": "stderr",
          "text": [
            "100%|██████████| 375/375 [00:10<00:00, 36.44it/s]\n",
            "100%|██████████| 47/47 [00:02<00:00, 22.72it/s]\n"
          ]
        },
        {
          "output_type": "stream",
          "name": "stdout",
          "text": [
            "Training Accuracy: 86.642%, Training Loss: 0.8439, Test Accuracy: 86.300%\n",
            "\n",
            "--------------------\n",
            "Model Saved\n",
            "--------------------\n",
            "Epoch: 38\n"
          ]
        },
        {
          "output_type": "stream",
          "name": "stderr",
          "text": [
            "100%|██████████| 375/375 [00:10<00:00, 36.33it/s]\n",
            "100%|██████████| 47/47 [00:02<00:00, 21.74it/s]\n"
          ]
        },
        {
          "output_type": "stream",
          "name": "stdout",
          "text": [
            "Training Accuracy: 87.717%, Training Loss: 0.8091, Test Accuracy: 84.767%\n",
            "\n",
            "--------------------\n",
            "Model Saved\n",
            "--------------------\n",
            "Epoch: 39\n"
          ]
        },
        {
          "output_type": "stream",
          "name": "stderr",
          "text": [
            "100%|██████████| 375/375 [00:10<00:00, 36.20it/s]\n",
            "100%|██████████| 47/47 [00:02<00:00, 21.78it/s]\n"
          ]
        },
        {
          "output_type": "stream",
          "name": "stdout",
          "text": [
            "Training Accuracy: 84.925%, Training Loss: 0.9892, Test Accuracy: 81.833%\n",
            "\n",
            "Epoch: 40\n"
          ]
        },
        {
          "output_type": "stream",
          "name": "stderr",
          "text": [
            "100%|██████████| 375/375 [00:09<00:00, 39.16it/s]\n",
            "100%|██████████| 47/47 [00:02<00:00, 17.29it/s]\n"
          ]
        },
        {
          "output_type": "stream",
          "name": "stdout",
          "text": [
            "Training Accuracy: 86.100%, Training Loss: 0.9343, Test Accuracy: 82.933%\n",
            "\n",
            "Epoch: 41\n"
          ]
        },
        {
          "output_type": "stream",
          "name": "stderr",
          "text": [
            "100%|██████████| 375/375 [00:09<00:00, 41.23it/s]\n",
            "100%|██████████| 47/47 [00:02<00:00, 16.82it/s]\n"
          ]
        },
        {
          "output_type": "stream",
          "name": "stdout",
          "text": [
            "Training Accuracy: 85.992%, Training Loss: 1.0885, Test Accuracy: 82.900%\n",
            "\n",
            "Epoch: 42\n"
          ]
        },
        {
          "output_type": "stream",
          "name": "stderr",
          "text": [
            "100%|██████████| 375/375 [00:09<00:00, 39.75it/s]\n",
            "100%|██████████| 47/47 [00:02<00:00, 21.58it/s]\n"
          ]
        },
        {
          "output_type": "stream",
          "name": "stdout",
          "text": [
            "Training Accuracy: 86.075%, Training Loss: 0.9733, Test Accuracy: 84.867%\n",
            "\n",
            "Epoch: 43\n"
          ]
        },
        {
          "output_type": "stream",
          "name": "stderr",
          "text": [
            "100%|██████████| 375/375 [00:10<00:00, 37.17it/s]\n",
            "100%|██████████| 47/47 [00:02<00:00, 23.11it/s]\n"
          ]
        },
        {
          "output_type": "stream",
          "name": "stdout",
          "text": [
            "Training Accuracy: 86.642%, Training Loss: 0.9598, Test Accuracy: 82.600%\n",
            "\n",
            "Epoch: 44\n"
          ]
        },
        {
          "output_type": "stream",
          "name": "stderr",
          "text": [
            "100%|██████████| 375/375 [00:10<00:00, 37.10it/s]\n",
            "100%|██████████| 47/47 [00:02<00:00, 22.74it/s]\n"
          ]
        },
        {
          "output_type": "stream",
          "name": "stdout",
          "text": [
            "Training Accuracy: 84.767%, Training Loss: 1.1500, Test Accuracy: 83.800%\n",
            "\n",
            "Epoch: 45\n"
          ]
        },
        {
          "output_type": "stream",
          "name": "stderr",
          "text": [
            "100%|██████████| 375/375 [00:10<00:00, 36.64it/s]\n",
            "100%|██████████| 47/47 [00:02<00:00, 23.10it/s]\n"
          ]
        },
        {
          "output_type": "stream",
          "name": "stdout",
          "text": [
            "Training Accuracy: 87.058%, Training Loss: 0.8337, Test Accuracy: 82.267%\n",
            "\n",
            "Epoch: 46\n"
          ]
        },
        {
          "output_type": "stream",
          "name": "stderr",
          "text": [
            "100%|██████████| 375/375 [00:10<00:00, 36.86it/s]\n",
            "100%|██████████| 47/47 [00:02<00:00, 22.78it/s]\n"
          ]
        },
        {
          "output_type": "stream",
          "name": "stdout",
          "text": [
            "Training Accuracy: 86.308%, Training Loss: 0.8960, Test Accuracy: 80.233%\n",
            "\n",
            "Epoch: 47\n"
          ]
        },
        {
          "output_type": "stream",
          "name": "stderr",
          "text": [
            "100%|██████████| 375/375 [00:10<00:00, 36.31it/s]\n",
            "100%|██████████| 47/47 [00:02<00:00, 22.37it/s]\n"
          ]
        },
        {
          "output_type": "stream",
          "name": "stdout",
          "text": [
            "Training Accuracy: 81.992%, Training Loss: 1.2337, Test Accuracy: 79.233%\n",
            "\n",
            "Epoch: 48\n"
          ]
        },
        {
          "output_type": "stream",
          "name": "stderr",
          "text": [
            "100%|██████████| 375/375 [00:09<00:00, 37.76it/s]\n",
            "100%|██████████| 47/47 [00:02<00:00, 21.53it/s]\n"
          ]
        },
        {
          "output_type": "stream",
          "name": "stdout",
          "text": [
            "Training Accuracy: 88.358%, Training Loss: 0.6736, Test Accuracy: 84.100%\n",
            "\n",
            "--------------------\n",
            "Model Saved\n",
            "--------------------\n",
            "Epoch: 49\n"
          ]
        },
        {
          "output_type": "stream",
          "name": "stderr",
          "text": [
            "100%|██████████| 375/375 [00:09<00:00, 40.82it/s]\n",
            "100%|██████████| 47/47 [00:02<00:00, 16.50it/s]\n"
          ]
        },
        {
          "output_type": "stream",
          "name": "stdout",
          "text": [
            "Training Accuracy: 89.408%, Training Loss: 0.7142, Test Accuracy: 83.633%\n",
            "\n",
            "Epoch: 50\n"
          ]
        },
        {
          "output_type": "stream",
          "name": "stderr",
          "text": [
            "100%|██████████| 375/375 [00:09<00:00, 41.48it/s]\n",
            "100%|██████████| 47/47 [00:02<00:00, 17.59it/s]"
          ]
        },
        {
          "output_type": "stream",
          "name": "stdout",
          "text": [
            "Training Accuracy: 89.067%, Training Loss: 0.8678, Test Accuracy: 86.533%\n",
            "\n"
          ]
        },
        {
          "output_type": "stream",
          "name": "stderr",
          "text": [
            "\n"
          ]
        }
      ]
    },
    {
      "cell_type": "code",
      "source": [
        "if os.path.exists('model.pth'):\n",
        "    model.load_state_dict(torch.load('model.pth'))\n",
        "\n",
        "test_acc = test(model, test_loader, embedding, DEVICE)\n",
        "print(f\"Test Accuracy: {test_acc*100:.3f}%\\n\")"
      ],
      "metadata": {
        "id": "ju-B_mIXnL_o",
        "colab": {
          "base_uri": "https://localhost:8080/"
        },
        "outputId": "ccfd7cc0-5d46-42a6-ac6b-f9553dacb4ed"
      },
      "execution_count": null,
      "outputs": [
        {
          "output_type": "stream",
          "name": "stderr",
          "text": [
            "100%|██████████| 47/47 [00:02<00:00, 18.99it/s]"
          ]
        },
        {
          "output_type": "stream",
          "name": "stdout",
          "text": [
            "Test Accuracy: 84.100%\n",
            "\n"
          ]
        },
        {
          "output_type": "stream",
          "name": "stderr",
          "text": [
            "\n"
          ]
        }
      ]
    },
    {
      "cell_type": "code",
      "source": [],
      "metadata": {
        "id": "zzjTAhuEoRZs"
      },
      "execution_count": null,
      "outputs": []
    },
    {
      "cell_type": "code",
      "source": [],
      "metadata": {
        "id": "dHwVfy43oRcO"
      },
      "execution_count": null,
      "outputs": []
    },
    {
      "cell_type": "code",
      "source": [],
      "metadata": {
        "id": "L0K7-jv6oRfp"
      },
      "execution_count": null,
      "outputs": []
    },
    {
      "cell_type": "markdown",
      "source": [
        "# embd_random1"
      ],
      "metadata": {
        "id": "RWyBJAWUo87L"
      }
    },
    {
      "cell_type": "code",
      "source": [
        "model = CustomCNN(n_features=64).to(DEVICE)\n",
        "sum(p.numel() for p in model.parameters() if p.requires_grad)"
      ],
      "metadata": {
        "id": "33l9pRqNo87L",
        "colab": {
          "base_uri": "https://localhost:8080/"
        },
        "outputId": "6d12b88a-911b-4f63-a4db-9a96978d22e8"
      },
      "execution_count": null,
      "outputs": [
        {
          "output_type": "execute_result",
          "data": {
            "text/plain": [
              "274832"
            ]
          },
          "metadata": {},
          "execution_count": 79
        }
      ]
    },
    {
      "cell_type": "code",
      "source": [
        "optimizer = torch.optim.Adam(model.parameters())\n",
        "criterion = torch.nn.CrossEntropyLoss()"
      ],
      "metadata": {
        "id": "2VjgZV0At4yV"
      },
      "execution_count": null,
      "outputs": []
    },
    {
      "cell_type": "code",
      "source": [
        "embedding = pd.read_csv('/content/drive/MyDrive/ZSClassification/ZeroShotHandwrittenCharacterRecognition/Bangla/Embd_VAEResnet/embd_random1.csv')\n",
        "\n",
        "embedding = embedding.iloc[:, :].values\n",
        "# embedding = embedding.iloc[:, :].values.T\n",
        "embedding = torch.from_numpy(embedding)\n",
        "embedding = embedding.to(DEVICE)\n",
        "embedding.shape, embedding"
      ],
      "metadata": {
        "id": "6Bhx6nCjo87M",
        "colab": {
          "base_uri": "https://localhost:8080/"
        },
        "outputId": "fff3541e-27eb-4f9c-c6fd-a950f997e143"
      },
      "execution_count": null,
      "outputs": [
        {
          "output_type": "execute_result",
          "data": {
            "text/plain": [
              "(torch.Size([64, 50]),\n",
              " tensor([[ 3.9244,  0.3440,  2.4765,  ...,  2.6769,  1.0539,  0.4869],\n",
              "         [-3.8767, -0.9664, -0.5295,  ...,  0.9155,  1.8477, -0.1087],\n",
              "         [-0.3250, -0.6472, -2.2057,  ..., -2.9427, -1.3208, -0.0983],\n",
              "         ...,\n",
              "         [-1.0548,  6.8298,  2.3564,  ..., -0.9042,  2.7647, -2.0331],\n",
              "         [-1.1054,  0.3436, -1.8729,  ..., -1.3144,  3.4403,  0.9998],\n",
              "         [ 2.6528, -1.1657,  0.5382,  ...,  1.2612,  0.1995,  1.2509]],\n",
              "        device='cuda:0', dtype=torch.float64))"
            ]
          },
          "metadata": {},
          "execution_count": 81
        }
      ]
    },
    {
      "cell_type": "code",
      "metadata": {
        "id": "N7MSSkrZo87M",
        "colab": {
          "base_uri": "https://localhost:8080/"
        },
        "outputId": "a0c16b5b-f331-4a45-a7b6-5a1889f7c693"
      },
      "source": [
        "best_loss, best_acc = 1e10, 0\n",
        "\n",
        "for epoch in range(50+1):\n",
        "    print(f\"Epoch: {epoch}\")\n",
        "\n",
        "    # if os.path.exists('model.pth'):\n",
        "    #     model.load_state_dict(torch.load('model.pth'))\n",
        "\n",
        "    train_acc, train_loss = train(model, train_loader, embedding, criterion, optimizer, DEVICE)\n",
        "    test_acc = test(model, test_loader, embedding, DEVICE)\n",
        "    print(f\"Training Accuracy: {train_acc*100:.3f}%, Training Loss: {train_loss:.4f}, Test Accuracy: {test_acc*100:.3f}%\\n\")\n",
        "\n",
        "    # if epoch % 5 == 0 and test_acc > best_acc and train_loss < best_loss:\n",
        "    if train_loss < best_loss:\n",
        "        best_acc = test_acc\n",
        "        best_loss = train_loss\n",
        "        torch.save(model.state_dict(), \"model.pth\")\n",
        "        print(f\"{'-'*20}\\nModel Saved\\n{'-'*20}\")"
      ],
      "execution_count": null,
      "outputs": [
        {
          "output_type": "stream",
          "name": "stdout",
          "text": [
            "Epoch: 0\n"
          ]
        },
        {
          "output_type": "stream",
          "name": "stderr",
          "text": [
            "100%|██████████| 375/375 [00:10<00:00, 37.41it/s]\n",
            "100%|██████████| 47/47 [00:02<00:00, 18.04it/s]\n"
          ]
        },
        {
          "output_type": "stream",
          "name": "stdout",
          "text": [
            "Training Accuracy: 50.858%, Training Loss: 1.8089, Test Accuracy: 75.933%\n",
            "\n",
            "--------------------\n",
            "Model Saved\n",
            "--------------------\n",
            "Epoch: 1\n"
          ]
        },
        {
          "output_type": "stream",
          "name": "stderr",
          "text": [
            "100%|██████████| 375/375 [00:09<00:00, 41.41it/s]\n",
            "100%|██████████| 47/47 [00:02<00:00, 15.91it/s]\n"
          ]
        },
        {
          "output_type": "stream",
          "name": "stdout",
          "text": [
            "Training Accuracy: 78.892%, Training Loss: 0.7116, Test Accuracy: 84.533%\n",
            "\n",
            "--------------------\n",
            "Model Saved\n",
            "--------------------\n",
            "Epoch: 2\n"
          ]
        },
        {
          "output_type": "stream",
          "name": "stderr",
          "text": [
            "100%|██████████| 375/375 [00:09<00:00, 39.63it/s]\n",
            "100%|██████████| 47/47 [00:02<00:00, 20.61it/s]\n"
          ]
        },
        {
          "output_type": "stream",
          "name": "stdout",
          "text": [
            "Training Accuracy: 86.725%, Training Loss: 0.4532, Test Accuracy: 85.200%\n",
            "\n",
            "--------------------\n",
            "Model Saved\n",
            "--------------------\n",
            "Epoch: 3\n"
          ]
        },
        {
          "output_type": "stream",
          "name": "stderr",
          "text": [
            "100%|██████████| 375/375 [00:09<00:00, 37.63it/s]\n",
            "100%|██████████| 47/47 [00:02<00:00, 23.37it/s]\n"
          ]
        },
        {
          "output_type": "stream",
          "name": "stdout",
          "text": [
            "Training Accuracy: 89.867%, Training Loss: 0.3272, Test Accuracy: 85.967%\n",
            "\n",
            "--------------------\n",
            "Model Saved\n",
            "--------------------\n",
            "Epoch: 4\n"
          ]
        },
        {
          "output_type": "stream",
          "name": "stderr",
          "text": [
            "100%|██████████| 375/375 [00:10<00:00, 37.09it/s]\n",
            "100%|██████████| 47/47 [00:02<00:00, 22.96it/s]\n"
          ]
        },
        {
          "output_type": "stream",
          "name": "stdout",
          "text": [
            "Training Accuracy: 90.817%, Training Loss: 0.3007, Test Accuracy: 88.233%\n",
            "\n",
            "--------------------\n",
            "Model Saved\n",
            "--------------------\n",
            "Epoch: 5\n"
          ]
        },
        {
          "output_type": "stream",
          "name": "stderr",
          "text": [
            "100%|██████████| 375/375 [00:10<00:00, 36.83it/s]\n",
            "100%|██████████| 47/47 [00:02<00:00, 23.12it/s]\n"
          ]
        },
        {
          "output_type": "stream",
          "name": "stdout",
          "text": [
            "Training Accuracy: 92.992%, Training Loss: 0.2318, Test Accuracy: 89.600%\n",
            "\n",
            "--------------------\n",
            "Model Saved\n",
            "--------------------\n",
            "Epoch: 6\n"
          ]
        },
        {
          "output_type": "stream",
          "name": "stderr",
          "text": [
            "100%|██████████| 375/375 [00:10<00:00, 36.73it/s]\n",
            "100%|██████████| 47/47 [00:02<00:00, 22.31it/s]\n"
          ]
        },
        {
          "output_type": "stream",
          "name": "stdout",
          "text": [
            "Training Accuracy: 93.425%, Training Loss: 0.2087, Test Accuracy: 90.333%\n",
            "\n",
            "--------------------\n",
            "Model Saved\n",
            "--------------------\n",
            "Epoch: 7\n"
          ]
        },
        {
          "output_type": "stream",
          "name": "stderr",
          "text": [
            "100%|██████████| 375/375 [00:10<00:00, 36.22it/s]\n",
            "100%|██████████| 47/47 [00:02<00:00, 23.07it/s]\n"
          ]
        },
        {
          "output_type": "stream",
          "name": "stdout",
          "text": [
            "Training Accuracy: 93.917%, Training Loss: 0.1963, Test Accuracy: 89.767%\n",
            "\n",
            "--------------------\n",
            "Model Saved\n",
            "--------------------\n",
            "Epoch: 8\n"
          ]
        },
        {
          "output_type": "stream",
          "name": "stderr",
          "text": [
            "100%|██████████| 375/375 [00:10<00:00, 36.57it/s]\n",
            "100%|██████████| 47/47 [00:02<00:00, 23.11it/s]\n"
          ]
        },
        {
          "output_type": "stream",
          "name": "stdout",
          "text": [
            "Training Accuracy: 94.558%, Training Loss: 0.1762, Test Accuracy: 90.533%\n",
            "\n",
            "--------------------\n",
            "Model Saved\n",
            "--------------------\n",
            "Epoch: 9\n"
          ]
        },
        {
          "output_type": "stream",
          "name": "stderr",
          "text": [
            "100%|██████████| 375/375 [00:09<00:00, 38.23it/s]\n",
            "100%|██████████| 47/47 [00:02<00:00, 18.83it/s]\n"
          ]
        },
        {
          "output_type": "stream",
          "name": "stdout",
          "text": [
            "Training Accuracy: 94.933%, Training Loss: 0.1712, Test Accuracy: 91.000%\n",
            "\n",
            "--------------------\n",
            "Model Saved\n",
            "--------------------\n",
            "Epoch: 10\n"
          ]
        },
        {
          "output_type": "stream",
          "name": "stderr",
          "text": [
            "100%|██████████| 375/375 [00:09<00:00, 39.57it/s]\n",
            "100%|██████████| 47/47 [00:02<00:00, 16.07it/s]\n"
          ]
        },
        {
          "output_type": "stream",
          "name": "stdout",
          "text": [
            "Training Accuracy: 95.708%, Training Loss: 0.1449, Test Accuracy: 90.300%\n",
            "\n",
            "--------------------\n",
            "Model Saved\n",
            "--------------------\n",
            "Epoch: 11\n"
          ]
        },
        {
          "output_type": "stream",
          "name": "stderr",
          "text": [
            "100%|██████████| 375/375 [00:09<00:00, 40.86it/s]\n",
            "100%|██████████| 47/47 [00:02<00:00, 17.80it/s]\n"
          ]
        },
        {
          "output_type": "stream",
          "name": "stdout",
          "text": [
            "Training Accuracy: 95.108%, Training Loss: 0.1578, Test Accuracy: 90.500%\n",
            "\n",
            "Epoch: 12\n"
          ]
        },
        {
          "output_type": "stream",
          "name": "stderr",
          "text": [
            "100%|██████████| 375/375 [00:09<00:00, 38.12it/s]\n",
            "100%|██████████| 47/47 [00:02<00:00, 21.78it/s]\n"
          ]
        },
        {
          "output_type": "stream",
          "name": "stdout",
          "text": [
            "Training Accuracy: 96.375%, Training Loss: 0.1156, Test Accuracy: 91.333%\n",
            "\n",
            "--------------------\n",
            "Model Saved\n",
            "--------------------\n",
            "Epoch: 13\n"
          ]
        },
        {
          "output_type": "stream",
          "name": "stderr",
          "text": [
            "100%|██████████| 375/375 [00:10<00:00, 36.83it/s]\n",
            "100%|██████████| 47/47 [00:02<00:00, 22.91it/s]\n"
          ]
        },
        {
          "output_type": "stream",
          "name": "stdout",
          "text": [
            "Training Accuracy: 96.325%, Training Loss: 0.1240, Test Accuracy: 91.267%\n",
            "\n",
            "Epoch: 14\n"
          ]
        },
        {
          "output_type": "stream",
          "name": "stderr",
          "text": [
            "100%|██████████| 375/375 [00:10<00:00, 36.82it/s]\n",
            "100%|██████████| 47/47 [00:02<00:00, 22.18it/s]\n"
          ]
        },
        {
          "output_type": "stream",
          "name": "stdout",
          "text": [
            "Training Accuracy: 95.775%, Training Loss: 0.1602, Test Accuracy: 91.033%\n",
            "\n",
            "Epoch: 15\n"
          ]
        },
        {
          "output_type": "stream",
          "name": "stderr",
          "text": [
            "100%|██████████| 375/375 [00:10<00:00, 34.87it/s]\n",
            "100%|██████████| 47/47 [00:02<00:00, 22.37it/s]\n"
          ]
        },
        {
          "output_type": "stream",
          "name": "stdout",
          "text": [
            "Training Accuracy: 96.692%, Training Loss: 0.1170, Test Accuracy: 91.167%\n",
            "\n",
            "Epoch: 16\n"
          ]
        },
        {
          "output_type": "stream",
          "name": "stderr",
          "text": [
            "100%|██████████| 375/375 [00:10<00:00, 35.71it/s]\n",
            "100%|██████████| 47/47 [00:02<00:00, 22.53it/s]\n"
          ]
        },
        {
          "output_type": "stream",
          "name": "stdout",
          "text": [
            "Training Accuracy: 97.925%, Training Loss: 0.0759, Test Accuracy: 91.867%\n",
            "\n",
            "--------------------\n",
            "Model Saved\n",
            "--------------------\n",
            "Epoch: 17\n"
          ]
        },
        {
          "output_type": "stream",
          "name": "stderr",
          "text": [
            "100%|██████████| 375/375 [00:10<00:00, 36.76it/s]\n",
            "100%|██████████| 47/47 [00:02<00:00, 22.67it/s]\n"
          ]
        },
        {
          "output_type": "stream",
          "name": "stdout",
          "text": [
            "Training Accuracy: 97.200%, Training Loss: 0.0996, Test Accuracy: 92.567%\n",
            "\n",
            "Epoch: 18\n"
          ]
        },
        {
          "output_type": "stream",
          "name": "stderr",
          "text": [
            "100%|██████████| 375/375 [00:10<00:00, 35.86it/s]\n",
            "100%|██████████| 47/47 [00:02<00:00, 22.82it/s]\n"
          ]
        },
        {
          "output_type": "stream",
          "name": "stdout",
          "text": [
            "Training Accuracy: 96.683%, Training Loss: 0.1184, Test Accuracy: 92.400%\n",
            "\n",
            "Epoch: 19\n"
          ]
        },
        {
          "output_type": "stream",
          "name": "stderr",
          "text": [
            "100%|██████████| 375/375 [00:10<00:00, 36.57it/s]\n",
            "100%|██████████| 47/47 [00:02<00:00, 21.99it/s]\n"
          ]
        },
        {
          "output_type": "stream",
          "name": "stdout",
          "text": [
            "Training Accuracy: 97.242%, Training Loss: 0.1006, Test Accuracy: 91.433%\n",
            "\n",
            "Epoch: 20\n"
          ]
        },
        {
          "output_type": "stream",
          "name": "stderr",
          "text": [
            "100%|██████████| 375/375 [00:09<00:00, 39.51it/s]\n",
            "100%|██████████| 47/47 [00:02<00:00, 17.73it/s]\n"
          ]
        },
        {
          "output_type": "stream",
          "name": "stdout",
          "text": [
            "Training Accuracy: 96.942%, Training Loss: 0.1071, Test Accuracy: 92.100%\n",
            "\n",
            "Epoch: 21\n"
          ]
        },
        {
          "output_type": "stream",
          "name": "stderr",
          "text": [
            "100%|██████████| 375/375 [00:09<00:00, 41.15it/s]\n",
            "100%|██████████| 47/47 [00:02<00:00, 16.98it/s]\n"
          ]
        },
        {
          "output_type": "stream",
          "name": "stdout",
          "text": [
            "Training Accuracy: 97.417%, Training Loss: 0.0957, Test Accuracy: 93.233%\n",
            "\n",
            "Epoch: 22\n"
          ]
        },
        {
          "output_type": "stream",
          "name": "stderr",
          "text": [
            "100%|██████████| 375/375 [00:09<00:00, 40.10it/s]\n",
            "100%|██████████| 47/47 [00:02<00:00, 22.34it/s]\n"
          ]
        },
        {
          "output_type": "stream",
          "name": "stdout",
          "text": [
            "Training Accuracy: 98.017%, Training Loss: 0.0694, Test Accuracy: 92.800%\n",
            "\n",
            "--------------------\n",
            "Model Saved\n",
            "--------------------\n",
            "Epoch: 23\n"
          ]
        },
        {
          "output_type": "stream",
          "name": "stderr",
          "text": [
            "100%|██████████| 375/375 [00:10<00:00, 37.29it/s]\n",
            "100%|██████████| 47/47 [00:02<00:00, 22.18it/s]\n"
          ]
        },
        {
          "output_type": "stream",
          "name": "stdout",
          "text": [
            "Training Accuracy: 97.200%, Training Loss: 0.0976, Test Accuracy: 92.233%\n",
            "\n",
            "Epoch: 24\n"
          ]
        },
        {
          "output_type": "stream",
          "name": "stderr",
          "text": [
            "100%|██████████| 375/375 [00:10<00:00, 36.35it/s]\n",
            "100%|██████████| 47/47 [00:02<00:00, 22.35it/s]\n"
          ]
        },
        {
          "output_type": "stream",
          "name": "stdout",
          "text": [
            "Training Accuracy: 97.508%, Training Loss: 0.0916, Test Accuracy: 92.433%\n",
            "\n",
            "Epoch: 25\n"
          ]
        },
        {
          "output_type": "stream",
          "name": "stderr",
          "text": [
            "100%|██████████| 375/375 [00:10<00:00, 35.93it/s]\n",
            "100%|██████████| 47/47 [00:02<00:00, 22.43it/s]\n"
          ]
        },
        {
          "output_type": "stream",
          "name": "stdout",
          "text": [
            "Training Accuracy: 97.767%, Training Loss: 0.0815, Test Accuracy: 92.900%\n",
            "\n",
            "Epoch: 26\n"
          ]
        },
        {
          "output_type": "stream",
          "name": "stderr",
          "text": [
            "100%|██████████| 375/375 [00:10<00:00, 35.62it/s]\n",
            "100%|██████████| 47/47 [00:02<00:00, 22.41it/s]\n"
          ]
        },
        {
          "output_type": "stream",
          "name": "stdout",
          "text": [
            "Training Accuracy: 97.975%, Training Loss: 0.0739, Test Accuracy: 93.500%\n",
            "\n",
            "Epoch: 27\n"
          ]
        },
        {
          "output_type": "stream",
          "name": "stderr",
          "text": [
            "100%|██████████| 375/375 [00:10<00:00, 36.44it/s]\n",
            "100%|██████████| 47/47 [00:02<00:00, 22.71it/s]\n"
          ]
        },
        {
          "output_type": "stream",
          "name": "stdout",
          "text": [
            "Training Accuracy: 97.558%, Training Loss: 0.0974, Test Accuracy: 92.467%\n",
            "\n",
            "Epoch: 28\n"
          ]
        },
        {
          "output_type": "stream",
          "name": "stderr",
          "text": [
            "100%|██████████| 375/375 [00:10<00:00, 36.16it/s]\n",
            "100%|██████████| 47/47 [00:02<00:00, 21.86it/s]\n"
          ]
        },
        {
          "output_type": "stream",
          "name": "stdout",
          "text": [
            "Training Accuracy: 98.850%, Training Loss: 0.0440, Test Accuracy: 93.300%\n",
            "\n",
            "--------------------\n",
            "Model Saved\n",
            "--------------------\n",
            "Epoch: 29\n"
          ]
        },
        {
          "output_type": "stream",
          "name": "stderr",
          "text": [
            "100%|██████████| 375/375 [00:10<00:00, 35.97it/s]\n",
            "100%|██████████| 47/47 [00:02<00:00, 21.49it/s]\n"
          ]
        },
        {
          "output_type": "stream",
          "name": "stdout",
          "text": [
            "Training Accuracy: 97.842%, Training Loss: 0.0889, Test Accuracy: 93.133%\n",
            "\n",
            "Epoch: 30\n"
          ]
        },
        {
          "output_type": "stream",
          "name": "stderr",
          "text": [
            "100%|██████████| 375/375 [00:09<00:00, 39.16it/s]\n",
            "100%|██████████| 47/47 [00:02<00:00, 17.59it/s]\n"
          ]
        },
        {
          "output_type": "stream",
          "name": "stdout",
          "text": [
            "Training Accuracy: 97.992%, Training Loss: 0.0751, Test Accuracy: 93.367%\n",
            "\n",
            "Epoch: 31\n"
          ]
        },
        {
          "output_type": "stream",
          "name": "stderr",
          "text": [
            "100%|██████████| 375/375 [00:09<00:00, 40.94it/s]\n",
            "100%|██████████| 47/47 [00:02<00:00, 16.50it/s]\n"
          ]
        },
        {
          "output_type": "stream",
          "name": "stdout",
          "text": [
            "Training Accuracy: 98.642%, Training Loss: 0.0516, Test Accuracy: 93.433%\n",
            "\n",
            "Epoch: 32\n"
          ]
        },
        {
          "output_type": "stream",
          "name": "stderr",
          "text": [
            "100%|██████████| 375/375 [00:09<00:00, 39.97it/s]\n",
            "100%|██████████| 47/47 [00:02<00:00, 20.84it/s]\n"
          ]
        },
        {
          "output_type": "stream",
          "name": "stdout",
          "text": [
            "Training Accuracy: 98.142%, Training Loss: 0.0695, Test Accuracy: 92.967%\n",
            "\n",
            "Epoch: 33\n"
          ]
        },
        {
          "output_type": "stream",
          "name": "stderr",
          "text": [
            "100%|██████████| 375/375 [00:09<00:00, 37.91it/s]\n",
            "100%|██████████| 47/47 [00:02<00:00, 23.01it/s]\n"
          ]
        },
        {
          "output_type": "stream",
          "name": "stdout",
          "text": [
            "Training Accuracy: 97.900%, Training Loss: 0.0741, Test Accuracy: 93.300%\n",
            "\n",
            "Epoch: 34\n"
          ]
        },
        {
          "output_type": "stream",
          "name": "stderr",
          "text": [
            "100%|██████████| 375/375 [00:10<00:00, 37.06it/s]\n",
            "100%|██████████| 47/47 [00:02<00:00, 23.11it/s]\n"
          ]
        },
        {
          "output_type": "stream",
          "name": "stdout",
          "text": [
            "Training Accuracy: 98.417%, Training Loss: 0.0636, Test Accuracy: 92.600%\n",
            "\n",
            "Epoch: 35\n"
          ]
        },
        {
          "output_type": "stream",
          "name": "stderr",
          "text": [
            "100%|██████████| 375/375 [00:10<00:00, 36.47it/s]\n",
            "100%|██████████| 47/47 [00:02<00:00, 23.50it/s]\n"
          ]
        },
        {
          "output_type": "stream",
          "name": "stdout",
          "text": [
            "Training Accuracy: 98.450%, Training Loss: 0.0588, Test Accuracy: 93.233%\n",
            "\n",
            "Epoch: 36\n"
          ]
        },
        {
          "output_type": "stream",
          "name": "stderr",
          "text": [
            "100%|██████████| 375/375 [00:10<00:00, 36.51it/s]\n",
            "100%|██████████| 47/47 [00:02<00:00, 22.98it/s]\n"
          ]
        },
        {
          "output_type": "stream",
          "name": "stdout",
          "text": [
            "Training Accuracy: 97.917%, Training Loss: 0.0853, Test Accuracy: 93.033%\n",
            "\n",
            "Epoch: 37\n"
          ]
        },
        {
          "output_type": "stream",
          "name": "stderr",
          "text": [
            "100%|██████████| 375/375 [00:10<00:00, 37.12it/s]\n",
            "100%|██████████| 47/47 [00:02<00:00, 23.37it/s]\n"
          ]
        },
        {
          "output_type": "stream",
          "name": "stdout",
          "text": [
            "Training Accuracy: 98.617%, Training Loss: 0.0574, Test Accuracy: 92.467%\n",
            "\n",
            "Epoch: 38\n"
          ]
        },
        {
          "output_type": "stream",
          "name": "stderr",
          "text": [
            "100%|██████████| 375/375 [00:10<00:00, 36.77it/s]\n",
            "100%|██████████| 47/47 [00:02<00:00, 23.26it/s]\n"
          ]
        },
        {
          "output_type": "stream",
          "name": "stdout",
          "text": [
            "Training Accuracy: 98.475%, Training Loss: 0.0531, Test Accuracy: 92.700%\n",
            "\n",
            "Epoch: 39\n"
          ]
        },
        {
          "output_type": "stream",
          "name": "stderr",
          "text": [
            "100%|██████████| 375/375 [00:09<00:00, 38.54it/s]\n",
            "100%|██████████| 47/47 [00:02<00:00, 18.15it/s]\n"
          ]
        },
        {
          "output_type": "stream",
          "name": "stdout",
          "text": [
            "Training Accuracy: 98.492%, Training Loss: 0.0590, Test Accuracy: 92.500%\n",
            "\n",
            "Epoch: 40\n"
          ]
        },
        {
          "output_type": "stream",
          "name": "stderr",
          "text": [
            "100%|██████████| 375/375 [00:09<00:00, 41.55it/s]\n",
            "100%|██████████| 47/47 [00:02<00:00, 16.56it/s]\n"
          ]
        },
        {
          "output_type": "stream",
          "name": "stdout",
          "text": [
            "Training Accuracy: 98.500%, Training Loss: 0.0613, Test Accuracy: 93.500%\n",
            "\n",
            "Epoch: 41\n"
          ]
        },
        {
          "output_type": "stream",
          "name": "stderr",
          "text": [
            "100%|██████████| 375/375 [00:09<00:00, 40.18it/s]\n",
            "100%|██████████| 47/47 [00:02<00:00, 20.51it/s]\n"
          ]
        },
        {
          "output_type": "stream",
          "name": "stdout",
          "text": [
            "Training Accuracy: 98.600%, Training Loss: 0.0524, Test Accuracy: 93.533%\n",
            "\n",
            "Epoch: 42\n"
          ]
        },
        {
          "output_type": "stream",
          "name": "stderr",
          "text": [
            "100%|██████████| 375/375 [00:09<00:00, 37.80it/s]\n",
            "100%|██████████| 47/47 [00:02<00:00, 22.82it/s]\n"
          ]
        },
        {
          "output_type": "stream",
          "name": "stdout",
          "text": [
            "Training Accuracy: 98.675%, Training Loss: 0.0593, Test Accuracy: 93.233%\n",
            "\n",
            "Epoch: 43\n"
          ]
        },
        {
          "output_type": "stream",
          "name": "stderr",
          "text": [
            "100%|██████████| 375/375 [00:10<00:00, 36.56it/s]\n",
            "100%|██████████| 47/47 [00:02<00:00, 23.01it/s]\n"
          ]
        },
        {
          "output_type": "stream",
          "name": "stdout",
          "text": [
            "Training Accuracy: 98.750%, Training Loss: 0.0480, Test Accuracy: 93.033%\n",
            "\n",
            "Epoch: 44\n"
          ]
        },
        {
          "output_type": "stream",
          "name": "stderr",
          "text": [
            "100%|██████████| 375/375 [00:10<00:00, 36.83it/s]\n",
            "100%|██████████| 47/47 [00:02<00:00, 23.21it/s]\n"
          ]
        },
        {
          "output_type": "stream",
          "name": "stdout",
          "text": [
            "Training Accuracy: 98.642%, Training Loss: 0.0550, Test Accuracy: 93.067%\n",
            "\n",
            "Epoch: 45\n"
          ]
        },
        {
          "output_type": "stream",
          "name": "stderr",
          "text": [
            "100%|██████████| 375/375 [00:10<00:00, 37.02it/s]\n",
            "100%|██████████| 47/47 [00:02<00:00, 22.56it/s]\n"
          ]
        },
        {
          "output_type": "stream",
          "name": "stdout",
          "text": [
            "Training Accuracy: 98.800%, Training Loss: 0.0441, Test Accuracy: 93.467%\n",
            "\n",
            "Epoch: 46\n"
          ]
        },
        {
          "output_type": "stream",
          "name": "stderr",
          "text": [
            "100%|██████████| 375/375 [00:10<00:00, 36.55it/s]\n",
            "100%|██████████| 47/47 [00:02<00:00, 22.41it/s]\n"
          ]
        },
        {
          "output_type": "stream",
          "name": "stdout",
          "text": [
            "Training Accuracy: 98.383%, Training Loss: 0.0677, Test Accuracy: 93.433%\n",
            "\n",
            "Epoch: 47\n"
          ]
        },
        {
          "output_type": "stream",
          "name": "stderr",
          "text": [
            "100%|██████████| 375/375 [00:10<00:00, 36.38it/s]\n",
            "100%|██████████| 47/47 [00:02<00:00, 22.80it/s]\n"
          ]
        },
        {
          "output_type": "stream",
          "name": "stdout",
          "text": [
            "Training Accuracy: 98.983%, Training Loss: 0.0403, Test Accuracy: 93.667%\n",
            "\n",
            "--------------------\n",
            "Model Saved\n",
            "--------------------\n",
            "Epoch: 48\n"
          ]
        },
        {
          "output_type": "stream",
          "name": "stderr",
          "text": [
            "100%|██████████| 375/375 [00:09<00:00, 38.79it/s]\n",
            "100%|██████████| 47/47 [00:02<00:00, 18.27it/s]\n"
          ]
        },
        {
          "output_type": "stream",
          "name": "stdout",
          "text": [
            "Training Accuracy: 98.708%, Training Loss: 0.0486, Test Accuracy: 94.100%\n",
            "\n",
            "Epoch: 49\n"
          ]
        },
        {
          "output_type": "stream",
          "name": "stderr",
          "text": [
            "100%|██████████| 375/375 [00:08<00:00, 41.79it/s]\n",
            "100%|██████████| 47/47 [00:02<00:00, 16.33it/s]\n"
          ]
        },
        {
          "output_type": "stream",
          "name": "stdout",
          "text": [
            "Training Accuracy: 98.450%, Training Loss: 0.0625, Test Accuracy: 93.467%\n",
            "\n",
            "Epoch: 50\n"
          ]
        },
        {
          "output_type": "stream",
          "name": "stderr",
          "text": [
            "100%|██████████| 375/375 [00:09<00:00, 40.96it/s]\n",
            "100%|██████████| 47/47 [00:02<00:00, 21.10it/s]"
          ]
        },
        {
          "output_type": "stream",
          "name": "stdout",
          "text": [
            "Training Accuracy: 98.533%, Training Loss: 0.0594, Test Accuracy: 93.767%\n",
            "\n"
          ]
        },
        {
          "output_type": "stream",
          "name": "stderr",
          "text": [
            "\n"
          ]
        }
      ]
    },
    {
      "cell_type": "code",
      "source": [
        "if os.path.exists('model.pth'):\n",
        "    model.load_state_dict(torch.load('model.pth'))\n",
        "\n",
        "test_acc = test(model, test_loader, embedding, DEVICE)\n",
        "print(f\"Test Accuracy: {test_acc*100:.3f}%\\n\")"
      ],
      "metadata": {
        "id": "db1YXQzQo87N",
        "colab": {
          "base_uri": "https://localhost:8080/"
        },
        "outputId": "f6453028-56ea-489b-996d-27d5b892e9d2"
      },
      "execution_count": null,
      "outputs": [
        {
          "output_type": "stream",
          "name": "stderr",
          "text": [
            "100%|██████████| 47/47 [00:02<00:00, 16.20it/s]"
          ]
        },
        {
          "output_type": "stream",
          "name": "stdout",
          "text": [
            "Test Accuracy: 93.667%\n",
            "\n"
          ]
        },
        {
          "output_type": "stream",
          "name": "stderr",
          "text": [
            "\n"
          ]
        }
      ]
    },
    {
      "cell_type": "code",
      "source": [],
      "metadata": {
        "id": "nBJy-fiyo87N"
      },
      "execution_count": null,
      "outputs": []
    },
    {
      "cell_type": "code",
      "source": [],
      "metadata": {
        "id": "V67trA-Zo87N"
      },
      "execution_count": null,
      "outputs": []
    },
    {
      "cell_type": "code",
      "source": [],
      "metadata": {
        "id": "wzTyk67foRh4"
      },
      "execution_count": null,
      "outputs": []
    },
    {
      "cell_type": "code",
      "source": [],
      "metadata": {
        "id": "5I0gbaD4oRkx"
      },
      "execution_count": null,
      "outputs": []
    },
    {
      "cell_type": "code",
      "source": [],
      "metadata": {
        "id": "abmYCa-ToRnf"
      },
      "execution_count": null,
      "outputs": []
    },
    {
      "cell_type": "code",
      "source": [],
      "metadata": {
        "id": "F41ActQ2oRqN"
      },
      "execution_count": null,
      "outputs": []
    },
    {
      "cell_type": "code",
      "source": [],
      "metadata": {
        "id": "iz0W2xcWoRst"
      },
      "execution_count": null,
      "outputs": []
    },
    {
      "cell_type": "code",
      "source": [],
      "metadata": {
        "id": "kcyaZmEgoRza"
      },
      "execution_count": null,
      "outputs": []
    },
    {
      "cell_type": "code",
      "source": [],
      "metadata": {
        "id": "s2wsgL1AoR3u"
      },
      "execution_count": null,
      "outputs": []
    },
    {
      "cell_type": "markdown",
      "source": [
        "# embd_random10_avg"
      ],
      "metadata": {
        "id": "L8e_ZCcXpbET"
      }
    },
    {
      "cell_type": "code",
      "source": [
        "model = CustomCNN(n_features=64).to(DEVICE)\n",
        "sum(p.numel() for p in model.parameters() if p.requires_grad)"
      ],
      "metadata": {
        "id": "PWHH7bhbpbET",
        "colab": {
          "base_uri": "https://localhost:8080/"
        },
        "outputId": "d73e60e1-4b5d-4023-edbd-b906f98e49a3"
      },
      "execution_count": null,
      "outputs": [
        {
          "output_type": "execute_result",
          "data": {
            "text/plain": [
              "274832"
            ]
          },
          "metadata": {},
          "execution_count": 84
        }
      ]
    },
    {
      "cell_type": "code",
      "source": [
        "optimizer = torch.optim.Adam(model.parameters())\n",
        "criterion = torch.nn.CrossEntropyLoss()"
      ],
      "metadata": {
        "id": "S1rRYXNBt7-2"
      },
      "execution_count": null,
      "outputs": []
    },
    {
      "cell_type": "code",
      "source": [
        "embedding = pd.read_csv('/content/drive/MyDrive/ZSClassification/ZeroShotHandwrittenCharacterRecognition/Bangla/Embd_VAEResnet/embd_random10_avg.csv')\n",
        "\n",
        "embedding = embedding.iloc[:, :].values\n",
        "# embedding = embedding.iloc[:, :].values.T\n",
        "embedding = torch.from_numpy(embedding)\n",
        "embedding = embedding.to(DEVICE)\n",
        "embedding.shape, embedding"
      ],
      "metadata": {
        "id": "z51nr66FpbEU",
        "colab": {
          "base_uri": "https://localhost:8080/"
        },
        "outputId": "a104931c-3c50-43c4-9b65-b3a8dae18472"
      },
      "execution_count": null,
      "outputs": [
        {
          "output_type": "execute_result",
          "data": {
            "text/plain": [
              "(torch.Size([64, 50]),\n",
              " tensor([[ 1.3824,  0.6045,  1.2546,  ...,  1.3006,  0.1901,  0.7191],\n",
              "         [-2.7137, -2.0039,  0.3476,  ..., -0.3038,  1.3176,  0.6397],\n",
              "         [-0.8170, -1.0324, -0.9901,  ..., -1.0653, -0.3367, -0.3341],\n",
              "         ...,\n",
              "         [ 1.3083,  2.2889,  2.5343,  ..., -0.9471,  1.3859,  0.9101],\n",
              "         [-1.1386, -0.9188,  1.0433,  ..., -0.1789,  2.4009,  1.6780],\n",
              "         [ 0.5484, -0.5407,  0.6267,  ...,  0.3292, -0.3093, -0.0503]],\n",
              "        device='cuda:0', dtype=torch.float64))"
            ]
          },
          "metadata": {},
          "execution_count": 86
        }
      ]
    },
    {
      "cell_type": "code",
      "metadata": {
        "id": "Do6jcuddpbEU",
        "colab": {
          "base_uri": "https://localhost:8080/"
        },
        "outputId": "001d42e6-582d-4dcd-d823-c7139ba1911f"
      },
      "source": [
        "best_loss, best_acc = 1e10, 0\n",
        "\n",
        "for epoch in range(50+1):\n",
        "    print(f\"Epoch: {epoch}\")\n",
        "\n",
        "    # if os.path.exists('model.pth'):\n",
        "    #     model.load_state_dict(torch.load('model.pth'))\n",
        "\n",
        "    train_acc, train_loss = train(model, train_loader, embedding, criterion, optimizer, DEVICE)\n",
        "    test_acc = test(model, test_loader, embedding, DEVICE)\n",
        "    print(f\"Training Accuracy: {train_acc*100:.3f}%, Training Loss: {train_loss:.4f}, Test Accuracy: {test_acc*100:.3f}%\\n\")\n",
        "\n",
        "    # if epoch % 5 == 0 and test_acc > best_acc and train_loss < best_loss:\n",
        "    if train_loss < best_loss:\n",
        "        best_acc = test_acc\n",
        "        best_loss = train_loss\n",
        "        torch.save(model.state_dict(), \"model.pth\")\n",
        "        print(f\"{'-'*20}\\nModel Saved\\n{'-'*20}\")"
      ],
      "execution_count": null,
      "outputs": [
        {
          "output_type": "stream",
          "name": "stdout",
          "text": [
            "Epoch: 0\n"
          ]
        },
        {
          "output_type": "stream",
          "name": "stderr",
          "text": [
            "100%|██████████| 375/375 [00:09<00:00, 41.33it/s]\n",
            "100%|██████████| 47/47 [00:02<00:00, 16.37it/s]\n"
          ]
        },
        {
          "output_type": "stream",
          "name": "stdout",
          "text": [
            "Training Accuracy: 57.658%, Training Loss: 1.4636, Test Accuracy: 75.300%\n",
            "\n",
            "--------------------\n",
            "Model Saved\n",
            "--------------------\n",
            "Epoch: 1\n"
          ]
        },
        {
          "output_type": "stream",
          "name": "stderr",
          "text": [
            "100%|██████████| 375/375 [00:09<00:00, 41.06it/s]\n",
            "100%|██████████| 47/47 [00:02<00:00, 21.12it/s]\n"
          ]
        },
        {
          "output_type": "stream",
          "name": "stdout",
          "text": [
            "Training Accuracy: 81.617%, Training Loss: 0.6054, Test Accuracy: 82.600%\n",
            "\n",
            "--------------------\n",
            "Model Saved\n",
            "--------------------\n",
            "Epoch: 2\n"
          ]
        },
        {
          "output_type": "stream",
          "name": "stderr",
          "text": [
            "100%|██████████| 375/375 [00:09<00:00, 38.09it/s]\n",
            "100%|██████████| 47/47 [00:02<00:00, 23.31it/s]\n"
          ]
        },
        {
          "output_type": "stream",
          "name": "stdout",
          "text": [
            "Training Accuracy: 87.733%, Training Loss: 0.4027, Test Accuracy: 85.633%\n",
            "\n",
            "--------------------\n",
            "Model Saved\n",
            "--------------------\n",
            "Epoch: 3\n"
          ]
        },
        {
          "output_type": "stream",
          "name": "stderr",
          "text": [
            "100%|██████████| 375/375 [00:10<00:00, 36.88it/s]\n",
            "100%|██████████| 47/47 [00:02<00:00, 22.96it/s]\n"
          ]
        },
        {
          "output_type": "stream",
          "name": "stdout",
          "text": [
            "Training Accuracy: 90.442%, Training Loss: 0.3030, Test Accuracy: 88.500%\n",
            "\n",
            "--------------------\n",
            "Model Saved\n",
            "--------------------\n",
            "Epoch: 4\n"
          ]
        },
        {
          "output_type": "stream",
          "name": "stderr",
          "text": [
            "100%|██████████| 375/375 [00:10<00:00, 36.26it/s]\n",
            "100%|██████████| 47/47 [00:02<00:00, 21.74it/s]\n"
          ]
        },
        {
          "output_type": "stream",
          "name": "stdout",
          "text": [
            "Training Accuracy: 92.175%, Training Loss: 0.2558, Test Accuracy: 90.167%\n",
            "\n",
            "--------------------\n",
            "Model Saved\n",
            "--------------------\n",
            "Epoch: 5\n"
          ]
        },
        {
          "output_type": "stream",
          "name": "stderr",
          "text": [
            "100%|██████████| 375/375 [00:10<00:00, 35.91it/s]\n",
            "100%|██████████| 47/47 [00:02<00:00, 22.86it/s]\n"
          ]
        },
        {
          "output_type": "stream",
          "name": "stdout",
          "text": [
            "Training Accuracy: 93.258%, Training Loss: 0.2072, Test Accuracy: 89.700%\n",
            "\n",
            "--------------------\n",
            "Model Saved\n",
            "--------------------\n",
            "Epoch: 6\n"
          ]
        },
        {
          "output_type": "stream",
          "name": "stderr",
          "text": [
            "100%|██████████| 375/375 [00:10<00:00, 36.22it/s]\n",
            "100%|██████████| 47/47 [00:02<00:00, 22.95it/s]\n"
          ]
        },
        {
          "output_type": "stream",
          "name": "stdout",
          "text": [
            "Training Accuracy: 93.742%, Training Loss: 0.2012, Test Accuracy: 91.533%\n",
            "\n",
            "--------------------\n",
            "Model Saved\n",
            "--------------------\n",
            "Epoch: 7\n"
          ]
        },
        {
          "output_type": "stream",
          "name": "stderr",
          "text": [
            "100%|██████████| 375/375 [00:10<00:00, 36.76it/s]\n",
            "100%|██████████| 47/47 [00:02<00:00, 23.16it/s]\n"
          ]
        },
        {
          "output_type": "stream",
          "name": "stdout",
          "text": [
            "Training Accuracy: 95.025%, Training Loss: 0.1565, Test Accuracy: 90.700%\n",
            "\n",
            "--------------------\n",
            "Model Saved\n",
            "--------------------\n",
            "Epoch: 8\n"
          ]
        },
        {
          "output_type": "stream",
          "name": "stderr",
          "text": [
            "100%|██████████| 375/375 [00:09<00:00, 37.51it/s]\n",
            "100%|██████████| 47/47 [00:02<00:00, 19.69it/s]\n"
          ]
        },
        {
          "output_type": "stream",
          "name": "stdout",
          "text": [
            "Training Accuracy: 94.817%, Training Loss: 0.1732, Test Accuracy: 88.833%\n",
            "\n",
            "Epoch: 9\n"
          ]
        },
        {
          "output_type": "stream",
          "name": "stderr",
          "text": [
            "100%|██████████| 375/375 [00:09<00:00, 40.12it/s]\n",
            "100%|██████████| 47/47 [00:02<00:00, 15.87it/s]\n"
          ]
        },
        {
          "output_type": "stream",
          "name": "stdout",
          "text": [
            "Training Accuracy: 95.500%, Training Loss: 0.1432, Test Accuracy: 91.700%\n",
            "\n",
            "--------------------\n",
            "Model Saved\n",
            "--------------------\n",
            "Epoch: 10\n"
          ]
        },
        {
          "output_type": "stream",
          "name": "stderr",
          "text": [
            "100%|██████████| 375/375 [00:08<00:00, 41.93it/s]\n",
            "100%|██████████| 47/47 [00:02<00:00, 18.20it/s]\n"
          ]
        },
        {
          "output_type": "stream",
          "name": "stdout",
          "text": [
            "Training Accuracy: 96.200%, Training Loss: 0.1285, Test Accuracy: 91.333%\n",
            "\n",
            "--------------------\n",
            "Model Saved\n",
            "--------------------\n",
            "Epoch: 11\n"
          ]
        },
        {
          "output_type": "stream",
          "name": "stderr",
          "text": [
            "100%|██████████| 375/375 [00:09<00:00, 38.94it/s]\n",
            "100%|██████████| 47/47 [00:02<00:00, 22.83it/s]\n"
          ]
        },
        {
          "output_type": "stream",
          "name": "stdout",
          "text": [
            "Training Accuracy: 96.475%, Training Loss: 0.1168, Test Accuracy: 91.333%\n",
            "\n",
            "--------------------\n",
            "Model Saved\n",
            "--------------------\n",
            "Epoch: 12\n"
          ]
        },
        {
          "output_type": "stream",
          "name": "stderr",
          "text": [
            "100%|██████████| 375/375 [00:10<00:00, 36.89it/s]\n",
            "100%|██████████| 47/47 [00:01<00:00, 23.65it/s]\n"
          ]
        },
        {
          "output_type": "stream",
          "name": "stdout",
          "text": [
            "Training Accuracy: 96.275%, Training Loss: 0.1218, Test Accuracy: 90.100%\n",
            "\n",
            "Epoch: 13\n"
          ]
        },
        {
          "output_type": "stream",
          "name": "stderr",
          "text": [
            "100%|██████████| 375/375 [00:10<00:00, 37.34it/s]\n",
            "100%|██████████| 47/47 [00:02<00:00, 23.26it/s]\n"
          ]
        },
        {
          "output_type": "stream",
          "name": "stdout",
          "text": [
            "Training Accuracy: 96.783%, Training Loss: 0.1072, Test Accuracy: 92.400%\n",
            "\n",
            "--------------------\n",
            "Model Saved\n",
            "--------------------\n",
            "Epoch: 14\n"
          ]
        },
        {
          "output_type": "stream",
          "name": "stderr",
          "text": [
            "100%|██████████| 375/375 [00:10<00:00, 37.42it/s]\n",
            "100%|██████████| 47/47 [00:02<00:00, 22.92it/s]\n"
          ]
        },
        {
          "output_type": "stream",
          "name": "stdout",
          "text": [
            "Training Accuracy: 96.925%, Training Loss: 0.0978, Test Accuracy: 91.200%\n",
            "\n",
            "--------------------\n",
            "Model Saved\n",
            "--------------------\n",
            "Epoch: 15\n"
          ]
        },
        {
          "output_type": "stream",
          "name": "stderr",
          "text": [
            "100%|██████████| 375/375 [00:10<00:00, 36.96it/s]\n",
            "100%|██████████| 47/47 [00:01<00:00, 23.64it/s]\n"
          ]
        },
        {
          "output_type": "stream",
          "name": "stdout",
          "text": [
            "Training Accuracy: 96.158%, Training Loss: 0.1309, Test Accuracy: 90.800%\n",
            "\n",
            "Epoch: 16\n"
          ]
        },
        {
          "output_type": "stream",
          "name": "stderr",
          "text": [
            "100%|██████████| 375/375 [00:10<00:00, 37.07it/s]\n",
            "100%|██████████| 47/47 [00:02<00:00, 23.07it/s]\n"
          ]
        },
        {
          "output_type": "stream",
          "name": "stdout",
          "text": [
            "Training Accuracy: 97.017%, Training Loss: 0.1022, Test Accuracy: 91.933%\n",
            "\n",
            "Epoch: 17\n"
          ]
        },
        {
          "output_type": "stream",
          "name": "stderr",
          "text": [
            "100%|██████████| 375/375 [00:09<00:00, 40.09it/s]\n",
            "100%|██████████| 47/47 [00:02<00:00, 18.08it/s]\n"
          ]
        },
        {
          "output_type": "stream",
          "name": "stdout",
          "text": [
            "Training Accuracy: 97.617%, Training Loss: 0.0802, Test Accuracy: 93.200%\n",
            "\n",
            "--------------------\n",
            "Model Saved\n",
            "--------------------\n",
            "Epoch: 18\n"
          ]
        },
        {
          "output_type": "stream",
          "name": "stderr",
          "text": [
            "100%|██████████| 375/375 [00:08<00:00, 41.99it/s]\n",
            "100%|██████████| 47/47 [00:02<00:00, 17.26it/s]\n"
          ]
        },
        {
          "output_type": "stream",
          "name": "stdout",
          "text": [
            "Training Accuracy: 97.483%, Training Loss: 0.0861, Test Accuracy: 92.433%\n",
            "\n",
            "Epoch: 19\n"
          ]
        },
        {
          "output_type": "stream",
          "name": "stderr",
          "text": [
            "100%|██████████| 375/375 [00:09<00:00, 40.11it/s]\n",
            "100%|██████████| 47/47 [00:02<00:00, 22.52it/s]\n"
          ]
        },
        {
          "output_type": "stream",
          "name": "stdout",
          "text": [
            "Training Accuracy: 97.342%, Training Loss: 0.0877, Test Accuracy: 92.300%\n",
            "\n",
            "Epoch: 20\n"
          ]
        },
        {
          "output_type": "stream",
          "name": "stderr",
          "text": [
            "100%|██████████| 375/375 [00:09<00:00, 37.76it/s]\n",
            "100%|██████████| 47/47 [00:02<00:00, 23.25it/s]\n"
          ]
        },
        {
          "output_type": "stream",
          "name": "stdout",
          "text": [
            "Training Accuracy: 97.883%, Training Loss: 0.0769, Test Accuracy: 92.967%\n",
            "\n",
            "--------------------\n",
            "Model Saved\n",
            "--------------------\n",
            "Epoch: 21\n"
          ]
        },
        {
          "output_type": "stream",
          "name": "stderr",
          "text": [
            "100%|██████████| 375/375 [00:10<00:00, 36.85it/s]\n",
            "100%|██████████| 47/47 [00:02<00:00, 22.82it/s]\n"
          ]
        },
        {
          "output_type": "stream",
          "name": "stdout",
          "text": [
            "Training Accuracy: 98.042%, Training Loss: 0.0630, Test Accuracy: 92.033%\n",
            "\n",
            "--------------------\n",
            "Model Saved\n",
            "--------------------\n",
            "Epoch: 22\n"
          ]
        },
        {
          "output_type": "stream",
          "name": "stderr",
          "text": [
            "100%|██████████| 375/375 [00:10<00:00, 36.40it/s]\n",
            "100%|██████████| 47/47 [00:02<00:00, 23.35it/s]\n"
          ]
        },
        {
          "output_type": "stream",
          "name": "stdout",
          "text": [
            "Training Accuracy: 97.250%, Training Loss: 0.0945, Test Accuracy: 93.167%\n",
            "\n",
            "Epoch: 23\n"
          ]
        },
        {
          "output_type": "stream",
          "name": "stderr",
          "text": [
            "100%|██████████| 375/375 [00:10<00:00, 37.32it/s]\n",
            "100%|██████████| 47/47 [00:02<00:00, 23.20it/s]\n"
          ]
        },
        {
          "output_type": "stream",
          "name": "stdout",
          "text": [
            "Training Accuracy: 98.258%, Training Loss: 0.0545, Test Accuracy: 94.200%\n",
            "\n",
            "--------------------\n",
            "Model Saved\n",
            "--------------------\n",
            "Epoch: 24\n"
          ]
        },
        {
          "output_type": "stream",
          "name": "stderr",
          "text": [
            "100%|██████████| 375/375 [00:10<00:00, 37.43it/s]\n",
            "100%|██████████| 47/47 [00:02<00:00, 23.31it/s]\n"
          ]
        },
        {
          "output_type": "stream",
          "name": "stdout",
          "text": [
            "Training Accuracy: 97.975%, Training Loss: 0.0686, Test Accuracy: 92.867%\n",
            "\n",
            "Epoch: 25\n"
          ]
        },
        {
          "output_type": "stream",
          "name": "stderr",
          "text": [
            "100%|██████████| 375/375 [00:09<00:00, 38.45it/s]\n",
            "100%|██████████| 47/47 [00:02<00:00, 20.10it/s]\n"
          ]
        },
        {
          "output_type": "stream",
          "name": "stdout",
          "text": [
            "Training Accuracy: 97.883%, Training Loss: 0.0743, Test Accuracy: 93.333%\n",
            "\n",
            "Epoch: 26\n"
          ]
        },
        {
          "output_type": "stream",
          "name": "stderr",
          "text": [
            "100%|██████████| 375/375 [00:08<00:00, 41.99it/s]\n",
            "100%|██████████| 47/47 [00:02<00:00, 16.39it/s]\n"
          ]
        },
        {
          "output_type": "stream",
          "name": "stdout",
          "text": [
            "Training Accuracy: 97.925%, Training Loss: 0.0717, Test Accuracy: 92.767%\n",
            "\n",
            "Epoch: 27\n"
          ]
        },
        {
          "output_type": "stream",
          "name": "stderr",
          "text": [
            "100%|██████████| 375/375 [00:09<00:00, 41.65it/s]\n",
            "100%|██████████| 47/47 [00:02<00:00, 21.24it/s]\n"
          ]
        },
        {
          "output_type": "stream",
          "name": "stdout",
          "text": [
            "Training Accuracy: 97.942%, Training Loss: 0.0721, Test Accuracy: 93.967%\n",
            "\n",
            "Epoch: 28\n"
          ]
        },
        {
          "output_type": "stream",
          "name": "stderr",
          "text": [
            "100%|██████████| 375/375 [00:09<00:00, 38.45it/s]\n",
            "100%|██████████| 47/47 [00:02<00:00, 23.25it/s]\n"
          ]
        },
        {
          "output_type": "stream",
          "name": "stdout",
          "text": [
            "Training Accuracy: 98.442%, Training Loss: 0.0573, Test Accuracy: 92.700%\n",
            "\n",
            "Epoch: 29\n"
          ]
        },
        {
          "output_type": "stream",
          "name": "stderr",
          "text": [
            "100%|██████████| 375/375 [00:10<00:00, 37.41it/s]\n",
            "100%|██████████| 47/47 [00:02<00:00, 23.39it/s]\n"
          ]
        },
        {
          "output_type": "stream",
          "name": "stdout",
          "text": [
            "Training Accuracy: 97.933%, Training Loss: 0.0743, Test Accuracy: 90.500%\n",
            "\n",
            "Epoch: 30\n"
          ]
        },
        {
          "output_type": "stream",
          "name": "stderr",
          "text": [
            "100%|██████████| 375/375 [00:10<00:00, 36.78it/s]\n",
            "100%|██████████| 47/47 [00:02<00:00, 23.15it/s]\n"
          ]
        },
        {
          "output_type": "stream",
          "name": "stdout",
          "text": [
            "Training Accuracy: 98.225%, Training Loss: 0.0638, Test Accuracy: 94.000%\n",
            "\n",
            "Epoch: 31\n"
          ]
        },
        {
          "output_type": "stream",
          "name": "stderr",
          "text": [
            "100%|██████████| 375/375 [00:10<00:00, 36.98it/s]\n",
            "100%|██████████| 47/47 [00:02<00:00, 23.30it/s]\n"
          ]
        },
        {
          "output_type": "stream",
          "name": "stdout",
          "text": [
            "Training Accuracy: 98.583%, Training Loss: 0.0471, Test Accuracy: 92.600%\n",
            "\n",
            "--------------------\n",
            "Model Saved\n",
            "--------------------\n",
            "Epoch: 32\n"
          ]
        },
        {
          "output_type": "stream",
          "name": "stderr",
          "text": [
            "100%|██████████| 375/375 [00:10<00:00, 37.45it/s]\n",
            "100%|██████████| 47/47 [00:02<00:00, 22.83it/s]\n"
          ]
        },
        {
          "output_type": "stream",
          "name": "stdout",
          "text": [
            "Training Accuracy: 98.667%, Training Loss: 0.0466, Test Accuracy: 93.500%\n",
            "\n",
            "--------------------\n",
            "Model Saved\n",
            "--------------------\n",
            "Epoch: 33\n"
          ]
        },
        {
          "output_type": "stream",
          "name": "stderr",
          "text": [
            "100%|██████████| 375/375 [00:09<00:00, 38.17it/s]\n",
            "100%|██████████| 47/47 [00:02<00:00, 21.55it/s]\n"
          ]
        },
        {
          "output_type": "stream",
          "name": "stdout",
          "text": [
            "Training Accuracy: 98.225%, Training Loss: 0.0626, Test Accuracy: 92.633%\n",
            "\n",
            "Epoch: 34\n"
          ]
        },
        {
          "output_type": "stream",
          "name": "stderr",
          "text": [
            "100%|██████████| 375/375 [00:09<00:00, 41.05it/s]\n",
            "100%|██████████| 47/47 [00:02<00:00, 16.45it/s]\n"
          ]
        },
        {
          "output_type": "stream",
          "name": "stdout",
          "text": [
            "Training Accuracy: 98.250%, Training Loss: 0.0659, Test Accuracy: 92.933%\n",
            "\n",
            "Epoch: 35\n"
          ]
        },
        {
          "output_type": "stream",
          "name": "stderr",
          "text": [
            "100%|██████████| 375/375 [00:08<00:00, 41.74it/s]\n",
            "100%|██████████| 47/47 [00:02<00:00, 19.03it/s]\n"
          ]
        },
        {
          "output_type": "stream",
          "name": "stdout",
          "text": [
            "Training Accuracy: 98.450%, Training Loss: 0.0612, Test Accuracy: 93.900%\n",
            "\n",
            "Epoch: 36\n"
          ]
        },
        {
          "output_type": "stream",
          "name": "stderr",
          "text": [
            "100%|██████████| 375/375 [00:09<00:00, 38.95it/s]\n",
            "100%|██████████| 47/47 [00:02<00:00, 23.33it/s]\n"
          ]
        },
        {
          "output_type": "stream",
          "name": "stdout",
          "text": [
            "Training Accuracy: 98.758%, Training Loss: 0.0413, Test Accuracy: 92.367%\n",
            "\n",
            "--------------------\n",
            "Model Saved\n",
            "--------------------\n",
            "Epoch: 37\n"
          ]
        },
        {
          "output_type": "stream",
          "name": "stderr",
          "text": [
            "100%|██████████| 375/375 [00:10<00:00, 37.20it/s]\n",
            "100%|██████████| 47/47 [00:02<00:00, 23.11it/s]\n"
          ]
        },
        {
          "output_type": "stream",
          "name": "stdout",
          "text": [
            "Training Accuracy: 98.392%, Training Loss: 0.0570, Test Accuracy: 93.433%\n",
            "\n",
            "Epoch: 38\n"
          ]
        },
        {
          "output_type": "stream",
          "name": "stderr",
          "text": [
            "100%|██████████| 375/375 [00:10<00:00, 36.77it/s]\n",
            "100%|██████████| 47/47 [00:02<00:00, 23.31it/s]\n"
          ]
        },
        {
          "output_type": "stream",
          "name": "stdout",
          "text": [
            "Training Accuracy: 98.742%, Training Loss: 0.0485, Test Accuracy: 93.233%\n",
            "\n",
            "Epoch: 39\n"
          ]
        },
        {
          "output_type": "stream",
          "name": "stderr",
          "text": [
            "100%|██████████| 375/375 [00:10<00:00, 37.09it/s]\n",
            "100%|██████████| 47/47 [00:02<00:00, 23.09it/s]\n"
          ]
        },
        {
          "output_type": "stream",
          "name": "stdout",
          "text": [
            "Training Accuracy: 98.583%, Training Loss: 0.0616, Test Accuracy: 93.500%\n",
            "\n",
            "Epoch: 40\n"
          ]
        },
        {
          "output_type": "stream",
          "name": "stderr",
          "text": [
            "100%|██████████| 375/375 [00:10<00:00, 36.54it/s]\n",
            "100%|██████████| 47/47 [00:02<00:00, 22.59it/s]\n"
          ]
        },
        {
          "output_type": "stream",
          "name": "stdout",
          "text": [
            "Training Accuracy: 98.858%, Training Loss: 0.0434, Test Accuracy: 94.167%\n",
            "\n",
            "Epoch: 41\n"
          ]
        },
        {
          "output_type": "stream",
          "name": "stderr",
          "text": [
            "100%|██████████| 375/375 [00:10<00:00, 36.50it/s]\n",
            "100%|██████████| 47/47 [00:02<00:00, 22.52it/s]\n"
          ]
        },
        {
          "output_type": "stream",
          "name": "stdout",
          "text": [
            "Training Accuracy: 98.842%, Training Loss: 0.0432, Test Accuracy: 93.933%\n",
            "\n",
            "Epoch: 42\n"
          ]
        },
        {
          "output_type": "stream",
          "name": "stderr",
          "text": [
            "100%|██████████| 375/375 [00:10<00:00, 37.20it/s]\n",
            "100%|██████████| 47/47 [00:02<00:00, 20.35it/s]\n"
          ]
        },
        {
          "output_type": "stream",
          "name": "stdout",
          "text": [
            "Training Accuracy: 99.058%, Training Loss: 0.0341, Test Accuracy: 94.067%\n",
            "\n",
            "--------------------\n",
            "Model Saved\n",
            "--------------------\n",
            "Epoch: 43\n"
          ]
        },
        {
          "output_type": "stream",
          "name": "stderr",
          "text": [
            "100%|██████████| 375/375 [00:09<00:00, 40.51it/s]\n",
            "100%|██████████| 47/47 [00:02<00:00, 16.47it/s]\n"
          ]
        },
        {
          "output_type": "stream",
          "name": "stdout",
          "text": [
            "Training Accuracy: 98.858%, Training Loss: 0.0414, Test Accuracy: 93.433%\n",
            "\n",
            "Epoch: 44\n"
          ]
        },
        {
          "output_type": "stream",
          "name": "stderr",
          "text": [
            "100%|██████████| 375/375 [00:08<00:00, 42.33it/s]\n",
            "100%|██████████| 47/47 [00:02<00:00, 18.83it/s]\n"
          ]
        },
        {
          "output_type": "stream",
          "name": "stdout",
          "text": [
            "Training Accuracy: 98.950%, Training Loss: 0.0360, Test Accuracy: 93.533%\n",
            "\n",
            "Epoch: 45\n"
          ]
        },
        {
          "output_type": "stream",
          "name": "stderr",
          "text": [
            "100%|██████████| 375/375 [00:09<00:00, 39.34it/s]\n",
            "100%|██████████| 47/47 [00:02<00:00, 23.26it/s]\n"
          ]
        },
        {
          "output_type": "stream",
          "name": "stdout",
          "text": [
            "Training Accuracy: 98.992%, Training Loss: 0.0397, Test Accuracy: 92.733%\n",
            "\n",
            "Epoch: 46\n"
          ]
        },
        {
          "output_type": "stream",
          "name": "stderr",
          "text": [
            "100%|██████████| 375/375 [00:10<00:00, 37.21it/s]\n",
            "100%|██████████| 47/47 [00:02<00:00, 23.40it/s]\n"
          ]
        },
        {
          "output_type": "stream",
          "name": "stdout",
          "text": [
            "Training Accuracy: 98.375%, Training Loss: 0.0700, Test Accuracy: 91.033%\n",
            "\n",
            "Epoch: 47\n"
          ]
        },
        {
          "output_type": "stream",
          "name": "stderr",
          "text": [
            "100%|██████████| 375/375 [00:10<00:00, 36.69it/s]\n",
            "100%|██████████| 47/47 [00:02<00:00, 23.06it/s]\n"
          ]
        },
        {
          "output_type": "stream",
          "name": "stdout",
          "text": [
            "Training Accuracy: 98.608%, Training Loss: 0.0582, Test Accuracy: 93.667%\n",
            "\n",
            "Epoch: 48\n"
          ]
        },
        {
          "output_type": "stream",
          "name": "stderr",
          "text": [
            "100%|██████████| 375/375 [00:10<00:00, 36.72it/s]\n",
            "100%|██████████| 47/47 [00:02<00:00, 23.05it/s]\n"
          ]
        },
        {
          "output_type": "stream",
          "name": "stdout",
          "text": [
            "Training Accuracy: 99.142%, Training Loss: 0.0323, Test Accuracy: 93.833%\n",
            "\n",
            "--------------------\n",
            "Model Saved\n",
            "--------------------\n",
            "Epoch: 49\n"
          ]
        },
        {
          "output_type": "stream",
          "name": "stderr",
          "text": [
            "100%|██████████| 375/375 [00:10<00:00, 36.81it/s]\n",
            "100%|██████████| 47/47 [00:02<00:00, 22.86it/s]\n"
          ]
        },
        {
          "output_type": "stream",
          "name": "stdout",
          "text": [
            "Training Accuracy: 98.908%, Training Loss: 0.0394, Test Accuracy: 94.233%\n",
            "\n",
            "Epoch: 50\n"
          ]
        },
        {
          "output_type": "stream",
          "name": "stderr",
          "text": [
            "100%|██████████| 375/375 [00:10<00:00, 36.61it/s]\n",
            "100%|██████████| 47/47 [00:02<00:00, 23.35it/s]"
          ]
        },
        {
          "output_type": "stream",
          "name": "stdout",
          "text": [
            "Training Accuracy: 98.850%, Training Loss: 0.0430, Test Accuracy: 93.300%\n",
            "\n"
          ]
        },
        {
          "output_type": "stream",
          "name": "stderr",
          "text": [
            "\n"
          ]
        }
      ]
    },
    {
      "cell_type": "code",
      "source": [
        "if os.path.exists('model.pth'):\n",
        "    model.load_state_dict(torch.load('model.pth'))\n",
        "\n",
        "test_acc = test(model, test_loader, embedding, DEVICE)\n",
        "print(f\"Test Accuracy: {test_acc*100:.3f}%\\n\")"
      ],
      "metadata": {
        "id": "v7jb5PofpbEU",
        "colab": {
          "base_uri": "https://localhost:8080/"
        },
        "outputId": "189f23a9-c947-42d9-94b7-f86642982433"
      },
      "execution_count": null,
      "outputs": [
        {
          "output_type": "stream",
          "name": "stderr",
          "text": [
            "100%|██████████| 47/47 [00:02<00:00, 22.85it/s]"
          ]
        },
        {
          "output_type": "stream",
          "name": "stdout",
          "text": [
            "Test Accuracy: 93.833%\n",
            "\n"
          ]
        },
        {
          "output_type": "stream",
          "name": "stderr",
          "text": [
            "\n"
          ]
        }
      ]
    },
    {
      "cell_type": "code",
      "source": [],
      "metadata": {
        "id": "rD0lwu0RpbEU"
      },
      "execution_count": null,
      "outputs": []
    },
    {
      "cell_type": "code",
      "source": [],
      "metadata": {
        "id": "bL8nezJ2pbEU"
      },
      "execution_count": null,
      "outputs": []
    },
    {
      "cell_type": "code",
      "source": [],
      "metadata": {
        "id": "D-f3_L5kpbEU"
      },
      "execution_count": null,
      "outputs": []
    },
    {
      "cell_type": "code",
      "source": [],
      "metadata": {
        "id": "_6TwcyrYpbEV"
      },
      "execution_count": null,
      "outputs": []
    },
    {
      "cell_type": "code",
      "source": [],
      "metadata": {
        "id": "b3q9PptXpbEV"
      },
      "execution_count": null,
      "outputs": []
    },
    {
      "cell_type": "code",
      "source": [],
      "metadata": {
        "id": "u8h6dbdHpbEV"
      },
      "execution_count": null,
      "outputs": []
    },
    {
      "cell_type": "code",
      "source": [],
      "metadata": {
        "id": "8Tk867HdpbEV"
      },
      "execution_count": null,
      "outputs": []
    },
    {
      "cell_type": "code",
      "source": [],
      "metadata": {
        "id": "4E8Q38NrpbEV"
      },
      "execution_count": null,
      "outputs": []
    },
    {
      "cell_type": "code",
      "source": [],
      "metadata": {
        "id": "bHIs_7MnpbEV"
      },
      "execution_count": null,
      "outputs": []
    },
    {
      "cell_type": "markdown",
      "source": [
        "# embd_random10"
      ],
      "metadata": {
        "id": "Wlc0GubipmaE"
      }
    },
    {
      "cell_type": "code",
      "source": [
        "model = CustomCNN(n_features=64).to(DEVICE)\n",
        "sum(p.numel() for p in model.parameters() if p.requires_grad)"
      ],
      "metadata": {
        "id": "XVY0JUvdpmaF",
        "colab": {
          "base_uri": "https://localhost:8080/"
        },
        "outputId": "5edf5f9a-f622-46ca-c1ca-a97349382dee"
      },
      "execution_count": null,
      "outputs": [
        {
          "output_type": "execute_result",
          "data": {
            "text/plain": [
              "274832"
            ]
          },
          "metadata": {},
          "execution_count": 89
        }
      ]
    },
    {
      "cell_type": "code",
      "source": [
        "optimizer = torch.optim.Adam(model.parameters())\n",
        "criterion = torch.nn.CrossEntropyLoss()"
      ],
      "metadata": {
        "id": "jYAUbcDbt_X1"
      },
      "execution_count": null,
      "outputs": []
    },
    {
      "cell_type": "code",
      "source": [
        "embedding = pd.read_csv('/content/drive/MyDrive/ZSClassification/ZeroShotHandwrittenCharacterRecognition/Bangla/Embd_VAEResnet/embd_random10.csv')\n",
        "\n",
        "embedding = embedding.iloc[:, :].values\n",
        "# embedding = embedding.iloc[:, :].values.T\n",
        "embedding = torch.from_numpy(embedding)\n",
        "embedding = embedding.to(DEVICE)\n",
        "embedding.shape, embedding"
      ],
      "metadata": {
        "id": "oM5d5DsSpmaF",
        "colab": {
          "base_uri": "https://localhost:8080/"
        },
        "outputId": "151dad77-9691-449e-cfc6-f370032930ad"
      },
      "execution_count": null,
      "outputs": [
        {
          "output_type": "execute_result",
          "data": {
            "text/plain": [
              "(torch.Size([64, 50]),\n",
              " tensor([[ 13.8238,   6.0447,  12.5461,  ...,  13.0060,   1.9007,   7.1911],\n",
              "         [-27.1374, -20.0388,   3.4764,  ...,  -3.0383,  13.1756,   6.3974],\n",
              "         [ -8.1698, -10.3241,  -9.9015,  ..., -10.6532,  -3.3671,  -3.3411],\n",
              "         ...,\n",
              "         [ 13.0832,  22.8886,  25.3433,  ...,  -9.4715,  13.8592,   9.1011],\n",
              "         [-11.3862,  -9.1876,  10.4332,  ...,  -1.7887,  24.0085,  16.7797],\n",
              "         [  5.4843,  -5.4067,   6.2671,  ...,   3.2922,  -3.0926,  -0.5032]],\n",
              "        device='cuda:0', dtype=torch.float64))"
            ]
          },
          "metadata": {},
          "execution_count": 91
        }
      ]
    },
    {
      "cell_type": "code",
      "metadata": {
        "id": "Ut81kE79pmaF",
        "colab": {
          "base_uri": "https://localhost:8080/"
        },
        "outputId": "2a381329-03f8-4597-e682-276f257aa9cb"
      },
      "source": [
        "best_loss, best_acc = 1e10, 0\n",
        "\n",
        "for epoch in range(50+1):\n",
        "    print(f\"Epoch: {epoch}\")\n",
        "\n",
        "    # if os.path.exists('model.pth'):\n",
        "    #     model.load_state_dict(torch.load('model.pth'))\n",
        "\n",
        "    train_acc, train_loss = train(model, train_loader, embedding, criterion, optimizer, DEVICE)\n",
        "    test_acc = test(model, test_loader, embedding, DEVICE)\n",
        "    print(f\"Training Accuracy: {train_acc*100:.3f}%, Training Loss: {train_loss:.4f}, Test Accuracy: {test_acc*100:.3f}%\\n\")\n",
        "\n",
        "    # if epoch % 5 == 0 and test_acc > best_acc and train_loss < best_loss:\n",
        "    if train_loss < best_loss:\n",
        "        best_acc = test_acc\n",
        "        best_loss = train_loss\n",
        "        torch.save(model.state_dict(), \"model.pth\")\n",
        "        print(f\"{'-'*20}\\nModel Saved\\n{'-'*20}\")"
      ],
      "execution_count": null,
      "outputs": [
        {
          "output_type": "stream",
          "name": "stdout",
          "text": [
            "Epoch: 0\n"
          ]
        },
        {
          "output_type": "stream",
          "name": "stderr",
          "text": [
            "100%|██████████| 375/375 [00:10<00:00, 35.06it/s]\n",
            "100%|██████████| 47/47 [00:02<00:00, 22.09it/s]\n"
          ]
        },
        {
          "output_type": "stream",
          "name": "stdout",
          "text": [
            "Training Accuracy: 41.967%, Training Loss: 2.6176, Test Accuracy: 62.800%\n",
            "\n",
            "--------------------\n",
            "Model Saved\n",
            "--------------------\n",
            "Epoch: 1\n"
          ]
        },
        {
          "output_type": "stream",
          "name": "stderr",
          "text": [
            "100%|██████████| 375/375 [00:10<00:00, 36.28it/s]\n",
            "100%|██████████| 47/47 [00:02<00:00, 22.42it/s]\n"
          ]
        },
        {
          "output_type": "stream",
          "name": "stdout",
          "text": [
            "Training Accuracy: 68.875%, Training Loss: 1.0679, Test Accuracy: 75.267%\n",
            "\n",
            "--------------------\n",
            "Model Saved\n",
            "--------------------\n",
            "Epoch: 2\n"
          ]
        },
        {
          "output_type": "stream",
          "name": "stderr",
          "text": [
            "100%|██████████| 375/375 [00:10<00:00, 37.11it/s]\n",
            "100%|██████████| 47/47 [00:02<00:00, 21.65it/s]\n"
          ]
        },
        {
          "output_type": "stream",
          "name": "stdout",
          "text": [
            "Training Accuracy: 78.708%, Training Loss: 0.7047, Test Accuracy: 78.867%\n",
            "\n",
            "--------------------\n",
            "Model Saved\n",
            "--------------------\n",
            "Epoch: 3\n"
          ]
        },
        {
          "output_type": "stream",
          "name": "stderr",
          "text": [
            "100%|██████████| 375/375 [00:09<00:00, 40.68it/s]\n",
            "100%|██████████| 47/47 [00:02<00:00, 16.51it/s]\n"
          ]
        },
        {
          "output_type": "stream",
          "name": "stdout",
          "text": [
            "Training Accuracy: 83.633%, Training Loss: 0.5387, Test Accuracy: 82.467%\n",
            "\n",
            "--------------------\n",
            "Model Saved\n",
            "--------------------\n",
            "Epoch: 4\n"
          ]
        },
        {
          "output_type": "stream",
          "name": "stderr",
          "text": [
            "100%|██████████| 375/375 [00:08<00:00, 41.83it/s]\n",
            "100%|██████████| 47/47 [00:02<00:00, 18.45it/s]\n"
          ]
        },
        {
          "output_type": "stream",
          "name": "stdout",
          "text": [
            "Training Accuracy: 85.608%, Training Loss: 0.4634, Test Accuracy: 84.767%\n",
            "\n",
            "--------------------\n",
            "Model Saved\n",
            "--------------------\n",
            "Epoch: 5\n"
          ]
        },
        {
          "output_type": "stream",
          "name": "stderr",
          "text": [
            "100%|██████████| 375/375 [00:09<00:00, 39.48it/s]\n",
            "100%|██████████| 47/47 [00:02<00:00, 22.99it/s]\n"
          ]
        },
        {
          "output_type": "stream",
          "name": "stdout",
          "text": [
            "Training Accuracy: 87.450%, Training Loss: 0.4182, Test Accuracy: 85.167%\n",
            "\n",
            "--------------------\n",
            "Model Saved\n",
            "--------------------\n",
            "Epoch: 6\n"
          ]
        },
        {
          "output_type": "stream",
          "name": "stderr",
          "text": [
            "100%|██████████| 375/375 [00:10<00:00, 37.35it/s]\n",
            "100%|██████████| 47/47 [00:02<00:00, 22.82it/s]\n"
          ]
        },
        {
          "output_type": "stream",
          "name": "stdout",
          "text": [
            "Training Accuracy: 88.367%, Training Loss: 0.3920, Test Accuracy: 80.133%\n",
            "\n",
            "--------------------\n",
            "Model Saved\n",
            "--------------------\n",
            "Epoch: 7\n"
          ]
        },
        {
          "output_type": "stream",
          "name": "stderr",
          "text": [
            "100%|██████████| 375/375 [00:10<00:00, 37.36it/s]\n",
            "100%|██████████| 47/47 [00:02<00:00, 22.78it/s]\n"
          ]
        },
        {
          "output_type": "stream",
          "name": "stdout",
          "text": [
            "Training Accuracy: 90.442%, Training Loss: 0.3371, Test Accuracy: 86.833%\n",
            "\n",
            "--------------------\n",
            "Model Saved\n",
            "--------------------\n",
            "Epoch: 8\n"
          ]
        },
        {
          "output_type": "stream",
          "name": "stderr",
          "text": [
            "100%|██████████| 375/375 [00:10<00:00, 37.00it/s]\n",
            "100%|██████████| 47/47 [00:02<00:00, 23.37it/s]\n"
          ]
        },
        {
          "output_type": "stream",
          "name": "stdout",
          "text": [
            "Training Accuracy: 91.633%, Training Loss: 0.2894, Test Accuracy: 87.767%\n",
            "\n",
            "--------------------\n",
            "Model Saved\n",
            "--------------------\n",
            "Epoch: 9\n"
          ]
        },
        {
          "output_type": "stream",
          "name": "stderr",
          "text": [
            "100%|██████████| 375/375 [00:10<00:00, 37.03it/s]\n",
            "100%|██████████| 47/47 [00:02<00:00, 23.36it/s]\n"
          ]
        },
        {
          "output_type": "stream",
          "name": "stdout",
          "text": [
            "Training Accuracy: 90.933%, Training Loss: 0.3284, Test Accuracy: 89.633%\n",
            "\n",
            "Epoch: 10\n"
          ]
        },
        {
          "output_type": "stream",
          "name": "stderr",
          "text": [
            "100%|██████████| 375/375 [00:10<00:00, 37.13it/s]\n",
            "100%|██████████| 47/47 [00:02<00:00, 22.63it/s]\n"
          ]
        },
        {
          "output_type": "stream",
          "name": "stdout",
          "text": [
            "Training Accuracy: 93.017%, Training Loss: 0.2467, Test Accuracy: 87.033%\n",
            "\n",
            "--------------------\n",
            "Model Saved\n",
            "--------------------\n",
            "Epoch: 11\n"
          ]
        },
        {
          "output_type": "stream",
          "name": "stderr",
          "text": [
            "100%|██████████| 375/375 [00:09<00:00, 39.16it/s]\n",
            "100%|██████████| 47/47 [00:02<00:00, 19.40it/s]\n"
          ]
        },
        {
          "output_type": "stream",
          "name": "stdout",
          "text": [
            "Training Accuracy: 92.717%, Training Loss: 0.2547, Test Accuracy: 87.600%\n",
            "\n",
            "Epoch: 12\n"
          ]
        },
        {
          "output_type": "stream",
          "name": "stderr",
          "text": [
            "100%|██████████| 375/375 [00:08<00:00, 42.40it/s]\n",
            "100%|██████████| 47/47 [00:02<00:00, 16.58it/s]\n"
          ]
        },
        {
          "output_type": "stream",
          "name": "stdout",
          "text": [
            "Training Accuracy: 93.217%, Training Loss: 0.2499, Test Accuracy: 89.867%\n",
            "\n",
            "Epoch: 13\n"
          ]
        },
        {
          "output_type": "stream",
          "name": "stderr",
          "text": [
            "100%|██████████| 375/375 [00:09<00:00, 40.99it/s]\n",
            "100%|██████████| 47/47 [00:02<00:00, 21.25it/s]\n"
          ]
        },
        {
          "output_type": "stream",
          "name": "stdout",
          "text": [
            "Training Accuracy: 92.958%, Training Loss: 0.2533, Test Accuracy: 90.533%\n",
            "\n",
            "Epoch: 14\n"
          ]
        },
        {
          "output_type": "stream",
          "name": "stderr",
          "text": [
            "100%|██████████| 375/375 [00:09<00:00, 38.24it/s]\n",
            "100%|██████████| 47/47 [00:02<00:00, 23.46it/s]\n"
          ]
        },
        {
          "output_type": "stream",
          "name": "stdout",
          "text": [
            "Training Accuracy: 94.167%, Training Loss: 0.2033, Test Accuracy: 89.433%\n",
            "\n",
            "--------------------\n",
            "Model Saved\n",
            "--------------------\n",
            "Epoch: 15\n"
          ]
        },
        {
          "output_type": "stream",
          "name": "stderr",
          "text": [
            "100%|██████████| 375/375 [00:10<00:00, 37.05it/s]\n",
            "100%|██████████| 47/47 [00:02<00:00, 23.26it/s]\n"
          ]
        },
        {
          "output_type": "stream",
          "name": "stdout",
          "text": [
            "Training Accuracy: 94.150%, Training Loss: 0.2206, Test Accuracy: 90.433%\n",
            "\n",
            "Epoch: 16\n"
          ]
        },
        {
          "output_type": "stream",
          "name": "stderr",
          "text": [
            "100%|██████████| 375/375 [00:10<00:00, 37.44it/s]\n",
            "100%|██████████| 47/47 [00:02<00:00, 23.25it/s]\n"
          ]
        },
        {
          "output_type": "stream",
          "name": "stdout",
          "text": [
            "Training Accuracy: 94.608%, Training Loss: 0.2020, Test Accuracy: 91.900%\n",
            "\n",
            "--------------------\n",
            "Model Saved\n",
            "--------------------\n",
            "Epoch: 17\n"
          ]
        },
        {
          "output_type": "stream",
          "name": "stderr",
          "text": [
            "100%|██████████| 375/375 [00:10<00:00, 37.03it/s]\n",
            "100%|██████████| 47/47 [00:02<00:00, 22.86it/s]\n"
          ]
        },
        {
          "output_type": "stream",
          "name": "stdout",
          "text": [
            "Training Accuracy: 95.033%, Training Loss: 0.1831, Test Accuracy: 88.433%\n",
            "\n",
            "--------------------\n",
            "Model Saved\n",
            "--------------------\n",
            "Epoch: 18\n"
          ]
        },
        {
          "output_type": "stream",
          "name": "stderr",
          "text": [
            "100%|██████████| 375/375 [00:10<00:00, 36.89it/s]\n",
            "100%|██████████| 47/47 [00:01<00:00, 23.72it/s]\n"
          ]
        },
        {
          "output_type": "stream",
          "name": "stdout",
          "text": [
            "Training Accuracy: 94.667%, Training Loss: 0.2154, Test Accuracy: 89.967%\n",
            "\n",
            "Epoch: 19\n"
          ]
        },
        {
          "output_type": "stream",
          "name": "stderr",
          "text": [
            "100%|██████████| 375/375 [00:09<00:00, 38.66it/s]\n",
            "100%|██████████| 47/47 [00:02<00:00, 20.60it/s]\n"
          ]
        },
        {
          "output_type": "stream",
          "name": "stdout",
          "text": [
            "Training Accuracy: 95.742%, Training Loss: 0.1598, Test Accuracy: 91.900%\n",
            "\n",
            "--------------------\n",
            "Model Saved\n",
            "--------------------\n",
            "Epoch: 20\n"
          ]
        },
        {
          "output_type": "stream",
          "name": "stderr",
          "text": [
            "100%|██████████| 375/375 [00:09<00:00, 41.29it/s]\n",
            "100%|██████████| 47/47 [00:02<00:00, 16.13it/s]\n"
          ]
        },
        {
          "output_type": "stream",
          "name": "stdout",
          "text": [
            "Training Accuracy: 95.417%, Training Loss: 0.1776, Test Accuracy: 91.033%\n",
            "\n",
            "Epoch: 21\n"
          ]
        },
        {
          "output_type": "stream",
          "name": "stderr",
          "text": [
            "100%|██████████| 375/375 [00:08<00:00, 41.86it/s]\n",
            "100%|██████████| 47/47 [00:02<00:00, 19.61it/s]\n"
          ]
        },
        {
          "output_type": "stream",
          "name": "stdout",
          "text": [
            "Training Accuracy: 95.008%, Training Loss: 0.1975, Test Accuracy: 91.633%\n",
            "\n",
            "Epoch: 22\n"
          ]
        },
        {
          "output_type": "stream",
          "name": "stderr",
          "text": [
            "100%|██████████| 375/375 [00:09<00:00, 38.72it/s]\n",
            "100%|██████████| 47/47 [00:02<00:00, 23.43it/s]\n"
          ]
        },
        {
          "output_type": "stream",
          "name": "stdout",
          "text": [
            "Training Accuracy: 96.258%, Training Loss: 0.1409, Test Accuracy: 93.267%\n",
            "\n",
            "--------------------\n",
            "Model Saved\n",
            "--------------------\n",
            "Epoch: 23\n"
          ]
        },
        {
          "output_type": "stream",
          "name": "stderr",
          "text": [
            "100%|██████████| 375/375 [00:10<00:00, 37.47it/s]\n",
            "100%|██████████| 47/47 [00:01<00:00, 23.51it/s]\n"
          ]
        },
        {
          "output_type": "stream",
          "name": "stdout",
          "text": [
            "Training Accuracy: 95.975%, Training Loss: 0.1528, Test Accuracy: 89.100%\n",
            "\n",
            "Epoch: 24\n"
          ]
        },
        {
          "output_type": "stream",
          "name": "stderr",
          "text": [
            "100%|██████████| 375/375 [00:10<00:00, 37.19it/s]\n",
            "100%|██████████| 47/47 [00:02<00:00, 22.73it/s]\n"
          ]
        },
        {
          "output_type": "stream",
          "name": "stdout",
          "text": [
            "Training Accuracy: 95.992%, Training Loss: 0.1749, Test Accuracy: 90.833%\n",
            "\n",
            "Epoch: 25\n"
          ]
        },
        {
          "output_type": "stream",
          "name": "stderr",
          "text": [
            "100%|██████████| 375/375 [00:10<00:00, 37.21it/s]\n",
            "100%|██████████| 47/47 [00:02<00:00, 23.09it/s]\n"
          ]
        },
        {
          "output_type": "stream",
          "name": "stdout",
          "text": [
            "Training Accuracy: 96.333%, Training Loss: 0.1445, Test Accuracy: 91.333%\n",
            "\n",
            "Epoch: 26\n"
          ]
        },
        {
          "output_type": "stream",
          "name": "stderr",
          "text": [
            "100%|██████████| 375/375 [00:10<00:00, 37.32it/s]\n",
            "100%|██████████| 47/47 [00:02<00:00, 23.43it/s]\n"
          ]
        },
        {
          "output_type": "stream",
          "name": "stdout",
          "text": [
            "Training Accuracy: 96.592%, Training Loss: 0.1350, Test Accuracy: 91.867%\n",
            "\n",
            "--------------------\n",
            "Model Saved\n",
            "--------------------\n",
            "Epoch: 27\n"
          ]
        },
        {
          "output_type": "stream",
          "name": "stderr",
          "text": [
            "100%|██████████| 375/375 [00:09<00:00, 38.01it/s]\n",
            "100%|██████████| 47/47 [00:02<00:00, 21.36it/s]\n"
          ]
        },
        {
          "output_type": "stream",
          "name": "stdout",
          "text": [
            "Training Accuracy: 96.225%, Training Loss: 0.1593, Test Accuracy: 90.967%\n",
            "\n",
            "Epoch: 28\n"
          ]
        },
        {
          "output_type": "stream",
          "name": "stderr",
          "text": [
            "100%|██████████| 375/375 [00:09<00:00, 40.19it/s]\n",
            "100%|██████████| 47/47 [00:02<00:00, 16.98it/s]\n"
          ]
        },
        {
          "output_type": "stream",
          "name": "stdout",
          "text": [
            "Training Accuracy: 96.842%, Training Loss: 0.1288, Test Accuracy: 91.667%\n",
            "\n",
            "--------------------\n",
            "Model Saved\n",
            "--------------------\n",
            "Epoch: 29\n"
          ]
        },
        {
          "output_type": "stream",
          "name": "stderr",
          "text": [
            "100%|██████████| 375/375 [00:08<00:00, 42.38it/s]\n",
            "100%|██████████| 47/47 [00:02<00:00, 18.29it/s]\n"
          ]
        },
        {
          "output_type": "stream",
          "name": "stdout",
          "text": [
            "Training Accuracy: 96.683%, Training Loss: 0.1372, Test Accuracy: 92.000%\n",
            "\n",
            "Epoch: 30\n"
          ]
        },
        {
          "output_type": "stream",
          "name": "stderr",
          "text": [
            "100%|██████████| 375/375 [00:09<00:00, 39.50it/s]\n",
            "100%|██████████| 47/47 [00:02<00:00, 22.84it/s]\n"
          ]
        },
        {
          "output_type": "stream",
          "name": "stdout",
          "text": [
            "Training Accuracy: 97.450%, Training Loss: 0.1056, Test Accuracy: 92.633%\n",
            "\n",
            "--------------------\n",
            "Model Saved\n",
            "--------------------\n",
            "Epoch: 31\n"
          ]
        },
        {
          "output_type": "stream",
          "name": "stderr",
          "text": [
            "100%|██████████| 375/375 [00:10<00:00, 36.73it/s]\n",
            "100%|██████████| 47/47 [00:02<00:00, 23.26it/s]\n"
          ]
        },
        {
          "output_type": "stream",
          "name": "stdout",
          "text": [
            "Training Accuracy: 97.275%, Training Loss: 0.0995, Test Accuracy: 92.367%\n",
            "\n",
            "--------------------\n",
            "Model Saved\n",
            "--------------------\n",
            "Epoch: 32\n"
          ]
        },
        {
          "output_type": "stream",
          "name": "stderr",
          "text": [
            "100%|██████████| 375/375 [00:09<00:00, 37.53it/s]\n",
            "100%|██████████| 47/47 [00:01<00:00, 23.88it/s]\n"
          ]
        },
        {
          "output_type": "stream",
          "name": "stdout",
          "text": [
            "Training Accuracy: 97.158%, Training Loss: 0.1233, Test Accuracy: 92.033%\n",
            "\n",
            "Epoch: 33\n"
          ]
        },
        {
          "output_type": "stream",
          "name": "stderr",
          "text": [
            "100%|██████████| 375/375 [00:10<00:00, 36.99it/s]\n",
            "100%|██████████| 47/47 [00:02<00:00, 23.05it/s]\n"
          ]
        },
        {
          "output_type": "stream",
          "name": "stdout",
          "text": [
            "Training Accuracy: 96.625%, Training Loss: 0.1507, Test Accuracy: 93.033%\n",
            "\n",
            "Epoch: 34\n"
          ]
        },
        {
          "output_type": "stream",
          "name": "stderr",
          "text": [
            "100%|██████████| 375/375 [00:10<00:00, 37.06it/s]\n",
            "100%|██████████| 47/47 [00:02<00:00, 22.99it/s]\n"
          ]
        },
        {
          "output_type": "stream",
          "name": "stdout",
          "text": [
            "Training Accuracy: 97.750%, Training Loss: 0.0949, Test Accuracy: 92.400%\n",
            "\n",
            "--------------------\n",
            "Model Saved\n",
            "--------------------\n",
            "Epoch: 35\n"
          ]
        },
        {
          "output_type": "stream",
          "name": "stderr",
          "text": [
            "100%|██████████| 375/375 [00:10<00:00, 37.03it/s]\n",
            "100%|██████████| 47/47 [00:02<00:00, 22.93it/s]\n"
          ]
        },
        {
          "output_type": "stream",
          "name": "stdout",
          "text": [
            "Training Accuracy: 97.158%, Training Loss: 0.1225, Test Accuracy: 92.800%\n",
            "\n",
            "Epoch: 36\n"
          ]
        },
        {
          "output_type": "stream",
          "name": "stderr",
          "text": [
            "100%|██████████| 375/375 [00:09<00:00, 38.80it/s]\n",
            "100%|██████████| 47/47 [00:02<00:00, 19.91it/s]\n"
          ]
        },
        {
          "output_type": "stream",
          "name": "stdout",
          "text": [
            "Training Accuracy: 97.600%, Training Loss: 0.1127, Test Accuracy: 92.167%\n",
            "\n",
            "Epoch: 37\n"
          ]
        },
        {
          "output_type": "stream",
          "name": "stderr",
          "text": [
            "100%|██████████| 375/375 [00:08<00:00, 42.52it/s]\n",
            "100%|██████████| 47/47 [00:02<00:00, 16.85it/s]\n"
          ]
        },
        {
          "output_type": "stream",
          "name": "stdout",
          "text": [
            "Training Accuracy: 97.592%, Training Loss: 0.1030, Test Accuracy: 92.667%\n",
            "\n",
            "Epoch: 38\n"
          ]
        },
        {
          "output_type": "stream",
          "name": "stderr",
          "text": [
            "100%|██████████| 375/375 [00:09<00:00, 40.87it/s]\n",
            "100%|██████████| 47/47 [00:02<00:00, 21.32it/s]\n"
          ]
        },
        {
          "output_type": "stream",
          "name": "stdout",
          "text": [
            "Training Accuracy: 97.250%, Training Loss: 0.1278, Test Accuracy: 92.900%\n",
            "\n",
            "Epoch: 39\n"
          ]
        },
        {
          "output_type": "stream",
          "name": "stderr",
          "text": [
            "100%|██████████| 375/375 [00:09<00:00, 38.22it/s]\n",
            "100%|██████████| 47/47 [00:02<00:00, 23.26it/s]\n"
          ]
        },
        {
          "output_type": "stream",
          "name": "stdout",
          "text": [
            "Training Accuracy: 97.942%, Training Loss: 0.0834, Test Accuracy: 92.767%\n",
            "\n",
            "--------------------\n",
            "Model Saved\n",
            "--------------------\n",
            "Epoch: 40\n"
          ]
        },
        {
          "output_type": "stream",
          "name": "stderr",
          "text": [
            "100%|██████████| 375/375 [00:10<00:00, 37.00it/s]\n",
            "100%|██████████| 47/47 [00:02<00:00, 23.36it/s]\n"
          ]
        },
        {
          "output_type": "stream",
          "name": "stdout",
          "text": [
            "Training Accuracy: 97.542%, Training Loss: 0.1104, Test Accuracy: 92.467%\n",
            "\n",
            "Epoch: 41\n"
          ]
        },
        {
          "output_type": "stream",
          "name": "stderr",
          "text": [
            "100%|██████████| 375/375 [00:10<00:00, 36.77it/s]\n",
            "100%|██████████| 47/47 [00:02<00:00, 23.30it/s]\n"
          ]
        },
        {
          "output_type": "stream",
          "name": "stdout",
          "text": [
            "Training Accuracy: 97.633%, Training Loss: 0.1015, Test Accuracy: 93.100%\n",
            "\n",
            "Epoch: 42\n"
          ]
        },
        {
          "output_type": "stream",
          "name": "stderr",
          "text": [
            "100%|██████████| 375/375 [00:10<00:00, 36.87it/s]\n",
            "100%|██████████| 47/47 [00:02<00:00, 23.38it/s]\n"
          ]
        },
        {
          "output_type": "stream",
          "name": "stdout",
          "text": [
            "Training Accuracy: 97.667%, Training Loss: 0.1029, Test Accuracy: 91.067%\n",
            "\n",
            "Epoch: 43\n"
          ]
        },
        {
          "output_type": "stream",
          "name": "stderr",
          "text": [
            "100%|██████████| 375/375 [00:10<00:00, 36.91it/s]\n",
            "100%|██████████| 47/47 [00:02<00:00, 23.23it/s]\n"
          ]
        },
        {
          "output_type": "stream",
          "name": "stdout",
          "text": [
            "Training Accuracy: 97.583%, Training Loss: 0.1129, Test Accuracy: 92.167%\n",
            "\n",
            "Epoch: 44\n"
          ]
        },
        {
          "output_type": "stream",
          "name": "stderr",
          "text": [
            "100%|██████████| 375/375 [00:09<00:00, 37.64it/s]\n",
            "100%|██████████| 47/47 [00:02<00:00, 21.10it/s]\n"
          ]
        },
        {
          "output_type": "stream",
          "name": "stdout",
          "text": [
            "Training Accuracy: 98.067%, Training Loss: 0.0839, Test Accuracy: 92.867%\n",
            "\n",
            "Epoch: 45\n"
          ]
        },
        {
          "output_type": "stream",
          "name": "stderr",
          "text": [
            "100%|██████████| 375/375 [00:09<00:00, 40.40it/s]\n",
            "100%|██████████| 47/47 [00:02<00:00, 16.93it/s]\n"
          ]
        },
        {
          "output_type": "stream",
          "name": "stdout",
          "text": [
            "Training Accuracy: 98.067%, Training Loss: 0.0995, Test Accuracy: 92.800%\n",
            "\n",
            "Epoch: 46\n"
          ]
        },
        {
          "output_type": "stream",
          "name": "stderr",
          "text": [
            "100%|██████████| 375/375 [00:08<00:00, 41.88it/s]\n",
            "100%|██████████| 47/47 [00:02<00:00, 19.11it/s]\n"
          ]
        },
        {
          "output_type": "stream",
          "name": "stdout",
          "text": [
            "Training Accuracy: 98.000%, Training Loss: 0.0856, Test Accuracy: 92.767%\n",
            "\n",
            "Epoch: 47\n"
          ]
        },
        {
          "output_type": "stream",
          "name": "stderr",
          "text": [
            "100%|██████████| 375/375 [00:09<00:00, 38.76it/s]\n",
            "100%|██████████| 47/47 [00:02<00:00, 22.87it/s]\n"
          ]
        },
        {
          "output_type": "stream",
          "name": "stdout",
          "text": [
            "Training Accuracy: 98.058%, Training Loss: 0.0974, Test Accuracy: 92.133%\n",
            "\n",
            "Epoch: 48\n"
          ]
        },
        {
          "output_type": "stream",
          "name": "stderr",
          "text": [
            "100%|██████████| 375/375 [00:10<00:00, 36.73it/s]\n",
            "100%|██████████| 47/47 [00:02<00:00, 23.18it/s]\n"
          ]
        },
        {
          "output_type": "stream",
          "name": "stdout",
          "text": [
            "Training Accuracy: 98.192%, Training Loss: 0.0792, Test Accuracy: 92.700%\n",
            "\n",
            "--------------------\n",
            "Model Saved\n",
            "--------------------\n",
            "Epoch: 49\n"
          ]
        },
        {
          "output_type": "stream",
          "name": "stderr",
          "text": [
            "100%|██████████| 375/375 [00:10<00:00, 37.34it/s]\n",
            "100%|██████████| 47/47 [00:02<00:00, 23.37it/s]\n"
          ]
        },
        {
          "output_type": "stream",
          "name": "stdout",
          "text": [
            "Training Accuracy: 97.658%, Training Loss: 0.1323, Test Accuracy: 92.633%\n",
            "\n",
            "Epoch: 50\n"
          ]
        },
        {
          "output_type": "stream",
          "name": "stderr",
          "text": [
            "100%|██████████| 375/375 [00:10<00:00, 36.46it/s]\n",
            "100%|██████████| 47/47 [00:02<00:00, 23.17it/s]"
          ]
        },
        {
          "output_type": "stream",
          "name": "stdout",
          "text": [
            "Training Accuracy: 98.000%, Training Loss: 0.0900, Test Accuracy: 93.133%\n",
            "\n"
          ]
        },
        {
          "output_type": "stream",
          "name": "stderr",
          "text": [
            "\n"
          ]
        }
      ]
    },
    {
      "cell_type": "code",
      "source": [
        "if os.path.exists('model.pth'):\n",
        "    model.load_state_dict(torch.load('model.pth'))\n",
        "\n",
        "test_acc = test(model, test_loader, embedding, DEVICE)\n",
        "print(f\"Test Accuracy: {test_acc*100:.3f}%\\n\")"
      ],
      "metadata": {
        "id": "aDFlhwV-pmaF",
        "colab": {
          "base_uri": "https://localhost:8080/"
        },
        "outputId": "c5458ef5-faf2-4b99-ee10-5e3d5a5e0c1c"
      },
      "execution_count": null,
      "outputs": [
        {
          "output_type": "stream",
          "name": "stderr",
          "text": [
            "100%|██████████| 47/47 [00:02<00:00, 22.67it/s]"
          ]
        },
        {
          "output_type": "stream",
          "name": "stdout",
          "text": [
            "Test Accuracy: 92.700%\n",
            "\n"
          ]
        },
        {
          "output_type": "stream",
          "name": "stderr",
          "text": [
            "\n"
          ]
        }
      ]
    },
    {
      "cell_type": "code",
      "source": [],
      "metadata": {
        "id": "OreCz4mNpmaF"
      },
      "execution_count": null,
      "outputs": []
    },
    {
      "cell_type": "code",
      "source": [],
      "metadata": {
        "id": "VKK1XWV0pmaG"
      },
      "execution_count": null,
      "outputs": []
    },
    {
      "cell_type": "code",
      "source": [],
      "metadata": {
        "id": "es88PdOOpmaG"
      },
      "execution_count": null,
      "outputs": []
    },
    {
      "cell_type": "code",
      "source": [],
      "metadata": {
        "id": "V8EIzCalpmaG"
      },
      "execution_count": null,
      "outputs": []
    },
    {
      "cell_type": "code",
      "source": [],
      "metadata": {
        "id": "erlEVSzZpmaG"
      },
      "execution_count": null,
      "outputs": []
    },
    {
      "cell_type": "code",
      "source": [],
      "metadata": {
        "id": "E6BULrMtpmaG"
      },
      "execution_count": null,
      "outputs": []
    },
    {
      "cell_type": "code",
      "source": [],
      "metadata": {
        "id": "JZybzoSSpmaG"
      },
      "execution_count": null,
      "outputs": []
    },
    {
      "cell_type": "code",
      "source": [],
      "metadata": {
        "id": "fxokaW_MpmaG"
      },
      "execution_count": null,
      "outputs": []
    },
    {
      "cell_type": "code",
      "source": [],
      "metadata": {
        "id": "WlWI2qhOpmaG"
      },
      "execution_count": null,
      "outputs": []
    },
    {
      "cell_type": "markdown",
      "source": [
        "# embd_random50_avg_df"
      ],
      "metadata": {
        "id": "FaxYxJp3pmaG"
      }
    },
    {
      "cell_type": "code",
      "source": [
        "model = CustomCNN(n_features=64).to(DEVICE)\n",
        "sum(p.numel() for p in model.parameters() if p.requires_grad)"
      ],
      "metadata": {
        "id": "1Hw57-w1pmaG",
        "colab": {
          "base_uri": "https://localhost:8080/"
        },
        "outputId": "a50ad387-eab6-4179-d2a5-c5a39a6360c8"
      },
      "execution_count": null,
      "outputs": [
        {
          "output_type": "execute_result",
          "data": {
            "text/plain": [
              "274832"
            ]
          },
          "metadata": {},
          "execution_count": 94
        }
      ]
    },
    {
      "cell_type": "code",
      "source": [
        "optimizer = torch.optim.Adam(model.parameters())\n",
        "criterion = torch.nn.CrossEntropyLoss()"
      ],
      "metadata": {
        "id": "1uZT7b2auBWg"
      },
      "execution_count": null,
      "outputs": []
    },
    {
      "cell_type": "code",
      "source": [
        "embedding = pd.read_csv('/content/drive/MyDrive/ZSClassification/ZeroShotHandwrittenCharacterRecognition/Bangla/Embd_VAEResnet/embd_random50_avg_df.csv')\n",
        "\n",
        "embedding = embedding.iloc[:, :].values\n",
        "# embedding = embedding.iloc[:, :].values.T\n",
        "embedding = torch.from_numpy(embedding)\n",
        "embedding = embedding.to(DEVICE)\n",
        "embedding.shape, embedding"
      ],
      "metadata": {
        "id": "AXri-N2KpmaG",
        "colab": {
          "base_uri": "https://localhost:8080/"
        },
        "outputId": "6fee54d7-e074-4dde-db6b-76784f30db2b"
      },
      "execution_count": null,
      "outputs": [
        {
          "output_type": "execute_result",
          "data": {
            "text/plain": [
              "(torch.Size([64, 50]),\n",
              " tensor([[ 2.0436,  0.6393,  1.6011,  ...,  1.1168,  0.4829,  0.2695],\n",
              "         [-3.4122, -2.3966,  0.7150,  ..., -0.0491,  1.3019,  1.1560],\n",
              "         [-0.4939,  0.1840, -0.5177,  ..., -0.9200, -0.3578, -0.4874],\n",
              "         ...,\n",
              "         [ 0.2770,  0.5323,  1.4406,  ..., -0.5053,  1.5876,  1.0656],\n",
              "         [-0.6789, -1.0644,  0.5808,  ...,  0.0650,  2.6844,  1.1651],\n",
              "         [-0.1261, -0.1477,  0.5954,  ...,  0.3835, -0.3727, -0.1208]],\n",
              "        device='cuda:0', dtype=torch.float64))"
            ]
          },
          "metadata": {},
          "execution_count": 96
        }
      ]
    },
    {
      "cell_type": "code",
      "metadata": {
        "id": "R0zRCckXpmaH",
        "colab": {
          "base_uri": "https://localhost:8080/"
        },
        "outputId": "284fd08f-ee39-4907-f870-21c7b9dac92c"
      },
      "source": [
        "best_loss, best_acc = 1e10, 0\n",
        "\n",
        "for epoch in range(50+1):\n",
        "    print(f\"Epoch: {epoch}\")\n",
        "\n",
        "    # if os.path.exists('model.pth'):\n",
        "    #     model.load_state_dict(torch.load('model.pth'))\n",
        "\n",
        "    train_acc, train_loss = train(model, train_loader, embedding, criterion, optimizer, DEVICE)\n",
        "    test_acc = test(model, test_loader, embedding, DEVICE)\n",
        "    print(f\"Training Accuracy: {train_acc*100:.3f}%, Training Loss: {train_loss:.4f}, Test Accuracy: {test_acc*100:.3f}%\\n\")\n",
        "\n",
        "    # if epoch % 5 == 0 and test_acc > best_acc and train_loss < best_loss:\n",
        "    if train_loss < best_loss:\n",
        "        best_acc = test_acc\n",
        "        best_loss = train_loss\n",
        "        torch.save(model.state_dict(), \"model.pth\")\n",
        "        print(f\"{'-'*20}\\nModel Saved\\n{'-'*20}\")"
      ],
      "execution_count": null,
      "outputs": [
        {
          "output_type": "stream",
          "name": "stdout",
          "text": [
            "Epoch: 0\n"
          ]
        },
        {
          "output_type": "stream",
          "name": "stderr",
          "text": [
            "100%|██████████| 375/375 [00:10<00:00, 36.83it/s]\n",
            "100%|██████████| 47/47 [00:02<00:00, 23.25it/s]\n"
          ]
        },
        {
          "output_type": "stream",
          "name": "stdout",
          "text": [
            "Training Accuracy: 58.483%, Training Loss: 1.4051, Test Accuracy: 79.900%\n",
            "\n",
            "--------------------\n",
            "Model Saved\n",
            "--------------------\n",
            "Epoch: 1\n"
          ]
        },
        {
          "output_type": "stream",
          "name": "stderr",
          "text": [
            "100%|██████████| 375/375 [00:10<00:00, 37.29it/s]\n",
            "100%|██████████| 47/47 [00:01<00:00, 23.63it/s]\n"
          ]
        },
        {
          "output_type": "stream",
          "name": "stdout",
          "text": [
            "Training Accuracy: 81.725%, Training Loss: 0.5848, Test Accuracy: 82.133%\n",
            "\n",
            "--------------------\n",
            "Model Saved\n",
            "--------------------\n",
            "Epoch: 2\n"
          ]
        },
        {
          "output_type": "stream",
          "name": "stderr",
          "text": [
            "100%|██████████| 375/375 [00:10<00:00, 37.07it/s]\n",
            "100%|██████████| 47/47 [00:02<00:00, 22.66it/s]\n"
          ]
        },
        {
          "output_type": "stream",
          "name": "stdout",
          "text": [
            "Training Accuracy: 88.225%, Training Loss: 0.3704, Test Accuracy: 83.933%\n",
            "\n",
            "--------------------\n",
            "Model Saved\n",
            "--------------------\n",
            "Epoch: 3\n"
          ]
        },
        {
          "output_type": "stream",
          "name": "stderr",
          "text": [
            "100%|██████████| 375/375 [00:10<00:00, 37.31it/s]\n",
            "100%|██████████| 47/47 [00:02<00:00, 22.79it/s]\n"
          ]
        },
        {
          "output_type": "stream",
          "name": "stdout",
          "text": [
            "Training Accuracy: 90.958%, Training Loss: 0.2957, Test Accuracy: 88.867%\n",
            "\n",
            "--------------------\n",
            "Model Saved\n",
            "--------------------\n",
            "Epoch: 4\n"
          ]
        },
        {
          "output_type": "stream",
          "name": "stderr",
          "text": [
            "100%|██████████| 375/375 [00:09<00:00, 38.96it/s]\n",
            "100%|██████████| 47/47 [00:02<00:00, 19.05it/s]\n"
          ]
        },
        {
          "output_type": "stream",
          "name": "stdout",
          "text": [
            "Training Accuracy: 91.625%, Training Loss: 0.2641, Test Accuracy: 90.267%\n",
            "\n",
            "--------------------\n",
            "Model Saved\n",
            "--------------------\n",
            "Epoch: 5\n"
          ]
        },
        {
          "output_type": "stream",
          "name": "stderr",
          "text": [
            "100%|██████████| 375/375 [00:08<00:00, 42.15it/s]\n",
            "100%|██████████| 47/47 [00:02<00:00, 16.77it/s]\n"
          ]
        },
        {
          "output_type": "stream",
          "name": "stdout",
          "text": [
            "Training Accuracy: 94.142%, Training Loss: 0.1935, Test Accuracy: 90.900%\n",
            "\n",
            "--------------------\n",
            "Model Saved\n",
            "--------------------\n",
            "Epoch: 6\n"
          ]
        },
        {
          "output_type": "stream",
          "name": "stderr",
          "text": [
            "100%|██████████| 375/375 [00:09<00:00, 41.06it/s]\n",
            "100%|██████████| 47/47 [00:02<00:00, 21.59it/s]\n"
          ]
        },
        {
          "output_type": "stream",
          "name": "stdout",
          "text": [
            "Training Accuracy: 94.225%, Training Loss: 0.1802, Test Accuracy: 89.300%\n",
            "\n",
            "--------------------\n",
            "Model Saved\n",
            "--------------------\n",
            "Epoch: 7\n"
          ]
        },
        {
          "output_type": "stream",
          "name": "stderr",
          "text": [
            "100%|██████████| 375/375 [00:09<00:00, 37.82it/s]\n",
            "100%|██████████| 47/47 [00:02<00:00, 23.43it/s]\n"
          ]
        },
        {
          "output_type": "stream",
          "name": "stdout",
          "text": [
            "Training Accuracy: 95.075%, Training Loss: 0.1586, Test Accuracy: 90.467%\n",
            "\n",
            "--------------------\n",
            "Model Saved\n",
            "--------------------\n",
            "Epoch: 8\n"
          ]
        },
        {
          "output_type": "stream",
          "name": "stderr",
          "text": [
            "100%|██████████| 375/375 [00:10<00:00, 37.48it/s]\n",
            "100%|██████████| 47/47 [00:01<00:00, 23.58it/s]\n"
          ]
        },
        {
          "output_type": "stream",
          "name": "stdout",
          "text": [
            "Training Accuracy: 95.350%, Training Loss: 0.1487, Test Accuracy: 89.733%\n",
            "\n",
            "--------------------\n",
            "Model Saved\n",
            "--------------------\n",
            "Epoch: 9\n"
          ]
        },
        {
          "output_type": "stream",
          "name": "stderr",
          "text": [
            "100%|██████████| 375/375 [00:10<00:00, 37.21it/s]\n",
            "100%|██████████| 47/47 [00:02<00:00, 22.76it/s]\n"
          ]
        },
        {
          "output_type": "stream",
          "name": "stdout",
          "text": [
            "Training Accuracy: 95.733%, Training Loss: 0.1389, Test Accuracy: 92.133%\n",
            "\n",
            "--------------------\n",
            "Model Saved\n",
            "--------------------\n",
            "Epoch: 10\n"
          ]
        },
        {
          "output_type": "stream",
          "name": "stderr",
          "text": [
            "100%|██████████| 375/375 [00:10<00:00, 37.38it/s]\n",
            "100%|██████████| 47/47 [00:02<00:00, 23.14it/s]\n"
          ]
        },
        {
          "output_type": "stream",
          "name": "stdout",
          "text": [
            "Training Accuracy: 95.775%, Training Loss: 0.1381, Test Accuracy: 91.900%\n",
            "\n",
            "--------------------\n",
            "Model Saved\n",
            "--------------------\n",
            "Epoch: 11\n"
          ]
        },
        {
          "output_type": "stream",
          "name": "stderr",
          "text": [
            "100%|██████████| 375/375 [00:10<00:00, 37.38it/s]\n",
            "100%|██████████| 47/47 [00:01<00:00, 23.54it/s]\n"
          ]
        },
        {
          "output_type": "stream",
          "name": "stdout",
          "text": [
            "Training Accuracy: 96.692%, Training Loss: 0.1022, Test Accuracy: 92.200%\n",
            "\n",
            "--------------------\n",
            "Model Saved\n",
            "--------------------\n",
            "Epoch: 12\n"
          ]
        },
        {
          "output_type": "stream",
          "name": "stderr",
          "text": [
            "100%|██████████| 375/375 [00:09<00:00, 38.71it/s]\n",
            "100%|██████████| 47/47 [00:02<00:00, 19.61it/s]\n"
          ]
        },
        {
          "output_type": "stream",
          "name": "stdout",
          "text": [
            "Training Accuracy: 96.700%, Training Loss: 0.1125, Test Accuracy: 91.000%\n",
            "\n",
            "Epoch: 13\n"
          ]
        },
        {
          "output_type": "stream",
          "name": "stderr",
          "text": [
            "100%|██████████| 375/375 [00:08<00:00, 42.39it/s]\n",
            "100%|██████████| 47/47 [00:02<00:00, 16.81it/s]\n"
          ]
        },
        {
          "output_type": "stream",
          "name": "stdout",
          "text": [
            "Training Accuracy: 96.458%, Training Loss: 0.1178, Test Accuracy: 92.233%\n",
            "\n",
            "Epoch: 14\n"
          ]
        },
        {
          "output_type": "stream",
          "name": "stderr",
          "text": [
            "100%|██████████| 375/375 [00:09<00:00, 40.54it/s]\n",
            "100%|██████████| 47/47 [00:02<00:00, 21.37it/s]\n"
          ]
        },
        {
          "output_type": "stream",
          "name": "stdout",
          "text": [
            "Training Accuracy: 97.375%, Training Loss: 0.0873, Test Accuracy: 92.533%\n",
            "\n",
            "--------------------\n",
            "Model Saved\n",
            "--------------------\n",
            "Epoch: 15\n"
          ]
        },
        {
          "output_type": "stream",
          "name": "stderr",
          "text": [
            "100%|██████████| 375/375 [00:09<00:00, 37.54it/s]\n",
            "100%|██████████| 47/47 [00:02<00:00, 22.96it/s]\n"
          ]
        },
        {
          "output_type": "stream",
          "name": "stdout",
          "text": [
            "Training Accuracy: 97.142%, Training Loss: 0.0968, Test Accuracy: 92.433%\n",
            "\n",
            "Epoch: 16\n"
          ]
        },
        {
          "output_type": "stream",
          "name": "stderr",
          "text": [
            "100%|██████████| 375/375 [00:10<00:00, 37.32it/s]\n",
            "100%|██████████| 47/47 [00:02<00:00, 22.77it/s]\n"
          ]
        },
        {
          "output_type": "stream",
          "name": "stdout",
          "text": [
            "Training Accuracy: 96.725%, Training Loss: 0.1110, Test Accuracy: 92.433%\n",
            "\n",
            "Epoch: 17\n"
          ]
        },
        {
          "output_type": "stream",
          "name": "stderr",
          "text": [
            "100%|██████████| 375/375 [00:10<00:00, 37.42it/s]\n",
            "100%|██████████| 47/47 [00:02<00:00, 22.91it/s]\n"
          ]
        },
        {
          "output_type": "stream",
          "name": "stdout",
          "text": [
            "Training Accuracy: 97.233%, Training Loss: 0.0900, Test Accuracy: 90.633%\n",
            "\n",
            "Epoch: 18\n"
          ]
        },
        {
          "output_type": "stream",
          "name": "stderr",
          "text": [
            "100%|██████████| 375/375 [00:10<00:00, 37.41it/s]\n",
            "100%|██████████| 47/47 [00:02<00:00, 23.37it/s]\n"
          ]
        },
        {
          "output_type": "stream",
          "name": "stdout",
          "text": [
            "Training Accuracy: 96.908%, Training Loss: 0.1032, Test Accuracy: 92.833%\n",
            "\n",
            "Epoch: 19\n"
          ]
        },
        {
          "output_type": "stream",
          "name": "stderr",
          "text": [
            "100%|██████████| 375/375 [00:10<00:00, 37.29it/s]\n",
            "100%|██████████| 47/47 [00:02<00:00, 23.06it/s]\n"
          ]
        },
        {
          "output_type": "stream",
          "name": "stdout",
          "text": [
            "Training Accuracy: 97.958%, Training Loss: 0.0724, Test Accuracy: 92.600%\n",
            "\n",
            "--------------------\n",
            "Model Saved\n",
            "--------------------\n",
            "Epoch: 20\n"
          ]
        },
        {
          "output_type": "stream",
          "name": "stderr",
          "text": [
            "100%|██████████| 375/375 [00:09<00:00, 38.39it/s]\n",
            "100%|██████████| 47/47 [00:02<00:00, 19.77it/s]\n"
          ]
        },
        {
          "output_type": "stream",
          "name": "stdout",
          "text": [
            "Training Accuracy: 97.592%, Training Loss: 0.0788, Test Accuracy: 92.300%\n",
            "\n",
            "Epoch: 21\n"
          ]
        },
        {
          "output_type": "stream",
          "name": "stderr",
          "text": [
            "100%|██████████| 375/375 [00:09<00:00, 40.79it/s]\n",
            "100%|██████████| 47/47 [00:02<00:00, 15.94it/s]\n"
          ]
        },
        {
          "output_type": "stream",
          "name": "stdout",
          "text": [
            "Training Accuracy: 98.067%, Training Loss: 0.0673, Test Accuracy: 92.333%\n",
            "\n",
            "--------------------\n",
            "Model Saved\n",
            "--------------------\n",
            "Epoch: 22\n"
          ]
        },
        {
          "output_type": "stream",
          "name": "stderr",
          "text": [
            "100%|██████████| 375/375 [00:09<00:00, 41.44it/s]\n",
            "100%|██████████| 47/47 [00:02<00:00, 18.88it/s]\n"
          ]
        },
        {
          "output_type": "stream",
          "name": "stdout",
          "text": [
            "Training Accuracy: 97.892%, Training Loss: 0.0742, Test Accuracy: 91.900%\n",
            "\n",
            "Epoch: 23\n"
          ]
        },
        {
          "output_type": "stream",
          "name": "stderr",
          "text": [
            "100%|██████████| 375/375 [00:09<00:00, 38.71it/s]\n",
            "100%|██████████| 47/47 [00:02<00:00, 23.15it/s]\n"
          ]
        },
        {
          "output_type": "stream",
          "name": "stdout",
          "text": [
            "Training Accuracy: 98.225%, Training Loss: 0.0592, Test Accuracy: 92.667%\n",
            "\n",
            "--------------------\n",
            "Model Saved\n",
            "--------------------\n",
            "Epoch: 24\n"
          ]
        },
        {
          "output_type": "stream",
          "name": "stderr",
          "text": [
            "100%|██████████| 375/375 [00:10<00:00, 36.58it/s]\n",
            "100%|██████████| 47/47 [00:02<00:00, 22.57it/s]\n"
          ]
        },
        {
          "output_type": "stream",
          "name": "stdout",
          "text": [
            "Training Accuracy: 98.150%, Training Loss: 0.0655, Test Accuracy: 91.467%\n",
            "\n",
            "Epoch: 25\n"
          ]
        },
        {
          "output_type": "stream",
          "name": "stderr",
          "text": [
            "100%|██████████| 375/375 [00:10<00:00, 36.85it/s]\n",
            "100%|██████████| 47/47 [00:02<00:00, 23.03it/s]\n"
          ]
        },
        {
          "output_type": "stream",
          "name": "stdout",
          "text": [
            "Training Accuracy: 97.717%, Training Loss: 0.0812, Test Accuracy: 93.700%\n",
            "\n",
            "Epoch: 26\n"
          ]
        },
        {
          "output_type": "stream",
          "name": "stderr",
          "text": [
            "100%|██████████| 375/375 [00:10<00:00, 36.76it/s]\n",
            "100%|██████████| 47/47 [00:02<00:00, 22.35it/s]\n"
          ]
        },
        {
          "output_type": "stream",
          "name": "stdout",
          "text": [
            "Training Accuracy: 97.992%, Training Loss: 0.0729, Test Accuracy: 92.500%\n",
            "\n",
            "Epoch: 27\n"
          ]
        },
        {
          "output_type": "stream",
          "name": "stderr",
          "text": [
            "100%|██████████| 375/375 [00:10<00:00, 36.41it/s]\n",
            "100%|██████████| 47/47 [00:02<00:00, 22.34it/s]\n"
          ]
        },
        {
          "output_type": "stream",
          "name": "stdout",
          "text": [
            "Training Accuracy: 98.317%, Training Loss: 0.0568, Test Accuracy: 92.333%\n",
            "\n",
            "--------------------\n",
            "Model Saved\n",
            "--------------------\n",
            "Epoch: 28\n"
          ]
        },
        {
          "output_type": "stream",
          "name": "stderr",
          "text": [
            "100%|██████████| 375/375 [00:10<00:00, 36.83it/s]\n",
            "100%|██████████| 47/47 [00:02<00:00, 23.10it/s]\n"
          ]
        },
        {
          "output_type": "stream",
          "name": "stdout",
          "text": [
            "Training Accuracy: 98.633%, Training Loss: 0.0449, Test Accuracy: 92.933%\n",
            "\n",
            "--------------------\n",
            "Model Saved\n",
            "--------------------\n",
            "Epoch: 29\n"
          ]
        },
        {
          "output_type": "stream",
          "name": "stderr",
          "text": [
            "100%|██████████| 375/375 [00:10<00:00, 37.34it/s]\n",
            "100%|██████████| 47/47 [00:02<00:00, 21.22it/s]\n"
          ]
        },
        {
          "output_type": "stream",
          "name": "stdout",
          "text": [
            "Training Accuracy: 98.467%, Training Loss: 0.0537, Test Accuracy: 94.500%\n",
            "\n",
            "Epoch: 30\n"
          ]
        },
        {
          "output_type": "stream",
          "name": "stderr",
          "text": [
            "100%|██████████| 375/375 [00:09<00:00, 41.64it/s]\n",
            "100%|██████████| 47/47 [00:02<00:00, 16.66it/s]\n"
          ]
        },
        {
          "output_type": "stream",
          "name": "stdout",
          "text": [
            "Training Accuracy: 97.817%, Training Loss: 0.0811, Test Accuracy: 94.067%\n",
            "\n",
            "Epoch: 31\n"
          ]
        },
        {
          "output_type": "stream",
          "name": "stderr",
          "text": [
            "100%|██████████| 375/375 [00:08<00:00, 42.99it/s]\n",
            "100%|██████████| 47/47 [00:02<00:00, 20.60it/s]\n"
          ]
        },
        {
          "output_type": "stream",
          "name": "stdout",
          "text": [
            "Training Accuracy: 98.475%, Training Loss: 0.0503, Test Accuracy: 93.567%\n",
            "\n",
            "Epoch: 32\n"
          ]
        },
        {
          "output_type": "stream",
          "name": "stderr",
          "text": [
            "100%|██████████| 375/375 [00:09<00:00, 38.27it/s]\n",
            "100%|██████████| 47/47 [00:02<00:00, 23.47it/s]\n"
          ]
        },
        {
          "output_type": "stream",
          "name": "stdout",
          "text": [
            "Training Accuracy: 98.367%, Training Loss: 0.0617, Test Accuracy: 93.200%\n",
            "\n",
            "Epoch: 33\n"
          ]
        },
        {
          "output_type": "stream",
          "name": "stderr",
          "text": [
            "100%|██████████| 375/375 [00:10<00:00, 37.01it/s]\n",
            "100%|██████████| 47/47 [00:02<00:00, 23.31it/s]\n"
          ]
        },
        {
          "output_type": "stream",
          "name": "stdout",
          "text": [
            "Training Accuracy: 98.308%, Training Loss: 0.0582, Test Accuracy: 93.767%\n",
            "\n",
            "Epoch: 34\n"
          ]
        },
        {
          "output_type": "stream",
          "name": "stderr",
          "text": [
            "100%|██████████| 375/375 [00:10<00:00, 36.95it/s]\n",
            "100%|██████████| 47/47 [00:02<00:00, 22.47it/s]\n"
          ]
        },
        {
          "output_type": "stream",
          "name": "stdout",
          "text": [
            "Training Accuracy: 98.767%, Training Loss: 0.0485, Test Accuracy: 93.100%\n",
            "\n",
            "Epoch: 35\n"
          ]
        },
        {
          "output_type": "stream",
          "name": "stderr",
          "text": [
            "100%|██████████| 375/375 [00:10<00:00, 37.26it/s]\n",
            "100%|██████████| 47/47 [00:02<00:00, 23.36it/s]\n"
          ]
        },
        {
          "output_type": "stream",
          "name": "stdout",
          "text": [
            "Training Accuracy: 98.842%, Training Loss: 0.0413, Test Accuracy: 93.733%\n",
            "\n",
            "--------------------\n",
            "Model Saved\n",
            "--------------------\n",
            "Epoch: 36\n"
          ]
        },
        {
          "output_type": "stream",
          "name": "stderr",
          "text": [
            "100%|██████████| 375/375 [00:09<00:00, 37.83it/s]\n",
            "100%|██████████| 47/47 [00:02<00:00, 23.21it/s]\n"
          ]
        },
        {
          "output_type": "stream",
          "name": "stdout",
          "text": [
            "Training Accuracy: 98.500%, Training Loss: 0.0578, Test Accuracy: 93.733%\n",
            "\n",
            "Epoch: 37\n"
          ]
        },
        {
          "output_type": "stream",
          "name": "stderr",
          "text": [
            "100%|██████████| 375/375 [00:09<00:00, 38.45it/s]\n",
            "100%|██████████| 47/47 [00:02<00:00, 20.67it/s]\n"
          ]
        },
        {
          "output_type": "stream",
          "name": "stdout",
          "text": [
            "Training Accuracy: 98.833%, Training Loss: 0.0456, Test Accuracy: 93.267%\n",
            "\n",
            "Epoch: 38\n"
          ]
        },
        {
          "output_type": "stream",
          "name": "stderr",
          "text": [
            "100%|██████████| 375/375 [00:09<00:00, 41.19it/s]\n",
            "100%|██████████| 47/47 [00:02<00:00, 16.83it/s]\n"
          ]
        },
        {
          "output_type": "stream",
          "name": "stdout",
          "text": [
            "Training Accuracy: 98.742%, Training Loss: 0.0459, Test Accuracy: 94.667%\n",
            "\n",
            "Epoch: 39\n"
          ]
        },
        {
          "output_type": "stream",
          "name": "stderr",
          "text": [
            "100%|██████████| 375/375 [00:08<00:00, 42.00it/s]\n",
            "100%|██████████| 47/47 [00:02<00:00, 20.34it/s]\n"
          ]
        },
        {
          "output_type": "stream",
          "name": "stdout",
          "text": [
            "Training Accuracy: 98.825%, Training Loss: 0.0477, Test Accuracy: 94.667%\n",
            "\n",
            "Epoch: 40\n"
          ]
        },
        {
          "output_type": "stream",
          "name": "stderr",
          "text": [
            "100%|██████████| 375/375 [00:09<00:00, 38.70it/s]\n",
            "100%|██████████| 47/47 [00:02<00:00, 23.37it/s]\n"
          ]
        },
        {
          "output_type": "stream",
          "name": "stdout",
          "text": [
            "Training Accuracy: 99.083%, Training Loss: 0.0326, Test Accuracy: 94.333%\n",
            "\n",
            "--------------------\n",
            "Model Saved\n",
            "--------------------\n",
            "Epoch: 41\n"
          ]
        },
        {
          "output_type": "stream",
          "name": "stderr",
          "text": [
            "100%|██████████| 375/375 [00:10<00:00, 37.38it/s]\n",
            "100%|██████████| 47/47 [00:01<00:00, 23.53it/s]\n"
          ]
        },
        {
          "output_type": "stream",
          "name": "stdout",
          "text": [
            "Training Accuracy: 99.025%, Training Loss: 0.0375, Test Accuracy: 94.067%\n",
            "\n",
            "Epoch: 42\n"
          ]
        },
        {
          "output_type": "stream",
          "name": "stderr",
          "text": [
            "100%|██████████| 375/375 [00:10<00:00, 37.26it/s]\n",
            "100%|██████████| 47/47 [00:01<00:00, 23.53it/s]\n"
          ]
        },
        {
          "output_type": "stream",
          "name": "stdout",
          "text": [
            "Training Accuracy: 98.283%, Training Loss: 0.0668, Test Accuracy: 93.100%\n",
            "\n",
            "Epoch: 43\n"
          ]
        },
        {
          "output_type": "stream",
          "name": "stderr",
          "text": [
            "100%|██████████| 375/375 [00:10<00:00, 37.10it/s]\n",
            "100%|██████████| 47/47 [00:02<00:00, 23.36it/s]\n"
          ]
        },
        {
          "output_type": "stream",
          "name": "stdout",
          "text": [
            "Training Accuracy: 98.817%, Training Loss: 0.0448, Test Accuracy: 94.600%\n",
            "\n",
            "Epoch: 44\n"
          ]
        },
        {
          "output_type": "stream",
          "name": "stderr",
          "text": [
            "100%|██████████| 375/375 [00:10<00:00, 37.30it/s]\n",
            "100%|██████████| 47/47 [00:02<00:00, 23.46it/s]\n"
          ]
        },
        {
          "output_type": "stream",
          "name": "stdout",
          "text": [
            "Training Accuracy: 98.700%, Training Loss: 0.0502, Test Accuracy: 94.633%\n",
            "\n",
            "Epoch: 45\n"
          ]
        },
        {
          "output_type": "stream",
          "name": "stderr",
          "text": [
            "100%|██████████| 375/375 [00:09<00:00, 38.06it/s]\n",
            "100%|██████████| 47/47 [00:02<00:00, 21.64it/s]\n"
          ]
        },
        {
          "output_type": "stream",
          "name": "stdout",
          "text": [
            "Training Accuracy: 98.692%, Training Loss: 0.0538, Test Accuracy: 93.567%\n",
            "\n",
            "Epoch: 46\n"
          ]
        },
        {
          "output_type": "stream",
          "name": "stderr",
          "text": [
            "100%|██████████| 375/375 [00:09<00:00, 41.21it/s]\n",
            "100%|██████████| 47/47 [00:02<00:00, 16.69it/s]\n"
          ]
        },
        {
          "output_type": "stream",
          "name": "stdout",
          "text": [
            "Training Accuracy: 98.942%, Training Loss: 0.0447, Test Accuracy: 94.167%\n",
            "\n",
            "Epoch: 47\n"
          ]
        },
        {
          "output_type": "stream",
          "name": "stderr",
          "text": [
            "100%|██████████| 375/375 [00:09<00:00, 41.59it/s]\n",
            "100%|██████████| 47/47 [00:02<00:00, 18.67it/s]\n"
          ]
        },
        {
          "output_type": "stream",
          "name": "stdout",
          "text": [
            "Training Accuracy: 99.042%, Training Loss: 0.0333, Test Accuracy: 93.467%\n",
            "\n",
            "Epoch: 48\n"
          ]
        },
        {
          "output_type": "stream",
          "name": "stderr",
          "text": [
            "100%|██████████| 375/375 [00:09<00:00, 39.59it/s]\n",
            "100%|██████████| 47/47 [00:02<00:00, 23.14it/s]\n"
          ]
        },
        {
          "output_type": "stream",
          "name": "stdout",
          "text": [
            "Training Accuracy: 98.933%, Training Loss: 0.0386, Test Accuracy: 94.033%\n",
            "\n",
            "Epoch: 49\n"
          ]
        },
        {
          "output_type": "stream",
          "name": "stderr",
          "text": [
            "100%|██████████| 375/375 [00:09<00:00, 37.57it/s]\n",
            "100%|██████████| 47/47 [00:02<00:00, 22.27it/s]\n"
          ]
        },
        {
          "output_type": "stream",
          "name": "stdout",
          "text": [
            "Training Accuracy: 98.683%, Training Loss: 0.0469, Test Accuracy: 93.833%\n",
            "\n",
            "Epoch: 50\n"
          ]
        },
        {
          "output_type": "stream",
          "name": "stderr",
          "text": [
            "100%|██████████| 375/375 [00:10<00:00, 36.95it/s]\n",
            "100%|██████████| 47/47 [00:02<00:00, 22.50it/s]"
          ]
        },
        {
          "output_type": "stream",
          "name": "stdout",
          "text": [
            "Training Accuracy: 99.042%, Training Loss: 0.0381, Test Accuracy: 93.767%\n",
            "\n"
          ]
        },
        {
          "output_type": "stream",
          "name": "stderr",
          "text": [
            "\n"
          ]
        }
      ]
    },
    {
      "cell_type": "code",
      "source": [
        "if os.path.exists('model.pth'):\n",
        "    model.load_state_dict(torch.load('model.pth'))\n",
        "\n",
        "test_acc = test(model, test_loader, embedding, DEVICE)\n",
        "print(f\"Test Accuracy: {test_acc*100:.3f}%\\n\")"
      ],
      "metadata": {
        "id": "V27cwOeSpmaH",
        "colab": {
          "base_uri": "https://localhost:8080/"
        },
        "outputId": "e4369472-156c-49e4-d141-0854724b2995"
      },
      "execution_count": null,
      "outputs": [
        {
          "output_type": "stream",
          "name": "stderr",
          "text": [
            "100%|██████████| 47/47 [00:02<00:00, 23.32it/s]"
          ]
        },
        {
          "output_type": "stream",
          "name": "stdout",
          "text": [
            "Test Accuracy: 94.333%\n",
            "\n"
          ]
        },
        {
          "output_type": "stream",
          "name": "stderr",
          "text": [
            "\n"
          ]
        }
      ]
    },
    {
      "cell_type": "code",
      "source": [],
      "metadata": {
        "id": "CQUcK0MQpmaH"
      },
      "execution_count": null,
      "outputs": []
    },
    {
      "cell_type": "code",
      "source": [],
      "metadata": {
        "id": "fttdtpT8pmaH"
      },
      "execution_count": null,
      "outputs": []
    },
    {
      "cell_type": "code",
      "source": [],
      "metadata": {
        "id": "FlN12-jgpmaH"
      },
      "execution_count": null,
      "outputs": []
    },
    {
      "cell_type": "code",
      "source": [],
      "metadata": {
        "id": "PEQYTWuOpmaH"
      },
      "execution_count": null,
      "outputs": []
    },
    {
      "cell_type": "code",
      "source": [],
      "metadata": {
        "id": "NOVUPwcTpmaH"
      },
      "execution_count": null,
      "outputs": []
    },
    {
      "cell_type": "code",
      "source": [],
      "metadata": {
        "id": "Vey3uUUgpmaH"
      },
      "execution_count": null,
      "outputs": []
    },
    {
      "cell_type": "code",
      "source": [],
      "metadata": {
        "id": "rh9rss37pmaI"
      },
      "execution_count": null,
      "outputs": []
    },
    {
      "cell_type": "code",
      "source": [],
      "metadata": {
        "id": "mG6ApjBgpmaI"
      },
      "execution_count": null,
      "outputs": []
    },
    {
      "cell_type": "code",
      "source": [],
      "metadata": {
        "id": "fWsnXjGNpmaI"
      },
      "execution_count": null,
      "outputs": []
    },
    {
      "cell_type": "markdown",
      "source": [
        "# embd_random50_df"
      ],
      "metadata": {
        "id": "ifs31sfIp_3N"
      }
    },
    {
      "cell_type": "code",
      "source": [
        "model = CustomCNN(n_features=64).to(DEVICE)\n",
        "sum(p.numel() for p in model.parameters() if p.requires_grad)"
      ],
      "metadata": {
        "id": "DL-_7yQBp_3U",
        "colab": {
          "base_uri": "https://localhost:8080/"
        },
        "outputId": "abd452a7-ec4c-466c-a1ed-def50e9bb4aa"
      },
      "execution_count": null,
      "outputs": [
        {
          "output_type": "execute_result",
          "data": {
            "text/plain": [
              "274832"
            ]
          },
          "metadata": {},
          "execution_count": 99
        }
      ]
    },
    {
      "cell_type": "code",
      "source": [
        "optimizer = torch.optim.Adam(model.parameters())\n",
        "criterion = torch.nn.CrossEntropyLoss()"
      ],
      "metadata": {
        "id": "gX3wvG7guDSd"
      },
      "execution_count": null,
      "outputs": []
    },
    {
      "cell_type": "code",
      "source": [
        "embedding = pd.read_csv('/content/drive/MyDrive/ZSClassification/ZeroShotHandwrittenCharacterRecognition/Bangla/Embd_VAEResnet/embd_random50_df.csv')\n",
        "\n",
        "embedding = embedding.iloc[:, :].values\n",
        "# embedding = embedding.iloc[:, :].values.T\n",
        "embedding = torch.from_numpy(embedding)\n",
        "embedding = embedding.to(DEVICE)\n",
        "embedding.shape, embedding"
      ],
      "metadata": {
        "id": "0Ij1PjWLp_3U",
        "colab": {
          "base_uri": "https://localhost:8080/"
        },
        "outputId": "c5b5759b-9b41-412f-aaa4-797997be643f"
      },
      "execution_count": null,
      "outputs": [
        {
          "output_type": "execute_result",
          "data": {
            "text/plain": [
              "(torch.Size([64, 50]),\n",
              " tensor([[ 102.1776,   31.9672,   80.0539,  ...,   55.8390,   24.1437,\n",
              "            13.4734],\n",
              "         [-170.6104, -119.8320,   35.7518,  ...,   -2.4561,   65.0965,\n",
              "            57.7984],\n",
              "         [ -24.6961,    9.2001,  -25.8859,  ...,  -45.9988,  -17.8895,\n",
              "           -24.3683],\n",
              "         ...,\n",
              "         [  13.8515,   26.6144,   72.0276,  ...,  -25.2631,   79.3812,\n",
              "            53.2783],\n",
              "         [ -33.9464,  -53.2210,   29.0394,  ...,    3.2512,  134.2178,\n",
              "            58.2535],\n",
              "         [  -6.3034,   -7.3827,   29.7676,  ...,   19.1763,  -18.6326,\n",
              "            -6.0401]], device='cuda:0', dtype=torch.float64))"
            ]
          },
          "metadata": {},
          "execution_count": 101
        }
      ]
    },
    {
      "cell_type": "code",
      "metadata": {
        "id": "iRBqqQ9bp_3U",
        "colab": {
          "base_uri": "https://localhost:8080/"
        },
        "outputId": "67b34d3b-420f-4ce6-842f-b93f00948d92"
      },
      "source": [
        "best_loss, best_acc = 1e10, 0\n",
        "\n",
        "for epoch in range(50+1):\n",
        "    print(f\"Epoch: {epoch}\")\n",
        "\n",
        "    # if os.path.exists('model.pth'):\n",
        "    #     model.load_state_dict(torch.load('model.pth'))\n",
        "\n",
        "    train_acc, train_loss = train(model, train_loader, embedding, criterion, optimizer, DEVICE)\n",
        "    test_acc = test(model, test_loader, embedding, DEVICE)\n",
        "    print(f\"Training Accuracy: {train_acc*100:.3f}%, Training Loss: {train_loss:.4f}, Test Accuracy: {test_acc*100:.3f}%\\n\")\n",
        "\n",
        "    # if epoch % 5 == 0 and test_acc > best_acc and train_loss < best_loss:\n",
        "    if train_loss < best_loss:\n",
        "        best_acc = test_acc\n",
        "        best_loss = train_loss\n",
        "        torch.save(model.state_dict(), \"model.pth\")\n",
        "        print(f\"{'-'*20}\\nModel Saved\\n{'-'*20}\")"
      ],
      "execution_count": null,
      "outputs": [
        {
          "output_type": "stream",
          "name": "stdout",
          "text": [
            "Epoch: 0\n"
          ]
        },
        {
          "output_type": "stream",
          "name": "stderr",
          "text": [
            "100%|██████████| 375/375 [00:10<00:00, 37.37it/s]\n",
            "100%|██████████| 47/47 [00:02<00:00, 23.41it/s]\n"
          ]
        },
        {
          "output_type": "stream",
          "name": "stdout",
          "text": [
            "Training Accuracy: 28.850%, Training Loss: 7.1379, Test Accuracy: 46.667%\n",
            "\n",
            "--------------------\n",
            "Model Saved\n",
            "--------------------\n",
            "Epoch: 1\n"
          ]
        },
        {
          "output_type": "stream",
          "name": "stderr",
          "text": [
            "100%|██████████| 375/375 [00:10<00:00, 37.14it/s]\n",
            "100%|██████████| 47/47 [00:02<00:00, 22.81it/s]\n"
          ]
        },
        {
          "output_type": "stream",
          "name": "stdout",
          "text": [
            "Training Accuracy: 52.400%, Training Loss: 1.8241, Test Accuracy: 58.367%\n",
            "\n",
            "--------------------\n",
            "Model Saved\n",
            "--------------------\n",
            "Epoch: 2\n"
          ]
        },
        {
          "output_type": "stream",
          "name": "stderr",
          "text": [
            "100%|██████████| 375/375 [00:10<00:00, 37.27it/s]\n",
            "100%|██████████| 47/47 [00:02<00:00, 23.24it/s]\n"
          ]
        },
        {
          "output_type": "stream",
          "name": "stdout",
          "text": [
            "Training Accuracy: 63.067%, Training Loss: 1.3654, Test Accuracy: 65.667%\n",
            "\n",
            "--------------------\n",
            "Model Saved\n",
            "--------------------\n",
            "Epoch: 3\n"
          ]
        },
        {
          "output_type": "stream",
          "name": "stderr",
          "text": [
            "100%|██████████| 375/375 [00:10<00:00, 36.85it/s]\n",
            "100%|██████████| 47/47 [00:02<00:00, 22.95it/s]\n"
          ]
        },
        {
          "output_type": "stream",
          "name": "stdout",
          "text": [
            "Training Accuracy: 69.308%, Training Loss: 1.1127, Test Accuracy: 68.967%\n",
            "\n",
            "--------------------\n",
            "Model Saved\n",
            "--------------------\n",
            "Epoch: 4\n"
          ]
        },
        {
          "output_type": "stream",
          "name": "stderr",
          "text": [
            "100%|██████████| 375/375 [00:09<00:00, 37.56it/s]\n",
            "100%|██████████| 47/47 [00:02<00:00, 23.02it/s]\n"
          ]
        },
        {
          "output_type": "stream",
          "name": "stdout",
          "text": [
            "Training Accuracy: 73.767%, Training Loss: 0.9675, Test Accuracy: 72.200%\n",
            "\n",
            "--------------------\n",
            "Model Saved\n",
            "--------------------\n",
            "Epoch: 5\n"
          ]
        },
        {
          "output_type": "stream",
          "name": "stderr",
          "text": [
            "100%|██████████| 375/375 [00:09<00:00, 40.17it/s]\n",
            "100%|██████████| 47/47 [00:02<00:00, 18.38it/s]\n"
          ]
        },
        {
          "output_type": "stream",
          "name": "stdout",
          "text": [
            "Training Accuracy: 76.083%, Training Loss: 0.8904, Test Accuracy: 72.933%\n",
            "\n",
            "--------------------\n",
            "Model Saved\n",
            "--------------------\n",
            "Epoch: 6\n"
          ]
        },
        {
          "output_type": "stream",
          "name": "stderr",
          "text": [
            "100%|██████████| 375/375 [00:08<00:00, 42.00it/s]\n",
            "100%|██████████| 47/47 [00:02<00:00, 16.64it/s]\n"
          ]
        },
        {
          "output_type": "stream",
          "name": "stdout",
          "text": [
            "Training Accuracy: 78.067%, Training Loss: 0.8205, Test Accuracy: 76.567%\n",
            "\n",
            "--------------------\n",
            "Model Saved\n",
            "--------------------\n",
            "Epoch: 7\n"
          ]
        },
        {
          "output_type": "stream",
          "name": "stderr",
          "text": [
            "100%|██████████| 375/375 [00:09<00:00, 40.70it/s]\n",
            "100%|██████████| 47/47 [00:02<00:00, 22.85it/s]\n"
          ]
        },
        {
          "output_type": "stream",
          "name": "stdout",
          "text": [
            "Training Accuracy: 78.208%, Training Loss: 0.8239, Test Accuracy: 76.967%\n",
            "\n",
            "Epoch: 8\n"
          ]
        },
        {
          "output_type": "stream",
          "name": "stderr",
          "text": [
            "100%|██████████| 375/375 [00:09<00:00, 37.93it/s]\n",
            "100%|██████████| 47/47 [00:02<00:00, 22.76it/s]\n"
          ]
        },
        {
          "output_type": "stream",
          "name": "stdout",
          "text": [
            "Training Accuracy: 82.325%, Training Loss: 0.6662, Test Accuracy: 79.467%\n",
            "\n",
            "--------------------\n",
            "Model Saved\n",
            "--------------------\n",
            "Epoch: 9\n"
          ]
        },
        {
          "output_type": "stream",
          "name": "stderr",
          "text": [
            "100%|██████████| 375/375 [00:10<00:00, 37.23it/s]\n",
            "100%|██████████| 47/47 [00:02<00:00, 22.92it/s]\n"
          ]
        },
        {
          "output_type": "stream",
          "name": "stdout",
          "text": [
            "Training Accuracy: 82.500%, Training Loss: 0.6833, Test Accuracy: 81.767%\n",
            "\n",
            "Epoch: 10\n"
          ]
        },
        {
          "output_type": "stream",
          "name": "stderr",
          "text": [
            "100%|██████████| 375/375 [00:09<00:00, 37.59it/s]\n",
            "100%|██████████| 47/47 [00:02<00:00, 23.45it/s]\n"
          ]
        },
        {
          "output_type": "stream",
          "name": "stdout",
          "text": [
            "Training Accuracy: 84.433%, Training Loss: 0.6250, Test Accuracy: 82.133%\n",
            "\n",
            "--------------------\n",
            "Model Saved\n",
            "--------------------\n",
            "Epoch: 11\n"
          ]
        },
        {
          "output_type": "stream",
          "name": "stderr",
          "text": [
            "100%|██████████| 375/375 [00:09<00:00, 37.51it/s]\n",
            "100%|██████████| 47/47 [00:02<00:00, 22.80it/s]\n"
          ]
        },
        {
          "output_type": "stream",
          "name": "stdout",
          "text": [
            "Training Accuracy: 86.942%, Training Loss: 0.5334, Test Accuracy: 84.367%\n",
            "\n",
            "--------------------\n",
            "Model Saved\n",
            "--------------------\n",
            "Epoch: 12\n"
          ]
        },
        {
          "output_type": "stream",
          "name": "stderr",
          "text": [
            "100%|██████████| 375/375 [00:10<00:00, 37.43it/s]\n",
            "100%|██████████| 47/47 [00:01<00:00, 23.51it/s]\n"
          ]
        },
        {
          "output_type": "stream",
          "name": "stdout",
          "text": [
            "Training Accuracy: 87.475%, Training Loss: 0.4860, Test Accuracy: 81.467%\n",
            "\n",
            "--------------------\n",
            "Model Saved\n",
            "--------------------\n",
            "Epoch: 13\n"
          ]
        },
        {
          "output_type": "stream",
          "name": "stderr",
          "text": [
            "100%|██████████| 375/375 [00:09<00:00, 39.36it/s]\n",
            "100%|██████████| 47/47 [00:02<00:00, 19.36it/s]\n"
          ]
        },
        {
          "output_type": "stream",
          "name": "stdout",
          "text": [
            "Training Accuracy: 86.967%, Training Loss: 0.5381, Test Accuracy: 85.367%\n",
            "\n",
            "Epoch: 14\n"
          ]
        },
        {
          "output_type": "stream",
          "name": "stderr",
          "text": [
            "100%|██████████| 375/375 [00:08<00:00, 41.72it/s]\n",
            "100%|██████████| 47/47 [00:02<00:00, 16.92it/s]\n"
          ]
        },
        {
          "output_type": "stream",
          "name": "stdout",
          "text": [
            "Training Accuracy: 88.675%, Training Loss: 0.4676, Test Accuracy: 84.033%\n",
            "\n",
            "--------------------\n",
            "Model Saved\n",
            "--------------------\n",
            "Epoch: 15\n"
          ]
        },
        {
          "output_type": "stream",
          "name": "stderr",
          "text": [
            "100%|██████████| 375/375 [00:08<00:00, 41.81it/s]\n",
            "100%|██████████| 47/47 [00:02<00:00, 21.56it/s]\n"
          ]
        },
        {
          "output_type": "stream",
          "name": "stdout",
          "text": [
            "Training Accuracy: 88.758%, Training Loss: 0.4837, Test Accuracy: 86.767%\n",
            "\n",
            "Epoch: 16\n"
          ]
        },
        {
          "output_type": "stream",
          "name": "stderr",
          "text": [
            "100%|██████████| 375/375 [00:09<00:00, 38.24it/s]\n",
            "100%|██████████| 47/47 [00:01<00:00, 23.59it/s]\n"
          ]
        },
        {
          "output_type": "stream",
          "name": "stdout",
          "text": [
            "Training Accuracy: 88.483%, Training Loss: 0.4740, Test Accuracy: 87.867%\n",
            "\n",
            "Epoch: 17\n"
          ]
        },
        {
          "output_type": "stream",
          "name": "stderr",
          "text": [
            "100%|██████████| 375/375 [00:09<00:00, 37.56it/s]\n",
            "100%|██████████| 47/47 [00:01<00:00, 23.60it/s]\n"
          ]
        },
        {
          "output_type": "stream",
          "name": "stdout",
          "text": [
            "Training Accuracy: 91.867%, Training Loss: 0.3255, Test Accuracy: 85.933%\n",
            "\n",
            "--------------------\n",
            "Model Saved\n",
            "--------------------\n",
            "Epoch: 18\n"
          ]
        },
        {
          "output_type": "stream",
          "name": "stderr",
          "text": [
            "100%|██████████| 375/375 [00:10<00:00, 37.20it/s]\n",
            "100%|██████████| 47/47 [00:02<00:00, 22.95it/s]\n"
          ]
        },
        {
          "output_type": "stream",
          "name": "stdout",
          "text": [
            "Training Accuracy: 90.208%, Training Loss: 0.4296, Test Accuracy: 85.967%\n",
            "\n",
            "Epoch: 19\n"
          ]
        },
        {
          "output_type": "stream",
          "name": "stderr",
          "text": [
            "100%|██████████| 375/375 [00:10<00:00, 37.42it/s]\n",
            "100%|██████████| 47/47 [00:02<00:00, 23.30it/s]\n"
          ]
        },
        {
          "output_type": "stream",
          "name": "stdout",
          "text": [
            "Training Accuracy: 90.467%, Training Loss: 0.4157, Test Accuracy: 88.400%\n",
            "\n",
            "Epoch: 20\n"
          ]
        },
        {
          "output_type": "stream",
          "name": "stderr",
          "text": [
            "100%|██████████| 375/375 [00:09<00:00, 37.66it/s]\n",
            "100%|██████████| 47/47 [00:02<00:00, 23.34it/s]\n"
          ]
        },
        {
          "output_type": "stream",
          "name": "stdout",
          "text": [
            "Training Accuracy: 91.875%, Training Loss: 0.3342, Test Accuracy: 86.833%\n",
            "\n",
            "Epoch: 21\n"
          ]
        },
        {
          "output_type": "stream",
          "name": "stderr",
          "text": [
            "100%|██████████| 375/375 [00:09<00:00, 39.34it/s]\n",
            "100%|██████████| 47/47 [00:02<00:00, 19.00it/s]\n"
          ]
        },
        {
          "output_type": "stream",
          "name": "stdout",
          "text": [
            "Training Accuracy: 91.642%, Training Loss: 0.3931, Test Accuracy: 89.200%\n",
            "\n",
            "Epoch: 22\n"
          ]
        },
        {
          "output_type": "stream",
          "name": "stderr",
          "text": [
            "100%|██████████| 375/375 [00:08<00:00, 42.26it/s]\n",
            "100%|██████████| 47/47 [00:02<00:00, 16.62it/s]\n"
          ]
        },
        {
          "output_type": "stream",
          "name": "stdout",
          "text": [
            "Training Accuracy: 92.608%, Training Loss: 0.3078, Test Accuracy: 88.333%\n",
            "\n",
            "--------------------\n",
            "Model Saved\n",
            "--------------------\n",
            "Epoch: 23\n"
          ]
        },
        {
          "output_type": "stream",
          "name": "stderr",
          "text": [
            "100%|██████████| 375/375 [00:09<00:00, 40.84it/s]\n",
            "100%|██████████| 47/47 [00:02<00:00, 21.63it/s]\n"
          ]
        },
        {
          "output_type": "stream",
          "name": "stdout",
          "text": [
            "Training Accuracy: 92.800%, Training Loss: 0.3350, Test Accuracy: 87.500%\n",
            "\n",
            "Epoch: 24\n"
          ]
        },
        {
          "output_type": "stream",
          "name": "stderr",
          "text": [
            "100%|██████████| 375/375 [00:09<00:00, 37.90it/s]\n",
            "100%|██████████| 47/47 [00:01<00:00, 23.51it/s]\n"
          ]
        },
        {
          "output_type": "stream",
          "name": "stdout",
          "text": [
            "Training Accuracy: 92.483%, Training Loss: 0.3302, Test Accuracy: 90.033%\n",
            "\n",
            "Epoch: 25\n"
          ]
        },
        {
          "output_type": "stream",
          "name": "stderr",
          "text": [
            "100%|██████████| 375/375 [00:09<00:00, 37.72it/s]\n",
            "100%|██████████| 47/47 [00:01<00:00, 23.50it/s]\n"
          ]
        },
        {
          "output_type": "stream",
          "name": "stdout",
          "text": [
            "Training Accuracy: 93.983%, Training Loss: 0.2703, Test Accuracy: 90.267%\n",
            "\n",
            "--------------------\n",
            "Model Saved\n",
            "--------------------\n",
            "Epoch: 26\n"
          ]
        },
        {
          "output_type": "stream",
          "name": "stderr",
          "text": [
            "100%|██████████| 375/375 [00:09<00:00, 37.75it/s]\n",
            "100%|██████████| 47/47 [00:02<00:00, 22.52it/s]\n"
          ]
        },
        {
          "output_type": "stream",
          "name": "stdout",
          "text": [
            "Training Accuracy: 93.283%, Training Loss: 0.3087, Test Accuracy: 88.033%\n",
            "\n",
            "Epoch: 27\n"
          ]
        },
        {
          "output_type": "stream",
          "name": "stderr",
          "text": [
            "100%|██████████| 375/375 [00:10<00:00, 37.40it/s]\n",
            "100%|██████████| 47/47 [00:02<00:00, 22.95it/s]\n"
          ]
        },
        {
          "output_type": "stream",
          "name": "stdout",
          "text": [
            "Training Accuracy: 93.542%, Training Loss: 0.3078, Test Accuracy: 90.100%\n",
            "\n",
            "Epoch: 28\n"
          ]
        },
        {
          "output_type": "stream",
          "name": "stderr",
          "text": [
            "100%|██████████| 375/375 [00:10<00:00, 37.20it/s]\n",
            "100%|██████████| 47/47 [00:02<00:00, 22.96it/s]\n"
          ]
        },
        {
          "output_type": "stream",
          "name": "stdout",
          "text": [
            "Training Accuracy: 93.608%, Training Loss: 0.2775, Test Accuracy: 87.700%\n",
            "\n",
            "Epoch: 29\n"
          ]
        },
        {
          "output_type": "stream",
          "name": "stderr",
          "text": [
            "100%|██████████| 375/375 [00:09<00:00, 37.96it/s]\n",
            "100%|██████████| 47/47 [00:02<00:00, 19.94it/s]\n"
          ]
        },
        {
          "output_type": "stream",
          "name": "stdout",
          "text": [
            "Training Accuracy: 93.675%, Training Loss: 0.3197, Test Accuracy: 88.333%\n",
            "\n",
            "Epoch: 30\n"
          ]
        },
        {
          "output_type": "stream",
          "name": "stderr",
          "text": [
            "100%|██████████| 375/375 [00:08<00:00, 42.05it/s]\n",
            "100%|██████████| 47/47 [00:02<00:00, 16.79it/s]\n"
          ]
        },
        {
          "output_type": "stream",
          "name": "stdout",
          "text": [
            "Training Accuracy: 93.867%, Training Loss: 0.3130, Test Accuracy: 88.000%\n",
            "\n",
            "Epoch: 31\n"
          ]
        },
        {
          "output_type": "stream",
          "name": "stderr",
          "text": [
            "100%|██████████| 375/375 [00:08<00:00, 42.23it/s]\n",
            "100%|██████████| 47/47 [00:02<00:00, 21.38it/s]\n"
          ]
        },
        {
          "output_type": "stream",
          "name": "stdout",
          "text": [
            "Training Accuracy: 93.442%, Training Loss: 0.3254, Test Accuracy: 89.467%\n",
            "\n",
            "Epoch: 32\n"
          ]
        },
        {
          "output_type": "stream",
          "name": "stderr",
          "text": [
            "100%|██████████| 375/375 [00:09<00:00, 38.03it/s]\n",
            "100%|██████████| 47/47 [00:02<00:00, 23.34it/s]\n"
          ]
        },
        {
          "output_type": "stream",
          "name": "stdout",
          "text": [
            "Training Accuracy: 95.175%, Training Loss: 0.2345, Test Accuracy: 90.133%\n",
            "\n",
            "--------------------\n",
            "Model Saved\n",
            "--------------------\n",
            "Epoch: 33\n"
          ]
        },
        {
          "output_type": "stream",
          "name": "stderr",
          "text": [
            "100%|██████████| 375/375 [00:10<00:00, 37.17it/s]\n",
            "100%|██████████| 47/47 [00:02<00:00, 23.35it/s]\n"
          ]
        },
        {
          "output_type": "stream",
          "name": "stdout",
          "text": [
            "Training Accuracy: 95.108%, Training Loss: 0.2415, Test Accuracy: 89.867%\n",
            "\n",
            "Epoch: 34\n"
          ]
        },
        {
          "output_type": "stream",
          "name": "stderr",
          "text": [
            "100%|██████████| 375/375 [00:10<00:00, 37.06it/s]\n",
            "100%|██████████| 47/47 [00:02<00:00, 23.31it/s]\n"
          ]
        },
        {
          "output_type": "stream",
          "name": "stdout",
          "text": [
            "Training Accuracy: 94.867%, Training Loss: 0.2781, Test Accuracy: 91.100%\n",
            "\n",
            "Epoch: 35\n"
          ]
        },
        {
          "output_type": "stream",
          "name": "stderr",
          "text": [
            "100%|██████████| 375/375 [00:10<00:00, 36.39it/s]\n",
            "100%|██████████| 47/47 [00:01<00:00, 23.77it/s]\n"
          ]
        },
        {
          "output_type": "stream",
          "name": "stdout",
          "text": [
            "Training Accuracy: 95.283%, Training Loss: 0.2481, Test Accuracy: 91.400%\n",
            "\n",
            "Epoch: 36\n"
          ]
        },
        {
          "output_type": "stream",
          "name": "stderr",
          "text": [
            "100%|██████████| 375/375 [00:10<00:00, 37.01it/s]\n",
            "100%|██████████| 47/47 [00:02<00:00, 22.84it/s]\n"
          ]
        },
        {
          "output_type": "stream",
          "name": "stdout",
          "text": [
            "Training Accuracy: 96.033%, Training Loss: 0.2022, Test Accuracy: 90.833%\n",
            "\n",
            "--------------------\n",
            "Model Saved\n",
            "--------------------\n",
            "Epoch: 37\n"
          ]
        },
        {
          "output_type": "stream",
          "name": "stderr",
          "text": [
            "100%|██████████| 375/375 [00:09<00:00, 37.90it/s]\n",
            "100%|██████████| 47/47 [00:02<00:00, 21.55it/s]\n"
          ]
        },
        {
          "output_type": "stream",
          "name": "stdout",
          "text": [
            "Training Accuracy: 95.350%, Training Loss: 0.2499, Test Accuracy: 89.167%\n",
            "\n",
            "Epoch: 38\n"
          ]
        },
        {
          "output_type": "stream",
          "name": "stderr",
          "text": [
            "100%|██████████| 375/375 [00:09<00:00, 41.31it/s]\n",
            "100%|██████████| 47/47 [00:02<00:00, 16.62it/s]\n"
          ]
        },
        {
          "output_type": "stream",
          "name": "stdout",
          "text": [
            "Training Accuracy: 95.850%, Training Loss: 0.2084, Test Accuracy: 90.500%\n",
            "\n",
            "Epoch: 39\n"
          ]
        },
        {
          "output_type": "stream",
          "name": "stderr",
          "text": [
            "100%|██████████| 375/375 [00:08<00:00, 42.25it/s]\n",
            "100%|██████████| 47/47 [00:02<00:00, 19.36it/s]\n"
          ]
        },
        {
          "output_type": "stream",
          "name": "stdout",
          "text": [
            "Training Accuracy: 95.833%, Training Loss: 0.2210, Test Accuracy: 92.067%\n",
            "\n",
            "Epoch: 40\n"
          ]
        },
        {
          "output_type": "stream",
          "name": "stderr",
          "text": [
            "100%|██████████| 375/375 [00:09<00:00, 39.23it/s]\n",
            "100%|██████████| 47/47 [00:02<00:00, 23.12it/s]\n"
          ]
        },
        {
          "output_type": "stream",
          "name": "stdout",
          "text": [
            "Training Accuracy: 95.825%, Training Loss: 0.2435, Test Accuracy: 90.100%\n",
            "\n",
            "Epoch: 41\n"
          ]
        },
        {
          "output_type": "stream",
          "name": "stderr",
          "text": [
            "100%|██████████| 375/375 [00:09<00:00, 37.58it/s]\n",
            "100%|██████████| 47/47 [00:02<00:00, 23.48it/s]\n"
          ]
        },
        {
          "output_type": "stream",
          "name": "stdout",
          "text": [
            "Training Accuracy: 95.617%, Training Loss: 0.2477, Test Accuracy: 91.200%\n",
            "\n",
            "Epoch: 42\n"
          ]
        },
        {
          "output_type": "stream",
          "name": "stderr",
          "text": [
            "100%|██████████| 375/375 [00:10<00:00, 37.29it/s]\n",
            "100%|██████████| 47/47 [00:02<00:00, 23.38it/s]\n"
          ]
        },
        {
          "output_type": "stream",
          "name": "stdout",
          "text": [
            "Training Accuracy: 96.625%, Training Loss: 0.1704, Test Accuracy: 92.267%\n",
            "\n",
            "--------------------\n",
            "Model Saved\n",
            "--------------------\n",
            "Epoch: 43\n"
          ]
        },
        {
          "output_type": "stream",
          "name": "stderr",
          "text": [
            "100%|██████████| 375/375 [00:10<00:00, 37.29it/s]\n",
            "100%|██████████| 47/47 [00:02<00:00, 23.34it/s]\n"
          ]
        },
        {
          "output_type": "stream",
          "name": "stdout",
          "text": [
            "Training Accuracy: 96.375%, Training Loss: 0.2062, Test Accuracy: 91.067%\n",
            "\n",
            "Epoch: 44\n"
          ]
        },
        {
          "output_type": "stream",
          "name": "stderr",
          "text": [
            "100%|██████████| 375/375 [00:09<00:00, 37.63it/s]\n",
            "100%|██████████| 47/47 [00:02<00:00, 23.43it/s]\n"
          ]
        },
        {
          "output_type": "stream",
          "name": "stdout",
          "text": [
            "Training Accuracy: 95.450%, Training Loss: 0.2854, Test Accuracy: 92.467%\n",
            "\n",
            "Epoch: 45\n"
          ]
        },
        {
          "output_type": "stream",
          "name": "stderr",
          "text": [
            "100%|██████████| 375/375 [00:09<00:00, 37.98it/s]\n",
            "100%|██████████| 47/47 [00:02<00:00, 21.57it/s]\n"
          ]
        },
        {
          "output_type": "stream",
          "name": "stdout",
          "text": [
            "Training Accuracy: 96.875%, Training Loss: 0.1665, Test Accuracy: 91.933%\n",
            "\n",
            "--------------------\n",
            "Model Saved\n",
            "--------------------\n",
            "Epoch: 46\n"
          ]
        },
        {
          "output_type": "stream",
          "name": "stderr",
          "text": [
            "100%|██████████| 375/375 [00:09<00:00, 41.44it/s]\n",
            "100%|██████████| 47/47 [00:02<00:00, 16.74it/s]\n"
          ]
        },
        {
          "output_type": "stream",
          "name": "stdout",
          "text": [
            "Training Accuracy: 96.642%, Training Loss: 0.1898, Test Accuracy: 90.500%\n",
            "\n",
            "Epoch: 47\n"
          ]
        },
        {
          "output_type": "stream",
          "name": "stderr",
          "text": [
            "100%|██████████| 375/375 [00:08<00:00, 42.53it/s]\n",
            "100%|██████████| 47/47 [00:02<00:00, 19.93it/s]\n"
          ]
        },
        {
          "output_type": "stream",
          "name": "stdout",
          "text": [
            "Training Accuracy: 96.767%, Training Loss: 0.1666, Test Accuracy: 91.300%\n",
            "\n",
            "Epoch: 48\n"
          ]
        },
        {
          "output_type": "stream",
          "name": "stderr",
          "text": [
            "100%|██████████| 375/375 [00:09<00:00, 38.63it/s]\n",
            "100%|██████████| 47/47 [00:02<00:00, 23.15it/s]\n"
          ]
        },
        {
          "output_type": "stream",
          "name": "stdout",
          "text": [
            "Training Accuracy: 96.067%, Training Loss: 0.2570, Test Accuracy: 92.033%\n",
            "\n",
            "Epoch: 49\n"
          ]
        },
        {
          "output_type": "stream",
          "name": "stderr",
          "text": [
            "100%|██████████| 375/375 [00:10<00:00, 37.05it/s]\n",
            "100%|██████████| 47/47 [00:02<00:00, 22.78it/s]\n"
          ]
        },
        {
          "output_type": "stream",
          "name": "stdout",
          "text": [
            "Training Accuracy: 96.792%, Training Loss: 0.1821, Test Accuracy: 92.267%\n",
            "\n",
            "Epoch: 50\n"
          ]
        },
        {
          "output_type": "stream",
          "name": "stderr",
          "text": [
            "100%|██████████| 375/375 [00:10<00:00, 36.82it/s]\n",
            "100%|██████████| 47/47 [00:01<00:00, 23.64it/s]"
          ]
        },
        {
          "output_type": "stream",
          "name": "stdout",
          "text": [
            "Training Accuracy: 96.508%, Training Loss: 0.2156, Test Accuracy: 91.033%\n",
            "\n"
          ]
        },
        {
          "output_type": "stream",
          "name": "stderr",
          "text": [
            "\n"
          ]
        }
      ]
    },
    {
      "cell_type": "code",
      "source": [
        "if os.path.exists('model.pth'):\n",
        "    model.load_state_dict(torch.load('model.pth'))\n",
        "\n",
        "test_acc = test(model, test_loader, embedding, DEVICE)\n",
        "print(f\"Test Accuracy: {test_acc*100:.3f}%\\n\")"
      ],
      "metadata": {
        "id": "g1UWJygfp_3V",
        "colab": {
          "base_uri": "https://localhost:8080/"
        },
        "outputId": "be3ec875-095b-40f7-b24a-cb0b5ea5bb3e"
      },
      "execution_count": null,
      "outputs": [
        {
          "output_type": "stream",
          "name": "stderr",
          "text": [
            "100%|██████████| 47/47 [00:02<00:00, 23.20it/s]"
          ]
        },
        {
          "output_type": "stream",
          "name": "stdout",
          "text": [
            "Test Accuracy: 91.933%\n",
            "\n"
          ]
        },
        {
          "output_type": "stream",
          "name": "stderr",
          "text": [
            "\n"
          ]
        }
      ]
    },
    {
      "cell_type": "code",
      "source": [],
      "metadata": {
        "id": "TtptqWoPp_3V"
      },
      "execution_count": null,
      "outputs": []
    },
    {
      "cell_type": "code",
      "source": [],
      "metadata": {
        "id": "uc_hiS9Tp_3V"
      },
      "execution_count": null,
      "outputs": []
    },
    {
      "cell_type": "code",
      "source": [],
      "metadata": {
        "id": "yRdta0Dgp_3V"
      },
      "execution_count": null,
      "outputs": []
    },
    {
      "cell_type": "code",
      "source": [],
      "metadata": {
        "id": "F37pQsofp_3V"
      },
      "execution_count": null,
      "outputs": []
    },
    {
      "cell_type": "code",
      "source": [],
      "metadata": {
        "id": "qoRqllhfp_3V"
      },
      "execution_count": null,
      "outputs": []
    },
    {
      "cell_type": "code",
      "source": [],
      "metadata": {
        "id": "EcwhMcM4p_3V"
      },
      "execution_count": null,
      "outputs": []
    },
    {
      "cell_type": "code",
      "source": [],
      "metadata": {
        "id": "UAkIYXdvp_3V"
      },
      "execution_count": null,
      "outputs": []
    },
    {
      "cell_type": "code",
      "source": [],
      "metadata": {
        "id": "mOyCgPBop_3V"
      },
      "execution_count": null,
      "outputs": []
    },
    {
      "cell_type": "code",
      "source": [],
      "metadata": {
        "id": "cm9doA3lp_3V"
      },
      "execution_count": null,
      "outputs": []
    },
    {
      "cell_type": "markdown",
      "source": [
        "# embd_random100_avg_df"
      ],
      "metadata": {
        "id": "ZffLlJE5p_3W"
      }
    },
    {
      "cell_type": "code",
      "source": [
        "model = CustomCNN(n_features=64).to(DEVICE)\n",
        "sum(p.numel() for p in model.parameters() if p.requires_grad)"
      ],
      "metadata": {
        "id": "vGxTIwkGp_3W",
        "colab": {
          "base_uri": "https://localhost:8080/"
        },
        "outputId": "63d82db5-2635-44da-9afa-1c4edf4fb3f4"
      },
      "execution_count": null,
      "outputs": [
        {
          "output_type": "execute_result",
          "data": {
            "text/plain": [
              "274832"
            ]
          },
          "metadata": {},
          "execution_count": 104
        }
      ]
    },
    {
      "cell_type": "code",
      "source": [
        "optimizer = torch.optim.Adam(model.parameters())\n",
        "criterion = torch.nn.CrossEntropyLoss()"
      ],
      "metadata": {
        "id": "0UZhYd8luFeF"
      },
      "execution_count": null,
      "outputs": []
    },
    {
      "cell_type": "code",
      "source": [
        "embedding = pd.read_csv('/content/drive/MyDrive/ZSClassification/ZeroShotHandwrittenCharacterRecognition/Bangla/Embd_VAEResnet/embd_random100_avg_df.csv')\n",
        "\n",
        "embedding = embedding.iloc[:, :].values\n",
        "# embedding = embedding.iloc[:, :].values.T\n",
        "embedding = torch.from_numpy(embedding)\n",
        "embedding = embedding.to(DEVICE)\n",
        "embedding.shape, embedding"
      ],
      "metadata": {
        "id": "Niqs1nZqp_3W",
        "colab": {
          "base_uri": "https://localhost:8080/"
        },
        "outputId": "315d88c0-be16-4d51-84b1-c55dadaa4289"
      },
      "execution_count": null,
      "outputs": [
        {
          "output_type": "execute_result",
          "data": {
            "text/plain": [
              "(torch.Size([64, 50]),\n",
              " tensor([[ 1.0844, -0.2230,  1.4579,  ...,  1.0029,  0.3526,  0.1572],\n",
              "         [-3.1251, -2.0491,  0.3674,  ..., -0.0192,  1.1535,  1.3094],\n",
              "         [ 0.0816, -0.5339, -0.5792,  ..., -0.7710, -0.3441, -0.3586],\n",
              "         ...,\n",
              "         [ 0.1272,  1.3264,  1.8123,  ..., -0.6799,  1.6290,  0.9903],\n",
              "         [-0.5650, -1.1926,  0.4484,  ...,  0.0390,  2.6472,  1.0634],\n",
              "         [-0.0701, -0.6617,  0.8149,  ...,  0.5882, -0.2724, -0.0573]],\n",
              "        device='cuda:0', dtype=torch.float64))"
            ]
          },
          "metadata": {},
          "execution_count": 106
        }
      ]
    },
    {
      "cell_type": "code",
      "metadata": {
        "id": "L-_0fdNJp_3W",
        "colab": {
          "base_uri": "https://localhost:8080/"
        },
        "outputId": "9828031c-faf5-4395-cadc-7af8243e5835"
      },
      "source": [
        "best_loss, best_acc = 1e10, 0\n",
        "\n",
        "for epoch in range(50+1):\n",
        "    print(f\"Epoch: {epoch}\")\n",
        "\n",
        "    # if os.path.exists('model.pth'):\n",
        "    #     model.load_state_dict(torch.load('model.pth'))\n",
        "\n",
        "    train_acc, train_loss = train(model, train_loader, embedding, criterion, optimizer, DEVICE)\n",
        "    test_acc = test(model, test_loader, embedding, DEVICE)\n",
        "    print(f\"Training Accuracy: {train_acc*100:.3f}%, Training Loss: {train_loss:.4f}, Test Accuracy: {test_acc*100:.3f}%\\n\")\n",
        "\n",
        "    # if epoch % 5 == 0 and test_acc > best_acc and train_loss < best_loss:\n",
        "    if train_loss < best_loss:\n",
        "        best_acc = test_acc\n",
        "        best_loss = train_loss\n",
        "        torch.save(model.state_dict(), \"model.pth\")\n",
        "        print(f\"{'-'*20}\\nModel Saved\\n{'-'*20}\")"
      ],
      "execution_count": null,
      "outputs": [
        {
          "output_type": "stream",
          "name": "stdout",
          "text": [
            "Epoch: 0\n"
          ]
        },
        {
          "output_type": "stream",
          "name": "stderr",
          "text": [
            "100%|██████████| 375/375 [00:10<00:00, 36.96it/s]\n",
            "100%|██████████| 47/47 [00:02<00:00, 23.24it/s]\n"
          ]
        },
        {
          "output_type": "stream",
          "name": "stdout",
          "text": [
            "Training Accuracy: 58.500%, Training Loss: 1.4209, Test Accuracy: 79.267%\n",
            "\n",
            "--------------------\n",
            "Model Saved\n",
            "--------------------\n",
            "Epoch: 1\n"
          ]
        },
        {
          "output_type": "stream",
          "name": "stderr",
          "text": [
            "100%|██████████| 375/375 [00:10<00:00, 37.18it/s]\n",
            "100%|██████████| 47/47 [00:01<00:00, 23.74it/s]\n"
          ]
        },
        {
          "output_type": "stream",
          "name": "stdout",
          "text": [
            "Training Accuracy: 82.375%, Training Loss: 0.5830, Test Accuracy: 81.900%\n",
            "\n",
            "--------------------\n",
            "Model Saved\n",
            "--------------------\n",
            "Epoch: 2\n"
          ]
        },
        {
          "output_type": "stream",
          "name": "stderr",
          "text": [
            "100%|██████████| 375/375 [00:10<00:00, 37.10it/s]\n",
            "100%|██████████| 47/47 [00:02<00:00, 22.93it/s]\n"
          ]
        },
        {
          "output_type": "stream",
          "name": "stdout",
          "text": [
            "Training Accuracy: 87.550%, Training Loss: 0.3920, Test Accuracy: 87.300%\n",
            "\n",
            "--------------------\n",
            "Model Saved\n",
            "--------------------\n",
            "Epoch: 3\n"
          ]
        },
        {
          "output_type": "stream",
          "name": "stderr",
          "text": [
            "100%|██████████| 375/375 [00:10<00:00, 37.15it/s]\n",
            "100%|██████████| 47/47 [00:02<00:00, 23.11it/s]\n"
          ]
        },
        {
          "output_type": "stream",
          "name": "stdout",
          "text": [
            "Training Accuracy: 90.433%, Training Loss: 0.3111, Test Accuracy: 89.267%\n",
            "\n",
            "--------------------\n",
            "Model Saved\n",
            "--------------------\n",
            "Epoch: 4\n"
          ]
        },
        {
          "output_type": "stream",
          "name": "stderr",
          "text": [
            "100%|██████████| 375/375 [00:10<00:00, 37.45it/s]\n",
            "100%|██████████| 47/47 [00:02<00:00, 22.47it/s]\n"
          ]
        },
        {
          "output_type": "stream",
          "name": "stdout",
          "text": [
            "Training Accuracy: 91.958%, Training Loss: 0.2575, Test Accuracy: 90.267%\n",
            "\n",
            "--------------------\n",
            "Model Saved\n",
            "--------------------\n",
            "Epoch: 5\n"
          ]
        },
        {
          "output_type": "stream",
          "name": "stderr",
          "text": [
            "100%|██████████| 375/375 [00:09<00:00, 40.42it/s]\n",
            "100%|██████████| 47/47 [00:02<00:00, 17.25it/s]\n"
          ]
        },
        {
          "output_type": "stream",
          "name": "stdout",
          "text": [
            "Training Accuracy: 93.425%, Training Loss: 0.2044, Test Accuracy: 91.200%\n",
            "\n",
            "--------------------\n",
            "Model Saved\n",
            "--------------------\n",
            "Epoch: 6\n"
          ]
        },
        {
          "output_type": "stream",
          "name": "stderr",
          "text": [
            "100%|██████████| 375/375 [00:08<00:00, 42.22it/s]\n",
            "100%|██████████| 47/47 [00:02<00:00, 18.36it/s]\n"
          ]
        },
        {
          "output_type": "stream",
          "name": "stdout",
          "text": [
            "Training Accuracy: 94.225%, Training Loss: 0.1791, Test Accuracy: 91.533%\n",
            "\n",
            "--------------------\n",
            "Model Saved\n",
            "--------------------\n",
            "Epoch: 7\n"
          ]
        },
        {
          "output_type": "stream",
          "name": "stderr",
          "text": [
            "100%|██████████| 375/375 [00:09<00:00, 40.33it/s]\n",
            "100%|██████████| 47/47 [00:02<00:00, 22.78it/s]\n"
          ]
        },
        {
          "output_type": "stream",
          "name": "stdout",
          "text": [
            "Training Accuracy: 94.558%, Training Loss: 0.1707, Test Accuracy: 91.500%\n",
            "\n",
            "--------------------\n",
            "Model Saved\n",
            "--------------------\n",
            "Epoch: 8\n"
          ]
        },
        {
          "output_type": "stream",
          "name": "stderr",
          "text": [
            "100%|██████████| 375/375 [00:10<00:00, 37.33it/s]\n",
            "100%|██████████| 47/47 [00:02<00:00, 23.37it/s]\n"
          ]
        },
        {
          "output_type": "stream",
          "name": "stdout",
          "text": [
            "Training Accuracy: 95.592%, Training Loss: 0.1432, Test Accuracy: 90.367%\n",
            "\n",
            "--------------------\n",
            "Model Saved\n",
            "--------------------\n",
            "Epoch: 9\n"
          ]
        },
        {
          "output_type": "stream",
          "name": "stderr",
          "text": [
            "100%|██████████| 375/375 [00:09<00:00, 37.61it/s]\n",
            "100%|██████████| 47/47 [00:02<00:00, 22.91it/s]\n"
          ]
        },
        {
          "output_type": "stream",
          "name": "stdout",
          "text": [
            "Training Accuracy: 95.575%, Training Loss: 0.1420, Test Accuracy: 91.667%\n",
            "\n",
            "--------------------\n",
            "Model Saved\n",
            "--------------------\n",
            "Epoch: 10\n"
          ]
        },
        {
          "output_type": "stream",
          "name": "stderr",
          "text": [
            "100%|██████████| 375/375 [00:10<00:00, 37.40it/s]\n",
            "100%|██████████| 47/47 [00:02<00:00, 23.31it/s]\n"
          ]
        },
        {
          "output_type": "stream",
          "name": "stdout",
          "text": [
            "Training Accuracy: 95.917%, Training Loss: 0.1355, Test Accuracy: 91.500%\n",
            "\n",
            "--------------------\n",
            "Model Saved\n",
            "--------------------\n",
            "Epoch: 11\n"
          ]
        },
        {
          "output_type": "stream",
          "name": "stderr",
          "text": [
            "100%|██████████| 375/375 [00:10<00:00, 37.47it/s]\n",
            "100%|██████████| 47/47 [00:02<00:00, 23.16it/s]\n"
          ]
        },
        {
          "output_type": "stream",
          "name": "stdout",
          "text": [
            "Training Accuracy: 96.250%, Training Loss: 0.1185, Test Accuracy: 92.400%\n",
            "\n",
            "--------------------\n",
            "Model Saved\n",
            "--------------------\n",
            "Epoch: 12\n"
          ]
        },
        {
          "output_type": "stream",
          "name": "stderr",
          "text": [
            "100%|██████████| 375/375 [00:10<00:00, 36.65it/s]\n",
            "100%|██████████| 47/47 [00:02<00:00, 22.30it/s]\n"
          ]
        },
        {
          "output_type": "stream",
          "name": "stdout",
          "text": [
            "Training Accuracy: 96.525%, Training Loss: 0.1134, Test Accuracy: 93.000%\n",
            "\n",
            "--------------------\n",
            "Model Saved\n",
            "--------------------\n",
            "Epoch: 13\n"
          ]
        },
        {
          "output_type": "stream",
          "name": "stderr",
          "text": [
            "100%|██████████| 375/375 [00:09<00:00, 39.48it/s]\n",
            "100%|██████████| 47/47 [00:02<00:00, 18.17it/s]\n"
          ]
        },
        {
          "output_type": "stream",
          "name": "stdout",
          "text": [
            "Training Accuracy: 96.650%, Training Loss: 0.1062, Test Accuracy: 92.133%\n",
            "\n",
            "--------------------\n",
            "Model Saved\n",
            "--------------------\n",
            "Epoch: 14\n"
          ]
        },
        {
          "output_type": "stream",
          "name": "stderr",
          "text": [
            "100%|██████████| 375/375 [00:08<00:00, 41.75it/s]\n",
            "100%|██████████| 47/47 [00:02<00:00, 16.78it/s]\n"
          ]
        },
        {
          "output_type": "stream",
          "name": "stdout",
          "text": [
            "Training Accuracy: 96.350%, Training Loss: 0.1231, Test Accuracy: 92.633%\n",
            "\n",
            "Epoch: 15\n"
          ]
        },
        {
          "output_type": "stream",
          "name": "stderr",
          "text": [
            "100%|██████████| 375/375 [00:09<00:00, 39.63it/s]\n",
            "100%|██████████| 47/47 [00:02<00:00, 21.09it/s]\n"
          ]
        },
        {
          "output_type": "stream",
          "name": "stdout",
          "text": [
            "Training Accuracy: 97.533%, Training Loss: 0.0768, Test Accuracy: 92.733%\n",
            "\n",
            "--------------------\n",
            "Model Saved\n",
            "--------------------\n",
            "Epoch: 16\n"
          ]
        },
        {
          "output_type": "stream",
          "name": "stderr",
          "text": [
            "100%|██████████| 375/375 [00:09<00:00, 37.50it/s]\n",
            "100%|██████████| 47/47 [00:02<00:00, 22.95it/s]\n"
          ]
        },
        {
          "output_type": "stream",
          "name": "stdout",
          "text": [
            "Training Accuracy: 97.292%, Training Loss: 0.0928, Test Accuracy: 93.033%\n",
            "\n",
            "Epoch: 17\n"
          ]
        },
        {
          "output_type": "stream",
          "name": "stderr",
          "text": [
            "100%|██████████| 375/375 [00:10<00:00, 36.81it/s]\n",
            "100%|██████████| 47/47 [00:02<00:00, 22.35it/s]\n"
          ]
        },
        {
          "output_type": "stream",
          "name": "stdout",
          "text": [
            "Training Accuracy: 97.258%, Training Loss: 0.0883, Test Accuracy: 92.667%\n",
            "\n",
            "Epoch: 18\n"
          ]
        },
        {
          "output_type": "stream",
          "name": "stderr",
          "text": [
            "100%|██████████| 375/375 [00:10<00:00, 37.04it/s]\n",
            "100%|██████████| 47/47 [00:02<00:00, 22.85it/s]\n"
          ]
        },
        {
          "output_type": "stream",
          "name": "stdout",
          "text": [
            "Training Accuracy: 97.617%, Training Loss: 0.0761, Test Accuracy: 92.067%\n",
            "\n",
            "--------------------\n",
            "Model Saved\n",
            "--------------------\n",
            "Epoch: 19\n"
          ]
        },
        {
          "output_type": "stream",
          "name": "stderr",
          "text": [
            "100%|██████████| 375/375 [00:10<00:00, 36.84it/s]\n",
            "100%|██████████| 47/47 [00:02<00:00, 22.91it/s]\n"
          ]
        },
        {
          "output_type": "stream",
          "name": "stdout",
          "text": [
            "Training Accuracy: 97.675%, Training Loss: 0.0796, Test Accuracy: 91.100%\n",
            "\n",
            "Epoch: 20\n"
          ]
        },
        {
          "output_type": "stream",
          "name": "stderr",
          "text": [
            "100%|██████████| 375/375 [00:10<00:00, 36.12it/s]\n",
            "100%|██████████| 47/47 [00:02<00:00, 22.57it/s]\n"
          ]
        },
        {
          "output_type": "stream",
          "name": "stdout",
          "text": [
            "Training Accuracy: 97.275%, Training Loss: 0.1040, Test Accuracy: 92.200%\n",
            "\n",
            "Epoch: 21\n"
          ]
        },
        {
          "output_type": "stream",
          "name": "stderr",
          "text": [
            "100%|██████████| 375/375 [00:10<00:00, 36.10it/s]\n",
            "100%|██████████| 47/47 [00:02<00:00, 22.85it/s]\n"
          ]
        },
        {
          "output_type": "stream",
          "name": "stdout",
          "text": [
            "Training Accuracy: 97.733%, Training Loss: 0.0786, Test Accuracy: 92.233%\n",
            "\n",
            "Epoch: 22\n"
          ]
        },
        {
          "output_type": "stream",
          "name": "stderr",
          "text": [
            "100%|██████████| 375/375 [00:09<00:00, 37.82it/s]\n",
            "100%|██████████| 47/47 [00:02<00:00, 19.41it/s]\n"
          ]
        },
        {
          "output_type": "stream",
          "name": "stdout",
          "text": [
            "Training Accuracy: 97.717%, Training Loss: 0.0774, Test Accuracy: 91.867%\n",
            "\n",
            "Epoch: 23\n"
          ]
        },
        {
          "output_type": "stream",
          "name": "stderr",
          "text": [
            "100%|██████████| 375/375 [00:09<00:00, 40.50it/s]\n",
            "100%|██████████| 47/47 [00:02<00:00, 15.87it/s]\n"
          ]
        },
        {
          "output_type": "stream",
          "name": "stdout",
          "text": [
            "Training Accuracy: 97.700%, Training Loss: 0.0803, Test Accuracy: 92.667%\n",
            "\n",
            "Epoch: 24\n"
          ]
        },
        {
          "output_type": "stream",
          "name": "stderr",
          "text": [
            "100%|██████████| 375/375 [00:08<00:00, 42.11it/s]\n",
            "100%|██████████| 47/47 [00:02<00:00, 19.13it/s]\n"
          ]
        },
        {
          "output_type": "stream",
          "name": "stdout",
          "text": [
            "Training Accuracy: 98.175%, Training Loss: 0.0610, Test Accuracy: 92.667%\n",
            "\n",
            "--------------------\n",
            "Model Saved\n",
            "--------------------\n",
            "Epoch: 25\n"
          ]
        },
        {
          "output_type": "stream",
          "name": "stderr",
          "text": [
            "100%|██████████| 375/375 [00:09<00:00, 38.73it/s]\n",
            "100%|██████████| 47/47 [00:02<00:00, 22.94it/s]\n"
          ]
        },
        {
          "output_type": "stream",
          "name": "stdout",
          "text": [
            "Training Accuracy: 98.458%, Training Loss: 0.0515, Test Accuracy: 93.033%\n",
            "\n",
            "--------------------\n",
            "Model Saved\n",
            "--------------------\n",
            "Epoch: 26\n"
          ]
        },
        {
          "output_type": "stream",
          "name": "stderr",
          "text": [
            "100%|██████████| 375/375 [00:10<00:00, 36.83it/s]\n",
            "100%|██████████| 47/47 [00:02<00:00, 22.98it/s]\n"
          ]
        },
        {
          "output_type": "stream",
          "name": "stdout",
          "text": [
            "Training Accuracy: 98.192%, Training Loss: 0.0643, Test Accuracy: 93.267%\n",
            "\n",
            "Epoch: 27\n"
          ]
        },
        {
          "output_type": "stream",
          "name": "stderr",
          "text": [
            "100%|██████████| 375/375 [00:10<00:00, 37.09it/s]\n",
            "100%|██████████| 47/47 [00:02<00:00, 22.84it/s]\n"
          ]
        },
        {
          "output_type": "stream",
          "name": "stdout",
          "text": [
            "Training Accuracy: 97.858%, Training Loss: 0.0770, Test Accuracy: 93.167%\n",
            "\n",
            "Epoch: 28\n"
          ]
        },
        {
          "output_type": "stream",
          "name": "stderr",
          "text": [
            "100%|██████████| 375/375 [00:09<00:00, 37.80it/s]\n",
            "100%|██████████| 47/47 [00:02<00:00, 23.22it/s]\n"
          ]
        },
        {
          "output_type": "stream",
          "name": "stdout",
          "text": [
            "Training Accuracy: 98.150%, Training Loss: 0.0667, Test Accuracy: 93.433%\n",
            "\n",
            "Epoch: 29\n"
          ]
        },
        {
          "output_type": "stream",
          "name": "stderr",
          "text": [
            "100%|██████████| 375/375 [00:10<00:00, 37.20it/s]\n",
            "100%|██████████| 47/47 [00:01<00:00, 23.62it/s]\n"
          ]
        },
        {
          "output_type": "stream",
          "name": "stdout",
          "text": [
            "Training Accuracy: 98.508%, Training Loss: 0.0572, Test Accuracy: 93.867%\n",
            "\n",
            "Epoch: 30\n"
          ]
        },
        {
          "output_type": "stream",
          "name": "stderr",
          "text": [
            "100%|██████████| 375/375 [00:09<00:00, 37.89it/s]\n",
            "100%|██████████| 47/47 [00:02<00:00, 22.25it/s]\n"
          ]
        },
        {
          "output_type": "stream",
          "name": "stdout",
          "text": [
            "Training Accuracy: 98.517%, Training Loss: 0.0537, Test Accuracy: 93.833%\n",
            "\n",
            "Epoch: 31\n"
          ]
        },
        {
          "output_type": "stream",
          "name": "stderr",
          "text": [
            "100%|██████████| 375/375 [00:09<00:00, 41.21it/s]\n",
            "100%|██████████| 47/47 [00:02<00:00, 16.73it/s]\n"
          ]
        },
        {
          "output_type": "stream",
          "name": "stdout",
          "text": [
            "Training Accuracy: 98.550%, Training Loss: 0.0493, Test Accuracy: 93.733%\n",
            "\n",
            "--------------------\n",
            "Model Saved\n",
            "--------------------\n",
            "Epoch: 32\n"
          ]
        },
        {
          "output_type": "stream",
          "name": "stderr",
          "text": [
            "100%|██████████| 375/375 [00:08<00:00, 42.19it/s]\n",
            "100%|██████████| 47/47 [00:02<00:00, 18.87it/s]\n"
          ]
        },
        {
          "output_type": "stream",
          "name": "stdout",
          "text": [
            "Training Accuracy: 98.333%, Training Loss: 0.0583, Test Accuracy: 94.033%\n",
            "\n",
            "Epoch: 33\n"
          ]
        },
        {
          "output_type": "stream",
          "name": "stderr",
          "text": [
            "100%|██████████| 375/375 [00:09<00:00, 39.39it/s]\n",
            "100%|██████████| 47/47 [00:02<00:00, 23.30it/s]\n"
          ]
        },
        {
          "output_type": "stream",
          "name": "stdout",
          "text": [
            "Training Accuracy: 98.575%, Training Loss: 0.0499, Test Accuracy: 92.667%\n",
            "\n",
            "Epoch: 34\n"
          ]
        },
        {
          "output_type": "stream",
          "name": "stderr",
          "text": [
            "100%|██████████| 375/375 [00:10<00:00, 37.17it/s]\n",
            "100%|██████████| 47/47 [00:02<00:00, 22.93it/s]\n"
          ]
        },
        {
          "output_type": "stream",
          "name": "stdout",
          "text": [
            "Training Accuracy: 98.683%, Training Loss: 0.0522, Test Accuracy: 93.367%\n",
            "\n",
            "Epoch: 35\n"
          ]
        },
        {
          "output_type": "stream",
          "name": "stderr",
          "text": [
            "100%|██████████| 375/375 [00:10<00:00, 37.06it/s]\n",
            "100%|██████████| 47/47 [00:01<00:00, 23.52it/s]\n"
          ]
        },
        {
          "output_type": "stream",
          "name": "stdout",
          "text": [
            "Training Accuracy: 98.408%, Training Loss: 0.0627, Test Accuracy: 93.067%\n",
            "\n",
            "Epoch: 36\n"
          ]
        },
        {
          "output_type": "stream",
          "name": "stderr",
          "text": [
            "100%|██████████| 375/375 [00:10<00:00, 36.81it/s]\n",
            "100%|██████████| 47/47 [00:02<00:00, 23.36it/s]\n"
          ]
        },
        {
          "output_type": "stream",
          "name": "stdout",
          "text": [
            "Training Accuracy: 99.000%, Training Loss: 0.0354, Test Accuracy: 93.233%\n",
            "\n",
            "--------------------\n",
            "Model Saved\n",
            "--------------------\n",
            "Epoch: 37\n"
          ]
        },
        {
          "output_type": "stream",
          "name": "stderr",
          "text": [
            "100%|██████████| 375/375 [00:10<00:00, 37.24it/s]\n",
            "100%|██████████| 47/47 [00:02<00:00, 23.37it/s]\n"
          ]
        },
        {
          "output_type": "stream",
          "name": "stdout",
          "text": [
            "Training Accuracy: 98.642%, Training Loss: 0.0473, Test Accuracy: 92.633%\n",
            "\n",
            "Epoch: 38\n"
          ]
        },
        {
          "output_type": "stream",
          "name": "stderr",
          "text": [
            "100%|██████████| 375/375 [00:10<00:00, 37.07it/s]\n",
            "100%|██████████| 47/47 [00:02<00:00, 23.13it/s]\n"
          ]
        },
        {
          "output_type": "stream",
          "name": "stdout",
          "text": [
            "Training Accuracy: 98.500%, Training Loss: 0.0572, Test Accuracy: 93.300%\n",
            "\n",
            "Epoch: 39\n"
          ]
        },
        {
          "output_type": "stream",
          "name": "stderr",
          "text": [
            "100%|██████████| 375/375 [00:09<00:00, 38.81it/s]\n",
            "100%|██████████| 47/47 [00:02<00:00, 19.05it/s]\n"
          ]
        },
        {
          "output_type": "stream",
          "name": "stdout",
          "text": [
            "Training Accuracy: 98.433%, Training Loss: 0.0595, Test Accuracy: 93.633%\n",
            "\n",
            "Epoch: 40\n"
          ]
        },
        {
          "output_type": "stream",
          "name": "stderr",
          "text": [
            "100%|██████████| 375/375 [00:09<00:00, 41.61it/s]\n",
            "100%|██████████| 47/47 [00:02<00:00, 16.30it/s]\n"
          ]
        },
        {
          "output_type": "stream",
          "name": "stdout",
          "text": [
            "Training Accuracy: 98.833%, Training Loss: 0.0465, Test Accuracy: 93.767%\n",
            "\n",
            "Epoch: 41\n"
          ]
        },
        {
          "output_type": "stream",
          "name": "stderr",
          "text": [
            "100%|██████████| 375/375 [00:09<00:00, 41.06it/s]\n",
            "100%|██████████| 47/47 [00:02<00:00, 20.48it/s]\n"
          ]
        },
        {
          "output_type": "stream",
          "name": "stdout",
          "text": [
            "Training Accuracy: 98.908%, Training Loss: 0.0349, Test Accuracy: 94.233%\n",
            "\n",
            "--------------------\n",
            "Model Saved\n",
            "--------------------\n",
            "Epoch: 42\n"
          ]
        },
        {
          "output_type": "stream",
          "name": "stderr",
          "text": [
            "100%|██████████| 375/375 [00:09<00:00, 38.52it/s]\n",
            "100%|██████████| 47/47 [00:02<00:00, 22.66it/s]\n"
          ]
        },
        {
          "output_type": "stream",
          "name": "stdout",
          "text": [
            "Training Accuracy: 99.075%, Training Loss: 0.0363, Test Accuracy: 94.133%\n",
            "\n",
            "Epoch: 43\n"
          ]
        },
        {
          "output_type": "stream",
          "name": "stderr",
          "text": [
            "100%|██████████| 375/375 [00:10<00:00, 37.41it/s]\n",
            "100%|██████████| 47/47 [00:02<00:00, 23.24it/s]\n"
          ]
        },
        {
          "output_type": "stream",
          "name": "stdout",
          "text": [
            "Training Accuracy: 98.583%, Training Loss: 0.0595, Test Accuracy: 93.100%\n",
            "\n",
            "Epoch: 44\n"
          ]
        },
        {
          "output_type": "stream",
          "name": "stderr",
          "text": [
            "100%|██████████| 375/375 [00:10<00:00, 37.28it/s]\n",
            "100%|██████████| 47/47 [00:02<00:00, 23.20it/s]\n"
          ]
        },
        {
          "output_type": "stream",
          "name": "stdout",
          "text": [
            "Training Accuracy: 98.683%, Training Loss: 0.0480, Test Accuracy: 93.900%\n",
            "\n",
            "Epoch: 45\n"
          ]
        },
        {
          "output_type": "stream",
          "name": "stderr",
          "text": [
            "100%|██████████| 375/375 [00:10<00:00, 37.11it/s]\n",
            "100%|██████████| 47/47 [00:02<00:00, 23.28it/s]\n"
          ]
        },
        {
          "output_type": "stream",
          "name": "stdout",
          "text": [
            "Training Accuracy: 99.242%, Training Loss: 0.0247, Test Accuracy: 94.333%\n",
            "\n",
            "--------------------\n",
            "Model Saved\n",
            "--------------------\n",
            "Epoch: 46\n"
          ]
        },
        {
          "output_type": "stream",
          "name": "stderr",
          "text": [
            "100%|██████████| 375/375 [00:10<00:00, 36.84it/s]\n",
            "100%|██████████| 47/47 [00:02<00:00, 22.46it/s]\n"
          ]
        },
        {
          "output_type": "stream",
          "name": "stdout",
          "text": [
            "Training Accuracy: 99.008%, Training Loss: 0.0386, Test Accuracy: 93.933%\n",
            "\n",
            "Epoch: 47\n"
          ]
        },
        {
          "output_type": "stream",
          "name": "stderr",
          "text": [
            "100%|██████████| 375/375 [00:09<00:00, 38.19it/s]\n",
            "100%|██████████| 47/47 [00:02<00:00, 20.64it/s]\n"
          ]
        },
        {
          "output_type": "stream",
          "name": "stdout",
          "text": [
            "Training Accuracy: 98.275%, Training Loss: 0.0654, Test Accuracy: 93.000%\n",
            "\n",
            "Epoch: 48\n"
          ]
        },
        {
          "output_type": "stream",
          "name": "stderr",
          "text": [
            "100%|██████████| 375/375 [00:08<00:00, 41.87it/s]\n",
            "100%|██████████| 47/47 [00:02<00:00, 16.79it/s]\n"
          ]
        },
        {
          "output_type": "stream",
          "name": "stdout",
          "text": [
            "Training Accuracy: 99.142%, Training Loss: 0.0312, Test Accuracy: 93.833%\n",
            "\n",
            "Epoch: 49\n"
          ]
        },
        {
          "output_type": "stream",
          "name": "stderr",
          "text": [
            "100%|██████████| 375/375 [00:09<00:00, 41.53it/s]\n",
            "100%|██████████| 47/47 [00:02<00:00, 20.11it/s]\n"
          ]
        },
        {
          "output_type": "stream",
          "name": "stdout",
          "text": [
            "Training Accuracy: 98.967%, Training Loss: 0.0358, Test Accuracy: 93.367%\n",
            "\n",
            "Epoch: 50\n"
          ]
        },
        {
          "output_type": "stream",
          "name": "stderr",
          "text": [
            "100%|██████████| 375/375 [00:09<00:00, 38.08it/s]\n",
            "100%|██████████| 47/47 [00:02<00:00, 23.35it/s]\n"
          ]
        },
        {
          "output_type": "stream",
          "name": "stdout",
          "text": [
            "Training Accuracy: 98.925%, Training Loss: 0.0443, Test Accuracy: 93.167%\n",
            "\n"
          ]
        }
      ]
    },
    {
      "cell_type": "code",
      "source": [
        "if os.path.exists('model.pth'):\n",
        "    model.load_state_dict(torch.load('model.pth'))\n",
        "\n",
        "test_acc = test(model, test_loader, embedding, DEVICE)\n",
        "print(f\"Test Accuracy: {test_acc*100:.3f}%\\n\")"
      ],
      "metadata": {
        "id": "epkZ5-lNp_3W",
        "colab": {
          "base_uri": "https://localhost:8080/"
        },
        "outputId": "5f6593a1-a6c9-4a39-a4a3-caead69cd27d"
      },
      "execution_count": null,
      "outputs": [
        {
          "output_type": "stream",
          "name": "stderr",
          "text": [
            "100%|██████████| 47/47 [00:02<00:00, 17.81it/s]"
          ]
        },
        {
          "output_type": "stream",
          "name": "stdout",
          "text": [
            "Test Accuracy: 94.333%\n",
            "\n"
          ]
        },
        {
          "output_type": "stream",
          "name": "stderr",
          "text": [
            "\n"
          ]
        }
      ]
    },
    {
      "cell_type": "code",
      "source": [],
      "metadata": {
        "id": "9ayqdqK3p_3W"
      },
      "execution_count": null,
      "outputs": []
    },
    {
      "cell_type": "code",
      "source": [],
      "metadata": {
        "id": "rLcjJjYop_3X"
      },
      "execution_count": null,
      "outputs": []
    },
    {
      "cell_type": "code",
      "source": [],
      "metadata": {
        "id": "4eUtbsa7p_3X"
      },
      "execution_count": null,
      "outputs": []
    },
    {
      "cell_type": "code",
      "source": [],
      "metadata": {
        "id": "k4V1a5M9p_3X"
      },
      "execution_count": null,
      "outputs": []
    },
    {
      "cell_type": "code",
      "source": [],
      "metadata": {
        "id": "XWm6gT3Qp_3X"
      },
      "execution_count": null,
      "outputs": []
    },
    {
      "cell_type": "code",
      "source": [],
      "metadata": {
        "id": "t1sFPNlsp_3X"
      },
      "execution_count": null,
      "outputs": []
    },
    {
      "cell_type": "code",
      "source": [],
      "metadata": {
        "id": "aKNtPPTBp_3X"
      },
      "execution_count": null,
      "outputs": []
    },
    {
      "cell_type": "code",
      "source": [],
      "metadata": {
        "id": "kbjZWc4up_3X"
      },
      "execution_count": null,
      "outputs": []
    },
    {
      "cell_type": "code",
      "source": [],
      "metadata": {
        "id": "QuNwDBomp_3X"
      },
      "execution_count": null,
      "outputs": []
    },
    {
      "cell_type": "markdown",
      "source": [
        "# embd_random100_df"
      ],
      "metadata": {
        "id": "wDDtP54Cp_3X"
      }
    },
    {
      "cell_type": "code",
      "source": [
        "model = CustomCNN(n_features=64).to(DEVICE)\n",
        "sum(p.numel() for p in model.parameters() if p.requires_grad)"
      ],
      "metadata": {
        "id": "J7vtq5Kkp_3X",
        "colab": {
          "base_uri": "https://localhost:8080/"
        },
        "outputId": "be531208-5bd0-49d9-8dcf-acd0369eede0"
      },
      "execution_count": null,
      "outputs": [
        {
          "output_type": "execute_result",
          "data": {
            "text/plain": [
              "274832"
            ]
          },
          "metadata": {},
          "execution_count": 109
        }
      ]
    },
    {
      "cell_type": "code",
      "source": [
        "optimizer = torch.optim.Adam(model.parameters())\n",
        "criterion = torch.nn.CrossEntropyLoss()"
      ],
      "metadata": {
        "id": "jt5p3ANvuHO1"
      },
      "execution_count": null,
      "outputs": []
    },
    {
      "cell_type": "code",
      "source": [
        "embedding = pd.read_csv('/content/drive/MyDrive/ZSClassification/ZeroShotHandwrittenCharacterRecognition/Bangla/Embd_VAEResnet/embd_random100_df.csv')\n",
        "\n",
        "embedding = embedding.iloc[:, :].values\n",
        "# embedding = embedding.iloc[:, :].values.T\n",
        "embedding = torch.from_numpy(embedding)\n",
        "embedding = embedding.to(DEVICE)\n",
        "embedding.shape, embedding"
      ],
      "metadata": {
        "id": "0QfTozNmp_3Y",
        "colab": {
          "base_uri": "https://localhost:8080/"
        },
        "outputId": "a7811529-75b6-41b2-f11a-9c1a2f5da9d1"
      },
      "execution_count": null,
      "outputs": [
        {
          "output_type": "execute_result",
          "data": {
            "text/plain": [
              "(torch.Size([64, 50]),\n",
              " tensor([[ 108.4383,  -22.3005,  145.7929,  ...,  100.2882,   35.2572,\n",
              "            15.7165],\n",
              "         [-312.5091, -204.9091,   36.7424,  ...,   -1.9190,  115.3466,\n",
              "           130.9405],\n",
              "         [   8.1623,  -53.3885,  -57.9161,  ...,  -77.0965,  -34.4083,\n",
              "           -35.8627],\n",
              "         ...,\n",
              "         [  12.7161,  132.6421,  181.2292,  ...,  -67.9865,  162.8966,\n",
              "            99.0253],\n",
              "         [ -56.5021, -119.2590,   44.8407,  ...,    3.9028,  264.7189,\n",
              "           106.3419],\n",
              "         [  -7.0143,  -66.1692,   81.4934,  ...,   58.8196,  -27.2409,\n",
              "            -5.7290]], device='cuda:0', dtype=torch.float64))"
            ]
          },
          "metadata": {},
          "execution_count": 111
        }
      ]
    },
    {
      "cell_type": "code",
      "metadata": {
        "id": "QwOiK0Jap_3Y",
        "colab": {
          "base_uri": "https://localhost:8080/"
        },
        "outputId": "53065181-004b-486c-d832-bf269cc75791"
      },
      "source": [
        "best_loss, best_acc = 1e10, 0\n",
        "\n",
        "for epoch in range(50+1):\n",
        "    print(f\"Epoch: {epoch}\")\n",
        "\n",
        "    # if os.path.exists('model.pth'):\n",
        "    #     model.load_state_dict(torch.load('model.pth'))\n",
        "\n",
        "    train_acc, train_loss = train(model, train_loader, embedding, criterion, optimizer, DEVICE)\n",
        "    test_acc = test(model, test_loader, embedding, DEVICE)\n",
        "    print(f\"Training Accuracy: {train_acc*100:.3f}%, Training Loss: {train_loss:.4f}, Test Accuracy: {test_acc*100:.3f}%\\n\")\n",
        "\n",
        "    # if epoch % 5 == 0 and test_acc > best_acc and train_loss < best_loss:\n",
        "    if train_loss < best_loss:\n",
        "        best_acc = test_acc\n",
        "        best_loss = train_loss\n",
        "        torch.save(model.state_dict(), \"model.pth\")\n",
        "        print(f\"{'-'*20}\\nModel Saved\\n{'-'*20}\")"
      ],
      "execution_count": null,
      "outputs": [
        {
          "output_type": "stream",
          "name": "stdout",
          "text": [
            "Epoch: 0\n"
          ]
        },
        {
          "output_type": "stream",
          "name": "stderr",
          "text": [
            "100%|██████████| 375/375 [00:08<00:00, 42.22it/s]\n",
            "100%|██████████| 47/47 [00:02<00:00, 19.58it/s]\n"
          ]
        },
        {
          "output_type": "stream",
          "name": "stdout",
          "text": [
            "Training Accuracy: 31.075%, Training Loss: 16.7511, Test Accuracy: 43.233%\n",
            "\n",
            "--------------------\n",
            "Model Saved\n",
            "--------------------\n",
            "Epoch: 1\n"
          ]
        },
        {
          "output_type": "stream",
          "name": "stderr",
          "text": [
            "100%|██████████| 375/375 [00:09<00:00, 39.34it/s]\n",
            "100%|██████████| 47/47 [00:02<00:00, 22.86it/s]\n"
          ]
        },
        {
          "output_type": "stream",
          "name": "stdout",
          "text": [
            "Training Accuracy: 50.367%, Training Loss: 2.6599, Test Accuracy: 55.400%\n",
            "\n",
            "--------------------\n",
            "Model Saved\n",
            "--------------------\n",
            "Epoch: 2\n"
          ]
        },
        {
          "output_type": "stream",
          "name": "stderr",
          "text": [
            "100%|██████████| 375/375 [00:10<00:00, 37.02it/s]\n",
            "100%|██████████| 47/47 [00:02<00:00, 22.83it/s]\n"
          ]
        },
        {
          "output_type": "stream",
          "name": "stdout",
          "text": [
            "Training Accuracy: 60.142%, Training Loss: 1.7715, Test Accuracy: 62.633%\n",
            "\n",
            "--------------------\n",
            "Model Saved\n",
            "--------------------\n",
            "Epoch: 3\n"
          ]
        },
        {
          "output_type": "stream",
          "name": "stderr",
          "text": [
            "100%|██████████| 375/375 [00:10<00:00, 37.09it/s]\n",
            "100%|██████████| 47/47 [00:02<00:00, 23.12it/s]\n"
          ]
        },
        {
          "output_type": "stream",
          "name": "stdout",
          "text": [
            "Training Accuracy: 66.183%, Training Loss: 1.4092, Test Accuracy: 65.733%\n",
            "\n",
            "--------------------\n",
            "Model Saved\n",
            "--------------------\n",
            "Epoch: 4\n"
          ]
        },
        {
          "output_type": "stream",
          "name": "stderr",
          "text": [
            "100%|██████████| 375/375 [00:09<00:00, 37.73it/s]\n",
            "100%|██████████| 47/47 [00:02<00:00, 23.20it/s]\n"
          ]
        },
        {
          "output_type": "stream",
          "name": "stdout",
          "text": [
            "Training Accuracy: 68.433%, Training Loss: 1.2956, Test Accuracy: 68.533%\n",
            "\n",
            "--------------------\n",
            "Model Saved\n",
            "--------------------\n",
            "Epoch: 5\n"
          ]
        },
        {
          "output_type": "stream",
          "name": "stderr",
          "text": [
            "100%|██████████| 375/375 [00:10<00:00, 36.92it/s]\n",
            "100%|██████████| 47/47 [00:02<00:00, 23.15it/s]\n"
          ]
        },
        {
          "output_type": "stream",
          "name": "stdout",
          "text": [
            "Training Accuracy: 70.000%, Training Loss: 1.2881, Test Accuracy: 72.100%\n",
            "\n",
            "--------------------\n",
            "Model Saved\n",
            "--------------------\n",
            "Epoch: 6\n"
          ]
        },
        {
          "output_type": "stream",
          "name": "stderr",
          "text": [
            "100%|██████████| 375/375 [00:10<00:00, 37.37it/s]\n",
            "100%|██████████| 47/47 [00:02<00:00, 22.52it/s]\n"
          ]
        },
        {
          "output_type": "stream",
          "name": "stdout",
          "text": [
            "Training Accuracy: 73.533%, Training Loss: 1.0951, Test Accuracy: 70.600%\n",
            "\n",
            "--------------------\n",
            "Model Saved\n",
            "--------------------\n",
            "Epoch: 7\n"
          ]
        },
        {
          "output_type": "stream",
          "name": "stderr",
          "text": [
            "100%|██████████| 375/375 [00:09<00:00, 40.89it/s]\n",
            "100%|██████████| 47/47 [00:02<00:00, 17.44it/s]\n"
          ]
        },
        {
          "output_type": "stream",
          "name": "stdout",
          "text": [
            "Training Accuracy: 74.667%, Training Loss: 1.0800, Test Accuracy: 70.700%\n",
            "\n",
            "--------------------\n",
            "Model Saved\n",
            "--------------------\n",
            "Epoch: 8\n"
          ]
        },
        {
          "output_type": "stream",
          "name": "stderr",
          "text": [
            "100%|██████████| 375/375 [00:08<00:00, 41.83it/s]\n",
            "100%|██████████| 47/47 [00:02<00:00, 18.61it/s]\n"
          ]
        },
        {
          "output_type": "stream",
          "name": "stdout",
          "text": [
            "Training Accuracy: 75.942%, Training Loss: 1.0121, Test Accuracy: 73.367%\n",
            "\n",
            "--------------------\n",
            "Model Saved\n",
            "--------------------\n",
            "Epoch: 9\n"
          ]
        },
        {
          "output_type": "stream",
          "name": "stderr",
          "text": [
            "100%|██████████| 375/375 [00:09<00:00, 40.13it/s]\n",
            "100%|██████████| 47/47 [00:02<00:00, 22.80it/s]\n"
          ]
        },
        {
          "output_type": "stream",
          "name": "stdout",
          "text": [
            "Training Accuracy: 76.167%, Training Loss: 1.0467, Test Accuracy: 76.333%\n",
            "\n",
            "Epoch: 10\n"
          ]
        },
        {
          "output_type": "stream",
          "name": "stderr",
          "text": [
            "100%|██████████| 375/375 [00:09<00:00, 37.52it/s]\n",
            "100%|██████████| 47/47 [00:01<00:00, 23.60it/s]\n"
          ]
        },
        {
          "output_type": "stream",
          "name": "stdout",
          "text": [
            "Training Accuracy: 78.500%, Training Loss: 0.9544, Test Accuracy: 78.867%\n",
            "\n",
            "--------------------\n",
            "Model Saved\n",
            "--------------------\n",
            "Epoch: 11\n"
          ]
        },
        {
          "output_type": "stream",
          "name": "stderr",
          "text": [
            "100%|██████████| 375/375 [00:10<00:00, 37.32it/s]\n",
            "100%|██████████| 47/47 [00:01<00:00, 23.51it/s]\n"
          ]
        },
        {
          "output_type": "stream",
          "name": "stdout",
          "text": [
            "Training Accuracy: 80.075%, Training Loss: 0.8677, Test Accuracy: 74.867%\n",
            "\n",
            "--------------------\n",
            "Model Saved\n",
            "--------------------\n",
            "Epoch: 12\n"
          ]
        },
        {
          "output_type": "stream",
          "name": "stderr",
          "text": [
            "100%|██████████| 375/375 [00:10<00:00, 37.29it/s]\n",
            "100%|██████████| 47/47 [00:02<00:00, 23.25it/s]\n"
          ]
        },
        {
          "output_type": "stream",
          "name": "stdout",
          "text": [
            "Training Accuracy: 81.058%, Training Loss: 0.8486, Test Accuracy: 80.633%\n",
            "\n",
            "--------------------\n",
            "Model Saved\n",
            "--------------------\n",
            "Epoch: 13\n"
          ]
        },
        {
          "output_type": "stream",
          "name": "stderr",
          "text": [
            "100%|██████████| 375/375 [00:09<00:00, 37.52it/s]\n",
            "100%|██████████| 47/47 [00:02<00:00, 23.37it/s]\n"
          ]
        },
        {
          "output_type": "stream",
          "name": "stdout",
          "text": [
            "Training Accuracy: 81.542%, Training Loss: 0.8283, Test Accuracy: 80.333%\n",
            "\n",
            "--------------------\n",
            "Model Saved\n",
            "--------------------\n",
            "Epoch: 14\n"
          ]
        },
        {
          "output_type": "stream",
          "name": "stderr",
          "text": [
            "100%|██████████| 375/375 [00:09<00:00, 37.57it/s]\n",
            "100%|██████████| 47/47 [00:02<00:00, 22.57it/s]\n"
          ]
        },
        {
          "output_type": "stream",
          "name": "stdout",
          "text": [
            "Training Accuracy: 82.917%, Training Loss: 0.7862, Test Accuracy: 81.600%\n",
            "\n",
            "--------------------\n",
            "Model Saved\n",
            "--------------------\n",
            "Epoch: 15\n"
          ]
        },
        {
          "output_type": "stream",
          "name": "stderr",
          "text": [
            "100%|██████████| 375/375 [00:09<00:00, 40.59it/s]\n",
            "100%|██████████| 47/47 [00:02<00:00, 17.11it/s]\n"
          ]
        },
        {
          "output_type": "stream",
          "name": "stdout",
          "text": [
            "Training Accuracy: 85.758%, Training Loss: 0.6255, Test Accuracy: 82.733%\n",
            "\n",
            "--------------------\n",
            "Model Saved\n",
            "--------------------\n",
            "Epoch: 16\n"
          ]
        },
        {
          "output_type": "stream",
          "name": "stderr",
          "text": [
            "100%|██████████| 375/375 [00:08<00:00, 42.09it/s]\n",
            "100%|██████████| 47/47 [00:02<00:00, 18.70it/s]\n"
          ]
        },
        {
          "output_type": "stream",
          "name": "stdout",
          "text": [
            "Training Accuracy: 85.400%, Training Loss: 0.6914, Test Accuracy: 83.267%\n",
            "\n",
            "Epoch: 17\n"
          ]
        },
        {
          "output_type": "stream",
          "name": "stderr",
          "text": [
            "100%|██████████| 375/375 [00:09<00:00, 39.57it/s]\n",
            "100%|██████████| 47/47 [00:01<00:00, 23.51it/s]\n"
          ]
        },
        {
          "output_type": "stream",
          "name": "stdout",
          "text": [
            "Training Accuracy: 84.550%, Training Loss: 0.7522, Test Accuracy: 82.300%\n",
            "\n",
            "Epoch: 18\n"
          ]
        },
        {
          "output_type": "stream",
          "name": "stderr",
          "text": [
            "100%|██████████| 375/375 [00:10<00:00, 37.17it/s]\n",
            "100%|██████████| 47/47 [00:02<00:00, 23.04it/s]\n"
          ]
        },
        {
          "output_type": "stream",
          "name": "stdout",
          "text": [
            "Training Accuracy: 88.525%, Training Loss: 0.5078, Test Accuracy: 84.833%\n",
            "\n",
            "--------------------\n",
            "Model Saved\n",
            "--------------------\n",
            "Epoch: 19\n"
          ]
        },
        {
          "output_type": "stream",
          "name": "stderr",
          "text": [
            "100%|██████████| 375/375 [00:09<00:00, 37.53it/s]\n",
            "100%|██████████| 47/47 [00:02<00:00, 22.91it/s]\n"
          ]
        },
        {
          "output_type": "stream",
          "name": "stdout",
          "text": [
            "Training Accuracy: 88.067%, Training Loss: 0.5533, Test Accuracy: 84.633%\n",
            "\n",
            "Epoch: 20\n"
          ]
        },
        {
          "output_type": "stream",
          "name": "stderr",
          "text": [
            "100%|██████████| 375/375 [00:09<00:00, 37.66it/s]\n",
            "100%|██████████| 47/47 [00:02<00:00, 23.18it/s]\n"
          ]
        },
        {
          "output_type": "stream",
          "name": "stdout",
          "text": [
            "Training Accuracy: 87.967%, Training Loss: 0.5967, Test Accuracy: 86.300%\n",
            "\n",
            "Epoch: 21\n"
          ]
        },
        {
          "output_type": "stream",
          "name": "stderr",
          "text": [
            "100%|██████████| 375/375 [00:10<00:00, 36.99it/s]\n",
            "100%|██████████| 47/47 [00:01<00:00, 23.53it/s]\n"
          ]
        },
        {
          "output_type": "stream",
          "name": "stdout",
          "text": [
            "Training Accuracy: 88.925%, Training Loss: 0.5535, Test Accuracy: 84.567%\n",
            "\n",
            "Epoch: 22\n"
          ]
        },
        {
          "output_type": "stream",
          "name": "stderr",
          "text": [
            "100%|██████████| 375/375 [00:10<00:00, 37.28it/s]\n",
            "100%|██████████| 47/47 [00:01<00:00, 23.78it/s]\n"
          ]
        },
        {
          "output_type": "stream",
          "name": "stdout",
          "text": [
            "Training Accuracy: 89.292%, Training Loss: 0.5184, Test Accuracy: 86.767%\n",
            "\n",
            "Epoch: 23\n"
          ]
        },
        {
          "output_type": "stream",
          "name": "stderr",
          "text": [
            "100%|██████████| 375/375 [00:09<00:00, 41.26it/s]\n",
            "100%|██████████| 47/47 [00:02<00:00, 16.92it/s]\n"
          ]
        },
        {
          "output_type": "stream",
          "name": "stdout",
          "text": [
            "Training Accuracy: 88.725%, Training Loss: 0.5637, Test Accuracy: 86.233%\n",
            "\n",
            "Epoch: 24\n"
          ]
        },
        {
          "output_type": "stream",
          "name": "stderr",
          "text": [
            "100%|██████████| 375/375 [00:08<00:00, 42.23it/s]\n",
            "100%|██████████| 47/47 [00:02<00:00, 17.95it/s]\n"
          ]
        },
        {
          "output_type": "stream",
          "name": "stdout",
          "text": [
            "Training Accuracy: 89.117%, Training Loss: 0.5676, Test Accuracy: 86.200%\n",
            "\n",
            "Epoch: 25\n"
          ]
        },
        {
          "output_type": "stream",
          "name": "stderr",
          "text": [
            "100%|██████████| 375/375 [00:09<00:00, 39.87it/s]\n",
            "100%|██████████| 47/47 [00:02<00:00, 23.13it/s]\n"
          ]
        },
        {
          "output_type": "stream",
          "name": "stdout",
          "text": [
            "Training Accuracy: 90.025%, Training Loss: 0.4865, Test Accuracy: 86.433%\n",
            "\n",
            "--------------------\n",
            "Model Saved\n",
            "--------------------\n",
            "Epoch: 26\n"
          ]
        },
        {
          "output_type": "stream",
          "name": "stderr",
          "text": [
            "100%|██████████| 375/375 [00:10<00:00, 37.20it/s]\n",
            "100%|██████████| 47/47 [00:02<00:00, 23.46it/s]\n"
          ]
        },
        {
          "output_type": "stream",
          "name": "stdout",
          "text": [
            "Training Accuracy: 92.083%, Training Loss: 0.4021, Test Accuracy: 88.900%\n",
            "\n",
            "--------------------\n",
            "Model Saved\n",
            "--------------------\n",
            "Epoch: 27\n"
          ]
        },
        {
          "output_type": "stream",
          "name": "stderr",
          "text": [
            "100%|██████████| 375/375 [00:10<00:00, 37.25it/s]\n",
            "100%|██████████| 47/47 [00:01<00:00, 23.99it/s]\n"
          ]
        },
        {
          "output_type": "stream",
          "name": "stdout",
          "text": [
            "Training Accuracy: 91.258%, Training Loss: 0.4729, Test Accuracy: 88.333%\n",
            "\n",
            "Epoch: 28\n"
          ]
        },
        {
          "output_type": "stream",
          "name": "stderr",
          "text": [
            "100%|██████████| 375/375 [00:09<00:00, 37.79it/s]\n",
            "100%|██████████| 47/47 [00:02<00:00, 23.24it/s]\n"
          ]
        },
        {
          "output_type": "stream",
          "name": "stdout",
          "text": [
            "Training Accuracy: 91.167%, Training Loss: 0.4976, Test Accuracy: 85.733%\n",
            "\n",
            "Epoch: 29\n"
          ]
        },
        {
          "output_type": "stream",
          "name": "stderr",
          "text": [
            "100%|██████████| 375/375 [00:10<00:00, 37.50it/s]\n",
            "100%|██████████| 47/47 [00:01<00:00, 23.73it/s]\n"
          ]
        },
        {
          "output_type": "stream",
          "name": "stdout",
          "text": [
            "Training Accuracy: 91.233%, Training Loss: 0.4768, Test Accuracy: 88.700%\n",
            "\n",
            "Epoch: 30\n"
          ]
        },
        {
          "output_type": "stream",
          "name": "stderr",
          "text": [
            "100%|██████████| 375/375 [00:09<00:00, 38.32it/s]\n",
            "100%|██████████| 47/47 [00:02<00:00, 21.61it/s]\n"
          ]
        },
        {
          "output_type": "stream",
          "name": "stdout",
          "text": [
            "Training Accuracy: 93.700%, Training Loss: 0.3290, Test Accuracy: 86.267%\n",
            "\n",
            "--------------------\n",
            "Model Saved\n",
            "--------------------\n",
            "Epoch: 31\n"
          ]
        },
        {
          "output_type": "stream",
          "name": "stderr",
          "text": [
            "100%|██████████| 375/375 [00:09<00:00, 41.49it/s]\n",
            "100%|██████████| 47/47 [00:02<00:00, 16.35it/s]\n"
          ]
        },
        {
          "output_type": "stream",
          "name": "stdout",
          "text": [
            "Training Accuracy: 92.375%, Training Loss: 0.4299, Test Accuracy: 89.767%\n",
            "\n",
            "Epoch: 32\n"
          ]
        },
        {
          "output_type": "stream",
          "name": "stderr",
          "text": [
            "100%|██████████| 375/375 [00:08<00:00, 42.41it/s]\n",
            "100%|██████████| 47/47 [00:02<00:00, 19.67it/s]\n"
          ]
        },
        {
          "output_type": "stream",
          "name": "stdout",
          "text": [
            "Training Accuracy: 93.200%, Training Loss: 0.3802, Test Accuracy: 87.833%\n",
            "\n",
            "Epoch: 33\n"
          ]
        },
        {
          "output_type": "stream",
          "name": "stderr",
          "text": [
            "100%|██████████| 375/375 [00:09<00:00, 39.36it/s]\n",
            "100%|██████████| 47/47 [00:02<00:00, 23.49it/s]\n"
          ]
        },
        {
          "output_type": "stream",
          "name": "stdout",
          "text": [
            "Training Accuracy: 92.417%, Training Loss: 0.4502, Test Accuracy: 88.967%\n",
            "\n",
            "Epoch: 34\n"
          ]
        },
        {
          "output_type": "stream",
          "name": "stderr",
          "text": [
            "100%|██████████| 375/375 [00:09<00:00, 37.53it/s]\n",
            "100%|██████████| 47/47 [00:02<00:00, 23.19it/s]\n"
          ]
        },
        {
          "output_type": "stream",
          "name": "stdout",
          "text": [
            "Training Accuracy: 92.708%, Training Loss: 0.4398, Test Accuracy: 88.700%\n",
            "\n",
            "Epoch: 35\n"
          ]
        },
        {
          "output_type": "stream",
          "name": "stderr",
          "text": [
            "100%|██████████| 375/375 [00:10<00:00, 37.14it/s]\n",
            "100%|██████████| 47/47 [00:02<00:00, 23.18it/s]\n"
          ]
        },
        {
          "output_type": "stream",
          "name": "stdout",
          "text": [
            "Training Accuracy: 93.425%, Training Loss: 0.3895, Test Accuracy: 89.800%\n",
            "\n",
            "Epoch: 36\n"
          ]
        },
        {
          "output_type": "stream",
          "name": "stderr",
          "text": [
            "100%|██████████| 375/375 [00:10<00:00, 37.27it/s]\n",
            "100%|██████████| 47/47 [00:02<00:00, 23.19it/s]\n"
          ]
        },
        {
          "output_type": "stream",
          "name": "stdout",
          "text": [
            "Training Accuracy: 94.817%, Training Loss: 0.3094, Test Accuracy: 88.833%\n",
            "\n",
            "--------------------\n",
            "Model Saved\n",
            "--------------------\n",
            "Epoch: 37\n"
          ]
        },
        {
          "output_type": "stream",
          "name": "stderr",
          "text": [
            "100%|██████████| 375/375 [00:10<00:00, 37.34it/s]\n",
            "100%|██████████| 47/47 [00:02<00:00, 23.11it/s]\n"
          ]
        },
        {
          "output_type": "stream",
          "name": "stdout",
          "text": [
            "Training Accuracy: 93.708%, Training Loss: 0.3987, Test Accuracy: 91.100%\n",
            "\n",
            "Epoch: 38\n"
          ]
        },
        {
          "output_type": "stream",
          "name": "stderr",
          "text": [
            "100%|██████████| 375/375 [00:09<00:00, 38.67it/s]\n",
            "100%|██████████| 47/47 [00:02<00:00, 21.00it/s]\n"
          ]
        },
        {
          "output_type": "stream",
          "name": "stdout",
          "text": [
            "Training Accuracy: 95.067%, Training Loss: 0.2747, Test Accuracy: 91.800%\n",
            "\n",
            "--------------------\n",
            "Model Saved\n",
            "--------------------\n",
            "Epoch: 39\n"
          ]
        },
        {
          "output_type": "stream",
          "name": "stderr",
          "text": [
            "100%|██████████| 375/375 [00:09<00:00, 40.58it/s]\n",
            "100%|██████████| 47/47 [00:02<00:00, 16.92it/s]\n"
          ]
        },
        {
          "output_type": "stream",
          "name": "stdout",
          "text": [
            "Training Accuracy: 94.825%, Training Loss: 0.3118, Test Accuracy: 92.267%\n",
            "\n",
            "Epoch: 40\n"
          ]
        },
        {
          "output_type": "stream",
          "name": "stderr",
          "text": [
            "100%|██████████| 375/375 [00:08<00:00, 42.45it/s]\n",
            "100%|██████████| 47/47 [00:02<00:00, 19.08it/s]\n"
          ]
        },
        {
          "output_type": "stream",
          "name": "stdout",
          "text": [
            "Training Accuracy: 96.050%, Training Loss: 0.2184, Test Accuracy: 91.433%\n",
            "\n",
            "--------------------\n",
            "Model Saved\n",
            "--------------------\n",
            "Epoch: 41\n"
          ]
        },
        {
          "output_type": "stream",
          "name": "stderr",
          "text": [
            "100%|██████████| 375/375 [00:09<00:00, 39.39it/s]\n",
            "100%|██████████| 47/47 [00:02<00:00, 23.04it/s]\n"
          ]
        },
        {
          "output_type": "stream",
          "name": "stdout",
          "text": [
            "Training Accuracy: 93.658%, Training Loss: 0.4365, Test Accuracy: 87.567%\n",
            "\n",
            "Epoch: 42\n"
          ]
        },
        {
          "output_type": "stream",
          "name": "stderr",
          "text": [
            "100%|██████████| 375/375 [00:10<00:00, 37.11it/s]\n",
            "100%|██████████| 47/47 [00:02<00:00, 22.85it/s]\n"
          ]
        },
        {
          "output_type": "stream",
          "name": "stdout",
          "text": [
            "Training Accuracy: 94.342%, Training Loss: 0.3865, Test Accuracy: 90.433%\n",
            "\n",
            "Epoch: 43\n"
          ]
        },
        {
          "output_type": "stream",
          "name": "stderr",
          "text": [
            "100%|██████████| 375/375 [00:09<00:00, 37.66it/s]\n",
            "100%|██████████| 47/47 [00:02<00:00, 23.21it/s]\n"
          ]
        },
        {
          "output_type": "stream",
          "name": "stdout",
          "text": [
            "Training Accuracy: 95.175%, Training Loss: 0.3158, Test Accuracy: 89.267%\n",
            "\n",
            "Epoch: 44\n"
          ]
        },
        {
          "output_type": "stream",
          "name": "stderr",
          "text": [
            "100%|██████████| 375/375 [00:10<00:00, 37.41it/s]\n",
            "100%|██████████| 47/47 [00:01<00:00, 23.68it/s]\n"
          ]
        },
        {
          "output_type": "stream",
          "name": "stdout",
          "text": [
            "Training Accuracy: 95.650%, Training Loss: 0.2924, Test Accuracy: 89.767%\n",
            "\n",
            "Epoch: 45\n"
          ]
        },
        {
          "output_type": "stream",
          "name": "stderr",
          "text": [
            "100%|██████████| 375/375 [00:09<00:00, 37.57it/s]\n",
            "100%|██████████| 47/47 [00:02<00:00, 23.43it/s]\n"
          ]
        },
        {
          "output_type": "stream",
          "name": "stdout",
          "text": [
            "Training Accuracy: 95.283%, Training Loss: 0.2912, Test Accuracy: 90.933%\n",
            "\n",
            "Epoch: 46\n"
          ]
        },
        {
          "output_type": "stream",
          "name": "stderr",
          "text": [
            "100%|██████████| 375/375 [00:09<00:00, 37.98it/s]\n",
            "100%|██████████| 47/47 [00:02<00:00, 20.38it/s]\n"
          ]
        },
        {
          "output_type": "stream",
          "name": "stdout",
          "text": [
            "Training Accuracy: 96.033%, Training Loss: 0.2486, Test Accuracy: 91.367%\n",
            "\n",
            "Epoch: 47\n"
          ]
        },
        {
          "output_type": "stream",
          "name": "stderr",
          "text": [
            "100%|██████████| 375/375 [00:08<00:00, 41.81it/s]\n",
            "100%|██████████| 47/47 [00:02<00:00, 16.45it/s]\n"
          ]
        },
        {
          "output_type": "stream",
          "name": "stdout",
          "text": [
            "Training Accuracy: 96.308%, Training Loss: 0.2504, Test Accuracy: 91.733%\n",
            "\n",
            "Epoch: 48\n"
          ]
        },
        {
          "output_type": "stream",
          "name": "stderr",
          "text": [
            "100%|██████████| 375/375 [00:08<00:00, 42.76it/s]\n",
            "100%|██████████| 47/47 [00:02<00:00, 20.82it/s]\n"
          ]
        },
        {
          "output_type": "stream",
          "name": "stdout",
          "text": [
            "Training Accuracy: 96.608%, Training Loss: 0.2202, Test Accuracy: 92.900%\n",
            "\n",
            "Epoch: 49\n"
          ]
        },
        {
          "output_type": "stream",
          "name": "stderr",
          "text": [
            "100%|██████████| 375/375 [00:09<00:00, 38.91it/s]\n",
            "100%|██████████| 47/47 [00:02<00:00, 23.48it/s]\n"
          ]
        },
        {
          "output_type": "stream",
          "name": "stdout",
          "text": [
            "Training Accuracy: 95.458%, Training Loss: 0.3326, Test Accuracy: 92.100%\n",
            "\n",
            "Epoch: 50\n"
          ]
        },
        {
          "output_type": "stream",
          "name": "stderr",
          "text": [
            "100%|██████████| 375/375 [00:09<00:00, 37.74it/s]\n",
            "100%|██████████| 47/47 [00:02<00:00, 22.96it/s]"
          ]
        },
        {
          "output_type": "stream",
          "name": "stdout",
          "text": [
            "Training Accuracy: 94.908%, Training Loss: 0.4005, Test Accuracy: 91.800%\n",
            "\n"
          ]
        },
        {
          "output_type": "stream",
          "name": "stderr",
          "text": [
            "\n"
          ]
        }
      ]
    },
    {
      "cell_type": "code",
      "source": [
        "if os.path.exists('model.pth'):\n",
        "    model.load_state_dict(torch.load('model.pth'))\n",
        "\n",
        "test_acc = test(model, test_loader, embedding, DEVICE)\n",
        "print(f\"Test Accuracy: {test_acc*100:.3f}%\\n\")"
      ],
      "metadata": {
        "id": "vQ_4CR6Gp_3Y",
        "colab": {
          "base_uri": "https://localhost:8080/"
        },
        "outputId": "9759b162-d0f4-45e4-aca3-a4c6c8cfed44"
      },
      "execution_count": null,
      "outputs": [
        {
          "output_type": "stream",
          "name": "stderr",
          "text": [
            "100%|██████████| 47/47 [00:02<00:00, 23.13it/s]"
          ]
        },
        {
          "output_type": "stream",
          "name": "stdout",
          "text": [
            "Test Accuracy: 91.433%\n",
            "\n"
          ]
        },
        {
          "output_type": "stream",
          "name": "stderr",
          "text": [
            "\n"
          ]
        }
      ]
    },
    {
      "cell_type": "code",
      "source": [],
      "metadata": {
        "id": "eYny-5tmp_3Y"
      },
      "execution_count": null,
      "outputs": []
    },
    {
      "cell_type": "code",
      "source": [],
      "metadata": {
        "id": "JQ5EIqTwp_3Y"
      },
      "execution_count": null,
      "outputs": []
    },
    {
      "cell_type": "code",
      "source": [],
      "metadata": {
        "id": "vtmJ-YJ9p_3Y"
      },
      "execution_count": null,
      "outputs": []
    },
    {
      "cell_type": "code",
      "source": [],
      "metadata": {
        "id": "H4Ji8LP0p_3Y"
      },
      "execution_count": null,
      "outputs": []
    },
    {
      "cell_type": "code",
      "source": [],
      "metadata": {
        "id": "fj4swFcYp_3Y"
      },
      "execution_count": null,
      "outputs": []
    },
    {
      "cell_type": "code",
      "source": [],
      "metadata": {
        "id": "a9AT6Qamp_3Z"
      },
      "execution_count": null,
      "outputs": []
    },
    {
      "cell_type": "code",
      "source": [],
      "metadata": {
        "id": "fDnN6KZUp_3Z"
      },
      "execution_count": null,
      "outputs": []
    },
    {
      "cell_type": "code",
      "source": [],
      "metadata": {
        "id": "iU8Gk522p_3Z"
      },
      "execution_count": null,
      "outputs": []
    },
    {
      "cell_type": "code",
      "source": [],
      "metadata": {
        "id": "UWP6HJG_p_3Z"
      },
      "execution_count": null,
      "outputs": []
    }
  ]
}
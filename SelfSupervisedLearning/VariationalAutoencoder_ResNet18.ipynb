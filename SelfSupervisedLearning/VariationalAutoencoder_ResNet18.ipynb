{
  "cells": [
    {
      "cell_type": "code",
      "execution_count": null,
      "metadata": {
        "colab": {
          "base_uri": "https://localhost:8080/"
        },
        "id": "VDhpR200aOKq",
        "outputId": "1611b446-db19-43f9-bd61-3faa5f0c2ab6"
      },
      "outputs": [
        {
          "output_type": "stream",
          "name": "stdout",
          "text": [
            "Mounted at /content/drive\n"
          ]
        }
      ],
      "source": [
        "from google.colab import drive\n",
        "drive.mount('/content/drive')"
      ]
    },
    {
      "cell_type": "code",
      "execution_count": null,
      "metadata": {
        "id": "cYWc19ow_W8H"
      },
      "outputs": [],
      "source": [
        "!unzip '/content/drive/MyDrive/ZSClassification/ZeroShotHandwrittenCharacterRecognition/BanglaNumtaDB/NumtaDB.zip'"
      ]
    },
    {
      "cell_type": "code",
      "execution_count": null,
      "metadata": {
        "id": "41d2MYUbAGDv"
      },
      "outputs": [],
      "source": [
        "import torch\n",
        "import torch.nn as nn\n",
        "import torch.nn.functional as F\n",
        "from torch.nn import functional as Flatten\n",
        "import torchvision\n",
        "from torch.utils.data import DataLoader\n",
        "from torchvision.datasets import ImageFolder\n",
        "from torchsummary import summary\n",
        "\n",
        "import os, glob\n",
        "import cv2\n",
        "import numpy as np\n",
        "import matplotlib.pyplot as plt\n",
        "import pandas as pd\n",
        "from tqdm import tqdm\n",
        "\n",
        "import matplotlib.pyplot as plt\n",
        "import numpy as np\n",
        "import random\n",
        "\n",
        "import warnings as wrn\n",
        "wrn.filterwarnings('ignore')"
      ]
    },
    {
      "cell_type": "code",
      "execution_count": null,
      "metadata": {
        "colab": {
          "base_uri": "https://localhost:8080/",
          "height": 493
        },
        "id": "mDYER23cQBrr",
        "outputId": "5e893b52-eb46-4be9-8f9a-ca5702691238"
      },
      "outputs": [
        {
          "output_type": "stream",
          "name": "stdout",
          "text": [
            "TrainDF: 15761\n",
            "TestDF: 3941\n",
            "\n",
            "\n"
          ]
        },
        {
          "output_type": "execute_result",
          "data": {
            "text/plain": [
              "                             filename  digit  0  1  2  3  4  5  6  7  8  9\n",
              "0      /content/training-a/a00000.png      5  0  0  0  0  0  1  0  0  0  0\n",
              "1      /content/training-a/a00001.png      3  0  0  0  1  0  0  0  0  0  0\n",
              "2      /content/training-a/a00002.png      1  0  1  0  0  0  0  0  0  0  0\n",
              "3      /content/training-a/a00003.png      7  0  0  0  0  0  0  0  1  0  0\n",
              "4      /content/training-a/a00004.png      0  1  0  0  0  0  0  0  0  0  0\n",
              "...                               ...    ... .. .. .. .. .. .. .. .. .. ..\n",
              "19697  /content/training-a/a19697.png      4  0  0  0  0  1  0  0  0  0  0\n",
              "19698  /content/training-a/a19698.png      3  0  0  0  1  0  0  0  0  0  0\n",
              "19699  /content/training-a/a19699.png      8  0  0  0  0  0  0  0  0  1  0\n",
              "19700  /content/training-a/a19700.png      3  0  0  0  1  0  0  0  0  0  0\n",
              "19701  /content/training-a/a19701.png      8  0  0  0  0  0  0  0  0  1  0\n",
              "\n",
              "[19702 rows x 12 columns]"
            ],
            "text/html": [
              "\n",
              "  <div id=\"df-48b9e85b-cc7c-4bed-8c9e-e7c2a746bb12\">\n",
              "    <div class=\"colab-df-container\">\n",
              "      <div>\n",
              "<style scoped>\n",
              "    .dataframe tbody tr th:only-of-type {\n",
              "        vertical-align: middle;\n",
              "    }\n",
              "\n",
              "    .dataframe tbody tr th {\n",
              "        vertical-align: top;\n",
              "    }\n",
              "\n",
              "    .dataframe thead th {\n",
              "        text-align: right;\n",
              "    }\n",
              "</style>\n",
              "<table border=\"1\" class=\"dataframe\">\n",
              "  <thead>\n",
              "    <tr style=\"text-align: right;\">\n",
              "      <th></th>\n",
              "      <th>filename</th>\n",
              "      <th>digit</th>\n",
              "      <th>0</th>\n",
              "      <th>1</th>\n",
              "      <th>2</th>\n",
              "      <th>3</th>\n",
              "      <th>4</th>\n",
              "      <th>5</th>\n",
              "      <th>6</th>\n",
              "      <th>7</th>\n",
              "      <th>8</th>\n",
              "      <th>9</th>\n",
              "    </tr>\n",
              "  </thead>\n",
              "  <tbody>\n",
              "    <tr>\n",
              "      <th>0</th>\n",
              "      <td>/content/training-a/a00000.png</td>\n",
              "      <td>5</td>\n",
              "      <td>0</td>\n",
              "      <td>0</td>\n",
              "      <td>0</td>\n",
              "      <td>0</td>\n",
              "      <td>0</td>\n",
              "      <td>1</td>\n",
              "      <td>0</td>\n",
              "      <td>0</td>\n",
              "      <td>0</td>\n",
              "      <td>0</td>\n",
              "    </tr>\n",
              "    <tr>\n",
              "      <th>1</th>\n",
              "      <td>/content/training-a/a00001.png</td>\n",
              "      <td>3</td>\n",
              "      <td>0</td>\n",
              "      <td>0</td>\n",
              "      <td>0</td>\n",
              "      <td>1</td>\n",
              "      <td>0</td>\n",
              "      <td>0</td>\n",
              "      <td>0</td>\n",
              "      <td>0</td>\n",
              "      <td>0</td>\n",
              "      <td>0</td>\n",
              "    </tr>\n",
              "    <tr>\n",
              "      <th>2</th>\n",
              "      <td>/content/training-a/a00002.png</td>\n",
              "      <td>1</td>\n",
              "      <td>0</td>\n",
              "      <td>1</td>\n",
              "      <td>0</td>\n",
              "      <td>0</td>\n",
              "      <td>0</td>\n",
              "      <td>0</td>\n",
              "      <td>0</td>\n",
              "      <td>0</td>\n",
              "      <td>0</td>\n",
              "      <td>0</td>\n",
              "    </tr>\n",
              "    <tr>\n",
              "      <th>3</th>\n",
              "      <td>/content/training-a/a00003.png</td>\n",
              "      <td>7</td>\n",
              "      <td>0</td>\n",
              "      <td>0</td>\n",
              "      <td>0</td>\n",
              "      <td>0</td>\n",
              "      <td>0</td>\n",
              "      <td>0</td>\n",
              "      <td>0</td>\n",
              "      <td>1</td>\n",
              "      <td>0</td>\n",
              "      <td>0</td>\n",
              "    </tr>\n",
              "    <tr>\n",
              "      <th>4</th>\n",
              "      <td>/content/training-a/a00004.png</td>\n",
              "      <td>0</td>\n",
              "      <td>1</td>\n",
              "      <td>0</td>\n",
              "      <td>0</td>\n",
              "      <td>0</td>\n",
              "      <td>0</td>\n",
              "      <td>0</td>\n",
              "      <td>0</td>\n",
              "      <td>0</td>\n",
              "      <td>0</td>\n",
              "      <td>0</td>\n",
              "    </tr>\n",
              "    <tr>\n",
              "      <th>...</th>\n",
              "      <td>...</td>\n",
              "      <td>...</td>\n",
              "      <td>...</td>\n",
              "      <td>...</td>\n",
              "      <td>...</td>\n",
              "      <td>...</td>\n",
              "      <td>...</td>\n",
              "      <td>...</td>\n",
              "      <td>...</td>\n",
              "      <td>...</td>\n",
              "      <td>...</td>\n",
              "      <td>...</td>\n",
              "    </tr>\n",
              "    <tr>\n",
              "      <th>19697</th>\n",
              "      <td>/content/training-a/a19697.png</td>\n",
              "      <td>4</td>\n",
              "      <td>0</td>\n",
              "      <td>0</td>\n",
              "      <td>0</td>\n",
              "      <td>0</td>\n",
              "      <td>1</td>\n",
              "      <td>0</td>\n",
              "      <td>0</td>\n",
              "      <td>0</td>\n",
              "      <td>0</td>\n",
              "      <td>0</td>\n",
              "    </tr>\n",
              "    <tr>\n",
              "      <th>19698</th>\n",
              "      <td>/content/training-a/a19698.png</td>\n",
              "      <td>3</td>\n",
              "      <td>0</td>\n",
              "      <td>0</td>\n",
              "      <td>0</td>\n",
              "      <td>1</td>\n",
              "      <td>0</td>\n",
              "      <td>0</td>\n",
              "      <td>0</td>\n",
              "      <td>0</td>\n",
              "      <td>0</td>\n",
              "      <td>0</td>\n",
              "    </tr>\n",
              "    <tr>\n",
              "      <th>19699</th>\n",
              "      <td>/content/training-a/a19699.png</td>\n",
              "      <td>8</td>\n",
              "      <td>0</td>\n",
              "      <td>0</td>\n",
              "      <td>0</td>\n",
              "      <td>0</td>\n",
              "      <td>0</td>\n",
              "      <td>0</td>\n",
              "      <td>0</td>\n",
              "      <td>0</td>\n",
              "      <td>1</td>\n",
              "      <td>0</td>\n",
              "    </tr>\n",
              "    <tr>\n",
              "      <th>19700</th>\n",
              "      <td>/content/training-a/a19700.png</td>\n",
              "      <td>3</td>\n",
              "      <td>0</td>\n",
              "      <td>0</td>\n",
              "      <td>0</td>\n",
              "      <td>1</td>\n",
              "      <td>0</td>\n",
              "      <td>0</td>\n",
              "      <td>0</td>\n",
              "      <td>0</td>\n",
              "      <td>0</td>\n",
              "      <td>0</td>\n",
              "    </tr>\n",
              "    <tr>\n",
              "      <th>19701</th>\n",
              "      <td>/content/training-a/a19701.png</td>\n",
              "      <td>8</td>\n",
              "      <td>0</td>\n",
              "      <td>0</td>\n",
              "      <td>0</td>\n",
              "      <td>0</td>\n",
              "      <td>0</td>\n",
              "      <td>0</td>\n",
              "      <td>0</td>\n",
              "      <td>0</td>\n",
              "      <td>1</td>\n",
              "      <td>0</td>\n",
              "    </tr>\n",
              "  </tbody>\n",
              "</table>\n",
              "<p>19702 rows × 12 columns</p>\n",
              "</div>\n",
              "      <button class=\"colab-df-convert\" onclick=\"convertToInteractive('df-48b9e85b-cc7c-4bed-8c9e-e7c2a746bb12')\"\n",
              "              title=\"Convert this dataframe to an interactive table.\"\n",
              "              style=\"display:none;\">\n",
              "        \n",
              "  <svg xmlns=\"http://www.w3.org/2000/svg\" height=\"24px\"viewBox=\"0 0 24 24\"\n",
              "       width=\"24px\">\n",
              "    <path d=\"M0 0h24v24H0V0z\" fill=\"none\"/>\n",
              "    <path d=\"M18.56 5.44l.94 2.06.94-2.06 2.06-.94-2.06-.94-.94-2.06-.94 2.06-2.06.94zm-11 1L8.5 8.5l.94-2.06 2.06-.94-2.06-.94L8.5 2.5l-.94 2.06-2.06.94zm10 10l.94 2.06.94-2.06 2.06-.94-2.06-.94-.94-2.06-.94 2.06-2.06.94z\"/><path d=\"M17.41 7.96l-1.37-1.37c-.4-.4-.92-.59-1.43-.59-.52 0-1.04.2-1.43.59L10.3 9.45l-7.72 7.72c-.78.78-.78 2.05 0 2.83L4 21.41c.39.39.9.59 1.41.59.51 0 1.02-.2 1.41-.59l7.78-7.78 2.81-2.81c.8-.78.8-2.07 0-2.86zM5.41 20L4 18.59l7.72-7.72 1.47 1.35L5.41 20z\"/>\n",
              "  </svg>\n",
              "      </button>\n",
              "      \n",
              "  <style>\n",
              "    .colab-df-container {\n",
              "      display:flex;\n",
              "      flex-wrap:wrap;\n",
              "      gap: 12px;\n",
              "    }\n",
              "\n",
              "    .colab-df-convert {\n",
              "      background-color: #E8F0FE;\n",
              "      border: none;\n",
              "      border-radius: 50%;\n",
              "      cursor: pointer;\n",
              "      display: none;\n",
              "      fill: #1967D2;\n",
              "      height: 32px;\n",
              "      padding: 0 0 0 0;\n",
              "      width: 32px;\n",
              "    }\n",
              "\n",
              "    .colab-df-convert:hover {\n",
              "      background-color: #E2EBFA;\n",
              "      box-shadow: 0px 1px 2px rgba(60, 64, 67, 0.3), 0px 1px 3px 1px rgba(60, 64, 67, 0.15);\n",
              "      fill: #174EA6;\n",
              "    }\n",
              "\n",
              "    [theme=dark] .colab-df-convert {\n",
              "      background-color: #3B4455;\n",
              "      fill: #D2E3FC;\n",
              "    }\n",
              "\n",
              "    [theme=dark] .colab-df-convert:hover {\n",
              "      background-color: #434B5C;\n",
              "      box-shadow: 0px 1px 3px 1px rgba(0, 0, 0, 0.15);\n",
              "      filter: drop-shadow(0px 1px 2px rgba(0, 0, 0, 0.3));\n",
              "      fill: #FFFFFF;\n",
              "    }\n",
              "  </style>\n",
              "\n",
              "      <script>\n",
              "        const buttonEl =\n",
              "          document.querySelector('#df-48b9e85b-cc7c-4bed-8c9e-e7c2a746bb12 button.colab-df-convert');\n",
              "        buttonEl.style.display =\n",
              "          google.colab.kernel.accessAllowed ? 'block' : 'none';\n",
              "\n",
              "        async function convertToInteractive(key) {\n",
              "          const element = document.querySelector('#df-48b9e85b-cc7c-4bed-8c9e-e7c2a746bb12');\n",
              "          const dataTable =\n",
              "            await google.colab.kernel.invokeFunction('convertToInteractive',\n",
              "                                                     [key], {});\n",
              "          if (!dataTable) return;\n",
              "\n",
              "          const docLinkHtml = 'Like what you see? Visit the ' +\n",
              "            '<a target=\"_blank\" href=https://colab.research.google.com/notebooks/data_table.ipynb>data table notebook</a>'\n",
              "            + ' to learn more about interactive tables.';\n",
              "          element.innerHTML = '';\n",
              "          dataTable['output_type'] = 'display_data';\n",
              "          await google.colab.output.renderOutput(dataTable, element);\n",
              "          const docLink = document.createElement('div');\n",
              "          docLink.innerHTML = docLinkHtml;\n",
              "          element.appendChild(docLink);\n",
              "        }\n",
              "      </script>\n",
              "    </div>\n",
              "  </div>\n",
              "  "
            ]
          },
          "metadata": {},
          "execution_count": 4
        }
      ],
      "source": [
        "from sklearn.model_selection import train_test_split\n",
        "\n",
        "def full_path(path):\n",
        "    return '/content/training-a/' + path\n",
        "\n",
        "df = pd.read_csv('/content/training-a.csv')\n",
        "df['filename'] = df['filename'].apply(full_path)\n",
        "df = df.iloc[:, [0, 3]]\n",
        "df = pd.concat([df, pd.get_dummies(df['digit'])], axis = 1)\n",
        "\n",
        "\n",
        "train_df, test_df = train_test_split(df, test_size=0.2, random_state=32)\n",
        "train_df = train_df.reset_index(drop=True)\n",
        "test_df = test_df.reset_index(drop=True)\n",
        "\n",
        "print(f\"TrainDF: {len(train_df)}\\nTestDF: {len(test_df)}\\n\\n\")\n",
        "\n",
        "df"
      ]
    },
    {
      "cell_type": "code",
      "execution_count": null,
      "metadata": {
        "id": "GXpmUjaEAGGT"
      },
      "outputs": [],
      "source": [
        "ROOT_DIR = '/content/training-a/'\n",
        "CHECKPOINT = ''\n",
        "\n",
        "DEVICE = 'cuda' if torch.cuda.is_available() else 'cpu'\n",
        "\n",
        "IMG_SIZE = (64, 64)\n",
        "BATCH_SIZE = 32\n",
        "\n",
        "N_CLASSES = len(set(df['digit'].values))  # 10"
      ]
    },
    {
      "cell_type": "code",
      "execution_count": null,
      "metadata": {
        "colab": {
          "base_uri": "https://localhost:8080/",
          "height": 469
        },
        "id": "ZvCBBRp3EKP_",
        "outputId": "4256528e-065b-494f-c0f7-fcd3ac95e53d"
      },
      "outputs": [
        {
          "output_type": "stream",
          "name": "stdout",
          "text": [
            "(180, 180, 3)\n"
          ]
        },
        {
          "output_type": "display_data",
          "data": {
            "text/plain": [
              "<Figure size 640x480 with 1 Axes>"
            ],
            "image/png": "[encoded data removed]"
          },
          "metadata": {}
        }
      ],
      "source": [
        "import matplotlib.pyplot as plt\n",
        "import random\n",
        "\n",
        "def imshow():\n",
        "    idx = random.randint(0, len(train_df))\n",
        "    img = plt.imread(train_df['filename'][idx])\n",
        "    label = train_df['digit'][idx]\n",
        "    print(img.shape)\n",
        "    plt.imshow(img)\n",
        "    plt.title(label)\n",
        "    plt.show()\n",
        "\n",
        "imshow()"
      ]
    },
    {
      "cell_type": "code",
      "execution_count": null,
      "metadata": {
        "id": "pRxM_qkLfTyE"
      },
      "outputs": [],
      "source": [
        "class CustomDatasetLoader(torch.utils.data.Dataset):\n",
        "\n",
        "    def __init__(self, df, transform=None):\n",
        "        self.df = df\n",
        "        self.transform = transform\n",
        "\n",
        "    def __len__(self):\n",
        "        return len(self.df)\n",
        "\n",
        "    def __getitem__(self, idx):\n",
        "        path = self.df.iloc[idx, 0]\n",
        "        img = cv2.imread(path)\n",
        "\n",
        "        if self.transform:\n",
        "            img = self.transform(img)\n",
        "\n",
        "        label = torch.from_numpy(self.df.iloc[idx, 2:].values.astype(float))\n",
        "\n",
        "        return (img, label)"
      ]
    },
    {
      "cell_type": "code",
      "execution_count": null,
      "metadata": {
        "id": "RSZ4WPDdNL6L"
      },
      "outputs": [],
      "source": [
        "transform = torchvision.transforms.Compose([\n",
        "    torchvision.transforms.ToPILImage(),\n",
        "    # torchvision.transforms.CenterCrop((150, 150)),\n",
        "    torchvision.transforms.Resize(IMG_SIZE),\n",
        "    torchvision.transforms.ToTensor(),\n",
        "])\n",
        "\n",
        "train_data = CustomDatasetLoader(df = train_df, transform = transform)\n",
        "test_data = CustomDatasetLoader(df = test_df, transform = transform)\n",
        "all_data = CustomDatasetLoader(df = df.iloc[:, :-1], transform = transform)\n",
        "\n",
        "train_loader = torch.utils.data.DataLoader(\n",
        "    dataset = train_data, batch_size = 32, shuffle = True, num_workers = 1, drop_last = True\n",
        ")\n",
        "test_loader = torch.utils.data.DataLoader(\n",
        "    dataset = test_data, batch_size = 64, shuffle = True, num_workers = 1, drop_last = False\n",
        ")\n",
        "all_data_loader = torch.utils.data.DataLoader(\n",
        "    dataset = all_data, batch_size = 64, shuffle = True, num_workers = 1, drop_last = False\n",
        ")"
      ]
    },
    {
      "cell_type": "code",
      "execution_count": null,
      "metadata": {
        "colab": {
          "base_uri": "https://localhost:8080/"
        },
        "id": "kg5DGE0yNL8h",
        "outputId": "231a50ec-9f49-4cbb-bc3f-e51ffdfd5a6e"
      },
      "outputs": [
        {
          "output_type": "stream",
          "name": "stdout",
          "text": [
            "torch.Size([64, 3, 64, 64])\n",
            "torch.Size([64, 9])\n"
          ]
        },
        {
          "output_type": "execute_result",
          "data": {
            "text/plain": [
              "19702"
            ]
          },
          "metadata": {},
          "execution_count": 9
        }
      ],
      "source": [
        "for (images, labels) in all_data_loader:\n",
        "    print(images.shape)\n",
        "    print(labels.shape)\n",
        "    break\n",
        "\n",
        "all_data.__len__()"
      ]
    },
    {
      "cell_type": "code",
      "execution_count": null,
      "metadata": {
        "id": "lW_M0cmSPG8O"
      },
      "outputs": [],
      "source": [
        "# conv out = ((i+2p-k)/s)+1\n",
        "# convtrans out = (i-1)*s+k-2p"
      ]
    },
    {
      "cell_type": "code",
      "execution_count": null,
      "metadata": {
        "id": "HVj9PRRQi9T6"
      },
      "outputs": [],
      "source": [
        "class ResizeConv2d(nn.Module):\n",
        "    def __init__(self, in_channels, out_channels, kernel_size, scale_factor, mode='nearest'):\n",
        "        super().__init__()\n",
        "        self.scale_factor = scale_factor\n",
        "        self.mode = mode\n",
        "        self.conv = nn.Conv2d(in_channels, out_channels, kernel_size, stride=1, padding=1)\n",
        "\n",
        "    def forward(self, x):\n",
        "        x = F.interpolate(x, scale_factor=self.scale_factor, mode=self.mode)\n",
        "        x = self.conv(x)\n",
        "        return x"
      ]
    },
    {
      "cell_type": "code",
      "execution_count": null,
      "metadata": {
        "id": "J6A8c738i9Wj"
      },
      "outputs": [],
      "source": [
        "class BasicBlockEnc(nn.Module):\n",
        "\n",
        "    def __init__(self, in_planes, stride=1):\n",
        "        super().__init__()\n",
        "\n",
        "        planes = in_planes*stride\n",
        "\n",
        "        self.conv1 = nn.Conv2d(in_planes, planes, kernel_size=3, stride=stride, padding=1, bias=False)\n",
        "        self.bn1 = nn.BatchNorm2d(planes)\n",
        "        self.conv2 = nn.Conv2d(planes, planes, kernel_size=3, stride=1, padding=1, bias=False)\n",
        "        self.bn2 = nn.BatchNorm2d(planes)\n",
        "\n",
        "        if stride == 1:\n",
        "            self.shortcut = nn.Sequential()\n",
        "        else:\n",
        "            self.shortcut = nn.Sequential(\n",
        "                nn.Conv2d(in_planes, planes, kernel_size=1, stride=stride, bias=False),\n",
        "                nn.BatchNorm2d(planes)\n",
        "            )\n",
        "\n",
        "    def forward(self, x):\n",
        "        out = torch.relu(self.bn1(self.conv1(x)))\n",
        "        out = self.bn2(self.conv2(out))\n",
        "        out += self.shortcut(x)\n",
        "        out = torch.relu(out)\n",
        "        return out"
      ]
    },
    {
      "cell_type": "code",
      "execution_count": null,
      "metadata": {
        "id": "rGFocHwvjFln"
      },
      "outputs": [],
      "source": [
        "class BasicBlockDec(nn.Module):\n",
        "\n",
        "    def __init__(self, in_planes, stride=1):\n",
        "        super().__init__()\n",
        "\n",
        "        planes = int(in_planes/stride)\n",
        "\n",
        "        self.conv2 = nn.Conv2d(in_planes, in_planes, kernel_size=3, stride=1, padding=1, bias=False)\n",
        "        self.bn2 = nn.BatchNorm2d(in_planes)\n",
        "        # self.bn1 could have been placed here, but that messes up the order of the layers when printing the class\n",
        "\n",
        "        if stride == 1:\n",
        "            self.conv1 = nn.Conv2d(in_planes, planes, kernel_size=3, stride=1, padding=1, bias=False)\n",
        "            self.bn1 = nn.BatchNorm2d(planes)\n",
        "            self.shortcut = nn.Sequential()\n",
        "        else:\n",
        "            self.conv1 = ResizeConv2d(in_planes, planes, kernel_size=3, scale_factor=stride)\n",
        "            self.bn1 = nn.BatchNorm2d(planes)\n",
        "            self.shortcut = nn.Sequential(\n",
        "                ResizeConv2d(in_planes, planes, kernel_size=3, scale_factor=stride),\n",
        "                nn.BatchNorm2d(planes)\n",
        "            )\n",
        "\n",
        "    def forward(self, x):\n",
        "        out = torch.relu(self.bn2(self.conv2(x)))\n",
        "        out = self.bn1(self.conv1(out))\n",
        "        out += self.shortcut(x)\n",
        "        out = torch.relu(out)\n",
        "        return out"
      ]
    },
    {
      "cell_type": "code",
      "execution_count": null,
      "metadata": {
        "id": "4nTfe-ItjFoJ"
      },
      "outputs": [],
      "source": [
        "class ResNet18Enc(nn.Module):\n",
        "\n",
        "    def __init__(self, num_Blocks=[2,2,2,2], z_dim=10, nc=3):\n",
        "        super().__init__()\n",
        "        self.in_planes = 64\n",
        "        self.z_dim = z_dim\n",
        "        self.conv1 = nn.Conv2d(nc, 64, kernel_size=3, stride=2, padding=1, bias=False)\n",
        "        self.bn1 = nn.BatchNorm2d(64)\n",
        "        self.layer1 = self._make_layer(BasicBlockEnc, 64, num_Blocks[0], stride=1)\n",
        "        self.layer2 = self._make_layer(BasicBlockEnc, 128, num_Blocks[1], stride=2)\n",
        "        self.layer3 = self._make_layer(BasicBlockEnc, 256, num_Blocks[2], stride=2)\n",
        "        self.layer4 = self._make_layer(BasicBlockEnc, 512, num_Blocks[3], stride=2)\n",
        "        self.linear = nn.Linear(512, 2 * z_dim)\n",
        "\n",
        "    def _make_layer(self, BasicBlockEnc, planes, num_Blocks, stride):\n",
        "        strides = [stride] + [1]*(num_Blocks-1)\n",
        "        layers = []\n",
        "        for stride in strides:\n",
        "            layers += [BasicBlockEnc(self.in_planes, stride)]\n",
        "            self.in_planes = planes\n",
        "        return nn.Sequential(*layers)\n",
        "\n",
        "    def forward(self, x):\n",
        "        x = torch.relu(self.bn1(self.conv1(x)))\n",
        "        x = self.layer1(x)\n",
        "        x = self.layer2(x)\n",
        "        x = self.layer3(x)\n",
        "        x = self.layer4(x)\n",
        "        x = F.adaptive_avg_pool2d(x, 1)\n",
        "        x = x.view(x.size(0), -1)\n",
        "        x = self.linear(x)\n",
        "        mu = x[:, :self.z_dim]\n",
        "        logvar = x[:, self.z_dim:]\n",
        "        return mu, logvar"
      ]
    },
    {
      "cell_type": "code",
      "execution_count": null,
      "metadata": {
        "id": "s2d2KNffjFqy"
      },
      "outputs": [],
      "source": [
        "class ResNet18Dec(nn.Module):\n",
        "\n",
        "    def __init__(self, num_Blocks=[2,2,2,2], z_dim=10, nc=3):\n",
        "        super().__init__()\n",
        "        self.in_planes = 512\n",
        "\n",
        "        self.linear = nn.Linear(z_dim, 512)\n",
        "\n",
        "        self.layer4 = self._make_layer(BasicBlockDec, 256, num_Blocks[3], stride=2)\n",
        "        self.layer3 = self._make_layer(BasicBlockDec, 128, num_Blocks[2], stride=2)\n",
        "        self.layer2 = self._make_layer(BasicBlockDec, 64, num_Blocks[1], stride=2)\n",
        "        self.layer1 = self._make_layer(BasicBlockDec, 64, num_Blocks[0], stride=1)\n",
        "        self.conv1 = ResizeConv2d(64, nc, kernel_size=3, scale_factor=2)\n",
        "\n",
        "    def _make_layer(self, BasicBlockDec, planes, num_Blocks, stride):\n",
        "        strides = [stride] + [1]*(num_Blocks-1)\n",
        "        layers = []\n",
        "        for stride in reversed(strides):\n",
        "            layers += [BasicBlockDec(self.in_planes, stride)]\n",
        "        self.in_planes = planes\n",
        "        return nn.Sequential(*layers)\n",
        "\n",
        "    def forward(self, z):\n",
        "        x = self.linear(z)\n",
        "        x = x.view(z.size(0), 512, 1, 1)\n",
        "        x = F.interpolate(x, scale_factor=4)\n",
        "        x = self.layer4(x)\n",
        "        x = self.layer3(x)\n",
        "        x = self.layer2(x)\n",
        "        x = self.layer1(x)\n",
        "        x = torch.sigmoid(self.conv1(x))\n",
        "        x = x.view(x.size(0), 3, 64, 64)\n",
        "        return x"
      ]
    },
    {
      "cell_type": "code",
      "execution_count": null,
      "metadata": {
        "id": "MzioKLVgj2a4"
      },
      "outputs": [],
      "source": [
        "# z, mu, logvar, recon_imgs"
      ]
    },
    {
      "cell_type": "code",
      "execution_count": null,
      "metadata": {
        "id": "d1AU5HeIjFtG"
      },
      "outputs": [],
      "source": [
        "class VAE(nn.Module):\n",
        "\n",
        "    def __init__(self, z_dim):\n",
        "        super().__init__()\n",
        "        self.encoder = ResNet18Enc(z_dim=z_dim)\n",
        "        self.decoder = ResNet18Dec(z_dim=z_dim)\n",
        "\n",
        "    def forward(self, x):\n",
        "        mean, logvar = self.encoder(x)\n",
        "        z = self.reparameterize(mean, logvar)\n",
        "        x = self.decoder(z)\n",
        "        return z, mean, logvar, x\n",
        "\n",
        "    @staticmethod\n",
        "    def reparameterize(mean, logvar):\n",
        "        std = torch.exp(logvar / 2) # in log-space, squareroot is divide by two\n",
        "        epsilon = torch.randn_like(std)\n",
        "        return epsilon * std + mean"
      ]
    },
    {
      "cell_type": "code",
      "execution_count": null,
      "metadata": {
        "id": "vV89_eTui9dY"
      },
      "outputs": [],
      "source": []
    },
    {
      "cell_type": "code",
      "execution_count": null,
      "metadata": {
        "id": "oEQ2koYLAEYP"
      },
      "outputs": [],
      "source": [
        "model = VAE(z_dim = 64).to(DEVICE)"
      ]
    },
    {
      "cell_type": "code",
      "execution_count": null,
      "metadata": {
        "colab": {
          "base_uri": "https://localhost:8080/"
        },
        "id": "jwExzoRiAEa_",
        "outputId": "67ee5f17-b0e0-44be-b969-17110c6f99ee"
      },
      "outputs": [
        {
          "output_type": "stream",
          "name": "stdout",
          "text": [
            "----------------------------------------------------------------\n",
            "        Layer (type)               Output Shape         Param #\n",
            "================================================================\n",
            "            Conv2d-1           [-1, 64, 16, 16]           1,728\n",
            "       BatchNorm2d-2           [-1, 64, 16, 16]             128\n",
            "            Conv2d-3           [-1, 64, 16, 16]          36,864\n",
            "       BatchNorm2d-4           [-1, 64, 16, 16]             128\n",
            "            Conv2d-5           [-1, 64, 16, 16]          36,864\n",
            "       BatchNorm2d-6           [-1, 64, 16, 16]             128\n",
            "     BasicBlockEnc-7           [-1, 64, 16, 16]               0\n",
            "            Conv2d-8           [-1, 64, 16, 16]          36,864\n",
            "       BatchNorm2d-9           [-1, 64, 16, 16]             128\n",
            "           Conv2d-10           [-1, 64, 16, 16]          36,864\n",
            "      BatchNorm2d-11           [-1, 64, 16, 16]             128\n",
            "    BasicBlockEnc-12           [-1, 64, 16, 16]               0\n",
            "           Conv2d-13            [-1, 128, 8, 8]          73,728\n",
            "      BatchNorm2d-14            [-1, 128, 8, 8]             256\n",
            "           Conv2d-15            [-1, 128, 8, 8]         147,456\n",
            "      BatchNorm2d-16            [-1, 128, 8, 8]             256\n",
            "           Conv2d-17            [-1, 128, 8, 8]           8,192\n",
            "      BatchNorm2d-18            [-1, 128, 8, 8]             256\n",
            "    BasicBlockEnc-19            [-1, 128, 8, 8]               0\n",
            "           Conv2d-20            [-1, 128, 8, 8]         147,456\n",
            "      BatchNorm2d-21            [-1, 128, 8, 8]             256\n",
            "           Conv2d-22            [-1, 128, 8, 8]         147,456\n",
            "      BatchNorm2d-23            [-1, 128, 8, 8]             256\n",
            "    BasicBlockEnc-24            [-1, 128, 8, 8]               0\n",
            "           Conv2d-25            [-1, 256, 4, 4]         294,912\n",
            "      BatchNorm2d-26            [-1, 256, 4, 4]             512\n",
            "           Conv2d-27            [-1, 256, 4, 4]         589,824\n",
            "      BatchNorm2d-28            [-1, 256, 4, 4]             512\n",
            "           Conv2d-29            [-1, 256, 4, 4]          32,768\n",
            "      BatchNorm2d-30            [-1, 256, 4, 4]             512\n",
            "    BasicBlockEnc-31            [-1, 256, 4, 4]               0\n",
            "           Conv2d-32            [-1, 256, 4, 4]         589,824\n",
            "      BatchNorm2d-33            [-1, 256, 4, 4]             512\n",
            "           Conv2d-34            [-1, 256, 4, 4]         589,824\n",
            "      BatchNorm2d-35            [-1, 256, 4, 4]             512\n",
            "    BasicBlockEnc-36            [-1, 256, 4, 4]               0\n",
            "           Conv2d-37            [-1, 512, 2, 2]       1,179,648\n",
            "      BatchNorm2d-38            [-1, 512, 2, 2]           1,024\n",
            "           Conv2d-39            [-1, 512, 2, 2]       2,359,296\n",
            "      BatchNorm2d-40            [-1, 512, 2, 2]           1,024\n",
            "           Conv2d-41            [-1, 512, 2, 2]         131,072\n",
            "      BatchNorm2d-42            [-1, 512, 2, 2]           1,024\n",
            "    BasicBlockEnc-43            [-1, 512, 2, 2]               0\n",
            "           Conv2d-44            [-1, 512, 2, 2]       2,359,296\n",
            "      BatchNorm2d-45            [-1, 512, 2, 2]           1,024\n",
            "           Conv2d-46            [-1, 512, 2, 2]       2,359,296\n",
            "      BatchNorm2d-47            [-1, 512, 2, 2]           1,024\n",
            "    BasicBlockEnc-48            [-1, 512, 2, 2]               0\n",
            "           Linear-49                  [-1, 128]          65,664\n",
            "      ResNet18Enc-50       [[-1, 64], [-1, 64]]               0\n",
            "           Linear-51                  [-1, 512]          33,280\n",
            "           Conv2d-52            [-1, 512, 4, 4]       2,359,296\n",
            "      BatchNorm2d-53            [-1, 512, 4, 4]           1,024\n",
            "           Conv2d-54            [-1, 512, 4, 4]       2,359,296\n",
            "      BatchNorm2d-55            [-1, 512, 4, 4]           1,024\n",
            "    BasicBlockDec-56            [-1, 512, 4, 4]               0\n",
            "           Conv2d-57            [-1, 512, 4, 4]       2,359,296\n",
            "      BatchNorm2d-58            [-1, 512, 4, 4]           1,024\n",
            "           Conv2d-59            [-1, 256, 8, 8]       1,179,904\n",
            "     ResizeConv2d-60            [-1, 256, 8, 8]               0\n",
            "      BatchNorm2d-61            [-1, 256, 8, 8]             512\n",
            "           Conv2d-62            [-1, 256, 8, 8]       1,179,904\n",
            "     ResizeConv2d-63            [-1, 256, 8, 8]               0\n",
            "      BatchNorm2d-64            [-1, 256, 8, 8]             512\n",
            "    BasicBlockDec-65            [-1, 256, 8, 8]               0\n",
            "           Conv2d-66            [-1, 256, 8, 8]         589,824\n",
            "      BatchNorm2d-67            [-1, 256, 8, 8]             512\n",
            "           Conv2d-68            [-1, 256, 8, 8]         589,824\n",
            "      BatchNorm2d-69            [-1, 256, 8, 8]             512\n",
            "    BasicBlockDec-70            [-1, 256, 8, 8]               0\n",
            "           Conv2d-71            [-1, 256, 8, 8]         589,824\n",
            "      BatchNorm2d-72            [-1, 256, 8, 8]             512\n",
            "           Conv2d-73          [-1, 128, 16, 16]         295,040\n",
            "     ResizeConv2d-74          [-1, 128, 16, 16]               0\n",
            "      BatchNorm2d-75          [-1, 128, 16, 16]             256\n",
            "           Conv2d-76          [-1, 128, 16, 16]         295,040\n",
            "     ResizeConv2d-77          [-1, 128, 16, 16]               0\n",
            "      BatchNorm2d-78          [-1, 128, 16, 16]             256\n",
            "    BasicBlockDec-79          [-1, 128, 16, 16]               0\n",
            "           Conv2d-80          [-1, 128, 16, 16]         147,456\n",
            "      BatchNorm2d-81          [-1, 128, 16, 16]             256\n",
            "           Conv2d-82          [-1, 128, 16, 16]         147,456\n",
            "      BatchNorm2d-83          [-1, 128, 16, 16]             256\n",
            "    BasicBlockDec-84          [-1, 128, 16, 16]               0\n",
            "           Conv2d-85          [-1, 128, 16, 16]         147,456\n",
            "      BatchNorm2d-86          [-1, 128, 16, 16]             256\n",
            "           Conv2d-87           [-1, 64, 32, 32]          73,792\n",
            "     ResizeConv2d-88           [-1, 64, 32, 32]               0\n",
            "      BatchNorm2d-89           [-1, 64, 32, 32]             128\n",
            "           Conv2d-90           [-1, 64, 32, 32]          73,792\n",
            "     ResizeConv2d-91           [-1, 64, 32, 32]               0\n",
            "      BatchNorm2d-92           [-1, 64, 32, 32]             128\n",
            "    BasicBlockDec-93           [-1, 64, 32, 32]               0\n",
            "           Conv2d-94           [-1, 64, 32, 32]          36,864\n",
            "      BatchNorm2d-95           [-1, 64, 32, 32]             128\n",
            "           Conv2d-96           [-1, 64, 32, 32]          36,864\n",
            "      BatchNorm2d-97           [-1, 64, 32, 32]             128\n",
            "    BasicBlockDec-98           [-1, 64, 32, 32]               0\n",
            "           Conv2d-99           [-1, 64, 32, 32]          36,864\n",
            "     BatchNorm2d-100           [-1, 64, 32, 32]             128\n",
            "          Conv2d-101           [-1, 64, 32, 32]          36,864\n",
            "     BatchNorm2d-102           [-1, 64, 32, 32]             128\n",
            "   BasicBlockDec-103           [-1, 64, 32, 32]               0\n",
            "          Conv2d-104            [-1, 3, 64, 64]           1,731\n",
            "    ResizeConv2d-105            [-1, 3, 64, 64]               0\n",
            "     ResNet18Dec-106            [-1, 3, 64, 64]               0\n",
            "================================================================\n",
            "Total params: 23,811,843\n",
            "Trainable params: 23,811,843\n",
            "Non-trainable params: 0\n",
            "----------------------------------------------------------------\n",
            "Input size (MB): 0.01\n",
            "Forward/backward pass size (MB): 17.25\n",
            "Params size (MB): 90.83\n",
            "Estimated Total Size (MB): 108.10\n",
            "----------------------------------------------------------------\n"
          ]
        }
      ],
      "source": [
        "summary(model, (3, 32, 32))"
      ]
    },
    {
      "cell_type": "code",
      "execution_count": null,
      "metadata": {
        "id": "pT2YHnAHAEdj"
      },
      "outputs": [],
      "source": [
        "optimizer = torch.optim.Adam(model.parameters(), lr=1e-3)"
      ]
    },
    {
      "cell_type": "code",
      "execution_count": null,
      "metadata": {
        "id": "58se1YVDAEgS"
      },
      "outputs": [],
      "source": [
        "def criterion(recon_img, img, mu, logvar):\n",
        "    # recon_loss = F.mse_loss(recon_img, img)\n",
        "    recon_loss = F.binary_cross_entropy(recon_img, img, size_average=False)\n",
        "    KLD = torch.mean(-0.5 * torch.sum(1 + logvar - mu**2 - logvar.exp(), dim=1), dim=0)\n",
        "    return recon_loss+KLD, recon_loss, KLD"
      ]
    },
    {
      "cell_type": "code",
      "execution_count": null,
      "metadata": {
        "id": "U7LwQvwNAEix"
      },
      "outputs": [],
      "source": [
        "def train(model, iterator, optimizer, criterion):\n",
        "    model.train()\n",
        "    epoch_loss = 0\n",
        "    for idx, batch in enumerate(tqdm(iterator)):\n",
        "        images, _ = batch\n",
        "        images = images.to(DEVICE)\n",
        "        optimizer.zero_grad()\n",
        "        z, mu, logvar, recon_imgs = model(images)\n",
        "        loss, recon_loss, kld_loss = criterion(recon_imgs, images, mu, logvar)\n",
        "        loss.backward()\n",
        "        optimizer.step()\n",
        "        torch.nn.utils.clip_grad_norm_(parameters=model.parameters(), max_norm=1)\n",
        "        epoch_loss += loss.item()\n",
        "    return epoch_loss / len(iterator)"
      ]
    },
    {
      "cell_type": "code",
      "execution_count": null,
      "metadata": {
        "colab": {
          "base_uri": "https://localhost:8080/"
        },
        "id": "sfKWqYcXAElP",
        "outputId": "8cc0cbff-4e7e-4bef-de82-b2a3f40f0753"
      },
      "outputs": [
        {
          "output_type": "stream",
          "name": "stdout",
          "text": [
            "Epoch - 0\n"
          ]
        },
        {
          "output_type": "stream",
          "name": "stderr",
          "text": [
            "100%|██████████| 492/492 [00:51<00:00,  9.50it/s]\n"
          ]
        },
        {
          "output_type": "stream",
          "name": "stdout",
          "text": [
            "Loss - 149407.16\n",
            "\n",
            "--------------------\n",
            "Model Saved\n",
            "--------------------\n",
            "Epoch - 1\n"
          ]
        },
        {
          "output_type": "stream",
          "name": "stderr",
          "text": [
            "100%|██████████| 492/492 [00:50<00:00,  9.67it/s]\n"
          ]
        },
        {
          "output_type": "stream",
          "name": "stdout",
          "text": [
            "Loss - 149092.85\n",
            "\n",
            "Epoch - 2\n"
          ]
        },
        {
          "output_type": "stream",
          "name": "stderr",
          "text": [
            "100%|██████████| 492/492 [00:50<00:00,  9.83it/s]\n"
          ]
        },
        {
          "output_type": "stream",
          "name": "stdout",
          "text": [
            "Loss - 149133.83\n",
            "\n",
            "Epoch - 3\n"
          ]
        },
        {
          "output_type": "stream",
          "name": "stderr",
          "text": [
            "100%|██████████| 492/492 [00:49<00:00, 10.01it/s]\n"
          ]
        },
        {
          "output_type": "stream",
          "name": "stdout",
          "text": [
            "Loss - 149135.87\n",
            "\n",
            "Epoch - 4\n"
          ]
        },
        {
          "output_type": "stream",
          "name": "stderr",
          "text": [
            "100%|██████████| 492/492 [00:49<00:00,  9.97it/s]\n"
          ]
        },
        {
          "output_type": "stream",
          "name": "stdout",
          "text": [
            "Loss - 149191.07\n",
            "\n",
            "Epoch - 5\n"
          ]
        },
        {
          "output_type": "stream",
          "name": "stderr",
          "text": [
            "100%|██████████| 492/492 [00:48<00:00, 10.18it/s]\n"
          ]
        },
        {
          "output_type": "stream",
          "name": "stdout",
          "text": [
            "Loss - 149190.76\n",
            "\n",
            "Epoch - 6\n"
          ]
        },
        {
          "output_type": "stream",
          "name": "stderr",
          "text": [
            "100%|██████████| 492/492 [00:49<00:00,  9.89it/s]\n"
          ]
        },
        {
          "output_type": "stream",
          "name": "stdout",
          "text": [
            "Loss - 149169.57\n",
            "\n",
            "Epoch - 7\n"
          ]
        },
        {
          "output_type": "stream",
          "name": "stderr",
          "text": [
            "100%|██████████| 492/492 [00:48<00:00, 10.19it/s]\n"
          ]
        },
        {
          "output_type": "stream",
          "name": "stdout",
          "text": [
            "Loss - 149199.41\n",
            "\n",
            "Epoch - 8\n"
          ]
        },
        {
          "output_type": "stream",
          "name": "stderr",
          "text": [
            "100%|██████████| 492/492 [00:51<00:00,  9.61it/s]\n"
          ]
        },
        {
          "output_type": "stream",
          "name": "stdout",
          "text": [
            "Loss - 149231.66\n",
            "\n",
            "Epoch - 9\n"
          ]
        },
        {
          "output_type": "stream",
          "name": "stderr",
          "text": [
            "100%|██████████| 492/492 [00:48<00:00, 10.11it/s]\n"
          ]
        },
        {
          "output_type": "stream",
          "name": "stdout",
          "text": [
            "Loss - 149223.79\n",
            "\n",
            "Epoch - 10\n"
          ]
        },
        {
          "output_type": "stream",
          "name": "stderr",
          "text": [
            "100%|██████████| 492/492 [00:49<00:00,  9.85it/s]\n"
          ]
        },
        {
          "output_type": "stream",
          "name": "stdout",
          "text": [
            "Loss - 149246.75\n",
            "\n",
            "--------------------\n",
            "Model Saved\n",
            "--------------------\n",
            "Epoch - 11\n"
          ]
        },
        {
          "output_type": "stream",
          "name": "stderr",
          "text": [
            "100%|██████████| 492/492 [00:48<00:00, 10.06it/s]\n"
          ]
        },
        {
          "output_type": "stream",
          "name": "stdout",
          "text": [
            "Loss - 148948.15\n",
            "\n",
            "Epoch - 12\n"
          ]
        },
        {
          "output_type": "stream",
          "name": "stderr",
          "text": [
            "100%|██████████| 492/492 [00:49<00:00,  9.89it/s]\n"
          ]
        },
        {
          "output_type": "stream",
          "name": "stdout",
          "text": [
            "Loss - 148980.39\n",
            "\n",
            "Epoch - 13\n"
          ]
        },
        {
          "output_type": "stream",
          "name": "stderr",
          "text": [
            "100%|██████████| 492/492 [00:48<00:00, 10.17it/s]\n"
          ]
        },
        {
          "output_type": "stream",
          "name": "stdout",
          "text": [
            "Loss - 148946.75\n",
            "\n",
            "Epoch - 14\n"
          ]
        },
        {
          "output_type": "stream",
          "name": "stderr",
          "text": [
            "100%|██████████| 492/492 [00:49<00:00,  9.99it/s]\n"
          ]
        },
        {
          "output_type": "stream",
          "name": "stdout",
          "text": [
            "Loss - 148991.26\n",
            "\n",
            "Epoch - 15\n"
          ]
        },
        {
          "output_type": "stream",
          "name": "stderr",
          "text": [
            "100%|██████████| 492/492 [00:48<00:00, 10.13it/s]\n"
          ]
        },
        {
          "output_type": "stream",
          "name": "stdout",
          "text": [
            "Loss - 148990.39\n",
            "\n",
            "Epoch - 16\n"
          ]
        },
        {
          "output_type": "stream",
          "name": "stderr",
          "text": [
            "100%|██████████| 492/492 [00:48<00:00, 10.10it/s]\n"
          ]
        },
        {
          "output_type": "stream",
          "name": "stdout",
          "text": [
            "Loss - 149005.66\n",
            "\n",
            "Epoch - 17\n"
          ]
        },
        {
          "output_type": "stream",
          "name": "stderr",
          "text": [
            "100%|██████████| 492/492 [00:49<00:00,  9.97it/s]\n"
          ]
        },
        {
          "output_type": "stream",
          "name": "stdout",
          "text": [
            "Loss - 149008.52\n",
            "\n",
            "Epoch - 18\n"
          ]
        },
        {
          "output_type": "stream",
          "name": "stderr",
          "text": [
            "100%|██████████| 492/492 [00:49<00:00,  9.93it/s]\n"
          ]
        },
        {
          "output_type": "stream",
          "name": "stdout",
          "text": [
            "Loss - 148971.44\n",
            "\n",
            "Epoch - 19\n"
          ]
        },
        {
          "output_type": "stream",
          "name": "stderr",
          "text": [
            "100%|██████████| 492/492 [00:49<00:00,  9.99it/s]\n"
          ]
        },
        {
          "output_type": "stream",
          "name": "stdout",
          "text": [
            "Loss - 148989.96\n",
            "\n",
            "Epoch - 20\n"
          ]
        },
        {
          "output_type": "stream",
          "name": "stderr",
          "text": [
            "100%|██████████| 492/492 [00:49<00:00, 10.00it/s]\n"
          ]
        },
        {
          "output_type": "stream",
          "name": "stdout",
          "text": [
            "Loss - 149006.17\n",
            "\n",
            "--------------------\n",
            "Model Saved\n",
            "--------------------\n",
            "Epoch - 21\n"
          ]
        },
        {
          "output_type": "stream",
          "name": "stderr",
          "text": [
            "100%|██████████| 492/492 [00:48<00:00, 10.06it/s]\n"
          ]
        },
        {
          "output_type": "stream",
          "name": "stdout",
          "text": [
            "Loss - 148698.77\n",
            "\n",
            "Epoch - 22\n"
          ]
        },
        {
          "output_type": "stream",
          "name": "stderr",
          "text": [
            "100%|██████████| 492/492 [00:48<00:00, 10.12it/s]\n"
          ]
        },
        {
          "output_type": "stream",
          "name": "stdout",
          "text": [
            "Loss - 148699.98\n",
            "\n",
            "Epoch - 23\n"
          ]
        },
        {
          "output_type": "stream",
          "name": "stderr",
          "text": [
            "100%|██████████| 492/492 [00:48<00:00, 10.06it/s]\n"
          ]
        },
        {
          "output_type": "stream",
          "name": "stdout",
          "text": [
            "Loss - 148720.20\n",
            "\n",
            "Epoch - 24\n"
          ]
        },
        {
          "output_type": "stream",
          "name": "stderr",
          "text": [
            "100%|██████████| 492/492 [00:48<00:00, 10.23it/s]\n"
          ]
        },
        {
          "output_type": "stream",
          "name": "stdout",
          "text": [
            "Loss - 148690.59\n",
            "\n",
            "Epoch - 25\n"
          ]
        },
        {
          "output_type": "stream",
          "name": "stderr",
          "text": [
            "100%|██████████| 492/492 [00:49<00:00,  9.99it/s]\n"
          ]
        },
        {
          "output_type": "stream",
          "name": "stdout",
          "text": [
            "Loss - 148707.03\n",
            "\n",
            "Epoch - 26\n"
          ]
        },
        {
          "output_type": "stream",
          "name": "stderr",
          "text": [
            "100%|██████████| 492/492 [00:48<00:00, 10.20it/s]\n"
          ]
        },
        {
          "output_type": "stream",
          "name": "stdout",
          "text": [
            "Loss - 148690.20\n",
            "\n",
            "Epoch - 27\n"
          ]
        },
        {
          "output_type": "stream",
          "name": "stderr",
          "text": [
            "100%|██████████| 492/492 [00:49<00:00,  9.96it/s]\n"
          ]
        },
        {
          "output_type": "stream",
          "name": "stdout",
          "text": [
            "Loss - 148704.78\n",
            "\n",
            "Epoch - 28\n"
          ]
        },
        {
          "output_type": "stream",
          "name": "stderr",
          "text": [
            "100%|██████████| 492/492 [00:48<00:00, 10.19it/s]\n"
          ]
        },
        {
          "output_type": "stream",
          "name": "stdout",
          "text": [
            "Loss - 148703.93\n",
            "\n",
            "Epoch - 29\n"
          ]
        },
        {
          "output_type": "stream",
          "name": "stderr",
          "text": [
            "100%|██████████| 492/492 [00:49<00:00, 10.01it/s]\n"
          ]
        },
        {
          "output_type": "stream",
          "name": "stdout",
          "text": [
            "Loss - 148728.49\n",
            "\n",
            "Epoch - 30\n"
          ]
        },
        {
          "output_type": "stream",
          "name": "stderr",
          "text": [
            "100%|██████████| 492/492 [00:48<00:00, 10.06it/s]\n"
          ]
        },
        {
          "output_type": "stream",
          "name": "stdout",
          "text": [
            "Loss - 148742.96\n",
            "\n",
            "--------------------\n",
            "Model Saved\n",
            "--------------------\n",
            "Epoch - 31\n"
          ]
        },
        {
          "output_type": "stream",
          "name": "stderr",
          "text": [
            "100%|██████████| 492/492 [00:50<00:00,  9.80it/s]\n"
          ]
        },
        {
          "output_type": "stream",
          "name": "stdout",
          "text": [
            "Loss - 148487.56\n",
            "\n",
            "Epoch - 32\n"
          ]
        },
        {
          "output_type": "stream",
          "name": "stderr",
          "text": [
            "100%|██████████| 492/492 [00:50<00:00,  9.70it/s]\n"
          ]
        },
        {
          "output_type": "stream",
          "name": "stdout",
          "text": [
            "Loss - 148496.84\n",
            "\n",
            "Epoch - 33\n"
          ]
        },
        {
          "output_type": "stream",
          "name": "stderr",
          "text": [
            "100%|██████████| 492/492 [00:50<00:00,  9.66it/s]\n"
          ]
        },
        {
          "output_type": "stream",
          "name": "stdout",
          "text": [
            "Loss - 148498.56\n",
            "\n",
            "Epoch - 34\n"
          ]
        },
        {
          "output_type": "stream",
          "name": "stderr",
          "text": [
            "100%|██████████| 492/492 [00:48<00:00, 10.15it/s]\n"
          ]
        },
        {
          "output_type": "stream",
          "name": "stdout",
          "text": [
            "Loss - 148498.65\n",
            "\n",
            "Epoch - 35\n"
          ]
        },
        {
          "output_type": "stream",
          "name": "stderr",
          "text": [
            "100%|██████████| 492/492 [00:49<00:00,  9.97it/s]\n"
          ]
        },
        {
          "output_type": "stream",
          "name": "stdout",
          "text": [
            "Loss - 148506.47\n",
            "\n",
            "Epoch - 36\n"
          ]
        },
        {
          "output_type": "stream",
          "name": "stderr",
          "text": [
            "100%|██████████| 492/492 [00:48<00:00, 10.14it/s]\n"
          ]
        },
        {
          "output_type": "stream",
          "name": "stdout",
          "text": [
            "Loss - 148504.13\n",
            "\n",
            "Epoch - 37\n"
          ]
        },
        {
          "output_type": "stream",
          "name": "stderr",
          "text": [
            "100%|██████████| 492/492 [00:49<00:00,  9.97it/s]\n"
          ]
        },
        {
          "output_type": "stream",
          "name": "stdout",
          "text": [
            "Loss - 148477.76\n",
            "\n",
            "Epoch - 38\n"
          ]
        },
        {
          "output_type": "stream",
          "name": "stderr",
          "text": [
            "100%|██████████| 492/492 [00:48<00:00, 10.13it/s]\n"
          ]
        },
        {
          "output_type": "stream",
          "name": "stdout",
          "text": [
            "Loss - 148515.48\n",
            "\n",
            "Epoch - 39\n"
          ]
        },
        {
          "output_type": "stream",
          "name": "stderr",
          "text": [
            "100%|██████████| 492/492 [00:48<00:00, 10.09it/s]\n"
          ]
        },
        {
          "output_type": "stream",
          "name": "stdout",
          "text": [
            "Loss - 148502.18\n",
            "\n",
            "Epoch - 40\n"
          ]
        },
        {
          "output_type": "stream",
          "name": "stderr",
          "text": [
            " 94%|█████████▍| 464/492 [00:46<00:02, 11.02it/s]Exception ignored in: <function _MultiProcessingDataLoaderIter.__del__ at 0x7f63ee7a6cb0>\n",
            "Traceback (most recent call last):\n",
            "  File \"/usr/local/lib/python3.10/dist-packages/torch/utils/data/dataloader.py\", line 1478, in __del__\n",
            "    self._shutdown_workers()  File \"/usr/local/lib/python3.10/dist-packages/torch/utils/data/dataloader.py\", line 1461, in _shutdown_workers\n",
            "\n",
            "    if w.is_alive():\n",
            "  File \"/usr/lib/python3.10/multiprocessing/process.py\", line 160, in is_alive\n",
            "    assert self._parent_pid == os.getpid(), 'can only test a child process'\n",
            "AssertionError: can only test a child process\n",
            "100%|██████████| 492/492 [00:49<00:00,  9.92it/s]\n"
          ]
        },
        {
          "output_type": "stream",
          "name": "stdout",
          "text": [
            "Loss - 148504.06\n",
            "\n",
            "--------------------\n",
            "Model Saved\n",
            "--------------------\n",
            "Epoch - 41\n"
          ]
        },
        {
          "output_type": "stream",
          "name": "stderr",
          "text": [
            " 73%|███████▎  | 358/492 [00:35<00:17,  7.60it/s]Exception ignored in: <function _MultiProcessingDataLoaderIter.__del__ at 0x7f63ee7a6cb0>\n",
            "Traceback (most recent call last):\n",
            "  File \"/usr/local/lib/python3.10/dist-packages/torch/utils/data/dataloader.py\", line 1478, in __del__\n",
            "    self._shutdown_workers()\n",
            "  File \"/usr/local/lib/python3.10/dist-packages/torch/utils/data/dataloader.py\", line 1461, in _shutdown_workers\n",
            "    if w.is_alive():\n",
            "  File \"/usr/lib/python3.10/multiprocessing/process.py\", line 160, in is_alive\n",
            "    assert self._parent_pid == os.getpid(), 'can only test a child process'\n",
            "AssertionError: can only test a child process\n",
            "100%|██████████| 492/492 [00:48<00:00, 10.08it/s]\n"
          ]
        },
        {
          "output_type": "stream",
          "name": "stdout",
          "text": [
            "Loss - 148286.42\n",
            "\n",
            "Epoch - 42\n"
          ]
        },
        {
          "output_type": "stream",
          "name": "stderr",
          "text": [
            " 66%|██████▋   | 327/492 [00:32<00:14, 11.09it/s]Exception ignored in: <function _MultiProcessingDataLoaderIter.__del__ at 0x7f63ee7a6cb0>\n",
            "Traceback (most recent call last):\n",
            "  File \"/usr/local/lib/python3.10/dist-packages/torch/utils/data/dataloader.py\", line 1478, in __del__\n",
            "    self._shutdown_workers()\n",
            "  File \"/usr/local/lib/python3.10/dist-packages/torch/utils/data/dataloader.py\", line 1461, in _shutdown_workers\n",
            "    if w.is_alive():\n",
            "  File \"/usr/lib/python3.10/multiprocessing/process.py\", line 160, in is_alive\n",
            "    assert self._parent_pid == os.getpid(), 'can only test a child process'\n",
            "AssertionError: can only test a child process\n",
            "100%|██████████| 492/492 [00:49<00:00, 10.00it/s]\n"
          ]
        },
        {
          "output_type": "stream",
          "name": "stdout",
          "text": [
            "Loss - 148318.50\n",
            "\n",
            "Epoch - 43\n"
          ]
        },
        {
          "output_type": "stream",
          "name": "stderr",
          "text": [
            " 46%|████▌     | 227/492 [00:22<00:37,  6.98it/s]Exception ignored in: <function _MultiProcessingDataLoaderIter.__del__ at 0x7f63ee7a6cb0>\n",
            "Traceback (most recent call last):\n",
            "  File \"/usr/local/lib/python3.10/dist-packages/torch/utils/data/dataloader.py\", line 1478, in __del__\n",
            "    self._shutdown_workers()\n",
            "  File \"/usr/local/lib/python3.10/dist-packages/torch/utils/data/dataloader.py\", line 1461, in _shutdown_workers\n",
            "    if w.is_alive():\n",
            "  File \"/usr/lib/python3.10/multiprocessing/process.py\", line 160, in is_alive\n",
            "    assert self._parent_pid == os.getpid(), 'can only test a child process'\n",
            "AssertionError: can only test a child process\n",
            "100%|██████████| 492/492 [00:48<00:00, 10.11it/s]\n"
          ]
        },
        {
          "output_type": "stream",
          "name": "stdout",
          "text": [
            "Loss - 148290.60\n",
            "\n",
            "Epoch - 44\n"
          ]
        },
        {
          "output_type": "stream",
          "name": "stderr",
          "text": [
            " 33%|███▎      | 163/492 [00:17<00:49,  6.69it/s]Exception ignored in: <function _MultiProcessingDataLoaderIter.__del__ at 0x7f63ee7a6cb0>\n",
            "Traceback (most recent call last):\n",
            "  File \"/usr/local/lib/python3.10/dist-packages/torch/utils/data/dataloader.py\", line 1478, in __del__\n",
            "    self._shutdown_workers()\n",
            "  File \"/usr/local/lib/python3.10/dist-packages/torch/utils/data/dataloader.py\", line 1461, in _shutdown_workers\n",
            "    if w.is_alive():\n",
            "  File \"/usr/lib/python3.10/multiprocessing/process.py\", line 160, in is_alive\n",
            "    assert self._parent_pid == os.getpid(), 'can only test a child process'\n",
            "AssertionError: can only test a child process\n",
            "100%|██████████| 492/492 [00:49<00:00,  9.87it/s]\n"
          ]
        },
        {
          "output_type": "stream",
          "name": "stdout",
          "text": [
            "Loss - 148350.38\n",
            "\n",
            "Epoch - 45\n"
          ]
        },
        {
          "output_type": "stream",
          "name": "stderr",
          "text": [
            " 12%|█▏        | 61/492 [00:05<00:38, 11.31it/s]Exception ignored in: <function _MultiProcessingDataLoaderIter.__del__ at 0x7f63ee7a6cb0>\n",
            "Traceback (most recent call last):\n",
            "  File \"/usr/local/lib/python3.10/dist-packages/torch/utils/data/dataloader.py\", line 1478, in __del__\n",
            "    self._shutdown_workers()\n",
            "  File \"/usr/local/lib/python3.10/dist-packages/torch/utils/data/dataloader.py\", line 1461, in _shutdown_workers\n",
            "    if w.is_alive():\n",
            "  File \"/usr/lib/python3.10/multiprocessing/process.py\", line 160, in is_alive\n",
            "    assert self._parent_pid == os.getpid(), 'can only test a child process'\n",
            "AssertionError: can only test a child process\n",
            "100%|██████████| 492/492 [00:49<00:00, 10.02it/s]\n"
          ]
        },
        {
          "output_type": "stream",
          "name": "stdout",
          "text": [
            "Loss - 148304.87\n",
            "\n",
            "Epoch - 46\n"
          ]
        },
        {
          "output_type": "stream",
          "name": "stderr",
          "text": [
            "  7%|▋         | 35/492 [00:04<00:44, 10.22it/s]Exception ignored in: <function _MultiProcessingDataLoaderIter.__del__ at 0x7f63ee7a6cb0>\n",
            "Traceback (most recent call last):\n",
            "  File \"/usr/local/lib/python3.10/dist-packages/torch/utils/data/dataloader.py\", line 1478, in __del__\n",
            "    \n",
            "self._shutdown_workers()  File \"/usr/local/lib/python3.10/dist-packages/torch/utils/data/dataloader.py\", line 1461, in _shutdown_workers\n",
            "    if w.is_alive():\n",
            "  File \"/usr/lib/python3.10/multiprocessing/process.py\", line 160, in is_alive\n",
            "    assert self._parent_pid == os.getpid(), 'can only test a child process'\n",
            "AssertionError: can only test a child process\n",
            "100%|██████████| 492/492 [00:50<00:00,  9.65it/s]\n"
          ]
        },
        {
          "output_type": "stream",
          "name": "stdout",
          "text": [
            "Loss - 148324.43\n",
            "\n",
            "Epoch - 47\n"
          ]
        },
        {
          "output_type": "stream",
          "name": "stderr",
          "text": [
            "  1%|          | 6/492 [00:00<00:48, 10.02it/s]Exception ignored in: <function _MultiProcessingDataLoaderIter.__del__ at 0x7f63ee7a6cb0>\n",
            "Traceback (most recent call last):\n",
            "  File \"/usr/local/lib/python3.10/dist-packages/torch/utils/data/dataloader.py\", line 1478, in __del__\n",
            "    self._shutdown_workers()\n",
            "  File \"/usr/local/lib/python3.10/dist-packages/torch/utils/data/dataloader.py\", line 1461, in _shutdown_workers\n",
            "    if w.is_alive():\n",
            "  File \"/usr/lib/python3.10/multiprocessing/process.py\", line 160, in is_alive\n",
            "    assert self._parent_pid == os.getpid(), 'can only test a child process'\n",
            "AssertionError: can only test a child process\n",
            "100%|██████████| 492/492 [00:49<00:00,  9.93it/s]\n"
          ]
        },
        {
          "output_type": "stream",
          "name": "stdout",
          "text": [
            "Loss - 148300.71\n",
            "\n",
            "Epoch - 48\n"
          ]
        },
        {
          "output_type": "stream",
          "name": "stderr",
          "text": [
            "100%|██████████| 492/492 [00:49<00:00, 10.00it/s]\n"
          ]
        },
        {
          "output_type": "stream",
          "name": "stdout",
          "text": [
            "Loss - 148315.69\n",
            "\n",
            "Epoch - 49\n"
          ]
        },
        {
          "output_type": "stream",
          "name": "stderr",
          "text": [
            "100%|██████████| 492/492 [00:49<00:00,  9.93it/s]\n"
          ]
        },
        {
          "output_type": "stream",
          "name": "stdout",
          "text": [
            "Loss - 148314.02\n",
            "\n",
            "Epoch - 50\n"
          ]
        },
        {
          "output_type": "stream",
          "name": "stderr",
          "text": [
            "100%|██████████| 492/492 [00:48<00:00, 10.11it/s]\n"
          ]
        },
        {
          "output_type": "stream",
          "name": "stdout",
          "text": [
            "Loss - 148316.44\n",
            "\n",
            "--------------------\n",
            "Model Saved\n",
            "--------------------\n"
          ]
        }
      ],
      "source": [
        "best_loss = 1e10\n",
        "for epoch in range(51):\n",
        "    if os.path.exists('model.pth'):\n",
        "        model.load_state_dict(torch.load('model.pth'))\n",
        "    print(f\"Epoch - {epoch}\")\n",
        "    loss = train(model, train_loader, optimizer, criterion)\n",
        "    print(f\"Loss - {loss:.2f}\\n\")\n",
        "\n",
        "    if epoch % 10 == 0 and loss < best_loss:\n",
        "        best_loss = loss\n",
        "        torch.save(model.state_dict(), \"model.pth\")\n",
        "        print(f\"{'-'*20}\\nModel Saved\\n{'-'*20}\")"
      ]
    },
    {
      "cell_type": "code",
      "execution_count": null,
      "metadata": {
        "colab": {
          "base_uri": "https://localhost:8080/"
        },
        "id": "E9Lov-mjAEn_",
        "outputId": "5b0494fc-46ab-46e3-93bd-02f79feae00e"
      },
      "outputs": [
        {
          "output_type": "stream",
          "name": "stdout",
          "text": [
            "torch.Size([64, 64]) tensor([[-0.9191, -1.5097, -0.1874,  ...,  0.1176,  0.0772, -2.0350],\n",
            "        [-2.0135, -1.0315, -0.0057,  ..., -1.4130, -0.9781,  0.2456],\n",
            "        [-1.1816, -0.9978,  0.6374,  ..., -2.0523,  0.0957, -0.6701],\n",
            "        ...,\n",
            "        [ 2.2703,  1.4017,  0.3011,  ...,  3.5436, -0.1736, -0.2727],\n",
            "        [-0.1548,  0.3065, -0.2679,  ..., -3.5300, -0.5833, -0.6082],\n",
            "        [ 0.1625, -2.8466, -0.5402,  ..., -1.2883,  1.6256, -1.9672]],\n",
            "       device='cuda:0')\n"
          ]
        },
        {
          "output_type": "display_data",
          "data": {
            "text/plain": [
              "<Figure size 640x480 with 2 Axes>"
            ],
            "image/png": "[encoded data removed]"
          },
          "metadata": {}
        }
      ],
      "source": [
        "model.load_state_dict(torch.load('model.pth'))\n",
        "\n",
        "model.eval()\n",
        "with torch.no_grad():\n",
        "    for data in random.sample(list(test_loader), 1):\n",
        "        imgs, _ = data\n",
        "        imgs = imgs.to(DEVICE)\n",
        "        img = np.transpose(imgs[0].cpu().numpy(), [1,2,0])\n",
        "        plt.subplot(121)\n",
        "        plt.imshow(np.squeeze(img))\n",
        "        z, mu, logvar, out = model(imgs)\n",
        "        print(z.shape, z)\n",
        "        outimg = np.transpose(out[0].cpu().numpy(), [1,2,0])\n",
        "        plt.subplot(122)\n",
        "        plt.imshow(np.squeeze(outimg))\n",
        "        break"
      ]
    },
    {
      "cell_type": "code",
      "execution_count": null,
      "metadata": {
        "colab": {
          "base_uri": "https://localhost:8080/"
        },
        "id": "zpE_6ubSvbNL",
        "outputId": "331e57e2-333f-4372-8c56-5b90c0d9005f"
      },
      "outputs": [
        {
          "output_type": "execute_result",
          "data": {
            "text/plain": [
              "                             filename  digit\n",
              "0      /content/training-a/a00000.png      5\n",
              "1      /content/training-a/a00001.png      3\n",
              "2      /content/training-a/a00002.png      1\n",
              "3      /content/training-a/a00003.png      7\n",
              "4      /content/training-a/a00004.png      0\n",
              "...                               ...    ...\n",
              "19697  /content/training-a/a19697.png      4\n",
              "19698  /content/training-a/a19698.png      3\n",
              "19699  /content/training-a/a19699.png      8\n",
              "19700  /content/training-a/a19700.png      3\n",
              "19701  /content/training-a/a19701.png      8\n",
              "\n",
              "[19702 rows x 2 columns]"
            ],
            "text/html": [
              "\n",
              "  <div id=\"df-2ef5c677-550d-45e6-9ef1-0f3fb54ddcd7\">\n",
              "    <div class=\"colab-df-container\">\n",
              "      <div>\n",
              "<style scoped>\n",
              "    .dataframe tbody tr th:only-of-type {\n",
              "        vertical-align: middle;\n",
              "    }\n",
              "\n",
              "    .dataframe tbody tr th {\n",
              "        vertical-align: top;\n",
              "    }\n",
              "\n",
              "    .dataframe thead th {\n",
              "        text-align: right;\n",
              "    }\n",
              "</style>\n",
              "<table border=\"1\" class=\"dataframe\">\n",
              "  <thead>\n",
              "    <tr style=\"text-align: right;\">\n",
              "      <th></th>\n",
              "      <th>filename</th>\n",
              "      <th>digit</th>\n",
              "    </tr>\n",
              "  </thead>\n",
              "  <tbody>\n",
              "    <tr>\n",
              "      <th>0</th>\n",
              "      <td>/content/training-a/a00000.png</td>\n",
              "      <td>5</td>\n",
              "    </tr>\n",
              "    <tr>\n",
              "      <th>1</th>\n",
              "      <td>/content/training-a/a00001.png</td>\n",
              "      <td>3</td>\n",
              "    </tr>\n",
              "    <tr>\n",
              "      <th>2</th>\n",
              "      <td>/content/training-a/a00002.png</td>\n",
              "      <td>1</td>\n",
              "    </tr>\n",
              "    <tr>\n",
              "      <th>3</th>\n",
              "      <td>/content/training-a/a00003.png</td>\n",
              "      <td>7</td>\n",
              "    </tr>\n",
              "    <tr>\n",
              "      <th>4</th>\n",
              "      <td>/content/training-a/a00004.png</td>\n",
              "      <td>0</td>\n",
              "    </tr>\n",
              "    <tr>\n",
              "      <th>...</th>\n",
              "      <td>...</td>\n",
              "      <td>...</td>\n",
              "    </tr>\n",
              "    <tr>\n",
              "      <th>19697</th>\n",
              "      <td>/content/training-a/a19697.png</td>\n",
              "      <td>4</td>\n",
              "    </tr>\n",
              "    <tr>\n",
              "      <th>19698</th>\n",
              "      <td>/content/training-a/a19698.png</td>\n",
              "      <td>3</td>\n",
              "    </tr>\n",
              "    <tr>\n",
              "      <th>19699</th>\n",
              "      <td>/content/training-a/a19699.png</td>\n",
              "      <td>8</td>\n",
              "    </tr>\n",
              "    <tr>\n",
              "      <th>19700</th>\n",
              "      <td>/content/training-a/a19700.png</td>\n",
              "      <td>3</td>\n",
              "    </tr>\n",
              "    <tr>\n",
              "      <th>19701</th>\n",
              "      <td>/content/training-a/a19701.png</td>\n",
              "      <td>8</td>\n",
              "    </tr>\n",
              "  </tbody>\n",
              "</table>\n",
              "<p>19702 rows × 2 columns</p>\n",
              "</div>\n",
              "      <button class=\"colab-df-convert\" onclick=\"convertToInteractive('df-2ef5c677-550d-45e6-9ef1-0f3fb54ddcd7')\"\n",
              "              title=\"Convert this dataframe to an interactive table.\"\n",
              "              style=\"display:none;\">\n",
              "        \n",
              "  <svg xmlns=\"http://www.w3.org/2000/svg\" height=\"24px\"viewBox=\"0 0 24 24\"\n",
              "       width=\"24px\">\n",
              "    <path d=\"M0 0h24v24H0V0z\" fill=\"none\"/>\n",
              "    <path d=\"M18.56 5.44l.94 2.06.94-2.06 2.06-.94-2.06-.94-.94-2.06-.94 2.06-2.06.94zm-11 1L8.5 8.5l.94-2.06 2.06-.94-2.06-.94L8.5 2.5l-.94 2.06-2.06.94zm10 10l.94 2.06.94-2.06 2.06-.94-2.06-.94-.94-2.06-.94 2.06-2.06.94z\"/><path d=\"M17.41 7.96l-1.37-1.37c-.4-.4-.92-.59-1.43-.59-.52 0-1.04.2-1.43.59L10.3 9.45l-7.72 7.72c-.78.78-.78 2.05 0 2.83L4 21.41c.39.39.9.59 1.41.59.51 0 1.02-.2 1.41-.59l7.78-7.78 2.81-2.81c.8-.78.8-2.07 0-2.86zM5.41 20L4 18.59l7.72-7.72 1.47 1.35L5.41 20z\"/>\n",
              "  </svg>\n",
              "      </button>\n",
              "      \n",
              "  <style>\n",
              "    .colab-df-container {\n",
              "      display:flex;\n",
              "      flex-wrap:wrap;\n",
              "      gap: 12px;\n",
              "    }\n",
              "\n",
              "    .colab-df-convert {\n",
              "      background-color: #E8F0FE;\n",
              "      border: none;\n",
              "      border-radius: 50%;\n",
              "      cursor: pointer;\n",
              "      display: none;\n",
              "      fill: #1967D2;\n",
              "      height: 32px;\n",
              "      padding: 0 0 0 0;\n",
              "      width: 32px;\n",
              "    }\n",
              "\n",
              "    .colab-df-convert:hover {\n",
              "      background-color: #E2EBFA;\n",
              "      box-shadow: 0px 1px 2px rgba(60, 64, 67, 0.3), 0px 1px 3px 1px rgba(60, 64, 67, 0.15);\n",
              "      fill: #174EA6;\n",
              "    }\n",
              "\n",
              "    [theme=dark] .colab-df-convert {\n",
              "      background-color: #3B4455;\n",
              "      fill: #D2E3FC;\n",
              "    }\n",
              "\n",
              "    [theme=dark] .colab-df-convert:hover {\n",
              "      background-color: #434B5C;\n",
              "      box-shadow: 0px 1px 3px 1px rgba(0, 0, 0, 0.15);\n",
              "      filter: drop-shadow(0px 1px 2px rgba(0, 0, 0, 0.3));\n",
              "      fill: #FFFFFF;\n",
              "    }\n",
              "  </style>\n",
              "\n",
              "      <script>\n",
              "        const buttonEl =\n",
              "          document.querySelector('#df-2ef5c677-550d-45e6-9ef1-0f3fb54ddcd7 button.colab-df-convert');\n",
              "        buttonEl.style.display =\n",
              "          google.colab.kernel.accessAllowed ? 'block' : 'none';\n",
              "\n",
              "        async function convertToInteractive(key) {\n",
              "          const element = document.querySelector('#df-2ef5c677-550d-45e6-9ef1-0f3fb54ddcd7');\n",
              "          const dataTable =\n",
              "            await google.colab.kernel.invokeFunction('convertToInteractive',\n",
              "                                                     [key], {});\n",
              "          if (!dataTable) return;\n",
              "\n",
              "          const docLinkHtml = 'Like what you see? Visit the ' +\n",
              "            '<a target=\"_blank\" href=https://colab.research.google.com/notebooks/data_table.ipynb>data table notebook</a>'\n",
              "            + ' to learn more about interactive tables.';\n",
              "          element.innerHTML = '';\n",
              "          dataTable['output_type'] = 'display_data';\n",
              "          await google.colab.output.renderOutput(dataTable, element);\n",
              "          const docLink = document.createElement('div');\n",
              "          docLink.innerHTML = docLinkHtml;\n",
              "          element.appendChild(docLink);\n",
              "        }\n",
              "      </script>\n",
              "    </div>\n",
              "  </div>\n",
              "  "
            ]
          },
          "metadata": {},
          "execution_count": 27
        }
      ],
      "source": [
        "new_df = df[['filename', 'digit']]\n",
        "new_df"
      ]
    },
    {
      "cell_type": "code",
      "execution_count": null,
      "metadata": {
        "id": "JRpWIF0Tv4iK"
      },
      "outputs": [],
      "source": [
        "def embedding(path):\n",
        "    img = cv2.imread(path)\n",
        "    img = transform(img).unsqueeze(0).to(DEVICE)\n",
        "    z, mu, logvar, out = model(img)\n",
        "    z = z.squeeze(0).cpu().detach().numpy()\n",
        "    # mu = mu.squeeze(0).cpu().detach().numpy()\n",
        "    # return z + mu\n",
        "    return z"
      ]
    },
    {
      "cell_type": "markdown",
      "metadata": {
        "id": "-O8UCOsJQw8Z"
      },
      "source": [
        "# All Images + All Images (Avg)"
      ]
    },
    {
      "cell_type": "code",
      "execution_count": null,
      "metadata": {
        "id": "6h8-FdVuwM3K",
        "colab": {
          "base_uri": "https://localhost:8080/"
        },
        "outputId": "f27a8c29-305c-4c71-b2bf-d2ec96f4274d"
      },
      "outputs": [
        {
          "output_type": "stream",
          "name": "stderr",
          "text": [
            "100%|██████████| 19702/19702 [03:05<00:00, 106.00it/s]\n"
          ]
        }
      ],
      "source": [
        "model.load_state_dict(torch.load('model.pth'))\n",
        "\n",
        "embeddings = []\n",
        "all_images = new_df['filename'].values\n",
        "\n",
        "for idx in tqdm(range(len(new_df))):\n",
        "    img_path = all_images[idx]\n",
        "    z = embedding(img_path)\n",
        "    embeddings.append(z)\n",
        "    # print(z.shape, z)\n",
        "    # break"
      ]
    },
    {
      "cell_type": "code",
      "execution_count": null,
      "metadata": {
        "colab": {
          "base_uri": "https://localhost:8080/"
        },
        "id": "0_neCsU7zMOp",
        "outputId": "5d7c0d6e-3e14-4ef6-9dfd-7c0ae73929d6"
      },
      "outputs": [
        {
          "output_type": "execute_result",
          "data": {
            "text/plain": [
              "                             filename  digit         0         1         2  \\\n",
              "0      /content/training-a/a00000.png      5  2.107759 -1.622772  0.576307   \n",
              "1      /content/training-a/a00001.png      3 -0.359821 -0.229197  0.678000   \n",
              "2      /content/training-a/a00002.png      1 -1.411513 -1.142713  0.903985   \n",
              "3      /content/training-a/a00003.png      7  0.260381 -1.132360 -0.826574   \n",
              "4      /content/training-a/a00004.png      0 -1.649387 -0.456749  0.798345   \n",
              "...                               ...    ...       ...       ...       ...   \n",
              "19697  /content/training-a/a19697.png      4  0.143208 -1.278155  0.589293   \n",
              "19698  /content/training-a/a19698.png      3 -1.388204 -1.885862  0.837545   \n",
              "19699  /content/training-a/a19699.png      8  1.442394 -0.223177  0.922539   \n",
              "19700  /content/training-a/a19700.png      3  1.160656 -0.824530  1.858992   \n",
              "19701  /content/training-a/a19701.png      8  1.624211 -0.981060  0.541696   \n",
              "\n",
              "              3         4         5         6         7  ...        54  \\\n",
              "0     -1.599842 -0.372622  2.066241 -0.122653  0.078429  ... -0.093707   \n",
              "1     -1.830006  0.231503  0.893187 -0.710633 -0.123028  ...  0.857280   \n",
              "2      0.617377  0.671918 -0.019280  0.221644 -0.335778  ... -0.074526   \n",
              "3      0.671079 -1.937640 -1.023996  0.014247  0.265351  ... -1.776955   \n",
              "4      1.804313 -1.039623 -0.498182  0.766419  1.758250  ... -0.179199   \n",
              "...         ...       ...       ...       ...       ...  ...       ...   \n",
              "19697  1.151318 -0.949321  0.122180 -0.322810  1.115679  ...  0.321400   \n",
              "19698 -2.613768  1.426310  0.596150  0.263688  0.832607  ...  0.998101   \n",
              "19699  0.801899  0.697613 -0.158789 -1.639952  1.284343  ...  1.257685   \n",
              "19700 -1.401574 -0.583841  1.866948  0.782967  0.031990  ...  0.860646   \n",
              "19701  0.920107  0.462540 -1.347042 -0.548435  1.934515  ...  0.905835   \n",
              "\n",
              "             55        56        57        58        59        60        61  \\\n",
              "0      3.540437 -1.581546  0.984396  0.545003 -0.800315 -1.189447  2.137927   \n",
              "1     -0.126993 -1.270465 -0.681669  1.529364  1.290684  0.237880  2.506566   \n",
              "2     -1.613971  1.006345  0.475517 -0.558147  0.094740 -0.058886 -3.835221   \n",
              "3      0.045731 -2.353775  0.641238 -0.590788  0.003913 -1.162614 -1.098346   \n",
              "4     -0.395479 -1.867020  0.077765  0.213056  0.053476  0.100120 -2.586996   \n",
              "...         ...       ...       ...       ...       ...       ...       ...   \n",
              "19697  1.184832  2.031521  1.255774 -0.233256 -0.586025 -0.747154 -1.684398   \n",
              "19698  0.221800 -3.854756  0.485519  3.284207 -0.734597 -0.911267 -0.723068   \n",
              "19699  0.254112  2.496602 -0.883627 -1.165223  0.075666  0.252305  1.193179   \n",
              "19700  0.408411  1.050065  0.544479 -0.784375 -0.906052 -0.108856  1.498927   \n",
              "19701  0.531734  2.501845  1.025630 -1.116613  0.214953 -0.643844 -0.268534   \n",
              "\n",
              "             62        63  \n",
              "0      1.571434 -1.491901  \n",
              "1      0.776173  0.568845  \n",
              "2      1.458799 -0.995208  \n",
              "3      1.086224 -2.699083  \n",
              "4      0.103074 -1.797732  \n",
              "...         ...       ...  \n",
              "19697  1.449277 -0.027346  \n",
              "19698  2.898943 -0.571013  \n",
              "19699  0.748930 -0.857772  \n",
              "19700  0.958146 -1.856040  \n",
              "19701  2.234124  0.945287  \n",
              "\n",
              "[19702 rows x 66 columns]"
            ],
            "text/html": [
              "\n",
              "  <div id=\"df-cbb8d798-8be6-4782-8c60-ef1b9ef43e03\">\n",
              "    <div class=\"colab-df-container\">\n",
              "      <div>\n",
              "<style scoped>\n",
              "    .dataframe tbody tr th:only-of-type {\n",
              "        vertical-align: middle;\n",
              "    }\n",
              "\n",
              "    .dataframe tbody tr th {\n",
              "        vertical-align: top;\n",
              "    }\n",
              "\n",
              "    .dataframe thead th {\n",
              "        text-align: right;\n",
              "    }\n",
              "</style>\n",
              "<table border=\"1\" class=\"dataframe\">\n",
              "  <thead>\n",
              "    <tr style=\"text-align: right;\">\n",
              "      <th></th>\n",
              "      <th>filename</th>\n",
              "      <th>digit</th>\n",
              "      <th>0</th>\n",
              "      <th>1</th>\n",
              "      <th>2</th>\n",
              "      <th>3</th>\n",
              "      <th>4</th>\n",
              "      <th>5</th>\n",
              "      <th>6</th>\n",
              "      <th>7</th>\n",
              "      <th>...</th>\n",
              "      <th>54</th>\n",
              "      <th>55</th>\n",
              "      <th>56</th>\n",
              "      <th>57</th>\n",
              "      <th>58</th>\n",
              "      <th>59</th>\n",
              "      <th>60</th>\n",
              "      <th>61</th>\n",
              "      <th>62</th>\n",
              "      <th>63</th>\n",
              "    </tr>\n",
              "  </thead>\n",
              "  <tbody>\n",
              "    <tr>\n",
              "      <th>0</th>\n",
              "      <td>/content/training-a/a00000.png</td>\n",
              "      <td>5</td>\n",
              "      <td>2.107759</td>\n",
              "      <td>-1.622772</td>\n",
              "      <td>0.576307</td>\n",
              "      <td>-1.599842</td>\n",
              "      <td>-0.372622</td>\n",
              "      <td>2.066241</td>\n",
              "      <td>-0.122653</td>\n",
              "      <td>0.078429</td>\n",
              "      <td>...</td>\n",
              "      <td>-0.093707</td>\n",
              "      <td>3.540437</td>\n",
              "      <td>-1.581546</td>\n",
              "      <td>0.984396</td>\n",
              "      <td>0.545003</td>\n",
              "      <td>-0.800315</td>\n",
              "      <td>-1.189447</td>\n",
              "      <td>2.137927</td>\n",
              "      <td>1.571434</td>\n",
              "      <td>-1.491901</td>\n",
              "    </tr>\n",
              "    <tr>\n",
              "      <th>1</th>\n",
              "      <td>/content/training-a/a00001.png</td>\n",
              "      <td>3</td>\n",
              "      <td>-0.359821</td>\n",
              "      <td>-0.229197</td>\n",
              "      <td>0.678000</td>\n",
              "      <td>-1.830006</td>\n",
              "      <td>0.231503</td>\n",
              "      <td>0.893187</td>\n",
              "      <td>-0.710633</td>\n",
              "      <td>-0.123028</td>\n",
              "      <td>...</td>\n",
              "      <td>0.857280</td>\n",
              "      <td>-0.126993</td>\n",
              "      <td>-1.270465</td>\n",
              "      <td>-0.681669</td>\n",
              "      <td>1.529364</td>\n",
              "      <td>1.290684</td>\n",
              "      <td>0.237880</td>\n",
              "      <td>2.506566</td>\n",
              "      <td>0.776173</td>\n",
              "      <td>0.568845</td>\n",
              "    </tr>\n",
              "    <tr>\n",
              "      <th>2</th>\n",
              "      <td>/content/training-a/a00002.png</td>\n",
              "      <td>1</td>\n",
              "      <td>-1.411513</td>\n",
              "      <td>-1.142713</td>\n",
              "      <td>0.903985</td>\n",
              "      <td>0.617377</td>\n",
              "      <td>0.671918</td>\n",
              "      <td>-0.019280</td>\n",
              "      <td>0.221644</td>\n",
              "      <td>-0.335778</td>\n",
              "      <td>...</td>\n",
              "      <td>-0.074526</td>\n",
              "      <td>-1.613971</td>\n",
              "      <td>1.006345</td>\n",
              "      <td>0.475517</td>\n",
              "      <td>-0.558147</td>\n",
              "      <td>0.094740</td>\n",
              "      <td>-0.058886</td>\n",
              "      <td>-3.835221</td>\n",
              "      <td>1.458799</td>\n",
              "      <td>-0.995208</td>\n",
              "    </tr>\n",
              "    <tr>\n",
              "      <th>3</th>\n",
              "      <td>/content/training-a/a00003.png</td>\n",
              "      <td>7</td>\n",
              "      <td>0.260381</td>\n",
              "      <td>-1.132360</td>\n",
              "      <td>-0.826574</td>\n",
              "      <td>0.671079</td>\n",
              "      <td>-1.937640</td>\n",
              "      <td>-1.023996</td>\n",
              "      <td>0.014247</td>\n",
              "      <td>0.265351</td>\n",
              "      <td>...</td>\n",
              "      <td>-1.776955</td>\n",
              "      <td>0.045731</td>\n",
              "      <td>-2.353775</td>\n",
              "      <td>0.641238</td>\n",
              "      <td>-0.590788</td>\n",
              "      <td>0.003913</td>\n",
              "      <td>-1.162614</td>\n",
              "      <td>-1.098346</td>\n",
              "      <td>1.086224</td>\n",
              "      <td>-2.699083</td>\n",
              "    </tr>\n",
              "    <tr>\n",
              "      <th>4</th>\n",
              "      <td>/content/training-a/a00004.png</td>\n",
              "      <td>0</td>\n",
              "      <td>-1.649387</td>\n",
              "      <td>-0.456749</td>\n",
              "      <td>0.798345</td>\n",
              "      <td>1.804313</td>\n",
              "      <td>-1.039623</td>\n",
              "      <td>-0.498182</td>\n",
              "      <td>0.766419</td>\n",
              "      <td>1.758250</td>\n",
              "      <td>...</td>\n",
              "      <td>-0.179199</td>\n",
              "      <td>-0.395479</td>\n",
              "      <td>-1.867020</td>\n",
              "      <td>0.077765</td>\n",
              "      <td>0.213056</td>\n",
              "      <td>0.053476</td>\n",
              "      <td>0.100120</td>\n",
              "      <td>-2.586996</td>\n",
              "      <td>0.103074</td>\n",
              "      <td>-1.797732</td>\n",
              "    </tr>\n",
              "    <tr>\n",
              "      <th>...</th>\n",
              "      <td>...</td>\n",
              "      <td>...</td>\n",
              "      <td>...</td>\n",
              "      <td>...</td>\n",
              "      <td>...</td>\n",
              "      <td>...</td>\n",
              "      <td>...</td>\n",
              "      <td>...</td>\n",
              "      <td>...</td>\n",
              "      <td>...</td>\n",
              "      <td>...</td>\n",
              "      <td>...</td>\n",
              "      <td>...</td>\n",
              "      <td>...</td>\n",
              "      <td>...</td>\n",
              "      <td>...</td>\n",
              "      <td>...</td>\n",
              "      <td>...</td>\n",
              "      <td>...</td>\n",
              "      <td>...</td>\n",
              "      <td>...</td>\n",
              "    </tr>\n",
              "    <tr>\n",
              "      <th>19697</th>\n",
              "      <td>/content/training-a/a19697.png</td>\n",
              "      <td>4</td>\n",
              "      <td>0.143208</td>\n",
              "      <td>-1.278155</td>\n",
              "      <td>0.589293</td>\n",
              "      <td>1.151318</td>\n",
              "      <td>-0.949321</td>\n",
              "      <td>0.122180</td>\n",
              "      <td>-0.322810</td>\n",
              "      <td>1.115679</td>\n",
              "      <td>...</td>\n",
              "      <td>0.321400</td>\n",
              "      <td>1.184832</td>\n",
              "      <td>2.031521</td>\n",
              "      <td>1.255774</td>\n",
              "      <td>-0.233256</td>\n",
              "      <td>-0.586025</td>\n",
              "      <td>-0.747154</td>\n",
              "      <td>-1.684398</td>\n",
              "      <td>1.449277</td>\n",
              "      <td>-0.027346</td>\n",
              "    </tr>\n",
              "    <tr>\n",
              "      <th>19698</th>\n",
              "      <td>/content/training-a/a19698.png</td>\n",
              "      <td>3</td>\n",
              "      <td>-1.388204</td>\n",
              "      <td>-1.885862</td>\n",
              "      <td>0.837545</td>\n",
              "      <td>-2.613768</td>\n",
              "      <td>1.426310</td>\n",
              "      <td>0.596150</td>\n",
              "      <td>0.263688</td>\n",
              "      <td>0.832607</td>\n",
              "      <td>...</td>\n",
              "      <td>0.998101</td>\n",
              "      <td>0.221800</td>\n",
              "      <td>-3.854756</td>\n",
              "      <td>0.485519</td>\n",
              "      <td>3.284207</td>\n",
              "      <td>-0.734597</td>\n",
              "      <td>-0.911267</td>\n",
              "      <td>-0.723068</td>\n",
              "      <td>2.898943</td>\n",
              "      <td>-0.571013</td>\n",
              "    </tr>\n",
              "    <tr>\n",
              "      <th>19699</th>\n",
              "      <td>/content/training-a/a19699.png</td>\n",
              "      <td>8</td>\n",
              "      <td>1.442394</td>\n",
              "      <td>-0.223177</td>\n",
              "      <td>0.922539</td>\n",
              "      <td>0.801899</td>\n",
              "      <td>0.697613</td>\n",
              "      <td>-0.158789</td>\n",
              "      <td>-1.639952</td>\n",
              "      <td>1.284343</td>\n",
              "      <td>...</td>\n",
              "      <td>1.257685</td>\n",
              "      <td>0.254112</td>\n",
              "      <td>2.496602</td>\n",
              "      <td>-0.883627</td>\n",
              "      <td>-1.165223</td>\n",
              "      <td>0.075666</td>\n",
              "      <td>0.252305</td>\n",
              "      <td>1.193179</td>\n",
              "      <td>0.748930</td>\n",
              "      <td>-0.857772</td>\n",
              "    </tr>\n",
              "    <tr>\n",
              "      <th>19700</th>\n",
              "      <td>/content/training-a/a19700.png</td>\n",
              "      <td>3</td>\n",
              "      <td>1.160656</td>\n",
              "      <td>-0.824530</td>\n",
              "      <td>1.858992</td>\n",
              "      <td>-1.401574</td>\n",
              "      <td>-0.583841</td>\n",
              "      <td>1.866948</td>\n",
              "      <td>0.782967</td>\n",
              "      <td>0.031990</td>\n",
              "      <td>...</td>\n",
              "      <td>0.860646</td>\n",
              "      <td>0.408411</td>\n",
              "      <td>1.050065</td>\n",
              "      <td>0.544479</td>\n",
              "      <td>-0.784375</td>\n",
              "      <td>-0.906052</td>\n",
              "      <td>-0.108856</td>\n",
              "      <td>1.498927</td>\n",
              "      <td>0.958146</td>\n",
              "      <td>-1.856040</td>\n",
              "    </tr>\n",
              "    <tr>\n",
              "      <th>19701</th>\n",
              "      <td>/content/training-a/a19701.png</td>\n",
              "      <td>8</td>\n",
              "      <td>1.624211</td>\n",
              "      <td>-0.981060</td>\n",
              "      <td>0.541696</td>\n",
              "      <td>0.920107</td>\n",
              "      <td>0.462540</td>\n",
              "      <td>-1.347042</td>\n",
              "      <td>-0.548435</td>\n",
              "      <td>1.934515</td>\n",
              "      <td>...</td>\n",
              "      <td>0.905835</td>\n",
              "      <td>0.531734</td>\n",
              "      <td>2.501845</td>\n",
              "      <td>1.025630</td>\n",
              "      <td>-1.116613</td>\n",
              "      <td>0.214953</td>\n",
              "      <td>-0.643844</td>\n",
              "      <td>-0.268534</td>\n",
              "      <td>2.234124</td>\n",
              "      <td>0.945287</td>\n",
              "    </tr>\n",
              "  </tbody>\n",
              "</table>\n",
              "<p>19702 rows × 66 columns</p>\n",
              "</div>\n",
              "      <button class=\"colab-df-convert\" onclick=\"convertToInteractive('df-cbb8d798-8be6-4782-8c60-ef1b9ef43e03')\"\n",
              "              title=\"Convert this dataframe to an interactive table.\"\n",
              "              style=\"display:none;\">\n",
              "        \n",
              "  <svg xmlns=\"http://www.w3.org/2000/svg\" height=\"24px\"viewBox=\"0 0 24 24\"\n",
              "       width=\"24px\">\n",
              "    <path d=\"M0 0h24v24H0V0z\" fill=\"none\"/>\n",
              "    <path d=\"M18.56 5.44l.94 2.06.94-2.06 2.06-.94-2.06-.94-.94-2.06-.94 2.06-2.06.94zm-11 1L8.5 8.5l.94-2.06 2.06-.94-2.06-.94L8.5 2.5l-.94 2.06-2.06.94zm10 10l.94 2.06.94-2.06 2.06-.94-2.06-.94-.94-2.06-.94 2.06-2.06.94z\"/><path d=\"M17.41 7.96l-1.37-1.37c-.4-.4-.92-.59-1.43-.59-.52 0-1.04.2-1.43.59L10.3 9.45l-7.72 7.72c-.78.78-.78 2.05 0 2.83L4 21.41c.39.39.9.59 1.41.59.51 0 1.02-.2 1.41-.59l7.78-7.78 2.81-2.81c.8-.78.8-2.07 0-2.86zM5.41 20L4 18.59l7.72-7.72 1.47 1.35L5.41 20z\"/>\n",
              "  </svg>\n",
              "      </button>\n",
              "      \n",
              "  <style>\n",
              "    .colab-df-container {\n",
              "      display:flex;\n",
              "      flex-wrap:wrap;\n",
              "      gap: 12px;\n",
              "    }\n",
              "\n",
              "    .colab-df-convert {\n",
              "      background-color: #E8F0FE;\n",
              "      border: none;\n",
              "      border-radius: 50%;\n",
              "      cursor: pointer;\n",
              "      display: none;\n",
              "      fill: #1967D2;\n",
              "      height: 32px;\n",
              "      padding: 0 0 0 0;\n",
              "      width: 32px;\n",
              "    }\n",
              "\n",
              "    .colab-df-convert:hover {\n",
              "      background-color: #E2EBFA;\n",
              "      box-shadow: 0px 1px 2px rgba(60, 64, 67, 0.3), 0px 1px 3px 1px rgba(60, 64, 67, 0.15);\n",
              "      fill: #174EA6;\n",
              "    }\n",
              "\n",
              "    [theme=dark] .colab-df-convert {\n",
              "      background-color: #3B4455;\n",
              "      fill: #D2E3FC;\n",
              "    }\n",
              "\n",
              "    [theme=dark] .colab-df-convert:hover {\n",
              "      background-color: #434B5C;\n",
              "      box-shadow: 0px 1px 3px 1px rgba(0, 0, 0, 0.15);\n",
              "      filter: drop-shadow(0px 1px 2px rgba(0, 0, 0, 0.3));\n",
              "      fill: #FFFFFF;\n",
              "    }\n",
              "  </style>\n",
              "\n",
              "      <script>\n",
              "        const buttonEl =\n",
              "          document.querySelector('#df-cbb8d798-8be6-4782-8c60-ef1b9ef43e03 button.colab-df-convert');\n",
              "        buttonEl.style.display =\n",
              "          google.colab.kernel.accessAllowed ? 'block' : 'none';\n",
              "\n",
              "        async function convertToInteractive(key) {\n",
              "          const element = document.querySelector('#df-cbb8d798-8be6-4782-8c60-ef1b9ef43e03');\n",
              "          const dataTable =\n",
              "            await google.colab.kernel.invokeFunction('convertToInteractive',\n",
              "                                                     [key], {});\n",
              "          if (!dataTable) return;\n",
              "\n",
              "          const docLinkHtml = 'Like what you see? Visit the ' +\n",
              "            '<a target=\"_blank\" href=https://colab.research.google.com/notebooks/data_table.ipynb>data table notebook</a>'\n",
              "            + ' to learn more about interactive tables.';\n",
              "          element.innerHTML = '';\n",
              "          dataTable['output_type'] = 'display_data';\n",
              "          await google.colab.output.renderOutput(dataTable, element);\n",
              "          const docLink = document.createElement('div');\n",
              "          docLink.innerHTML = docLinkHtml;\n",
              "          element.appendChild(docLink);\n",
              "        }\n",
              "      </script>\n",
              "    </div>\n",
              "  </div>\n",
              "  "
            ]
          },
          "metadata": {},
          "execution_count": 30
        }
      ],
      "source": [
        "embedding_df = pd.DataFrame(embeddings)\n",
        "\n",
        "merged_df = pd.concat([new_df, embedding_df], axis=1)\n",
        "merged_df"
      ]
    },
    {
      "cell_type": "code",
      "execution_count": null,
      "metadata": {
        "colab": {
          "base_uri": "https://localhost:8080/"
        },
        "id": "xW--w7mDt25q",
        "outputId": "94e7e3b5-6874-4c1e-ed2f-0e597447efff"
      },
      "outputs": [
        {
          "output_type": "execute_result",
          "data": {
            "text/plain": [
              "array([-1.9820000e-01, -3.7041062e-01,  4.7358093e-01,  8.6005872e-01,\n",
              "       -3.9891082e-01, -1.1162801e-01,  6.2613750e-01,  9.1816026e-01,\n",
              "        5.0398910e-01, -3.8859579e-01,  2.2155677e-01,  1.2393469e+00,\n",
              "        8.0629083e-04,  6.7041390e-02,  4.0893757e-01, -1.4273193e-02,\n",
              "       -5.7639682e-01,  3.5157937e-01,  1.1507690e-01, -4.3438309e-01,\n",
              "       -1.0280482e+00,  4.6868998e-01,  4.6294588e-01,  2.5207427e-01,\n",
              "        6.9809270e-01,  6.7191690e-01,  8.7334692e-02, -6.9352752e-01,\n",
              "       -7.1587853e-02, -6.2643182e-01, -7.5116098e-01, -6.9814539e-01,\n",
              "       -1.5035146e+00,  4.4731668e-01,  7.6715487e-01,  1.3129665e-01,\n",
              "        8.0330062e-01,  6.5389976e-02,  3.8453728e-02,  6.6165251e-01,\n",
              "        1.8777215e+00, -7.4422348e-01, -2.9458410e-01,  2.7346626e-01,\n",
              "        2.5272548e-01,  1.9322921e-01, -4.4891972e-02,  9.5892996e-02,\n",
              "       -3.4616691e-01, -6.2405097e-01,  6.7407005e-02,  2.9067662e-02,\n",
              "        4.4370535e-01,  1.5723726e+00, -8.3115011e-02, -3.1738839e-01,\n",
              "       -7.7412510e-01, -5.4752958e-01, -9.8548424e-01,  1.3703221e-01,\n",
              "       -1.9591510e-01, -1.1937678e+00, -4.1877639e-01, -8.8954806e-01],\n",
              "      dtype=float32)"
            ]
          },
          "metadata": {},
          "execution_count": 31
        }
      ],
      "source": [
        "temp_df = merged_df.loc[merged_df['digit'] == 0]\n",
        "values = temp_df.iloc[:, 2:].values\n",
        "values = np.sum(values, axis=0)\n",
        "values = values/len(temp_df)\n",
        "values"
      ]
    },
    {
      "cell_type": "code",
      "execution_count": null,
      "metadata": {
        "id": "yfamJGllSfxw"
      },
      "outputs": [],
      "source": [
        "embd_all_images = {}\n",
        "embd_all_images_avg = {}\n",
        "\n",
        "for i in range(0, 9+1):\n",
        "    temp_df = merged_df.loc[merged_df['digit'] == int(i)]\n",
        "    values = temp_df.iloc[:, 2:].values\n",
        "    values = np.sum(values, axis=0)\n",
        "\n",
        "    embd_all_images[i] = values\n",
        "    embd_all_images_avg[i] = values/len(temp_df)\n",
        "\n",
        "embd_all_images_df = pd.DataFrame(embd_all_images)\n",
        "embd_all_images_avg_df = pd.DataFrame(embd_all_images_avg)\n",
        "\n",
        "# embd_all_images_df.to_csv('/content/drive/MyDrive/ZSClassification/ZeroShotHandwrittenCharacterRecognition/BanglaNumtaDB/VAE/EMDB_VAEResnet/embd_all_images.csv', index=False)\n",
        "# embd_all_images_avg_df.to_csv('/content/drive/MyDrive/ZSClassification/ZeroShotHandwrittenCharacterRecognition/BanglaNumtaDB/VAE/EMDB_VAEResnet/embd_all_images_avg_df.csv', index=False)"
      ]
    },
    {
      "cell_type": "code",
      "source": [
        "embd_all_images_df"
      ],
      "metadata": {
        "colab": {
          "base_uri": "https://localhost:8080/"
        },
        "id": "4TPbug4TzSWj",
        "outputId": "c4feca49-4a9a-4a40-bb96-854f9c38c903"
      },
      "execution_count": null,
      "outputs": [
        {
          "output_type": "execute_result",
          "data": {
            "text/plain": [
              "              0            1            2            3            4  \\\n",
              "0   -391.445007  -644.260986   341.435059 -1054.342041 -1338.916260   \n",
              "1   -731.560974 -2283.714844 -3347.937256 -2095.855469 -2025.829834   \n",
              "2    935.322327  1493.186279  -250.589584   716.822510   477.399567   \n",
              "3   1698.615967   782.734863   -73.599388 -1357.329102   804.078247   \n",
              "4   -787.848877  -117.847702 -1604.522339    37.782928  -911.615295   \n",
              "..          ...          ...          ...          ...          ...   \n",
              "59   270.638611  -344.994080    79.854797  -206.023117  -752.086060   \n",
              "60  -386.932343  -715.003174 -1085.677002  -827.940979 -1525.580811   \n",
              "61 -2357.691406 -1328.819092   882.158203  -585.057068 -1083.296509   \n",
              "62  -827.083374   539.111694  1769.412598  1741.550781  1671.454834   \n",
              "63 -1756.857422 -1407.348267 -1981.595459 -1241.708862 -1801.241943   \n",
              "\n",
              "              5            6            7            8            9  \n",
              "0  -1578.067383 -1459.904907   -86.099075   772.645386   313.452881  \n",
              "1   -882.297729   -79.440269  -218.673737  -529.275513 -2505.912109  \n",
              "2    694.925293  1270.545654  -191.251556  1241.510742  1319.133423  \n",
              "3     11.754677 -1081.097168   974.441406  1018.285522  -855.393799  \n",
              "4  -1596.347656   -95.382683 -2075.830078  1159.852295   -76.369606  \n",
              "..          ...          ...          ...          ...          ...  \n",
              "59  -378.193176    93.419289   121.196884  -211.663635  -444.688232  \n",
              "60 -1051.665894  -324.921143 -1249.595215 -1345.070312  -842.130249  \n",
              "61   129.463348  -280.936066   313.181641  1164.356201   601.029785  \n",
              "62   615.999146  1262.984375   753.489990   752.659424  1565.438232  \n",
              "63 -1965.071777 -1073.251221 -1845.864624  -511.310547 -1176.200684  \n",
              "\n",
              "[64 rows x 10 columns]"
            ],
            "text/html": [
              "\n",
              "  <div id=\"df-ea9dd54d-f62a-4bc4-b7f5-909280a1b022\">\n",
              "    <div class=\"colab-df-container\">\n",
              "      <div>\n",
              "<style scoped>\n",
              "    .dataframe tbody tr th:only-of-type {\n",
              "        vertical-align: middle;\n",
              "    }\n",
              "\n",
              "    .dataframe tbody tr th {\n",
              "        vertical-align: top;\n",
              "    }\n",
              "\n",
              "    .dataframe thead th {\n",
              "        text-align: right;\n",
              "    }\n",
              "</style>\n",
              "<table border=\"1\" class=\"dataframe\">\n",
              "  <thead>\n",
              "    <tr style=\"text-align: right;\">\n",
              "      <th></th>\n",
              "      <th>0</th>\n",
              "      <th>1</th>\n",
              "      <th>2</th>\n",
              "      <th>3</th>\n",
              "      <th>4</th>\n",
              "      <th>5</th>\n",
              "      <th>6</th>\n",
              "      <th>7</th>\n",
              "      <th>8</th>\n",
              "      <th>9</th>\n",
              "    </tr>\n",
              "  </thead>\n",
              "  <tbody>\n",
              "    <tr>\n",
              "      <th>0</th>\n",
              "      <td>-391.445007</td>\n",
              "      <td>-644.260986</td>\n",
              "      <td>341.435059</td>\n",
              "      <td>-1054.342041</td>\n",
              "      <td>-1338.916260</td>\n",
              "      <td>-1578.067383</td>\n",
              "      <td>-1459.904907</td>\n",
              "      <td>-86.099075</td>\n",
              "      <td>772.645386</td>\n",
              "      <td>313.452881</td>\n",
              "    </tr>\n",
              "    <tr>\n",
              "      <th>1</th>\n",
              "      <td>-731.560974</td>\n",
              "      <td>-2283.714844</td>\n",
              "      <td>-3347.937256</td>\n",
              "      <td>-2095.855469</td>\n",
              "      <td>-2025.829834</td>\n",
              "      <td>-882.297729</td>\n",
              "      <td>-79.440269</td>\n",
              "      <td>-218.673737</td>\n",
              "      <td>-529.275513</td>\n",
              "      <td>-2505.912109</td>\n",
              "    </tr>\n",
              "    <tr>\n",
              "      <th>2</th>\n",
              "      <td>935.322327</td>\n",
              "      <td>1493.186279</td>\n",
              "      <td>-250.589584</td>\n",
              "      <td>716.822510</td>\n",
              "      <td>477.399567</td>\n",
              "      <td>694.925293</td>\n",
              "      <td>1270.545654</td>\n",
              "      <td>-191.251556</td>\n",
              "      <td>1241.510742</td>\n",
              "      <td>1319.133423</td>\n",
              "    </tr>\n",
              "    <tr>\n",
              "      <th>3</th>\n",
              "      <td>1698.615967</td>\n",
              "      <td>782.734863</td>\n",
              "      <td>-73.599388</td>\n",
              "      <td>-1357.329102</td>\n",
              "      <td>804.078247</td>\n",
              "      <td>11.754677</td>\n",
              "      <td>-1081.097168</td>\n",
              "      <td>974.441406</td>\n",
              "      <td>1018.285522</td>\n",
              "      <td>-855.393799</td>\n",
              "    </tr>\n",
              "    <tr>\n",
              "      <th>4</th>\n",
              "      <td>-787.848877</td>\n",
              "      <td>-117.847702</td>\n",
              "      <td>-1604.522339</td>\n",
              "      <td>37.782928</td>\n",
              "      <td>-911.615295</td>\n",
              "      <td>-1596.347656</td>\n",
              "      <td>-95.382683</td>\n",
              "      <td>-2075.830078</td>\n",
              "      <td>1159.852295</td>\n",
              "      <td>-76.369606</td>\n",
              "    </tr>\n",
              "    <tr>\n",
              "      <th>...</th>\n",
              "      <td>...</td>\n",
              "      <td>...</td>\n",
              "      <td>...</td>\n",
              "      <td>...</td>\n",
              "      <td>...</td>\n",
              "      <td>...</td>\n",
              "      <td>...</td>\n",
              "      <td>...</td>\n",
              "      <td>...</td>\n",
              "      <td>...</td>\n",
              "    </tr>\n",
              "    <tr>\n",
              "      <th>59</th>\n",
              "      <td>270.638611</td>\n",
              "      <td>-344.994080</td>\n",
              "      <td>79.854797</td>\n",
              "      <td>-206.023117</td>\n",
              "      <td>-752.086060</td>\n",
              "      <td>-378.193176</td>\n",
              "      <td>93.419289</td>\n",
              "      <td>121.196884</td>\n",
              "      <td>-211.663635</td>\n",
              "      <td>-444.688232</td>\n",
              "    </tr>\n",
              "    <tr>\n",
              "      <th>60</th>\n",
              "      <td>-386.932343</td>\n",
              "      <td>-715.003174</td>\n",
              "      <td>-1085.677002</td>\n",
              "      <td>-827.940979</td>\n",
              "      <td>-1525.580811</td>\n",
              "      <td>-1051.665894</td>\n",
              "      <td>-324.921143</td>\n",
              "      <td>-1249.595215</td>\n",
              "      <td>-1345.070312</td>\n",
              "      <td>-842.130249</td>\n",
              "    </tr>\n",
              "    <tr>\n",
              "      <th>61</th>\n",
              "      <td>-2357.691406</td>\n",
              "      <td>-1328.819092</td>\n",
              "      <td>882.158203</td>\n",
              "      <td>-585.057068</td>\n",
              "      <td>-1083.296509</td>\n",
              "      <td>129.463348</td>\n",
              "      <td>-280.936066</td>\n",
              "      <td>313.181641</td>\n",
              "      <td>1164.356201</td>\n",
              "      <td>601.029785</td>\n",
              "    </tr>\n",
              "    <tr>\n",
              "      <th>62</th>\n",
              "      <td>-827.083374</td>\n",
              "      <td>539.111694</td>\n",
              "      <td>1769.412598</td>\n",
              "      <td>1741.550781</td>\n",
              "      <td>1671.454834</td>\n",
              "      <td>615.999146</td>\n",
              "      <td>1262.984375</td>\n",
              "      <td>753.489990</td>\n",
              "      <td>752.659424</td>\n",
              "      <td>1565.438232</td>\n",
              "    </tr>\n",
              "    <tr>\n",
              "      <th>63</th>\n",
              "      <td>-1756.857422</td>\n",
              "      <td>-1407.348267</td>\n",
              "      <td>-1981.595459</td>\n",
              "      <td>-1241.708862</td>\n",
              "      <td>-1801.241943</td>\n",
              "      <td>-1965.071777</td>\n",
              "      <td>-1073.251221</td>\n",
              "      <td>-1845.864624</td>\n",
              "      <td>-511.310547</td>\n",
              "      <td>-1176.200684</td>\n",
              "    </tr>\n",
              "  </tbody>\n",
              "</table>\n",
              "<p>64 rows × 10 columns</p>\n",
              "</div>\n",
              "      <button class=\"colab-df-convert\" onclick=\"convertToInteractive('df-ea9dd54d-f62a-4bc4-b7f5-909280a1b022')\"\n",
              "              title=\"Convert this dataframe to an interactive table.\"\n",
              "              style=\"display:none;\">\n",
              "        \n",
              "  <svg xmlns=\"http://www.w3.org/2000/svg\" height=\"24px\"viewBox=\"0 0 24 24\"\n",
              "       width=\"24px\">\n",
              "    <path d=\"M0 0h24v24H0V0z\" fill=\"none\"/>\n",
              "    <path d=\"M18.56 5.44l.94 2.06.94-2.06 2.06-.94-2.06-.94-.94-2.06-.94 2.06-2.06.94zm-11 1L8.5 8.5l.94-2.06 2.06-.94-2.06-.94L8.5 2.5l-.94 2.06-2.06.94zm10 10l.94 2.06.94-2.06 2.06-.94-2.06-.94-.94-2.06-.94 2.06-2.06.94z\"/><path d=\"M17.41 7.96l-1.37-1.37c-.4-.4-.92-.59-1.43-.59-.52 0-1.04.2-1.43.59L10.3 9.45l-7.72 7.72c-.78.78-.78 2.05 0 2.83L4 21.41c.39.39.9.59 1.41.59.51 0 1.02-.2 1.41-.59l7.78-7.78 2.81-2.81c.8-.78.8-2.07 0-2.86zM5.41 20L4 18.59l7.72-7.72 1.47 1.35L5.41 20z\"/>\n",
              "  </svg>\n",
              "      </button>\n",
              "      \n",
              "  <style>\n",
              "    .colab-df-container {\n",
              "      display:flex;\n",
              "      flex-wrap:wrap;\n",
              "      gap: 12px;\n",
              "    }\n",
              "\n",
              "    .colab-df-convert {\n",
              "      background-color: #E8F0FE;\n",
              "      border: none;\n",
              "      border-radius: 50%;\n",
              "      cursor: pointer;\n",
              "      display: none;\n",
              "      fill: #1967D2;\n",
              "      height: 32px;\n",
              "      padding: 0 0 0 0;\n",
              "      width: 32px;\n",
              "    }\n",
              "\n",
              "    .colab-df-convert:hover {\n",
              "      background-color: #E2EBFA;\n",
              "      box-shadow: 0px 1px 2px rgba(60, 64, 67, 0.3), 0px 1px 3px 1px rgba(60, 64, 67, 0.15);\n",
              "      fill: #174EA6;\n",
              "    }\n",
              "\n",
              "    [theme=dark] .colab-df-convert {\n",
              "      background-color: #3B4455;\n",
              "      fill: #D2E3FC;\n",
              "    }\n",
              "\n",
              "    [theme=dark] .colab-df-convert:hover {\n",
              "      background-color: #434B5C;\n",
              "      box-shadow: 0px 1px 3px 1px rgba(0, 0, 0, 0.15);\n",
              "      filter: drop-shadow(0px 1px 2px rgba(0, 0, 0, 0.3));\n",
              "      fill: #FFFFFF;\n",
              "    }\n",
              "  </style>\n",
              "\n",
              "      <script>\n",
              "        const buttonEl =\n",
              "          document.querySelector('#df-ea9dd54d-f62a-4bc4-b7f5-909280a1b022 button.colab-df-convert');\n",
              "        buttonEl.style.display =\n",
              "          google.colab.kernel.accessAllowed ? 'block' : 'none';\n",
              "\n",
              "        async function convertToInteractive(key) {\n",
              "          const element = document.querySelector('#df-ea9dd54d-f62a-4bc4-b7f5-909280a1b022');\n",
              "          const dataTable =\n",
              "            await google.colab.kernel.invokeFunction('convertToInteractive',\n",
              "                                                     [key], {});\n",
              "          if (!dataTable) return;\n",
              "\n",
              "          const docLinkHtml = 'Like what you see? Visit the ' +\n",
              "            '<a target=\"_blank\" href=https://colab.research.google.com/notebooks/data_table.ipynb>data table notebook</a>'\n",
              "            + ' to learn more about interactive tables.';\n",
              "          element.innerHTML = '';\n",
              "          dataTable['output_type'] = 'display_data';\n",
              "          await google.colab.output.renderOutput(dataTable, element);\n",
              "          const docLink = document.createElement('div');\n",
              "          docLink.innerHTML = docLinkHtml;\n",
              "          element.appendChild(docLink);\n",
              "        }\n",
              "      </script>\n",
              "    </div>\n",
              "  </div>\n",
              "  "
            ]
          },
          "metadata": {},
          "execution_count": 33
        }
      ]
    },
    {
      "cell_type": "code",
      "source": [
        "embd_all_images_avg_df"
      ],
      "metadata": {
        "colab": {
          "base_uri": "https://localhost:8080/"
        },
        "id": "KNcb8PmxzT4r",
        "outputId": "e9f25f9f-cd2c-45d5-f3e0-c26cb26a6260"
      },
      "execution_count": null,
      "outputs": [
        {
          "output_type": "execute_result",
          "data": {
            "text/plain": [
              "           0         1         2         3         4         5         6  \\\n",
              "0  -0.198200 -0.328202  0.172094 -0.533574 -0.675538 -0.803088 -0.736210   \n",
              "1  -0.370411 -1.163380 -1.687468 -1.060656 -1.022114 -0.449006 -0.040061   \n",
              "2   0.473581  0.760665 -0.126305  0.362764  0.240868  0.353652  0.640719   \n",
              "3   0.860059  0.398744 -0.037096 -0.686907  0.405690  0.005982 -0.545183   \n",
              "4  -0.398911 -0.060034 -0.808731  0.019121 -0.459947 -0.812391 -0.048100   \n",
              "..       ...       ...       ...       ...       ...       ...       ...   \n",
              "59  0.137032 -0.175748  0.040249 -0.104263 -0.379458 -0.192465  0.047110   \n",
              "60 -0.195915 -0.364240 -0.547216 -0.418998 -0.769718 -0.535199 -0.163853   \n",
              "61 -1.193768 -0.676933  0.444636 -0.296082 -0.546567  0.065885 -0.141672   \n",
              "62 -0.418776  0.274637  0.891841  0.881352  0.843317  0.313486  0.636906   \n",
              "63 -0.889548 -0.716937 -0.998788 -0.628395 -0.908800 -1.000036 -0.541226   \n",
              "\n",
              "           7         8         9  \n",
              "0  -0.043928  0.396228  0.159599  \n",
              "1  -0.111568 -0.271423 -1.275923  \n",
              "2  -0.097577  0.636672  0.671657  \n",
              "3   0.497164  0.522198 -0.435537  \n",
              "4  -1.059097  0.594796 -0.038885  \n",
              "..       ...       ...       ...  \n",
              "59  0.061835 -0.108545 -0.226420  \n",
              "60 -0.637549 -0.689780 -0.428783  \n",
              "61  0.159787  0.597106  0.306023  \n",
              "62  0.384434  0.385979  0.797066  \n",
              "63 -0.941768 -0.262211 -0.598880  \n",
              "\n",
              "[64 rows x 10 columns]"
            ],
            "text/html": [
              "\n",
              "  <div id=\"df-30e1bd9b-21b4-4ca0-87ef-bfd6360c375b\">\n",
              "    <div class=\"colab-df-container\">\n",
              "      <div>\n",
              "<style scoped>\n",
              "    .dataframe tbody tr th:only-of-type {\n",
              "        vertical-align: middle;\n",
              "    }\n",
              "\n",
              "    .dataframe tbody tr th {\n",
              "        vertical-align: top;\n",
              "    }\n",
              "\n",
              "    .dataframe thead th {\n",
              "        text-align: right;\n",
              "    }\n",
              "</style>\n",
              "<table border=\"1\" class=\"dataframe\">\n",
              "  <thead>\n",
              "    <tr style=\"text-align: right;\">\n",
              "      <th></th>\n",
              "      <th>0</th>\n",
              "      <th>1</th>\n",
              "      <th>2</th>\n",
              "      <th>3</th>\n",
              "      <th>4</th>\n",
              "      <th>5</th>\n",
              "      <th>6</th>\n",
              "      <th>7</th>\n",
              "      <th>8</th>\n",
              "      <th>9</th>\n",
              "    </tr>\n",
              "  </thead>\n",
              "  <tbody>\n",
              "    <tr>\n",
              "      <th>0</th>\n",
              "      <td>-0.198200</td>\n",
              "      <td>-0.328202</td>\n",
              "      <td>0.172094</td>\n",
              "      <td>-0.533574</td>\n",
              "      <td>-0.675538</td>\n",
              "      <td>-0.803088</td>\n",
              "      <td>-0.736210</td>\n",
              "      <td>-0.043928</td>\n",
              "      <td>0.396228</td>\n",
              "      <td>0.159599</td>\n",
              "    </tr>\n",
              "    <tr>\n",
              "      <th>1</th>\n",
              "      <td>-0.370411</td>\n",
              "      <td>-1.163380</td>\n",
              "      <td>-1.687468</td>\n",
              "      <td>-1.060656</td>\n",
              "      <td>-1.022114</td>\n",
              "      <td>-0.449006</td>\n",
              "      <td>-0.040061</td>\n",
              "      <td>-0.111568</td>\n",
              "      <td>-0.271423</td>\n",
              "      <td>-1.275923</td>\n",
              "    </tr>\n",
              "    <tr>\n",
              "      <th>2</th>\n",
              "      <td>0.473581</td>\n",
              "      <td>0.760665</td>\n",
              "      <td>-0.126305</td>\n",
              "      <td>0.362764</td>\n",
              "      <td>0.240868</td>\n",
              "      <td>0.353652</td>\n",
              "      <td>0.640719</td>\n",
              "      <td>-0.097577</td>\n",
              "      <td>0.636672</td>\n",
              "      <td>0.671657</td>\n",
              "    </tr>\n",
              "    <tr>\n",
              "      <th>3</th>\n",
              "      <td>0.860059</td>\n",
              "      <td>0.398744</td>\n",
              "      <td>-0.037096</td>\n",
              "      <td>-0.686907</td>\n",
              "      <td>0.405690</td>\n",
              "      <td>0.005982</td>\n",
              "      <td>-0.545183</td>\n",
              "      <td>0.497164</td>\n",
              "      <td>0.522198</td>\n",
              "      <td>-0.435537</td>\n",
              "    </tr>\n",
              "    <tr>\n",
              "      <th>4</th>\n",
              "      <td>-0.398911</td>\n",
              "      <td>-0.060034</td>\n",
              "      <td>-0.808731</td>\n",
              "      <td>0.019121</td>\n",
              "      <td>-0.459947</td>\n",
              "      <td>-0.812391</td>\n",
              "      <td>-0.048100</td>\n",
              "      <td>-1.059097</td>\n",
              "      <td>0.594796</td>\n",
              "      <td>-0.038885</td>\n",
              "    </tr>\n",
              "    <tr>\n",
              "      <th>...</th>\n",
              "      <td>...</td>\n",
              "      <td>...</td>\n",
              "      <td>...</td>\n",
              "      <td>...</td>\n",
              "      <td>...</td>\n",
              "      <td>...</td>\n",
              "      <td>...</td>\n",
              "      <td>...</td>\n",
              "      <td>...</td>\n",
              "      <td>...</td>\n",
              "    </tr>\n",
              "    <tr>\n",
              "      <th>59</th>\n",
              "      <td>0.137032</td>\n",
              "      <td>-0.175748</td>\n",
              "      <td>0.040249</td>\n",
              "      <td>-0.104263</td>\n",
              "      <td>-0.379458</td>\n",
              "      <td>-0.192465</td>\n",
              "      <td>0.047110</td>\n",
              "      <td>0.061835</td>\n",
              "      <td>-0.108545</td>\n",
              "      <td>-0.226420</td>\n",
              "    </tr>\n",
              "    <tr>\n",
              "      <th>60</th>\n",
              "      <td>-0.195915</td>\n",
              "      <td>-0.364240</td>\n",
              "      <td>-0.547216</td>\n",
              "      <td>-0.418998</td>\n",
              "      <td>-0.769718</td>\n",
              "      <td>-0.535199</td>\n",
              "      <td>-0.163853</td>\n",
              "      <td>-0.637549</td>\n",
              "      <td>-0.689780</td>\n",
              "      <td>-0.428783</td>\n",
              "    </tr>\n",
              "    <tr>\n",
              "      <th>61</th>\n",
              "      <td>-1.193768</td>\n",
              "      <td>-0.676933</td>\n",
              "      <td>0.444636</td>\n",
              "      <td>-0.296082</td>\n",
              "      <td>-0.546567</td>\n",
              "      <td>0.065885</td>\n",
              "      <td>-0.141672</td>\n",
              "      <td>0.159787</td>\n",
              "      <td>0.597106</td>\n",
              "      <td>0.306023</td>\n",
              "    </tr>\n",
              "    <tr>\n",
              "      <th>62</th>\n",
              "      <td>-0.418776</td>\n",
              "      <td>0.274637</td>\n",
              "      <td>0.891841</td>\n",
              "      <td>0.881352</td>\n",
              "      <td>0.843317</td>\n",
              "      <td>0.313486</td>\n",
              "      <td>0.636906</td>\n",
              "      <td>0.384434</td>\n",
              "      <td>0.385979</td>\n",
              "      <td>0.797066</td>\n",
              "    </tr>\n",
              "    <tr>\n",
              "      <th>63</th>\n",
              "      <td>-0.889548</td>\n",
              "      <td>-0.716937</td>\n",
              "      <td>-0.998788</td>\n",
              "      <td>-0.628395</td>\n",
              "      <td>-0.908800</td>\n",
              "      <td>-1.000036</td>\n",
              "      <td>-0.541226</td>\n",
              "      <td>-0.941768</td>\n",
              "      <td>-0.262211</td>\n",
              "      <td>-0.598880</td>\n",
              "    </tr>\n",
              "  </tbody>\n",
              "</table>\n",
              "<p>64 rows × 10 columns</p>\n",
              "</div>\n",
              "      <button class=\"colab-df-convert\" onclick=\"convertToInteractive('df-30e1bd9b-21b4-4ca0-87ef-bfd6360c375b')\"\n",
              "              title=\"Convert this dataframe to an interactive table.\"\n",
              "              style=\"display:none;\">\n",
              "        \n",
              "  <svg xmlns=\"http://www.w3.org/2000/svg\" height=\"24px\"viewBox=\"0 0 24 24\"\n",
              "       width=\"24px\">\n",
              "    <path d=\"M0 0h24v24H0V0z\" fill=\"none\"/>\n",
              "    <path d=\"M18.56 5.44l.94 2.06.94-2.06 2.06-.94-2.06-.94-.94-2.06-.94 2.06-2.06.94zm-11 1L8.5 8.5l.94-2.06 2.06-.94-2.06-.94L8.5 2.5l-.94 2.06-2.06.94zm10 10l.94 2.06.94-2.06 2.06-.94-2.06-.94-.94-2.06-.94 2.06-2.06.94z\"/><path d=\"M17.41 7.96l-1.37-1.37c-.4-.4-.92-.59-1.43-.59-.52 0-1.04.2-1.43.59L10.3 9.45l-7.72 7.72c-.78.78-.78 2.05 0 2.83L4 21.41c.39.39.9.59 1.41.59.51 0 1.02-.2 1.41-.59l7.78-7.78 2.81-2.81c.8-.78.8-2.07 0-2.86zM5.41 20L4 18.59l7.72-7.72 1.47 1.35L5.41 20z\"/>\n",
              "  </svg>\n",
              "      </button>\n",
              "      \n",
              "  <style>\n",
              "    .colab-df-container {\n",
              "      display:flex;\n",
              "      flex-wrap:wrap;\n",
              "      gap: 12px;\n",
              "    }\n",
              "\n",
              "    .colab-df-convert {\n",
              "      background-color: #E8F0FE;\n",
              "      border: none;\n",
              "      border-radius: 50%;\n",
              "      cursor: pointer;\n",
              "      display: none;\n",
              "      fill: #1967D2;\n",
              "      height: 32px;\n",
              "      padding: 0 0 0 0;\n",
              "      width: 32px;\n",
              "    }\n",
              "\n",
              "    .colab-df-convert:hover {\n",
              "      background-color: #E2EBFA;\n",
              "      box-shadow: 0px 1px 2px rgba(60, 64, 67, 0.3), 0px 1px 3px 1px rgba(60, 64, 67, 0.15);\n",
              "      fill: #174EA6;\n",
              "    }\n",
              "\n",
              "    [theme=dark] .colab-df-convert {\n",
              "      background-color: #3B4455;\n",
              "      fill: #D2E3FC;\n",
              "    }\n",
              "\n",
              "    [theme=dark] .colab-df-convert:hover {\n",
              "      background-color: #434B5C;\n",
              "      box-shadow: 0px 1px 3px 1px rgba(0, 0, 0, 0.15);\n",
              "      filter: drop-shadow(0px 1px 2px rgba(0, 0, 0, 0.3));\n",
              "      fill: #FFFFFF;\n",
              "    }\n",
              "  </style>\n",
              "\n",
              "      <script>\n",
              "        const buttonEl =\n",
              "          document.querySelector('#df-30e1bd9b-21b4-4ca0-87ef-bfd6360c375b button.colab-df-convert');\n",
              "        buttonEl.style.display =\n",
              "          google.colab.kernel.accessAllowed ? 'block' : 'none';\n",
              "\n",
              "        async function convertToInteractive(key) {\n",
              "          const element = document.querySelector('#df-30e1bd9b-21b4-4ca0-87ef-bfd6360c375b');\n",
              "          const dataTable =\n",
              "            await google.colab.kernel.invokeFunction('convertToInteractive',\n",
              "                                                     [key], {});\n",
              "          if (!dataTable) return;\n",
              "\n",
              "          const docLinkHtml = 'Like what you see? Visit the ' +\n",
              "            '<a target=\"_blank\" href=https://colab.research.google.com/notebooks/data_table.ipynb>data table notebook</a>'\n",
              "            + ' to learn more about interactive tables.';\n",
              "          element.innerHTML = '';\n",
              "          dataTable['output_type'] = 'display_data';\n",
              "          await google.colab.output.renderOutput(dataTable, element);\n",
              "          const docLink = document.createElement('div');\n",
              "          docLink.innerHTML = docLinkHtml;\n",
              "          element.appendChild(docLink);\n",
              "        }\n",
              "      </script>\n",
              "    </div>\n",
              "  </div>\n",
              "  "
            ]
          },
          "metadata": {},
          "execution_count": 34
        }
      ]
    },
    {
      "cell_type": "code",
      "execution_count": null,
      "metadata": {
        "id": "SfBq1sOkruN9"
      },
      "outputs": [],
      "source": [
        "# pd.read_csv('/content/drive/MyDrive/ZSClassification/ZeroShotHandwrittenCharacterRecognition/BanglaNumtaDB/VAE/EMDB_VAEResnet/embd_all_images_avg_df.csv')"
      ]
    },
    {
      "cell_type": "code",
      "execution_count": null,
      "metadata": {
        "id": "pR3CInPyUxca"
      },
      "outputs": [],
      "source": [
        "# pd.read_csv('/content/drive/MyDrive/ZSClassification/ZeroShotHandwrittenCharacterRecognition/BanglaNumtaDB/VAE/EMDB_VAEResnet/embd_all_images.csv')"
      ]
    },
    {
      "cell_type": "code",
      "execution_count": null,
      "metadata": {
        "id": "TZ9YXsAJYKCQ"
      },
      "outputs": [],
      "source": []
    }
  ],
  "metadata": {
    "accelerator": "GPU",
    "colab": {
      "provenance": []
    },
    "gpuClass": "standard",
    "kernelspec": {
      "display_name": "Python 3",
      "name": "python3"
    },
    "language_info": {
      "name": "python"
    }
  },
  "nbformat": 4,
  "nbformat_minor": 0
}